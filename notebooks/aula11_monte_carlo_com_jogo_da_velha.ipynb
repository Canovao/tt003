{
  "nbformat": 4,
  "nbformat_minor": 0,
  "metadata": {
    "colab": {
      "provenance": []
    },
    "kernelspec": {
      "name": "python3",
      "display_name": "Python 3"
    },
    "widgets": {
      "application/vnd.jupyter.widget-state+json": {
        "ec577471fa2749a68875810b09a7aa6f": {
          "model_module": "@jupyter-widgets/controls",
          "model_name": "VBoxModel",
          "model_module_version": "1.5.0",
          "state": {
            "_dom_classes": [
              "widget-interact"
            ],
            "_model_module": "@jupyter-widgets/controls",
            "_model_module_version": "1.5.0",
            "_model_name": "VBoxModel",
            "_view_count": null,
            "_view_module": "@jupyter-widgets/controls",
            "_view_module_version": "1.5.0",
            "_view_name": "VBoxView",
            "box_style": "",
            "children": [
              "IPY_MODEL_eb38dbf437334983b48d9b3b90c45cf7",
              "IPY_MODEL_79e40d6a16ff4b5688b504dea491760e"
            ],
            "layout": "IPY_MODEL_f38f90cf238441059140a6b58f303ee4"
          }
        },
        "eb38dbf437334983b48d9b3b90c45cf7": {
          "model_module": "@jupyter-widgets/controls",
          "model_name": "IntSliderModel",
          "model_module_version": "1.5.0",
          "state": {
            "_dom_classes": [],
            "_model_module": "@jupyter-widgets/controls",
            "_model_module_version": "1.5.0",
            "_model_name": "IntSliderModel",
            "_view_count": null,
            "_view_module": "@jupyter-widgets/controls",
            "_view_module_version": "1.5.0",
            "_view_name": "IntSliderView",
            "continuous_update": true,
            "description": "frame",
            "description_tooltip": null,
            "disabled": false,
            "layout": "IPY_MODEL_aa19d2ff438941aa9a44eb106d3f1886",
            "max": 7,
            "min": 0,
            "orientation": "horizontal",
            "readout": true,
            "readout_format": "d",
            "step": 1,
            "style": "IPY_MODEL_7a3e15f9663347cca6f40324477a9d73",
            "value": 3
          }
        },
        "79e40d6a16ff4b5688b504dea491760e": {
          "model_module": "@jupyter-widgets/output",
          "model_name": "OutputModel",
          "model_module_version": "1.0.0",
          "state": {
            "_dom_classes": [],
            "_model_module": "@jupyter-widgets/output",
            "_model_module_version": "1.0.0",
            "_model_name": "OutputModel",
            "_view_count": null,
            "_view_module": "@jupyter-widgets/output",
            "_view_module_version": "1.0.0",
            "_view_name": "OutputView",
            "layout": "IPY_MODEL_dd399764f76a476ba3e350721d784eae",
            "msg_id": "",
            "outputs": [
              {
                "output_type": "display_data",
                "data": {
                  "text/plain": "<PIL.Image.Image image mode=RGB size=150x150>",
                  "image/png": "iVBORw0KGgoAAAANSUhEUgAAAJYAAACWCAIAAACzY+a1AAAEc0lEQVR4nO2d2ZabMBBEy5z5cD49D3Y8xAahpbvVpdR9ysygrS8CCQnywF/2fUcCjtXorlIh4XieSQL15uf9r33fp1dupAKVaU1OkVRsxx/mNmmkf/SlzXDWjrN9tGFWkyY6YBf5g682xDepo7hyko574fP3jC5fF9KJfbGj6IKG2/OvfAyxQkyyaOKvxtxpPqep6CyWhjPejbHyZ1sNkzwj2T5+DrM47s/wnv2dFZHFT4UIsWjiz7A+YUV4cKIQzo3J6S+4IEPOFcKtMZn9TSlunEuFcGjMeIZTxsnJKSmEqcW+rDJEM0MdCtwohJFFj0xcSa7tyL1CDAvoTn48Mj6mc0uvp0ohjDQ0JRSV1CoEw2Dy/6RBIRqV+A2FwqA459oUolqM+l8YzQpRoUf+IulRiKIk7wcCweQ//zoV4kKV+l88/QpxJ0z+YhhSiOrhjPBjVCH4V73ZkUJ6dCGlR8MZejSpoEdT+9Sl16AHbPToMTc9WmzKWG4TWvKlRxsv6NH2p6Sl16NNiPPLGuRGod+QpDKrDKHMUIcCJYXek/SODGOimdzZB5cKnYYh+Ye1dOOvc4Wuzchskc4f9IpocBEefCrMfL5/JzG8vJP6gz6X4JRnJL8Kp5yGVhY7euRVKi5/AB57gqXaq+IK1SjX0DVhNsevD3gdfxVfxb4+hC735QwZ2ab7GynXZERjOCwSQgjByCPhbSDVQD9VZU5p2HgxEa5BVjAcCjF71T4zqRVOnPAkmWvVkFoheB77TSS7QjA8fJ8LgULkXgKbDodCaMn3GhqFyLcdJAlMCpFpU1YeyBQi5dbIufAphGnQ2f2BVCGMQr+AP/AqxLCANfyBWiEGNCzjD+wKkXVXcST0CtGoZDF/WEMhqsWs5w/LKESFniX9YSWFKEpa1R8WU4gLVQv7w3oKcSdsMX9YUiFMN+rnZ02FYNg8aIUU0rOmQl1IudFwhhtNKrjR1J4bPWDjRo+5udFiEzda8uVW2C1jJYvECgc1LGORVaGJgDUsUio0DP0CFvkUmged3SKZQqdwU1tkUugaaF6LNAoDQkxqkUNhWHAZLRIoDA4rncXsCqcElMtiaoUTQ0lkMbXCI/FBzKztCIfCWdFksSiEEGKEtq8CD94bKpO/D0t1K8pZKzz/n4oaTOq9n+3qFIPcKyxHvPDXqz9JpC03CssaKtOeHrzvuyyaUFL4HeK+oF+5lEUTLqf2Vv688xTnCv26y3dWsjjIiUItrnLxqVCLq3T8o1CLq4w0DGc8kLZxfhVmiGaGOtBRNSJ1RdoGeSk8xnHu+riMtsKxai8KbNCJT87NvDAMnUbd6EJKjxTSs+UZDepa2od6IT1SSI8U0iOF9EghPVJIjxTSI4X0aGpPj3ohPVJIjxab6NGSLz26kNKj7U/0aBMiPdoKTI825NOj12Lo0ctp9OgVUXr0ojY9+lwCPTcfLbnqMU2hvzpY/ky4/3TQaaBrXJYNyZ8VtR/wMuxJkmdL22f0BqMveR7UKnzSLVLy/PgDtt2RYoztTvYAAAAASUVORK5CYII=\n"
                },
                "metadata": {}
              }
            ]
          }
        },
        "f38f90cf238441059140a6b58f303ee4": {
          "model_module": "@jupyter-widgets/base",
          "model_name": "LayoutModel",
          "model_module_version": "1.2.0",
          "state": {
            "_model_module": "@jupyter-widgets/base",
            "_model_module_version": "1.2.0",
            "_model_name": "LayoutModel",
            "_view_count": null,
            "_view_module": "@jupyter-widgets/base",
            "_view_module_version": "1.2.0",
            "_view_name": "LayoutView",
            "align_content": null,
            "align_items": null,
            "align_self": null,
            "border": null,
            "bottom": null,
            "display": null,
            "flex": null,
            "flex_flow": null,
            "grid_area": null,
            "grid_auto_columns": null,
            "grid_auto_flow": null,
            "grid_auto_rows": null,
            "grid_column": null,
            "grid_gap": null,
            "grid_row": null,
            "grid_template_areas": null,
            "grid_template_columns": null,
            "grid_template_rows": null,
            "height": null,
            "justify_content": null,
            "justify_items": null,
            "left": null,
            "margin": null,
            "max_height": null,
            "max_width": null,
            "min_height": null,
            "min_width": null,
            "object_fit": null,
            "object_position": null,
            "order": null,
            "overflow": null,
            "overflow_x": null,
            "overflow_y": null,
            "padding": null,
            "right": null,
            "top": null,
            "visibility": null,
            "width": null
          }
        },
        "aa19d2ff438941aa9a44eb106d3f1886": {
          "model_module": "@jupyter-widgets/base",
          "model_name": "LayoutModel",
          "model_module_version": "1.2.0",
          "state": {
            "_model_module": "@jupyter-widgets/base",
            "_model_module_version": "1.2.0",
            "_model_name": "LayoutModel",
            "_view_count": null,
            "_view_module": "@jupyter-widgets/base",
            "_view_module_version": "1.2.0",
            "_view_name": "LayoutView",
            "align_content": null,
            "align_items": null,
            "align_self": null,
            "border": null,
            "bottom": null,
            "display": null,
            "flex": null,
            "flex_flow": null,
            "grid_area": null,
            "grid_auto_columns": null,
            "grid_auto_flow": null,
            "grid_auto_rows": null,
            "grid_column": null,
            "grid_gap": null,
            "grid_row": null,
            "grid_template_areas": null,
            "grid_template_columns": null,
            "grid_template_rows": null,
            "height": null,
            "justify_content": null,
            "justify_items": null,
            "left": null,
            "margin": null,
            "max_height": null,
            "max_width": null,
            "min_height": null,
            "min_width": null,
            "object_fit": null,
            "object_position": null,
            "order": null,
            "overflow": null,
            "overflow_x": null,
            "overflow_y": null,
            "padding": null,
            "right": null,
            "top": null,
            "visibility": null,
            "width": null
          }
        },
        "7a3e15f9663347cca6f40324477a9d73": {
          "model_module": "@jupyter-widgets/controls",
          "model_name": "SliderStyleModel",
          "model_module_version": "1.5.0",
          "state": {
            "_model_module": "@jupyter-widgets/controls",
            "_model_module_version": "1.5.0",
            "_model_name": "SliderStyleModel",
            "_view_count": null,
            "_view_module": "@jupyter-widgets/base",
            "_view_module_version": "1.2.0",
            "_view_name": "StyleView",
            "description_width": "",
            "handle_color": null
          }
        },
        "dd399764f76a476ba3e350721d784eae": {
          "model_module": "@jupyter-widgets/base",
          "model_name": "LayoutModel",
          "model_module_version": "1.2.0",
          "state": {
            "_model_module": "@jupyter-widgets/base",
            "_model_module_version": "1.2.0",
            "_model_name": "LayoutModel",
            "_view_count": null,
            "_view_module": "@jupyter-widgets/base",
            "_view_module_version": "1.2.0",
            "_view_name": "LayoutView",
            "align_content": null,
            "align_items": null,
            "align_self": null,
            "border": null,
            "bottom": null,
            "display": null,
            "flex": null,
            "flex_flow": null,
            "grid_area": null,
            "grid_auto_columns": null,
            "grid_auto_flow": null,
            "grid_auto_rows": null,
            "grid_column": null,
            "grid_gap": null,
            "grid_row": null,
            "grid_template_areas": null,
            "grid_template_columns": null,
            "grid_template_rows": null,
            "height": null,
            "justify_content": null,
            "justify_items": null,
            "left": null,
            "margin": null,
            "max_height": null,
            "max_width": null,
            "min_height": null,
            "min_width": null,
            "object_fit": null,
            "object_position": null,
            "order": null,
            "overflow": null,
            "overflow_x": null,
            "overflow_y": null,
            "padding": null,
            "right": null,
            "top": null,
            "visibility": null,
            "width": null
          }
        },
        "9a843f842f6641319fdfef0d5d3577c9": {
          "model_module": "@jupyter-widgets/controls",
          "model_name": "VBoxModel",
          "model_module_version": "1.5.0",
          "state": {
            "_dom_classes": [
              "widget-interact"
            ],
            "_model_module": "@jupyter-widgets/controls",
            "_model_module_version": "1.5.0",
            "_model_name": "VBoxModel",
            "_view_count": null,
            "_view_module": "@jupyter-widgets/controls",
            "_view_module_version": "1.5.0",
            "_view_name": "VBoxView",
            "box_style": "",
            "children": [
              "IPY_MODEL_02330825d3724ca5979155c2bbde3bce",
              "IPY_MODEL_9553dbbc15504416807baab918ca92a8"
            ],
            "layout": "IPY_MODEL_a1cd43cae9ba46c48e22c5a66a1bebe7"
          }
        },
        "02330825d3724ca5979155c2bbde3bce": {
          "model_module": "@jupyter-widgets/controls",
          "model_name": "IntSliderModel",
          "model_module_version": "1.5.0",
          "state": {
            "_dom_classes": [],
            "_model_module": "@jupyter-widgets/controls",
            "_model_module_version": "1.5.0",
            "_model_name": "IntSliderModel",
            "_view_count": null,
            "_view_module": "@jupyter-widgets/controls",
            "_view_module_version": "1.5.0",
            "_view_name": "IntSliderView",
            "continuous_update": true,
            "description": "frame",
            "description_tooltip": null,
            "disabled": false,
            "layout": "IPY_MODEL_4c21e254965b464299b54d3313fe88e2",
            "max": 8,
            "min": 0,
            "orientation": "horizontal",
            "readout": true,
            "readout_format": "d",
            "step": 1,
            "style": "IPY_MODEL_85f60442359a4035b42e3672216362db",
            "value": 8
          }
        },
        "9553dbbc15504416807baab918ca92a8": {
          "model_module": "@jupyter-widgets/output",
          "model_name": "OutputModel",
          "model_module_version": "1.0.0",
          "state": {
            "_dom_classes": [],
            "_model_module": "@jupyter-widgets/output",
            "_model_module_version": "1.0.0",
            "_model_name": "OutputModel",
            "_view_count": null,
            "_view_module": "@jupyter-widgets/output",
            "_view_module_version": "1.0.0",
            "_view_name": "OutputView",
            "layout": "IPY_MODEL_f5080053ba5041d98382829f642ad603",
            "msg_id": "",
            "outputs": [
              {
                "output_type": "display_data",
                "data": {
                  "text/plain": "<PIL.Image.Image image mode=RGB size=150x150>",
                  "image/png": "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\n"
                },
                "metadata": {}
              }
            ]
          }
        },
        "a1cd43cae9ba46c48e22c5a66a1bebe7": {
          "model_module": "@jupyter-widgets/base",
          "model_name": "LayoutModel",
          "model_module_version": "1.2.0",
          "state": {
            "_model_module": "@jupyter-widgets/base",
            "_model_module_version": "1.2.0",
            "_model_name": "LayoutModel",
            "_view_count": null,
            "_view_module": "@jupyter-widgets/base",
            "_view_module_version": "1.2.0",
            "_view_name": "LayoutView",
            "align_content": null,
            "align_items": null,
            "align_self": null,
            "border": null,
            "bottom": null,
            "display": null,
            "flex": null,
            "flex_flow": null,
            "grid_area": null,
            "grid_auto_columns": null,
            "grid_auto_flow": null,
            "grid_auto_rows": null,
            "grid_column": null,
            "grid_gap": null,
            "grid_row": null,
            "grid_template_areas": null,
            "grid_template_columns": null,
            "grid_template_rows": null,
            "height": null,
            "justify_content": null,
            "justify_items": null,
            "left": null,
            "margin": null,
            "max_height": null,
            "max_width": null,
            "min_height": null,
            "min_width": null,
            "object_fit": null,
            "object_position": null,
            "order": null,
            "overflow": null,
            "overflow_x": null,
            "overflow_y": null,
            "padding": null,
            "right": null,
            "top": null,
            "visibility": null,
            "width": null
          }
        },
        "4c21e254965b464299b54d3313fe88e2": {
          "model_module": "@jupyter-widgets/base",
          "model_name": "LayoutModel",
          "model_module_version": "1.2.0",
          "state": {
            "_model_module": "@jupyter-widgets/base",
            "_model_module_version": "1.2.0",
            "_model_name": "LayoutModel",
            "_view_count": null,
            "_view_module": "@jupyter-widgets/base",
            "_view_module_version": "1.2.0",
            "_view_name": "LayoutView",
            "align_content": null,
            "align_items": null,
            "align_self": null,
            "border": null,
            "bottom": null,
            "display": null,
            "flex": null,
            "flex_flow": null,
            "grid_area": null,
            "grid_auto_columns": null,
            "grid_auto_flow": null,
            "grid_auto_rows": null,
            "grid_column": null,
            "grid_gap": null,
            "grid_row": null,
            "grid_template_areas": null,
            "grid_template_columns": null,
            "grid_template_rows": null,
            "height": null,
            "justify_content": null,
            "justify_items": null,
            "left": null,
            "margin": null,
            "max_height": null,
            "max_width": null,
            "min_height": null,
            "min_width": null,
            "object_fit": null,
            "object_position": null,
            "order": null,
            "overflow": null,
            "overflow_x": null,
            "overflow_y": null,
            "padding": null,
            "right": null,
            "top": null,
            "visibility": null,
            "width": null
          }
        },
        "85f60442359a4035b42e3672216362db": {
          "model_module": "@jupyter-widgets/controls",
          "model_name": "SliderStyleModel",
          "model_module_version": "1.5.0",
          "state": {
            "_model_module": "@jupyter-widgets/controls",
            "_model_module_version": "1.5.0",
            "_model_name": "SliderStyleModel",
            "_view_count": null,
            "_view_module": "@jupyter-widgets/base",
            "_view_module_version": "1.2.0",
            "_view_name": "StyleView",
            "description_width": "",
            "handle_color": null
          }
        },
        "f5080053ba5041d98382829f642ad603": {
          "model_module": "@jupyter-widgets/base",
          "model_name": "LayoutModel",
          "model_module_version": "1.2.0",
          "state": {
            "_model_module": "@jupyter-widgets/base",
            "_model_module_version": "1.2.0",
            "_model_name": "LayoutModel",
            "_view_count": null,
            "_view_module": "@jupyter-widgets/base",
            "_view_module_version": "1.2.0",
            "_view_name": "LayoutView",
            "align_content": null,
            "align_items": null,
            "align_self": null,
            "border": null,
            "bottom": null,
            "display": null,
            "flex": null,
            "flex_flow": null,
            "grid_area": null,
            "grid_auto_columns": null,
            "grid_auto_flow": null,
            "grid_auto_rows": null,
            "grid_column": null,
            "grid_gap": null,
            "grid_row": null,
            "grid_template_areas": null,
            "grid_template_columns": null,
            "grid_template_rows": null,
            "height": null,
            "justify_content": null,
            "justify_items": null,
            "left": null,
            "margin": null,
            "max_height": null,
            "max_width": null,
            "min_height": null,
            "min_width": null,
            "object_fit": null,
            "object_position": null,
            "order": null,
            "overflow": null,
            "overflow_x": null,
            "overflow_y": null,
            "padding": null,
            "right": null,
            "top": null,
            "visibility": null,
            "width": null
          }
        },
        "34f6353535f440a8baa16da1e9e74dfb": {
          "model_module": "@jupyter-widgets/controls",
          "model_name": "VBoxModel",
          "model_module_version": "1.5.0",
          "state": {
            "_dom_classes": [
              "widget-interact"
            ],
            "_model_module": "@jupyter-widgets/controls",
            "_model_module_version": "1.5.0",
            "_model_name": "VBoxModel",
            "_view_count": null,
            "_view_module": "@jupyter-widgets/controls",
            "_view_module_version": "1.5.0",
            "_view_name": "VBoxView",
            "box_style": "",
            "children": [
              "IPY_MODEL_72a4c3d6e2d8486eb6796b3d39ae8a87",
              "IPY_MODEL_f06a4f113689458b8d2ef7e5a84a8b8e"
            ],
            "layout": "IPY_MODEL_3abd95f29c5d4f6a956bd014746f33d7"
          }
        },
        "72a4c3d6e2d8486eb6796b3d39ae8a87": {
          "model_module": "@jupyter-widgets/controls",
          "model_name": "IntSliderModel",
          "model_module_version": "1.5.0",
          "state": {
            "_dom_classes": [],
            "_model_module": "@jupyter-widgets/controls",
            "_model_module_version": "1.5.0",
            "_model_name": "IntSliderModel",
            "_view_count": null,
            "_view_module": "@jupyter-widgets/controls",
            "_view_module_version": "1.5.0",
            "_view_name": "IntSliderView",
            "continuous_update": true,
            "description": "frame",
            "description_tooltip": null,
            "disabled": false,
            "layout": "IPY_MODEL_ca2f19c57e1b477abadac1111701178b",
            "max": 6,
            "min": 0,
            "orientation": "horizontal",
            "readout": true,
            "readout_format": "d",
            "step": 1,
            "style": "IPY_MODEL_ab33d08265d74bcdb1778653a069d25d",
            "value": 3
          }
        },
        "f06a4f113689458b8d2ef7e5a84a8b8e": {
          "model_module": "@jupyter-widgets/output",
          "model_name": "OutputModel",
          "model_module_version": "1.0.0",
          "state": {
            "_dom_classes": [],
            "_model_module": "@jupyter-widgets/output",
            "_model_module_version": "1.0.0",
            "_model_name": "OutputModel",
            "_view_count": null,
            "_view_module": "@jupyter-widgets/output",
            "_view_module_version": "1.0.0",
            "_view_name": "OutputView",
            "layout": "IPY_MODEL_f31fa37544104ab99b3a9223875c7051",
            "msg_id": "",
            "outputs": [
              {
                "output_type": "display_data",
                "data": {
                  "text/plain": "<PIL.Image.Image image mode=RGB size=150x150>",
                  "image/png": "iVBORw0KGgoAAAANSUhEUgAAAJYAAACWCAIAAACzY+a1AAAEaElEQVR4nO2d3XLjIAxG28w+OI++F53pZmMbhPgQiDnnsjES5sSYH8f9LqV8DVAp7o78W3CwblreK7NJxX6q8cddsuuwTc5ZRSll+Rn9VuDVW8xX9R3OWcva03nPblUocXCYyFXn8pG33ZHWK+q4F/78/QyX8V/Kj3SllMZVWNHQrH39mLwKr424NnVN4bVyFnO3cW5LYVGS9FHhjBbH4ox09wqvBVRVvIbC4mCiG4UBNcOiMMWnwk2+WYmYeiKW4K/KEQv791xMOhFj2I7hzAzyavtAbtEe8GU5KIwd6uBGaLErlGlEOpXU2j6QWOwN8roeF9+ma7NrGbToKN63UwEW3BZ9BV9dOcCIQ4ZbfGNeGMZ5X6MuJSPdLx3pRIxiBm+fKJxLU8/4IPa1z2jwvL70h4okySSEqzCCW1WqpQAUBlEXNtIDoTAO43CmFxSG0hzOOEBhKCjMDR1pbhjO5GbupIKp/WyY2ucmYoGttwDYWbPMzWaTitDNpvOabzkOJW6LdKR63DJ8BXn8Sczgjc1RnIcQlUgmCb1B/incoSl3qIMb4YJLV6jHe2FMa6Z29o7QX2/A/xTK61EnON08Jp2IMWxjXjivWfGnCn7TkQY0Lv6EKUwj0lKKsHPAnzZRx3BGfouWxFzFPuOG2urMbYs7rsinUviTJP1upq8fUPl0vOBWjp8qE1zJq8i2wtuSwkpUDthf4ZIaWu+F12KSe+FWVgZZdS4ntSEAwA5YhzORbD6ciRkA2ot73s0NdSTfvJ8gllAoVCKfQ1tEolDGyNy/3kvXJ2Mo1KBaPnxyWbFondpDhRnLv/aYKBzFfrk4Ij8tbb+DwiEsTTw7BQr9BPizJEKhkzB/zXQoFBCzisRwRskOK3+/dUDhKJE6GZFqeG/H+Mvxmh2F6UFhbkrzn99BhU2enUFhelCYHhQ6WTs1ZHXmKFCYHhSmB4XpQWF6UJgeFKYHhelBoROm9iADhelBoR82m0AAW74ngMJuePzpNHgIMSU8CnwaPJCfEn4WcwL8OO0E+InoCfBD7RO4tuy4RXtMXlqioXLFdOl8OrgSBIUynrpQi8u65vqnKFRSqu/bcvSuliIo1FMX2RUEAAAC4K3AVmZM/tywRqqBZ2dOYO2u/RfPzvgI3mZqpkahhyUWn5Ki0AlbvifAlu8JsOV7AlMtsuUbxCSLxrAo1CC3aA+IQhlCi12hUKhEYrE3CArFDFp0FEehHrdFX0EUTsEhwy0ehbPoUjLS/aJwIkYxg7dPFM6lqWd8EIvC6VQkSSYhKIzgVpVqKQCFQdSFjSzloDAO43CmFxSG0hzOOEBhKCjMDR1pbhjO5IZJRW6Y2ueGBbbcsMydGzabcsOWb27cMnwFUShm8MbmKI5CJZJJQm8QFMoQLrh0hUKhBqG/3oAoFCD31xUWhaNM8mcPjsIhpvozpkChnwB/lkQodBLmr5kOhR6C/dWTorCbJf4qqVE4RKS/24yFF3iNEO/vNi8Knazyd83+F9relF3lMEYyAAAAAElFTkSuQmCC\n"
                },
                "metadata": {}
              }
            ]
          }
        },
        "3abd95f29c5d4f6a956bd014746f33d7": {
          "model_module": "@jupyter-widgets/base",
          "model_name": "LayoutModel",
          "model_module_version": "1.2.0",
          "state": {
            "_model_module": "@jupyter-widgets/base",
            "_model_module_version": "1.2.0",
            "_model_name": "LayoutModel",
            "_view_count": null,
            "_view_module": "@jupyter-widgets/base",
            "_view_module_version": "1.2.0",
            "_view_name": "LayoutView",
            "align_content": null,
            "align_items": null,
            "align_self": null,
            "border": null,
            "bottom": null,
            "display": null,
            "flex": null,
            "flex_flow": null,
            "grid_area": null,
            "grid_auto_columns": null,
            "grid_auto_flow": null,
            "grid_auto_rows": null,
            "grid_column": null,
            "grid_gap": null,
            "grid_row": null,
            "grid_template_areas": null,
            "grid_template_columns": null,
            "grid_template_rows": null,
            "height": null,
            "justify_content": null,
            "justify_items": null,
            "left": null,
            "margin": null,
            "max_height": null,
            "max_width": null,
            "min_height": null,
            "min_width": null,
            "object_fit": null,
            "object_position": null,
            "order": null,
            "overflow": null,
            "overflow_x": null,
            "overflow_y": null,
            "padding": null,
            "right": null,
            "top": null,
            "visibility": null,
            "width": null
          }
        },
        "ca2f19c57e1b477abadac1111701178b": {
          "model_module": "@jupyter-widgets/base",
          "model_name": "LayoutModel",
          "model_module_version": "1.2.0",
          "state": {
            "_model_module": "@jupyter-widgets/base",
            "_model_module_version": "1.2.0",
            "_model_name": "LayoutModel",
            "_view_count": null,
            "_view_module": "@jupyter-widgets/base",
            "_view_module_version": "1.2.0",
            "_view_name": "LayoutView",
            "align_content": null,
            "align_items": null,
            "align_self": null,
            "border": null,
            "bottom": null,
            "display": null,
            "flex": null,
            "flex_flow": null,
            "grid_area": null,
            "grid_auto_columns": null,
            "grid_auto_flow": null,
            "grid_auto_rows": null,
            "grid_column": null,
            "grid_gap": null,
            "grid_row": null,
            "grid_template_areas": null,
            "grid_template_columns": null,
            "grid_template_rows": null,
            "height": null,
            "justify_content": null,
            "justify_items": null,
            "left": null,
            "margin": null,
            "max_height": null,
            "max_width": null,
            "min_height": null,
            "min_width": null,
            "object_fit": null,
            "object_position": null,
            "order": null,
            "overflow": null,
            "overflow_x": null,
            "overflow_y": null,
            "padding": null,
            "right": null,
            "top": null,
            "visibility": null,
            "width": null
          }
        },
        "ab33d08265d74bcdb1778653a069d25d": {
          "model_module": "@jupyter-widgets/controls",
          "model_name": "SliderStyleModel",
          "model_module_version": "1.5.0",
          "state": {
            "_model_module": "@jupyter-widgets/controls",
            "_model_module_version": "1.5.0",
            "_model_name": "SliderStyleModel",
            "_view_count": null,
            "_view_module": "@jupyter-widgets/base",
            "_view_module_version": "1.2.0",
            "_view_name": "StyleView",
            "description_width": "",
            "handle_color": null
          }
        },
        "f31fa37544104ab99b3a9223875c7051": {
          "model_module": "@jupyter-widgets/base",
          "model_name": "LayoutModel",
          "model_module_version": "1.2.0",
          "state": {
            "_model_module": "@jupyter-widgets/base",
            "_model_module_version": "1.2.0",
            "_model_name": "LayoutModel",
            "_view_count": null,
            "_view_module": "@jupyter-widgets/base",
            "_view_module_version": "1.2.0",
            "_view_name": "LayoutView",
            "align_content": null,
            "align_items": null,
            "align_self": null,
            "border": null,
            "bottom": null,
            "display": null,
            "flex": null,
            "flex_flow": null,
            "grid_area": null,
            "grid_auto_columns": null,
            "grid_auto_flow": null,
            "grid_auto_rows": null,
            "grid_column": null,
            "grid_gap": null,
            "grid_row": null,
            "grid_template_areas": null,
            "grid_template_columns": null,
            "grid_template_rows": null,
            "height": null,
            "justify_content": null,
            "justify_items": null,
            "left": null,
            "margin": null,
            "max_height": null,
            "max_width": null,
            "min_height": null,
            "min_width": null,
            "object_fit": null,
            "object_position": null,
            "order": null,
            "overflow": null,
            "overflow_x": null,
            "overflow_y": null,
            "padding": null,
            "right": null,
            "top": null,
            "visibility": null,
            "width": null
          }
        }
      }
    }
  },
  "cells": [
    {
      "cell_type": "markdown",
      "source": [
        "**Universidade Estadual de Campinas - Unicamp**\n",
        "\n",
        "**Faculdade de Tecnologia - FT**\n",
        "\n",
        "**Autor:** Ulisses Martins Dias\n",
        "\n",
        "**Disciplina:** TT003 - Tópicos em Computação e Informática III\n",
        "\n",
        "**Aula 11:** Monte Carlo com Jogo da Velha\n",
        "\n",
        "[![Open In Colab](https://colab.research.google.com/assets/colab-badge.svg)](https://colab.research.google.com/github/ulissesdias/tt003/blob/main/notebooks/aula11_monte_carlo_com_jogo_da_velha.ipynb)"
      ],
      "metadata": {
        "id": "NMicfPyYYRPa"
      }
    },
    {
      "cell_type": "markdown",
      "metadata": {
        "id": "TLP3rFVYq_Ac"
      },
      "source": [
        "# Monte Carlo com Jogo da Velha\n",
        "\n",
        "Vamos agora exemplificar o uso do algoritmo de Monte Carlo com um jogo bastante simples, um jogo da velha, e ver como ele se comporta e se converge rápida ou lentamente. Para tanto, precisamos definir o ambiente onde o jogador irá se movimentar. Vale lembrar que o que precisamos é:\n",
        "\n",
        "1. Um mecanismo que nos diga quais as jogadas possíveis a partir de um determinado estado.\n",
        "2. Um mecanismo que nos diga quando o jogo acabou.\n",
        "\n",
        "A seguir, vamos criar um conjunto de métodos que utilizamos para criar o jogo da velha. Note que não precisaremos fazer o mesmo para o jogo de xadrez, porque muito já foi implementado pela biblioteca chess, que aprendemos em semanas anteriores.\n",
        "\n",
        "As regras do jogo da velha dispensam grandes introduções. Entretanto, para manter o notebook auto-contido, vamos explicar algumas coisas óbvias.\n",
        "\n",
        "No jogo da velha, temos dois tipos de peças, a peça **\"x\"** e a peça **\"o\"**. Cada um dos dois jogadores é responsável por adicionar um tipo de peça. Vence quem formar uma sequência de três na horizontal, vertical ou diagonal. Vamos primeiramente pensar em como podemos representar um tabuleiro de jogo da velha:"
      ]
    },
    {
      "cell_type": "markdown",
      "source": [
        "## Jogadores\n",
        "\n",
        "O jogo da velha é jogado por dois jogadores. Seguiremos um padrão para nomear os jogadores:\n",
        "\n",
        "**O jogador que inicia a partida será chamado de \"1\", o outro jogador será chamado de \"-1\"**\n",
        "\n",
        "Como no jogo da velha as peças **x** começam, então o jogador que conduz as peças **x** será o jogador **1**, enquanto que o jogador que conduz as peças **o** será chamado de **-1**.\n"
      ],
      "metadata": {
        "id": "AtT4bHLQZWjE"
      }
    },
    {
      "cell_type": "markdown",
      "source": [
        "## Tabuleiro\n",
        "\n",
        "A forma mais óbvia de representar o tabuleiro é por meio de uma tupla de nove elementos, onde cada elemento representa uma célula do tabuleiro. Outras formas poderiam ser pensadas, uma matriz ou uma string, por exemplo, mas vamos seguir com um tupla.\n",
        "\n",
        "Cada célula do tabuleiro pode:\n",
        "\n",
        "\n",
        "1.   Estar vazia\n",
        "2.   Conter **x**\n",
        "3.   Conter **o**\n",
        "\n",
        "Como são três estados possíveis, podemos representar uma célula vazia com o número zero, uma célula com **x** com o número **1** (dado que o jogador que conduz o **x** é chamado de jogador **1**), e uma célula com **o** com o número **-1** (dado que o jogador que conduz as bolas é chamado de **-1**). Dessa forma, a seguir temos um tabuleiro vazio:\n",
        "\n",
        "tabuleiro = (\n",
        "    \n",
        "             0, 0, 0,\n",
        "\n",
        "             0, 0, 0,\n",
        "             \n",
        "             0, 0, 0\n",
        "             \n",
        ")\n",
        "\n",
        "A seguir, temos um tabuleiro com um **x** no canto superior esquerdo.\n",
        "\n",
        "tabuleiro = (\n",
        "    \n",
        "             1, 0, 0,\n",
        "\n",
        "             0, 0, 0,\n",
        "             \n",
        "             0, 0, 0\n",
        "             \n",
        ")\n",
        "\n",
        "A seguir, temos um tabuleiro com um **x** no canto superior esquerdo e um **o** no centro.\n",
        "\n",
        "tabuleiro = (\n",
        "    \n",
        "             1, 0, 0,\n",
        "\n",
        "             0,-1, 0,\n",
        "             \n",
        "             0, 0, 0\n",
        "             \n",
        ")\n",
        "\n",
        "Em jogos com classes de peças, como o xadrez, seria interessante dar números diferentes para cada peça. Por exemplo: peão = 1, cavalo = 2, bispo = 3, torre = 4, rainha = 5, rei = 6. Feito isso, um peão branco seria representado como **1** e um peão preto seria representado como **-1**, um cavalo branco seria o **1** e um cavalo preto seria o **-1**.\n",
        "\n",
        "Vamos implementar um tabuleiro em nosso código:\n"
      ],
      "metadata": {
        "id": "-No1-KpGZrGk"
      }
    },
    {
      "cell_type": "code",
      "source": [
        "## Tabuleiro vazio:\n",
        "tabuleiro = (0,0,0, 0,0,0, 0,0,0)"
      ],
      "metadata": {
        "id": "dAIZFxoBZqI_"
      },
      "execution_count": null,
      "outputs": []
    },
    {
      "cell_type": "markdown",
      "source": [
        "Note que a implementação é bastante simples, passamos mais tempo explicando do que realmente programando."
      ],
      "metadata": {
        "id": "VQ8T0pkuaP_k"
      }
    },
    {
      "cell_type": "markdown",
      "metadata": {
        "id": "-MFu-SrPrLQu"
      },
      "source": [
        "## Vencedor do Jogo\n",
        "\n",
        "Agora que definimos um tabuleiro, devemos codificar as regras que definem quem venceu a partida. Para vencer uma partida no jogo da velha, um jogador precisa preencher uma linha, uma coluna, ou uma diagonal. Podemos começar listando todas as combinações de índices que podem gerar uma vitória:\n",
        "\n",
        "\n",
        "**Linhas:**\n",
        "\n",
        "*   **0, 1, 2**\n",
        "*   **3, 4, 5**\n",
        "*   **6, 7, 8**\n",
        "\n",
        "**Colunas:**\n",
        "*   **0, 3, 6**\n",
        "*   **1, 4, 7**\n",
        "*   **2, 5, 8**\n",
        "\n",
        "**Diagonais:**\n",
        "*   **0, 4, 8**\n",
        "*   **2, 4, 6**\n",
        "\n",
        "São poucas as combinações de vitórias, então podemos muito bem criar uma função que verifica se alguma delas foi satisfeita. Como não é função desta aula ver em detalhes como as implementações do jogo da velha foram feitas. Precisamos apenas colocar todas elas em um lugar acessível. Veja a célula abaixo para entender qual biblioteca usaremos."
      ]
    },
    {
      "cell_type": "code",
      "source": [
        "## Efetuando o download do código da biblioteca\n",
        "!wget https://raw.githubusercontent.com/ulissesdias/tt003/main/libraries/tic_tac_toe.py\n",
        "\n",
        "## Importando a biblioteca\n",
        "import tic_tac_toe as ttt"
      ],
      "metadata": {
        "colab": {
          "base_uri": "https://localhost:8080/"
        },
        "id": "X16z0CA607kY",
        "outputId": "422139e4-3032-43f7-f790-a112f7518b94"
      },
      "execution_count": 1,
      "outputs": [
        {
          "output_type": "stream",
          "name": "stdout",
          "text": [
            "--2023-11-21 19:25:09--  https://raw.githubusercontent.com/ulissesdias/tt003/main/libraries/tic_tac_toe.py\n",
            "Resolving raw.githubusercontent.com (raw.githubusercontent.com)... 185.199.108.133, 185.199.109.133, 185.199.110.133, ...\n",
            "Connecting to raw.githubusercontent.com (raw.githubusercontent.com)|185.199.108.133|:443... connected.\n",
            "HTTP request sent, awaiting response... 200 OK\n",
            "Length: 3674 (3.6K) [text/plain]\n",
            "Saving to: ‘tic_tac_toe.py’\n",
            "\n",
            "\rtic_tac_toe.py        0%[                    ]       0  --.-KB/s               \rtic_tac_toe.py      100%[===================>]   3.59K  --.-KB/s    in 0s      \n",
            "\n",
            "2023-11-21 19:25:10 (51.3 MB/s) - ‘tic_tac_toe.py’ saved [3674/3674]\n",
            "\n"
          ]
        }
      ]
    },
    {
      "cell_type": "markdown",
      "source": [
        "Note que a biblioteca que está no link acima pode ser analisada manualmente por você."
      ],
      "metadata": {
        "id": "_8YeDnnhHO5u"
      }
    },
    {
      "cell_type": "code",
      "metadata": {
        "colab": {
          "base_uri": "https://localhost:8080/"
        },
        "id": "G6ktJl91qlP3",
        "outputId": "52c145ae-6bf6-4049-fec4-52c2e2b3725b"
      },
      "source": [
        "tab = [1,1,-1, 1,-1,0, -1,1,-1]\n",
        "ttt.winner(tab)"
      ],
      "execution_count": 2,
      "outputs": [
        {
          "output_type": "execute_result",
          "data": {
            "text/plain": [
              "-1"
            ]
          },
          "metadata": {},
          "execution_count": 2
        }
      ]
    },
    {
      "cell_type": "markdown",
      "metadata": {
        "id": "ZxJvUPEPrO-m"
      },
      "source": [
        "## Movimentos Válidos\n",
        "\n",
        "Agora que temos uma definição do tabuleiro e uma definição das condições de vitória, precisamos definir as jogadas válidas na partida. No jogo da velha, um jogador pode inserir uma peça em qualquer célula não preenchida. Nesse caso, podemos representar uma jogada válida como o índice de uma célula não preenchida. Por exemplo, a função **ttt.get_valid_moves** retorna os movimentos válidos a partir de um tabuleiro. No tabuleiro mostrado abaixo, apenas a célula 5 está vazia, então esta célula é o único movimento válido."
      ]
    },
    {
      "cell_type": "code",
      "metadata": {
        "colab": {
          "base_uri": "https://localhost:8080/"
        },
        "id": "KHmQNxOqq9gw",
        "outputId": "ddf9bc84-fa7a-4e4d-a4c2-18c0dd40d909"
      },
      "source": [
        "tab = [1,1,-1, 1,-1,0, -1,1,-1]\n",
        "ttt.get_valid_moves(tab)"
      ],
      "execution_count": 3,
      "outputs": [
        {
          "output_type": "execute_result",
          "data": {
            "text/plain": [
              "[5]"
            ]
          },
          "metadata": {},
          "execution_count": 3
        }
      ]
    },
    {
      "cell_type": "markdown",
      "metadata": {
        "id": "Hi05t3NqDpd0"
      },
      "source": [
        "## Gerando Jogadas ao Acaso\n",
        "\n",
        "Supondo que queremos criar um **bot** para jogar jogo da velha, o que ele precisa saber? Obviamente ele precisa saber quais são as jogadas válidas e qual peças ele está conduzindo. Basta isso para criarmos um jogador sem nenhum tipo de inteligência, que escolha ao acaso uma jogada dentre todas as disponíveis.\n",
        "\n",
        "Se quisermos que o jogador tenha algum tipo de inteligência, provavelmente ele precisará de uma função que possibilite a pontuação dos tabuleiros. Essa função receberá um determinado tabuleiro e dará uma nota para o tabuleiro, uma espécie de **score**, quanto maior o **score** do tabuleiro, melhor ele é segundo a função de pontuação.\n",
        "\n",
        "A seguir, vamos tentar uma primeira implementação e depois podemos reformular o nosso jogador para que tenha algum tipo de inteligência."
      ]
    },
    {
      "cell_type": "code",
      "metadata": {
        "colab": {
          "base_uri": "https://localhost:8080/"
        },
        "id": "JzHQdIfgDxno",
        "outputId": "3bc95fb6-935e-44ad-851b-8f93583d08c4"
      },
      "source": [
        "tabuleiro = (1, -1, -1,  1, -1, 1,  1, 0, 0)\n",
        "\n",
        "## O jogador retornará a peça que irá colocar no\n",
        "## tabuleiro, seguida da posição no tabuleiro onde\n",
        "## deverá colocar a peça.\n",
        "ttt.random_player(tabuleiro, -1)"
      ],
      "execution_count": 4,
      "outputs": [
        {
          "output_type": "execute_result",
          "data": {
            "text/plain": [
              "(-1, 7)"
            ]
          },
          "metadata": {},
          "execution_count": 4
        }
      ]
    },
    {
      "cell_type": "markdown",
      "metadata": {
        "id": "wAXcFVrdrosu"
      },
      "source": [
        "## Gerando Episódios\n",
        "\n",
        "Temos um tabuleiro e um jogador que pode conduzir qualquer uma das peças. O que devemos fazer agora é criar um gerenciador de jogo para que uma partida possa ser iniciada e conduzida. Cada partida será chamada de episódio. O gerenciador de um jogo gerará um episódio. Ele deverá:\n",
        "\n",
        "1.   Garantir que pedirá para o jogador certo jogar (alternância entre jogadores **x** e **o**).\n",
        "2.   Gerenciar o tabuleiro de modo a fazer com que as jogadas sejam concretizadas.\n",
        "3.   Verificar se as condições de vitória, derrota ou empates já foram satisfeitas.\n",
        "4.   Armazenar um histórico de jogadas, para que os jogadores posteriormente possam analisar o que fizeram. Esse histórico de jogadas será o episódio propriamente dito e com ele deveremos ser capazes de ver, de alguma forma, todas as ações realizadas.\n",
        "\n",
        "Vamos ver uma função que faz tudo isso."
      ]
    },
    {
      "cell_type": "code",
      "source": [
        "### Selecionando jogadores:\n",
        "player = ttt.random_player"
      ],
      "metadata": {
        "id": "MOuR6qZ6cgYO"
      },
      "execution_count": 5,
      "outputs": []
    },
    {
      "cell_type": "code",
      "source": [
        "## Iniciando uma partida\n",
        "result, history = ttt.game(player, player)\n",
        "print(result)\n",
        "print(history)"
      ],
      "metadata": {
        "colab": {
          "base_uri": "https://localhost:8080/"
        },
        "id": "cir_PCTP3Nko",
        "outputId": "34c0c26f-5355-4812-da3f-6bc608e41a5d"
      },
      "execution_count": 6,
      "outputs": [
        {
          "output_type": "stream",
          "name": "stdout",
          "text": [
            "0\n",
            "[(0, 0, 0, 0, 1, 0, 0, 0, 0), (0, 0, 0, 0, 1, -1, 0, 0, 0), (0, 0, 0, 0, 1, -1, 0, 0, 1), (0, 0, 0, 0, 1, -1, -1, 0, 1), (0, 1, 0, 0, 1, -1, -1, 0, 1), (0, 1, 0, 0, 1, -1, -1, -1, 1), (0, 1, 0, 1, 1, -1, -1, -1, 1), (-1, 1, 0, 1, 1, -1, -1, -1, 1), (-1, 1, 1, 1, 1, -1, -1, -1, 1)]\n"
          ]
        }
      ]
    },
    {
      "cell_type": "markdown",
      "source": [
        "Note que o seu primeiro passo ao implementar uma agente para qualquer jogo, ou qualquer ambiente, é conseguir gerar o que fizemos até aqui: **criar um mecanismo para gerar episódios ao acaso**. No caso específico de jogos é que um episódio pode ser visto como o resultado de uma partida."
      ],
      "metadata": {
        "id": "mBuqF0OacmQ3"
      }
    },
    {
      "cell_type": "markdown",
      "metadata": {
        "id": "wFmi5QL1c9Sy"
      },
      "source": [
        "# Interface Gráfica\n",
        "\n",
        "Criamos uma representação para o jogo da velha. Se é uma boa implementação ou não é um tema sujeito a discussões, o que importa é que criamos. O nosso jogo ficaria mais divertido se pudéssemos criar uma interface gráfica para visualizar o que foi jogado pelos nossos bots e por nós mesmos. Isso permitirá verificar se o nosso jogador é bom ou não. Além disso, poderemos depurar por eventuais erros difíceis de ver no estado atual baseado em textos.\n",
        "\n",
        "Note que você não precisa entender esta interface gráfica. Ela está aqui apenas para você ver os códigos. A única coisa que você precisa conhecer são as seguintes funções:\n",
        "\n",
        "**draw_board(tab):** desenha um tabuleiro no console.\n",
        "\n",
        "**generate_image_history(history):** dado um episódio, aqui chamado de histórico de jogadas, geraremos uma sequência de imagens, que são todos os tabuleiros vistos no episódio.\n",
        "\n",
        "**display_sequence(images):** dadas as imagens geradas com a função acima. Apresente a sequência no console.\n"
      ]
    },
    {
      "cell_type": "markdown",
      "metadata": {
        "id": "td7p4PoOqSAV"
      },
      "source": [
        "## Desenhando Tabuleiro\n",
        "\n",
        "Vamos simplesmente empacotar tudo o que aprendemos até agora em uma função que recebe um tabuleiro e devolve uma representação gráfica do mesmo. Nada do que tem na função a seguir deve ser desconhecido para você."
      ]
    },
    {
      "cell_type": "code",
      "metadata": {
        "id": "uopZJ3tVq9SC",
        "colab": {
          "base_uri": "https://localhost:8080/",
          "height": 167
        },
        "outputId": "239285c4-ff53-43cc-b139-86a500995151"
      },
      "source": [
        "tabuleiro = (1, -1, -1,  1, -1, 1,  1, 0, 0)\n",
        "board = ttt.draw_board(tabuleiro)\n",
        "display(board)"
      ],
      "execution_count": 7,
      "outputs": [
        {
          "output_type": "display_data",
          "data": {
            "text/plain": [
              "<PIL.Image.Image image mode=RGB size=150x150>"
            ],
            "image/png": "[encoded data removed]"
          },
          "metadata": {}
        }
      ]
    },
    {
      "cell_type": "markdown",
      "metadata": {
        "id": "O-G48F86rYWR"
      },
      "source": [
        "## Partida Completa\n",
        "\n",
        "Agora que temos uma maneira de desenhar um tabuleiro, vamos mostrar uma partida completa como uma sequência de tabuleiros. Para tanto, é interessante que o usuário possa ver a partida em sequência, olhar um tabuleiro específico, avançar ou recuar na análise, ...\n",
        "\n",
        "A função abaixo faz tudo isso, ela considera todas as imagens como frames de uma widget interativa, o usuário pode navegar para qualquer frame facilmente."
      ]
    },
    {
      "cell_type": "code",
      "metadata": {
        "id": "9Gd0WKtYrz6n"
      },
      "source": [
        "history = [\n",
        "    (1, 0, 0, 0, 0, 0, 0, 0, 0),\n",
        "    (1, -1, 0, 0, 0, 0, 0, 0, 0),\n",
        "    (1, -1, 0, 0, 1, 0, 0, 0, 0),\n",
        "    (1, -1, 0, 0, 1, 0, -1, 0, 0),\n",
        "    (1, -1, 0, 1, 1, 0, -1, 0, 0),\n",
        "    (1, -1, 0, 1, 1, 0, -1, 0, -1),\n",
        "    (1, -1, 1, 1, 1, 0, -1, 0, -1),\n",
        "    (1, -1, 1, 1, 1, 0, -1, -1, -1)\n",
        "    ]\n",
        "\n",
        "images = ttt.generate_image_history(history)"
      ],
      "execution_count": 8,
      "outputs": []
    },
    {
      "cell_type": "code",
      "source": [
        "display(images[3])"
      ],
      "metadata": {
        "colab": {
          "base_uri": "https://localhost:8080/",
          "height": 167
        },
        "id": "uAkMSGId3z9s",
        "outputId": "61907385-7fff-4005-d1b1-f72245f13b4a"
      },
      "execution_count": 9,
      "outputs": [
        {
          "output_type": "display_data",
          "data": {
            "text/plain": [
              "<PIL.Image.Image image mode=RGB size=150x150>"
            ],
            "image/png": "[encoded data removed]"
          },
          "metadata": {}
        }
      ]
    },
    {
      "cell_type": "markdown",
      "metadata": {
        "id": "-Z0WbnGIsUBO"
      },
      "source": [
        "Para usar a função **display_sequence**, precisamos de uma sequência de objetos **Image**, podemos obter essa sequência invocando várias vezes o método **draw_board**. Nesse caso, para fazer essa sequência de invocações, precisamos de um histórico, que pode ser obtido facilmente a partir de qualquer jogo obtido mediante a invocação da função **game**."
      ]
    },
    {
      "cell_type": "markdown",
      "metadata": {
        "id": "1Zl6610csts0"
      },
      "source": [
        "De posse desse histórico, podemos criar a função a seguir que percorre os tabuleiros e gera as imagens."
      ]
    },
    {
      "cell_type": "code",
      "metadata": {
        "id": "vzdvseNAsyxc",
        "colab": {
          "base_uri": "https://localhost:8080/",
          "height": 216,
          "referenced_widgets": [
            "ec577471fa2749a68875810b09a7aa6f",
            "eb38dbf437334983b48d9b3b90c45cf7",
            "79e40d6a16ff4b5688b504dea491760e",
            "f38f90cf238441059140a6b58f303ee4",
            "aa19d2ff438941aa9a44eb106d3f1886",
            "7a3e15f9663347cca6f40324477a9d73",
            "dd399764f76a476ba3e350721d784eae"
          ]
        },
        "outputId": "943aaef5-6eb4-4a09-b158-856f5b0c1ead"
      },
      "source": [
        "ttt.display_sequence(images)"
      ],
      "execution_count": 10,
      "outputs": [
        {
          "output_type": "display_data",
          "data": {
            "text/plain": [
              "interactive(children=(IntSlider(value=3, description='frame', max=7), Output()), _dom_classes=('widget-interac…"
            ],
            "application/vnd.jupyter.widget-view+json": {
              "version_major": 2,
              "version_minor": 0,
              "model_id": "ec577471fa2749a68875810b09a7aa6f"
            }
          },
          "metadata": {}
        },
        {
          "output_type": "execute_result",
          "data": {
            "text/plain": [
              "<function tic_tac_toe.display_sequence.<locals>._show(frame=(0, 7))>"
            ]
          },
          "metadata": {},
          "execution_count": 10
        }
      ]
    },
    {
      "cell_type": "markdown",
      "metadata": {
        "id": "9_ID9NMxqH_W"
      },
      "source": [
        "## Exemplo\n",
        "\n",
        "Vamos agora dar um exemplo daquilo que você precisa saber:"
      ]
    },
    {
      "cell_type": "code",
      "metadata": {
        "id": "97-61ovVt4b5"
      },
      "source": [
        "_, history = ttt.game(player, player)\n",
        "images = ttt.generate_image_history(history)\n"
      ],
      "execution_count": 11,
      "outputs": []
    },
    {
      "cell_type": "markdown",
      "source": [
        "De posse de qualquer tabuleiro, podemos também imprimir aquela posição:\n",
        "\n"
      ],
      "metadata": {
        "id": "rXxB77zIfnll"
      }
    },
    {
      "cell_type": "code",
      "source": [
        "ttt.draw_board( history[3] )"
      ],
      "metadata": {
        "colab": {
          "base_uri": "https://localhost:8080/",
          "height": 167
        },
        "id": "Ty14OnNgfwEN",
        "outputId": "3ec970bb-3235-4695-f176-23c29916e610"
      },
      "execution_count": 12,
      "outputs": [
        {
          "output_type": "execute_result",
          "data": {
            "text/plain": [
              "<PIL.Image.Image image mode=RGB size=150x150>"
            ],
            "image/png": "[encoded data removed]"
          },
          "metadata": {},
          "execution_count": 12
        }
      ]
    },
    {
      "cell_type": "markdown",
      "metadata": {
        "id": "SEegJKH6RNv_"
      },
      "source": [
        "# Validando Jogadores\n",
        "\n",
        "Antes de mais nada, vamos criar uma função que gerencia uma série de rodadas para no final sabermos qual jogador está se saindo melhor. A essa série de rodadas chamaremos de **campeonato**. Começaremos com uma implementação simples do **campeonato** só para saber a dinâmica do jogo."
      ]
    },
    {
      "cell_type": "code",
      "metadata": {
        "id": "xX6uYfniRO7Q"
      },
      "source": [
        "def campeonato(player1, player2, num_games = 1000) :\n",
        "    results = [0,0,0]\n",
        "    for i in range(num_games) :\n",
        "        result, x = ttt.game(player1, player2)\n",
        "        results[result] += 1\n",
        "    return tuple(results)"
      ],
      "execution_count": 13,
      "outputs": []
    },
    {
      "cell_type": "code",
      "metadata": {
        "colab": {
          "base_uri": "https://localhost:8080/"
        },
        "id": "6zK08pkuVsaT",
        "outputId": "26847d12-bbb4-48e3-d9df-5307a8ac59b6"
      },
      "source": [
        "results = campeonato(player, player, 1000)\n",
        "print(\"Draw = %i, P1 = %i, P2 = %i\" % results)"
      ],
      "execution_count": 14,
      "outputs": [
        {
          "output_type": "stream",
          "name": "stdout",
          "text": [
            "Draw = 145, P1 = 571, P2 = 284\n"
          ]
        }
      ]
    },
    {
      "cell_type": "markdown",
      "source": [
        "Dado o que vimos acima, o jogador que começa parece ter mais chances de ganhar, uma informação muito importante! Notamos que o jogador **1** e o jogador **-1** têm a mesma inteligência, mas mesmo assim o jogador **1** ganha muito mais vezes.  Usaremos essa informação futuramente para comparar o resultado após melhorar os jogadores com o algoritmo de Monte Carlo.\n",
        "\n",
        "\n",
        "\n"
      ],
      "metadata": {
        "id": "Kh53nIDXgnvA"
      }
    },
    {
      "cell_type": "markdown",
      "metadata": {
        "id": "pjnA5X9kLktV"
      },
      "source": [
        "## Recompensando Tabuleiros\n",
        "\n",
        "No nosso jogo, daremos uma recompensa apenas pela vitória ou pela derrota. Não daremos recompensas para tabuleiros parciais. Entretanto, vale ressaltar que isso poderia ser feito. O código será muito simples, usaremos apenas a função winner.\n",
        "\n",
        "Observe que isso poderia ser modificado. No Xadrez, por exemplo, um tabuleiro não precisa chegar no final do jogo para darmos recompensa, podemos recompensar por:\n",
        "\n",
        "* Quantidade de peças;\n",
        "* Força das peças;\n",
        "* Segurança do rei;\n",
        "* Mobilidade;\n",
        "* Muitos outros.\n",
        "\n",
        "No nosso caso, achamos que apenas o resultado final dará informações suficientes."
      ]
    },
    {
      "cell_type": "code",
      "metadata": {
        "id": "tBPahaQ6MO0p"
      },
      "source": [
        "def rewards(tab) :\n",
        "    lwinner = ttt.winner(tab)\n",
        "    if lwinner == 0 :\n",
        "        return -1\n",
        "    elif lwinner == 1 :\n",
        "        return 10\n",
        "    else :\n",
        "       return -10\n"
      ],
      "execution_count": 15,
      "outputs": []
    },
    {
      "cell_type": "markdown",
      "metadata": {
        "id": "e4Eq-VCoKIuL"
      },
      "source": [
        "## Jogador com Política\n",
        "\n",
        "A inteligência do jogador depende exclusivamente da política e esta depende exclusivamente de quão bem calculados são os state-values. Como Monte Carlo pode ser usado para resolver o processo de **evaluation**, podemos melhorar a política com os novos **state-values**. Várias abordagens são possívels. Por exemplo, podemos executar Monte Carlo com um número fixo de episódios e depois atualizar a política.\n",
        "\n",
        "Uma segunda abordagem que podemos tentar com Monte Carlo é  atualizar a política a cada episódio. Nesse caso, o tempo computacional tende a ser menor. À medida em que a política evolui para a política ótima, os episódios tendem a ser muito mais curtos. Entretanto, um cuidado precisa ser tomado, porque a política pode acabar convergindo muito rapidamente para uma situação não ótima, dando pesos 0 para ações que poderiam ainda ser exploradas.\n",
        "\n",
        "Para evitar que isso aconteça, podemos dar uma probabilidade, nem que seja bem baixa de a política explorar qualquer ação ao acaso. Em outras palavras, podemos assumir que todas as ações terão no mínimo uma probabilidade $\\epsilon$ de ocorrer. Isso garante que nunca deixaremos de explorar.\n",
        "\n",
        "Esta será a abordagem que seguiremos aqui. O nosso jogador não irá seguir a política em uma quantidade de vezes indicada por $\\epsilon$."
      ]
    },
    {
      "cell_type": "code",
      "metadata": {
        "id": "ZjbsBn3UGPWc"
      },
      "source": [
        "import random\n",
        "\n",
        "## Para computação dos state_values, usaremos gamma = 0.7 para\n",
        "## descontos futuros\n",
        "gamma = 0.7\n",
        "\n",
        "## Os state_values serão uma variável global neste notebook. Nele\n",
        "## estará contido tudo aquilo que o agente precisa para fazer uma boa\n",
        "## jogada\n",
        "state_values = {}\n",
        "\n",
        "\n",
        "def player_rl(tab, turn, epsilon = 0) :\n",
        "    valid_moves = ttt.get_valid_moves(tab)\n",
        "\n",
        "    epsilon_random = random.random()\n",
        "    if epsilon_random < epsilon :\n",
        "      return turn, random.choice(valid_moves)\n",
        "    else :\n",
        "      ## A nossa política será fazer o movimento de acordo com os state_values.\n",
        "      ## Escolheremos um dos melhores movimentos. Se turn = 1, significa maximizar\n",
        "      ## os state_values, caso contrário seria minimizar.\n",
        "      scores = []\n",
        "      for move in valid_moves :\n",
        "        next_state = list(tab)\n",
        "        next_state[move] = turn\n",
        "\n",
        "        ## Vejam que estamos inicializando com zero.\n",
        "        scores.append(rewards(tab) + gamma*state_values.get(tuple(next_state), 0))\n",
        "\n",
        "      ## Analisando qual o best score de um tabuleiro.\n",
        "\n",
        "      best_score = None\n",
        "      if (turn == 1) :\n",
        "          best_score = max(scores)\n",
        "      else :\n",
        "          best_score = min(scores)\n",
        "\n",
        "\n",
        "      ## Selecionando quais as jogadas de melhor score. Em caso de empate,\n",
        "      ## escolheremos ao acaso.\n",
        "      best_moves = []\n",
        "      for i in range(len(scores)) :\n",
        "        if scores[i] == best_score :\n",
        "          best_moves.append(valid_moves[i])\n",
        "\n",
        "      ## retornando um dos melhores movimentos\n",
        "      return turn, random.choice(best_moves)"
      ],
      "execution_count": 19,
      "outputs": []
    },
    {
      "cell_type": "markdown",
      "metadata": {
        "id": "Y98zfCaxxCvl"
      },
      "source": [
        "# Monte Carlo\n",
        "\n",
        "Existe uma interseção muito grande entre o nosso conceito de episódio e o resultado já devolvido pela função **game**. O nosso jogador poderá jogar tanto com as peças brancas quanto com as peças pretas. Nesse caso, usaremos a mesma pontuação de **state_values** para ambas as situações. Se o jogador estiver jogando com as brancas, tentará maximizar."
      ]
    },
    {
      "cell_type": "markdown",
      "metadata": {
        "id": "Cwof1vmfKT1O"
      },
      "source": [
        "## Atualizando Valores"
      ]
    },
    {
      "cell_type": "code",
      "metadata": {
        "id": "clwd_GseKTXG"
      },
      "source": [
        "## O código a seguir atualiza os state_values. Note que esses state_values\n",
        "## são uma variável global.\n",
        "\n",
        "def update_state_values_monte_carlo(rewards, amostra, gamma = 0.7, alpha = 0.1) :\n",
        "    ## Definiremos o último state_value como zero para iniciar o processo iterativo.\n",
        "    discounted_return = 0\n",
        "    next_state        = amostra[-1]\n",
        "\n",
        "    ## Observe o uso de \"reversed\" estamos iterando de trás pra frente.\n",
        "    for state in reversed(amostra[:-1]) :\n",
        "        ## Abaixo simplesmente computamos o retorno a longo prazo e somamos com a recompensa imediata\n",
        "        discounted_return = gamma*discounted_return + rewards(next_state)\n",
        "\n",
        "        ## Abaixo a fórmula para atualização dos state-values. Isso substitui o valor esperado (média).\n",
        "        ## Note que estamos inicializando os state_values com zero\n",
        "        state_values[state] = state_values.get(state,0) + alpha*(discounted_return - state_values.get(state, 0))\n",
        "        next_state = state\n"
      ],
      "execution_count": 20,
      "outputs": []
    },
    {
      "cell_type": "markdown",
      "metadata": {
        "id": "EL3EKCv6OPIc"
      },
      "source": [
        "## Efetuando Aprendizado"
      ]
    },
    {
      "cell_type": "code",
      "metadata": {
        "id": "Sbb4S908OT91"
      },
      "source": [
        "alpha  = 0.1 ## Aproximação da média\n",
        "\n",
        "## Reiniciando os state_values, ou seja, o jogador não tem conhecimento prévio\n",
        "state_values = {}\n",
        "\n",
        "ITERACOES = 40000\n",
        "for i in range(ITERACOES) :\n",
        "  epsilon = max(0.01, (ITERACOES - i)/ITERACOES)\n",
        "\n",
        "  _, amostra = ttt.game(player_rl, player_rl, epsilon = epsilon)\n",
        "  update_state_values_monte_carlo(rewards, amostra, gamma, alpha)\n"
      ],
      "execution_count": 23,
      "outputs": []
    },
    {
      "cell_type": "markdown",
      "metadata": {
        "id": "aoSs-g4nP57C"
      },
      "source": [
        "## Validando Resultados\n",
        "\n",
        "Vamos agora colocar o possante jogador contra alguém ao acaso."
      ]
    },
    {
      "cell_type": "code",
      "metadata": {
        "colab": {
          "base_uri": "https://localhost:8080/"
        },
        "id": "8gI5bUdHXQld",
        "outputId": "fa106e64-43eb-41c5-ffb0-8e1c9dc6e1b0"
      },
      "source": [
        "results = campeonato(player, player_rl)\n",
        "print(\"Draw = %i, Acaso = %i, RL = %i\" % results)\n",
        "\n",
        "results = campeonato(player_rl, player)\n",
        "print(\"Draw = %i, RL = %i, Acaso = %i\" % results)"
      ],
      "execution_count": 25,
      "outputs": [
        {
          "output_type": "stream",
          "name": "stdout",
          "text": [
            "Draw = 491, Acaso = 0, RL = 509\n",
            "Draw = 5, RL = 995, Acaso = 0\n"
          ]
        }
      ]
    },
    {
      "cell_type": "code",
      "metadata": {
        "colab": {
          "base_uri": "https://localhost:8080/",
          "height": 216,
          "referenced_widgets": [
            "9a843f842f6641319fdfef0d5d3577c9",
            "02330825d3724ca5979155c2bbde3bce",
            "9553dbbc15504416807baab918ca92a8",
            "a1cd43cae9ba46c48e22c5a66a1bebe7",
            "4c21e254965b464299b54d3313fe88e2",
            "85f60442359a4035b42e3672216362db",
            "f5080053ba5041d98382829f642ad603"
          ]
        },
        "id": "99-SatmcYsEO",
        "outputId": "055c3457-39f5-4d69-9020-d8b5255ad340"
      },
      "source": [
        "result, history = ttt.game(player, player_rl)\n",
        "images = ttt.generate_image_history(history)\n",
        "ttt.display_sequence(images)"
      ],
      "execution_count": 26,
      "outputs": [
        {
          "output_type": "display_data",
          "data": {
            "text/plain": [
              "interactive(children=(IntSlider(value=4, description='frame', max=8), Output()), _dom_classes=('widget-interac…"
            ],
            "application/vnd.jupyter.widget-view+json": {
              "version_major": 2,
              "version_minor": 0,
              "model_id": "9a843f842f6641319fdfef0d5d3577c9"
            }
          },
          "metadata": {}
        },
        {
          "output_type": "execute_result",
          "data": {
            "text/plain": [
              "<function tic_tac_toe.display_sequence.<locals>._show(frame=(0, 8))>"
            ]
          },
          "metadata": {},
          "execution_count": 26
        }
      ]
    },
    {
      "cell_type": "markdown",
      "source": [
        "O jogador ficou melhor do que era antes? A distribuição de vitórias e derrotas é melhor do que o jogador ao acaso?"
      ],
      "metadata": {
        "id": "CDtM8Z8Y3yA_"
      }
    },
    {
      "cell_type": "markdown",
      "source": [
        "# Desafiando Humanos"
      ],
      "metadata": {
        "id": "LFi5eEGO37AK"
      }
    },
    {
      "cell_type": "markdown",
      "metadata": {
        "id": "0mxeIBzKVOW8"
      },
      "source": [
        "Que tal agora desafiar um humano? Vamos gerar um código que torne isso possível, não faremos nada muito mirabolante, apenas trocaremos as chamadas de **print** para **display(board)**.\n"
      ]
    },
    {
      "cell_type": "code",
      "source": [
        "def human_player(tab, turn) :\n",
        "    valids  = ttt.get_valid_moves(tab)\n",
        "    print(valids)\n",
        "\n",
        "    board = ttt.draw_board( tab )\n",
        "    display(board)\n",
        "    move = int(input())\n",
        "\n",
        "    while not move in valids :\n",
        "        move = int(input())\n",
        "    return turn, move"
      ],
      "metadata": {
        "id": "u_exnz7y4BHu"
      },
      "execution_count": 27,
      "outputs": []
    },
    {
      "cell_type": "code",
      "metadata": {
        "id": "Oqn8XI7cP44i",
        "colab": {
          "base_uri": "https://localhost:8080/",
          "height": 721
        },
        "outputId": "244910b8-c837-4335-e390-a6eff9dcae84"
      },
      "source": [
        "result, history = ttt.game(player_rl, human_player)\n",
        "ttt.draw_board(history[-1])"
      ],
      "execution_count": 31,
      "outputs": [
        {
          "output_type": "stream",
          "name": "stdout",
          "text": [
            "[0, 1, 3, 4, 5, 6, 7, 8]\n"
          ]
        },
        {
          "output_type": "display_data",
          "data": {
            "text/plain": [
              "<PIL.Image.Image image mode=RGB size=150x150>"
            ],
            "image/png": "[encoded data removed]"
          },
          "metadata": {}
        },
        {
          "output_type": "stream",
          "name": "stdout",
          "text": [
            "0\n",
            "[1, 3, 4, 5, 6, 7]\n"
          ]
        },
        {
          "output_type": "display_data",
          "data": {
            "text/plain": [
              "<PIL.Image.Image image mode=RGB size=150x150>"
            ],
            "image/png": "[encoded data removed]"
          },
          "metadata": {}
        },
        {
          "output_type": "stream",
          "name": "stdout",
          "text": [
            "5\n",
            "[1, 3, 4, 7]\n"
          ]
        },
        {
          "output_type": "display_data",
          "data": {
            "text/plain": [
              "<PIL.Image.Image image mode=RGB size=150x150>"
            ],
            "image/png": "[encoded data removed]"
          },
          "metadata": {}
        },
        {
          "name": "stdout",
          "output_type": "stream",
          "text": [
            "7\n"
          ]
        },
        {
          "output_type": "execute_result",
          "data": {
            "text/plain": [
              "<PIL.Image.Image image mode=RGB size=150x150>"
            ],
            "image/png": "[encoded data removed]"
          },
          "metadata": {},
          "execution_count": 31
        }
      ]
    },
    {
      "cell_type": "code",
      "source": [
        "images = ttt.generate_image_history(history)\n",
        "ttt.display_sequence(images)"
      ],
      "metadata": {
        "id": "lgiYWJdX4YwL",
        "colab": {
          "base_uri": "https://localhost:8080/",
          "height": 216,
          "referenced_widgets": [
            "34f6353535f440a8baa16da1e9e74dfb",
            "72a4c3d6e2d8486eb6796b3d39ae8a87",
            "f06a4f113689458b8d2ef7e5a84a8b8e",
            "3abd95f29c5d4f6a956bd014746f33d7",
            "ca2f19c57e1b477abadac1111701178b",
            "ab33d08265d74bcdb1778653a069d25d",
            "f31fa37544104ab99b3a9223875c7051"
          ]
        },
        "outputId": "c9cd143e-c9c6-4b77-e4a4-7d3e84f80e70"
      },
      "execution_count": 32,
      "outputs": [
        {
          "output_type": "display_data",
          "data": {
            "text/plain": [
              "interactive(children=(IntSlider(value=3, description='frame', max=6), Output()), _dom_classes=('widget-interac…"
            ],
            "application/vnd.jupyter.widget-view+json": {
              "version_major": 2,
              "version_minor": 0,
              "model_id": "34f6353535f440a8baa16da1e9e74dfb"
            }
          },
          "metadata": {}
        },
        {
          "output_type": "execute_result",
          "data": {
            "text/plain": [
              "<function tic_tac_toe.display_sequence.<locals>._show(frame=(0, 6))>"
            ]
          },
          "metadata": {},
          "execution_count": 32
        }
      ]
    },
    {
      "cell_type": "code",
      "metadata": {
        "id": "PSdgWd9jCI8-",
        "colab": {
          "base_uri": "https://localhost:8080/"
        },
        "outputId": "599dec8c-22fc-4769-e8e7-ef30aa6c21a0"
      },
      "source": [
        "len(state_values)"
      ],
      "execution_count": 33,
      "outputs": [
        {
          "output_type": "execute_result",
          "data": {
            "text/plain": [
              "4519"
            ]
          },
          "metadata": {},
          "execution_count": 33
        }
      ]
    }
  ]
}