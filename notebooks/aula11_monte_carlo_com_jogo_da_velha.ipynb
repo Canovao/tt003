{
  "nbformat": 4,
  "nbformat_minor": 0,
  "metadata": {
    "colab": {
      "provenance": []
    },
    "kernelspec": {
      "name": "python3",
      "display_name": "Python 3"
    },
    "widgets": {
      "application/vnd.jupyter.widget-state+json": {
        "5bce2af2e1d34d5cace4eed630ad8c27": {
          "model_module": "@jupyter-widgets/controls",
          "model_name": "VBoxModel",
          "model_module_version": "1.5.0",
          "state": {
            "_dom_classes": [
              "widget-interact"
            ],
            "_model_module": "@jupyter-widgets/controls",
            "_model_module_version": "1.5.0",
            "_model_name": "VBoxModel",
            "_view_count": null,
            "_view_module": "@jupyter-widgets/controls",
            "_view_module_version": "1.5.0",
            "_view_name": "VBoxView",
            "box_style": "",
            "children": [
              "IPY_MODEL_8cc192c07d334a608bd5511316f90022",
              "IPY_MODEL_0c5fa5ae36534767bbe8bfce006451fd"
            ],
            "layout": "IPY_MODEL_5610c265abad4615a638b42ece619fd5"
          }
        },
        "8cc192c07d334a608bd5511316f90022": {
          "model_module": "@jupyter-widgets/controls",
          "model_name": "IntSliderModel",
          "model_module_version": "1.5.0",
          "state": {
            "_dom_classes": [],
            "_model_module": "@jupyter-widgets/controls",
            "_model_module_version": "1.5.0",
            "_model_name": "IntSliderModel",
            "_view_count": null,
            "_view_module": "@jupyter-widgets/controls",
            "_view_module_version": "1.5.0",
            "_view_name": "IntSliderView",
            "continuous_update": true,
            "description": "frame",
            "description_tooltip": null,
            "disabled": false,
            "layout": "IPY_MODEL_f0dce825d6d4459b99538fdfbe3a8ea0",
            "max": 7,
            "min": 0,
            "orientation": "horizontal",
            "readout": true,
            "readout_format": "d",
            "step": 1,
            "style": "IPY_MODEL_210b5dfb979a476f9a18da272d8053d9",
            "value": 3
          }
        },
        "0c5fa5ae36534767bbe8bfce006451fd": {
          "model_module": "@jupyter-widgets/output",
          "model_name": "OutputModel",
          "model_module_version": "1.0.0",
          "state": {
            "_dom_classes": [],
            "_model_module": "@jupyter-widgets/output",
            "_model_module_version": "1.0.0",
            "_model_name": "OutputModel",
            "_view_count": null,
            "_view_module": "@jupyter-widgets/output",
            "_view_module_version": "1.0.0",
            "_view_name": "OutputView",
            "layout": "IPY_MODEL_4a8b4a81a1d14991b0ebccc1659f3902",
            "msg_id": "",
            "outputs": [
              {
                "output_type": "display_data",
                "data": {
                  "text/plain": "<PIL.Image.Image image mode=RGB size=150x150>",
                  "image/png": "iVBORw0KGgoAAAANSUhEUgAAAJYAAACWCAIAAACzY+a1AAAEc0lEQVR4nO2d2ZabMBBEy5z5cD49D3Y8xAahpbvVpdR9ysygrS8CCQnywF/2fUcCjtXorlIh4XieSQL15uf9r33fp1dupAKVaU1OkVRsxx/mNmmkf/SlzXDWjrN9tGFWkyY6YBf5g682xDepo7hyko574fP3jC5fF9KJfbGj6IKG2/OvfAyxQkyyaOKvxtxpPqep6CyWhjPejbHyZ1sNkzwj2T5+DrM47s/wnv2dFZHFT4UIsWjiz7A+YUV4cKIQzo3J6S+4IEPOFcKtMZn9TSlunEuFcGjMeIZTxsnJKSmEqcW+rDJEM0MdCtwohJFFj0xcSa7tyL1CDAvoTn48Mj6mc0uvp0ohjDQ0JRSV1CoEw2Dy/6RBIRqV+A2FwqA459oUolqM+l8YzQpRoUf+IulRiKIk7wcCweQ//zoV4kKV+l88/QpxJ0z+YhhSiOrhjPBjVCH4V73ZkUJ6dCGlR8MZejSpoEdT+9Sl16AHbPToMTc9WmzKWG4TWvKlRxsv6NH2p6Sl16NNiPPLGuRGod+QpDKrDKHMUIcCJYXek/SODGOimdzZB5cKnYYh+Ye1dOOvc4Wuzchskc4f9IpocBEefCrMfL5/JzG8vJP6gz6X4JRnJL8Kp5yGVhY7euRVKi5/AB57gqXaq+IK1SjX0DVhNsevD3gdfxVfxb4+hC735QwZ2ab7GynXZERjOCwSQgjByCPhbSDVQD9VZU5p2HgxEa5BVjAcCjF71T4zqRVOnPAkmWvVkFoheB77TSS7QjA8fJ8LgULkXgKbDodCaMn3GhqFyLcdJAlMCpFpU1YeyBQi5dbIufAphGnQ2f2BVCGMQr+AP/AqxLCANfyBWiEGNCzjD+wKkXVXcST0CtGoZDF/WEMhqsWs5w/LKESFniX9YSWFKEpa1R8WU4gLVQv7w3oKcSdsMX9YUiFMN+rnZ02FYNg8aIUU0rOmQl1IudFwhhtNKrjR1J4bPWDjRo+5udFiEzda8uVW2C1jJYvECgc1LGORVaGJgDUsUio0DP0CFvkUmged3SKZQqdwU1tkUugaaF6LNAoDQkxqkUNhWHAZLRIoDA4rncXsCqcElMtiaoUTQ0lkMbXCI/FBzKztCIfCWdFksSiEEGKEtq8CD94bKpO/D0t1K8pZKzz/n4oaTOq9n+3qFIPcKyxHvPDXqz9JpC03CssaKtOeHrzvuyyaUFL4HeK+oF+5lEUTLqf2Vv688xTnCv26y3dWsjjIiUItrnLxqVCLq3T8o1CLq4w0DGc8kLZxfhVmiGaGOtBRNSJ1RdoGeSk8xnHu+riMtsKxai8KbNCJT87NvDAMnUbd6EJKjxTSs+UZDepa2od6IT1SSI8U0iOF9EghPVJIjxTSI4X0aGpPj3ohPVJIjxab6NGSLz26kNKj7U/0aBMiPdoKTI825NOj12Lo0ctp9OgVUXr0ojY9+lwCPTcfLbnqMU2hvzpY/ky4/3TQaaBrXJYNyZ8VtR/wMuxJkmdL22f0BqMveR7UKnzSLVLy/PgDtt2RYoztTvYAAAAASUVORK5CYII=\n"
                },
                "metadata": {}
              }
            ]
          }
        },
        "5610c265abad4615a638b42ece619fd5": {
          "model_module": "@jupyter-widgets/base",
          "model_name": "LayoutModel",
          "model_module_version": "1.2.0",
          "state": {
            "_model_module": "@jupyter-widgets/base",
            "_model_module_version": "1.2.0",
            "_model_name": "LayoutModel",
            "_view_count": null,
            "_view_module": "@jupyter-widgets/base",
            "_view_module_version": "1.2.0",
            "_view_name": "LayoutView",
            "align_content": null,
            "align_items": null,
            "align_self": null,
            "border": null,
            "bottom": null,
            "display": null,
            "flex": null,
            "flex_flow": null,
            "grid_area": null,
            "grid_auto_columns": null,
            "grid_auto_flow": null,
            "grid_auto_rows": null,
            "grid_column": null,
            "grid_gap": null,
            "grid_row": null,
            "grid_template_areas": null,
            "grid_template_columns": null,
            "grid_template_rows": null,
            "height": null,
            "justify_content": null,
            "justify_items": null,
            "left": null,
            "margin": null,
            "max_height": null,
            "max_width": null,
            "min_height": null,
            "min_width": null,
            "object_fit": null,
            "object_position": null,
            "order": null,
            "overflow": null,
            "overflow_x": null,
            "overflow_y": null,
            "padding": null,
            "right": null,
            "top": null,
            "visibility": null,
            "width": null
          }
        },
        "f0dce825d6d4459b99538fdfbe3a8ea0": {
          "model_module": "@jupyter-widgets/base",
          "model_name": "LayoutModel",
          "model_module_version": "1.2.0",
          "state": {
            "_model_module": "@jupyter-widgets/base",
            "_model_module_version": "1.2.0",
            "_model_name": "LayoutModel",
            "_view_count": null,
            "_view_module": "@jupyter-widgets/base",
            "_view_module_version": "1.2.0",
            "_view_name": "LayoutView",
            "align_content": null,
            "align_items": null,
            "align_self": null,
            "border": null,
            "bottom": null,
            "display": null,
            "flex": null,
            "flex_flow": null,
            "grid_area": null,
            "grid_auto_columns": null,
            "grid_auto_flow": null,
            "grid_auto_rows": null,
            "grid_column": null,
            "grid_gap": null,
            "grid_row": null,
            "grid_template_areas": null,
            "grid_template_columns": null,
            "grid_template_rows": null,
            "height": null,
            "justify_content": null,
            "justify_items": null,
            "left": null,
            "margin": null,
            "max_height": null,
            "max_width": null,
            "min_height": null,
            "min_width": null,
            "object_fit": null,
            "object_position": null,
            "order": null,
            "overflow": null,
            "overflow_x": null,
            "overflow_y": null,
            "padding": null,
            "right": null,
            "top": null,
            "visibility": null,
            "width": null
          }
        },
        "210b5dfb979a476f9a18da272d8053d9": {
          "model_module": "@jupyter-widgets/controls",
          "model_name": "SliderStyleModel",
          "model_module_version": "1.5.0",
          "state": {
            "_model_module": "@jupyter-widgets/controls",
            "_model_module_version": "1.5.0",
            "_model_name": "SliderStyleModel",
            "_view_count": null,
            "_view_module": "@jupyter-widgets/base",
            "_view_module_version": "1.2.0",
            "_view_name": "StyleView",
            "description_width": "",
            "handle_color": null
          }
        },
        "4a8b4a81a1d14991b0ebccc1659f3902": {
          "model_module": "@jupyter-widgets/base",
          "model_name": "LayoutModel",
          "model_module_version": "1.2.0",
          "state": {
            "_model_module": "@jupyter-widgets/base",
            "_model_module_version": "1.2.0",
            "_model_name": "LayoutModel",
            "_view_count": null,
            "_view_module": "@jupyter-widgets/base",
            "_view_module_version": "1.2.0",
            "_view_name": "LayoutView",
            "align_content": null,
            "align_items": null,
            "align_self": null,
            "border": null,
            "bottom": null,
            "display": null,
            "flex": null,
            "flex_flow": null,
            "grid_area": null,
            "grid_auto_columns": null,
            "grid_auto_flow": null,
            "grid_auto_rows": null,
            "grid_column": null,
            "grid_gap": null,
            "grid_row": null,
            "grid_template_areas": null,
            "grid_template_columns": null,
            "grid_template_rows": null,
            "height": null,
            "justify_content": null,
            "justify_items": null,
            "left": null,
            "margin": null,
            "max_height": null,
            "max_width": null,
            "min_height": null,
            "min_width": null,
            "object_fit": null,
            "object_position": null,
            "order": null,
            "overflow": null,
            "overflow_x": null,
            "overflow_y": null,
            "padding": null,
            "right": null,
            "top": null,
            "visibility": null,
            "width": null
          }
        },
        "9e841b4db2fc44e8af6017532ad9af60": {
          "model_module": "@jupyter-widgets/controls",
          "model_name": "VBoxModel",
          "model_module_version": "1.5.0",
          "state": {
            "_dom_classes": [
              "widget-interact"
            ],
            "_model_module": "@jupyter-widgets/controls",
            "_model_module_version": "1.5.0",
            "_model_name": "VBoxModel",
            "_view_count": null,
            "_view_module": "@jupyter-widgets/controls",
            "_view_module_version": "1.5.0",
            "_view_name": "VBoxView",
            "box_style": "",
            "children": [
              "IPY_MODEL_3083c22b8aed4eb5a197400f714f59ec",
              "IPY_MODEL_b6776223cf024302926f12e24b977412"
            ],
            "layout": "IPY_MODEL_ba960dfbb2ce4bba947e707d38bc01d2"
          }
        },
        "3083c22b8aed4eb5a197400f714f59ec": {
          "model_module": "@jupyter-widgets/controls",
          "model_name": "IntSliderModel",
          "model_module_version": "1.5.0",
          "state": {
            "_dom_classes": [],
            "_model_module": "@jupyter-widgets/controls",
            "_model_module_version": "1.5.0",
            "_model_name": "IntSliderModel",
            "_view_count": null,
            "_view_module": "@jupyter-widgets/controls",
            "_view_module_version": "1.5.0",
            "_view_name": "IntSliderView",
            "continuous_update": true,
            "description": "frame",
            "description_tooltip": null,
            "disabled": false,
            "layout": "IPY_MODEL_f4a676260dce432fbc95f4ad990c7e6f",
            "max": 8,
            "min": 0,
            "orientation": "horizontal",
            "readout": true,
            "readout_format": "d",
            "step": 1,
            "style": "IPY_MODEL_b1b811af0eae4248a7fd86e63de614bd",
            "value": 0
          }
        },
        "b6776223cf024302926f12e24b977412": {
          "model_module": "@jupyter-widgets/output",
          "model_name": "OutputModel",
          "model_module_version": "1.0.0",
          "state": {
            "_dom_classes": [],
            "_model_module": "@jupyter-widgets/output",
            "_model_module_version": "1.0.0",
            "_model_name": "OutputModel",
            "_view_count": null,
            "_view_module": "@jupyter-widgets/output",
            "_view_module_version": "1.0.0",
            "_view_name": "OutputView",
            "layout": "IPY_MODEL_060541eef56d4181b4cc3aca35cf6a0f",
            "msg_id": "",
            "outputs": [
              {
                "output_type": "display_data",
                "data": {
                  "text/plain": "<PIL.Image.Image image mode=RGB size=150x150>",
                  "image/png": "iVBORw0KGgoAAAANSUhEUgAAAJYAAACWCAIAAACzY+a1AAACWUlEQVR4nO3cUY6CQBQF0eusnKX7NzEGHZSm+9Wbqg3YuScxgIbbtm0p1u+RSp2t5qmS/Kw+gJ1NQnwS4pMQn4T4JMQnIT4J8UmIT0J8EuKTEJ+E+CTEJyE+CfFJiE9CfBLikxCfhPgkxCchPgnxSYhPQnwS4pMQn4T4JMQnIT4J8UmIT0J8EuKTEJ+E+CTEJyE+CfFJiE9CfBLikxCfhPgkxCchPgnNzOy/d6v2punsvfx64SFLHWY3xuXMqtWqae3GIMyKNRF+KU74NOLMTRd+9KeVJsyiKUF+qU+Y6YOy/IIgzMRZcX6hEGbKuES/gAhz8cRQv7AIc9nQXL/gCHPB3Gi/EAkzdHS6X6CEGTR9A79wCXMaoIdf0IQ5wdDGL3TCfIXRyS8NCPMhSTO/9CDMYZh+fmlDmAM8Lf3SiTBvkbr6pRlhXlA19ks/wvwF1swvLQlz+HKmRz0JQ/jz4KgkxNeT0C9Sdl7OsPOmgp239ux8wMbOx9zs/LGJnT/5sgm/xuikCCY8ydBGkUo4BKCHIpJw4PQNFHmEw0enK8IIL5obrUgivHRoriKGcMLEUEUG4bRxiYoAwsmz4hSrEy4ZlKVYmnDhlCDF0oSPzR+xMttjDMJVa1IUzczsTKXfClzqbDVPFcrljL1JQnwS4pMQn4T4JMQnIT4J8UmIT0J8EuKTEJ+E+CTEJyE+CfFJiE9CfBLikxCfhPgkxCchPgnxSYhPQnwS4pMQn4T4JMQnIT4J8UmIT0J8EuKTEJ+E+CTEJyE+CfFJiE9CfBLikxCfhPgkxCchvjvp/RCtU3qqvgAAAABJRU5ErkJggg==\n"
                },
                "metadata": {}
              }
            ]
          }
        },
        "ba960dfbb2ce4bba947e707d38bc01d2": {
          "model_module": "@jupyter-widgets/base",
          "model_name": "LayoutModel",
          "model_module_version": "1.2.0",
          "state": {
            "_model_module": "@jupyter-widgets/base",
            "_model_module_version": "1.2.0",
            "_model_name": "LayoutModel",
            "_view_count": null,
            "_view_module": "@jupyter-widgets/base",
            "_view_module_version": "1.2.0",
            "_view_name": "LayoutView",
            "align_content": null,
            "align_items": null,
            "align_self": null,
            "border": null,
            "bottom": null,
            "display": null,
            "flex": null,
            "flex_flow": null,
            "grid_area": null,
            "grid_auto_columns": null,
            "grid_auto_flow": null,
            "grid_auto_rows": null,
            "grid_column": null,
            "grid_gap": null,
            "grid_row": null,
            "grid_template_areas": null,
            "grid_template_columns": null,
            "grid_template_rows": null,
            "height": null,
            "justify_content": null,
            "justify_items": null,
            "left": null,
            "margin": null,
            "max_height": null,
            "max_width": null,
            "min_height": null,
            "min_width": null,
            "object_fit": null,
            "object_position": null,
            "order": null,
            "overflow": null,
            "overflow_x": null,
            "overflow_y": null,
            "padding": null,
            "right": null,
            "top": null,
            "visibility": null,
            "width": null
          }
        },
        "f4a676260dce432fbc95f4ad990c7e6f": {
          "model_module": "@jupyter-widgets/base",
          "model_name": "LayoutModel",
          "model_module_version": "1.2.0",
          "state": {
            "_model_module": "@jupyter-widgets/base",
            "_model_module_version": "1.2.0",
            "_model_name": "LayoutModel",
            "_view_count": null,
            "_view_module": "@jupyter-widgets/base",
            "_view_module_version": "1.2.0",
            "_view_name": "LayoutView",
            "align_content": null,
            "align_items": null,
            "align_self": null,
            "border": null,
            "bottom": null,
            "display": null,
            "flex": null,
            "flex_flow": null,
            "grid_area": null,
            "grid_auto_columns": null,
            "grid_auto_flow": null,
            "grid_auto_rows": null,
            "grid_column": null,
            "grid_gap": null,
            "grid_row": null,
            "grid_template_areas": null,
            "grid_template_columns": null,
            "grid_template_rows": null,
            "height": null,
            "justify_content": null,
            "justify_items": null,
            "left": null,
            "margin": null,
            "max_height": null,
            "max_width": null,
            "min_height": null,
            "min_width": null,
            "object_fit": null,
            "object_position": null,
            "order": null,
            "overflow": null,
            "overflow_x": null,
            "overflow_y": null,
            "padding": null,
            "right": null,
            "top": null,
            "visibility": null,
            "width": null
          }
        },
        "b1b811af0eae4248a7fd86e63de614bd": {
          "model_module": "@jupyter-widgets/controls",
          "model_name": "SliderStyleModel",
          "model_module_version": "1.5.0",
          "state": {
            "_model_module": "@jupyter-widgets/controls",
            "_model_module_version": "1.5.0",
            "_model_name": "SliderStyleModel",
            "_view_count": null,
            "_view_module": "@jupyter-widgets/base",
            "_view_module_version": "1.2.0",
            "_view_name": "StyleView",
            "description_width": "",
            "handle_color": null
          }
        },
        "060541eef56d4181b4cc3aca35cf6a0f": {
          "model_module": "@jupyter-widgets/base",
          "model_name": "LayoutModel",
          "model_module_version": "1.2.0",
          "state": {
            "_model_module": "@jupyter-widgets/base",
            "_model_module_version": "1.2.0",
            "_model_name": "LayoutModel",
            "_view_count": null,
            "_view_module": "@jupyter-widgets/base",
            "_view_module_version": "1.2.0",
            "_view_name": "LayoutView",
            "align_content": null,
            "align_items": null,
            "align_self": null,
            "border": null,
            "bottom": null,
            "display": null,
            "flex": null,
            "flex_flow": null,
            "grid_area": null,
            "grid_auto_columns": null,
            "grid_auto_flow": null,
            "grid_auto_rows": null,
            "grid_column": null,
            "grid_gap": null,
            "grid_row": null,
            "grid_template_areas": null,
            "grid_template_columns": null,
            "grid_template_rows": null,
            "height": null,
            "justify_content": null,
            "justify_items": null,
            "left": null,
            "margin": null,
            "max_height": null,
            "max_width": null,
            "min_height": null,
            "min_width": null,
            "object_fit": null,
            "object_position": null,
            "order": null,
            "overflow": null,
            "overflow_x": null,
            "overflow_y": null,
            "padding": null,
            "right": null,
            "top": null,
            "visibility": null,
            "width": null
          }
        },
        "4ef0c942972b4a26bad7c737098e89bb": {
          "model_module": "@jupyter-widgets/controls",
          "model_name": "VBoxModel",
          "model_module_version": "1.5.0",
          "state": {
            "_dom_classes": [
              "widget-interact"
            ],
            "_model_module": "@jupyter-widgets/controls",
            "_model_module_version": "1.5.0",
            "_model_name": "VBoxModel",
            "_view_count": null,
            "_view_module": "@jupyter-widgets/controls",
            "_view_module_version": "1.5.0",
            "_view_name": "VBoxView",
            "box_style": "",
            "children": [
              "IPY_MODEL_d7bca8538e924cbdaba5124d021b89f1",
              "IPY_MODEL_26969e49da574250a6eaf4aa66259a4d"
            ],
            "layout": "IPY_MODEL_079c37acf49b4d598062f28a8c513d1c"
          }
        },
        "d7bca8538e924cbdaba5124d021b89f1": {
          "model_module": "@jupyter-widgets/controls",
          "model_name": "IntSliderModel",
          "model_module_version": "1.5.0",
          "state": {
            "_dom_classes": [],
            "_model_module": "@jupyter-widgets/controls",
            "_model_module_version": "1.5.0",
            "_model_name": "IntSliderModel",
            "_view_count": null,
            "_view_module": "@jupyter-widgets/controls",
            "_view_module_version": "1.5.0",
            "_view_name": "IntSliderView",
            "continuous_update": true,
            "description": "frame",
            "description_tooltip": null,
            "disabled": false,
            "layout": "IPY_MODEL_d7a0568eeab944e580ac6c6cdc741b15",
            "max": 6,
            "min": 0,
            "orientation": "horizontal",
            "readout": true,
            "readout_format": "d",
            "step": 1,
            "style": "IPY_MODEL_e806e79b02174fa8aab4af67a89cd4aa",
            "value": 3
          }
        },
        "26969e49da574250a6eaf4aa66259a4d": {
          "model_module": "@jupyter-widgets/output",
          "model_name": "OutputModel",
          "model_module_version": "1.0.0",
          "state": {
            "_dom_classes": [],
            "_model_module": "@jupyter-widgets/output",
            "_model_module_version": "1.0.0",
            "_model_name": "OutputModel",
            "_view_count": null,
            "_view_module": "@jupyter-widgets/output",
            "_view_module_version": "1.0.0",
            "_view_name": "OutputView",
            "layout": "IPY_MODEL_453997292ed24e73ab7e40d08573c1cc",
            "msg_id": "",
            "outputs": [
              {
                "output_type": "display_data",
                "data": {
                  "text/plain": "<PIL.Image.Image image mode=RGB size=150x150>",
                  "image/png": "iVBORw0KGgoAAAANSUhEUgAAAJYAAACWCAIAAACzY+a1AAAEHklEQVR4nO2d23KkMAwFCbUf7k/fh1RlswGMLMu2jtP9Olg64x7AzIX5KKUcHVSGuyt/H9gZL4ofMVKl+nCkGT0k23zdBsiT6mwd5ovuHnisnqyn7nlSWRX2OOgvsmq+6n2TpHo/kLqfRvjAyVNmbLc2VSnlZS+szObrLlXfxvLMF54UK62zpaopvIazmLutczsqrcXXpqlSPSr0zXhTCGPNyfNlbJcn1b3C64CoiNdSqSw2NUqS6kbhhGQ5LYqm+qkwySsrasjQPJ0Do4qflS2SnHU6hwxKEji8s2zDcmYEji7h8xVScGGq07LRNIwZAudrg1KmFelQFr7q99ihz+t283dHX3fpE1jg8Nq7M/nRXUYGDjybeiQkz7K2s4U71ct14TSmnfwn+HM06kmlfSD9wjgF0/w1tetMtYnCwzARk/0Zm/anOteuRb8zdE2/xN9r65BU++yFn9xOykJ/tx1jU+2m8HibmiTrtcBUGyo8zAuHyQxKtafCw7BwWMKIVCicCgqtcCDVhuWMNr/xooJL+9FwaW/ldTqWWJyQahOFxomYbHFOKj5s8vetMy3V2TogG44nP8HizFTaB1L30x5qcXKq87r12jX3NA2DLM5Pdb8XLlxz+0YtLBJesLXIP4UZzojGDIFTv0Gpx3PhHKOOLnvsOoEF/1M4YanW2W6bE1hg2ZfrwnEW8/jrLL481c2BdILFbP7cLTKkMq1ISymBB4ecM+VolCRVw3Im/BRtrJnzDJ0nVe3dmdsZd+yRT6MS+jM2TZWKuz89Ymy3NlUpxXonxMCgvhfN5JkyNs2QqnYg/TEs5FzoK7Jkpl775kwFAACteG7sPJqvSKmy5Ux1qH9qDwcKNwCF8qBQHhTKg0J5UCgPCuVBoTwolAeF8qBQHhTKg0J5UCgPCuVBoTwolAeF8qBQHhTKg0J5UCgPCuVBoTwolAeF8qBQHhTKg0J5UCgPCuVBoTwolAeF8qBQHhTKg0J5UCgPCuVBoTwolAeF8qBQHhTKg0IAAPjtcFdgK62pOsPbh//paQO3hLzyPotYSqEwkkF/kFMvi8Iwev6nqH6Urv9FCwpj8P2pWKXO9b+ZngpyaR9AlD9fTRT2Yt9dHJWvxa+bobALyxSPboFCPxP8WRqh0Mk0f6/tUBjAnHeRWM5EkuGdv68MKOxlpk5WpDF8n8f5u+O1OwrlQaE2pRQU+lm1qOG6cDdQKA8Knay9NOTdma1AoTwolAeF8qBQHhTKg0J5UCgPCp1waQ9hoFAeFPrhwyYIgI98dwCFzfD1p93gS4iS8FXg3eAL+ZLws5gd4MdpO8BPRHeAH2rvwHVm+y3aa3LTkhgqe0yTzqeNK0VQGMbTIdTisq65/igKIynV+205jq6WISiMpy6yqYgFFI7CLbJ1yF+ZpI5ZFn5tPAAAAABJRU5ErkJggg==\n"
                },
                "metadata": {}
              }
            ]
          }
        },
        "079c37acf49b4d598062f28a8c513d1c": {
          "model_module": "@jupyter-widgets/base",
          "model_name": "LayoutModel",
          "model_module_version": "1.2.0",
          "state": {
            "_model_module": "@jupyter-widgets/base",
            "_model_module_version": "1.2.0",
            "_model_name": "LayoutModel",
            "_view_count": null,
            "_view_module": "@jupyter-widgets/base",
            "_view_module_version": "1.2.0",
            "_view_name": "LayoutView",
            "align_content": null,
            "align_items": null,
            "align_self": null,
            "border": null,
            "bottom": null,
            "display": null,
            "flex": null,
            "flex_flow": null,
            "grid_area": null,
            "grid_auto_columns": null,
            "grid_auto_flow": null,
            "grid_auto_rows": null,
            "grid_column": null,
            "grid_gap": null,
            "grid_row": null,
            "grid_template_areas": null,
            "grid_template_columns": null,
            "grid_template_rows": null,
            "height": null,
            "justify_content": null,
            "justify_items": null,
            "left": null,
            "margin": null,
            "max_height": null,
            "max_width": null,
            "min_height": null,
            "min_width": null,
            "object_fit": null,
            "object_position": null,
            "order": null,
            "overflow": null,
            "overflow_x": null,
            "overflow_y": null,
            "padding": null,
            "right": null,
            "top": null,
            "visibility": null,
            "width": null
          }
        },
        "d7a0568eeab944e580ac6c6cdc741b15": {
          "model_module": "@jupyter-widgets/base",
          "model_name": "LayoutModel",
          "model_module_version": "1.2.0",
          "state": {
            "_model_module": "@jupyter-widgets/base",
            "_model_module_version": "1.2.0",
            "_model_name": "LayoutModel",
            "_view_count": null,
            "_view_module": "@jupyter-widgets/base",
            "_view_module_version": "1.2.0",
            "_view_name": "LayoutView",
            "align_content": null,
            "align_items": null,
            "align_self": null,
            "border": null,
            "bottom": null,
            "display": null,
            "flex": null,
            "flex_flow": null,
            "grid_area": null,
            "grid_auto_columns": null,
            "grid_auto_flow": null,
            "grid_auto_rows": null,
            "grid_column": null,
            "grid_gap": null,
            "grid_row": null,
            "grid_template_areas": null,
            "grid_template_columns": null,
            "grid_template_rows": null,
            "height": null,
            "justify_content": null,
            "justify_items": null,
            "left": null,
            "margin": null,
            "max_height": null,
            "max_width": null,
            "min_height": null,
            "min_width": null,
            "object_fit": null,
            "object_position": null,
            "order": null,
            "overflow": null,
            "overflow_x": null,
            "overflow_y": null,
            "padding": null,
            "right": null,
            "top": null,
            "visibility": null,
            "width": null
          }
        },
        "e806e79b02174fa8aab4af67a89cd4aa": {
          "model_module": "@jupyter-widgets/controls",
          "model_name": "SliderStyleModel",
          "model_module_version": "1.5.0",
          "state": {
            "_model_module": "@jupyter-widgets/controls",
            "_model_module_version": "1.5.0",
            "_model_name": "SliderStyleModel",
            "_view_count": null,
            "_view_module": "@jupyter-widgets/base",
            "_view_module_version": "1.2.0",
            "_view_name": "StyleView",
            "description_width": "",
            "handle_color": null
          }
        },
        "453997292ed24e73ab7e40d08573c1cc": {
          "model_module": "@jupyter-widgets/base",
          "model_name": "LayoutModel",
          "model_module_version": "1.2.0",
          "state": {
            "_model_module": "@jupyter-widgets/base",
            "_model_module_version": "1.2.0",
            "_model_name": "LayoutModel",
            "_view_count": null,
            "_view_module": "@jupyter-widgets/base",
            "_view_module_version": "1.2.0",
            "_view_name": "LayoutView",
            "align_content": null,
            "align_items": null,
            "align_self": null,
            "border": null,
            "bottom": null,
            "display": null,
            "flex": null,
            "flex_flow": null,
            "grid_area": null,
            "grid_auto_columns": null,
            "grid_auto_flow": null,
            "grid_auto_rows": null,
            "grid_column": null,
            "grid_gap": null,
            "grid_row": null,
            "grid_template_areas": null,
            "grid_template_columns": null,
            "grid_template_rows": null,
            "height": null,
            "justify_content": null,
            "justify_items": null,
            "left": null,
            "margin": null,
            "max_height": null,
            "max_width": null,
            "min_height": null,
            "min_width": null,
            "object_fit": null,
            "object_position": null,
            "order": null,
            "overflow": null,
            "overflow_x": null,
            "overflow_y": null,
            "padding": null,
            "right": null,
            "top": null,
            "visibility": null,
            "width": null
          }
        }
      }
    }
  },
  "cells": [
    {
      "cell_type": "markdown",
      "metadata": {
        "id": "TLP3rFVYq_Ac"
      },
      "source": [
        "# Monte Carlo no Jogo da Velha\n",
        "\n",
        "Vamos agora exemplificar o uso do algoritmo de Monte Carlo com um jogo bastante simples, um jogo da velha, e ver como ele se comporta e se converge rápida ou lentamente. Para tanto, precisamos definir o ambiente onde o jogador irá se movimentar. Vale lembrar que o que precisamos é:\n",
        "\n",
        "1. Um mecanismo que nos diga quais as jogadas possíveis a partir de um determinado estado.\n",
        "2. Um mecanismo que nos diga quando o jogo acabou.\n",
        "\n",
        "A seguir, vamos criar um conjunto de métodos que utilizamos para criar o jogo da velha. Note que não precisaremos fazer o mesmo para o jogo de xadrez, porque muito já foi implementado pela biblioteca chess, que aprendemos em semanas anteriores.\n",
        "\n",
        "As regras do jogo da velha dispensam grandes introduções. Entretanto, para manter o notebook auto-contido, vamos explicar algumas coisas óbvias.\n",
        "\n",
        "No jogo da velha, temos dois tipos de peças, a peça **\"x\"** e a peça **\"o\"**. Cada um dos dois jogadores é responsável por adicionar um tipo de peça. Vence quem formar uma sequência de três na horizontal, vertical ou diagonal. Vamos primeiramente pensar em como podemos representar um tabuleiro de jogo da velha:"
      ]
    },
    {
      "cell_type": "markdown",
      "source": [
        "## Jogadores\n",
        "\n",
        "O jogo da velha é jogado por dois jogadores. Seguiremos um padrão para nomear os jogadores:\n",
        "\n",
        "**O jogador que inicia a partida será chamado de \"1\", o outro jogador será chamado de \"-1\"**\n",
        "\n",
        "Como no jogo da velha as peças **x** começam, então o jogador que conduz as peças **x** será o jogador **1**, enquanto que o jogador que conduz as peças **o** será chamado de **-1**.\n"
      ],
      "metadata": {
        "id": "AtT4bHLQZWjE"
      }
    },
    {
      "cell_type": "markdown",
      "source": [
        "## Tabuleiro\n",
        "\n",
        "A forma mais óbvia de representar o tabuleiro é por meio de uma tupla de nove elementos, onde cada elemento representa uma célula do tabuleiro. Outras formas poderiam ser pensadas, uma matriz ou uma string, por exemplo, mas vamos seguir com um tupla.\n",
        "\n",
        "Cada célula do tabuleiro pode:\n",
        "\n",
        "\n",
        "1.   Estar vazia\n",
        "2.   Conter **x**\n",
        "3.   Conter **o**\n",
        "\n",
        "Como são três estados possíveis, podemos representar uma célula vazia com o número zero, uma célula com **x** com o número **1** (dado que o jogador que conduz o **x** é chamado de jogador **1**), e uma célula com **o** com o número **-1** (dado que o jogador que conduz as bolas é chamado de **-1**). Dessa forma, a seguir temos um tabuleiro vazio:\n",
        "\n",
        "tabuleiro = (\n",
        "    \n",
        "             0, 0, 0,\n",
        "\n",
        "             0, 0, 0,\n",
        "             \n",
        "             0, 0, 0\n",
        "             \n",
        ")\n",
        "\n",
        "A seguir, temos um tabuleiro com um **x** no canto superior esquerdo.\n",
        "\n",
        "tabuleiro = (\n",
        "    \n",
        "             1, 0, 0,\n",
        "\n",
        "             0, 0, 0,\n",
        "             \n",
        "             0, 0, 0\n",
        "             \n",
        ")\n",
        "\n",
        "A seguir, temos um tabuleiro com um **x** no canto superior esquerdo e um **o** no centro.\n",
        "\n",
        "tabuleiro = (\n",
        "    \n",
        "             1, 0, 0,\n",
        "\n",
        "             0,-1, 0,\n",
        "             \n",
        "             0, 0, 0\n",
        "             \n",
        ")\n",
        "\n",
        "Em jogos com classes de peças, como o xadrez, seria interessante dar números diferentes para cada peça. Por exemplo: peão = 1, cavalo = 2, bispo = 3, torre = 4, rainha = 5, rei = 6. Feito isso, um peão branco seria representado como **1** e um peão preto seria representado como **-1**, um cavalo branco seria o **1** e um cavalo preto seria o **-1**.\n",
        "\n",
        "Vamos implementar um tabuleiro em nosso código:\n"
      ],
      "metadata": {
        "id": "-No1-KpGZrGk"
      }
    },
    {
      "cell_type": "code",
      "source": [
        "## Tabuleiro vazio:\n",
        "tabuleiro = (0,0,0, 0,0,0, 0,0,0)"
      ],
      "metadata": {
        "id": "dAIZFxoBZqI_"
      },
      "execution_count": null,
      "outputs": []
    },
    {
      "cell_type": "markdown",
      "source": [
        "Note que a implementação é bastante simples, passamos mais tempo explicando do que realmente programando."
      ],
      "metadata": {
        "id": "VQ8T0pkuaP_k"
      }
    },
    {
      "cell_type": "markdown",
      "metadata": {
        "id": "-MFu-SrPrLQu"
      },
      "source": [
        "## Vencedor do Jogo\n",
        "\n",
        "Agora que definimos um tabuleiro, devemos codificar as regras que definem quem venceu a partida. Para vencer uma partida no jogo da velha, um jogador precisa preencher uma linha, uma coluna, ou uma diagonal. Podemos começar listando todas as combinações de índices que podem gerar uma vitória:\n",
        "\n",
        "\n",
        "**Linhas:**\n",
        "\n",
        "*   **0, 1, 2**\n",
        "*   **3, 4, 5**\n",
        "*   **6, 7, 8**\n",
        "\n",
        "**Colunas:**\n",
        "*   **0, 3, 6**\n",
        "*   **1, 4, 7**\n",
        "*   **2, 5, 8**\n",
        "\n",
        "**Diagonais:**\n",
        "*   **0, 4, 8**\n",
        "*   **2, 4, 6**\n",
        "\n",
        "São poucas as combinações de vitórias, então podemos muito bem criar uma função que verifica se alguma delas foi satisfeita. Como não é função desta aula ver em detalhes como as implementações do jogo da velha foram feitas. Precisamos apenas colocar todas elas em um lugar acessível. Veja a célula abaixo para entender qual biblioteca usaremos."
      ]
    },
    {
      "cell_type": "code",
      "source": [
        "## Efetuando o download do código da biblioteca\n",
        "!wget https://www.ic.unicamp.br/~udias/si202/tic_tac_toe.py\n",
        "\n",
        "## Importando a biblioteca\n",
        "import tic_tac_toe as ttt"
      ],
      "metadata": {
        "colab": {
          "base_uri": "https://localhost:8080/"
        },
        "id": "X16z0CA607kY",
        "outputId": "2160f87a-0fe5-4f8f-8454-7f7c9d142624"
      },
      "execution_count": 37,
      "outputs": [
        {
          "output_type": "stream",
          "name": "stdout",
          "text": [
            "--2023-11-16 21:50:05--  https://www.ic.unicamp.br/~udias/si202/tic_tac_toe.py\n",
            "Resolving www.ic.unicamp.br (www.ic.unicamp.br)... 143.106.7.54, 2801:8a:40c0:cafe::54\n",
            "Connecting to www.ic.unicamp.br (www.ic.unicamp.br)|143.106.7.54|:443... connected.\n",
            "HTTP request sent, awaiting response... 200 OK\n",
            "Length: 3650 (3.6K)\n",
            "Saving to: ‘tic_tac_toe.py.1’\n",
            "\n",
            "tic_tac_toe.py.1    100%[===================>]   3.56K  --.-KB/s    in 0s      \n",
            "\n",
            "2023-11-16 21:50:05 (191 MB/s) - ‘tic_tac_toe.py.1’ saved [3650/3650]\n",
            "\n"
          ]
        }
      ]
    },
    {
      "cell_type": "markdown",
      "source": [
        "Note que a biblioteca que está no link acima pode ser analisada manualmente por você."
      ],
      "metadata": {
        "id": "_8YeDnnhHO5u"
      }
    },
    {
      "cell_type": "code",
      "metadata": {
        "colab": {
          "base_uri": "https://localhost:8080/"
        },
        "id": "G6ktJl91qlP3",
        "outputId": "9c6ccd65-12c3-4790-c847-3f205e46c84b"
      },
      "source": [
        "tab = [1,1,-1, 1,-1,0, -1,1,-1]\n",
        "ttt.winner(tab)"
      ],
      "execution_count": 2,
      "outputs": [
        {
          "output_type": "execute_result",
          "data": {
            "text/plain": [
              "-1"
            ]
          },
          "metadata": {},
          "execution_count": 2
        }
      ]
    },
    {
      "cell_type": "markdown",
      "metadata": {
        "id": "ZxJvUPEPrO-m"
      },
      "source": [
        "## Movimentos Válidos\n",
        "\n",
        "Agora que temos uma definição do tabuleiro e uma definição das condições de vitória, precisamos definir as jogadas válidas na partida. No jogo da velha, um jogador pode inserir uma peça em qualquer célula não preenchida. Nesse caso, podemos representar uma jogada válida como o índice de uma célula não preenchida. Por exemplo, a função **ttt.get_valid_moves** retorna os movimentos válidos a partir de um tabuleiro. No tabuleiro mostrado abaixo, apenas a célula 5 está vazia, então esta célula é o único movimento válido."
      ]
    },
    {
      "cell_type": "code",
      "metadata": {
        "colab": {
          "base_uri": "https://localhost:8080/"
        },
        "id": "KHmQNxOqq9gw",
        "outputId": "3d1b6dbb-99f4-42bb-dcf1-d42f84f26e96"
      },
      "source": [
        "tab = [1,1,-1, 1,-1,0, -1,1,-1]\n",
        "ttt.get_valid_moves(tab)"
      ],
      "execution_count": 38,
      "outputs": [
        {
          "output_type": "execute_result",
          "data": {
            "text/plain": [
              "[5]"
            ]
          },
          "metadata": {},
          "execution_count": 38
        }
      ]
    },
    {
      "cell_type": "markdown",
      "metadata": {
        "id": "Hi05t3NqDpd0"
      },
      "source": [
        "## Gerando Jogadas ao Acaso\n",
        "\n",
        "Supondo que queremos criar um **bot** para jogar jogo da velha, o que ele precisa saber? Obviamente ele precisa saber quais são as jogadas válidas e qual peças ele está conduzindo. Basta isso para criarmos um jogador sem nenhum tipo de inteligência, que escolha ao acaso uma jogada dentre todas as disponíveis.\n",
        "\n",
        "Se quisermos que o jogador tenha algum tipo de inteligência, provavelmente ele precisará de uma função que possibilite a pontuação dos tabuleiros. Essa função receberá um determinado tabuleiro e dará uma nota para o tabuleiro, uma espécie de **score**, quanto maior o **score** do tabuleiro, melhor ele é segundo a função de pontuação.\n",
        "\n",
        "A seguir, vamos tentar uma primeira implementação e depois podemos reformular o nosso jogador para que tenha algum tipo de inteligência."
      ]
    },
    {
      "cell_type": "code",
      "metadata": {
        "colab": {
          "base_uri": "https://localhost:8080/"
        },
        "id": "JzHQdIfgDxno",
        "outputId": "4df7c2a5-ef1c-47da-cd53-741ec563a0bf"
      },
      "source": [
        "tabuleiro = (1, -1, -1,  1, -1, 1,  1, 0, 0)\n",
        "\n",
        "## O jogador retornará a peça que irá colocar no\n",
        "## tabuleiro, seguida da posição no tabuleiro onde\n",
        "## deverá colocar a peça.\n",
        "ttt.random_player(tabuleiro, -1)"
      ],
      "execution_count": 39,
      "outputs": [
        {
          "output_type": "execute_result",
          "data": {
            "text/plain": [
              "(-1, 7)"
            ]
          },
          "metadata": {},
          "execution_count": 39
        }
      ]
    },
    {
      "cell_type": "markdown",
      "metadata": {
        "id": "wAXcFVrdrosu"
      },
      "source": [
        "## Gerando Episódios\n",
        "\n",
        "Temos um tabuleiro e um jogador que pode conduzir qualquer uma das peças. O que devemos fazer agora é criar um gerenciador de jogo para que uma partida possa ser iniciada e conduzida. Cada partida será chamada de episódio. O gerenciador de um jogo gerará um episódio. Ele deverá:\n",
        "\n",
        "1.   Garantir que pedirá para o jogador certo jogar (alternância entre jogadores **x** e **o**).\n",
        "2.   Gerenciar o tabuleiro de modo a fazer com que as jogadas sejam concretizadas.\n",
        "3.   Verificar se as condições de vitória, derrota ou empates já foram satisfeitas.\n",
        "4.   Armazenar um histórico de jogadas, para que os jogadores posteriormente possam analisar o que fizeram. Esse histórico de jogadas será o episódio propriamente dito e com ele deveremos ser capazes de ver, de alguma forma, todas as ações realizadas.\n",
        "\n",
        "Vamos ver uma função que faz tudo isso."
      ]
    },
    {
      "cell_type": "code",
      "source": [
        "### Selecionando jogadores:\n",
        "player = ttt.random_player"
      ],
      "metadata": {
        "id": "MOuR6qZ6cgYO"
      },
      "execution_count": 9,
      "outputs": []
    },
    {
      "cell_type": "code",
      "source": [
        "## Iniciando uma partida\n",
        "result, history = ttt.game(player, player)\n",
        "print(result)\n",
        "print(history)"
      ],
      "metadata": {
        "colab": {
          "base_uri": "https://localhost:8080/"
        },
        "id": "cir_PCTP3Nko",
        "outputId": "456371b4-8775-45ab-fce0-593d2cb1041a"
      },
      "execution_count": 10,
      "outputs": [
        {
          "output_type": "stream",
          "name": "stdout",
          "text": [
            "-1\n",
            "[(1, 0, 0, 0, 0, 0, 0, 0, 0), (1, -1, 0, 0, 0, 0, 0, 0, 0), (1, -1, 0, 0, 1, 0, 0, 0, 0), (1, -1, 0, 0, 1, 0, -1, 0, 0), (1, -1, 0, 1, 1, 0, -1, 0, 0), (1, -1, 0, 1, 1, 0, -1, 0, -1), (1, -1, 1, 1, 1, 0, -1, 0, -1), (1, -1, 1, 1, 1, 0, -1, -1, -1)]\n"
          ]
        }
      ]
    },
    {
      "cell_type": "markdown",
      "source": [
        "Note que o seu primeiro passo ao implementar uma agente para qualquer jogo, ou qualquer ambiente, é conseguir gerar o que fizemos até aqui: **criar um mecanismo para gerar episódios ao acaso**. No caso específico de jogos é que um episódio pode ser visto como o resultado de uma partida."
      ],
      "metadata": {
        "id": "mBuqF0OacmQ3"
      }
    },
    {
      "cell_type": "markdown",
      "metadata": {
        "id": "wFmi5QL1c9Sy"
      },
      "source": [
        "# Interface Gráfica\n",
        "\n",
        "Criamos uma representação para o jogo da velha. Se é uma boa implementação ou não é um tema sujeito a discussões, o que importa é que criamos. O nosso jogo ficaria mais divertido se pudéssemos criar uma interface gráfica para visualizar o que foi jogado pelos nossos bots e por nós mesmos. Isso permitirá verificar se o nosso jogador é bom ou não. Além disso, poderemos depurar por eventuais erros difíceis de ver no estado atual baseado em textos.\n",
        "\n",
        "Note que você não precisa entender esta interface gráfica. Ela está aqui apenas para você ver os códigos. A única coisa que você precisa conhecer são as seguintes funções:\n",
        "\n",
        "**draw_board(tab):** desenha um tabuleiro no console.\n",
        "\n",
        "**generate_image_history(history):** dado um episódio, aqui chamado de histórico de jogadas, geraremos uma sequência de imagens, que são todos os tabuleiros vistos no episódio.\n",
        "\n",
        "**display_sequence(images):** dadas as imagens geradas com a função acima. Apresente a sequência no console.\n"
      ]
    },
    {
      "cell_type": "markdown",
      "metadata": {
        "id": "td7p4PoOqSAV"
      },
      "source": [
        "## Desenhando Tabuleiro\n",
        "\n",
        "Vamos simplesmente empacotar tudo o que aprendemos até agora em uma função que recebe um tabuleiro e devolve uma representação gráfica do mesmo. Nada do que tem na função a seguir deve ser desconhecido para você."
      ]
    },
    {
      "cell_type": "code",
      "metadata": {
        "id": "uopZJ3tVq9SC",
        "colab": {
          "base_uri": "https://localhost:8080/",
          "height": 167
        },
        "outputId": "ca043e5e-5c29-4c34-8926-cdad90fffc51"
      },
      "source": [
        "tabuleiro = (1, -1, -1,  1, -1, 1,  1, 0, 0)\n",
        "board = ttt.draw_board(tabuleiro)\n",
        "display(board)"
      ],
      "execution_count": 11,
      "outputs": [
        {
          "output_type": "display_data",
          "data": {
            "text/plain": [
              "<PIL.Image.Image image mode=RGB size=150x150>"
            ],
            "image/png": "[encoded data removed]"
          },
          "metadata": {}
        }
      ]
    },
    {
      "cell_type": "markdown",
      "metadata": {
        "id": "O-G48F86rYWR"
      },
      "source": [
        "## Partida Completa\n",
        "\n",
        "Agora que temos uma maneira de desenhar um tabuleiro, vamos mostrar uma partida completa como uma sequência de tabuleiros. Para tanto, é interessante que o usuário possa ver a partida em sequência, olhar um tabuleiro específico, avançar ou recuar na análise, ...\n",
        "\n",
        "A função abaixo faz tudo isso, ela considera todas as imagens como frames de uma widget interativa, o usuário pode navegar para qualquer frame facilmente."
      ]
    },
    {
      "cell_type": "code",
      "metadata": {
        "id": "9Gd0WKtYrz6n",
        "colab": {
          "base_uri": "https://localhost:8080/",
          "height": 167
        },
        "outputId": "5c2639e9-3083-4174-bf57-999222579266"
      },
      "source": [
        "history = [\n",
        "    (1, 0, 0, 0, 0, 0, 0, 0, 0),\n",
        "    (1, -1, 0, 0, 0, 0, 0, 0, 0),\n",
        "    (1, -1, 0, 0, 1, 0, 0, 0, 0),\n",
        "    (1, -1, 0, 0, 1, 0, -1, 0, 0),\n",
        "    (1, -1, 0, 1, 1, 0, -1, 0, 0),\n",
        "    (1, -1, 0, 1, 1, 0, -1, 0, -1),\n",
        "    (1, -1, 1, 1, 1, 0, -1, 0, -1),\n",
        "    (1, -1, 1, 1, 1, 0, -1, -1, -1)\n",
        "    ]\n",
        "\n",
        "images = ttt.generate_image_history(history)"
      ],
      "execution_count": 12,
      "outputs": [
        {
          "output_type": "display_data",
          "data": {
            "text/plain": [
              "<PIL.Image.Image image mode=RGB size=150x150>"
            ],
            "image/png": "[encoded data removed]"
          },
          "metadata": {}
        }
      ]
    },
    {
      "cell_type": "code",
      "source": [
        "display(images[3])"
      ],
      "metadata": {
        "colab": {
          "base_uri": "https://localhost:8080/",
          "height": 167
        },
        "id": "uAkMSGId3z9s",
        "outputId": "513477ac-4125-4b44-b29f-30a56d8d67cd"
      },
      "execution_count": 13,
      "outputs": [
        {
          "output_type": "display_data",
          "data": {
            "text/plain": [
              "<PIL.Image.Image image mode=RGB size=150x150>"
            ],
            "image/png": "[encoded data removed]"
          },
          "metadata": {}
        }
      ]
    },
    {
      "cell_type": "markdown",
      "metadata": {
        "id": "-Z0WbnGIsUBO"
      },
      "source": [
        "Para usar a função **display_sequence**, precisamos de uma sequência de objetos **Image**, podemos obter essa sequência invocando várias vezes o método **draw_board**. Nesse caso, para fazer essa sequência de invocações, precisamos de um histórico, que pode ser obtido facilmente a partir de qualquer jogo obtido mediante a invocação da função **game**."
      ]
    },
    {
      "cell_type": "markdown",
      "metadata": {
        "id": "1Zl6610csts0"
      },
      "source": [
        "De posse desse histórico, podemos criar a função a seguir que percorre os tabuleiros e gera as imagens."
      ]
    },
    {
      "cell_type": "code",
      "metadata": {
        "id": "vzdvseNAsyxc",
        "colab": {
          "base_uri": "https://localhost:8080/",
          "height": 216,
          "referenced_widgets": [
            "5bce2af2e1d34d5cace4eed630ad8c27",
            "8cc192c07d334a608bd5511316f90022",
            "0c5fa5ae36534767bbe8bfce006451fd",
            "5610c265abad4615a638b42ece619fd5",
            "f0dce825d6d4459b99538fdfbe3a8ea0",
            "210b5dfb979a476f9a18da272d8053d9",
            "4a8b4a81a1d14991b0ebccc1659f3902"
          ]
        },
        "outputId": "d0211a80-93b5-4bad-ee16-cd8f51bdf2eb"
      },
      "source": [
        "ttt.display_sequence(images)"
      ],
      "execution_count": 14,
      "outputs": [
        {
          "output_type": "display_data",
          "data": {
            "text/plain": [
              "interactive(children=(IntSlider(value=3, description='frame', max=7), Output()), _dom_classes=('widget-interac…"
            ],
            "application/vnd.jupyter.widget-view+json": {
              "version_major": 2,
              "version_minor": 0,
              "model_id": "5bce2af2e1d34d5cace4eed630ad8c27"
            }
          },
          "metadata": {}
        },
        {
          "output_type": "execute_result",
          "data": {
            "text/plain": [
              "<function tic_tac_toe.display_sequence.<locals>._show(frame=(0, 7))>"
            ]
          },
          "metadata": {},
          "execution_count": 14
        }
      ]
    },
    {
      "cell_type": "markdown",
      "metadata": {
        "id": "9_ID9NMxqH_W"
      },
      "source": [
        "## Exemplo\n",
        "\n",
        "Vamos agora dar um exemplo daquilo que você precisa saber:"
      ]
    },
    {
      "cell_type": "code",
      "metadata": {
        "id": "97-61ovVt4b5"
      },
      "source": [
        "_, history = ttt.game(player, player)\n",
        "images = ttt.generate_image_history(history)\n"
      ],
      "execution_count": 15,
      "outputs": []
    },
    {
      "cell_type": "markdown",
      "source": [
        "De posse de qualquer tabuleiro, podemos também imprimir aquela posição:\n",
        "\n"
      ],
      "metadata": {
        "id": "rXxB77zIfnll"
      }
    },
    {
      "cell_type": "code",
      "source": [
        "ttt.draw_board( history[3] )"
      ],
      "metadata": {
        "colab": {
          "base_uri": "https://localhost:8080/",
          "height": 167
        },
        "id": "Ty14OnNgfwEN",
        "outputId": "9051c4ef-eb29-47c0-9caa-a3f46b7690b6"
      },
      "execution_count": 16,
      "outputs": [
        {
          "output_type": "execute_result",
          "data": {
            "text/plain": [
              "<PIL.Image.Image image mode=RGB size=150x150>"
            ],
            "image/png": "[encoded data removed]"
          },
          "metadata": {},
          "execution_count": 16
        }
      ]
    },
    {
      "cell_type": "markdown",
      "metadata": {
        "id": "SEegJKH6RNv_"
      },
      "source": [
        "# Validando Jogadores\n",
        "\n",
        "Antes de mais nada, vamos criar uma função que gerencia uma série de rodadas para no final sabermos qual jogador está se saindo melhor. A essa série de rodadas chamaremos de **campeonato**. Começaremos com uma implementação simples do **campeonato** só para saber a dinâmica do jogo."
      ]
    },
    {
      "cell_type": "code",
      "metadata": {
        "id": "xX6uYfniRO7Q"
      },
      "source": [
        "def campeonato(player1, player2, num_games = 1000) :\n",
        "    results = [0,0,0]\n",
        "    for i in range(num_games) :\n",
        "        result, x = ttt.game(player1, player2)\n",
        "        results[result] += 1\n",
        "    return tuple(results)"
      ],
      "execution_count": 17,
      "outputs": []
    },
    {
      "cell_type": "code",
      "metadata": {
        "colab": {
          "base_uri": "https://localhost:8080/"
        },
        "id": "6zK08pkuVsaT",
        "outputId": "420ba35a-1f62-4045-de9d-d7c7fdf7403e"
      },
      "source": [
        "results = campeonato(player, player, 1000)\n",
        "print(\"Draw = %i, P1 = %i, P2 = %i\" % results)"
      ],
      "execution_count": 18,
      "outputs": [
        {
          "output_type": "stream",
          "name": "stdout",
          "text": [
            "Draw = 139, P1 = 562, P2 = 299\n"
          ]
        }
      ]
    },
    {
      "cell_type": "markdown",
      "source": [
        "Dado o que vimos acima, o jogador que começa parece ter mais chances de ganhar, uma informação muito importante! Notamos que o jogador **1** e o jogador **-1** têm a mesma inteligência, mas mesmo assim o jogador **1** ganha muito mais vezes.  Usaremos essa informação futuramente para comparar o resultado após melhorar os jogadores com o algoritmo de Monte Carlo.\n",
        "\n",
        "\n",
        "\n"
      ],
      "metadata": {
        "id": "Kh53nIDXgnvA"
      }
    },
    {
      "cell_type": "markdown",
      "metadata": {
        "id": "pjnA5X9kLktV"
      },
      "source": [
        "## Recompensando Tabuleiros\n",
        "\n",
        "No nosso jogo, daremos uma recompensa apenas pela vitória ou pela derrota. Não daremos recompensas para tabuleiros parciais. Entretanto, vale ressaltar que isso poderia ser feito. O código será muito simples, usaremos apenas a função winner.\n",
        "\n",
        "Observe que isso poderia ser modificado. No Xadrez, por exemplo, um tabuleiro não precisa chegar no final do jogo para darmos recompensa, podemos recompensar por:\n",
        "\n",
        "* Quantidade de peças;\n",
        "* Força das peças;\n",
        "* Segurança do rei;\n",
        "* Mobilidade;\n",
        "* Muitos outros.\n",
        "\n",
        "No nosso caso, achamos que apenas o resultado final dará informações suficientes."
      ]
    },
    {
      "cell_type": "code",
      "metadata": {
        "id": "tBPahaQ6MO0p"
      },
      "source": [
        "def rewards(tab) :\n",
        "    lwinner = ttt.winner(tab)\n",
        "    if lwinner == 0 :\n",
        "        return -1\n",
        "    elif lwinner == 1 :\n",
        "        return 10\n",
        "    else :\n",
        "       return -10\n"
      ],
      "execution_count": 19,
      "outputs": []
    },
    {
      "cell_type": "markdown",
      "metadata": {
        "id": "e4Eq-VCoKIuL"
      },
      "source": [
        "## Jogador com Política\n",
        "\n",
        "A inteligência do jogador depende exclusivamente da política e esta depende exclusivamente de quão bem calculados são os state-values. Como Monte Carlo pode ser usado para resolver o processo de **evaluation**, podemos melhorar a política com os novos **state-values**. Várias abordagens são possívels. Por exemplo, podemos executar Monte Carlo com um número fixo de episódios e depois atualizar a política.\n",
        "\n",
        "Uma segunda abordagem que podemos tentar com Monte Carlo é  atualizar a política a cada episódio. Nesse caso, o tempo computacional tende a ser menor. À medida em que a política evolui para a política ótima, os episódios tendem a ser muito mais curtos. Entretanto, um cuidado precisa ser tomado, porque a política pode acabar convergindo muito rapidamente para uma situação não ótima, dando pesos 0 para ações que poderiam ainda ser exploradas.\n",
        "\n",
        "Para evitar que isso aconteça, podemos dar uma probabilidade, nem que seja bem baixa de a política explorar qualquer ação ao acaso. Em outras palavras, podemos assumir que todas as ações terão no mínimo uma probabilidade $\\epsilon$ de ocorrer. Isso garante que nunca deixaremos de explorar.\n",
        "\n",
        "Esta será a abordagem que seguiremos aqui. O nosso jogador não irá seguir a política em uma quantidade de vezes indicada por $\\epsilon$."
      ]
    },
    {
      "cell_type": "code",
      "metadata": {
        "id": "ZjbsBn3UGPWc"
      },
      "source": [
        "import random\n",
        "\n",
        "def generate_rl_player(state_values, epsilon) :\n",
        "  gamma = 0.7\n",
        "  def player(tab, turn) :\n",
        "    valid_moves = ttt.get_valid_moves(tab)\n",
        "\n",
        "    epsilon_random = random.random()\n",
        "    if epsilon_random < epsilon :\n",
        "      return turn, random.choice(valid_moves)\n",
        "    else :\n",
        "      ## A nossa política será fazer o movimento de acordo com os state_values.\n",
        "      ## Escolheremos um dos melhores movimentos. Se turn = 1, significa maximizar\n",
        "      ## os state_values, caso contrário seria minimizar.\n",
        "      scores = []\n",
        "      for move in valid_moves :\n",
        "        next_state = list(tab)\n",
        "        next_state[move] = turn\n",
        "\n",
        "        ## Vejam que estamos inicializando com zero.\n",
        "        scores.append(rewards(tab) + gamma*state_values.get(tuple(next_state), 0))\n",
        "\n",
        "      ## Analisando qual o best score de um tabuleiro.\n",
        "\n",
        "      best_score = None\n",
        "      if (turn == 1) :\n",
        "          best_score = max(scores)\n",
        "      else :\n",
        "          best_score = min(scores)\n",
        "\n",
        "\n",
        "      ## Selecionando quais as jogadas de melhor score. Em caso de empate,\n",
        "      ## escolheremos ao acaso.\n",
        "      best_moves = []\n",
        "      for i in range(len(scores)) :\n",
        "        if scores[i] == best_score :\n",
        "          best_moves.append(valid_moves[i])\n",
        "\n",
        "      ## retornando um dos melhores movimentos\n",
        "      return turn, random.choice(best_moves)\n",
        "  return player\n",
        "\n"
      ],
      "execution_count": 25,
      "outputs": []
    },
    {
      "cell_type": "markdown",
      "metadata": {
        "id": "Y98zfCaxxCvl"
      },
      "source": [
        "# Monte Carlo\n",
        "\n",
        "Existe uma interseção muito grande entre o nosso conceito de episódio e o resultado já devolvido pela função **game**. O nosso jogador poderá jogar tanto com as peças brancas quanto com as peças pretas. Nesse caso, usaremos a mesma pontuação de **state_values** para ambas as situações. Se o jogador estiver jogando com as brancas, tentará maximizar."
      ]
    },
    {
      "cell_type": "markdown",
      "metadata": {
        "id": "Cwof1vmfKT1O"
      },
      "source": [
        "## Atualizando Valores"
      ]
    },
    {
      "cell_type": "code",
      "metadata": {
        "id": "clwd_GseKTXG"
      },
      "source": [
        "def update_state_values_monte_carlo(values, rewards, amostra, gamma = 0.7, alpha = 0.1) :\n",
        "    ## Definiremos o último state_value como zero para iniciar o processo iterativo.\n",
        "    discounted_return = 0\n",
        "    next_state        = amostra[-1]\n",
        "\n",
        "    ## Observe o uso de \"reversed\" estamos iterando de trás pra frente.\n",
        "    for state in reversed(amostra[:-1]) :\n",
        "        ## Abaixo simplesmente computamos o retorno a longo prazo e somamos com a recompensa imediata\n",
        "        discounted_return = gamma*discounted_return + rewards(next_state)\n",
        "\n",
        "        ## Abaixo a fórmula para atualização dos state-values. Isso substitui o valor esperado (média).\n",
        "        ## Note que estamos inicializando os state_values com zero\n",
        "        values[state] = values.get(state,0) + alpha*(discounted_return - values.get(state, 0))\n",
        "        next_state = state\n",
        "\n",
        "    return values"
      ],
      "execution_count": 26,
      "outputs": []
    },
    {
      "cell_type": "markdown",
      "metadata": {
        "id": "EL3EKCv6OPIc"
      },
      "source": [
        "## Efetuando Aprendizado"
      ]
    },
    {
      "cell_type": "code",
      "metadata": {
        "id": "Sbb4S908OT91"
      },
      "source": [
        "gamma  = 0.7\n",
        "alpha  = 0.1\n",
        "state_values = {}\n",
        "player_rl = generate_rl_player(state_values, 1)\n",
        "\n",
        "ITERACOES = 40000\n",
        "for i in range(ITERACOES) :\n",
        "  random_prob = max(0.01, (ITERACOES - i)/ITERACOES)\n",
        "\n",
        "  _, amostra = ttt.game(player_rl, player_rl)\n",
        "  state_values = update_state_values_monte_carlo(state_values, rewards, amostra, gamma, alpha)\n",
        "  if (i % 10 == 0) : ## Vamos atualizar o jogador a cada 10 episódios.\n",
        "      player_rl = generate_rl_player(state_values, random_prob)\n",
        "\n",
        "player_rl = generate_rl_player(state_values, 0) ## Gerando um jogador que só exploita"
      ],
      "execution_count": 27,
      "outputs": []
    },
    {
      "cell_type": "markdown",
      "metadata": {
        "id": "aoSs-g4nP57C"
      },
      "source": [
        "## Validando Resultados\n",
        "\n",
        "Vamos agora colocar o possante jogador contra alguém ao acaso."
      ]
    },
    {
      "cell_type": "code",
      "metadata": {
        "colab": {
          "base_uri": "https://localhost:8080/"
        },
        "id": "8gI5bUdHXQld",
        "outputId": "71ed67bd-ebb8-4571-e447-68a799d00eb0"
      },
      "source": [
        "results = campeonato(player, player_rl)\n",
        "print(\"Draw = %i, Acaso = %i, RL = %i\" % results)\n",
        "\n",
        "results = campeonato(player_rl, player)\n",
        "print(\"Draw = %i, RL = %i, Acaso = %i\" % results)"
      ],
      "execution_count": 28,
      "outputs": [
        {
          "output_type": "stream",
          "name": "stdout",
          "text": [
            "Draw = 534, Acaso = 0, RL = 466\n",
            "Draw = 65, RL = 929, Acaso = 6\n"
          ]
        }
      ]
    },
    {
      "cell_type": "code",
      "metadata": {
        "colab": {
          "base_uri": "https://localhost:8080/",
          "height": 216,
          "referenced_widgets": [
            "9e841b4db2fc44e8af6017532ad9af60",
            "3083c22b8aed4eb5a197400f714f59ec",
            "b6776223cf024302926f12e24b977412",
            "ba960dfbb2ce4bba947e707d38bc01d2",
            "f4a676260dce432fbc95f4ad990c7e6f",
            "b1b811af0eae4248a7fd86e63de614bd",
            "060541eef56d4181b4cc3aca35cf6a0f"
          ]
        },
        "id": "99-SatmcYsEO",
        "outputId": "6a27a147-4ab5-4459-9ce3-c3a27bcc6fda"
      },
      "source": [
        "result, history = ttt.game(player, player_rl)\n",
        "images = ttt.generate_image_history(history)\n",
        "ttt.display_sequence(images)"
      ],
      "execution_count": 29,
      "outputs": [
        {
          "output_type": "display_data",
          "data": {
            "text/plain": [
              "interactive(children=(IntSlider(value=4, description='frame', max=8), Output()), _dom_classes=('widget-interac…"
            ],
            "application/vnd.jupyter.widget-view+json": {
              "version_major": 2,
              "version_minor": 0,
              "model_id": "9e841b4db2fc44e8af6017532ad9af60"
            }
          },
          "metadata": {}
        },
        {
          "output_type": "execute_result",
          "data": {
            "text/plain": [
              "<function tic_tac_toe.display_sequence.<locals>._show(frame=(0, 8))>"
            ]
          },
          "metadata": {},
          "execution_count": 29
        }
      ]
    },
    {
      "cell_type": "markdown",
      "source": [
        "O jogador ficou melhor do que era antes? A distribuição de vitórias e derrotas é melhor do que o jogador ao acaso?"
      ],
      "metadata": {
        "id": "CDtM8Z8Y3yA_"
      }
    },
    {
      "cell_type": "markdown",
      "source": [
        "# Desafiando Humanos"
      ],
      "metadata": {
        "id": "LFi5eEGO37AK"
      }
    },
    {
      "cell_type": "markdown",
      "metadata": {
        "id": "0mxeIBzKVOW8"
      },
      "source": [
        "Que tal agora desafiar um humano? Vamos gerar um código que torne isso possível, não faremos nada muito mirabolante, apenas trocaremos as chamadas de **print** para **display(board)**.\n"
      ]
    },
    {
      "cell_type": "code",
      "source": [
        "def human_player(tab, turn) :\n",
        "    valids  = ttt.get_valid_moves(tab)\n",
        "    print(valids)\n",
        "\n",
        "    board = ttt.draw_board( tab )\n",
        "    display(board)\n",
        "    move = int(input())\n",
        "\n",
        "    while not move in valids :\n",
        "        move = int(input())\n",
        "    return turn, move"
      ],
      "metadata": {
        "id": "u_exnz7y4BHu"
      },
      "execution_count": 30,
      "outputs": []
    },
    {
      "cell_type": "code",
      "metadata": {
        "id": "Oqn8XI7cP44i",
        "colab": {
          "base_uri": "https://localhost:8080/",
          "height": 721
        },
        "outputId": "b1a66a90-11ac-4efa-c1af-2d75da07d2f4"
      },
      "source": [
        "result, history = ttt.game(player_rl, human_player)\n",
        "ttt.draw_board(history[-1])"
      ],
      "execution_count": 34,
      "outputs": [
        {
          "output_type": "stream",
          "name": "stdout",
          "text": [
            "[0, 2, 3, 4, 5, 6, 7, 8]\n"
          ]
        },
        {
          "output_type": "display_data",
          "data": {
            "text/plain": [
              "<PIL.Image.Image image mode=RGB size=150x150>"
            ],
            "image/png": "[encoded data removed]"
          },
          "metadata": {}
        },
        {
          "output_type": "stream",
          "name": "stdout",
          "text": [
            "8\n",
            "[0, 3, 4, 5, 6, 7]\n"
          ]
        },
        {
          "output_type": "display_data",
          "data": {
            "text/plain": [
              "<PIL.Image.Image image mode=RGB size=150x150>"
            ],
            "image/png": "[encoded data removed]"
          },
          "metadata": {}
        },
        {
          "output_type": "stream",
          "name": "stdout",
          "text": [
            "0\n",
            "[3, 5, 6, 7]\n"
          ]
        },
        {
          "output_type": "display_data",
          "data": {
            "text/plain": [
              "<PIL.Image.Image image mode=RGB size=150x150>"
            ],
            "image/png": "[encoded data removed]"
          },
          "metadata": {}
        },
        {
          "name": "stdout",
          "output_type": "stream",
          "text": [
            "7\n"
          ]
        },
        {
          "output_type": "execute_result",
          "data": {
            "text/plain": [
              "<PIL.Image.Image image mode=RGB size=150x150>"
            ],
            "image/png": "[encoded data removed]"
          },
          "metadata": {},
          "execution_count": 34
        }
      ]
    },
    {
      "cell_type": "code",
      "source": [
        "images = ttt.generate_image_history(history)\n",
        "ttt.display_sequence(images)"
      ],
      "metadata": {
        "id": "lgiYWJdX4YwL",
        "colab": {
          "base_uri": "https://localhost:8080/",
          "height": 216,
          "referenced_widgets": [
            "4ef0c942972b4a26bad7c737098e89bb",
            "d7bca8538e924cbdaba5124d021b89f1",
            "26969e49da574250a6eaf4aa66259a4d",
            "079c37acf49b4d598062f28a8c513d1c",
            "d7a0568eeab944e580ac6c6cdc741b15",
            "e806e79b02174fa8aab4af67a89cd4aa",
            "453997292ed24e73ab7e40d08573c1cc"
          ]
        },
        "outputId": "290de5c8-affe-449f-df87-6a739a63d0c3"
      },
      "execution_count": 35,
      "outputs": [
        {
          "output_type": "display_data",
          "data": {
            "text/plain": [
              "interactive(children=(IntSlider(value=3, description='frame', max=6), Output()), _dom_classes=('widget-interac…"
            ],
            "application/vnd.jupyter.widget-view+json": {
              "version_major": 2,
              "version_minor": 0,
              "model_id": "4ef0c942972b4a26bad7c737098e89bb"
            }
          },
          "metadata": {}
        },
        {
          "output_type": "execute_result",
          "data": {
            "text/plain": [
              "<function tic_tac_toe.display_sequence.<locals>._show(frame=(0, 6))>"
            ]
          },
          "metadata": {},
          "execution_count": 35
        }
      ]
    },
    {
      "cell_type": "code",
      "metadata": {
        "id": "PSdgWd9jCI8-",
        "colab": {
          "base_uri": "https://localhost:8080/"
        },
        "outputId": "4bd0d16e-c033-4246-dd18-d71594271161"
      },
      "source": [
        "len(state_values)"
      ],
      "execution_count": 36,
      "outputs": [
        {
          "output_type": "execute_result",
          "data": {
            "text/plain": [
              "4519"
            ]
          },
          "metadata": {},
          "execution_count": 36
        }
      ]
    }
  ]
}