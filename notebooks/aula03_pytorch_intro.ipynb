{
  "cells": [
    {
      "cell_type": "markdown",
      "id": "223ba1b1",
      "metadata": {
        "id": "223ba1b1"
      },
      "source": [
        "**Universidade Estadual de Campinas - Unicamp**\n",
        "\n",
        "**Faculdade de Tecnologia - FT**\n",
        "\n",
        "**Autor:** Ulisses Martins Dias\n",
        "\n",
        "**Disciplina:** TT003 - Tópicos em Computação e Informática III\n",
        "\n",
        "**Aula 03:** Apresentação da Biblioteca Pytorch\n",
        "\n",
        "[![Open In Colab](https://colab.research.google.com/assets/colab-badge.svg)](https://colab.research.google.com/github/ulissesdias/tt003/blob/main/notebooks/aula03_pytorch_intro.ipynb)"
      ]
    },
    {
      "cell_type": "markdown",
      "id": "99d839cd",
      "metadata": {
        "id": "99d839cd"
      },
      "source": [
        "# Objetivo da Aula\n",
        "\n",
        "Queremos criar um oráculo e já fizemos progressos entendendo a noção de descida do gradiente. A descida do gradiente permite encontrar valores dos parâmetros de maneira mais eficiente do que uma busca exaustiva. Entretanto, muita coisa ainda pode ser melhorada na maneira como estamos escrevendo os nossos códigos, mas devemos realizar essas melhorias passo a passo.\n",
        "\n",
        "Na aula de hoje, vamos tentar escrever códigos mais eficientes usando uma biblioteca do python que nos permitirá tratar as estruturas de dados em memória de maneira mais eficiente. Posteriormente, na próxima aula, veremos que esta biblioteca ainda poderá nos ajudar computando o gradiente por nós."
      ]
    },
    {
      "cell_type": "markdown",
      "id": "5f35e5c9",
      "metadata": {
        "id": "5f35e5c9"
      },
      "source": [
        "# PyTorch\n",
        "\n",
        "O PyTorch é uma biblioteca de aprendizado de máquina de código aberto usada em aprendizado de máquina, com grande suporte a *deep learning*. Essa biblioteca foi desenvolvida pelo laboratório de pesquisa de IA do Facebook. Uma das vantagens é que o PyTorch permite utilizar programação orientada a objetos para definição de arquiteturas.\n",
        "\n",
        "Vamos hoje conhecer um pouco mais o PyTorch e usá-lo para reescrever o que já conhecemos de aulas anteriores. Ao final da aula, vamos tentar expandir os nossos conhecimentos com um vislumbre de redes neurais."
      ]
    },
    {
      "cell_type": "markdown",
      "id": "022e5ebc",
      "metadata": {
        "id": "022e5ebc"
      },
      "source": [
        "# Tensores\n",
        "\n",
        "Os tensores são uma estrutura de dados muito semelhantes a arrays e matrizes. No contexto de aprendizado de máquina, tensores são uma generalização de arrays e matrizes para um número arbitrário de dimensões.\n",
        "\n",
        "Em PyTorch, usamos tensores para codificar as entradas e saídas de um modelo, assim como os parâmetros do modelo. Em outras palavras, os tensores vão unificar a organização de todos os dados que usaremos de agora em diante.\n",
        "\n",
        "Os tensores podem executar em GPUs ou outros aceleradores de hardware.  Tensores também são otimizados para diferenciação automática. Vamos começar importando a biblioteca."
      ]
    },
    {
      "cell_type": "code",
      "execution_count": 1,
      "id": "c4f383e7",
      "metadata": {
        "id": "c4f383e7"
      },
      "outputs": [],
      "source": [
        "import torch"
      ]
    },
    {
      "cell_type": "markdown",
      "id": "e23001c4",
      "metadata": {
        "id": "e23001c4"
      },
      "source": [
        "**Inicialização de Tensores**\n",
        "\n",
        "Os tensores podem ser inicializados de várias maneiras. Eles podem armazenar números em ponto flutuante de maneira organizada para as redes neurais lidarem com a informação.\n",
        "\n",
        "Em essência, uma lista convencional de python organiza os dados na memória de uma forma em que cada elemento possui o seu próprio endereço. Os tensores do PyTorch organizam os dados de maneira contígua, o que garante um aumento de eficiência.\n",
        "\n",
        "Dê uma olhada nos seguintes exemplos:"
      ]
    },
    {
      "cell_type": "code",
      "execution_count": 2,
      "id": "a05303ba",
      "metadata": {
        "colab": {
          "base_uri": "https://localhost:8080/"
        },
        "id": "a05303ba",
        "outputId": "23fd7b4f-24f0-46c0-80d3-3ae4faf7b48d"
      },
      "outputs": [
        {
          "data": {
            "text/plain": [
              "tensor(10)"
            ]
          },
          "execution_count": 2,
          "metadata": {},
          "output_type": "execute_result"
        }
      ],
      "source": [
        "# Criando um simples escalar\n",
        "scalar = torch.tensor(10)\n",
        "scalar"
      ]
    },
    {
      "cell_type": "code",
      "execution_count": 3,
      "id": "b850d4b8",
      "metadata": {
        "colab": {
          "base_uri": "https://localhost:8080/"
        },
        "id": "b850d4b8",
        "outputId": "cbb04e26-775b-4c33-f868-a260e9f7a267"
      },
      "outputs": [
        {
          "data": {
            "text/plain": [
              "0"
            ]
          },
          "execution_count": 3,
          "metadata": {},
          "output_type": "execute_result"
        }
      ],
      "source": [
        "# Vendo o numero de dimensões, como\n",
        "# temos um escalar, o número de\n",
        "# dimensões é zero\n",
        "scalar.ndim"
      ]
    },
    {
      "cell_type": "code",
      "execution_count": 4,
      "id": "ee68d8ac",
      "metadata": {
        "colab": {
          "base_uri": "https://localhost:8080/"
        },
        "id": "ee68d8ac",
        "outputId": "11a0480f-f30e-4d69-c01c-a48ff33225c2"
      },
      "outputs": [
        {
          "data": {
            "text/plain": [
              "tensor([0.1521, 0.9239, 0.5595])"
            ]
          },
          "execution_count": 4,
          "metadata": {},
          "output_type": "execute_result"
        }
      ],
      "source": [
        "# Inicializando uma lista de tamanho 3 aleatoriamente entre 0 e 1\n",
        "vector = torch.rand(3)\n",
        "vector"
      ]
    },
    {
      "cell_type": "code",
      "execution_count": 5,
      "id": "8fee921b",
      "metadata": {
        "colab": {
          "base_uri": "https://localhost:8080/"
        },
        "id": "8fee921b",
        "outputId": "283cc9c2-51aa-4128-e579-5c392af08a61"
      },
      "outputs": [
        {
          "data": {
            "text/plain": [
              "1"
            ]
          },
          "execution_count": 5,
          "metadata": {},
          "output_type": "execute_result"
        }
      ],
      "source": [
        "# Um vetor é unidimensional\n",
        "vector.ndim"
      ]
    },
    {
      "cell_type": "code",
      "execution_count": 6,
      "id": "73608899",
      "metadata": {
        "colab": {
          "base_uri": "https://localhost:8080/"
        },
        "id": "73608899",
        "outputId": "ec3ee429-9280-4bb6-c130-b34d5417d14e"
      },
      "outputs": [
        {
          "data": {
            "text/plain": [
              "tensor([1.3463])"
            ]
          },
          "execution_count": 6,
          "metadata": {},
          "output_type": "execute_result"
        }
      ],
      "source": [
        "# Inicializando aleatoriamente em uma distribuição normal\n",
        "vector = torch.normal(mean = 0, std = torch.tensor([1.0]))\n",
        "vector"
      ]
    },
    {
      "cell_type": "code",
      "execution_count": 7,
      "id": "a40efd3a",
      "metadata": {
        "colab": {
          "base_uri": "https://localhost:8080/"
        },
        "id": "a40efd3a",
        "outputId": "32eeb296-9527-4544-cbbe-594bcdfbc628"
      },
      "outputs": [
        {
          "data": {
            "text/plain": [
              "tensor([[1, 2],\n",
              "        [3, 4]])"
            ]
          },
          "execution_count": 7,
          "metadata": {},
          "output_type": "execute_result"
        }
      ],
      "source": [
        "# Inicializando dados com mais dimensões:\n",
        "data = [[1, 2],[3, 4]]\n",
        "x_data = torch.tensor(data)\n",
        "x_data"
      ]
    },
    {
      "cell_type": "code",
      "execution_count": 8,
      "id": "445ae7cf",
      "metadata": {
        "colab": {
          "base_uri": "https://localhost:8080/"
        },
        "id": "445ae7cf",
        "outputId": "2a4ed8f8-baef-46c9-8692-2eb44ff19868"
      },
      "outputs": [
        {
          "data": {
            "text/plain": [
              "2"
            ]
          },
          "execution_count": 8,
          "metadata": {},
          "output_type": "execute_result"
        }
      ],
      "source": [
        "# Número de dimensões dessa matriz\n",
        "x_data.ndim"
      ]
    },
    {
      "cell_type": "code",
      "execution_count": 9,
      "id": "bb6cf109",
      "metadata": {
        "colab": {
          "base_uri": "https://localhost:8080/"
        },
        "id": "bb6cf109",
        "outputId": "90f4d51a-0e22-455c-9039-48517012d154"
      },
      "outputs": [
        {
          "data": {
            "text/plain": [
              "4"
            ]
          },
          "execution_count": 9,
          "metadata": {},
          "output_type": "execute_result"
        }
      ],
      "source": [
        "# Podemos ver o número de elementos dentro de tensor\n",
        "x_data.numel()"
      ]
    },
    {
      "cell_type": "markdown",
      "id": "93d46019",
      "metadata": {
        "id": "93d46019"
      },
      "source": [
        "**Operações Aritméticas com Tensores**\n",
        "\n",
        "De posse de um tensor, podemos executar várias operações matemáticas com os elementos dentro dele. Observe que as operações a seguir não precisam de um laço de repetição, como seria o caso se tivéssemos armazenado os dados com a lista padrão do python."
      ]
    },
    {
      "cell_type": "code",
      "execution_count": 10,
      "id": "f112b03e",
      "metadata": {
        "colab": {
          "base_uri": "https://localhost:8080/"
        },
        "id": "f112b03e",
        "outputId": "3e952469-d07d-40bb-d17e-f7cd3eeac011"
      },
      "outputs": [
        {
          "data": {
            "text/plain": [
              "tensor([[3, 4],\n",
              "        [5, 6]])"
            ]
          },
          "execution_count": 10,
          "metadata": {},
          "output_type": "execute_result"
        }
      ],
      "source": [
        "x_data + 2"
      ]
    },
    {
      "cell_type": "code",
      "execution_count": 11,
      "id": "0d5cf095",
      "metadata": {
        "colab": {
          "base_uri": "https://localhost:8080/"
        },
        "id": "0d5cf095",
        "outputId": "a1f3f817-021b-4362-cb33-7dc44edb3f83"
      },
      "outputs": [
        {
          "data": {
            "text/plain": [
              "tensor([[-1,  0],\n",
              "        [ 1,  2]])"
            ]
          },
          "execution_count": 11,
          "metadata": {},
          "output_type": "execute_result"
        }
      ],
      "source": [
        "x_data - 2"
      ]
    },
    {
      "cell_type": "code",
      "execution_count": 12,
      "id": "7f852fac",
      "metadata": {
        "colab": {
          "base_uri": "https://localhost:8080/"
        },
        "id": "7f852fac",
        "outputId": "21ad7f85-59c7-46e6-a199-233f32450a51"
      },
      "outputs": [
        {
          "data": {
            "text/plain": [
              "tensor([[2, 4],\n",
              "        [6, 8]])"
            ]
          },
          "execution_count": 12,
          "metadata": {},
          "output_type": "execute_result"
        }
      ],
      "source": [
        "x_data * 2"
      ]
    },
    {
      "cell_type": "code",
      "execution_count": 13,
      "id": "e6b1fb01",
      "metadata": {
        "colab": {
          "base_uri": "https://localhost:8080/"
        },
        "id": "e6b1fb01",
        "outputId": "50445534-d6d7-4571-b079-518c5d5e127d"
      },
      "outputs": [
        {
          "data": {
            "text/plain": [
              "tensor([[0.5000, 1.0000],\n",
              "        [1.5000, 2.0000]])"
            ]
          },
          "execution_count": 13,
          "metadata": {},
          "output_type": "execute_result"
        }
      ],
      "source": [
        "x_data / 2"
      ]
    },
    {
      "cell_type": "code",
      "execution_count": 14,
      "id": "19ff3095",
      "metadata": {
        "colab": {
          "base_uri": "https://localhost:8080/"
        },
        "id": "19ff3095",
        "outputId": "4c1803de-7a8e-42d2-dc02-9ce5c5176ba3"
      },
      "outputs": [
        {
          "data": {
            "text/plain": [
              "tensor([[0, 1],\n",
              "        [1, 2]])"
            ]
          },
          "execution_count": 14,
          "metadata": {},
          "output_type": "execute_result"
        }
      ],
      "source": [
        "x_data // 2 ## Divisão Inteira"
      ]
    },
    {
      "cell_type": "code",
      "execution_count": 15,
      "id": "aa8c8499",
      "metadata": {
        "colab": {
          "base_uri": "https://localhost:8080/"
        },
        "id": "aa8c8499",
        "outputId": "214a4f11-d701-42c8-8457-ad3f61078a72"
      },
      "outputs": [
        {
          "data": {
            "text/plain": [
              "tensor([[1, 0],\n",
              "        [1, 0]])"
            ]
          },
          "execution_count": 15,
          "metadata": {},
          "output_type": "execute_result"
        }
      ],
      "source": [
        "x_data % 2 ## Resto da divisão"
      ]
    },
    {
      "cell_type": "code",
      "execution_count": 16,
      "id": "8d03b03e",
      "metadata": {
        "colab": {
          "base_uri": "https://localhost:8080/"
        },
        "id": "8d03b03e",
        "outputId": "694f03c3-9b99-46eb-8018-c1c36218d72e"
      },
      "outputs": [
        {
          "data": {
            "text/plain": [
              "tensor([[ 1,  4],\n",
              "        [ 9, 16]])"
            ]
          },
          "execution_count": 16,
          "metadata": {},
          "output_type": "execute_result"
        }
      ],
      "source": [
        "x_data ** 2 ## Potência"
      ]
    },
    {
      "cell_type": "code",
      "execution_count": 17,
      "id": "159db033",
      "metadata": {
        "colab": {
          "base_uri": "https://localhost:8080/"
        },
        "id": "159db033",
        "outputId": "1a552597-aaac-46f7-b42f-f806dac3dfdc"
      },
      "outputs": [
        {
          "data": {
            "text/plain": [
              "tensor([[ 2,  4],\n",
              "        [ 8, 16]])"
            ]
          },
          "execution_count": 17,
          "metadata": {},
          "output_type": "execute_result"
        }
      ],
      "source": [
        "2 ** x_data ## Exponenciação"
      ]
    },
    {
      "cell_type": "code",
      "execution_count": 18,
      "id": "83fb2d69",
      "metadata": {
        "colab": {
          "base_uri": "https://localhost:8080/"
        },
        "id": "83fb2d69",
        "outputId": "2084d354-8e6e-4907-a108-02711b10c2b6"
      },
      "outputs": [
        {
          "data": {
            "text/plain": [
              "tensor([[ 1,  4],\n",
              "        [ 9, 16]])"
            ]
          },
          "execution_count": 18,
          "metadata": {},
          "output_type": "execute_result"
        }
      ],
      "source": [
        "x_data * x_data"
      ]
    },
    {
      "cell_type": "code",
      "execution_count": 19,
      "id": "d7bafb88",
      "metadata": {
        "colab": {
          "base_uri": "https://localhost:8080/"
        },
        "id": "d7bafb88",
        "outputId": "cb44ce6c-1756-42fc-c1a8-03a28940baa5"
      },
      "outputs": [
        {
          "data": {
            "text/plain": [
              "tensor([[1., 1.],\n",
              "        [1., 1.]])"
            ]
          },
          "execution_count": 19,
          "metadata": {},
          "output_type": "execute_result"
        }
      ],
      "source": [
        "x_data / x_data"
      ]
    },
    {
      "cell_type": "markdown",
      "id": "18d2aa3c",
      "metadata": {
        "id": "18d2aa3c"
      },
      "source": [
        "**Exercício**\n",
        "\n",
        "Vamos dar uma pausa para resolver o seguinte exercício. Vamos supor que temos um vetor chamado de y com valores 0 ou 1. Além disso, temos um vetor chamado de y_pred com valores reais no intervalo entre 0 e 1. Da seguinte forma:"
      ]
    },
    {
      "cell_type": "code",
      "execution_count": 20,
      "id": "b5f3d117",
      "metadata": {
        "colab": {
          "base_uri": "https://localhost:8080/"
        },
        "id": "b5f3d117",
        "outputId": "0dfa84df-429f-4b69-a7ee-fb3ac235b126"
      },
      "outputs": [
        {
          "data": {
            "text/plain": [
              "(torch.Size([272]), torch.Size([272]))"
            ]
          },
          "execution_count": 20,
          "metadata": {},
          "output_type": "execute_result"
        }
      ],
      "source": [
        "y = torch.tensor([1., 0., 0., 0., 1., 0., 1., 1., 0., 1., 0., 1., 1., 0., 1., 0., 0., 1.,\n",
        "        0., 1., 0., 0., 0., 0., 1., 1., 0., 1., 1., 1., 1., 1., 0., 1., 1., 0.,\n",
        "        0., 1., 0., 1., 1., 0., 1., 0., 1., 0., 1., 0., 1., 0., 1., 1., 0., 1.,\n",
        "        0., 1., 1., 0., 1., 1., 0., 1., 0., 1., 0., 1., 1., 1., 0., 1., 1., 0.,\n",
        "        1., 1., 0., 1., 0., 1., 1., 1., 1., 1., 1., 0., 1., 1., 1., 1., 0., 1.,\n",
        "        0., 1., 0., 1., 0., 1., 1., 1., 0., 1., 0., 1., 0., 1., 1., 0., 1., 0.,\n",
        "        1., 1., 1., 0., 1., 1., 0., 1., 0., 1., 0., 1., 0., 1., 1., 0., 1., 1.,\n",
        "        0., 1., 0., 1., 0., 1., 0., 1., 0., 1., 0., 1., 0., 1., 1., 0., 1., 1.,\n",
        "        1., 0., 1., 0., 1., 0., 1., 1., 0., 1., 1., 1., 1., 1., 0., 1., 0., 1.,\n",
        "        0., 1., 0., 1., 0., 1., 0., 1., 0., 0., 1., 0., 1., 1., 1., 0., 1., 1.,\n",
        "        0., 1., 1., 1., 0., 1., 1., 0., 1., 0., 1., 0., 1., 1., 1., 1., 0., 1.,\n",
        "        0., 1., 0., 1., 1., 0., 1., 0., 1., 1., 0., 1., 0., 1., 0., 1., 0., 1.,\n",
        "        0., 1., 0., 1., 0., 1., 0., 1., 1., 1., 1., 1., 1., 1., 1., 0., 1., 0.,\n",
        "        1., 0., 0., 1., 1., 0., 1., 0., 1., 0., 1., 1., 0., 1., 0., 1., 0., 1.,\n",
        "        1., 1., 1., 1., 1., 1., 0., 1., 1., 1., 0., 1., 0., 0., 1., 1., 0., 1.,\n",
        "        0., 1.])\n",
        "\n",
        "y_pred = torch.tensor([0.99,0.01,0.98,0.12,0.99,0.01,0.99,0.99,0.01,0.99,0.01,\n",
        "        0.99,0.99,0.01,0.99,0.01,0.12,0.99,0.01,0.99,0.01,0.01,0.99,0.82,0.98,\n",
        "        0.99,0.01,0.99,0.99,0.99,0.97,0.99,0.50,0.99,0.98,0.01,0.01,0.99,0.03,\n",
        "        0.99,0.99,0.02,0.99,0.02,0.97,0.99,0.27,0.01,0.99,0.03,0.99,0.99,0.01,\n",
        "        0.99,0.01,0.99,0.92,0.27,0.99,0.99,0.03,0.99,0.01,0.99,0.05,0.99,0.99,\n",
        "        0.99,0.38,0.97,0.99,0.01,0.99,0.92,0.12,0.99,0.05,0.99,0.99,0.99,0.99,\n",
        "        0.99,0.88,0.38,0.97,0.99,0.99,0.99,0.01,0.99,0.05,0.99,0.01,0.99,0.18,\n",
        "        0.95,0.99,0.99,0.01,0.99,0.12,0.99,0.01,0.99,0.99,0.01,0.99,0.01,0.99,\n",
        "        0.99,0.99,0.03,0.99,0.99,0.03,0.99,0.01,0.99,0.03,0.99,0.01,0.82,0.99,\n",
        "        0.01,0.99,0.99,0.01,0.99,0.01,0.99,0.01,0.99,0.01,0.99,0.01,0.99,0.01,\n",
        "        0.99,0.01,0.99,0.99,0.05,0.99,0.99,0.99,0.03,0.99,0.01,0.99,0.01,0.99,\n",
        "        0.99,0.38,0.99,0.92,0.88,0.99,0.99,0.01,0.99,0.01,0.99,0.02,0.99,0.50,\n",
        "        0.99,0.18,0.99,0.01,0.99,0.01,0.01,0.99,0.73,0.99,0.99,0.97,0.01,0.99,\n",
        "        0.98,0.01,0.99,0.99,0.99,0.01,0.99,0.99,0.01,0.99,0.01,0.99,0.01,0.99,\n",
        "        0.99,0.99,0.99,0.99,0.99,0.01,0.99,0.05,0.99,0.99,0.01,0.99,0.01,0.99,\n",
        "        0.99,0.01,0.99,0.92,0.99,0.01,0.99,0.27,0.99,0.01,0.99,0.01,0.99,0.01,\n",
        "        0.99,0.01,0.99,0.99,0.99,0.99,0.99,0.88,0.99,0.88,0.01,0.99,0.01,0.99,\n",
        "        0.01,0.01,0.99,0.99,0.27,0.99,0.01,0.99,0.18,0.99,0.99,0.01,0.99,0.62,\n",
        "        0.98,0.01,0.99,0.97,0.97,0.99,0.99,0.92,0.99,0.01,0.99,0.99,0.99,0.02,\n",
        "        0.99,0.01,0.05,0.99,0.99,0.01,0.99,0.01,0.98])\n",
        "\n",
        "\n",
        "y.shape, y_pred.shape"
      ]
    },
    {
      "cell_type": "markdown",
      "id": "0d3324b3",
      "metadata": {
        "id": "0d3324b3"
      },
      "source": [
        "Agora crie uma função que implementa *erro quadrático médio* aprendido em aulas anteriores com essas estruturas."
      ]
    },
    {
      "cell_type": "code",
      "execution_count": 21,
      "id": "398dce2b",
      "metadata": {
        "colab": {
          "base_uri": "https://localhost:8080/"
        },
        "id": "398dce2b",
        "outputId": "a187344c-a5ef-4f8a-91fa-bb440f7ccfbb"
      },
      "outputs": [
        {
          "data": {
            "text/plain": [
              "1"
            ]
          },
          "execution_count": 21,
          "metadata": {},
          "output_type": "execute_result"
        }
      ],
      "source": [
        "#ToDo: Implemente a função abaixo\n",
        "def erro_quadratico_medio(y_pred, y) :\n",
        "    return 1\n",
        "\n",
        "erro_quadratico_medio(y_pred, y)"
      ]
    },
    {
      "cell_type": "markdown",
      "id": "9b1550e3",
      "metadata": {
        "id": "9b1550e3"
      },
      "source": [
        "Vale mencionar que esta função já está implementada na biblioteca PyTorch. Nesse caso, o seu valor deverá ser igual ao visto a seguir:"
      ]
    },
    {
      "cell_type": "code",
      "execution_count": 22,
      "id": "6017b081",
      "metadata": {
        "colab": {
          "base_uri": "https://localhost:8080/"
        },
        "id": "6017b081",
        "outputId": "f53ca732-33d3-4a40-8af2-702b264ca08a"
      },
      "outputs": [
        {
          "data": {
            "text/plain": [
              "0.03068603202700615"
            ]
          },
          "execution_count": 22,
          "metadata": {},
          "output_type": "execute_result"
        }
      ],
      "source": [
        "loss_fn = torch.nn.MSELoss()\n",
        "loss_fn(y_pred, y).item()"
      ]
    },
    {
      "cell_type": "markdown",
      "id": "078ab8af",
      "metadata": {
        "id": "078ab8af"
      },
      "source": [
        "Uma outra função interessante de se programar é a função de custo conhecida como *entropia cruzada binária*, cuja fórmula é:\n",
        "$$ -\\frac{1}{n} \\sum_{i=1}^n  [ y_i \\log(\\hat y_i) + (1-y_i)  \\log(1-\\hat y_i) ]$$\n"
      ]
    },
    {
      "cell_type": "code",
      "execution_count": 23,
      "id": "4c0ba0cb",
      "metadata": {
        "colab": {
          "base_uri": "https://localhost:8080/"
        },
        "id": "4c0ba0cb",
        "outputId": "b67db057-e247-436b-b62c-4b023d6a765f"
      },
      "outputs": [
        {
          "data": {
            "text/plain": [
              "1"
            ]
          },
          "execution_count": 23,
          "metadata": {},
          "output_type": "execute_result"
        }
      ],
      "source": [
        "# ToDo: Implemente esta função abaixo.\n",
        "def entropia_cruzada_binaria(y_pred, y) :\n",
        "    return 1\n",
        "\n",
        "entropia_cruzada_binaria(y_pred, y)"
      ]
    },
    {
      "cell_type": "markdown",
      "id": "c8958104",
      "metadata": {
        "id": "c8958104"
      },
      "source": [
        "Vale também mencionar que esta função já está implementada na biblioteca PyTorch. Nesse caso, o seu valor deverá ser igual ao visto a seguir:"
      ]
    },
    {
      "cell_type": "code",
      "execution_count": 24,
      "id": "0495a73d",
      "metadata": {
        "colab": {
          "base_uri": "https://localhost:8080/"
        },
        "id": "0495a73d",
        "outputId": "3c703a3b-3d6e-4e14-acee-b76ebb10856a"
      },
      "outputs": [
        {
          "data": {
            "text/plain": [
              "0.12697304785251617"
            ]
          },
          "execution_count": 24,
          "metadata": {},
          "output_type": "execute_result"
        }
      ],
      "source": [
        "loss_fn = torch.nn.BCELoss()\n",
        "loss_fn(y_pred, y).item()"
      ]
    },
    {
      "cell_type": "markdown",
      "id": "218863a4",
      "metadata": {
        "id": "218863a4"
      },
      "source": [
        "**Operações de Comparação com Tensores**\n",
        "\n",
        "A seguir, um conjunto de operações de comparação que permitem gerar tensores binários."
      ]
    },
    {
      "cell_type": "code",
      "execution_count": 25,
      "id": "b9300ed6",
      "metadata": {
        "colab": {
          "base_uri": "https://localhost:8080/"
        },
        "id": "b9300ed6",
        "outputId": "036891f0-8445-4a1f-8954-6ace3b6881eb"
      },
      "outputs": [
        {
          "data": {
            "text/plain": [
              "tensor([[False, False],\n",
              "        [ True,  True]])"
            ]
          },
          "execution_count": 25,
          "metadata": {},
          "output_type": "execute_result"
        }
      ],
      "source": [
        "x_data > 2"
      ]
    },
    {
      "cell_type": "code",
      "execution_count": 26,
      "id": "2b5b1b7b",
      "metadata": {
        "colab": {
          "base_uri": "https://localhost:8080/"
        },
        "id": "2b5b1b7b",
        "outputId": "91d61322-f95a-41b7-cf9d-6f26b89b6e51"
      },
      "outputs": [
        {
          "data": {
            "text/plain": [
              "tensor([[ True,  True],\n",
              "        [False,  True]])"
            ]
          },
          "execution_count": 26,
          "metadata": {},
          "output_type": "execute_result"
        }
      ],
      "source": [
        "x_data != 3"
      ]
    },
    {
      "cell_type": "code",
      "execution_count": 27,
      "id": "e12ecbf0",
      "metadata": {
        "colab": {
          "base_uri": "https://localhost:8080/"
        },
        "id": "e12ecbf0",
        "outputId": "67bb6a5d-f1bb-437b-e179-fce636ca3ef9"
      },
      "outputs": [
        {
          "data": {
            "text/plain": [
              "tensor([[False,  True],\n",
              "        [ True,  True]])"
            ]
          },
          "execution_count": 27,
          "metadata": {},
          "output_type": "execute_result"
        }
      ],
      "source": [
        "1 < x_data"
      ]
    },
    {
      "cell_type": "code",
      "execution_count": 28,
      "id": "e00c6a8e",
      "metadata": {
        "colab": {
          "base_uri": "https://localhost:8080/"
        },
        "id": "e00c6a8e",
        "outputId": "f1cd4338-69a2-4764-9dd4-1e2460d99c24"
      },
      "outputs": [
        {
          "data": {
            "text/plain": [
              "tensor([[False, False],\n",
              "        [ True, False]])"
            ]
          },
          "execution_count": 28,
          "metadata": {},
          "output_type": "execute_result"
        }
      ],
      "source": [
        "x_data == 3"
      ]
    },
    {
      "cell_type": "code",
      "execution_count": 29,
      "id": "b2d444c6",
      "metadata": {
        "colab": {
          "base_uri": "https://localhost:8080/"
        },
        "id": "b2d444c6",
        "outputId": "74da2491-de0a-4588-8a29-6452ca4ec9ae"
      },
      "outputs": [
        {
          "data": {
            "text/plain": [
              "tensor([[False, False],\n",
              "        [False,  True]])"
            ]
          },
          "execution_count": 29,
          "metadata": {},
          "output_type": "execute_result"
        }
      ],
      "source": [
        "x_data ** 2 > 10"
      ]
    },
    {
      "cell_type": "code",
      "execution_count": 30,
      "id": "3f0ce768",
      "metadata": {
        "colab": {
          "base_uri": "https://localhost:8080/"
        },
        "id": "3f0ce768",
        "outputId": "2540fd16-26bb-4a6b-e4ca-a1c79eb774ad"
      },
      "outputs": [
        {
          "data": {
            "text/plain": [
              "tensor([[2, 2],\n",
              "        [2, 1]])"
            ]
          },
          "execution_count": 30,
          "metadata": {},
          "output_type": "execute_result"
        }
      ],
      "source": [
        "2 ** (x_data < 4)"
      ]
    },
    {
      "cell_type": "markdown",
      "id": "5948ecdb",
      "metadata": {
        "id": "5948ecdb"
      },
      "source": [
        "**Operações booleanas com Tensores**"
      ]
    },
    {
      "cell_type": "code",
      "execution_count": 31,
      "id": "ac354425",
      "metadata": {
        "id": "ac354425"
      },
      "outputs": [],
      "source": [
        "a = torch.Tensor([True, False, True, False])\n",
        "b = torch.Tensor([True, True, False, False])"
      ]
    },
    {
      "cell_type": "code",
      "execution_count": 32,
      "id": "ae3ef802",
      "metadata": {
        "colab": {
          "base_uri": "https://localhost:8080/"
        },
        "id": "ae3ef802",
        "outputId": "605f6110-5ccb-4e32-ad79-cffef10cf589"
      },
      "outputs": [
        {
          "data": {
            "text/plain": [
              "tensor([ True, False, False, False])"
            ]
          },
          "execution_count": 32,
          "metadata": {},
          "output_type": "execute_result"
        }
      ],
      "source": [
        "torch.logical_and(a, b)"
      ]
    },
    {
      "cell_type": "code",
      "execution_count": 33,
      "id": "82ea89df",
      "metadata": {
        "colab": {
          "base_uri": "https://localhost:8080/"
        },
        "id": "82ea89df",
        "outputId": "b94725fc-6d70-446d-d04c-60b42e45829c"
      },
      "outputs": [
        {
          "data": {
            "text/plain": [
              "tensor([ True,  True,  True, False])"
            ]
          },
          "execution_count": 33,
          "metadata": {},
          "output_type": "execute_result"
        }
      ],
      "source": [
        "torch.logical_or(a, b)"
      ]
    },
    {
      "cell_type": "code",
      "execution_count": 34,
      "id": "f979523b",
      "metadata": {
        "colab": {
          "base_uri": "https://localhost:8080/"
        },
        "id": "f979523b",
        "outputId": "f2f88b0f-6558-4c8f-9774-b80a063a5d3b"
      },
      "outputs": [
        {
          "data": {
            "text/plain": [
              "tensor([False,  True, False,  True])"
            ]
          },
          "execution_count": 34,
          "metadata": {},
          "output_type": "execute_result"
        }
      ],
      "source": [
        "torch.logical_not(a)"
      ]
    },
    {
      "cell_type": "markdown",
      "id": "ddbab2dd",
      "metadata": {
        "id": "ddbab2dd"
      },
      "source": [
        "**Exercício**\n",
        "\n",
        "Vamos dar uma segunda pausa para que você possa usar os vetores $y$ e $\\hat y$ novamente. Escreva uma função que retorne um vetor de booleanos em que cada posição $i$ desse vetor deve ser preenchida da seguinte forma:\n",
        "\n",
        "* **True**: se $y_i$ e $\\hat y_i$ forem ambos maiores que 0.5\n",
        "* **True**: se $y_i$ e $\\hat y_i$ forem ambos menores ou iguais a 0.5\n",
        "* **False**: qualquer outra situação."
      ]
    },
    {
      "cell_type": "code",
      "execution_count": 35,
      "id": "329c8e6e",
      "metadata": {
        "colab": {
          "base_uri": "https://localhost:8080/"
        },
        "id": "329c8e6e",
        "outputId": "ff219c85-57cd-44a7-890b-7f61e428f259"
      },
      "outputs": [
        {
          "data": {
            "text/plain": [
              "1"
            ]
          },
          "execution_count": 35,
          "metadata": {},
          "output_type": "execute_result"
        }
      ],
      "source": [
        "# ToDo: Implemente a função a seguir\n",
        "def right_predictions(y_pred, y) :\n",
        "    return 1\n",
        "\n",
        "right_predictions(y_pred, y)"
      ]
    },
    {
      "cell_type": "markdown",
      "id": "a83744d8",
      "metadata": {
        "id": "a83744d8"
      },
      "source": [
        "Compare sua resposta com o resultado a seguir:"
      ]
    },
    {
      "cell_type": "code",
      "execution_count": 36,
      "id": "f351f1cb",
      "metadata": {
        "colab": {
          "base_uri": "https://localhost:8080/"
        },
        "id": "f351f1cb",
        "outputId": "f6f8e415-c2ba-457d-e424-34241e0829e4"
      },
      "outputs": [
        {
          "data": {
            "text/plain": [
              "tensor([ True,  True, False,  True,  True,  True,  True,  True,  True,  True,\n",
              "         True,  True,  True,  True,  True,  True,  True,  True,  True,  True,\n",
              "         True,  True, False, False,  True,  True,  True,  True,  True,  True,\n",
              "         True,  True,  True,  True,  True,  True,  True,  True,  True,  True,\n",
              "         True,  True,  True,  True,  True, False, False,  True,  True,  True,\n",
              "         True,  True,  True,  True,  True,  True,  True,  True,  True,  True,\n",
              "         True,  True,  True,  True,  True,  True,  True,  True,  True,  True,\n",
              "         True,  True,  True,  True,  True,  True,  True,  True,  True,  True,\n",
              "         True,  True,  True,  True,  True,  True,  True,  True,  True,  True,\n",
              "         True,  True,  True,  True,  True,  True,  True,  True,  True,  True,\n",
              "         True,  True,  True,  True,  True,  True,  True,  True,  True,  True,\n",
              "         True,  True,  True,  True,  True,  True,  True,  True,  True,  True,\n",
              "         True,  True,  True,  True,  True,  True,  True,  True,  True,  True,\n",
              "         True,  True,  True,  True,  True,  True,  True,  True,  True,  True,\n",
              "         True,  True,  True,  True,  True,  True,  True,  True,  True,  True,\n",
              "         True,  True,  True,  True,  True,  True,  True,  True,  True,  True,\n",
              "         True,  True,  True,  True,  True,  True,  True,  True,  True,  True,\n",
              "         True,  True,  True, False,  True,  True,  True,  True,  True,  True,\n",
              "         True,  True,  True,  True,  True,  True,  True,  True,  True,  True,\n",
              "         True,  True,  True,  True,  True,  True, False,  True,  True,  True,\n",
              "         True,  True,  True,  True,  True,  True,  True,  True,  True,  True,\n",
              "        False,  True,  True,  True,  True,  True,  True,  True,  True,  True,\n",
              "         True,  True,  True,  True,  True,  True,  True,  True,  True,  True,\n",
              "         True,  True,  True,  True,  True,  True,  True,  True,  True,  True,\n",
              "         True,  True,  True,  True,  True,  True,  True,  True, False,  True,\n",
              "         True,  True,  True,  True,  True,  True,  True,  True,  True,  True,\n",
              "         True,  True,  True,  True,  True,  True,  True,  True,  True,  True,\n",
              "         True,  True])"
            ]
          },
          "execution_count": 36,
          "metadata": {},
          "output_type": "execute_result"
        }
      ],
      "source": [
        "answer = torch.tensor([ True,  True, False,  True,  True,  True,  True,  True,  True,  True,\n",
        "         True,  True,  True,  True,  True,  True,  True,  True,  True,  True,\n",
        "         True,  True, False, False,  True,  True,  True,  True,  True,  True,\n",
        "         True,  True,  True,  True,  True,  True,  True,  True,  True,  True,\n",
        "         True,  True,  True,  True,  True, False, False,  True,  True,  True,\n",
        "         True,  True,  True,  True,  True,  True,  True,  True,  True,  True,\n",
        "         True,  True,  True,  True,  True,  True,  True,  True,  True,  True,\n",
        "         True,  True,  True,  True,  True,  True,  True,  True,  True,  True,\n",
        "         True,  True,  True,  True,  True,  True,  True,  True,  True,  True,\n",
        "         True,  True,  True,  True,  True,  True,  True,  True,  True,  True,\n",
        "         True,  True,  True,  True,  True,  True,  True,  True,  True,  True,\n",
        "         True,  True,  True,  True,  True,  True,  True,  True,  True,  True,\n",
        "         True,  True,  True,  True,  True,  True,  True,  True,  True,  True,\n",
        "         True,  True,  True,  True,  True,  True,  True,  True,  True,  True,\n",
        "         True,  True,  True,  True,  True,  True,  True,  True,  True,  True,\n",
        "         True,  True,  True,  True,  True,  True,  True,  True,  True,  True,\n",
        "         True,  True,  True,  True,  True,  True,  True,  True,  True,  True,\n",
        "         True,  True,  True, False,  True,  True,  True,  True,  True,  True,\n",
        "         True,  True,  True,  True,  True,  True,  True,  True,  True,  True,\n",
        "         True,  True,  True,  True,  True,  True, False,  True,  True,  True,\n",
        "         True,  True,  True,  True,  True,  True,  True,  True,  True,  True,\n",
        "        False,  True,  True,  True,  True,  True,  True,  True,  True,  True,\n",
        "         True,  True,  True,  True,  True,  True,  True,  True,  True,  True,\n",
        "         True,  True,  True,  True,  True,  True,  True,  True,  True,  True,\n",
        "         True,  True,  True,  True,  True,  True,  True,  True, False,  True,\n",
        "         True,  True,  True,  True,  True,  True,  True,  True,  True,  True,\n",
        "         True,  True,  True,  True,  True,  True,  True,  True,  True,  True,\n",
        "         True,  True])\n",
        "answer"
      ]
    },
    {
      "cell_type": "markdown",
      "id": "c933cc47",
      "metadata": {
        "id": "c933cc47"
      },
      "source": [
        "**Outras Inicializações de Tensores**"
      ]
    },
    {
      "cell_type": "code",
      "execution_count": 37,
      "id": "4f52c790",
      "metadata": {
        "colab": {
          "base_uri": "https://localhost:8080/"
        },
        "id": "4f52c790",
        "outputId": "e1e358a1-a4ed-4a1c-be1c-961705e326b3"
      },
      "outputs": [
        {
          "data": {
            "text/plain": [
              "tensor([[1., 0., 0.],\n",
              "        [0., 1., 0.],\n",
              "        [0., 0., 1.]])"
            ]
          },
          "execution_count": 37,
          "metadata": {},
          "output_type": "execute_result"
        }
      ],
      "source": [
        "# Inicializando uma matriz identidade 3 x 3\n",
        "torch.eye(3)"
      ]
    },
    {
      "cell_type": "code",
      "execution_count": 38,
      "id": "93eb7633",
      "metadata": {
        "colab": {
          "base_uri": "https://localhost:8080/"
        },
        "id": "93eb7633",
        "outputId": "c11f07c8-ef97-4592-cb76-c228f6efaadb"
      },
      "outputs": [
        {
          "data": {
            "text/plain": [
              "tensor([[1., 0., 0., 0., 0.],\n",
              "        [0., 1., 0., 0., 0.],\n",
              "        [0., 0., 1., 0., 0.],\n",
              "        [0., 0., 0., 1., 0.],\n",
              "        [0., 0., 0., 0., 1.]])"
            ]
          },
          "execution_count": 38,
          "metadata": {},
          "output_type": "execute_result"
        }
      ],
      "source": [
        "# Inicializando uma matriz identidade 5 x 5\n",
        "torch.eye(5)"
      ]
    },
    {
      "cell_type": "code",
      "execution_count": 39,
      "id": "f99be6f4",
      "metadata": {
        "colab": {
          "base_uri": "https://localhost:8080/"
        },
        "id": "f99be6f4",
        "outputId": "5e4d2e47-f96f-45a7-91d1-b03ad9295305"
      },
      "outputs": [
        {
          "data": {
            "text/plain": [
              "tensor([ 2.0000,  2.3333,  2.6667,  3.0000,  3.3333,  3.6667,  4.0000,  4.3333,\n",
              "         4.6667,  5.0000,  5.3333,  5.6667,  6.0000,  6.3333,  6.6667,  7.0000,\n",
              "         7.3333,  7.6667,  8.0000,  8.3333,  8.6667,  9.0000,  9.3333,  9.6667,\n",
              "        10.0000])"
            ]
          },
          "execution_count": 39,
          "metadata": {},
          "output_type": "execute_result"
        }
      ],
      "source": [
        "# Criando um intervalo linear entre 2 e 10\n",
        "# com 25 elementos\n",
        "torch.linspace(2, 10, steps = 25)"
      ]
    },
    {
      "cell_type": "code",
      "execution_count": 40,
      "id": "bbf30051",
      "metadata": {
        "colab": {
          "base_uri": "https://localhost:8080/"
        },
        "id": "bbf30051",
        "outputId": "66ea04fe-2b4f-4e34-eec2-558782dd09ee"
      },
      "outputs": [
        {
          "data": {
            "text/plain": [
              "tensor([1.0000e+02, 2.1544e+02, 4.6416e+02, 1.0000e+03, 2.1544e+03, 4.6416e+03,\n",
              "        1.0000e+04, 2.1544e+04, 4.6416e+04, 1.0000e+05, 2.1544e+05, 4.6416e+05,\n",
              "        1.0000e+06, 2.1544e+06, 4.6416e+06, 1.0000e+07, 2.1544e+07, 4.6416e+07,\n",
              "        1.0000e+08, 2.1544e+08, 4.6416e+08, 1.0000e+09, 2.1544e+09, 4.6416e+09,\n",
              "        1.0000e+10])"
            ]
          },
          "execution_count": 40,
          "metadata": {},
          "output_type": "execute_result"
        }
      ],
      "source": [
        "# Criando um intervalo logarítmico entre 10^2 e 10^10\n",
        "# com 25 elementos\n",
        "torch.logspace(2, 10, steps = 25)"
      ]
    },
    {
      "cell_type": "code",
      "execution_count": 41,
      "id": "dc1d9311",
      "metadata": {
        "colab": {
          "base_uri": "https://localhost:8080/"
        },
        "id": "dc1d9311",
        "outputId": "36e737cb-b766-49ed-f221-4b74208a8af2"
      },
      "outputs": [
        {
          "name": "stdout",
          "output_type": "stream",
          "text": [
            "Random Tensor: \n",
            " tensor([[0.7434, 0.7988, 0.6182],\n",
            "        [0.4318, 0.4809, 0.4556]]) \n",
            "\n",
            "Ones Tensor: \n",
            " tensor([[1., 1., 1.],\n",
            "        [1., 1., 1.]]) \n",
            "\n",
            "Zeros Tensor: \n",
            " tensor([[0., 0., 0.],\n",
            "        [0., 0., 0.]])\n"
          ]
        }
      ],
      "source": [
        "# Com valores aleatórios ou constantes:\n",
        "\n",
        "# Shape é um tuple de dimensões tensoriais. Nas\n",
        "# funções abaixo, determinamos  a dimensionalidade\n",
        "# do tensor que criamos.\n",
        "\n",
        "shape = (2,3,)\n",
        "rand_tensor = torch.rand(shape)\n",
        "ones_tensor = torch.ones(shape)\n",
        "zeros_tensor = torch.zeros(shape)\n",
        "\n",
        "print(f\"Random Tensor: \\n {rand_tensor} \\n\")\n",
        "print(f\"Ones Tensor: \\n {ones_tensor} \\n\")\n",
        "print(f\"Zeros Tensor: \\n {zeros_tensor}\")"
      ]
    },
    {
      "cell_type": "code",
      "execution_count": 42,
      "id": "2b85f371",
      "metadata": {
        "colab": {
          "base_uri": "https://localhost:8080/"
        },
        "id": "2b85f371",
        "outputId": "4f9a640f-8ec8-4ba6-8aef-e2c2c1fe2fb0"
      },
      "outputs": [
        {
          "name": "stdout",
          "output_type": "stream",
          "text": [
            "Ones Tensor: \n",
            " tensor([[1, 1],\n",
            "        [1, 1]]) \n",
            "\n",
            "Random Tensor: \n",
            " tensor([[0.6508, 0.2244],\n",
            "        [0.2299, 0.4837]]) \n",
            "\n"
          ]
        }
      ],
      "source": [
        "# Inicializando de outro Tensor:\n",
        "##  O novo tensor retém as propriedades (forma, tipo de dados)\n",
        "##  do tensor do argumento, a menos que seja explicitamente anulado.\n",
        "\n",
        "x_ones = torch.ones_like(x_data) # mantém a propriedade de x_data\n",
        "print(f\"Ones Tensor: \\n {x_ones} \\n\")\n",
        "\n",
        "x_rand = torch.rand_like(x_data, dtype=torch.float) # muda as propriedades x_data\n",
        "print(f\"Random Tensor: \\n {x_rand} \\n\")"
      ]
    },
    {
      "cell_type": "markdown",
      "id": "aa9aef38",
      "metadata": {
        "id": "aa9aef38"
      },
      "source": [
        "**Mínimos e Máximos**"
      ]
    },
    {
      "cell_type": "code",
      "execution_count": 43,
      "id": "3c2d76db",
      "metadata": {
        "colab": {
          "base_uri": "https://localhost:8080/"
        },
        "id": "3c2d76db",
        "outputId": "35c9dbd4-c1e4-4736-9e1d-708053fd29eb"
      },
      "outputs": [
        {
          "data": {
            "text/plain": [
              "tensor([[ 0.3238, -1.4601, -3.0722, -0.7283,  0.3905],\n",
              "        [-1.4465, -0.4617,  0.0151,  0.5939,  0.7562],\n",
              "        [ 0.7127, -1.1535,  0.1344, -0.9916,  0.2574],\n",
              "        [ 0.3562, -2.1515,  0.9356,  1.6976,  0.3810]])"
            ]
          },
          "execution_count": 43,
          "metadata": {},
          "output_type": "execute_result"
        }
      ],
      "source": [
        "# Encontrando o mínimo\n",
        "d = torch.randn(4,5)\n",
        "d"
      ]
    },
    {
      "cell_type": "code",
      "execution_count": 44,
      "id": "2a223290",
      "metadata": {
        "colab": {
          "base_uri": "https://localhost:8080/"
        },
        "id": "2a223290",
        "outputId": "fab8632d-5d9b-499b-c507-36875a9d4189"
      },
      "outputs": [
        {
          "data": {
            "text/plain": [
              "tensor([1, 3, 0, 2, 2])"
            ]
          },
          "execution_count": 44,
          "metadata": {},
          "output_type": "execute_result"
        }
      ],
      "source": [
        "## Argmin devolve os índices dos mínimos de uma dada dimensão\n",
        "## Por exemplo, para a dimensão das linhas\n",
        "d.argmin(dim=0)"
      ]
    },
    {
      "cell_type": "code",
      "execution_count": 45,
      "id": "f9bde9fc",
      "metadata": {
        "colab": {
          "base_uri": "https://localhost:8080/"
        },
        "id": "f9bde9fc",
        "outputId": "2e1eca14-1093-4c4e-96b0-87a6d7ef4871"
      },
      "outputs": [
        {
          "data": {
            "text/plain": [
              "tensor([2, 0, 1, 1])"
            ]
          },
          "execution_count": 45,
          "metadata": {},
          "output_type": "execute_result"
        }
      ],
      "source": [
        "## Argmin devolve os índices dos mínimos de uma dada dimensão\n",
        "## Por exemplo, para a dimensão das colunas\n",
        "d.argmin(dim=1)"
      ]
    },
    {
      "cell_type": "markdown",
      "id": "e2963bcd",
      "metadata": {
        "id": "e2963bcd"
      },
      "source": [
        "**Atributos de Tensores**"
      ]
    },
    {
      "cell_type": "code",
      "execution_count": 46,
      "id": "7e524f7d",
      "metadata": {
        "colab": {
          "base_uri": "https://localhost:8080/"
        },
        "id": "7e524f7d",
        "outputId": "35c8c51c-f469-4bec-a267-c6420f8e836e"
      },
      "outputs": [
        {
          "name": "stdout",
          "output_type": "stream",
          "text": [
            "Shape (formato) do Tensor: torch.Size([3, 4])\n",
            "Datatype (tipo de dado) do Tensor: torch.float32\n",
            "Device onde o tensor está armazenado: cpu\n"
          ]
        }
      ],
      "source": [
        "tensor = torch.rand(3,4)\n",
        "\n",
        "print(f\"Shape (formato) do Tensor: {tensor.shape}\")\n",
        "print(f\"Datatype (tipo de dado) do Tensor: {tensor.dtype}\")\n",
        "print(f\"Device onde o tensor está armazenado: {tensor.device}\")"
      ]
    },
    {
      "cell_type": "markdown",
      "id": "5420966c",
      "metadata": {
        "id": "5420966c"
      },
      "source": [
        "**Operações avançadas com Tensores**\n",
        "\n",
        "Em PyTorch temos mais de 100 operações tensoriais, incluindo aritmética, álgebra linear, manipulação de matrizes (transposição,\n",
        "indexação, fatiamento), amostragem e muito mais. Para mais operações interessantes sugiro procurar [aqui](https://pytorch.org/docs/stable/torch.html).\n",
        "\n",
        "Cada uma destas operações pode ser executada na GPU (em velocidades tipicamente mais altas do que em uma\n",
        "CPU). No Colab, alocar uma GPU é feito indo em Runtime > Change runtime type > GPU.\n",
        "\n",
        "Por padrão, os tensores são criados na CPU. Precisamos mover explicitamente os tensores para a GPU usando\n",
        "método ``.to'' (depois de verificar a disponibilidade da GPU). Tenha em mente que a cópia de grandes tensores\n",
        "através de dispositivos pode ser caro em termos de tempo e memória!"
      ]
    },
    {
      "cell_type": "code",
      "execution_count": 47,
      "id": "f9bcb4c0",
      "metadata": {
        "id": "f9bcb4c0"
      },
      "outputs": [],
      "source": [
        "# Movemos nosso tensor para a GPU, se disponível\n",
        "if torch.cuda.is_available():\n",
        "    tensor = tensor.to(\"cuda\")"
      ]
    },
    {
      "cell_type": "code",
      "execution_count": 48,
      "id": "649e1be5",
      "metadata": {
        "colab": {
          "base_uri": "https://localhost:8080/"
        },
        "id": "649e1be5",
        "outputId": "33fd5f71-ef77-432b-ba6e-5e4bd57d3370"
      },
      "outputs": [
        {
          "name": "stdout",
          "output_type": "stream",
          "text": [
            "Tensor: tensor([[1., 1., 1., 1.],\n",
            "        [1., 1., 1., 1.],\n",
            "        [1., 1., 1., 1.],\n",
            "        [1., 1., 1., 1.]])\n",
            "Primeira Linha: tensor([1., 1., 1., 1.])\n",
            "Primeira coluna: tensor([1., 1., 1., 1.])\n",
            "Última column: tensor([1., 1., 1., 1.])\n"
          ]
        }
      ],
      "source": [
        "## Indexação e Slices\n",
        "tensor = torch.ones(4, 4)\n",
        "print(f\"Tensor: {tensor}\")\n",
        "print(f\"Primeira Linha: {tensor[0]}\")\n",
        "print(f\"Primeira coluna: {tensor[:, 0]}\")\n",
        "print(f\"Última column: {tensor[:, -1]}\")"
      ]
    },
    {
      "cell_type": "code",
      "execution_count": 49,
      "id": "d9bca7a3",
      "metadata": {
        "colab": {
          "base_uri": "https://localhost:8080/"
        },
        "id": "d9bca7a3",
        "outputId": "712336d9-19ad-4798-8577-bc07b4d3886d"
      },
      "outputs": [
        {
          "name": "stdout",
          "output_type": "stream",
          "text": [
            "tensor([[1., 1., 1., 0.],\n",
            "        [1., 1., 1., 0.],\n",
            "        [1., 1., 1., 0.],\n",
            "        [1., 1., 1., 0.]])\n"
          ]
        }
      ],
      "source": [
        "## Alterando última coluna de todas as linhas\n",
        "tensor[:,-1] = 0\n",
        "print(tensor)"
      ]
    },
    {
      "cell_type": "markdown",
      "id": "13d8c49a",
      "metadata": {
        "id": "13d8c49a"
      },
      "source": [
        "**Unindo tensores**\n",
        "\n",
        " Você pode utilizar ``torch.cat``` para concatenar uma seqüência de tensores ao longo de uma dada dimensão.\n"
      ]
    },
    {
      "cell_type": "code",
      "execution_count": 50,
      "id": "ccf6546c",
      "metadata": {
        "colab": {
          "base_uri": "https://localhost:8080/"
        },
        "id": "ccf6546c",
        "outputId": "c1d11396-ef40-46c5-c02f-37d920bdb1f0"
      },
      "outputs": [
        {
          "name": "stdout",
          "output_type": "stream",
          "text": [
            "tensor([[1., 1., 1., 0.],\n",
            "        [1., 1., 1., 0.],\n",
            "        [1., 1., 1., 0.],\n",
            "        [1., 1., 1., 0.],\n",
            "        [1., 1., 1., 0.],\n",
            "        [1., 1., 1., 0.],\n",
            "        [1., 1., 1., 0.],\n",
            "        [1., 1., 1., 0.],\n",
            "        [1., 1., 1., 0.],\n",
            "        [1., 1., 1., 0.],\n",
            "        [1., 1., 1., 0.],\n",
            "        [1., 1., 1., 0.]])\n"
          ]
        }
      ],
      "source": [
        "t1 = torch.cat([tensor, tensor, tensor], dim=0)\n",
        "print(t1)"
      ]
    },
    {
      "cell_type": "code",
      "execution_count": 51,
      "id": "3c97e1b8",
      "metadata": {
        "colab": {
          "base_uri": "https://localhost:8080/"
        },
        "id": "3c97e1b8",
        "outputId": "b9324006-ef51-4ede-a578-1e1f2d75180f"
      },
      "outputs": [
        {
          "name": "stdout",
          "output_type": "stream",
          "text": [
            "tensor([[1., 1., 1., 0., 1., 1., 1., 0., 1., 1., 1., 0.],\n",
            "        [1., 1., 1., 0., 1., 1., 1., 0., 1., 1., 1., 0.],\n",
            "        [1., 1., 1., 0., 1., 1., 1., 0., 1., 1., 1., 0.],\n",
            "        [1., 1., 1., 0., 1., 1., 1., 0., 1., 1., 1., 0.]])\n"
          ]
        }
      ],
      "source": [
        "t1 = torch.cat([tensor, tensor, tensor], dim=1)\n",
        "print(t1)"
      ]
    },
    {
      "cell_type": "markdown",
      "id": "31957326",
      "metadata": {
        "id": "31957326"
      },
      "source": [
        "**Transposta de um Tensor**"
      ]
    },
    {
      "cell_type": "code",
      "execution_count": 52,
      "id": "f2109763",
      "metadata": {
        "colab": {
          "base_uri": "https://localhost:8080/"
        },
        "id": "f2109763",
        "outputId": "d447e188-98c0-4d32-ea26-ddf5dd83997c"
      },
      "outputs": [
        {
          "data": {
            "text/plain": [
              "tensor([[1., 1., 1., 1.],\n",
              "        [1., 1., 1., 1.],\n",
              "        [1., 1., 1., 1.],\n",
              "        [0., 0., 0., 0.]])"
            ]
          },
          "execution_count": 52,
          "metadata": {},
          "output_type": "execute_result"
        }
      ],
      "source": [
        "tensor.T"
      ]
    },
    {
      "cell_type": "markdown",
      "id": "9d5a6a7a",
      "metadata": {
        "id": "9d5a6a7a"
      },
      "source": [
        "**Multiplicação de Tensores**"
      ]
    },
    {
      "cell_type": "code",
      "execution_count": 53,
      "id": "962b7e33",
      "metadata": {
        "colab": {
          "base_uri": "https://localhost:8080/"
        },
        "id": "962b7e33",
        "outputId": "d4dd5978-2e00-4c68-b698-67ab9402f6cc",
        "scrolled": true
      },
      "outputs": [
        {
          "data": {
            "text/plain": [
              "tensor([[3., 3., 3., 0.],\n",
              "        [3., 3., 3., 0.],\n",
              "        [3., 3., 3., 0.],\n",
              "        [3., 3., 3., 0.]])"
            ]
          },
          "execution_count": 53,
          "metadata": {},
          "output_type": "execute_result"
        }
      ],
      "source": [
        "tensor.matmul(tensor)"
      ]
    },
    {
      "cell_type": "code",
      "execution_count": 54,
      "id": "4b7efba5",
      "metadata": {
        "colab": {
          "base_uri": "https://localhost:8080/"
        },
        "id": "4b7efba5",
        "outputId": "fa81ff1c-4ba0-4446-bfcb-33921fdacf7b"
      },
      "outputs": [
        {
          "data": {
            "text/plain": [
              "tensor([[3., 3., 3., 0.],\n",
              "        [3., 3., 3., 0.],\n",
              "        [3., 3., 3., 0.],\n",
              "        [3., 3., 3., 0.]])"
            ]
          },
          "execution_count": 54,
          "metadata": {},
          "output_type": "execute_result"
        }
      ],
      "source": [
        "tensor @ tensor"
      ]
    },
    {
      "cell_type": "code",
      "execution_count": 55,
      "id": "d66500ac",
      "metadata": {
        "colab": {
          "base_uri": "https://localhost:8080/"
        },
        "id": "d66500ac",
        "outputId": "4679eeaa-9ea9-4496-9023-2342e5d27637"
      },
      "outputs": [
        {
          "data": {
            "text/plain": [
              "tensor([[1., 1., 1., 0.],\n",
              "        [1., 1., 1., 0.],\n",
              "        [1., 1., 1., 0.],\n",
              "        [1., 1., 1., 0.]])"
            ]
          },
          "execution_count": 55,
          "metadata": {},
          "output_type": "execute_result"
        }
      ],
      "source": [
        "tensor"
      ]
    },
    {
      "cell_type": "markdown",
      "id": "71c1b093",
      "metadata": {
        "id": "71c1b093"
      },
      "source": [
        "**Produto de Tensores (elemento a elemento)"
      ]
    },
    {
      "cell_type": "code",
      "execution_count": 56,
      "id": "d4bc87be",
      "metadata": {
        "colab": {
          "base_uri": "https://localhost:8080/"
        },
        "id": "d4bc87be",
        "outputId": "779c49ef-db8a-4754-e3b9-8e4eae06dea2"
      },
      "outputs": [
        {
          "data": {
            "text/plain": [
              "tensor([[1., 1., 1., 0.],\n",
              "        [1., 1., 1., 0.],\n",
              "        [1., 1., 1., 0.],\n",
              "        [1., 1., 1., 0.]])"
            ]
          },
          "execution_count": 56,
          "metadata": {},
          "output_type": "execute_result"
        }
      ],
      "source": [
        "tensor * tensor"
      ]
    },
    {
      "cell_type": "code",
      "execution_count": 57,
      "id": "c57a3a99",
      "metadata": {
        "colab": {
          "base_uri": "https://localhost:8080/"
        },
        "id": "c57a3a99",
        "outputId": "a9a2820c-b8a2-42f2-983e-882ab1645060"
      },
      "outputs": [
        {
          "data": {
            "text/plain": [
              "tensor([[1., 1., 1., 0.],\n",
              "        [1., 1., 1., 0.],\n",
              "        [1., 1., 1., 0.],\n",
              "        [1., 1., 1., 0.]])"
            ]
          },
          "execution_count": 57,
          "metadata": {},
          "output_type": "execute_result"
        }
      ],
      "source": [
        "tensor.mul(tensor)"
      ]
    },
    {
      "cell_type": "markdown",
      "id": "a4a36952",
      "metadata": {
        "id": "a4a36952"
      },
      "source": [
        "**Conversão de Tensores para Python**\n",
        "\n",
        "Se você tiver um tensor de um elemento, você pode convertê-lo em um valor numérico padrão do Python\n",
        " utilizando ``item()``:"
      ]
    },
    {
      "cell_type": "code",
      "execution_count": 58,
      "id": "dd3cc79b",
      "metadata": {
        "colab": {
          "base_uri": "https://localhost:8080/"
        },
        "id": "dd3cc79b",
        "outputId": "b88f1fc2-1c67-4a4e-b29e-2039ca5ebbfd"
      },
      "outputs": [
        {
          "data": {
            "text/plain": [
              "tensor(12.)"
            ]
          },
          "execution_count": 58,
          "metadata": {},
          "output_type": "execute_result"
        }
      ],
      "source": [
        "agg = tensor.sum()\n",
        "agg"
      ]
    },
    {
      "cell_type": "code",
      "execution_count": 59,
      "id": "48c45d5e",
      "metadata": {
        "colab": {
          "base_uri": "https://localhost:8080/"
        },
        "id": "48c45d5e",
        "outputId": "f6dbd27b-a0c1-4278-9cb2-f1b763f72976"
      },
      "outputs": [
        {
          "name": "stdout",
          "output_type": "stream",
          "text": [
            "12.0 <class 'float'>\n"
          ]
        }
      ],
      "source": [
        "agg_item = agg.item()\n",
        "print(agg_item, type(agg_item))"
      ]
    },
    {
      "cell_type": "markdown",
      "id": "04ed40db",
      "metadata": {
        "id": "04ed40db"
      },
      "source": [
        "Se você tiver um tensor de vários elemento, você pode convertê-lo em uma lista padrão do Python\n",
        " utilizando ``tolist()``:"
      ]
    },
    {
      "cell_type": "code",
      "execution_count": 60,
      "id": "adc87159",
      "metadata": {
        "colab": {
          "base_uri": "https://localhost:8080/"
        },
        "id": "adc87159",
        "outputId": "a50dee74-2385-4c09-c623-09742a10b038"
      },
      "outputs": [
        {
          "name": "stdout",
          "output_type": "stream",
          "text": [
            "[[1.0, 1.0, 1.0, 0.0], [1.0, 1.0, 1.0, 0.0], [1.0, 1.0, 1.0, 0.0], [1.0, 1.0, 1.0, 0.0]] <class 'list'>\n"
          ]
        }
      ],
      "source": [
        "python_list = tensor.tolist()\n",
        "print(python_list, type(python_list))"
      ]
    },
    {
      "cell_type": "markdown",
      "id": "Y1HPCAL8J7zx",
      "metadata": {
        "id": "Y1HPCAL8J7zx"
      },
      "source": [
        "# Regressão Linear\n",
        "\n",
        "A **regressão linear** é um dos modelos mais simples e amplamente utilizados em machine learning e estatística. O objetivo é modelar a relação entre uma **variável independente** (ou de entrada) e uma **variável dependente** (ou de saída) utilizando uma curva.\n",
        "\n",
        "## Regressão com uma reta\n",
        "A equação geral da reta é:\n",
        "\n",
        "$$ y = wx + b $$\n",
        "\n",
        "Onde:\n",
        "- \\( $y$ \\) é a variável dependente (o que queremos prever),\n",
        "- \\( $x$ \\) é a variável independente (os dados de entrada),\n",
        "- \\( $w$ \\) é o **peso** ou coeficiente que define a inclinação da linha,\n",
        "- \\( $b$ \\) é o **termo de bias** (intercepto), que ajusta a linha no eixo y.\n",
        "\n",
        "\n",
        "## Regressão com Curva do Segundo Grau\n",
        "Uma equação do tipo: $ y = ax^2 + bx + c$, embora seja uma **curva** quadrática, **ainda pode ser considerada uma regressão linear**. Isso acontece porque o termo \"linear\" em **regressão linear** se refere à **linearidade nos parâmetros** (os coeficientes \\($a$\\), \\($b$\\), e \\($c$\\)) e não à linearidade no termo de entrada \\(x\\).\n",
        "\n",
        "No modelo $y = ax^2 + bx + c$, estamos fazendo uma **regressão polinomial**, mas os coeficientes \\($a$\\), \\($b$\\), e \\($c$\\) são ajustados linearmente. Ou seja, mesmo que a relação entre \\($x$\\) e \\($y$\\) seja não-linear (devido ao termo \\($x^2$\\)), os coeficientes \\($a$\\), \\($b$\\), e \\($c$\\) ainda são determinados de maneira **linear**.\n",
        "\n",
        "Assim:\n",
        "\n",
        "- O modelo **é linear nos coeficientes** \\($a$\\), \\($b$\\), e \\($c$\\).\n",
        "- Embora a relação entre \\($x$\\) e \\($y$\\) seja **quadrática**, isso não afeta a natureza linear da regressão em relação aos parâmetros.\n",
        "\n",
        "Portanto, este tipo de modelo **é considerado uma regressão linear** do ponto de vista da técnica de ajuste dos parâmetros, mas especificamente é chamado de **regressão polinomial**.\n",
        "\n",
        "## Regressão com um Polinônio Qualquer\n",
        "Quando falamos em **regressão polinomial**, estamos nos referindo a uma forma especial de **regressão linear**. Isso pode parecer confuso à primeira vista, já que os polinômios geram curvas e muitas vezes associamos \"linear\" a uma reta.\n",
        "\n",
        "No entanto, vale repetir, o termo \"linear\" em **regressão linear** se refere à **linearidade dos parâmetros** e não à forma do gráfico que os dados assumem.\n",
        "\n",
        "\n",
        "A equação de um polinômio de grau \\($n$\\) pode ser representada assim:\n",
        "$$\n",
        "y = a_n x^n + a_{n-1} x^{n-1} + \\dots + a_1 x + a_0$$\n",
        "\n",
        "Aqui, \\($a_0, a_1, \\dots, a_n$\\) são os **parâmetros** (ou coeficientes) que queremos ajustar. Embora a relação entre \\($x$\\) e \\($y$\\) seja **não-linear** quando representada graficamente, o processo de ajuste dos parâmetros \\($a_n, a_{n-1}, \\dots, a_0$\\) é feito de maneira **linear**.\n",
        "\n"
      ]
    },
    {
      "cell_type": "markdown",
      "id": "0vQ_6gvPF8iU",
      "metadata": {
        "id": "0vQ_6gvPF8iU"
      },
      "source": [
        "### Por que usar PyTorch?\n",
        "\n",
        "Ao implementar a **regressão linear** com PyTorch, você pode aproveitar as ferramentas que facilitam o processo de:\n",
        "- Definir modelos matemáticos de forma clara e direta,\n",
        "- Treinar o modelo automaticamente usando **descida do gradiente**,\n",
        "- Ajustar parâmetros como \\( w \\) e \\( b \\) para minimizar o erro (função de custo),\n",
        "- Fazer previsões e avaliar a performance do modelo.\n",
        "\n",
        "### O que veremos a seguir?\n",
        "\n",
        "Nos próximos passos, vamos:\n",
        "1. **Criar um modelo de regressão linear** utilizando PyTorch,\n",
        "2. **Treinar o modelo** com dados reais,\n",
        "3. **Avaliar o modelo** usando uma função de erro,\n",
        "4. **Fazer previsões** com o modelo treinado.\n",
        "\n",
        "Com PyTorch, o processo de ajuste dos parâmetros \\( $a$ \\), \\( $b$ \\) e \\( $c$ \\) será automatizado, utilizando técnicas avançadas como **backpropagation** e **otimização**. Isso nos permitirá encontrar a linha que melhor se ajusta aos dados de forma eficiente e escalável.\n"
      ]
    },
    {
      "cell_type": "markdown",
      "id": "YdqxVAsWI4P2",
      "metadata": {
        "id": "YdqxVAsWI4P2"
      },
      "source": [
        "## Bibliotecas\n",
        "\n",
        "No código, utilizamos três bibliotecas essenciais para o nosso projeto.\n",
        "\n",
        "1. O **pandas** é uma biblioteca poderosa para manipulação e análise de dados, permitindo a leitura e estruturação de bases de dados como a que usamos aqui.\n",
        "2. O **PyTorch** é uma biblioteca de aprendizado de máquina que facilita a criação e o treinamento de modelos, fornecendo suporte eficiente para tensores e cálculos automáticos de gradientes\n",
        "3. O **matplotlib** é utilizado para gerar visualizações, como gráficos, permitindo uma melhor interpretação dos resultados obtidos com nossos modelos.\n",
        "\n",
        "Juntas, essas bibliotecas tornam o processo de manipulação de dados, construção de modelos e visualização de resultados mais fluido e eficiente.\n"
      ]
    },
    {
      "cell_type": "code",
      "execution_count": 61,
      "id": "Y9Yz__GuZ-Ir",
      "metadata": {
        "id": "Y9Yz__GuZ-Ir"
      },
      "outputs": [],
      "source": [
        "import pandas as pd\n",
        "import torch\n",
        "import matplotlib.pyplot as plt"
      ]
    },
    {
      "cell_type": "markdown",
      "id": "5UnZZLduI6kq",
      "metadata": {
        "id": "5UnZZLduI6kq"
      },
      "source": [
        "## Banco de Dados\n",
        "\n",
        "O **Old Faithful Geyser** é uma fonte termal famosa localizada no Parque Nacional de Yellowstone, e o banco de dados usado aqui contém dois atributos:\n",
        "\n",
        "- **Eruptions**: A duração da erupção, em minutos.\n",
        "- **Waiting**: O tempo de espera, em minutos, até a próxima erupção.\n",
        "\n",
        "Este é um exemplo simples de conjunto de dados, mas muito útil para ilustrar modelos de **regressão linear**. Com ele, podemos explorar como a relação entre a duração das erupções e o tempo de espera pode ser modelada de forma matemática, o que serve como uma boa introdução para aplicar técnicas de aprendizado de máquina, como a **regressão polinomial** no PyTorch.\n"
      ]
    },
    {
      "cell_type": "code",
      "execution_count": 62,
      "id": "7d6WnDStaWy9",
      "metadata": {
        "colab": {
          "base_uri": "https://localhost:8080/",
          "height": 206
        },
        "id": "7d6WnDStaWy9",
        "outputId": "60f17ddb-9b20-4045-b529-eedaf6d2b3b0"
      },
      "outputs": [
        {
          "data": {
            "application/vnd.google.colaboratory.intrinsic+json": {
              "summary": "{\n  \"name\": \"faithful\",\n  \"rows\": 272,\n  \"fields\": [\n    {\n      \"column\": \"eruptions\",\n      \"properties\": {\n        \"dtype\": \"number\",\n        \"std\": 1.141371251105208,\n        \"min\": 1.6,\n        \"max\": 5.1,\n        \"num_unique_values\": 126,\n        \"samples\": [\n          4.733,\n          1.967,\n          1.85\n        ],\n        \"semantic_type\": \"\",\n        \"description\": \"\"\n      }\n    },\n    {\n      \"column\": \"waiting\",\n      \"properties\": {\n        \"dtype\": \"number\",\n        \"std\": 13,\n        \"min\": 43,\n        \"max\": 96,\n        \"num_unique_values\": 51,\n        \"samples\": [\n          96,\n          87,\n          68\n        ],\n        \"semantic_type\": \"\",\n        \"description\": \"\"\n      }\n    }\n  ]\n}",
              "type": "dataframe",
              "variable_name": "faithful"
            },
            "text/html": [
              "\n",
              "  <div id=\"df-0d52190f-69ce-4516-b483-7c61b821cef8\" class=\"colab-df-container\">\n",
              "    <div>\n",
              "<style scoped>\n",
              "    .dataframe tbody tr th:only-of-type {\n",
              "        vertical-align: middle;\n",
              "    }\n",
              "\n",
              "    .dataframe tbody tr th {\n",
              "        vertical-align: top;\n",
              "    }\n",
              "\n",
              "    .dataframe thead th {\n",
              "        text-align: right;\n",
              "    }\n",
              "</style>\n",
              "<table border=\"1\" class=\"dataframe\">\n",
              "  <thead>\n",
              "    <tr style=\"text-align: right;\">\n",
              "      <th></th>\n",
              "      <th>eruptions</th>\n",
              "      <th>waiting</th>\n",
              "    </tr>\n",
              "  </thead>\n",
              "  <tbody>\n",
              "    <tr>\n",
              "      <th>1</th>\n",
              "      <td>3.600</td>\n",
              "      <td>79</td>\n",
              "    </tr>\n",
              "    <tr>\n",
              "      <th>2</th>\n",
              "      <td>1.800</td>\n",
              "      <td>54</td>\n",
              "    </tr>\n",
              "    <tr>\n",
              "      <th>3</th>\n",
              "      <td>3.333</td>\n",
              "      <td>74</td>\n",
              "    </tr>\n",
              "    <tr>\n",
              "      <th>4</th>\n",
              "      <td>2.283</td>\n",
              "      <td>62</td>\n",
              "    </tr>\n",
              "    <tr>\n",
              "      <th>5</th>\n",
              "      <td>4.533</td>\n",
              "      <td>85</td>\n",
              "    </tr>\n",
              "  </tbody>\n",
              "</table>\n",
              "</div>\n",
              "    <div class=\"colab-df-buttons\">\n",
              "\n",
              "  <div class=\"colab-df-container\">\n",
              "    <button class=\"colab-df-convert\" onclick=\"convertToInteractive('df-0d52190f-69ce-4516-b483-7c61b821cef8')\"\n",
              "            title=\"Convert this dataframe to an interactive table.\"\n",
              "            style=\"display:none;\">\n",
              "\n",
              "  <svg xmlns=\"http://www.w3.org/2000/svg\" height=\"24px\" viewBox=\"0 -960 960 960\">\n",
              "    <path d=\"M120-120v-720h720v720H120Zm60-500h600v-160H180v160Zm220 220h160v-160H400v160Zm0 220h160v-160H400v160ZM180-400h160v-160H180v160Zm440 0h160v-160H620v160ZM180-180h160v-160H180v160Zm440 0h160v-160H620v160Z\"/>\n",
              "  </svg>\n",
              "    </button>\n",
              "\n",
              "  <style>\n",
              "    .colab-df-container {\n",
              "      display:flex;\n",
              "      gap: 12px;\n",
              "    }\n",
              "\n",
              "    .colab-df-convert {\n",
              "      background-color: #E8F0FE;\n",
              "      border: none;\n",
              "      border-radius: 50%;\n",
              "      cursor: pointer;\n",
              "      display: none;\n",
              "      fill: #1967D2;\n",
              "      height: 32px;\n",
              "      padding: 0 0 0 0;\n",
              "      width: 32px;\n",
              "    }\n",
              "\n",
              "    .colab-df-convert:hover {\n",
              "      background-color: #E2EBFA;\n",
              "      box-shadow: 0px 1px 2px rgba(60, 64, 67, 0.3), 0px 1px 3px 1px rgba(60, 64, 67, 0.15);\n",
              "      fill: #174EA6;\n",
              "    }\n",
              "\n",
              "    .colab-df-buttons div {\n",
              "      margin-bottom: 4px;\n",
              "    }\n",
              "\n",
              "    [theme=dark] .colab-df-convert {\n",
              "      background-color: #3B4455;\n",
              "      fill: #D2E3FC;\n",
              "    }\n",
              "\n",
              "    [theme=dark] .colab-df-convert:hover {\n",
              "      background-color: #434B5C;\n",
              "      box-shadow: 0px 1px 3px 1px rgba(0, 0, 0, 0.15);\n",
              "      filter: drop-shadow(0px 1px 2px rgba(0, 0, 0, 0.3));\n",
              "      fill: #FFFFFF;\n",
              "    }\n",
              "  </style>\n",
              "\n",
              "    <script>\n",
              "      const buttonEl =\n",
              "        document.querySelector('#df-0d52190f-69ce-4516-b483-7c61b821cef8 button.colab-df-convert');\n",
              "      buttonEl.style.display =\n",
              "        google.colab.kernel.accessAllowed ? 'block' : 'none';\n",
              "\n",
              "      async function convertToInteractive(key) {\n",
              "        const element = document.querySelector('#df-0d52190f-69ce-4516-b483-7c61b821cef8');\n",
              "        const dataTable =\n",
              "          await google.colab.kernel.invokeFunction('convertToInteractive',\n",
              "                                                    [key], {});\n",
              "        if (!dataTable) return;\n",
              "\n",
              "        const docLinkHtml = 'Like what you see? Visit the ' +\n",
              "          '<a target=\"_blank\" href=https://colab.research.google.com/notebooks/data_table.ipynb>data table notebook</a>'\n",
              "          + ' to learn more about interactive tables.';\n",
              "        element.innerHTML = '';\n",
              "        dataTable['output_type'] = 'display_data';\n",
              "        await google.colab.output.renderOutput(dataTable, element);\n",
              "        const docLink = document.createElement('div');\n",
              "        docLink.innerHTML = docLinkHtml;\n",
              "        element.appendChild(docLink);\n",
              "      }\n",
              "    </script>\n",
              "  </div>\n",
              "\n",
              "\n",
              "<div id=\"df-b24ad112-e9d9-40b3-96b0-cd97cc21dc46\">\n",
              "  <button class=\"colab-df-quickchart\" onclick=\"quickchart('df-b24ad112-e9d9-40b3-96b0-cd97cc21dc46')\"\n",
              "            title=\"Suggest charts\"\n",
              "            style=\"display:none;\">\n",
              "\n",
              "<svg xmlns=\"http://www.w3.org/2000/svg\" height=\"24px\"viewBox=\"0 0 24 24\"\n",
              "     width=\"24px\">\n",
              "    <g>\n",
              "        <path d=\"M19 3H5c-1.1 0-2 .9-2 2v14c0 1.1.9 2 2 2h14c1.1 0 2-.9 2-2V5c0-1.1-.9-2-2-2zM9 17H7v-7h2v7zm4 0h-2V7h2v10zm4 0h-2v-4h2v4z\"/>\n",
              "    </g>\n",
              "</svg>\n",
              "  </button>\n",
              "\n",
              "<style>\n",
              "  .colab-df-quickchart {\n",
              "      --bg-color: #E8F0FE;\n",
              "      --fill-color: #1967D2;\n",
              "      --hover-bg-color: #E2EBFA;\n",
              "      --hover-fill-color: #174EA6;\n",
              "      --disabled-fill-color: #AAA;\n",
              "      --disabled-bg-color: #DDD;\n",
              "  }\n",
              "\n",
              "  [theme=dark] .colab-df-quickchart {\n",
              "      --bg-color: #3B4455;\n",
              "      --fill-color: #D2E3FC;\n",
              "      --hover-bg-color: #434B5C;\n",
              "      --hover-fill-color: #FFFFFF;\n",
              "      --disabled-bg-color: #3B4455;\n",
              "      --disabled-fill-color: #666;\n",
              "  }\n",
              "\n",
              "  .colab-df-quickchart {\n",
              "    background-color: var(--bg-color);\n",
              "    border: none;\n",
              "    border-radius: 50%;\n",
              "    cursor: pointer;\n",
              "    display: none;\n",
              "    fill: var(--fill-color);\n",
              "    height: 32px;\n",
              "    padding: 0;\n",
              "    width: 32px;\n",
              "  }\n",
              "\n",
              "  .colab-df-quickchart:hover {\n",
              "    background-color: var(--hover-bg-color);\n",
              "    box-shadow: 0 1px 2px rgba(60, 64, 67, 0.3), 0 1px 3px 1px rgba(60, 64, 67, 0.15);\n",
              "    fill: var(--button-hover-fill-color);\n",
              "  }\n",
              "\n",
              "  .colab-df-quickchart-complete:disabled,\n",
              "  .colab-df-quickchart-complete:disabled:hover {\n",
              "    background-color: var(--disabled-bg-color);\n",
              "    fill: var(--disabled-fill-color);\n",
              "    box-shadow: none;\n",
              "  }\n",
              "\n",
              "  .colab-df-spinner {\n",
              "    border: 2px solid var(--fill-color);\n",
              "    border-color: transparent;\n",
              "    border-bottom-color: var(--fill-color);\n",
              "    animation:\n",
              "      spin 1s steps(1) infinite;\n",
              "  }\n",
              "\n",
              "  @keyframes spin {\n",
              "    0% {\n",
              "      border-color: transparent;\n",
              "      border-bottom-color: var(--fill-color);\n",
              "      border-left-color: var(--fill-color);\n",
              "    }\n",
              "    20% {\n",
              "      border-color: transparent;\n",
              "      border-left-color: var(--fill-color);\n",
              "      border-top-color: var(--fill-color);\n",
              "    }\n",
              "    30% {\n",
              "      border-color: transparent;\n",
              "      border-left-color: var(--fill-color);\n",
              "      border-top-color: var(--fill-color);\n",
              "      border-right-color: var(--fill-color);\n",
              "    }\n",
              "    40% {\n",
              "      border-color: transparent;\n",
              "      border-right-color: var(--fill-color);\n",
              "      border-top-color: var(--fill-color);\n",
              "    }\n",
              "    60% {\n",
              "      border-color: transparent;\n",
              "      border-right-color: var(--fill-color);\n",
              "    }\n",
              "    80% {\n",
              "      border-color: transparent;\n",
              "      border-right-color: var(--fill-color);\n",
              "      border-bottom-color: var(--fill-color);\n",
              "    }\n",
              "    90% {\n",
              "      border-color: transparent;\n",
              "      border-bottom-color: var(--fill-color);\n",
              "    }\n",
              "  }\n",
              "</style>\n",
              "\n",
              "  <script>\n",
              "    async function quickchart(key) {\n",
              "      const quickchartButtonEl =\n",
              "        document.querySelector('#' + key + ' button');\n",
              "      quickchartButtonEl.disabled = true;  // To prevent multiple clicks.\n",
              "      quickchartButtonEl.classList.add('colab-df-spinner');\n",
              "      try {\n",
              "        const charts = await google.colab.kernel.invokeFunction(\n",
              "            'suggestCharts', [key], {});\n",
              "      } catch (error) {\n",
              "        console.error('Error during call to suggestCharts:', error);\n",
              "      }\n",
              "      quickchartButtonEl.classList.remove('colab-df-spinner');\n",
              "      quickchartButtonEl.classList.add('colab-df-quickchart-complete');\n",
              "    }\n",
              "    (() => {\n",
              "      let quickchartButtonEl =\n",
              "        document.querySelector('#df-b24ad112-e9d9-40b3-96b0-cd97cc21dc46 button');\n",
              "      quickchartButtonEl.style.display =\n",
              "        google.colab.kernel.accessAllowed ? 'block' : 'none';\n",
              "    })();\n",
              "  </script>\n",
              "</div>\n",
              "\n",
              "    </div>\n",
              "  </div>\n"
            ],
            "text/plain": [
              "   eruptions  waiting\n",
              "1      3.600       79\n",
              "2      1.800       54\n",
              "3      3.333       74\n",
              "4      2.283       62\n",
              "5      4.533       85"
            ]
          },
          "execution_count": 62,
          "metadata": {},
          "output_type": "execute_result"
        }
      ],
      "source": [
        "## Obtendo os dados\n",
        "faithful = pd.read_csv(\"https://raw.githubusercontent.com/ulissesdias/tt003/main/notebooks/data/faithful.csv\", index_col = 0)\n",
        "faithful.head()"
      ]
    },
    {
      "cell_type": "markdown",
      "id": "oAYq72m_J0V4",
      "metadata": {
        "id": "oAYq72m_J0V4"
      },
      "source": [
        "## Conversão de Tipos de Dados\n",
        "\n",
        "Para podermos utilizar os dados na construção de modelos em **PyTorch**, é necessário converter os dados do formato **pandas** para tensores, que são a principal estrutura de dados dessa biblioteca.\n",
        "\n",
        "No exemplo, estamos convertendo as colunas do banco de dados do **Old Faithful** para tensores de ponto flutuante (**float**), que serão usados no treinamento e nas previsões do modelo.\n",
        "\n",
        "Essa conversão é fundamental para que o **PyTorch** possa manipular os dados de forma eficiente durante os cálculos necessários para o aprendizado de máquina.\n"
      ]
    },
    {
      "cell_type": "code",
      "execution_count": 63,
      "id": "MSRO7qpRaiiy",
      "metadata": {
        "id": "MSRO7qpRaiiy"
      },
      "outputs": [],
      "source": [
        "## Preparando os Tensores\n",
        "y = torch.tensor(faithful.eruptions.values, dtype = torch.float)\n",
        "x = torch.tensor(faithful.waiting.values, dtype = torch.float)"
      ]
    },
    {
      "cell_type": "markdown",
      "id": "SLl5cOS3KCTk",
      "metadata": {
        "id": "SLl5cOS3KCTk"
      },
      "source": [
        "## Normalização de Dados\n",
        "\n",
        "A normalização dos dados é um passo fundamental em muitos algoritmos de aprendizado de máquina, incluindo o treinamento de modelos em **PyTorch**.\n",
        "\n",
        "Normalizar significa ajustar os valores das variáveis (features) para que elas tenham uma média próxima de 0 e um desvio padrão de 1. Isso é importante porque dados com escalas muito diferentes podem impactar negativamente o desempenho do modelo, já que alguns valores podem dominar o processo de treinamento, especialmente em modelos baseados em gradientes.\n",
        "\n",
        "No exemplo, estamos normalizando a variável **x** subtraindo sua média (**x_mean**) e dividindo pelo desvio padrão (**x_std**). Isso ajusta os dados para que a média seja 0 e a variabilidade esteja ajustada ao desvio padrão, o que ajuda o modelo a convergir mais rápido e a melhorar a precisão durante o treinamento.\n"
      ]
    },
    {
      "cell_type": "code",
      "execution_count": 64,
      "id": "r1C1CDn2ay8e",
      "metadata": {
        "id": "r1C1CDn2ay8e"
      },
      "outputs": [],
      "source": [
        "## Normalizandos a features/características\n",
        "x_mean = x.mean()\n",
        "x_std = x.std()\n",
        "x = (x - x_mean) / x_std"
      ]
    },
    {
      "cell_type": "markdown",
      "id": "dCVK0Yv9Kz33",
      "metadata": {
        "id": "dCVK0Yv9Kz33"
      },
      "source": [
        "## Parâmetros Treináveis\n",
        "\n",
        "Aqui estamos criando os parâmetros treináveis do nosso modelo de regressão cúbica, que ajusta uma curva da forma $y = ax^3 + bx^2 + cx + d$. Esses parâmetros são os coeficientes $a$, $b$, $c$, e $d$ que a rede tentará ajustar para que o modelo faça previsões mais precisas.\n",
        "\n",
        "- `torch.rand(1, requires_grad=True)` gera um número aleatório entre 0 e 1 para iniciar cada coeficiente.\n",
        "- `requires_grad=True` indica que queremos que o PyTorch acompanhe as mudanças desses coeficientes durante o treinamento, permitindo que o gradiente seja calculado para atualizá-los durante a descida de gradiente.\n",
        "\n",
        "Em resumo, essas linhas inicializam os coeficientes do modelo, que serão otimizados com base nos dados e no processo de aprendizado.\n"
      ]
    },
    {
      "cell_type": "code",
      "execution_count": 65,
      "id": "ZQ1bK08ceHT6",
      "metadata": {
        "id": "ZQ1bK08ceHT6"
      },
      "outputs": [],
      "source": [
        "## Parâmetros / Coeficientes\n",
        "a = torch.rand(1, requires_grad = True)\n",
        "b = torch.rand(1, requires_grad = True)\n",
        "c = torch.rand(1, requires_grad = True)\n",
        "d = torch.rand(1, requires_grad = True)"
      ]
    },
    {
      "cell_type": "markdown",
      "id": "crnHP4xVLVOS",
      "metadata": {
        "id": "crnHP4xVLVOS"
      },
      "source": [
        "## Foward\n",
        "\n",
        "O forward pass é o processo de calcular a saída do modelo com os dados de entrada. Nesta linha de código:\n",
        "\n",
        "```python\n",
        "y_pred = a * x**3 + b * x**2 + c * x + d\n"
      ]
    },
    {
      "cell_type": "code",
      "execution_count": 66,
      "id": "MiHWez_vf154",
      "metadata": {
        "id": "MiHWez_vf154"
      },
      "outputs": [],
      "source": [
        "## Forward\n",
        "y_pred = a * x**3 + b * x**2 + c * x + d"
      ]
    },
    {
      "cell_type": "markdown",
      "id": "s1yNxAqeLgLi",
      "metadata": {
        "id": "s1yNxAqeLgLi"
      },
      "source": [
        "## Função de Perda\n",
        "\n",
        "O cálculo do erro, também chamado de função de perda, é uma parte crucial do processo de aprendizado de um modelo.\n",
        "\n",
        "Neste caso, estamos utilizando o erro quadrático médio (MSE), que mede a diferença entre os valores reais e os valores preditos pelo modelo. Para cada predição, subtraímos o valor real correspondente e elevamos essa diferença ao quadrado.\n",
        "\n",
        "Esse processo garante que todos os erros sejam positivos e penaliza erros maiores mais severamente. Depois, calculamos a média desses erros ao longo de todo o conjunto de dados.\n",
        "\n",
        "O objetivo do treinamento é minimizar esse erro, ajustando os parâmetros do modelo para melhorar a precisão.\n"
      ]
    },
    {
      "cell_type": "code",
      "execution_count": 67,
      "id": "8qKPiQGigSMK",
      "metadata": {
        "id": "8qKPiQGigSMK"
      },
      "outputs": [],
      "source": [
        "## Erro\n",
        "loss = ((y_pred - y)**2).mean()"
      ]
    },
    {
      "cell_type": "markdown",
      "id": "BxdQn72UMIwP",
      "metadata": {
        "id": "BxdQn72UMIwP"
      },
      "source": [
        "## Retropropagação\n",
        "\n",
        "Quando calculamos o erro, queremos que o modelo aprenda com esse erro e ajuste os seus parâmetros para reduzir esse valor nas próximas iterações. O comando de **backward** calcula como cada parâmetro contribuiu para o erro, obtendo o gradiente (derivada parcial) do erro em relação a cada parâmetro.\n",
        "\n",
        "Esses gradientes são então usados para atualizar os parâmetros na direção que minimiza o erro. Sem essa etapa, o modelo não poderia ajustar seus coeficientes de maneira automática e eficiente.\n"
      ]
    },
    {
      "cell_type": "code",
      "execution_count": 68,
      "id": "IgJrcBtPgTuj",
      "metadata": {
        "id": "IgJrcBtPgTuj"
      },
      "outputs": [],
      "source": [
        "## Backward\n",
        "loss.backward()"
      ]
    },
    {
      "cell_type": "code",
      "execution_count": 69,
      "id": "D0_jQKKPhYAb",
      "metadata": {
        "colab": {
          "base_uri": "https://localhost:8080/"
        },
        "id": "D0_jQKKPhYAb",
        "outputId": "3f5e9ee8-3e1a-4cb0-e467-b02c0e4e8368"
      },
      "outputs": [
        {
          "data": {
            "text/plain": [
              "(tensor([9.0518]), tensor([-6.7784]), tensor([2.7506]), tensor([-5.5822]))"
            ]
          },
          "execution_count": 69,
          "metadata": {},
          "output_type": "execute_result"
        }
      ],
      "source": [
        "a.grad, b.grad, c.grad, d.grad"
      ]
    },
    {
      "cell_type": "markdown",
      "id": "ILDMQA9dMa-H",
      "metadata": {
        "id": "ILDMQA9dMa-H"
      },
      "source": [
        "## Atualização dos Parâmetros\n",
        "\n",
        "Após calcular o gradiente do erro em relação a cada parâmetro, é hora de atualizar os coeficientes do modelo. Isso é feito aplicando uma pequena correção aos parâmetros, na direção oposta ao gradiente, para reduzir o erro. Esse ajuste é controlado pela taxa de aprendizado (learning rate), que define o tamanho da correção aplicada em cada iteração.\n",
        "\n",
        "Um valor muito alto de taxa de aprendizado pode fazer com que o modelo ajuste os parâmetros de maneira instável, enquanto um valor muito baixo pode tornar o processo lento.\n",
        "\n",
        "Após a atualização, os gradientes são zerados para que não se acumulem nas próximas iterações. Esse processo se repete até que o modelo minimize suficientemente o erro.\n"
      ]
    },
    {
      "cell_type": "code",
      "execution_count": 70,
      "id": "fYbAdYS3if7P",
      "metadata": {
        "id": "fYbAdYS3if7P"
      },
      "outputs": [],
      "source": [
        "learning_rate = 0.01\n",
        "with torch.no_grad() :\n",
        "    a.data -=  learning_rate * a.grad\n",
        "    b.data -= learning_rate * b.grad\n",
        "    c.data -= learning_rate * c.grad\n",
        "    d.data -= learning_rate * d.grad"
      ]
    },
    {
      "cell_type": "code",
      "execution_count": 71,
      "id": "VsMJ5htCjFke",
      "metadata": {
        "colab": {
          "base_uri": "https://localhost:8080/"
        },
        "id": "VsMJ5htCjFke",
        "outputId": "3c3e7a93-dc8a-4342-fbb6-93478a4d4c3a"
      },
      "outputs": [
        {
          "data": {
            "text/plain": [
              "tensor([0.])"
            ]
          },
          "execution_count": 71,
          "metadata": {},
          "output_type": "execute_result"
        }
      ],
      "source": [
        "## Zerando os gradientes\n",
        "a.grad.zero_()\n",
        "b.grad.zero_()\n",
        "c.grad.zero_()\n",
        "d.grad.zero_()"
      ]
    },
    {
      "cell_type": "markdown",
      "id": "-aSmaDBMMz6S",
      "metadata": {
        "id": "-aSmaDBMMz6S"
      },
      "source": [
        "## Laço de Treinamento no PyTorch\n",
        "\n",
        "Todos os passos individuais mostrados anteriormente precisam ser executados  um número suficientemente alto de iterações. Esse número de iterações é chamado de épocas. O laço a seguir é um trecho de código que você deverá se acostumar para conseguir trabalhar com PyTorch."
      ]
    },
    {
      "cell_type": "code",
      "execution_count": 72,
      "id": "zxbUF1HulkT3",
      "metadata": {
        "colab": {
          "base_uri": "https://localhost:8080/"
        },
        "collapsed": true,
        "id": "zxbUF1HulkT3",
        "outputId": "f35e5c91-d844-4b25-a3b2-2ae9764cd91b"
      },
      "outputs": [
        {
          "name": "stdout",
          "output_type": "stream",
          "text": [
            "0 9.162032127380371\n",
            "100 3.305148124694824\n",
            "200 2.108001947402954\n",
            "300 1.6363255977630615\n",
            "400 1.3714871406555176\n",
            "500 1.1956243515014648\n",
            "600 1.0653107166290283\n",
            "700 0.9610607028007507\n",
            "800 0.8734726309776306\n",
            "900 0.7977423667907715\n",
            "1000 0.7312188148498535\n",
            "1100 0.6722845435142517\n",
            "1200 0.6198422908782959\n",
            "1300 0.5730687975883484\n",
            "1400 0.5312991738319397\n",
            "1500 0.49397405982017517\n",
            "1600 0.4606087803840637\n",
            "1700 0.4307776987552643\n",
            "1800 0.40410295128822327\n",
            "1900 0.3802483379840851\n",
            "2000 0.3589143455028534\n",
            "2100 0.3398333787918091\n",
            "2200 0.3227664530277252\n",
            "2300 0.30750009417533875\n",
            "2400 0.29384350776672363\n",
            "2500 0.28162646293640137\n",
            "2600 0.2706962525844574\n",
            "2700 0.26091670989990234\n",
            "2800 0.2521663010120392\n",
            "2900 0.24433599412441254\n",
            "3000 0.23732846975326538\n",
            "3100 0.23105669021606445\n",
            "3200 0.22544309496879578\n",
            "3300 0.22041825950145721\n",
            "3400 0.21591997146606445\n",
            "3500 0.21189257502555847\n",
            "3600 0.2082865685224533\n",
            "3700 0.2050573229789734\n",
            "3800 0.20216532051563263\n",
            "3900 0.19957494735717773\n",
            "4000 0.19725455343723297\n",
            "4100 0.19517572224140167\n",
            "4200 0.19331298768520355\n",
            "4300 0.19164370000362396\n",
            "4400 0.19014759361743927\n",
            "4500 0.18880650401115417\n",
            "4600 0.1876041442155838\n",
            "4700 0.18652597069740295\n",
            "4800 0.18555907905101776\n",
            "4900 0.18469178676605225\n",
            "5000 0.18391364812850952\n",
            "5100 0.1832154542207718\n",
            "5200 0.18258877098560333\n",
            "5300 0.1820262223482132\n",
            "5400 0.18152110278606415\n",
            "5500 0.18106749653816223\n",
            "5600 0.18066002428531647\n",
            "5700 0.18029387295246124\n",
            "5800 0.1799648404121399\n",
            "5900 0.17966903746128082\n",
            "6000 0.17940308153629303\n",
            "6100 0.1791638284921646\n",
            "6200 0.1789485514163971\n",
            "6300 0.17875488102436066\n",
            "6400 0.17858046293258667\n",
            "6500 0.1784234344959259\n",
            "6600 0.1782819777727127\n",
            "6700 0.17815448343753815\n",
            "6800 0.17803955078125\n",
            "6900 0.1779358834028244\n",
            "7000 0.17784236371517181\n",
            "7100 0.17775797843933105\n",
            "7200 0.1776818037033081\n",
            "7300 0.1776130348443985\n",
            "7400 0.17755082249641418\n",
            "7500 0.17749464511871338\n",
            "7600 0.1774437576532364\n",
            "7700 0.17739778757095337\n",
            "7800 0.17735613882541656\n",
            "7900 0.17731843888759613\n",
            "8000 0.17728428542613983\n",
            "8100 0.17725330591201782\n",
            "8200 0.1772252321243286\n",
            "8300 0.17719972133636475\n",
            "8400 0.1771765947341919\n",
            "8500 0.17715556919574738\n",
            "8600 0.17713645100593567\n",
            "8700 0.17711909115314484\n",
            "8800 0.17710328102111816\n",
            "8900 0.17708885669708252\n",
            "9000 0.17707574367523193\n",
            "9100 0.17706379294395447\n",
            "9200 0.17705285549163818\n",
            "9300 0.17704293131828308\n",
            "9400 0.17703384160995483\n",
            "9500 0.17702557146549225\n",
            "9600 0.1770179569721222\n",
            "9700 0.17701104283332825\n",
            "9800 0.17700468003749847\n",
            "9900 0.17699883878231049\n"
          ]
        }
      ],
      "source": [
        "## Gerando laço de treino\n",
        "\n",
        "## Hiperparâmetros\n",
        "epochs = 10000\n",
        "learning_rate = 0.001\n",
        "\n",
        "for t in range(epochs) :\n",
        "    ## Forward\n",
        "    y_pred = a * x**3 + b * x**2 + c * x + d\n",
        "\n",
        "    ## Erro\n",
        "    loss = ((y_pred - y)**2).mean()\n",
        "\n",
        "    ## Backward\n",
        "    loss.backward()\n",
        "\n",
        "    if (t % 100 == 0) :\n",
        "        print(t, loss.item())\n",
        "\n",
        "    ## Atualiza os pesos\n",
        "    with torch.no_grad() :\n",
        "        a.data -= learning_rate * a.grad\n",
        "        b.data -= learning_rate * b.grad\n",
        "        c.data -= learning_rate * c.grad\n",
        "        d.data -= learning_rate * d.grad\n",
        "\n",
        "    ## Zerando os gradientes\n",
        "    a.grad.zero_()\n",
        "    b.grad.zero_()\n",
        "    c.grad.zero_()\n",
        "    d.grad.zero_()"
      ]
    },
    {
      "cell_type": "markdown",
      "id": "RHgI8NjtNgF5",
      "metadata": {
        "id": "RHgI8NjtNgF5"
      },
      "source": [
        "## Visualização do Resultado\n",
        "\n",
        "É fundamental, após o treinamento de um modelo de machine learning, visualizá-lo em um gráfico para entender como ele se comporta em relação aos dados reais. Esse processo permite observar se o modelo conseguiu capturar corretamente as tendências dos dados ou se cometeu erros, como overfitting (quando o modelo se ajusta demais aos dados de treinamento e não generaliza bem) ou underfitting (quando o modelo é simples demais e não captura as nuances dos dados). Analisando o gráfico, é possível verificar o desempenho do modelo em novas instâncias, identificando se ele está realizando boas predições e se pode ser ajustado para melhorar ainda mais seu desempenho."
      ]
    },
    {
      "cell_type": "code",
      "execution_count": 73,
      "id": "VzXAthClmmB3",
      "metadata": {
        "colab": {
          "base_uri": "https://localhost:8080/",
          "height": 466
        },
        "id": "VzXAthClmmB3",
        "outputId": "5a622496-adf8-4f9b-a5b4-a949c2f1d8e3"
      },
      "outputs": [
        {
          "data": {
            "text/plain": [
              "[<matplotlib.lines.Line2D at 0x7c757f2ba380>]"
            ]
          },
          "execution_count": 73,
          "metadata": {},
          "output_type": "execute_result"
        },
        {
          "data": {
            "image/png": "[encoded data removed]",
            "text/plain": [
              "<Figure size 640x480 with 1 Axes>"
            ]
          },
          "metadata": {},
          "output_type": "display_data"
        }
      ],
      "source": [
        "## Plotando os gráficos\n",
        "faithful.plot.scatter(x='waiting',\n",
        "                      y='eruptions')\n",
        "\n",
        "# Gerando eixo_x\n",
        "eixo_x = torch.tensor(range(40,100,2))\n",
        "\n",
        "# Normalizando\n",
        "normal_x = (eixo_x - x_mean) / x_std\n",
        "\n",
        "# Gerando eixo_y\n",
        "eixo_y = a * normal_x**3 + b * normal_x**2 + c * normal_x + d\n",
        "\n",
        "## Plotando no gráfico\n",
        "plt.plot(eixo_x.tolist(), eixo_y.tolist(), color = 'red')\n"
      ]
    },
    {
      "cell_type": "markdown",
      "id": "Lz7I4AqSKDW8",
      "metadata": {
        "id": "Lz7I4AqSKDW8"
      },
      "source": [
        "## Usando Funções do PyTorch\n",
        "\n",
        "Embora tenhamos escrito um primeiro modelo utilizando a teoria básica e implementado manualmente algumas operações, como a função de custo e os parâmetros do modelo, o PyTorch oferece uma variedade de funções pré-definidas e otimizadas que facilitam o desenvolvimento.\n",
        "\n",
        "Essas funções não só tornam o código mais conciso e fácil de entender, como também garantem que estamos seguindo as melhores práticas, utilizando algoritmos otimizados e ferramentas já testadas pela comunidade.\n",
        "\n",
        "Ao utilizar essas funções do PyTorch, como otimização e cálculo de erros, podemos focar mais na lógica do problema e menos nos detalhes da implementação matemática."
      ]
    },
    {
      "cell_type": "code",
      "execution_count": 74,
      "id": "XTIMs6RbKLNK",
      "metadata": {
        "id": "XTIMs6RbKLNK"
      },
      "outputs": [],
      "source": [
        "## Bibliotecas que usaremos com frequência\n",
        "import torch.nn as nn\n",
        "import torch.optim as optim\n",
        "from torch.utils.data import DataLoader, TensorDataset"
      ]
    },
    {
      "cell_type": "markdown",
      "id": "plKwauskOvuF",
      "metadata": {
        "id": "plKwauskOvuF"
      },
      "source": [
        "## Formatando os Tensores\n",
        "\n",
        "O método `.unsqueeze()` no PyTorch é utilizado para aumentar a dimensionalidade de um tensor, inserindo uma nova dimensão de tamanho 1 em um lugar específico.\n",
        "\n",
        "No caso de `x.unsqueeze(-1)`, o `-1` indica que a nova dimensão será adicionada na última posição do tensor. Isso transforma o tensor `x` de um formato, por exemplo, de `(n,)` (onde `n` é o número de elementos) para `(n, 1)`. Ou seja, o tensor unidimensional com `n` elementos se torna um tensor bidimensional, mas com uma única coluna de `n` elementos.\n",
        "\n",
        "Essa operação é útil em diversas situações, especialmente quando se trabalha com operações matriciais e vetoriais, garantindo que os tensores tenham as dimensões corretas para multiplicações, concatenações, ou outras operações.\n",
        "\n",
        "Tente entender a operação com os códigos a seguir:\n"
      ]
    },
    {
      "cell_type": "code",
      "execution_count": 75,
      "id": "Sl1oXRGvK40J",
      "metadata": {
        "id": "Sl1oXRGvK40J"
      },
      "outputs": [],
      "source": [
        "xx = x.unsqueeze(-1)\n",
        "yy = y.unsqueeze(-1)"
      ]
    },
    {
      "cell_type": "code",
      "execution_count": 76,
      "id": "0DoqhdMAPJYn",
      "metadata": {
        "colab": {
          "base_uri": "https://localhost:8080/"
        },
        "id": "0DoqhdMAPJYn",
        "outputId": "58acb233-00f7-44cf-8136-b8d2bb58e45a"
      },
      "outputs": [
        {
          "name": "stdout",
          "output_type": "stream",
          "text": [
            "tensor([ 0.5960, -1.2429,  0.2282, -0.6544,  1.0374, -1.1693,  1.2580,  1.0374,\n",
            "        -1.4636,  1.0374, -1.2429,  0.9638,  0.5225, -1.7578,  0.8903, -1.3900,\n",
            "        -0.6544,  0.9638, -1.3900,  0.5960, -1.4636, -1.7578,  0.5225, -0.1395,\n",
            "         0.2282,  0.8903, -1.1693,  0.3754,  0.5225,  0.5960,  0.1547,  0.4489,\n",
            "        -0.3602,  0.6696,  0.2282, -1.3900, -1.6842,  0.6696, -0.8751,  1.4051,\n",
            "         0.6696, -0.9487,  0.9638, -0.9487,  0.1547,  0.8903, -0.5073, -1.3164,\n",
            "         0.8167, -0.8751,  0.3018,  1.4051, -1.2429,  0.6696, -1.2429,  0.8903,\n",
            "         0.0076, -0.5073,  0.4489,  0.7431, -0.8751,  0.9638, -1.6842,  0.8167,\n",
            "        -0.8016,  1.5523,  0.5225,  0.5225, -0.4338,  0.1547,  0.8167, -1.0958,\n",
            "         0.5960,  0.0076, -0.6544,  0.3754, -0.8016,  0.5225,  0.3754,  0.8903,\n",
            "         0.3018,  0.8167, -0.0660, -0.4338,  0.1547,  1.2580,  0.3754,  0.6696,\n",
            "        -1.6842,  1.1109, -0.8016,  1.4051, -1.5371,  0.5225, -0.5809,  0.0811,\n",
            "         0.9638,  0.3018, -1.4636,  0.8167, -0.6544,  1.2580, -1.6107,  0.8903,\n",
            "         0.7431, -1.7578,  0.9638, -1.3900,  1.1109,  0.7431,  0.3018, -0.8751,\n",
            "         1.3316,  0.5960, -0.8751,  0.7431, -1.5371,  1.0374, -0.8751,  1.1845,\n",
            "        -1.3164, -0.1395,  0.4489, -1.0958,  1.2580,  0.7431, -1.9049,  0.8167,\n",
            "        -1.1693,  1.4051, -1.9049,  0.8903, -1.0958,  1.3316, -1.8313,  0.8167,\n",
            "        -1.4636,  1.1109, -1.3164,  0.5960,  0.7431, -0.8016,  0.8167,  0.4489,\n",
            "         0.3754, -0.8751,  0.6696, -1.6107,  1.8465, -1.3164,  0.4489,  0.4489,\n",
            "        -0.4338,  0.7431,  0.0076, -0.0660,  0.7431,  1.6258, -1.3164,  1.3316,\n",
            "        -1.9049,  1.1109, -0.9487,  0.5225, -0.3602,  0.3754, -0.5809,  1.2580,\n",
            "        -1.3900,  1.6258, -1.6107, -1.0222,  0.4489, -0.2131,  0.7431,  0.7431,\n",
            "         0.1547, -1.5371,  1.0374,  0.2282, -1.1693,  0.4489,  0.8903,  0.8903,\n",
            "        -1.4636,  0.5225,  0.9638, -1.8313,  0.8903, -1.1693,  0.7431, -1.0222,\n",
            "         0.3754,  0.9638,  0.4489,  0.7431,  1.1845,  0.4489, -1.4636,  0.5225,\n",
            "        -0.8016,  0.8167,  1.4787, -1.3164,  0.5225, -1.8313,  0.4489,  0.9638,\n",
            "        -1.6107,  0.8903,  0.0076,  0.6696, -1.6107,  0.3018, -0.5073,  0.3754,\n",
            "        -1.3164,  1.6994, -1.1693,  0.3754, -1.5371,  0.8167, -1.2429,  0.3018,\n",
            "         0.5225,  0.5960,  0.5225,  0.5225, -0.0660,  0.5960, -0.0660, -1.2429,\n",
            "         1.1109, -1.5371,  1.4051, -1.2429, -1.2429,  0.4489,  0.5960, -0.5073,\n",
            "         0.3018, -1.7578,  1.1109, -0.5809,  1.0374,  0.8167, -1.0222,  0.8167,\n",
            "        -0.2867,  0.2282, -1.2429,  0.8903,  0.1547,  0.1547,  1.2580,  0.6696,\n",
            "         0.0076,  0.8903, -1.0958,  0.5960,  0.5225,  0.9638, -0.9487,  0.8903,\n",
            "        -2.0520, -0.8016,  0.3018,  0.7431, -1.8313,  1.4051, -1.8313,  0.2282])\n",
            "tensor([[ 0.5960],\n",
            "        [-1.2429],\n",
            "        [ 0.2282],\n",
            "        [-0.6544],\n",
            "        [ 1.0374],\n",
            "        [-1.1693],\n",
            "        [ 1.2580],\n",
            "        [ 1.0374],\n",
            "        [-1.4636],\n",
            "        [ 1.0374],\n",
            "        [-1.2429],\n",
            "        [ 0.9638],\n",
            "        [ 0.5225],\n",
            "        [-1.7578],\n",
            "        [ 0.8903],\n",
            "        [-1.3900],\n",
            "        [-0.6544],\n",
            "        [ 0.9638],\n",
            "        [-1.3900],\n",
            "        [ 0.5960],\n",
            "        [-1.4636],\n",
            "        [-1.7578],\n",
            "        [ 0.5225],\n",
            "        [-0.1395],\n",
            "        [ 0.2282],\n",
            "        [ 0.8903],\n",
            "        [-1.1693],\n",
            "        [ 0.3754],\n",
            "        [ 0.5225],\n",
            "        [ 0.5960],\n",
            "        [ 0.1547],\n",
            "        [ 0.4489],\n",
            "        [-0.3602],\n",
            "        [ 0.6696],\n",
            "        [ 0.2282],\n",
            "        [-1.3900],\n",
            "        [-1.6842],\n",
            "        [ 0.6696],\n",
            "        [-0.8751],\n",
            "        [ 1.4051],\n",
            "        [ 0.6696],\n",
            "        [-0.9487],\n",
            "        [ 0.9638],\n",
            "        [-0.9487],\n",
            "        [ 0.1547],\n",
            "        [ 0.8903],\n",
            "        [-0.5073],\n",
            "        [-1.3164],\n",
            "        [ 0.8167],\n",
            "        [-0.8751],\n",
            "        [ 0.3018],\n",
            "        [ 1.4051],\n",
            "        [-1.2429],\n",
            "        [ 0.6696],\n",
            "        [-1.2429],\n",
            "        [ 0.8903],\n",
            "        [ 0.0076],\n",
            "        [-0.5073],\n",
            "        [ 0.4489],\n",
            "        [ 0.7431],\n",
            "        [-0.8751],\n",
            "        [ 0.9638],\n",
            "        [-1.6842],\n",
            "        [ 0.8167],\n",
            "        [-0.8016],\n",
            "        [ 1.5523],\n",
            "        [ 0.5225],\n",
            "        [ 0.5225],\n",
            "        [-0.4338],\n",
            "        [ 0.1547],\n",
            "        [ 0.8167],\n",
            "        [-1.0958],\n",
            "        [ 0.5960],\n",
            "        [ 0.0076],\n",
            "        [-0.6544],\n",
            "        [ 0.3754],\n",
            "        [-0.8016],\n",
            "        [ 0.5225],\n",
            "        [ 0.3754],\n",
            "        [ 0.8903],\n",
            "        [ 0.3018],\n",
            "        [ 0.8167],\n",
            "        [-0.0660],\n",
            "        [-0.4338],\n",
            "        [ 0.1547],\n",
            "        [ 1.2580],\n",
            "        [ 0.3754],\n",
            "        [ 0.6696],\n",
            "        [-1.6842],\n",
            "        [ 1.1109],\n",
            "        [-0.8016],\n",
            "        [ 1.4051],\n",
            "        [-1.5371],\n",
            "        [ 0.5225],\n",
            "        [-0.5809],\n",
            "        [ 0.0811],\n",
            "        [ 0.9638],\n",
            "        [ 0.3018],\n",
            "        [-1.4636],\n",
            "        [ 0.8167],\n",
            "        [-0.6544],\n",
            "        [ 1.2580],\n",
            "        [-1.6107],\n",
            "        [ 0.8903],\n",
            "        [ 0.7431],\n",
            "        [-1.7578],\n",
            "        [ 0.9638],\n",
            "        [-1.3900],\n",
            "        [ 1.1109],\n",
            "        [ 0.7431],\n",
            "        [ 0.3018],\n",
            "        [-0.8751],\n",
            "        [ 1.3316],\n",
            "        [ 0.5960],\n",
            "        [-0.8751],\n",
            "        [ 0.7431],\n",
            "        [-1.5371],\n",
            "        [ 1.0374],\n",
            "        [-0.8751],\n",
            "        [ 1.1845],\n",
            "        [-1.3164],\n",
            "        [-0.1395],\n",
            "        [ 0.4489],\n",
            "        [-1.0958],\n",
            "        [ 1.2580],\n",
            "        [ 0.7431],\n",
            "        [-1.9049],\n",
            "        [ 0.8167],\n",
            "        [-1.1693],\n",
            "        [ 1.4051],\n",
            "        [-1.9049],\n",
            "        [ 0.8903],\n",
            "        [-1.0958],\n",
            "        [ 1.3316],\n",
            "        [-1.8313],\n",
            "        [ 0.8167],\n",
            "        [-1.4636],\n",
            "        [ 1.1109],\n",
            "        [-1.3164],\n",
            "        [ 0.5960],\n",
            "        [ 0.7431],\n",
            "        [-0.8016],\n",
            "        [ 0.8167],\n",
            "        [ 0.4489],\n",
            "        [ 0.3754],\n",
            "        [-0.8751],\n",
            "        [ 0.6696],\n",
            "        [-1.6107],\n",
            "        [ 1.8465],\n",
            "        [-1.3164],\n",
            "        [ 0.4489],\n",
            "        [ 0.4489],\n",
            "        [-0.4338],\n",
            "        [ 0.7431],\n",
            "        [ 0.0076],\n",
            "        [-0.0660],\n",
            "        [ 0.7431],\n",
            "        [ 1.6258],\n",
            "        [-1.3164],\n",
            "        [ 1.3316],\n",
            "        [-1.9049],\n",
            "        [ 1.1109],\n",
            "        [-0.9487],\n",
            "        [ 0.5225],\n",
            "        [-0.3602],\n",
            "        [ 0.3754],\n",
            "        [-0.5809],\n",
            "        [ 1.2580],\n",
            "        [-1.3900],\n",
            "        [ 1.6258],\n",
            "        [-1.6107],\n",
            "        [-1.0222],\n",
            "        [ 0.4489],\n",
            "        [-0.2131],\n",
            "        [ 0.7431],\n",
            "        [ 0.7431],\n",
            "        [ 0.1547],\n",
            "        [-1.5371],\n",
            "        [ 1.0374],\n",
            "        [ 0.2282],\n",
            "        [-1.1693],\n",
            "        [ 0.4489],\n",
            "        [ 0.8903],\n",
            "        [ 0.8903],\n",
            "        [-1.4636],\n",
            "        [ 0.5225],\n",
            "        [ 0.9638],\n",
            "        [-1.8313],\n",
            "        [ 0.8903],\n",
            "        [-1.1693],\n",
            "        [ 0.7431],\n",
            "        [-1.0222],\n",
            "        [ 0.3754],\n",
            "        [ 0.9638],\n",
            "        [ 0.4489],\n",
            "        [ 0.7431],\n",
            "        [ 1.1845],\n",
            "        [ 0.4489],\n",
            "        [-1.4636],\n",
            "        [ 0.5225],\n",
            "        [-0.8016],\n",
            "        [ 0.8167],\n",
            "        [ 1.4787],\n",
            "        [-1.3164],\n",
            "        [ 0.5225],\n",
            "        [-1.8313],\n",
            "        [ 0.4489],\n",
            "        [ 0.9638],\n",
            "        [-1.6107],\n",
            "        [ 0.8903],\n",
            "        [ 0.0076],\n",
            "        [ 0.6696],\n",
            "        [-1.6107],\n",
            "        [ 0.3018],\n",
            "        [-0.5073],\n",
            "        [ 0.3754],\n",
            "        [-1.3164],\n",
            "        [ 1.6994],\n",
            "        [-1.1693],\n",
            "        [ 0.3754],\n",
            "        [-1.5371],\n",
            "        [ 0.8167],\n",
            "        [-1.2429],\n",
            "        [ 0.3018],\n",
            "        [ 0.5225],\n",
            "        [ 0.5960],\n",
            "        [ 0.5225],\n",
            "        [ 0.5225],\n",
            "        [-0.0660],\n",
            "        [ 0.5960],\n",
            "        [-0.0660],\n",
            "        [-1.2429],\n",
            "        [ 1.1109],\n",
            "        [-1.5371],\n",
            "        [ 1.4051],\n",
            "        [-1.2429],\n",
            "        [-1.2429],\n",
            "        [ 0.4489],\n",
            "        [ 0.5960],\n",
            "        [-0.5073],\n",
            "        [ 0.3018],\n",
            "        [-1.7578],\n",
            "        [ 1.1109],\n",
            "        [-0.5809],\n",
            "        [ 1.0374],\n",
            "        [ 0.8167],\n",
            "        [-1.0222],\n",
            "        [ 0.8167],\n",
            "        [-0.2867],\n",
            "        [ 0.2282],\n",
            "        [-1.2429],\n",
            "        [ 0.8903],\n",
            "        [ 0.1547],\n",
            "        [ 0.1547],\n",
            "        [ 1.2580],\n",
            "        [ 0.6696],\n",
            "        [ 0.0076],\n",
            "        [ 0.8903],\n",
            "        [-1.0958],\n",
            "        [ 0.5960],\n",
            "        [ 0.5225],\n",
            "        [ 0.9638],\n",
            "        [-0.9487],\n",
            "        [ 0.8903],\n",
            "        [-2.0520],\n",
            "        [-0.8016],\n",
            "        [ 0.3018],\n",
            "        [ 0.7431],\n",
            "        [-1.8313],\n",
            "        [ 1.4051],\n",
            "        [-1.8313],\n",
            "        [ 0.2282]])\n"
          ]
        }
      ],
      "source": [
        "print(x)\n",
        "print(xx)"
      ]
    },
    {
      "cell_type": "markdown",
      "id": "SyteRSBEPzxr",
      "metadata": {
        "id": "SyteRSBEPzxr"
      },
      "source": [
        "## Criando o Dataset\n",
        "\n",
        "Um conceito importante no PyTorch está relacionado à organização e eficiência no treinamento de modelos: o uso de `DataLoader` e `TensorDataset` para facilitar o gerenciamento de dados.\n",
        "\n",
        "O `TensorDataset` é uma maneira de agrupar os dados de entrada e os rótulos (nesse caso, `x` e `y`) em um único conjunto de dados, onde cada par de entrada e rótulo está alinhado. Isso garante que, durante o treinamento, o modelo receba consistentemente os dados corretos correspondentes aos rótulos adequados.\n",
        "\n",
        "O `DataLoader` é responsável por dividir esse conjunto de dados em pequenos lotes (ou \"mini-batches\") para serem usados no processo de treinamento. Essa abordagem de dividir os dados em lotes melhora a eficiência computacional, especialmente ao treinar com grandes volumes de dados. Além disso, o parâmetro `shuffle=True` garante que os dados sejam embaralhados antes de serem alimentados no modelo, ajudando a evitar que o modelo aprenda padrões indesejados que podem surgir de uma ordem fixa dos dados.\n",
        "\n",
        "Esses dois elementos, juntos, garantem que o processo de treinamento seja realizado de maneira eficiente e estruturada, com dados divididos em blocos menores e apresentados de forma aleatória ao modelo.\n"
      ]
    },
    {
      "cell_type": "code",
      "execution_count": 77,
      "id": "MZQs51-eLn5U",
      "metadata": {
        "id": "MZQs51-eLn5U"
      },
      "outputs": [],
      "source": [
        "# Usando o DataLoader para carregar os dados\n",
        "dataset = TensorDataset(xx, yy)\n",
        "dataloader = DataLoader(dataset, batch_size=16, shuffle=True)"
      ]
    },
    {
      "cell_type": "markdown",
      "id": "N2aWQhopQQUO",
      "metadata": {
        "id": "N2aWQhopQQUO"
      },
      "source": [
        "## Criando Modelo\n",
        "\n",
        "Criaremos agora um modelo de regressão cúbica utilizando a estrutura modular do PyTorch.\n",
        "\n",
        "A classe `CubicModel` herda da classe base `nn.Module`, que é a classe central no PyTorch para todos os modelos. Esse padrão é essencial para organizar a arquitetura de um modelo e automatizar o processo de treinamento e ajuste dos parâmetros.\n",
        "\n",
        "Dentro da classe, no método `__init__()`, os coeficientes `a`, `b`, `c`, e `d` são definidos como parâmetros treináveis usando `nn.Parameter`. Esses parâmetros são iniciados com valores aleatórios e serão ajustados automaticamente durante o processo de treinamento. O uso de `nn.Parameter` sinaliza ao PyTorch que esses valores devem ser considerados na otimização.\n",
        "\n",
        "O método `forward()` define a operação que o modelo realiza em seus dados de entrada. Nesse caso, trata-se de uma regressão cúbica da forma $ax^3 + bx^2 + cx + d$, onde $x$ é a entrada e os coeficientes $a$, $b$, $c$, e $d$ são ajustados para minimizar o erro durante o treinamento.\n",
        "\n",
        "Em resumo, o `CubicModel` é um exemplo de como o PyTorch estrutura o código para criar e treinar modelos de aprendizado de máquina. Ele encapsula a funcionalidade principal, permitindo que os parâmetros sejam ajustados automaticamente durante o treinamento para se adequarem melhor aos dados de entrada.\n"
      ]
    },
    {
      "cell_type": "code",
      "execution_count": 78,
      "id": "isj6kNWhL5Q3",
      "metadata": {
        "id": "isj6kNWhL5Q3"
      },
      "outputs": [],
      "source": [
        "# Definindo o modelo de regressão cúbica\n",
        "class CubicModel(nn.Module):\n",
        "    def __init__(self):\n",
        "        super(CubicModel, self).__init__()\n",
        "        # Definindo os parâmetros a, b, c, d como parâmetros treináveis\n",
        "        self.a = nn.Parameter(torch.rand(1))\n",
        "        self.b = nn.Parameter(torch.rand(1))\n",
        "        self.c = nn.Parameter(torch.rand(1))\n",
        "        self.d = nn.Parameter(torch.rand(1))\n",
        "\n",
        "    def forward(self, x):\n",
        "        # Regressão cúbica: ax^3 + bx^2 + cx + d\n",
        "        return self.a * x**3 + self.b * x**2 + self.c * x + self.d"
      ]
    },
    {
      "cell_type": "code",
      "execution_count": 79,
      "id": "Mi4LH8-hL7rB",
      "metadata": {
        "id": "Mi4LH8-hL7rB"
      },
      "outputs": [],
      "source": [
        "# Instanciando o modelo\n",
        "model = CubicModel()"
      ]
    },
    {
      "cell_type": "markdown",
      "id": "H6WVeDPYRCvM",
      "metadata": {
        "id": "H6WVeDPYRCvM"
      },
      "source": [
        "## Definindo Custo e Otimização\n",
        "\n",
        "Para treinar o modelo, podemos usar duas estruturas comuns no PyTorch: uma função de custo e um otimizador.\n",
        "\n",
        "1. **Função de Custo (MSELoss)**:\n",
        "   - No caso da regressão, estamos usando o **Erro Quadrático Médio (Mean Squared Error, MSE)**, implementado como `nn.MSELoss()` no PyTorch.\n",
        "\n",
        "2. **Otimizador Adam**:\n",
        "   - O otimizador é responsável por ajustar os parâmetros treináveis do modelo (a, b, c, d) para minimizar a função de custo.\n",
        "   - Aqui, usamos o otimizador **Adam** (Adaptive Moment Estimation), que é um dos otimizadores mais eficientes e amplamente utilizados em aprendizado de máquina. Ele combina as vantagens dos otimizadores SGD (Stochastic Gradient Descent) e RMSProp.\n",
        "   - `optimizer = optim.Adam(model.parameters(), lr=0.001)` indica que estamos usando Adam para atualizar os parâmetros do modelo, com uma taxa de aprendizado (*learning rate*) de 0.001.\n",
        "\n",
        "A função de custo e o otimizador trabalham juntos para atualizar os pesos do modelo durante o processo de treinamento. O otimizador Adam ajusta os parâmetros do modelo de maneira eficiente, enquanto a função de custo orienta o otimizador a melhorar o desempenho do modelo.\n"
      ]
    },
    {
      "cell_type": "code",
      "execution_count": 80,
      "id": "atKSXVFtL8QR",
      "metadata": {
        "id": "atKSXVFtL8QR"
      },
      "outputs": [],
      "source": [
        "# Definindo a função de custo (MSELoss) e o otimizador Adam\n",
        "criterion = nn.MSELoss()\n",
        "optimizer = optim.Adam(model.parameters(), lr=0.001)"
      ]
    },
    {
      "cell_type": "markdown",
      "id": "O8bf8ouIRujW",
      "metadata": {
        "id": "O8bf8ouIRujW"
      },
      "source": [
        "## Modularizando o Treinamento\n",
        "\n",
        "O código a seguir define a função de treinamento do modelo e a executa por um número determinado de épocas:\n",
        "\n",
        "1. **Função `train_model(epochs)`**:\n",
        "   - O método `model.train()` coloca o modelo em modo de treinamento, o que ativa algumas funcionalidades internas importantes, como o ajuste dos parâmetros.\n",
        "   - O loop principal percorre o número de épocas definido pelo parâmetro `epochs`. A cada época, o erro acumulado (*running_loss*) é calculado para monitorar o desempenho do modelo.\n",
        "   - Dentro de cada época, iteramos sobre os batches de dados fornecidos pelo `dataloader`. Isso permite que os dados sejam processados em pequenos blocos, o que melhora a eficiência do treinamento e o uso da memória.\n",
        "   - Para cada batch:\n",
        "     - O otimizador é resetado com `optimizer.zero_grad()`, garantindo que os gradientes não se acumulem de uma iteração para outra.\n",
        "     - O modelo realiza a previsão (*forward pass*) para os dados de entrada usando `y_pred = model(x_batch)`.\n",
        "     - O erro é calculado usando a função de custo definida anteriormente. Aqui, usamos a função `criterion(y_pred, y_batch)`, que compara os valores previstos com os valores reais.\n",
        "     - Em seguida, fazemos o cálculo do gradiente via *backpropagation* com o comando `loss.backward()`.\n",
        "     - Finalmente, o otimizador atualiza os parâmetros do modelo com `optimizer.step()`, aplicando os gradientes calculados.\n",
        "   - A cada 100 épocas, imprimimos o erro médio para monitorar o progresso.\n",
        "\n",
        "2. **Execução do Treinamento**:\n",
        "   - O modelo será treinado por 1.000 épocas com o comando `train_model(1000)`.\n"
      ]
    },
    {
      "cell_type": "code",
      "execution_count": 81,
      "id": "5P5oCLE_L-Uw",
      "metadata": {
        "colab": {
          "base_uri": "https://localhost:8080/"
        },
        "id": "5P5oCLE_L-Uw",
        "outputId": "b3e872be-2548-4101-cf39-47df4994e16c"
      },
      "outputs": [
        {
          "name": "stdout",
          "output_type": "stream",
          "text": [
            "Epoch 1/1000, Loss: 8.5660\n",
            "Epoch 101/1000, Loss: 2.3140\n",
            "Epoch 201/1000, Loss: 0.8544\n",
            "Epoch 301/1000, Loss: 0.2713\n",
            "Epoch 401/1000, Loss: 0.1794\n",
            "Epoch 501/1000, Loss: 0.1772\n",
            "Epoch 601/1000, Loss: 0.1770\n",
            "Epoch 701/1000, Loss: 0.1771\n",
            "Epoch 801/1000, Loss: 0.1771\n",
            "Epoch 901/1000, Loss: 0.1772\n"
          ]
        }
      ],
      "source": [
        "def train_model(epochs):\n",
        "    model.train()  # Entrando no modo de treino\n",
        "    for epoch in range(epochs):\n",
        "        running_loss = 0.0\n",
        "\n",
        "        # Iterando sobre os batches de dados\n",
        "        for x_batch, y_batch in dataloader:\n",
        "            # Resetando os gradientes\n",
        "            optimizer.zero_grad()\n",
        "\n",
        "            # Forward pass\n",
        "            y_pred = model(x_batch)\n",
        "\n",
        "            # Calculando o erro\n",
        "            loss = criterion(y_pred, y_batch)\n",
        "\n",
        "            # Backward pass (backpropagation)\n",
        "            loss.backward()\n",
        "\n",
        "            # Atualizando os parâmetros\n",
        "            optimizer.step()\n",
        "\n",
        "            running_loss += loss.item()\n",
        "\n",
        "        if epoch % 100 == 0:\n",
        "            print(f\"Epoch {epoch+1}/{epochs}, Loss: {running_loss/len(dataloader):.4f}\")\n",
        "\n",
        "# Treinando o modelo por 10000 épocas\n",
        "train_model(1000)"
      ]
    },
    {
      "cell_type": "code",
      "execution_count": 82,
      "id": "uRFa4sYwMHsC",
      "metadata": {
        "colab": {
          "base_uri": "https://localhost:8080/",
          "height": 504
        },
        "id": "uRFa4sYwMHsC",
        "outputId": "ba8fa4ed-c0f5-4a2a-8fa5-771875178184"
      },
      "outputs": [
        {
          "name": "stderr",
          "output_type": "stream",
          "text": [
            "<ipython-input-82-8d0a127ed72a>:7: UserWarning: To copy construct from a tensor, it is recommended to use sourceTensor.clone().detach() or sourceTensor.clone().detach().requires_grad_(True), rather than torch.tensor(sourceTensor).\n",
            "  x_normalized_tensor = torch.tensor(x_normalized, dtype=torch.float32)\n"
          ]
        },
        {
          "data": {
            "image/png": "[encoded data removed]",
            "text/plain": [
              "<Figure size 640x480 with 1 Axes>"
            ]
          },
          "metadata": {},
          "output_type": "display_data"
        }
      ],
      "source": [
        "# Plotando os resultados\n",
        "model.eval()  # Modo de avaliação\n",
        "with torch.no_grad():\n",
        "    # Gerando os dados para o gráfico\n",
        "    x_vals = torch.linspace(faithful['waiting'].min(), faithful['waiting'].max(), 100).reshape(-1, 1)\n",
        "    x_normalized = (x_vals - x_mean)/x_std  # Normalizando os dados\n",
        "    x_normalized_tensor = torch.tensor(x_normalized, dtype=torch.float32)\n",
        "\n",
        "    # Fazendo previsões\n",
        "    y_vals = model(x_normalized_tensor)\n",
        "\n",
        "    # Plotando os pontos reais e a curva ajustada\n",
        "    plt.scatter(faithful['waiting'], faithful['eruptions'], label=\"Dados reais\")\n",
        "    plt.plot(x_vals.tolist(), y_vals.tolist(), color='red', label=\"Curva ajustada\")\n",
        "    plt.xlabel('Waiting time to next eruption (min)')\n",
        "    plt.ylabel('Duration of eruption (min)')\n",
        "    plt.legend()\n",
        "    plt.show()"
      ]
    },
    {
      "cell_type": "markdown",
      "id": "1ba64501",
      "metadata": {
        "id": "1ba64501"
      },
      "source": [
        "## Recaptulando\n",
        "\n",
        "Na aula de hoje, aprendemos a usar o PyTorch, interpretando as suas funcionalidades em duas vertentes:\n",
        "\n",
        "1. Possui uma estrutura de dados chamada Tensor, que permite realizar cálculos numéricos de maneira eficiente.\n",
        "2. Possui uma forma de computar os gradientes da função de curso em função das variáveis que configuraram **requires_grad** como **True**.\n",
        "\n",
        "Além dessas funcionalidades, o PyTorch possui várias funções, como a MSELoss e a BCELoss, que tornam a implementação dos algoritmos de aprendizado mais fáceis."
      ]
    }
  ],
  "metadata": {
    "colab": {
      "provenance": []
    },
    "kernelspec": {
      "display_name": "torch",
      "language": "python",
      "name": "python3"
    },
    "language_info": {
      "codemirror_mode": {
        "name": "ipython",
        "version": 3
      },
      "file_extension": ".py",
      "mimetype": "text/x-python",
      "name": "python",
      "nbconvert_exporter": "python",
      "pygments_lexer": "ipython3",
      "version": "3.9.19"
    }
  },
  "nbformat": 4,
  "nbformat_minor": 5
}
