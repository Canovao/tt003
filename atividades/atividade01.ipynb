{
 "cells": [
  {
   "cell_type": "markdown",
   "id": "e1d38d39",
   "metadata": {},
   "source": [
    "**Universidade Estadual de Campinas - Unicamp**\n",
    "\n",
    "**Faculdade de Tecnologia - FT**\n",
    "\n",
    "**Autor:** Ulisses Martins Dias\n",
    "\n",
    "**Disciplina:** TT003 - Tópicos em Computação e Informática III\n",
    "\n",
    "**Atividade 02:** Função Sigmóide\n",
    "\n",
    "[![Open In Colab](https://colab.research.google.com/assets/colab-badge.svg)](https://colab.research.google.com/github/ulissesdias/tt003/blob/main/atividades/atividade01.ipynb)\n",
    "\n",
    "## Função do Segundo Grau\n",
    "\n",
    "Vamos agora realizar um experimento nos mesmos dados que usamos anteriormente. O objetivo será plotar uma curva do segundo grau, em outras palavras, uma curva do tipo $y = ax^2 + bx + c$. \n",
    "\n",
    "A dificuldade agora é que temos três parâmetros livres que precisamos descobrir: $a$, $b$ e $c$. Em outras palavras, no seu código, você precisará de três loops encadeados. Perceba que este nosso método de encontrar oráculos é proibitivo quando o número de parâmetros aumenta. Entretanto, veja se você consegue obter os melhores valores de $a$, $b$ e $c$.\n",
    "\n",
    "Primeiramente, vamos colocar no notebook as funções que você precisará"
   ]
  },
  {
   "cell_type": "code",
   "execution_count": 1,
   "id": "39f511c1",
   "metadata": {},
   "outputs": [
    {
     "data": {
      "text/html": [
       "<div>\n",
       "<style scoped>\n",
       "    .dataframe tbody tr th:only-of-type {\n",
       "        vertical-align: middle;\n",
       "    }\n",
       "\n",
       "    .dataframe tbody tr th {\n",
       "        vertical-align: top;\n",
       "    }\n",
       "\n",
       "    .dataframe thead th {\n",
       "        text-align: right;\n",
       "    }\n",
       "</style>\n",
       "<table border=\"1\" class=\"dataframe\">\n",
       "  <thead>\n",
       "    <tr style=\"text-align: right;\">\n",
       "      <th></th>\n",
       "      <th>eruptions</th>\n",
       "      <th>waiting</th>\n",
       "    </tr>\n",
       "  </thead>\n",
       "  <tbody>\n",
       "    <tr>\n",
       "      <th>1</th>\n",
       "      <td>3.600</td>\n",
       "      <td>79</td>\n",
       "    </tr>\n",
       "    <tr>\n",
       "      <th>2</th>\n",
       "      <td>1.800</td>\n",
       "      <td>54</td>\n",
       "    </tr>\n",
       "    <tr>\n",
       "      <th>3</th>\n",
       "      <td>3.333</td>\n",
       "      <td>74</td>\n",
       "    </tr>\n",
       "    <tr>\n",
       "      <th>4</th>\n",
       "      <td>2.283</td>\n",
       "      <td>62</td>\n",
       "    </tr>\n",
       "    <tr>\n",
       "      <th>5</th>\n",
       "      <td>4.533</td>\n",
       "      <td>85</td>\n",
       "    </tr>\n",
       "  </tbody>\n",
       "</table>\n",
       "</div>"
      ],
      "text/plain": [
       "   eruptions  waiting\n",
       "1      3.600       79\n",
       "2      1.800       54\n",
       "3      3.333       74\n",
       "4      2.283       62\n",
       "5      4.533       85"
      ]
     },
     "execution_count": 1,
     "metadata": {},
     "output_type": "execute_result"
    }
   ],
   "source": [
    "## Obtendo os dados\n",
    "import pandas as pd\n",
    "faithful = pd.read_csv(\"../notebooks/data/faithful.csv\", index_col = 0)\n",
    "faithful.head()"
   ]
  },
  {
   "cell_type": "code",
   "execution_count": 2,
   "id": "73ef55c0",
   "metadata": {},
   "outputs": [],
   "source": [
    "# Função que computa o erro do oráculo\n",
    "def erro_quadratico_acumulado(oraculo) :\n",
    "    # Obtendo as observações de erupção e espera \n",
    "    # do old faithful geyzer\n",
    "    pontos_y = faithful.eruptions.values\n",
    "    pontos_x = faithful.waiting.values\n",
    "    \n",
    "    # Vamos concatenar os quadrados das distâncias\n",
    "    # entre a espera real e a predita\n",
    "    erro = 0\n",
    "    for i in range(len(pontos_x)) :\n",
    "        # Usando o oráculo para obter a predição.\n",
    "        # Posteriormente, chamaremos isso de \n",
    "        # passo forward.\n",
    "        predicted = oraculo(pontos_x[i])\n",
    "        \n",
    "        # O erro é o quadrado da diferença entre\n",
    "        # o que foi predito e o que estava no \n",
    "        # banco de dados\n",
    "        erro += (predicted - pontos_y[i])**2\n",
    "    \n",
    "    return erro"
   ]
  },
  {
   "cell_type": "code",
   "execution_count": 3,
   "id": "cfa02dfb",
   "metadata": {},
   "outputs": [],
   "source": [
    "# Função que cria um gráfico do oráculo\n",
    "import matplotlib.pyplot as plt\n",
    "def plota_grafico(oraculo, with_error = False) :\n",
    "    ## Plotando os pontos do banco de dados\n",
    "    faithful.plot.scatter(x='waiting',\n",
    "                          y='eruptions')\n",
    "    \n",
    "    ## Criando um eixo X para plotar a reta\n",
    "    eixo_x = range(40,100,2)\n",
    "    eixo_y = []\n",
    "    \n",
    "    ## Gerando a resposta do oráculo\n",
    "    for x in eixo_x :\n",
    "        eixo_y.append(oraculo(x))\n",
    "        \n",
    "    ## Plotando a reta    \n",
    "    plt.plot(eixo_x, eixo_y, 'r--', label='Valores Obtidos')\n",
    "    \n",
    "    if (with_error) :\n",
    "    \n",
    "        ## Colocando barras verticais para evidenciar erros\n",
    "        ## do oráculo\n",
    "        pontos_y = faithful.eruptions.values\n",
    "        pontos_x = faithful.waiting.values\n",
    "        for i in range(len(pontos_x)) :\n",
    "            predicted = oraculo(pontos_x[i])\n",
    "            plt.plot(\n",
    "                (pontos_x[i], pontos_x[i]),\n",
    "                (predicted, pontos_y[i]),\n",
    "                '-', c = \"black\"\n",
    "            )"
   ]
  },
  {
   "cell_type": "markdown",
   "id": "468fcd6d",
   "metadata": {},
   "source": [
    "Agora começa o seu trabalho, você deverá criar uma função que indique o valor do erro para um grupo de $a$, $b$ e $c$. Esta função é muito semelhante ao que foi visto em sala de aula, mas agora para três parâmetros."
   ]
  },
  {
   "cell_type": "code",
   "execution_count": 4,
   "id": "c8a612aa",
   "metadata": {},
   "outputs": [],
   "source": [
    "def erro_quadratico_variando_a_b_c() :\n",
    "    # Listas a serem retornadas.\n",
    "    eixo_a = []\n",
    "    eixo_b = []\n",
    "    eixo_c = []\n",
    "    eixo_erro = []\n",
    "        \n",
    "    # ToDo: Configure os mínimos e máximos de\n",
    "    # a, b e c na sua busca\n",
    "    min_a = 0\n",
    "    max_a = 0\n",
    "    \n",
    "    min_b = 0\n",
    "    max_b = 0\n",
    "    \n",
    "    min_c = 0\n",
    "    max_c = 0\n",
    "    \n",
    "    ## ToDo: Configure o número de iterações. Note\n",
    "    ## que valores altos levará a um tempo de espera\n",
    "    ## muito longo, dado que faremos três laços aninhados.\n",
    "    iter_a = 5\n",
    "    iter_b = 5\n",
    "    iter_c = 5\n",
    "       \n",
    "    for i in range(iter_a) :\n",
    "        a = min_a + i * (max_a - min_a)/iter_a                \n",
    "        \n",
    "        for j in range(iter_b) :\n",
    "            b = min_b + j * (max_b - min_b)/iter_b\n",
    "            \n",
    "            for k in range(iter_c) :\n",
    "                c = min_c + k * (max_c - min_c)/iter_c\n",
    "               \n",
    "                eixo_a.append(a)\n",
    "                eixo_b.append(b)\n",
    "                eixo_c.append(c)\n",
    "            \n",
    "                ## ToDo: crie o oráculo com os valores de a, b e c.\n",
    "                oraculo = lambda x : x \n",
    "                                \n",
    "                eixo_erro.append(erro_quadratico_acumulado(oraculo))\n",
    "\n",
    "    return eixo_a, eixo_b, eixo_c, eixo_erro\n",
    "\n",
    "eixo_a, eixo_b, eixo_c, eixo_erro = erro_quadratico_variando_a_b_c()"
   ]
  },
  {
   "cell_type": "markdown",
   "id": "6fa76997",
   "metadata": {},
   "source": [
    "O próximo passo é econtrar os valores que minimizam o erro."
   ]
  },
  {
   "cell_type": "code",
   "execution_count": 5,
   "id": "560d903c",
   "metadata": {},
   "outputs": [
    {
     "name": "stdout",
     "output_type": "stream",
     "text": [
      "None None None None\n"
     ]
    }
   ],
   "source": [
    "erro_minimo = None ## Um valor alto\n",
    "a_minimo = None\n",
    "b_minimo = None\n",
    "c_minimo = None\n",
    "\n",
    "## ToDo: pesquise pelo vetor eixo_erro qual o erro mínimo e \n",
    "## coloque na variável erro_minimo.\n",
    "\n",
    "## ToDo: encontre os valores de a, b e c que geram o erro mímimo e\n",
    "## armazene nas variáveis a_minimo, b_minimo e c_minimo\n",
    "\n",
    "print(a_minimo, b_minimo, c_minimo, erro_minimo)"
   ]
  },
  {
   "cell_type": "markdown",
   "id": "878671c4",
   "metadata": {},
   "source": [
    "Agora plote a curva que você encontrou em um gráfico. Em outras palavras, crie o quinto oráculo com os valores encontrados por você."
   ]
  },
  {
   "cell_type": "code",
   "execution_count": 6,
   "id": "dffbc33c",
   "metadata": {},
   "outputs": [
    {
     "data": {
      "image/png": "[encoded data removed]",
      "text/plain": [
       "<Figure size 640x480 with 1 Axes>"
      ]
     },
     "metadata": {},
     "output_type": "display_data"
    }
   ],
   "source": [
    "## ToDo: retorne os menores valores de a, b e c\n",
    "def quinto_oraculo(x) :\n",
    "    return x\n",
    "\n",
    "plota_grafico(quinto_oraculo)"
   ]
  },
  {
   "cell_type": "code",
   "execution_count": null,
   "id": "481a0bf2",
   "metadata": {},
   "outputs": [],
   "source": []
  }
 ],
 "metadata": {
  "kernelspec": {
   "display_name": "Python 3.9 (pytorch)",
   "language": "python",
   "name": "pytorch"
  },
  "language_info": {
   "codemirror_mode": {
    "name": "ipython",
    "version": 3
   },
   "file_extension": ".py",
   "mimetype": "text/x-python",
   "name": "python",
   "nbconvert_exporter": "python",
   "pygments_lexer": "ipython3",
   "version": "3.9.16"
  }
 },
 "nbformat": 4,
 "nbformat_minor": 5
}
