{
 "cells": [
  {
   "cell_type": "markdown",
   "metadata": {
    "id": "NMicfPyYYRPa"
   },
   "source": [
    "**Universidade Estadual de Campinas - Unicamp**\n",
    "\n",
    "**Faculdade de Tecnologia - FT**\n",
    "\n",
    "**Autor:** Ulisses Martins Dias\n",
    "\n",
    "**Disciplina:** TT003 - Tópicos em Computação e Informática III\n",
    "\n",
    "**Aula 11:** Monte Carlo com Jogo da Velha\n",
    "\n",
    "[![Open In Colab](https://colab.research.google.com/assets/colab-badge.svg)](https://colab.research.google.com/github/ulissesdias/tt003/blob/main/notebooks/aula11_monte_carlo_com_jogo_da_velha.ipynb)"
   ]
  },
  {
   "cell_type": "markdown",
   "metadata": {
    "id": "TLP3rFVYq_Ac"
   },
   "source": [
    "# Monte Carlo com Jogo da Velha\n",
    "\n",
    "Vamos agora exemplificar o uso do algoritmo de Monte Carlo com um jogo bastante simples, um jogo da velha, e ver como ele se comporta e se converge rápida ou lentamente. Para tanto, precisamos definir o ambiente onde o jogador irá se movimentar. Vale lembrar que o que precisamos é:\n",
    "\n",
    "1. Um mecanismo que nos diga quais as jogadas possíveis a partir de um determinado estado.\n",
    "2. Um mecanismo que nos diga quando o jogo acabou.\n",
    "\n",
    "A seguir, vamos criar um conjunto de métodos que utilizamos para criar o jogo da velha. Note que não precisaremos fazer o mesmo para o jogo de xadrez, porque muito já foi implementado pela biblioteca chess, que aprendemos em semanas anteriores.\n",
    "\n",
    "As regras do jogo da velha dispensam grandes introduções. Entretanto, para manter o notebook auto-contido, vamos explicar algumas coisas óbvias.\n",
    "\n",
    "No jogo da velha, temos dois tipos de peças, a peça **\"x\"** e a peça **\"o\"**. Cada um dos dois jogadores é responsável por adicionar um tipo de peça. Vence quem formar uma sequência de três na horizontal, vertical ou diagonal. Vamos primeiramente pensar em como podemos representar um tabuleiro de jogo da velha:"
   ]
  },
  {
   "cell_type": "markdown",
   "metadata": {
    "id": "AtT4bHLQZWjE"
   },
   "source": [
    "## Jogadores\n",
    "\n",
    "O jogo da velha é jogado por dois jogadores. Seguiremos um padrão para nomear os jogadores:\n",
    "\n",
    "**O jogador que inicia a partida será chamado de \"1\", o outro jogador será chamado de \"-1\"**\n",
    "\n",
    "Como no jogo da velha as peças **x** começam, então o jogador que conduz as peças **x** será o jogador **1**, enquanto que o jogador que conduz as peças **o** será chamado de **-1**.\n"
   ]
  },
  {
   "cell_type": "markdown",
   "metadata": {
    "id": "-No1-KpGZrGk"
   },
   "source": [
    "## Tabuleiro\n",
    "\n",
    "A forma mais óbvia de representar o tabuleiro é por meio de uma tupla de nove elementos, onde cada elemento representa uma célula do tabuleiro. Outras formas poderiam ser pensadas, uma matriz ou uma string, por exemplo, mas vamos seguir com um tupla.\n",
    "\n",
    "Cada célula do tabuleiro pode:\n",
    "\n",
    "\n",
    "1.   Estar vazia\n",
    "2.   Conter **x**\n",
    "3.   Conter **o**\n",
    "\n",
    "Como são três estados possíveis, podemos representar uma célula vazia com o número zero, uma célula com **x** com o número **1** (dado que o jogador que conduz o **x** é chamado de jogador **1**), e uma célula com **o** com o número **-1** (dado que o jogador que conduz as bolas é chamado de **-1**). Dessa forma, a seguir temos um tabuleiro vazio:\n",
    "\n",
    "tabuleiro = (\n",
    "    \n",
    "             0, 0, 0,\n",
    "\n",
    "             0, 0, 0,\n",
    "             \n",
    "             0, 0, 0\n",
    "             \n",
    ")\n",
    "\n",
    "A seguir, temos um tabuleiro com um **x** no canto superior esquerdo.\n",
    "\n",
    "tabuleiro = (\n",
    "    \n",
    "             1, 0, 0,\n",
    "\n",
    "             0, 0, 0,\n",
    "             \n",
    "             0, 0, 0\n",
    "             \n",
    ")\n",
    "\n",
    "A seguir, temos um tabuleiro com um **x** no canto superior esquerdo e um **o** no centro.\n",
    "\n",
    "tabuleiro = (\n",
    "    \n",
    "             1, 0, 0,\n",
    "\n",
    "             0,-1, 0,\n",
    "             \n",
    "             0, 0, 0\n",
    "             \n",
    ")\n",
    "\n",
    "Em jogos com classes de peças, como o xadrez, seria interessante dar números diferentes para cada peça. Por exemplo: peão = 1, cavalo = 2, bispo = 3, torre = 4, rainha = 5, rei = 6. Feito isso, um peão branco seria representado como **1** e um peão preto seria representado como **-1**, um cavalo branco seria o **1** e um cavalo preto seria o **-1**.\n",
    "\n",
    "Vamos implementar um tabuleiro em nosso código:\n"
   ]
  },
  {
   "cell_type": "code",
   "execution_count": 72,
   "metadata": {
    "id": "dAIZFxoBZqI_"
   },
   "outputs": [],
   "source": [
    "## Tabuleiro vazio:\n",
    "tabuleiro = (0,0,0, 0,0,0, 0,0,0)"
   ]
  },
  {
   "cell_type": "markdown",
   "metadata": {
    "id": "VQ8T0pkuaP_k"
   },
   "source": [
    "Note que a implementação é bastante simples, passamos mais tempo explicando do que realmente programando."
   ]
  },
  {
   "cell_type": "markdown",
   "metadata": {
    "id": "-MFu-SrPrLQu"
   },
   "source": [
    "## Vencedor do Jogo\n",
    "\n",
    "Agora que definimos um tabuleiro, devemos codificar as regras que definem quem venceu a partida. Para vencer uma partida no jogo da velha, um jogador precisa preencher uma linha, uma coluna, ou uma diagonal. Podemos começar listando todas as combinações de índices que podem gerar uma vitória:\n",
    "\n",
    "\n",
    "**Linhas:**\n",
    "\n",
    "*   **0, 1, 2**\n",
    "*   **3, 4, 5**\n",
    "*   **6, 7, 8**\n",
    "\n",
    "**Colunas:**\n",
    "*   **0, 3, 6**\n",
    "*   **1, 4, 7**\n",
    "*   **2, 5, 8**\n",
    "\n",
    "**Diagonais:**\n",
    "*   **0, 4, 8**\n",
    "*   **2, 4, 6**\n",
    "\n",
    "São poucas as combinações de vitórias, então podemos muito bem criar uma função que verifica se alguma delas foi satisfeita. Como não é função desta aula ver em detalhes como as implementações do jogo da velha foram feitas. Precisamos apenas colocar todas elas em um lugar acessível. Veja a célula abaixo para entender qual biblioteca usaremos."
   ]
  },
  {
   "cell_type": "code",
   "execution_count": 73,
   "metadata": {
    "colab": {
     "base_uri": "https://localhost:8080/"
    },
    "id": "X16z0CA607kY",
    "outputId": "422139e4-3032-43f7-f790-a112f7518b94"
   },
   "outputs": [],
   "source": [
    "\n",
    "## Importando a biblioteca\n",
    "import tic_tac_toe as ttt"
   ]
  },
  {
   "cell_type": "markdown",
   "metadata": {
    "id": "_8YeDnnhHO5u"
   },
   "source": [
    "Note que a biblioteca que está no link acima pode ser analisada manualmente por você."
   ]
  },
  {
   "cell_type": "code",
   "execution_count": 74,
   "metadata": {
    "colab": {
     "base_uri": "https://localhost:8080/"
    },
    "id": "G6ktJl91qlP3",
    "outputId": "52c145ae-6bf6-4049-fec4-52c2e2b3725b"
   },
   "outputs": [
    {
     "data": {
      "text/plain": [
       "-1"
      ]
     },
     "execution_count": 74,
     "metadata": {},
     "output_type": "execute_result"
    }
   ],
   "source": [
    "tab = [1,1,-1, 1,-1,0, -1,1,-1]\n",
    "ttt.winner(tab)"
   ]
  },
  {
   "cell_type": "markdown",
   "metadata": {
    "id": "ZxJvUPEPrO-m"
   },
   "source": [
    "## Movimentos Válidos\n",
    "\n",
    "Agora que temos uma definição do tabuleiro e uma definição das condições de vitória, precisamos definir as jogadas válidas na partida. No jogo da velha, um jogador pode inserir uma peça em qualquer célula não preenchida. Nesse caso, podemos representar uma jogada válida como o índice de uma célula não preenchida. Por exemplo, a função **ttt.get_valid_moves** retorna os movimentos válidos a partir de um tabuleiro. No tabuleiro mostrado abaixo, apenas a célula 5 está vazia, então esta célula é o único movimento válido."
   ]
  },
  {
   "cell_type": "code",
   "execution_count": 75,
   "metadata": {
    "colab": {
     "base_uri": "https://localhost:8080/"
    },
    "id": "KHmQNxOqq9gw",
    "outputId": "ddf9bc84-fa7a-4e4d-a4c2-18c0dd40d909"
   },
   "outputs": [
    {
     "data": {
      "text/plain": [
       "[5]"
      ]
     },
     "execution_count": 75,
     "metadata": {},
     "output_type": "execute_result"
    }
   ],
   "source": [
    "tab = [1,1,-1, 1,-1,0, -1,1,-1]\n",
    "ttt.get_valid_moves(tab)"
   ]
  },
  {
   "cell_type": "markdown",
   "metadata": {
    "id": "Hi05t3NqDpd0"
   },
   "source": [
    "## Gerando Jogadas ao Acaso\n",
    "\n",
    "Supondo que queremos criar um **bot** para jogar jogo da velha, o que ele precisa saber? Obviamente ele precisa saber quais são as jogadas válidas e qual peças ele está conduzindo. Basta isso para criarmos um jogador sem nenhum tipo de inteligência, que escolha ao acaso uma jogada dentre todas as disponíveis.\n",
    "\n",
    "Se quisermos que o jogador tenha algum tipo de inteligência, provavelmente ele precisará de uma função que possibilite a pontuação dos tabuleiros. Essa função receberá um determinado tabuleiro e dará uma nota para o tabuleiro, uma espécie de **score**, quanto maior o **score** do tabuleiro, melhor ele é segundo a função de pontuação.\n",
    "\n",
    "A seguir, vamos tentar uma primeira implementação e depois podemos reformular o nosso jogador para que tenha algum tipo de inteligência."
   ]
  },
  {
   "cell_type": "code",
   "execution_count": 76,
   "metadata": {
    "colab": {
     "base_uri": "https://localhost:8080/"
    },
    "id": "JzHQdIfgDxno",
    "outputId": "3bc95fb6-935e-44ad-851b-8f93583d08c4"
   },
   "outputs": [
    {
     "data": {
      "text/plain": [
       "(-1, 7)"
      ]
     },
     "execution_count": 76,
     "metadata": {},
     "output_type": "execute_result"
    }
   ],
   "source": [
    "tabuleiro = (1, -1, -1,  1, -1, 1,  1, 0, 0)\n",
    "\n",
    "## O jogador retornará a peça que irá colocar no\n",
    "## tabuleiro, seguida da posição no tabuleiro onde\n",
    "## deverá colocar a peça.\n",
    "ttt.random_player(tabuleiro, -1)"
   ]
  },
  {
   "cell_type": "markdown",
   "metadata": {
    "id": "wAXcFVrdrosu"
   },
   "source": [
    "## Gerando Episódios\n",
    "\n",
    "Temos um tabuleiro e um jogador que pode conduzir qualquer uma das peças. O que devemos fazer agora é criar um gerenciador de jogo para que uma partida possa ser iniciada e conduzida. Cada partida será chamada de episódio. O gerenciador de um jogo gerará um episódio. Ele deverá:\n",
    "\n",
    "1.   Garantir que pedirá para o jogador certo jogar (alternância entre jogadores **x** e **o**).\n",
    "2.   Gerenciar o tabuleiro de modo a fazer com que as jogadas sejam concretizadas.\n",
    "3.   Verificar se as condições de vitória, derrota ou empates já foram satisfeitas.\n",
    "4.   Armazenar um histórico de jogadas, para que os jogadores posteriormente possam analisar o que fizeram. Esse histórico de jogadas será o episódio propriamente dito e com ele deveremos ser capazes de ver, de alguma forma, todas as ações realizadas.\n",
    "\n",
    "Vamos ver uma função que faz tudo isso."
   ]
  },
  {
   "cell_type": "code",
   "execution_count": 77,
   "metadata": {
    "id": "MOuR6qZ6cgYO"
   },
   "outputs": [],
   "source": [
    "### Selecionando jogadores:\n",
    "player = ttt.random_player"
   ]
  },
  {
   "cell_type": "code",
   "execution_count": 78,
   "metadata": {
    "colab": {
     "base_uri": "https://localhost:8080/"
    },
    "id": "cir_PCTP3Nko",
    "outputId": "34c0c26f-5355-4812-da3f-6bc608e41a5d"
   },
   "outputs": [
    {
     "name": "stdout",
     "output_type": "stream",
     "text": [
      "1\n",
      "[(0, 0, 0, 0, 1, 0, 0, 0, 0), (0, 0, 0, 0, 1, 0, 0, -1, 0), (0, 0, 0, 0, 1, 0, 0, -1, 1), (-1, 0, 0, 0, 1, 0, 0, -1, 1), (-1, 1, 0, 0, 1, 0, 0, -1, 1), (-1, 1, 0, 0, 1, 0, -1, -1, 1), (-1, 1, 0, 1, 1, 0, -1, -1, 1), (-1, 1, -1, 1, 1, 0, -1, -1, 1), (-1, 1, -1, 1, 1, 1, -1, -1, 1)]\n"
     ]
    }
   ],
   "source": [
    "## Iniciando uma partida\n",
    "result, history = ttt.game(player, player)\n",
    "print(result)\n",
    "print(history)"
   ]
  },
  {
   "cell_type": "markdown",
   "metadata": {
    "id": "mBuqF0OacmQ3"
   },
   "source": [
    "Note que o seu primeiro passo ao implementar uma agente para qualquer jogo, ou qualquer ambiente, é conseguir gerar o que fizemos até aqui: **criar um mecanismo para gerar episódios ao acaso**. No caso específico de jogos é que um episódio pode ser visto como o resultado de uma partida."
   ]
  },
  {
   "cell_type": "markdown",
   "metadata": {
    "id": "wFmi5QL1c9Sy"
   },
   "source": [
    "# Interface Gráfica\n",
    "\n",
    "Criamos uma representação para o jogo da velha. Se é uma boa implementação ou não é um tema sujeito a discussões, o que importa é que criamos. O nosso jogo ficaria mais divertido se pudéssemos criar uma interface gráfica para visualizar o que foi jogado pelos nossos bots e por nós mesmos. Isso permitirá verificar se o nosso jogador é bom ou não. Além disso, poderemos depurar por eventuais erros difíceis de ver no estado atual baseado em textos.\n",
    "\n",
    "Note que você não precisa entender esta interface gráfica. Ela está aqui apenas para você ver os códigos. A única coisa que você precisa conhecer são as seguintes funções:\n",
    "\n",
    "**draw_board(tab):** desenha um tabuleiro no console.\n",
    "\n",
    "**generate_image_history(history):** dado um episódio, aqui chamado de histórico de jogadas, geraremos uma sequência de imagens, que são todos os tabuleiros vistos no episódio.\n",
    "\n",
    "**display_sequence(images):** dadas as imagens geradas com a função acima. Apresente a sequência no console.\n"
   ]
  },
  {
   "cell_type": "markdown",
   "metadata": {
    "id": "td7p4PoOqSAV"
   },
   "source": [
    "## Desenhando Tabuleiro\n",
    "\n",
    "Vamos simplesmente empacotar tudo o que aprendemos até agora em uma função que recebe um tabuleiro e devolve uma representação gráfica do mesmo. Nada do que tem na função a seguir deve ser desconhecido para você."
   ]
  },
  {
   "cell_type": "code",
   "execution_count": 79,
   "metadata": {
    "colab": {
     "base_uri": "https://localhost:8080/",
     "height": 167
    },
    "id": "uopZJ3tVq9SC",
    "outputId": "239285c4-ff53-43cc-b139-86a500995151"
   },
   "outputs": [
    {
     "data": {
      "image/png": "[encoded data removed]",
      "text/plain": [
       "<PIL.Image.Image image mode=RGB size=150x150>"
      ]
     },
     "metadata": {},
     "output_type": "display_data"
    }
   ],
   "source": [
    "tabuleiro = (1, -1, -1,  1, -1, 1,  1, 0, 0)\n",
    "board = ttt.draw_board(tabuleiro)\n",
    "display(board)"
   ]
  },
  {
   "cell_type": "markdown",
   "metadata": {
    "id": "O-G48F86rYWR"
   },
   "source": [
    "## Partida Completa\n",
    "\n",
    "Agora que temos uma maneira de desenhar um tabuleiro, vamos mostrar uma partida completa como uma sequência de tabuleiros. Para tanto, é interessante que o usuário possa ver a partida em sequência, olhar um tabuleiro específico, avançar ou recuar na análise, ...\n",
    "\n",
    "A função abaixo faz tudo isso, ela considera todas as imagens como frames de uma widget interativa, o usuário pode navegar para qualquer frame facilmente."
   ]
  },
  {
   "cell_type": "code",
   "execution_count": 80,
   "metadata": {
    "id": "9Gd0WKtYrz6n"
   },
   "outputs": [],
   "source": [
    "history = [\n",
    "    (1, 0, 0, 0, 0, 0, 0, 0, 0),\n",
    "    (1, -1, 0, 0, 0, 0, 0, 0, 0),\n",
    "    (1, -1, 0, 0, 1, 0, 0, 0, 0),\n",
    "    (1, -1, 0, 0, 1, 0, -1, 0, 0),\n",
    "    (1, -1, 0, 1, 1, 0, -1, 0, 0),\n",
    "    (1, -1, 0, 1, 1, 0, -1, 0, -1),\n",
    "    (1, -1, 1, 1, 1, 0, -1, 0, -1),\n",
    "    (1, -1, 1, 1, 1, 0, -1, -1, -1)\n",
    "    ]\n",
    "\n",
    "images = ttt.generate_image_history(history)"
   ]
  },
  {
   "cell_type": "code",
   "execution_count": 81,
   "metadata": {
    "colab": {
     "base_uri": "https://localhost:8080/",
     "height": 167
    },
    "id": "uAkMSGId3z9s",
    "outputId": "61907385-7fff-4005-d1b1-f72245f13b4a"
   },
   "outputs": [
    {
     "data": {
      "image/png": "[encoded data removed]",
      "text/plain": [
       "<PIL.Image.Image image mode=RGB size=150x150>"
      ]
     },
     "metadata": {},
     "output_type": "display_data"
    }
   ],
   "source": [
    "display(images[3])"
   ]
  },
  {
   "cell_type": "markdown",
   "metadata": {
    "id": "-Z0WbnGIsUBO"
   },
   "source": [
    "Para usar a função **display_sequence**, precisamos de uma sequência de objetos **Image**, podemos obter essa sequência invocando várias vezes o método **draw_board**. Nesse caso, para fazer essa sequência de invocações, precisamos de um histórico, que pode ser obtido facilmente a partir de qualquer jogo obtido mediante a invocação da função **game**."
   ]
  },
  {
   "cell_type": "markdown",
   "metadata": {
    "id": "1Zl6610csts0"
   },
   "source": [
    "De posse desse histórico, podemos criar a função a seguir que percorre os tabuleiros e gera as imagens."
   ]
  },
  {
   "cell_type": "code",
   "execution_count": 82,
   "metadata": {
    "colab": {
     "base_uri": "https://localhost:8080/",
     "height": 216,
     "referenced_widgets": [
      "ec577471fa2749a68875810b09a7aa6f",
      "eb38dbf437334983b48d9b3b90c45cf7",
      "79e40d6a16ff4b5688b504dea491760e",
      "f38f90cf238441059140a6b58f303ee4",
      "aa19d2ff438941aa9a44eb106d3f1886",
      "7a3e15f9663347cca6f40324477a9d73",
      "dd399764f76a476ba3e350721d784eae"
     ]
    },
    "id": "vzdvseNAsyxc",
    "outputId": "943aaef5-6eb4-4a09-b158-856f5b0c1ead"
   },
   "outputs": [
    {
     "data": {
      "application/vnd.jupyter.widget-view+json": {
       "model_id": "61312a628a4745ddb14cd63f130a68be",
       "version_major": 2,
       "version_minor": 0
      },
      "text/plain": [
       "interactive(children=(IntSlider(value=3, description='frame', max=7), Output()), _dom_classes=('widget-interac…"
      ]
     },
     "metadata": {},
     "output_type": "display_data"
    },
    {
     "data": {
      "text/plain": [
       "<function tic_tac_toe.display_sequence.<locals>._show(frame=(0, 7))>"
      ]
     },
     "execution_count": 82,
     "metadata": {},
     "output_type": "execute_result"
    }
   ],
   "source": [
    "ttt.display_sequence(images)"
   ]
  },
  {
   "cell_type": "markdown",
   "metadata": {
    "id": "9_ID9NMxqH_W"
   },
   "source": [
    "## Exemplo\n",
    "\n",
    "Vamos agora dar um exemplo daquilo que você precisa saber:"
   ]
  },
  {
   "cell_type": "code",
   "execution_count": 83,
   "metadata": {
    "id": "97-61ovVt4b5"
   },
   "outputs": [],
   "source": [
    "_, history = ttt.game(player, player)\n",
    "images = ttt.generate_image_history(history)\n"
   ]
  },
  {
   "cell_type": "markdown",
   "metadata": {
    "id": "rXxB77zIfnll"
   },
   "source": [
    "De posse de qualquer tabuleiro, podemos também imprimir aquela posição:\n",
    "\n"
   ]
  },
  {
   "cell_type": "code",
   "execution_count": 84,
   "metadata": {
    "colab": {
     "base_uri": "https://localhost:8080/",
     "height": 167
    },
    "id": "Ty14OnNgfwEN",
    "outputId": "3ec970bb-3235-4695-f176-23c29916e610"
   },
   "outputs": [
    {
     "data": {
      "image/png": "[encoded data removed]",
      "text/plain": [
       "<PIL.Image.Image image mode=RGB size=150x150>"
      ]
     },
     "execution_count": 84,
     "metadata": {},
     "output_type": "execute_result"
    }
   ],
   "source": [
    "ttt.draw_board( history[3] )"
   ]
  },
  {
   "cell_type": "markdown",
   "metadata": {
    "id": "SEegJKH6RNv_"
   },
   "source": [
    "# Validando Jogadores\n",
    "\n",
    "Antes de mais nada, vamos criar uma função que gerencia uma série de rodadas para no final sabermos qual jogador está se saindo melhor. A essa série de rodadas chamaremos de **campeonato**. Começaremos com uma implementação simples do **campeonato** só para saber a dinâmica do jogo."
   ]
  },
  {
   "cell_type": "code",
   "execution_count": 85,
   "metadata": {
    "id": "xX6uYfniRO7Q"
   },
   "outputs": [],
   "source": [
    "def campeonato(player1, player2, num_games = 1000) :\n",
    "    results = [0,0,0]\n",
    "    for i in range(num_games) :\n",
    "        result, x = ttt.game(player1, player2)\n",
    "        results[result] += 1\n",
    "    return tuple(results)"
   ]
  },
  {
   "cell_type": "code",
   "execution_count": 86,
   "metadata": {
    "colab": {
     "base_uri": "https://localhost:8080/"
    },
    "id": "6zK08pkuVsaT",
    "outputId": "26847d12-bbb4-48e3-d9df-5307a8ac59b6"
   },
   "outputs": [
    {
     "name": "stdout",
     "output_type": "stream",
     "text": [
      "Draw = 120, P1 = 574, P2 = 306\n"
     ]
    }
   ],
   "source": [
    "results = campeonato(player, player, 1000)\n",
    "print(\"Draw = %i, P1 = %i, P2 = %i\" % results)"
   ]
  },
  {
   "cell_type": "markdown",
   "metadata": {
    "id": "Kh53nIDXgnvA"
   },
   "source": [
    "Dado o que vimos acima, o jogador que começa parece ter mais chances de ganhar, uma informação muito importante! Notamos que o jogador **1** e o jogador **-1** têm a mesma inteligência, mas mesmo assim o jogador **1** ganha muito mais vezes.  Usaremos essa informação futuramente para comparar o resultado após melhorar os jogadores com o algoritmo de Monte Carlo.\n",
    "\n",
    "\n",
    "\n"
   ]
  },
  {
   "cell_type": "markdown",
   "metadata": {
    "id": "pjnA5X9kLktV"
   },
   "source": [
    "## Recompensando Tabuleiros\n",
    "\n",
    "No nosso jogo, daremos uma recompensa apenas pela vitória ou pela derrota. Não daremos recompensas para tabuleiros parciais. Entretanto, vale ressaltar que isso poderia ser feito. O código será muito simples, usaremos apenas a função winner.\n",
    "\n",
    "Observe que isso poderia ser modificado. No Xadrez, por exemplo, um tabuleiro não precisa chegar no final do jogo para darmos recompensa, podemos recompensar por:\n",
    "\n",
    "* Quantidade de peças;\n",
    "* Força das peças;\n",
    "* Segurança do rei;\n",
    "* Mobilidade;\n",
    "* Muitos outros.\n",
    "\n",
    "No nosso caso, achamos que apenas o resultado final dará informações suficientes."
   ]
  },
  {
   "cell_type": "code",
   "execution_count": 87,
   "metadata": {
    "id": "tBPahaQ6MO0p"
   },
   "outputs": [],
   "source": [
    "def rewards(tab) :\n",
    "    lwinner = ttt.winner(tab)\n",
    "    if lwinner == 0 :\n",
    "        return -1\n",
    "    elif lwinner == 1 :\n",
    "        return 10\n",
    "    else :\n",
    "       return -10\n"
   ]
  },
  {
   "cell_type": "markdown",
   "metadata": {
    "id": "e4Eq-VCoKIuL"
   },
   "source": [
    "## Jogador com Política\n",
    "\n",
    "A inteligência do jogador depende exclusivamente da política e esta depende exclusivamente de quão bem calculados são os state-values. Como Monte Carlo pode ser usado para resolver o processo de **evaluation**, podemos melhorar a política com os novos **state-values**. Várias abordagens são possívels. Por exemplo, podemos executar Monte Carlo com um número fixo de episódios e depois atualizar a política.\n",
    "\n",
    "Uma segunda abordagem que podemos tentar com Monte Carlo é  atualizar a política a cada episódio. Nesse caso, o tempo computacional tende a ser menor. À medida em que a política evolui para a política ótima, os episódios tendem a ser muito mais curtos. Entretanto, um cuidado precisa ser tomado, porque a política pode acabar convergindo muito rapidamente para uma situação não ótima, dando pesos 0 para ações que poderiam ainda ser exploradas.\n",
    "\n",
    "Para evitar que isso aconteça, podemos dar uma probabilidade, nem que seja bem baixa de a política explorar qualquer ação ao acaso. Em outras palavras, podemos assumir que todas as ações terão no mínimo uma probabilidade $\\epsilon$ de ocorrer. Isso garante que nunca deixaremos de explorar.\n",
    "\n",
    "Esta será a abordagem que seguiremos aqui. O nosso jogador não irá seguir a política em uma quantidade de vezes indicada por $\\epsilon$."
   ]
  },
  {
   "cell_type": "code",
   "execution_count": 88,
   "metadata": {
    "id": "ZjbsBn3UGPWc"
   },
   "outputs": [],
   "source": [
    "import random\n",
    "\n",
    "## Para computação dos state_values, usaremos gamma = 0.7 para\n",
    "## descontos futuros\n",
    "gamma = 0.7\n",
    "\n",
    "## Os state_values serão uma variável global neste notebook. Nele\n",
    "## estará contido tudo aquilo que o agente precisa para fazer uma boa\n",
    "## jogada\n",
    "state_values = {}\n",
    "\n",
    "\n",
    "def player_rl(tab, turn, epsilon = 0) :\n",
    "    valid_moves = ttt.get_valid_moves(tab)\n",
    "\n",
    "    epsilon_random = random.random()\n",
    "    if epsilon_random < epsilon :\n",
    "      return turn, random.choice(valid_moves)\n",
    "    else :\n",
    "      ## A nossa política será fazer o movimento de acordo com os state_values.\n",
    "      ## Escolheremos um dos melhores movimentos. Se turn = 1, significa maximizar\n",
    "      ## os state_values, caso contrário seria minimizar.\n",
    "      scores = []\n",
    "      for move in valid_moves :\n",
    "        next_state = list(tab)\n",
    "        next_state[move] = turn\n",
    "\n",
    "        ## Vejam que estamos inicializando com zero.\n",
    "        scores.append(rewards(tuple(next_state)) + gamma*state_values.get(tuple(next_state), 0))\n",
    "\n",
    "      ## Analisando qual o best score de um tabuleiro.\n",
    "\n",
    "      best_score = None\n",
    "      if (turn == 1) :\n",
    "          best_score = max(scores)\n",
    "      else :\n",
    "          best_score = min(scores)\n",
    "\n",
    "\n",
    "      ## Selecionando quais as jogadas de melhor score. Em caso de empate,\n",
    "      ## escolheremos ao acaso.\n",
    "      best_moves = []\n",
    "      for i in range(len(scores)) :\n",
    "        if scores[i] == best_score :\n",
    "          best_moves.append(valid_moves[i])\n",
    "\n",
    "      ## retornando um dos melhores movimentos\n",
    "      return turn, random.choice(best_moves)"
   ]
  },
  {
   "cell_type": "markdown",
   "metadata": {
    "id": "Y98zfCaxxCvl"
   },
   "source": [
    "# Monte Carlo\n",
    "\n",
    "Existe uma interseção muito grande entre o nosso conceito de episódio e o resultado já devolvido pela função **game**. O nosso jogador poderá jogar tanto com as peças brancas quanto com as peças pretas. Nesse caso, usaremos a mesma pontuação de **state_values** para ambas as situações. Se o jogador estiver jogando com as brancas, tentará maximizar."
   ]
  },
  {
   "cell_type": "markdown",
   "metadata": {
    "id": "Cwof1vmfKT1O"
   },
   "source": [
    "## Atualizando Valores"
   ]
  },
  {
   "cell_type": "code",
   "execution_count": 89,
   "metadata": {
    "id": "clwd_GseKTXG"
   },
   "outputs": [],
   "source": [
    "## O código a seguir atualiza os state_values. Note que esses state_values\n",
    "## são uma variável global.\n",
    "\n",
    "def update_state_values_monte_carlo(rewards, amostra, gamma = 0.7, alpha = 0.1) :\n",
    "    ## Definiremos o último state_value como zero para iniciar o processo iterativo.\n",
    "    discounted_return = 0\n",
    "    next_state        = amostra[-1]\n",
    "\n",
    "    ## Observe o uso de \"reversed\" estamos iterando de trás pra frente.\n",
    "    for state in reversed(amostra[:-1]) :\n",
    "        ## Abaixo simplesmente computamos o retorno a longo prazo e somamos com a recompensa imediata\n",
    "        discounted_return = gamma*discounted_return + rewards(next_state)\n",
    "\n",
    "        ## Abaixo a fórmula para atualização dos state-values. Isso substitui o valor esperado (média).\n",
    "        ## Note que estamos inicializando os state_values com zero\n",
    "        state_values[state] = state_values.get(state,0) + alpha*(discounted_return - state_values.get(state, 0))\n",
    "        next_state = state\n"
   ]
  },
  {
   "cell_type": "markdown",
   "metadata": {
    "id": "EL3EKCv6OPIc"
   },
   "source": [
    "## Efetuando Aprendizado"
   ]
  },
  {
   "cell_type": "code",
   "execution_count": 107,
   "metadata": {
    "id": "Sbb4S908OT91"
   },
   "outputs": [
    {
     "name": "stdout",
     "output_type": "stream",
     "text": [
      "{(0, -1, -1, 1, 0, 1, 1, -1, 1): -3.439, (0, -1, -1, 0, 0, 1, 1, -1, 1): -2.3190164, (0, 0, -1, 0, 0, 1, 1, -1, 1): -2.48293030756, (0, 0, -1, 0, 0, 1, 0, -1, 1): -0.18188878306701367, (0, 0, 0, 0, 0, 1, 0, -1, 1): -0.10193385909913841, (0, 0, 0, 0, 0, 1, 0, -1, 0): -0.3433004458359319, (0, 0, 0, 0, 0, 1, 0, 0, 0): -3.2594494784014896, (-1, 1, 0, 0, 1, 0, -1, 0, 1): -4.917933235606537, (-1, 0, 0, 0, 1, 0, -1, 0, 1): -2.694727738602494, (0, 0, 0, 0, 1, 0, -1, 0, 1): -2.6893991824588013, (0, 0, 0, 0, 1, 0, -1, 0, 0): -1.500134102143256, (0, 0, 0, 0, 1, 0, 0, 0, 0): -3.327852128188554, (-1, -1, 1, 1, 1, -1, 0, -1, 1): 9.353891811077332, (-1, -1, 1, 1, 1, 0, 0, -1, 1): 3.675477066, (-1, -1, 1, 1, 1, 0, 0, -1, 0): 4.9239380079999995, (-1, 0, 1, 1, 1, 0, 0, -1, 0): 3.146893677408351, (-1, 0, 1, 1, 0, 0, 0, -1, 0): -1.1885537582845271, (0, 0, 1, 1, 0, 0, 0, -1, 0): -2.439412427448991, (0, 0, 0, 1, 0, 0, 0, -1, 0): -0.7049482031772591, (0, 0, 0, 1, 0, 0, 0, 0, 0): -3.2924906190877623, (1, -1, 0, -1, 1, -1, 1, 1, -1): 9.113706188034751, (1, -1, 0, -1, 1, 0, 1, 1, -1): -1.6997880559184386, (1, -1, 0, -1, 1, 0, 1, 0, -1): 9.269916701665153, (1, -1, 0, -1, 1, 0, 1, 0, 0): 4.791857375129742, (1, -1, 0, -1, 1, 0, 0, 0, 0): 5.25118452416654, (1, -1, 0, 0, 1, 0, 0, 0, 0): 1.2159987286609404, (0, -1, 0, 0, 1, 0, 0, 0, 0): -0.4937539345762604, (1, 1, -1, -1, 1, 1, -1, 0, -1): 9.958254420820706, (1, 1, -1, -1, 1, 1, 0, 0, -1): -1.687961229892695, (1, 1, -1, -1, 0, 1, 0, 0, -1): -1.0067174852187901, (1, 1, 0, -1, 0, 1, 0, 0, -1): 1.4727094422949252, (0, 1, 0, -1, 0, 1, 0, 0, -1): -1.430113126034184, (0, 1, 0, 0, 0, 1, 0, 0, -1): -2.9694347787139197, (0, 1, 0, 0, 0, 0, 0, 0, -1): -1.1984674186137652, (0, 1, 0, 0, 0, 0, 0, 0, 0): -3.289996521057534, (-1, -1, 1, -1, 1, 1, 0, 1, -1): 9.282102012308147, (-1, -1, 1, 0, 1, 1, 0, 1, -1): 4.764653207432106, (-1, -1, 1, 0, 1, 0, 0, 1, -1): 8.975301080657676, (-1, 0, 1, 0, 1, 0, 0, 1, -1): 3.76673439265116, (-1, 0, 0, 0, 1, 0, 0, 1, -1): 7.4372288152397195, (-1, 0, 0, 0, 1, 0, 0, 1, 0): -1.016635117686204, (-1, 0, 0, 0, 0, 0, 0, 1, 0): -0.17526062708487722, (0, 0, 0, 0, 0, 0, 0, 1, 0): -3.104280094338778, (1, 1, 0, -1, 0, 0, -1, 1, -1): 4.486840138, (1, 1, 0, -1, 0, 0, -1, 1, 0): 2.863135335030639, (0, 1, 0, -1, 0, 0, -1, 1, 0): 0.35955028666548117, (0, 1, 0, -1, 0, 0, 0, 1, 0): -3.4881315025623922, (0, 0, 0, -1, 0, 0, 0, 1, 0): -0.4403912283377368, (0, -1, -1, 1, 0, 0, 1, 0, 1): -2.7338395019534865, (0, -1, -1, 1, 0, 0, 0, 0, 1): -1.0242213082991942, (0, 0, -1, 1, 0, 0, 0, 0, 1): -2.187012858293229, (0, 0, -1, 1, 0, 0, 0, 0, 0): -0.7586557049685543, (-1, -1, 1, 1, 0, 1, -1, 0, 0): 2.03, (-1, -1, 1, 1, 0, 1, 0, 0, 0): 0.5668069574399999, (-1, -1, 1, 0, 0, 1, 0, 0, 0): 2.5881048386211853, (-1, 0, 1, 0, 0, 1, 0, 0, 0): 0.03067338983098357, (-1, 0, 1, 0, 0, 0, 0, 0, 0): -0.33309254712220915, (0, 0, 1, 0, 0, 0, 0, 0, 0): -3.329910374991211, (-1, -1, 0, -1, 1, 1, 1, 0, 1): -3.0348550351900005, (-1, -1, 0, -1, 1, 1, 0, 0, 1): 3.7384828292057533, (-1, 0, 0, -1, 1, 1, 0, 0, 1): -6.959531263129242, (-1, 0, 0, -1, 0, 1, 0, 0, 1): 0.006285699317081894, (-1, 0, 0, 0, 0, 1, 0, 0, 1): -2.5735333430715768, (-1, 0, 0, 0, 0, 1, 0, 0, 0): -0.90236960823572, (1, 1, -1, -1, 0, -1, -1, 1, 1): 6.5132155990000005, (1, 1, -1, -1, 0, -1, 0, 1, 1): -2.46765286, (1, 0, -1, -1, 0, -1, 0, 1, 1): 1.814024008, (1, 0, -1, 0, 0, -1, 0, 1, 1): 0.686593030864714, (1, 0, -1, 0, 0, -1, 0, 1, 0): -1.6923899032684049, (1, 0, -1, 0, 0, 0, 0, 1, 0): -3.269079015651419, (0, 0, -1, 0, 0, 0, 0, 1, 0): -0.9872712070905604, (1, 1, -1, 1, 0, -1, -1, -1, 1): 8.649148282327008, (1, 1, 0, 1, 0, -1, -1, -1, 1): 3.41719674, (1, 1, 0, 0, 0, -1, -1, -1, 1): 4.2840568, (1, 1, 0, 0, 0, 0, -1, -1, 1): 0.1362486839999999, (0, 1, 0, 0, 0, 0, -1, -1, 1): -1.0883710268681779, (0, 1, 0, 0, 0, 0, 0, -1, 1): -2.83273866016322, (0, 1, 0, 0, 0, 0, 0, -1, 0): -1.8128201970209739, (0, 1, -1, 1, 1, 0, 0, -1, -1): 2.265042788575623, (0, 1, -1, 1, 1, 0, 0, 0, -1): -3.184101211207348, (0, 0, -1, 1, 1, 0, 0, 0, -1): 5.6050037471358145, (0, 0, -1, 1, 1, 0, 0, 0, 0): -3.0597978765546974, (0, -1, 0, -1, 1, -1, 0, 1, 1): 5.571347599000001, (0, -1, 0, -1, 1, 0, 0, 1, 1): 1.485106431603012, (0, -1, 0, -1, 1, 0, 0, 1, 0): -0.20254821196560446, (0, 0, 0, -1, 1, 0, 0, 1, 0): -0.5552520718550912, (0, 1, -1, -1, 1, -1, 0, 0, 1): 5.679970215922, (0, 1, -1, 0, 1, -1, 0, 0, 1): 4.627045015524449, (0, 0, -1, 0, 1, -1, 0, 0, 1): 6.243747855564209, (0, 0, 0, 0, 1, -1, 0, 0, 1): 0.2754827239101485, (0, 0, 0, 0, 1, -1, 0, 0, 0): -0.19718475465196733, (1, -1, -1, -1, 1, 1, -1, 1, 0): 9.88027484817438, (1, -1, -1, -1, 1, 1, 0, 1, 0): -1.2688333034319021, (1, -1, -1, -1, 1, 1, 0, 0, 0): 6.085938632718908, (1, -1, -1, 0, 1, 1, 0, 0, 0): 0.7547307000000001, (1, -1, -1, 0, 0, 1, 0, 0, 0): 0.5132462672567655, (1, 0, -1, 0, 0, 1, 0, 0, 0): -2.6684937164887375, (0, 0, -1, 0, 0, 1, 0, 0, 0): -1.9204652848218766, (1, 0, -1, 1, 1, 0, -1, -1, 0): 6.938603295922, (1, 0, -1, 1, 1, 0, -1, 0, 0): 4.3644554055412765, (1, 0, -1, 0, 1, 0, -1, 0, 0): 3.623796230730477, (1, 0, -1, 0, 1, 0, 0, 0, 0): -3.136356701788163, (1, 0, -1, 0, 0, 0, 0, 0, 0): -0.43334848881552374, (1, 0, 0, 0, 0, 0, 0, 0, 0): -3.233475170612814, (0, 1, -1, -1, -1, 1, 1, 1, -1): -0.9966186080864774, (0, 1, -1, 0, -1, 1, 1, 1, -1): -8.433885317580835, (0, 1, -1, 0, -1, 1, 0, 1, -1): -4.12763463899, (0, 1, -1, 0, 0, 1, 0, 1, -1): -1.0127147170000002, (0, 0, -1, 0, 0, 1, 0, 1, -1): -0.41109004941298516, (0, 0, -1, 0, 0, 1, 0, 1, 0): -3.333283132968284, (0, -1, -1, 0, 1, 0, -1, 1, 1): 6.760530682245263, (0, -1, 0, 0, 1, 0, -1, 1, 1): -4.955521925494929, (0, -1, 0, 0, 0, 0, -1, 1, 1): -2.931820901883971, (0, 0, 0, 0, 0, 0, -1, 1, 1): -3.208001236714758, (0, 0, 0, 0, 0, 0, -1, 0, 1): -1.030368363118598, (0, 0, 0, 0, 0, 0, 0, 0, 1): -3.307476405250483, (-1, 0, 0, 1, 0, 1, 1, 0, -1): -1.8739199627254424, (-1, 0, 0, 0, 0, 1, 1, 0, -1): -0.5332316932217505, (-1, 0, 0, 0, 0, 1, 1, 0, 0): -3.4414623262392476, (-1, 0, 0, 0, 0, 0, 1, 0, 0): -0.7949568715167734, (0, 0, 0, 0, 0, 0, 1, 0, 0): -3.2386095691008765, (-1, 0, 1, 0, 1, 0, -1, 1, 0): -4.5870978566068645, (-1, 0, 1, 0, 1, 0, -1, 0, 0): -3.2377480233393086, (0, 0, 1, 0, 1, 0, -1, 0, 0): -2.5449843525442644, (0, 0, 0, 1, -1, 1, 1, -1, -1): 2.8195805833561005, (0, 0, 0, 1, -1, 1, 1, 0, -1): -3.2476728329660487, (0, 0, 0, 1, -1, 0, 1, 0, -1): 8.946908979830457, (0, 0, 0, 1, 0, 0, 1, 0, -1): 0.8511523975502597, (0, 0, 0, 1, 0, 0, 0, 0, -1): -1.415156982957318, (-1, 1, 0, 1, -1, -1, 1, 1, 0): -7.181618169802651, (-1, 1, 0, 0, -1, -1, 1, 1, 0): 1.9180254868976798, (-1, 1, 0, 0, 0, -1, 1, 1, 0): 1.2400161512999999, (-1, 1, 0, 0, 0, -1, 1, 0, 0): -0.4910879420149012, (0, 1, 0, 0, 0, -1, 1, 0, 0): -2.4856657635546333, (0, 0, 0, 0, 0, -1, 1, 0, 0): -0.0648060403912375, (1, -1, -1, 1, 1, -1, 0, 0, 0): 6.6939429663298, (1, -1, -1, 1, 1, 0, 0, 0, 0): 4.436544466237156, (1, -1, -1, 1, 0, 0, 0, 0, 0): 4.377651288420181, (1, 0, -1, 1, 0, 0, 0, 0, 0): 0.35936050394415575, (1, 0, 0, 0, -1, 1, 1, -1, -1): 5.3962532443, (1, 0, 0, 0, 0, 1, 1, -1, -1): 2.335960689082187, (1, 0, 0, 0, 0, 1, 0, -1, -1): -1.2106670677357902, (1, 0, 0, 0, 0, 1, 0, 0, -1): -2.8761202703862754, (1, 0, 0, 0, 0, 0, 0, 0, -1): -0.40654351105058695, (1, 1, -1, -1, 0, 0, -1, 1, 0): 5.439173338, (1, 0, 0, -1, 0, 0, -1, 1, 0): 0.1931561136303906, (1, 0, 0, 0, 0, 0, -1, 1, 0): -2.781599524697844, (1, 0, 0, 0, 0, 0, -1, 0, 0): -0.1739411970723926, (0, 1, 0, 0, -1, -1, 1, 0, 1): -7.48870870171694, (0, 0, 0, 0, -1, -1, 1, 0, 1): 7.554956297338829, (0, 0, 0, 0, -1, 0, 1, 0, 1): -3.1713734598663996, (0, 0, 0, 0, -1, 0, 0, 0, 1): -3.298522067364088, (0, -1, 1, 1, -1, -1, 1, 1, -1): 9.01522909781639, (0, -1, 1, 1, -1, 0, 1, 1, -1): -6.856807908977876, (0, -1, 1, 0, -1, 0, 1, 1, -1): -2.9188595365618792, (0, 0, 1, 0, -1, 0, 1, 1, -1): -9.12344500687166, (0, 0, 1, 0, -1, 0, 1, 0, -1): -1.2593811656144551, (0, 0, 1, 0, -1, 0, 1, 0, 0): -3.5353925408072566, (0, 0, 1, 0, -1, 0, 0, 0, 0): -3.3609369820502244, (-1, 1, 1, 1, 0, -1, -1, 1, -1): 8.649148282327008, (-1, 1, 1, 1, 0, -1, 0, 1, -1): -1.1901131765400002, (-1, 1, 1, 1, 0, -1, 0, 0, -1): 1.0991841552607997, (0, 1, 1, 1, 0, -1, 0, 0, -1): 1.8061010692324, (0, 1, 1, 0, 0, -1, 0, 0, -1): 6.261540677400575, (0, 1, 1, 0, 0, -1, 0, 0, 0): 0.36942531487022956, (0, 1, 0, 0, 0, -1, 0, 0, 0): -1.085821208100271, (0, 1, 1, 0, -1, -1, 1, 0, -1): 3.1229309406961, (0, 1, 1, 0, 0, -1, 1, 0, -1): 3.0625459697520454, (0, 0, 1, 0, 0, -1, 1, 0, -1): 4.541922655506766, (0, 0, 1, 0, 0, 0, 1, 0, -1): -1.4818033073713308, (0, 0, 0, 0, 0, 0, 1, 0, -1): 0.019738356203531527, (-1, -1, 0, -1, 1, 1, 0, 1, 1): -5.217031, (-1, -1, 0, -1, 1, 1, 0, 1, 0): -4.551143986178033, (-1, -1, 0, 0, 1, 1, 0, 1, 0): -8.246605889573813, (-1, -1, 0, 0, 1, 1, 0, 0, 0): 5.00285057936625, (-1, 0, 0, 0, 1, 1, 0, 0, 0): -3.1249913226881216, (-1, 0, 0, 0, 1, 0, 0, 0, 0): -1.7132866975343237, (0, 1, 0, 0, -1, 1, -1, 0, 1): -3.2384492774161835, (0, 0, 0, 0, -1, 1, -1, 0, 1): 6.665915451157669, (0, 0, 0, 0, 0, 1, -1, 0, 1): -0.8269614569054324, (0, 0, 0, 0, 0, 1, -1, 0, 0): -0.9563914649067511, (0, -1, -1, 1, 1, -1, 1, 0, 1): -6.124339271208269, (0, -1, -1, 1, 0, -1, 1, 0, 1): 4.07545321672, (0, -1, 0, 1, 0, -1, 1, 0, 1): 2.15287263318894, (0, -1, 0, 1, 0, -1, 1, 0, 0): 4.27455806120542, (0, 0, 0, 1, 0, -1, 1, 0, 0): -0.6091617778109811, (1, -1, 0, -1, 0, -1, 1, 0, 1): 4.64886211249, (1, 0, 0, -1, 0, -1, 1, 0, 1): -3.2009043129614563, (0, 0, 0, -1, 0, -1, 1, 0, 1): 4.061001569334369, (0, 0, 0, 0, 0, -1, 1, 0, 1): 1.0640981119230704, (1, 0, 1, -1, 1, -1, -1, 1, -1): 8.649148282327008, (1, 0, 1, -1, 1, -1, 0, 1, -1): 4.305422781114, (1, 0, 1, -1, 1, -1, 0, 0, -1): 6.562189801209425, (1, 0, 1, -1, 1, 0, 0, 0, -1): 3.0004263463795557, (1, 0, 0, -1, 1, 0, 0, 0, -1): 1.3756816645687877, (1, 0, 0, -1, 1, 0, 0, 0, 0): 0.35201335443160775, (1, 0, 0, -1, 0, 0, 0, 0, 0): -0.3440631488070112, (1, -1, -1, 1, 0, 1, 0, 0, -1): 5.6953279000000006, (1, -1, 0, 1, 0, 1, 0, 0, -1): 1.356823844628, (1, -1, 0, 0, 0, 1, 0, 0, -1): -0.3254343991828294, (1, -1, 1, -1, 0, 1, -1, 1, -1): -0.9721871610556306, (1, -1, 1, -1, 0, 1, 0, 1, -1): -1.26788280918407, (1, -1, 1, -1, 0, 0, 0, 1, -1): -0.19472531618100022, (1, 0, 1, -1, 0, 0, 0, 1, -1): 0.18903828299999997, (0, 0, 1, -1, 0, 0, 0, 1, -1): 0.3713275795695358, (0, 0, 1, 0, 0, 0, 0, 1, -1): -3.0402691615688915, (0, 0, 1, 0, 0, 0, 0, 0, -1): -1.0590109183052479, (1, 1, -1, -1, 0, -1, 1, 1, 0): -4.0951, (1, 1, -1, -1, 0, -1, 0, 1, 0): 0.3260080000000001, (1, 1, 0, -1, 0, -1, 0, 1, 0): -3.1155229540000002, (0, 1, 0, -1, 0, -1, 0, 1, 0): 0.03994462477063798, (-1, 0, 1, 0, 0, 0, 1, 0, -1): 2.2738536257934894, (-1, 1, -1, 1, 1, 0, 1, 0, -1): -7.089599840698241, (-1, 1, -1, 1, 0, 0, 1, 0, -1): -5.804609746888527, (-1, 1, -1, 1, 0, 0, 1, 0, 0): -3.5740126328349158, (-1, 1, -1, 0, 0, 0, 1, 0, 0): -1.3697071125417972, (0, 1, -1, 0, 0, 0, 1, 0, 0): -3.27864259067192, (0, 1, -1, 0, 0, 0, 0, 0, 0): -2.049479299105366, (1, 0, 1, 0, -1, 1, -1, 0, -1): 7.084296988117887, (1, 0, 1, 0, -1, 1, -1, 0, 0): 4.921501882561284, (1, 0, 1, 0, -1, 0, -1, 0, 0): 7.074438779775509, (1, 0, 1, 0, -1, 0, 0, 0, 0): -3.6402826128757506, (-1, 1, 0, 1, -1, -1, 1, -1, 1): -0.9999999999999744, (-1, 1, 0, 1, 0, -1, 1, -1, 1): -1.3849865678951871, (-1, 1, 0, 0, 0, -1, 1, -1, 1): -0.30120961718100014, (-1, 1, 0, 0, 0, -1, 1, 0, 1): -0.06414507136300002, (-1, 0, 0, 0, 0, -1, 1, 0, 1): 4.818459083247055, (-1, 0, 0, 0, 0, 0, 1, 0, 1): 0.1483508548111192, (1, 0, 1, -1, -1, 1, 1, -1, -1): 9.576088417247838, (1, 0, 1, -1, -1, 1, 1, -1, 0): -7.021467121903106, (0, 0, 1, -1, -1, 1, 1, -1, 0): 6.1788311632124895, (0, 0, 1, -1, -1, 1, 1, 0, 0): -0.2654852030597749, (0, 0, 0, -1, -1, 1, 1, 0, 0): 0.5884236631491774, (0, 0, 0, 0, -1, 1, 1, 0, 0): -3.5562981764758512, (0, 0, 0, 0, -1, 0, 1, 0, 0): -3.351016756500238, (-1, 0, 1, -1, 1, 0, 0, -1, 1): 7.483552829954291, (-1, 0, 1, 0, 1, 0, 0, -1, 1): 2.286305355797793, (-1, 0, 0, 0, 1, 0, 0, -1, 1): 0.9692395991618385, (0, 0, 0, 0, 1, 0, 0, -1, 1): 0.5826449738118823, (0, 0, 0, 0, 1, 0, 0, -1, 0): -0.8067408743636088, (-1, -1, 0, -1, 1, 0, 1, 0, 1): 8.015415377739679, (-1, -1, 0, 0, 1, 0, 1, 0, 1): -4.396076283964501, (-1, -1, 0, 0, 1, 0, 0, 0, 1): 0.1379257107578986, (0, -1, 0, 0, 1, 0, 0, 0, 1): -0.7425305330239915, (0, -1, 0, 0, 0, 0, 0, 0, 1): -0.5282257779832535, (-1, 0, -1, 1, -1, 1, 1, 1, 0): -7.712320754503899, (-1, 0, -1, 0, -1, 1, 1, 1, 0): 1.0632626487999999, (0, 0, -1, 0, -1, 1, 1, 1, 0): -1.5394981193949935, (0, 0, -1, 0, -1, 1, 1, 0, 0): -1.1620020662321429, (0, -1, 0, -1, -1, 1, 1, 0, 1): 4.1128147, (0, -1, 0, 0, -1, 1, 1, 0, 1): -4.968990597286001, (0, -1, 0, 0, -1, 0, 1, 0, 1): 3.346013843617981, (0, -1, 0, 0, 0, 0, 1, 0, 1): 0.48529617529427477, (0, -1, 0, 0, 0, 0, 1, 0, 0): -1.4136023340277064, (-1, 1, -1, 0, -1, 1, 1, -1, 1): -0.9999999999999993, (-1, 1, 0, 0, -1, 1, 1, -1, 1): -1.5379896344269866, (-1, 0, 0, 0, -1, 1, 1, -1, 1): 3.0734410995181007, (-1, 0, 0, 0, 0, 1, 1, -1, 1): -0.04024515650132998, (-1, 0, 0, 0, 0, 0, 1, -1, 1): 0.08553980089521526, (-1, 0, 0, 0, 0, 0, 0, 0, 1): -0.5314346899267046, (1, 1, -1, -1, -1, 0, 1, -1, 1): -0.9999950781191616, (1, 1, -1, -1, -1, 0, 1, 0, 1): -7.460486485183692, (1, 0, -1, -1, -1, 0, 1, 0, 1): 7.924690542762189, (1, 0, -1, 0, -1, 0, 1, 0, 1): 2.70284554544332, (1, 0, -1, 0, -1, 0, 0, 0, 1): -0.05193188912727703, (1, 0, 0, 0, -1, 0, 0, 0, 1): -3.344383181421879, (1, 0, 0, 0, -1, 0, 0, 0, 0): -3.225931194521936, (-1, -1, 1, -1, 0, 1, 1, 1, -1): 7.4581341716709995, (-1, -1, 1, -1, 0, 1, 1, 1, 0): 2.811354, (-1, -1, 1, -1, 0, 1, 0, 1, 0): 4.1497085152, (-1, -1, 1, 0, 0, 1, 0, 1, 0): 2.085323828790059, (0, 0, -1, 0, 0, 1, -1, 1, 1): -6.670758200317288, (0, 0, -1, 0, 0, 0, -1, 1, 1): 2.006414809150287, (0, 0, 0, 0, 0, 0, -1, 1, 0): -1.5163225261329256, (1, 1, 0, 1, -1, -1, -1, -1, 1): 8.905810108684877, (1, 1, 0, 1, -1, 0, -1, -1, 1): -6.340331481465744, (1, 0, 0, 1, -1, 0, -1, -1, 1): -5.898728883850438, (1, 0, 0, 1, 0, 0, -1, -1, 1): -1.34624421345283, (1, 0, 0, 1, 0, 0, -1, -1, 0): -2.6553893136658417, (1, 0, 0, 1, 0, 0, 0, -1, 0): -1.0684383017148464, (1, 0, 0, 0, 0, 0, 0, -1, 0): -0.21484033628758434, (1, 1, -1, -1, -1, 1, 1, 0, -1): -0.9999872957652524, (1, 1, -1, -1, -1, 1, 1, 0, 0): -1.6999932225700856, (1, 0, -1, -1, -1, 1, 1, 0, 0): -2.1462465777795114, (1, 0, -1, 0, -1, 1, 1, 0, 0): -1.428159975667344, (1, 0, -1, 0, -1, 0, 1, 0, 0): 8.394793990821599, (1, 0, -1, 0, 0, 0, 1, 0, 0): 1.195484014388209, (0, 0, -1, 0, 0, 0, 1, 0, 0): -0.37768020872807656, (-1, 1, 1, 1, 0, 1, -1, 0, -1): -6.8618940391, (-1, 1, 1, 0, 0, 1, -1, 0, -1): -3.7484720000000005, (0, 1, 1, 0, 0, 1, -1, 0, -1): -3.831290255893995, (0, 1, 0, 0, 0, 1, -1, 0, -1): -3.407811020068538, (0, 0, 0, 0, 0, 1, 0, 0, -1): -1.7095093590064967, (1, -1, 1, 1, -1, -1, 0, 1, -1): 9.866972053527089, (1, -1, 1, 1, -1, 0, 0, 1, -1): -1.5581602746692864, (1, -1, 0, 1, -1, 0, 0, 1, -1): 6.76553481507592, (1, -1, 0, 1, 0, 0, 0, 1, -1): -2.5329999671623633, (1, -1, 0, 0, 0, 0, 0, 1, -1): -2.7730999999999977, (1, -1, 0, 0, 0, 0, 0, 1, 0): -2.857511937261844, (0, -1, 0, 0, 0, 0, 0, 1, 0): -3.0061144204797046, (0, -1, -1, 0, 1, 1, -1, 1, 0): 5.3761338065799995, (0, -1, 0, 0, 1, 1, -1, 1, 0): -1.8637534626539323, (0, -1, 0, 0, 0, 1, -1, 1, 0): -0.4312061480000002, (0, 0, 0, 0, 0, 1, -1, 1, 0): -3.5159233182648, (-1, -1, 0, 1, -1, 1, 1, 1, 0): -8.784233454094307, (-1, -1, 0, 1, -1, 1, 1, 0, 0): -6.169856603603121, (-1, 0, 0, 1, -1, 1, 1, 0, 0): -9.270383716693981, (-1, 0, 0, 1, -1, 0, 1, 0, 0): -3.6327614802820545, (0, 0, 0, 1, -1, 0, 1, 0, 0): -3.4842523743619287, (-1, 1, 0, -1, 0, 1, 0, 1, -1): 1.42858, (-1, 1, 0, -1, 0, 1, 0, 1, 0): -2.9173121877736, (-1, 0, 0, -1, 0, 1, 0, 1, 0): -1.1195084533400002, (0, 0, 0, -1, 0, 1, 0, 1, 0): -1.424513521783346, (0, 0, 0, -1, 0, 1, 0, 0, 0): -1.7620996178734325, (1, -1, 1, 0, -1, -1, 0, 1, 1): -6.319201067739972, (0, -1, 1, 0, -1, -1, 0, 1, 1): 4.372145448950118, (0, -1, 1, 0, 0, -1, 0, 1, 1): -0.7032061258179163, (0, -1, 1, 0, 0, -1, 0, 1, 0): 0.372698386370871, (0, 0, 1, 0, 0, -1, 0, 1, 0): -1.603140820696294, (0, 0, 1, 0, 0, -1, 0, 0, 0): -0.27160510104638697, (-1, 1, -1, -1, 1, 0, 1, 0, 0): 6.189684565154722, (-1, 1, 0, -1, 1, 0, 1, 0, 0): 3.1074467541, (-1, 1, 0, -1, 1, 0, 0, 0, 0): 7.469322275164381, (-1, 1, 0, 0, 1, 0, 0, 0, 0): -2.939377113365808, (1, -1, 1, 1, -1, 0, -1, 0, 1): -8.636060803070194, (1, -1, 1, 0, -1, 0, -1, 0, 1): 8.417077140998554, (1, -1, 1, 0, 0, 0, -1, 0, 1): 5.010778647318192, (1, -1, 0, 0, 0, 0, -1, 0, 1): 4.702535858393485, (1, 0, 0, 0, 0, 0, -1, 0, 1): 0.23472103029087335, (-1, 1, 0, 0, 0, 1, 1, 0, -1): -3.8159320322800006, (-1, 1, 0, 0, 0, 1, 0, 0, -1): -1.7351092588479073, (-1, 1, 0, 1, 1, -1, 1, -1, -1): 9.817519963685992, (0, 1, 0, 1, 1, -1, 1, -1, -1): -1.4437299296976596, (0, 1, 0, 1, 0, -1, 1, -1, -1): 2.4914529279999997, (0, 1, 0, 1, 0, 0, 1, -1, -1): 1.164197837879522, (0, 1, 0, 0, 0, 0, 1, -1, -1): -0.613021836662026, (0, 1, 0, 0, 0, 0, 1, -1, 0): -2.6438775203034353, (0, 0, 0, 0, 0, 0, 1, -1, 0): -0.576738622487559, (-1, 1, 0, 1, 1, -1, 1, 0, -1): -6.115722177286001, (-1, 1, 0, 0, 1, -1, 1, 0, -1): 4.93756966648, (0, 1, 0, 0, 1, -1, 1, 0, -1): 0.2053602527751598, (0, 1, 0, 0, 0, -1, 1, 0, -1): -1.426968562056514, (1, 0, -1, 1, -1, 1, 0, 1, -1): -5.821109683619665, (1, 0, -1, 1, -1, 1, 0, 0, -1): 5.3001193937752, (1, 0, -1, 1, -1, 1, 0, 0, 0): -7.350856857577094, (0, 0, -1, 1, -1, 1, 0, 0, 0): -4.439361557022405, (0, 0, -1, 1, 0, 1, 0, 0, 0): -2.6691608354494862, (-1, -1, 1, 0, 0, -1, 1, 1, 0): 4.721311, (-1, 0, 1, 0, 0, -1, 1, 1, 0): 2.204726088512591, (-1, 0, 0, 0, 0, -1, 1, 1, 0): 5.48228234164614, (0, 0, 0, 0, 0, -1, 1, 1, 0): -1.867478464899353, (0, 0, 0, 0, 0, -1, 0, 1, 0): -0.5536011762162715, (1, 1, 0, -1, 0, -1, -1, 0, 1): 4.521015599, (1, 1, 0, -1, 0, -1, 0, 0, 1): 1.515354, (1, 0, 0, -1, 0, -1, 0, 0, 1): 3.6272711119582346, (1, 0, 0, -1, 0, 0, 0, 0, 1): -1.403503132053276, (0, 1, 1, -1, 1, 1, -1, -1, 0): -7.712320754503899, (0, 1, 1, -1, 0, 1, -1, -1, 0): 4.27845186892, (0, 1, 1, -1, 0, 1, -1, 0, 0): -1.8609046786000003, (0, 1, 0, -1, 0, 1, -1, 0, 0): -0.2085398788380002, (0, 1, 0, 0, 0, 1, -1, 0, 0): -2.6722361753497395, (1, -1, -1, -1, -1, 1, 1, 1, 0): 9.948462247926798, (1, -1, -1, 0, -1, 1, 1, 1, 0): 5.270540072456584, (0, -1, -1, 0, -1, 1, 1, 1, 0): 3.9485730461240713, (0, 0, -1, 0, -1, 0, 1, 1, 0): 6.949319824566446, (0, 0, 0, 0, -1, 0, 1, 1, 0): -3.38127951558939, (-1, 1, 1, 0, 1, 0, -1, -1, 1): -7.83860375458544, (-1, 1, 0, 0, 1, 0, -1, -1, 1): -2.385665927702241, (0, 1, 0, 0, 1, 0, -1, -1, 1): -1.5687391173176046, (0, 1, 0, 0, 1, 0, -1, -1, 0): -2.63306616492058, (0, 1, 0, 0, 1, 0, 0, -1, 0): -2.9255807085453966, (0, -1, -1, 1, 1, -1, 1, 1, 0): -6.12579511, (0, -1, -1, 0, 1, -1, 1, 1, 0): 5.462827241409159, (0, -1, -1, 0, 1, 0, 1, 1, 0): -5.995927793422347, (0, -1, -1, 0, 0, 0, 1, 1, 0): 2.160527801997856, (0, 0, -1, 0, 0, 0, 1, 1, 0): -3.4492659133690857, (0, -1, 1, 1, -1, 1, -1, 1, -1): -0.9986899794913624, (0, -1, 1, 1, -1, 1, -1, 1, 0): -1.4778455322681707, (0, -1, 1, 0, -1, 1, -1, 1, 0): 4.38716268901, (0, 0, 1, 0, -1, 1, -1, 1, 0): 0.31455714288114434, (0, 0, 1, 0, -1, 0, -1, 1, 0): -0.9945378038080905, (0, 0, 1, 0, -1, 0, 0, 1, 0): -3.5361847802513786, (0, 0, 0, 0, -1, 0, 0, 1, 0): -2.4612521916129326, (-1, -1, 1, 1, 0, 0, 0, -1, 1): 2.5499699199999997, (-1, 0, 1, 1, 0, 0, 0, -1, 1): -0.3188850700000001, (-1, 0, 0, 1, 0, 0, 0, -1, 1): -0.5006423821720001, (0, 0, 0, 1, 0, 0, 0, -1, 1): -2.7477259350242935, (0, -1, -1, 1, 0, 1, -1, 1, 1): -5.217031, (0, -1, -1, 1, 0, 0, -1, 1, 1): -4.464212247544401, (0, -1, 0, 1, 0, 0, -1, 1, 1): -3.035095656212337, (0, -1, 0, 1, 0, 0, -1, 1, 0): -2.8929444738148256, (0, 0, 0, 1, 0, 0, -1, 1, 0): -3.344866317372824, (0, 0, 0, 1, 0, 0, -1, 0, 0): -3.279027797293361, (0, -1, -1, -1, 1, 0, 0, 1, 1): 3.4375964563, (0, -1, -1, 0, 1, 0, 0, 1, 1): -8.159817282861386, (0, -1, -1, 0, 1, 0, 0, 0, 1): 4.847512836812658, (1, 0, 1, -1, -1, 0, 1, -1, 0): 2.87002689586651, (1, 0, 1, -1, -1, 0, 1, 0, 0): -9.603421991179452, (1, 0, 1, -1, -1, 0, 0, 0, 0): 5.044863335781912, (1, 0, 1, -1, 0, 0, 0, 0, 0): 1.851277711535655, (0, 1, -1, 1, 0, -1, 1, 0, 0): -5.75475524837731, (0, 1, -1, 0, 0, -1, 1, 0, 0): -2.4253576350090182, (-1, 1, 1, -1, 0, -1, 1, -1, 1): 8.332281830033342, (0, 1, 1, -1, 0, -1, 1, -1, 1): -0.8325999999999999, (0, 1, 1, -1, 0, -1, 1, -1, 0): 4.2840568, (0, 1, 1, -1, 0, -1, 1, 0, 0): -1.825047316, (0, 1, 0, -1, 0, -1, 1, 0, 0): -0.04622739376990631, (0, 1, 0, -1, 0, 0, 1, 0, 0): -2.740668150560646, (0, 0, 0, -1, 0, 0, 1, 0, 0): -0.9066091072902391, (-1, 0, 1, 0, -1, 0, 1, -1, 1): 7.7320142222175905, (-1, 0, 1, 0, -1, 0, 1, 0, 1): 5.807992839893741, (-1, 0, 1, 0, -1, 0, 0, 0, 1): 5.74359965155572, (-1, 0, 1, 0, 0, 0, 0, 0, 1): 1.0799378748835697, (-1, 0, -1, -1, 1, 0, 1, 0, 1): 8.011882068809797, (-1, 0, -1, 0, 1, 0, 1, 0, 1): -4.228078323527421, (-1, 0, -1, 0, 0, 0, 1, 0, 1): 3.191578530701272, (1, 1, -1, 0, -1, -1, 1, 0, 1): -5.306958202655194, (1, 1, -1, 0, -1, -1, 1, 0, 0): 6.706128686079703, (1, 1, 0, 0, -1, -1, 1, 0, 0): -4.214972519699375, (1, 1, 0, 0, -1, -1, 0, 0, 0): 4.477376715562526, (1, 1, 0, 0, -1, 0, 0, 0, 0): -3.4958035076926164, (0, -1, 1, -1, 0, 1, 1, -1, 0): 5.293794699999999, (0, -1, 1, -1, 0, 1, 1, 0, 0): 1.315691754, (0, -1, 1, -1, 0, 1, 0, 0, 0): 4.090255499150392, (0, 0, 1, -1, 0, 1, 0, 0, 0): -0.7928563403856745, (-1, 0, -1, 1, 1, -1, -1, 1, 1): 9.576088417247838, (-1, 0, -1, 1, 1, 0, -1, 1, 1): -6.7278491142057, (-1, 0, -1, 0, 1, 0, -1, 1, 1): 6.473768858854854, (0, 0, -1, 0, 1, 0, -1, 1, 1): 4.837151005377721, (0, 0, -1, 0, 1, 0, -1, 0, 1): 5.740575411247984, (-1, 1, 1, 1, -1, 1, -1, -1, 0): 8.905810108684877, (-1, 1, 1, 1, -1, 1, -1, 0, 0): -6.782782698536439, (-1, 1, 1, 1, -1, 0, -1, 0, 0): -3.011429364506482, (0, 1, 1, 1, -1, 0, -1, 0, 0): -1.5905261682618124, (0, 1, 0, 1, -1, 0, -1, 0, 0): -2.1246159786563426, (0, 1, 0, 1, 0, 0, -1, 0, 0): -3.6718510515526535, (0, 1, 0, 0, 0, 0, -1, 0, 0): -1.01526537592843, (-1, 0, -1, 0, 1, 0, 1, 1, 0): -3.7011307337761075, (-1, 0, -1, 0, 1, 0, 1, 0, 0): -3.204299607455055, (0, 0, -1, 0, 1, 0, 1, 0, 0): -3.3081206840210635, (0, 1, 0, 1, 0, -1, -1, 1, -1): 4.3197778, (0, 1, 0, 1, 0, -1, -1, 1, 0): 0.6009713761096999, (0, 0, 0, 1, 0, -1, -1, 1, 0): -1.2787716358704695, (0, 0, 0, 1, 0, -1, 0, 1, 0): -2.4150645264945383, (0, 0, 0, 1, 0, -1, 0, 0, 0): -1.589198909114979, (1, -1, 1, -1, 0, -1, 1, 0, 1): -2.5844589990999998, (1, -1, 0, -1, 0, 0, 1, 0, 1): 2.8271016428647826, (1, -1, 0, -1, 0, 0, 0, 0, 1): 2.9067981595110437, (0, 0, 0, -1, 0, 0, 0, 0, 1): -0.9790924045592192, (0, 1, 0, -1, -1, 1, -1, 1, 1): -8.649148282327008, (0, 1, 0, -1, -1, 1, -1, 0, 1): 1.1443182916142727, (0, 1, 0, 0, -1, 1, -1, 0, 0): -2.6641101545986876, (0, 0, 0, 0, 1, 0, -1, 1, -1): 8.56458331098697, (0, 0, 0, 0, 1, 0, 0, 1, -1): -1.8909779332992402, (0, 0, 0, 0, 0, 0, 0, 1, -1): -2.329861200296433, (0, -1, -1, -1, 1, 1, 1, 1, -1): -0.999999646659165, (0, -1, -1, -1, 1, 1, 1, 1, 0): -6.271384394213766, (0, -1, -1, -1, 1, 0, 1, 1, 0): 4.72746620213897, (0, 0, -1, -1, 1, 0, 1, 1, 0): 2.6525638650353165, (0, 0, -1, -1, 1, 0, 0, 1, 0): 8.099686239071808, (-1, -1, 0, 1, -1, 0, 1, 1, 0): 3.3400876762, (-1, -1, 0, 1, 0, 0, 1, 1, 0): -4.59721616581, (-1, -1, 0, 0, 0, 0, 1, 1, 0): 7.973598244249041, (-1, 0, 0, 0, 0, 0, 1, 1, 0): 1.4080889842234936, (1, 1, -1, -1, 0, 1, 1, 0, -1): -1.619927812146814, (1, 1, -1, -1, 0, 0, 1, 0, -1): -1.9390996942463539, (1, 1, -1, 0, 0, 0, 1, 0, -1): -5.933156830545764, (1, 1, -1, 0, 0, 0, 0, 0, -1): -5.302215606893537, (1, 1, -1, 0, 0, 0, 0, 0, 0): -3.8646204659644927, (0, 1, 1, -1, 0, -1, 0, 1, 0): -3.5584444630000003, (0, 1, 1, -1, 0, -1, 0, 0, 0): 6.180503987490644, (0, -1, 1, 1, 1, -1, -1, 1, -1): -0.9999999957696215, (0, 0, 1, 1, 1, -1, -1, 1, -1): -0.9962546542996745, (0, 0, 1, 1, 1, -1, -1, 0, -1): -2.654827490173415, (0, 0, 1, 1, 1, -1, 0, 0, -1): -1.1729278024613907, (0, 0, 1, 0, 1, -1, 0, 0, -1): 7.084474006408758, (0, 0, 1, 0, 1, 0, 0, 0, -1): -1.4494157703164026, (0, 0, 0, 0, 1, 0, 0, 0, -1): -1.7203105287365688, (1, -1, -1, 1, -1, 0, 0, 1, 0): 3.2426181163, (1, 0, -1, 1, -1, 0, 0, 1, 0): -2.9110489349655033, (1, 0, -1, 0, -1, 0, 0, 1, 0): -1.5424697152117384, (1, 0, 0, 0, -1, 0, 0, 1, 0): -3.466969726442067, (0, -1, -1, 0, 1, 0, 1, -1, 1): 5.434310338342595, (0, -1, 0, 0, 1, 0, 1, -1, 1): 3.875883306126572, (0, -1, 0, 0, 1, 0, 1, -1, 0): 4.7319787890353044, (0, -1, 0, 0, 1, 0, 1, 0, 0): 0.8652555388382329, (1, -1, 0, 1, 0, 0, -1, -1, 1): 2.7829, (0, 0, 0, 1, 0, 0, -1, -1, 1): 0.7143085457508838, (0, 1, 1, 1, 1, -1, -1, 0, -1): -2.680675390787143, (0, 1, 0, 1, 1, -1, -1, 0, -1): 4.87867314412, (0, 1, 0, 1, 1, 0, -1, 0, -1): -3.1397292190297383, (0, 0, 0, 1, 1, 0, -1, 0, -1): 6.133262793269084, (0, 0, 0, 1, 1, 0, 0, 0, -1): -2.117610511188854, (0, 1, 1, -1, 1, 0, -1, -1, 1): -5.4067228166345584, (0, 1, 0, -1, 1, 0, -1, -1, 1): 4.0675450528432, (0, 0, 0, 0, 1, 0, -1, -1, 1): 5.948482917434756, (-1, 1, 0, 1, 0, -1, 1, 1, -1): -6.12579511, (-1, 1, 0, 1, 0, -1, 1, 0, -1): -3.4387928000000003, (0, 1, 0, 1, 0, -1, 1, 0, -1): -3.66060941274, (0, 1, 0, 0, 0, 0, 1, 0, -1): -3.0122628597277483, (-1, 0, 0, 1, 1, -1, -1, 1, 1): -1.6086396015685658, (-1, 0, 0, 0, 1, -1, -1, 1, 1): 7.232138525535163, (-1, 0, 0, 0, 1, 0, -1, 1, 1): -7.5274784839421764, (-1, 0, 0, 0, 1, 0, -1, 1, 0): 4.679016730591794, (0, 0, 0, 0, 1, 0, -1, 1, 0): -1.0561347785401929, (-1, 0, 0, 0, 1, 1, -1, -1, 1): 5.883591002564467, (-1, 0, 0, 0, 1, 1, 0, -1, 1): 3.3189485362121722, (-1, 0, 0, 0, 1, 1, 0, -1, 0): 7.929489341151114, (1, -1, 0, -1, 1, 0, 1, -1, 0): 7.229957510730996, (1, 0, 0, -1, 1, 0, 1, -1, 0): 3.3827534159466337, (0, 0, 0, -1, 1, 0, 1, -1, 0): 7.122496112124666, (0, 0, 0, -1, 1, 0, 1, 0, 0): 0.7513977973678391, (1, 1, -1, 0, 0, -1, -1, 1, 0): 0.36801247698999984, (1, 1, -1, 0, 0, -1, 0, 1, 0): -1.7900794151400001, (0, 1, -1, 0, 0, -1, 0, 1, 0): 5.144974165439477, (0, 1, 0, 0, 0, -1, 0, 1, 0): -2.085615313259003, (1, -1, 1, 0, -1, 1, 1, 0, -1): -8.416479162459703, (1, -1, 1, 0, -1, 0, 1, 0, -1): 6.390291574844809, (1, -1, 1, 0, -1, 0, 1, 0, 0): -6.79875992622153, (0, -1, 1, 0, -1, 0, 1, 0, 0): -2.3852299836091837, (-1, 0, 1, 0, 1, 1, -1, -1, 0): 4.50579511, (0, 0, 1, 0, 1, 1, -1, -1, 0): -4.28725030114, (0, 0, 1, 0, 0, 1, -1, -1, 0): 3.7782473300459896, (0, 0, 1, 0, 0, 1, 0, -1, 0): -1.6091355698877048, (1, 0, 0, 1, -1, 0, 0, -1, 0): 6.0613330015069025, (1, 0, 0, 1, -1, 0, 0, 0, 0): -3.386340077313068, (-1, 0, -1, 1, 1, 0, 0, 0, 0): 7.632603501103021, (-1, 0, 0, 1, 1, 0, 0, 0, 0): -3.0517272407817666, (-1, 0, 0, 1, 0, 0, 0, 0, 0): -2.081886722406021, (1, 0, 1, 1, -1, -1, -1, 1, -1): 9.92930349509849, (1, 0, 1, 1, -1, 0, -1, 1, -1): -1.5935899222877765, (1, 0, 0, 1, -1, 0, -1, 1, -1): -2.584380264084804, (1, 0, 0, 1, -1, 0, 0, 1, -1): -1.6364155056821645, (1, 0, 0, 0, -1, 0, 0, 1, -1): -1.8763496140801428, (1, 0, 0, 0, 0, 0, 0, 1, -1): -2.9149115346754977, (1, 1, 0, -1, -1, 1, 0, 0, -1): 5.3552834443, (1, 1, 0, -1, 0, 0, 0, 0, -1): 2.2292652982168764, (1, 1, 0, -1, 0, 0, 0, 0, 0): -0.3654151937715382, (-1, 1, 1, 0, 1, 0, 0, -1, -1): 7.252539155171977, (-1, 1, 1, 0, 1, 0, 0, -1, 0): -4.270921723448115, (-1, 0, 1, 0, 1, 0, 0, -1, 0): 4.305071948265099, (-1, 0, 1, 0, 1, 0, 0, 0, 0): -3.1813885244893396, (0, 0, 1, 0, -1, 0, -1, 0, 1): 6.230873666268065, (0, 0, 1, 0, -1, 0, 0, 0, 1): -3.103931246221279, (1, -1, 0, 1, 1, 0, -1, 0, -1): 5.884491459429865, (1, -1, 0, 1, 1, 0, -1, 0, 0): 4.528427092680964, (1, -1, 0, 0, 1, 0, -1, 0, 0): 4.605418419604387, (1, -1, 0, 0, 0, 0, 0, 0, 0): 0.08900974999593345, (0, 1, 0, -1, 1, 0, 0, 0, 0): 0.9759944321211691, (0, 1, 0, -1, 0, 0, 0, 0, 0): -0.6443374512375896, (-1, 1, -1, 0, 1, 1, -1, 0, 0): 4.18987, (0, 1, -1, 0, 1, 1, -1, 0, 0): 0.8284335000000003, (0, 1, -1, 0, 1, 0, -1, 0, 0): 7.100152728396587, (0, 1, -1, 0, 1, 0, 0, 0, 0): -3.1210491286571873, (-1, -1, 0, 0, 0, 1, 0, 1, 0): -0.6287906121219066, (0, -1, 0, 0, 0, 1, 0, 1, 0): -3.0684904602191705, (0, -1, 0, 0, 0, 1, 0, 0, 0): -1.043747463391548, (-1, 1, 0, -1, -1, 0, 1, 0, 1): 5.0686380463627, (-1, 1, 0, -1, 0, 0, 1, 0, 1): 0.9216898131669998, (-1, 1, 0, -1, 0, 0, 1, 0, 0): -0.16136513587480028, (0, 1, 0, 1, 0, 1, 0, -1, -1): -4.247804827811918, (0, 0, 0, 1, 0, 1, 0, -1, -1): 2.698479274354933, (0, 0, 0, 1, 0, 1, 0, 0, -1): -3.562593682437405, (0, 0, 0, 1, 1, 0, -1, -1, 0): 5.596197391690567, (0, 0, 0, 1, 1, 0, 0, -1, 0): -1.13869169515294, (0, -1, 1, 1, 0, 1, -1, 1, -1): -0.029660714094335294, (0, -1, 1, 0, 0, 1, -1, 1, -1): -1.0275974723034391, (0, 0, 1, 0, 0, 1, -1, 1, -1): -2.405888216486906, (0, 0, 0, 0, 0, 1, -1, 1, -1): 1.2003517780182338, (0, 0, 0, 0, 0, 1, 0, 1, -1): -2.913349421492045, (-1, 0, -1, 1, 1, 0, 0, 1, -1): 4.68559, (-1, 0, -1, 1, 1, 0, 0, 1, 0): -4.581386277087975, (-1, 0, -1, 0, 1, 0, 0, 1, 0): 8.72261769814388, (0, 0, -1, 0, 1, 0, 0, 1, 0): -3.11628309756577, (0, 0, -1, 0, 1, 0, 0, 0, 0): -3.393430157658443, (0, -1, 0, 0, 0, 0, 1, 1, 0): -3.0773417914835295, (0, 1, 0, -1, 1, 0, -1, 0, 1): 0.33738885240000016, (0, 1, 0, -1, 0, 0, -1, 0, 1): -0.8271834544120003, (0, 1, 0, -1, 0, 0, 0, 0, 1): -0.9612603267603025, (0, 1, 1, 0, -1, -1, 1, 1, -1): -6.5132155990000005, (0, 1, 1, 0, -1, 0, 1, 0, -1): -2.8463531769038974, (0, 1, 1, 0, -1, 0, 0, 0, -1): 6.394282893294338, (0, 1, 1, 0, -1, 0, 0, 0, 0): -3.6687916766229387, (1, -1, -1, 0, 1, 1, 1, -1, -1): 9.282102012308147, (1, -1, -1, 0, 1, 1, 1, -1, 0): 3.9079293594, (0, -1, -1, 0, 1, 1, 1, -1, 0): 2.581781564512, (0, 0, -1, 0, 1, 1, 1, -1, 0): 0.8000367637125758, (0, 0, -1, 0, 1, 1, 0, -1, 0): 8.980465245272278, (0, 0, 0, 0, 1, 1, 0, -1, 0): 0.8859361600357035, (1, -1, 1, -1, 0, -1, 0, 1, 1): -1.7959622167000002, (1, -1, 0, -1, 0, -1, 0, 1, 1): 4.6470991239999995, (1, 0, 0, -1, 0, -1, 0, 1, 1): -1.25058106, (1, 0, 0, -1, 0, -1, 0, 1, 0): -0.5034982009383333, (1, 0, 0, -1, 0, 0, 0, 1, 0): -0.706947968471645, (1, -1, 1, -1, 1, -1, 0, 1, -1): 9.528987130275375, (1, 0, 0, -1, 1, -1, 0, 1, -1): 6.296453936628348, (1, 0, 0, 0, 1, -1, 0, 1, -1): -4.537780246860675, (1, 0, 0, 0, 1, -1, 0, 0, -1): -0.481376535082867, (1, 0, 0, 0, 1, 0, 0, 0, -1): -3.057916462564164, (1, -1, 1, 0, -1, -1, -1, 1, 1): -0.9999932484487815, (1, -1, 1, 0, -1, -1, 0, 1, 0): -2.559761774230376, (1, -1, 1, 0, -1, 0, 0, 1, 0): -2.5477485506967636, (0, -1, 1, 0, -1, 0, 0, 1, 0): 0.8918115115485915, (-1, 1, 1, -1, 1, -1, 0, 0, 1): -1.3963999141998997, (-1, 1, 0, -1, 1, -1, 0, 0, 1): 3.5321447037307605, (-1, 1, 0, 0, 1, -1, 0, 0, 1): 0.8466305358169265, (-1, 1, 0, 0, 0, -1, 0, 0, 1): -0.16533580988011481, (-1, 1, 0, 0, 0, 0, 0, 0, 1): -3.2264910027730602, (-1, 1, 0, 0, 0, 0, 0, 0, 0): -3.271435543909393, (-1, 0, 0, -1, 1, 0, 0, 1, 0): 4.196958698905917, (0, -1, 1, 0, 1, -1, -1, 0, 1): 4.534458626536454, (0, 0, 1, 0, 1, -1, -1, 0, 1): -2.455709653038016, (0, 0, 0, 0, 1, -1, -1, 0, 1): 5.300079363660614, (0, -1, 0, 1, 0, 1, 0, -1, 0): 0.9278068348404158, (0, 0, 0, 1, 0, 1, 0, -1, 0): -2.1315612533342794, (0, 0, 1, -1, 1, -1, -1, 1, 1): -3.881569309111, (0, 0, 1, -1, 1, -1, -1, 1, 0): 5.197899124, (0, 0, 1, -1, 1, -1, 0, 1, 0): -0.4064381940000001, (0, 0, 1, -1, 1, -1, 0, 0, 0): 4.684148762610135, (0, 0, 1, -1, 1, 0, 0, 0, 0): -0.5170935092694264, (0, 0, 1, -1, 0, 0, 0, 0, 0): -0.21517369116621493, (0, 1, 0, 1, 0, -1, 0, 1, -1): -2.6396896015999998, (0, 0, 0, 1, 0, -1, 0, 1, -1): -2.2348616226228772, (-1, 0, -1, 0, 1, 0, 0, 1, 1): -2.67938275880205, (1, -1, -1, 1, 0, 1, -1, -1, 1): 4.68559, (1, -1, -1, 1, 0, 1, -1, 0, 1): -2.140806, (0, -1, -1, 1, 0, 1, -1, 0, 1): 2.8064836072, (0, -1, -1, 1, 0, 1, 0, 0, 1): -2.62901419862484, (0, -1, -1, 1, 0, 1, 0, 0, 0): 1.2073209939517677, (0, -1, 0, 1, 0, 1, 0, 0, 0): -1.4686856243817288, (1, -1, -1, 0, -1, 0, 1, 1, 0): 7.089062934444311, (1, -1, 0, 0, -1, 0, 1, 1, 0): 4.547426592104729, (1, -1, 0, 0, -1, 0, 1, 0, 0): 5.270699187097934, (1, -1, 0, 0, 0, 0, 1, 0, 0): -0.3567401847566335, (-1, -1, 1, 0, 0, 0, -1, 1, 1): 4.751193439, (0, -1, 1, 0, 0, 0, -1, 1, 1): -1.8873641718416108, (0, -1, 1, 0, 0, 0, -1, 1, 0): -1.3340656596079326, (0, -1, 1, 0, 0, 0, 0, 1, 0): -3.1404354757600395, (0, 1, 1, 1, -1, -1, 0, -1, 0): 2.853452827, (0, 1, 1, 1, -1, -1, 0, 0, 0): -0.5926531010699999, (0, 0, 1, 1, -1, -1, 0, 0, 0): 1.095343964740121, (0, 0, 1, 1, -1, 0, 0, 0, 0): -3.9481410633921055, (0, 0, 0, 1, -1, 0, 0, 0, 0): -2.0804613957582774, (1, 1, 0, -1, 1, -1, -1, 0, 0): 5.6953279000000006, (1, 1, 0, 0, 1, -1, -1, 0, 0): 2.14584752346, (0, 1, 0, 0, 1, -1, -1, 0, 0): 6.747367167331959, (0, 1, 0, 0, 1, 0, -1, 0, 0): -2.552411886834272, (1, -1, -1, -1, 0, 0, 1, 1, 0): 5.381581725719461, (1, 0, -1, -1, 0, 0, 1, 1, 0): -1.8792090140325568, (1, 0, -1, -1, 0, 0, 0, 1, 0): 0.7793910818412673, (-1, -1, 0, 1, -1, 1, -1, 1, 1): 6.12579511, (-1, -1, 0, 1, -1, 1, 0, 1, 1): -2.574406, (-1, -1, 0, 1, -1, 1, 0, 0, 1): -1.8985395783680001, (-1, 0, 0, 1, -1, 1, 0, 0, 1): -4.152709667980545, (-1, 0, 0, 0, -1, 1, 0, 0, 1): 3.8731371200579767, (-1, 1, -1, 1, 0, 1, -1, 1, -1): 6.5132155990000005, (-1, 1, -1, 1, 0, 1, -1, 1, 0): -1.1344059999999998, (-1, 1, -1, 0, 0, 1, -1, 1, 0): 0.6210568, (-1, 1, -1, 0, 0, 1, 0, 1, 0): -2.365551347949765, (-1, 1, -1, 0, 0, 1, 0, 0, 0): -1.3656230644293201, (-1, 1, 0, 0, 0, 1, 0, 0, 0): -3.665967898621391, (1, 0, -1, -1, -1, 1, 1, 1, -1): -0.9999999999999996, (1, 0, -1, 0, -1, 1, 1, 1, -1): -1.6953618511138537, (1, 0, -1, 0, -1, 1, 0, 1, -1): -2.2047798560262883, (1, 0, -1, 0, -1, 1, 0, 1, 0): -5.0599279872262715, (1, 0, 1, -1, 0, 0, -1, 0, 0): 6.134657330001024, (1, 0, 1, 0, 0, 0, -1, 0, 0): 1.7083263109232687, (0, 0, 1, 0, 0, 0, -1, 0, 0): -0.26705472957066817, (-1, 1, -1, 1, 0, 0, 1, 1, -1): -7.4581341716709995, (-1, 0, -1, 1, 0, 0, 1, 1, -1): -5.2105724792000006, (0, 0, -1, 1, 0, 0, 1, 1, -1): -4.0420505980042165, (0, 0, -1, 0, 0, 0, 1, 1, -1): -4.215582429602919, (0, 0, 0, 1, 1, 0, -1, 0, 0): -3.184683022608626, (-1, 0, 0, 1, -1, -1, 0, 1, 1): 4.0441179889, (-1, 0, 0, 1, -1, 0, 0, 1, 1): -0.671634925313617, (-1, 0, 0, 1, -1, 0, 0, 1, 0): -4.055780790279527, (0, 0, 0, 1, -1, 0, 0, 1, 0): -3.578653006695676, (-1, -1, 1, 1, 1, -1, -1, 1, 0): -0.9999999999999996, (0, -1, 1, 1, 1, -1, -1, 1, 0): -1.6617017207736033, (0, -1, 1, 1, 0, -1, -1, 1, 0): -2.086848181530307, (0, -1, 1, 1, 0, 0, -1, 1, 0): -2.329113279642925, (0, -1, 0, 1, 0, 0, 0, 1, 0): -3.0254775165059034, (0, -1, 0, 1, 0, 0, 0, 0, 0): -1.2493256566456963, (-1, -1, 1, 1, 0, 1, 1, -1, -1): 8.146979811148158, (0, -1, 1, 1, 0, 1, 1, -1, -1): 0.04495399999999994, (0, -1, 1, 1, 0, 1, 0, -1, -1): 0.26675199999999977, (0, -1, 1, 1, 0, 1, 0, 0, -1): -1.7665907159999996, (0, -1, 1, 0, 0, 1, 0, 0, -1): 0.8202841039425264, (0, 0, 1, 0, 0, 1, 0, 0, -1): -3.9566970587905383, (-1, -1, 1, 1, -1, 0, 1, 0, 1): -4.0237293357462605, (-1, -1, 1, 0, -1, 0, 1, 0, 1): 7.826853831347527, (-1, 0, 1, 0, -1, 0, 1, 0, 0): 0.5673028311382009, (-1, 0, 1, 0, 0, 0, 1, 0, 0): 0.4516031543734448, (-1, 1, -1, 1, 1, -1, 0, -1, 1): -0.9999999999999996, (-1, 1, -1, 1, 1, -1, 0, 0, 1): -1.2366426113771494, (-1, 1, -1, 1, 1, -1, 0, 0, 0): 5.476548826850303, (0, 1, -1, 1, 1, -1, 0, 0, 0): -7.2326796498913755, (0, 0, -1, 1, 1, -1, 0, 0, 0): -3.0105610827792026, (0, 0, 0, 1, 1, -1, 0, 0, 0): -2.4863245375947836, (1, 1, -1, -1, 0, 0, 0, 1, -1): 3.950401321, (1, 1, 0, -1, 0, 0, 0, 1, -1): 2.3382711267, (1, 1, 0, 0, 0, 0, 0, 0, -1): -2.896938703539255, (0, -1, 1, 1, 0, 1, 0, -1, 0): -3.403100413954, (0, 0, -1, 1, -1, 1, 1, 0, -1): 4.13729383267, (0, 0, -1, 1, -1, 1, 1, 0, 0): -3.463449724160878, (0, 0, -1, 1, -1, 0, 1, 0, 0): 7.2595901301358925, (-1, 0, -1, 1, 0, 1, 1, 1, -1): -7.4581341716709995, (-1, 0, -1, 1, 0, 1, 0, 1, -1): -0.4616864000000003, (-1, 0, -1, 1, 0, 1, 0, 1, 0): -4.997015653513947, (-1, 0, -1, 0, 0, 1, 0, 1, 0): -2.9397505622196514, (-1, 0, 0, 0, 0, 1, 0, 1, 0): -3.0595743120851324, (0, -1, 1, -1, 0, 1, 0, 1, -1): -0.8543458101000001, (0, 0, 1, -1, 0, 1, 0, 1, -1): -2.974945274976927, (0, 0, 0, -1, 0, 1, 0, 1, -1): -1.3872785790541, (1, -1, 1, 1, 0, 1, -1, 0, -1): -3.83493187, (0, -1, 1, 1, 0, 1, -1, 0, -1): 2.20356819793, (0, 0, 1, 1, 0, 1, -1, 0, -1): -6.495405613895132, (0, 0, 1, 0, 0, 1, -1, 0, -1): -4.011471114873768, (0, 0, 1, 0, 0, 1, -1, 0, 0): -3.875849369454447, (-1, 1, 1, -1, -1, 1, 1, -1, 0): 9.418502629969598, (-1, 1, 1, 0, -1, 1, 1, -1, 0): -6.758391291717058, (-1, 1, 1, 0, -1, 0, 1, -1, 0): -2.7738776121571247, (-1, 1, 1, 0, -1, 0, 1, 0, 0): -8.32400200505516, (-1, 1, 0, 0, -1, 0, 1, 0, 0): -2.0322307177219168, (-1, 1, 0, 0, 0, 0, 1, 0, 0): -3.140327440910429, (0, 0, -1, 1, 1, 0, -1, 1, -1): 5.354405218, (0, 0, -1, 1, 1, 0, -1, 1, 0): 2.73287980577616, (0, 0, -1, 0, 1, 0, -1, 1, 0): 8.253624759094414, (-1, 1, -1, -1, 0, 0, 0, 1, 1): 2.7829, (0, 1, -1, -1, 0, 0, 0, 1, 1): 1.9654539504, (0, 0, -1, -1, 0, 0, 0, 1, 1): 4.697713576358964, (0, 0, -1, 0, 0, 0, 0, 1, 1): 0.8303128012190123, (0, 0, -1, 0, 0, 0, 0, 0, 1): 0.6021479836559898, (1, 1, 0, 0, -1, -1, 1, -1, 1): -7.854886637403972, (1, 1, 0, 0, -1, -1, 1, -1, 0): 4.124026924120001, (0, 1, 0, 0, -1, -1, 1, 0, 0): -3.6697130787992522, (-1, 0, 0, 1, -1, 1, 0, 1, 0): -5.3327976141304, (-1, 0, 0, 1, 0, 0, 0, 1, 0): -3.705103351061912, (1, 1, 0, 0, -1, -1, 0, -1, 1): 1.4528673315999998, (1, 1, 0, 0, 0, -1, 0, -1, 1): 1.69889201826, (1, 1, 0, 0, 0, -1, 0, -1, 0): 3.9903671236545506, (1, 1, 0, 0, 0, -1, 0, 0, 0): -1.8550959940505733, (1, 0, 1, 0, -1, 1, -1, -1, 0): 6.70871185195429, (1, 0, 1, 0, 0, 1, -1, -1, 0): -3.712854709425687, (1, 1, 0, 0, 0, 0, -1, 0, -1): 3.0967601435704815, (1, 1, 0, 0, 0, 0, -1, 0, 0): 0.4028929625117469, (-1, -1, 1, 1, 0, 1, 1, 0, -1): -2.4381952806000005, (-1, -1, 0, 1, 0, 1, 1, 0, -1): 3.7996123794688, (0, 0, 0, 0, 0, 1, 1, 0, -1): -2.5845004200741526, (1, -1, -1, -1, 0, 1, -1, 1, 1): 8.649148282327008, (1, 0, -1, -1, 0, 1, -1, 1, 1): -3.196263574, (0, 0, -1, -1, 0, 1, -1, 1, 1): -3.5553028503680006, (0, 0, -1, 0, 0, 1, -1, 0, 1): -0.38089810935290447, (0, 0, 1, 1, -1, 1, 1, -1, -1): -7.17570463519, (0, 0, 1, 1, -1, 1, 0, -1, -1): -5.9665073373368, (0, 0, 1, 1, 0, 1, 0, -1, -1): -4.575782927206, (0, 0, 1, 0, 0, 1, 0, -1, -1): -5.5535225039183675, (0, 0, 1, 0, 0, 0, 0, -1, 0): -0.18671700357208854, (1, -1, 1, -1, 1, 1, -1, -1, 0): 9.202335569231275, (1, -1, 1, -1, 1, 1, 0, -1, 0): 4.999369098020006, (1, -1, 1, -1, 0, 1, 0, -1, 0): 2.6534529279999997, (1, -1, 1, 0, 0, 1, 0, -1, 0): -3.6807947230196945, (1, -1, 0, 0, 0, 1, 0, -1, 0): -0.9622254399178398, (1, 0, 0, 0, 0, 1, 0, -1, 0): -2.175736765085927, (1, 1, -1, -1, 0, 1, -1, 1, -1): 7.941088679053509, (1, 1, -1, -1, 0, 1, -1, 1, 0): -0.4852032599999999, (1, 1, -1, 1, 1, 0, -1, 0, -1): -6.12579511, (1, 0, -1, 1, 1, 0, -1, 0, -1): 6.7082257840353705, (1, 0, -1, 1, 0, 0, -1, 0, 0): 0.7949666456531492, (1, 0, 0, 1, 0, 0, -1, 0, 0): -4.962775438223919, (-1, 1, 1, 1, 0, 1, 0, -1, -1): -6.8618940391, (-1, 1, 0, 1, 0, 1, 0, -1, -1): 2.5020892000000003, (-1, 0, 1, 0, 0, 1, 0, 1, -1): -6.347421602981155, (-1, 0, 0, 0, 0, 1, 0, 1, -1): -0.21698236769546259, (0, 1, 1, -1, 1, 0, -1, -1, 0): 8.28044164951211, (0, 1, 1, 0, 1, 0, -1, -1, 0): -6.8595852394143675, (0, 0, 1, 0, 1, 0, -1, -1, 0): -2.1876311643482684, (0, 0, 1, 1, 0, 0, -1, 0, -1): -3.08537564510552, (0, 0, 1, 1, 0, 0, 0, 0, -1): -1.8757851027299721, (-1, 1, -1, -1, 0, 1, 1, 1, -1): 9.113706188034751, (-1, 1, -1, 0, 0, 1, 1, 1, -1): -3.156990461480854, (-1, 1, -1, 0, 0, 1, 0, 1, -1): 3.8379088, (0, 0, 0, -1, 1, 0, -1, 1, 0): 6.8522922276907385, (0, -1, 1, 1, 0, 0, 0, -1, 0): -1.8036250321166887, (1, 0, 0, 0, 0, -1, 0, 0, 0): -0.4300758904319179, (1, -1, 1, -1, 0, 1, -1, 1, 0): -1.0413851687, (1, -1, 1, -1, 0, 1, -1, 0, 0): 3.255831495490138, (1, -1, 1, -1, 0, 1, 0, 0, 0): -0.5164849434442814, (1, -1, 1, -1, 0, 0, 0, 0, 0): 2.1400175150269063, (1, -1, 1, 0, 0, 0, 0, 0, 0): -2.7447666435533145, (0, -1, 1, 0, 0, 0, 0, 0, 0): -0.8805072191264794, (1, -1, 0, 0, 0, 0, 1, 0, -1): 6.52339740022543, (1, 0, 0, 0, 0, 0, 1, 0, -1): 1.5956284255736224, (0, -1, -1, 0, 1, -1, 1, 0, 1): 4.273716839190845, (0, -1, -1, 0, 1, 0, 1, 0, 1): -3.5301086441932226, (0, -1, -1, 0, 1, 0, 1, 0, 0): 1.3998676412192201, (1, 0, -1, 0, 0, 0, 1, 0, -1): 3.9124573151885222, (-1, 0, 1, 0, -1, 0, 1, 1, 0): -2.940457103489774, (-1, 0, 1, 0, -1, 0, 0, 1, 0): -1.7292085487955937, (-1, 1, -1, 1, 0, 1, -1, -1, 1): 8.649148282327008, (-1, 1, -1, 1, 0, 1, -1, 0, 1): -3.5890146406000003, (-1, 1, -1, 0, 0, 1, -1, 0, 1): -2.3522912000000002, (0, 1, -1, 0, 0, 1, -1, 0, 1): -3.0371698317915996, (-1, 1, -1, 1, -1, 1, 0, 1, 0): -7.712320754503899, (-1, 0, -1, 1, -1, 1, 0, 1, 0): -5.2105724792000006, (-1, 0, -1, 1, 0, 0, 0, 1, 0): -5.175116427095007, (0, 0, -1, 1, 0, 0, 0, 1, 0): -3.980265532052915, (1, 1, -1, 0, 0, 0, -1, 1, 0): -2.204844399680666, (1, 0, -1, 0, 0, 0, -1, 1, 0): -0.9623576767974291, (1, -1, -1, -1, -1, 1, 0, 1, 1): 8.649148282327008, (1, -1, -1, 0, -1, 1, 0, 1, 1): -4.012283104711894, (1, -1, -1, 0, -1, 0, 0, 1, 1): 4.17629542931661, (1, -1, 0, 0, -1, 0, 0, 1, 1): -2.8644946181092106, (1, -1, 0, 0, -1, 0, 0, 0, 1): -3.413766845066845, (1, -1, 0, 0, 0, 0, 0, 0, 1): -2.3758550914869594, (-1, 0, -1, 1, 0, 1, -1, 1, 1): -6.8618940391, (-1, 0, -1, 1, 0, 0, -1, 1, 1): -5.286876612349968, (-1, 0, -1, 1, 0, 0, 0, 1, 1): -5.780262380403092, (-1, 1, 0, -1, 0, -1, 0, 1, 1): 3.7188988210000002, (-1, 1, 0, 0, 0, -1, 0, 1, 1): 2.230083880107054, (-1, 0, 0, 0, 0, -1, 0, 1, 1): 2.594854489242244, (-1, 0, 0, 0, 0, 0, 0, 1, 1): -3.5264312472547337, (-1, 1, 0, 1, -1, 1, -1, -1, 1): 9.01522909781639, (-1, 1, 0, 1, -1, 1, 0, -1, 1): -1.3592393562209495, (-1, 1, 0, 0, -1, 1, 0, -1, 1): 2.877112918, (-1, 1, 0, 0, 0, 1, 0, -1, 1): -1.1722483464397977, (-1, 1, 0, 0, 0, 0, 0, -1, 1): -2.1938418496995196, (-1, 1, -1, 1, 1, 0, 0, -1, 0): 6.636529501767022, (-1, 1, 0, 1, 1, 0, 0, -1, 0): -2.532059773956181, (-1, 1, 0, 0, 1, 0, 0, -1, 0): -2.770538734568309, (0, 0, 0, 1, 0, 0, 1, -1, -1): 4.709732924344931, (0, 0, -1, 1, 0, 0, -1, 1, 1): -5.56201514674, (-1, 1, 1, 0, 0, -1, 0, 1, -1): 3.1633460199999996, (-1, 1, 1, 0, 0, -1, 0, 1, 0): -0.43714972406370023, (-1, 1, 1, 0, 0, -1, 0, 0, 0): 0.14581956152968784, (0, -1, -1, 0, 0, 0, 1, 0, 1): 3.2070129799709965, (0, 0, -1, 0, 0, 0, 1, 0, 1): 2.4688238535218554, (-1, 1, -1, 0, 0, 0, 1, 1, -1): 1.4688804889000002, (-1, 1, 0, 0, 0, 0, 1, 1, -1): -3.2652777838127447, (-1, 1, 0, 0, 0, 0, 1, 0, -1): -1.0385663119537942, (-1, 1, 0, -1, 0, 1, 1, 1, -1): -2.20807699894, (-1, 1, 0, -1, 0, 1, 1, 0, -1): 0.7632131071999997, (-1, 1, 0, -1, 0, 1, 1, 0, 0): -0.3623236379065313, (-1, 1, 0, -1, 0, 1, 0, 0, 0): -2.762017886758712, (0, 1, 0, -1, 0, 1, 0, 0, 0): -3.840483877630461, (-1, 1, 0, 1, -1, -1, -1, 1, 1): -0.9929303495098489, (-1, 1, 0, 1, 0, -1, -1, 1, 1): -0.7075580708028102, (-1, 0, 0, 1, 0, -1, -1, 1, 1): -1.4585947716683119, (-1, 0, 0, 1, 0, 0, -1, 1, 1): -4.172285336293842, (-1, 0, 0, 1, 0, 0, -1, 1, 0): -0.6675570849336456, (-1, 1, 1, -1, -1, 1, 0, 1, 0): -6.5132155990000005, (-1, 1, 1, -1, -1, 0, 0, 1, 0): -3.2760800000000003, (-1, 1, 1, -1, 0, 0, 0, 1, 0): -3.771617591554714, (-1, 1, 1, -1, 0, 0, 0, 0, 0): -4.025706949376769, (-1, 1, 1, 0, 0, 0, 0, 0, 0): -3.1545988116818195, (-1, 1, 1, 1, 1, 0, -1, -1, 0): -8.511079289027396, (-1, 0, 1, 1, 1, 0, -1, -1, 0): 5.299130035625188, (0, 0, -1, -1, 0, 0, 1, 1, 0): 4.0368363322304806, (0, 0, 0, -1, 0, 0, 1, 1, 0): 0.7122236014733968, (1, 0, -1, 0, -1, 0, 0, 1, 1): -2.1092872958054083, (-1, 1, 1, 1, 1, -1, -1, 0, -1): 9.797244404095547, (-1, 1, 1, 1, 1, -1, 0, 0, -1): 5.343486065210926, (-1, 0, 1, 1, 1, -1, 0, 0, -1): 8.520921505758185, (-1, 0, 1, 1, 1, -1, 0, 0, 0): -2.500050058658607, (-1, 0, 1, 1, 0, -1, 0, 0, 0): -1.5803364899245826, (-1, 0, 1, 1, 0, 0, 0, 0, 0): -2.0084050644563405, (0, 0, 1, -1, 1, -1, 0, 1, -1): 4.18987, (0, 0, 1, -1, 1, 0, 0, 1, -1): 3.8820733583423306, (0, 0, 0, -1, 1, 0, 0, 1, -1): 6.181065492108412, (0, 0, 0, -1, 1, 0, 0, 0, 0): -0.47524962350229566, (1, 0, 0, -1, 0, -1, -1, 1, 1): 2.827, (1, 0, 0, -1, 0, 0, -1, 1, 1): -1.5035864043247105, (0, 0, 0, -1, 0, 0, -1, 1, 1): -4.073080258882026, (0, 1, -1, -1, 1, 1, 1, -1, -1): -0.9999999911553294, (0, 1, 0, -1, 1, 1, 1, -1, -1): -0.43162213946262556, (0, 1, 0, -1, 1, 0, 1, -1, -1): 5.558046108367503, (0, 1, 0, -1, 1, 0, 1, 0, -1): 2.482587076346965, (0, 1, 0, -1, 0, 0, 1, 0, -1): 0.3529635697043666, (1, -1, 0, 1, 0, 0, 0, 0, -1): 4.801519704276178, (1, -1, 0, 1, 0, 0, 0, 0, 0): -0.028952904841407, (1, -1, 0, -1, 1, 1, 1, -1, -1): 9.65663161797075, (1, -1, 0, -1, 1, 1, 1, 0, -1): 0.2041777563928533, (1, -1, 0, -1, 0, 1, 1, 0, -1): -0.7543653169433295, (1, -1, 0, 0, 0, 1, 1, 0, -1): -0.7871812515905915, (0, -1, 1, -1, -1, 1, 1, 0, 0): 3.41937217801, (0, 0, 1, -1, -1, 1, 0, 0, 0): 7.508339328731994, (0, 0, 1, 0, -1, 1, 0, 0, 0): -3.4668449903422465, (0, 1, -1, 1, -1, 0, 1, 1, -1): -8.649148282327008, (0, 1, -1, 0, -1, 0, 1, 1, -1): -7.225980065723636, (0, 1, 0, 0, -1, 0, 1, 1, -1): -9.133782439869771, (0, 1, 0, 0, -1, 0, 1, 0, -1): -0.2749676216922068, (0, 1, 0, 0, -1, 0, 1, 0, 0): -3.4061314866107564, (0, 1, 0, 0, -1, 0, 0, 0, 0): -2.2311439688463284, (-1, 0, 0, 0, 1, 0, 0, 0, 1): -3.022224976501169, (-1, 1, -1, 1, 0, -1, 1, -1, 1): -0.9721871610556306, (-1, 1, -1, 1, 0, -1, 1, 0, 1): 0.757703827, (-1, 1, -1, 0, 0, -1, 1, 0, 1): 1.24613169, (-1, 1, -1, 0, 0, 0, 1, 0, 1): 0.04708470393699993, (1, 0, -1, -1, 1, 0, -1, 1, 0): 5.750302518999999, (1, 0, -1, -1, 1, 0, 0, 1, 0): 3.7732672793934645, (0, -1, 1, 0, 0, 0, 1, -1, 1): -0.16183000000000014, (0, -1, 0, 0, 0, 0, 1, -1, 1): 0.9960298602896474, (0, 0, 0, 0, 0, 0, 1, -1, 1): -2.845642710523599, (0, 0, 0, 0, 0, 0, 0, -1, 1): -0.04558858958509876, (1, 1, 0, -1, 0, 0, -1, -1, 1): 1.5961999999999998, (1, 1, 0, -1, 0, 0, -1, 0, 1): 1.3834687660719807, (1, 1, 0, 0, 1, 0, -1, -1, 0): -2.8190893063055134, (1, 0, 0, 0, 1, 0, -1, -1, 0): 2.4529507663135153, (1, 0, 0, 0, 1, 0, 0, -1, 0): 0.32904880502678213, (0, 0, 1, 0, 0, -1, 1, -1, 0): 5.8073449114784195, (0, 0, 1, 0, 0, 0, 1, -1, 0): -1.0526390650868336, (0, -1, 0, 1, 0, 1, -1, 0, 0): 3.407364882882012, (-1, 1, -1, 1, -1, -1, 0, 1, 1): 7.941088679053509, (-1, 1, -1, 1, -1, 0, 0, 1, 1): -5.8592981956753425, (-1, 1, -1, 1, -1, 0, 0, 0, 1): -2.046061763671724, (-1, 1, 0, 1, -1, 0, 0, 0, 1): -3.215824652926019, (-1, 1, 0, 0, -1, 0, 0, 0, 1): -1.5709314474397607, (0, 1, 0, 0, -1, 0, 0, 0, 1): -3.181058199077999, (1, 0, -1, -1, 0, 1, -1, 0, 1): 2.895687379, (1, 0, 0, -1, 0, 1, -1, 0, 1): 1.41849375, (0, 0, 0, -1, 0, 1, -1, 0, 1): 4.455864727599627, (0, 0, 0, -1, 0, 1, 0, 0, 1): -1.80678635756448, (1, 0, 1, 0, 0, -1, 0, 0, -1): 6.55858300392755, (1, 0, 1, 0, 0, 0, 0, 0, -1): -0.10766989011297645, (-1, -1, 0, -1, 1, 0, 1, 1, 0): 5.937440852033344, (-1, -1, 0, 0, 1, 0, 1, 1, 0): -4.5120086868063005, (-1, -1, 0, 0, 1, 0, 1, 0, 0): 2.064204528787669, (0, -1, 1, -1, -1, 1, 1, 1, -1): -0.947665236697264, (0, -1, 1, -1, -1, 1, 1, 1, 0): 1.1760760128699999, (0, -1, 1, -1, -1, 0, 1, 1, 0): -0.08380597003029941, (0, -1, 1, 0, -1, 0, 1, 1, 0): -2.028165845412918, (-1, 1, 0, 0, 1, -1, 1, -1, 0): 5.990308436740613, (-1, 1, 0, 0, 1, -1, 1, 0, 0): 4.009614107038667, (-1, 1, 0, 0, 1, -1, 0, 0, 0): 8.013476632812367, (0, 1, 1, -1, -1, 1, 1, -1, 0): 5.4682237128208495, (0, 1, 1, -1, -1, 0, 1, -1, 0): 3.6883946548688002, (0, 1, 1, -1, -1, 0, 1, 0, 0): -5.277893132612441, (0, 1, 0, -1, -1, 0, 1, 0, 0): -2.3727203784872475, (0, 0, 0, 0, 1, -1, 0, 1, -1): 7.818218612440703, (0, 0, 0, 0, 1, -1, 0, 1, 0): -0.42237605377712895, (-1, -1, 0, 1, 1, -1, 0, 1, 1): -7.820653457987845, (-1, -1, 0, 0, 1, -1, 0, 1, 1): 4.937454587646969, (0, -1, 0, 0, 1, -1, 0, 1, 1): 1.14477266744754, (0, -1, 0, 0, 1, -1, 0, 0, 1): 6.686435551988621, (0, 1, -1, -1, 1, -1, 1, -1, 1): 9.113706188034751, (0, 1, -1, -1, 1, 0, 1, -1, 1): -0.3684615537391623, (0, 0, -1, -1, 1, 0, 1, -1, 1): 5.983387476421324, (0, 0, -1, -1, 1, 0, 1, 0, 1): 3.107118985524859, (0, 0, -1, -1, 0, 0, 1, 0, 1): 8.036729126609531, (0, 0, 0, -1, 0, 0, 1, 0, 1): -0.3461020811477803, (1, -1, 0, -1, -1, 1, -1, 1, 1): 9.01522909781639, (1, -1, 0, -1, 0, 1, -1, 1, 1): 2.811354, (1, -1, 0, -1, 0, 0, -1, 1, 1): 4.9105319636800004, (1, -1, 0, 0, 0, 0, -1, 1, 1): -1.843574190625955, (1, -1, 0, 0, 0, 0, -1, 1, 0): -1.0318055071568917, (-1, 0, -1, 0, 1, 1, -1, 1, 1): -8.332281830033342, (-1, 0, -1, 0, 1, 1, -1, 1, 0): 2.6782108469200003, (0, 0, -1, 0, 1, 1, -1, 1, 0): 1.8728210762452862, (0, 0, -1, 0, 0, 1, -1, 1, 0): -1.9503997373905797, (0, 1, -1, -1, 0, 0, -1, 1, 1): 3.2928309999999996, (0, 1, 0, -1, 0, 0, -1, 1, 1): -3.14075070354, (0, 1, -1, -1, 1, 0, -1, 0, 1): 5.705492845891509, (0, 1, -1, 0, 1, 0, -1, 0, 1): 3.6896281978595447, (-1, 1, -1, 1, -1, 1, 0, 0, 1): -8.600108176664417, (-1, 1, -1, 0, -1, 1, 0, 0, 1): -2.3759386612838975, (-1, 1, 0, 0, -1, 1, 0, 0, 1): -1.5400720992045112, (0, -1, -1, 0, 1, -1, 0, 1, 1): 2.7057951100000004, (0, 0, -1, 0, 1, -1, 0, 1, 1): 3.0304683502386, (0, 0, -1, 0, 1, 0, 0, 0, 1): -3.066777023772249, (-1, 1, 0, -1, 1, 1, 1, -1, -1): 9.93637314558864, (0, 0, 0, -1, 1, 1, 1, -1, -1): 4.457164478102895, (0, 0, 0, -1, 1, 1, 1, -1, 0): -0.16865300573662156, (0, 0, 0, -1, 1, 1, 0, -1, 0): 2.2908334325625197, (0, -1, 1, 1, 0, -1, 1, -1, 1): 1.1135130000000002, (0, -1, 1, 1, 0, -1, 0, -1, 1): 0.2839999999999998, (0, -1, 1, 1, 0, 0, 0, -1, 1): -3.1972238047, (0, -1, 1, 0, 0, 0, 0, -1, 1): 3.539867373108226, (0, -1, 1, 0, 0, 0, 0, 0, 1): -0.850841578178596, (0, -1, 0, 0, 0, -1, 1, 0, 1): 6.039467095027334, (1, 1, -1, -1, 1, 1, -1, -1, 0): 9.721871610556308, (1, 1, -1, -1, 1, 1, -1, 0, 0): 5.099432188218006, (1, 1, -1, -1, 0, 1, -1, 0, 0): -0.3852143136572805, (1, 1, 0, -1, 0, 1, -1, 0, 0): -1.2652641560000004, (1, 1, 0, -1, 0, 0, -1, 0, 0): 5.132042725660562, (1, -1, 0, -1, -1, 1, 1, 0, 1): -4.089743769875665, (1, -1, 0, -1, -1, 1, 1, 0, 0): -0.863455193537418, (1, -1, 0, -1, 0, 1, 1, 0, 0): -0.6468893205277512, (1, -1, 0, -1, 0, 1, 0, 0, 0): -0.041698082664999636, (1, 0, 0, -1, 0, 1, 0, 0, 0): -1.9598418947084568, (-1, 1, -1, 0, 0, 1, 1, 0, -1): -1.719102924098663, (-1, -1, 1, 0, -1, 1, 0, 1, 0): 2.918291338, (0, -1, 1, 0, 0, 1, 0, 0, 0): -0.003147198539650675, (0, -1, 0, 0, 1, 0, 1, 0, -1): 8.212361222502881, (-1, 1, 1, 1, 1, -1, 0, -1, -1): 9.618479575523054, (-1, 1, 1, 1, 1, -1, 0, -1, 0): -1.6869375798297743, (-1, 1, 1, 1, 0, -1, 0, -1, 0): -0.7191313820292001, (0, 1, 1, 1, 0, -1, 0, -1, 0): 0.09721119235420389, (0, 1, 0, 1, 0, -1, 0, -1, 0): -0.6041149616828103, (0, 1, 0, 1, 0, 0, 0, -1, 0): -1.0868527698318564, (-1, 0, 1, 1, 0, 1, 1, -1, -1): -2.4602383000000003, (-1, 0, 1, 1, 0, 0, 1, -1, -1): 1.945594252, (-1, 0, 1, 1, 0, 0, 1, -1, 0): -3.228063726627174, (-1, 0, 1, 0, 0, 0, 1, -1, 0): 7.36939232821774, (1, 1, -1, 0, 1, 1, 0, -1, -1): -8.706117308532823, (1, 1, -1, 0, 0, 1, 0, -1, -1): -2.559112357161, (1, 1, -1, 0, 0, 1, 0, 0, -1): -5.314564707718297, (1, 0, -1, 0, 0, 1, 0, 0, -1): 1.0004295030380665, (1, 0, -1, 0, 0, 0, -1, 1, 1): -5.584121089154071, (0, 0, 1, 1, -1, 0, 1, -1, -1): 2.0993877467199997, (0, 0, 1, 1, 0, 0, 1, -1, -1): 2.2136551191301432, (0, 0, 1, 0, 0, 0, 1, -1, -1): 1.6750544096777729, (1, 1, 0, 0, 0, -1, 0, 0, -1): 1.0703498881829676, (1, -1, 1, 0, -1, -1, 1, 1, 0): -5.948451620399195, (0, -1, 1, 0, -1, -1, 1, 1, 0): 5.423676518440001, (0, -1, 1, 0, 0, -1, 1, 1, 0): 3.492696121430046, (0, -1, 0, 0, 0, -1, 1, 1, 0): 4.751954240801302, (0, 1, 0, -1, -1, 0, 1, 0, 1): -3.3905442289699157, (0, 1, 0, -1, -1, 0, 0, 0, 1): -1.8343659391867415, (1, -1, 0, 0, 0, 0, 1, -1, 1): -3.0248462178640003, (1, -1, 0, 0, 0, 0, 1, -1, 0): 4.771633204486303, (1, -1, -1, 1, 1, -1, -1, 1, 0): 9.353891811077332, (1, -1, -1, 1, 1, -1, 0, 1, 0): -3.814248534940001, (1, 0, -1, 1, 1, -1, 0, 0, 0): -4.779674978089874, (1, 0, -1, 1, 0, -1, 0, 0, 0): 2.7988384725188413, (-1, 0, -1, 1, -1, 1, 0, 1, 1): -8.649148282327008, (-1, 0, -1, 0, -1, 1, 0, 1, 1): 4.878727173983344, (0, 0, -1, 0, -1, 1, 0, 1, 1): -6.053544649604225, (0, 0, -1, 0, -1, 0, 0, 1, 1): 7.770414169869023, (0, 0, -1, -1, 1, 1, -1, 0, 1): 6.970863228876413, (0, 0, 0, -1, 1, 1, -1, 0, 1): -5.825052500994708, (-1, 1, 0, 1, 0, 1, -1, -1, 1): 4.11713642346, (-1, 0, 0, 1, 0, 1, -1, -1, 1): 4.17565112, (0, 0, 0, 1, 0, 1, -1, -1, 1): 0.7597481519724, (0, 0, 0, 0, 0, 1, -1, -1, 1): 4.138034276407474, (1, -1, 0, 1, -1, 1, -1, 1, -1): -0.9999999999995579, (1, -1, 0, 1, -1, 1, -1, 1, 0): -5.716388315103152, (1, -1, 0, 0, -1, 1, -1, 1, 0): -1.260767478000747, (1, -1, 0, 0, 0, 1, -1, 1, 0): -1.62761964393433, (0, 0, 1, -1, -1, 1, 1, 1, -1): -5.1052271420917705, (0, 0, 1, -1, -1, 0, 1, 1, -1): -4.77427977770471, (0, 0, 1, -1, 0, 0, 1, 1, -1): -2.124228550593, (0, 0, 1, -1, 0, 0, 1, 0, -1): 5.635578836724967, (1, -1, -1, -1, 1, -1, 1, 1, 0): 9.113706188034751, (1, -1, -1, 0, 1, -1, 1, 1, 0): -5.482196163835343, (1, -1, -1, 0, 1, -1, 1, 0, 0): 7.571393785723075, (1, -1, 0, 0, 1, -1, 1, 0, 0): 1.5269700156000001, (1, -1, 0, 0, 1, -1, 0, 0, 0): 6.937096515346097, (0, 1, 1, 0, -1, 1, 0, 0, -1): -7.240073415754252, (0, 1, 1, 0, 0, 0, 0, 0, -1): 0.2514957048192886, (0, 1, -1, 1, -1, -1, 1, -1, 1): 9.866972053527089, (0, 1, -1, 1, -1, 0, 1, -1, 1): 0.20229071588501746, (0, 1, -1, 1, -1, 0, 0, -1, 1): -1.0708895364200004, (0, 1, -1, 1, 0, 0, 0, -1, 1): -0.15555101308279626, (0, 0, -1, 1, 0, 0, 0, -1, 1): -1.3779593343801735, (0, 1, 0, -1, -1, 1, 0, 0, 1): -1.0013472420018528, (0, 0, 0, -1, -1, 1, 0, 0, 1): 4.3494804314370334, (1, 1, 0, -1, 1, 1, -1, 0, -1): -5.034475145126175, (0, 1, 0, -1, 1, 1, -1, 0, -1): 2.917899136, (0, 1, 0, 0, 1, 1, -1, 0, -1): -3.5439740710660006, (1, 0, 0, 1, 1, -1, 0, 0, -1): -7.24565786507584, (0, 0, 0, 1, 1, -1, 0, 0, -1): -2.7680995934390653, (0, 1, 1, -1, -1, 0, 0, 1, -1): 2.4948721000000003, (0, 1, 1, 0, -1, 0, 0, 1, -1): -4.80904269806166, (0, 1, 0, 0, -1, 0, 0, 1, -1): -4.882106740330214, (0, 1, 0, 0, -1, 0, 0, 1, 0): -4.4632116943529585, (1, -1, -1, 0, 0, 1, -1, 1, 1): -4.6194342655018765, (1, -1, -1, 0, 0, 0, -1, 1, 1): 0.8425669849474926, (1, -1, -1, 0, 0, 0, 0, 1, 1): 0.8031006198501001, (1, -1, -1, 0, 0, 0, 0, 1, 0): 1.8759483244763484, (1, 1, 0, 0, -1, -1, 0, 1, -1): 2.723851, (1, 1, 0, 0, 0, -1, 0, 1, -1): -0.6105912600000001, (0, 1, 0, 0, 0, -1, 0, 1, -1): 3.8783965033134433, (0, 1, 0, 0, 0, 0, 0, 1, -1): -3.1097925097955903, (1, 0, 1, 1, 0, -1, 0, -1, -1): 6.12579511, (1, 0, 1, 1, 0, -1, 0, 0, -1): 3.026444853032106, (1, 0, 1, 0, 0, -1, 0, 0, 0): 0.8384651464780727, (1, -1, 1, 1, 0, 1, 0, -1, -1): -6.5132155990000005, (1, -1, 0, 1, 0, 1, 0, -1, -1): 2.310508, (1, 1, -1, -1, 1, 0, 0, 0, -1): 8.119431189594657, (1, 1, -1, 0, 1, 0, 0, 0, -1): -7.467384446275592, (1, 0, -1, 0, 1, 0, 0, 0, -1): -3.052115566501701, (0, 0, -1, 0, -1, 1, 1, 1, -1): -1.5481839672229194, (0, 0, 0, 0, -1, 1, 1, 1, -1): -8.611282798232228, (0, 0, 0, 0, -1, 1, 1, 0, -1): -2.941967463542539, (1, 0, 1, 0, 0, -1, 1, -1, -1): 5.6953279000000006, (1, 0, 1, 0, 0, -1, 1, -1, 0): 3.0701927399999995, (1, 0, 1, 0, 0, -1, 0, -1, 0): 6.596829889208415, (-1, 1, -1, 1, 1, -1, 1, 0, 0): -8.049720365278247, (-1, 1, -1, 1, 0, -1, 1, 0, 0): -0.9813078760000004, (-1, 1, 0, 1, 0, -1, 1, 0, 0): -3.1388700159012726, (-1, 0, 0, 1, 0, -1, 1, 0, 0): -1.8251130500701802, (1, 0, 1, 0, 0, 0, 0, -1, -1): 3.944112839963486, (0, -1, -1, 0, 0, 1, 1, 1, 0): -3.23963189317273, (0, -1, -1, 0, 0, 1, 1, 0, 0): -1.3803468737087432, (0, -1, 0, 0, 0, 1, 1, 0, 0): -1.5480016109052297, (0, 0, 0, 1, 1, -1, 1, -1, -1): 4.188622635190001, (0, 0, 0, 1, 1, 0, 1, -1, -1): 4.221914587002599, (0, 0, 0, 0, 1, 0, 1, -1, -1): 5.4882692456583015, (0, 0, 0, 0, 1, 0, 1, 0, -1): -0.5443797818324925, (1, -1, -1, 1, 0, 1, -1, 1, -1): 9.418502629969598, (1, -1, -1, 1, 0, 1, -1, 1, 0): -1.79932261654, (1, -1, -1, 1, 0, 0, -1, 1, 0): 0.6080819071999997, (1, 0, -1, 1, 0, 0, -1, 1, 0): -5.431741850582704, (0, 0, 0, 1, -1, 1, 0, 1, -1): -7.301458971083072, (0, 0, 0, 0, -1, 1, 0, 1, -1): -2.8483842010788876, (0, 0, 0, 0, -1, 1, 0, 1, 0): -3.209074368217762, (0, 0, 0, 0, -1, 1, 0, 0, 0): -3.230389147217426, (0, 1, 0, -1, -1, 1, -1, 1, 0): -5.7220271384683805, (0, 1, 0, -1, 0, 1, -1, 1, 0): -2.3276632987234, (1, 0, 1, -1, 0, -1, 1, -1, 1): -0.6078144700000002, (1, 0, 1, -1, 0, -1, 0, -1, 1): 3.2214372399999998, (1, 0, 1, -1, 0, 0, 0, -1, 1): 1.3134367872600001, (1, 0, 0, -1, 0, 0, 0, -1, 1): 3.0934384585189276, (1, 0, 0, 0, 0, 1, -1, -1, 0): -1.6404243646516576, (1, 1, 0, 0, 1, -1, -1, -1, 0): 4.46797091978551, (1, 1, 0, 0, 1, -1, 0, -1, 0): 3.8001395334598294, (0, 1, 0, 0, 1, -1, 0, -1, 0): 1.408037040818129, (0, 0, -1, 0, 0, -1, 1, 0, 1): 5.0991575574004075, (1, -1, 0, -1, 0, 1, 0, -1, 1): 5.123951470810001, (1, -1, 0, -1, 0, 1, 0, 0, 1): 3.208857838238877, (-1, 1, 1, 0, 1, -1, 0, 0, -1): 7.524066574403325, (-1, 1, 1, 0, 1, -1, 0, 0, 0): 2.769198553954336, (-1, 0, 1, 0, 1, -1, 0, 0, 0): 5.8146719648734715, (1, 0, 0, 1, 1, 0, -1, 0, -1): -5.860343405057653, (1, 0, 0, 0, 1, 0, -1, 0, -1): -3.0890323923801843, (1, 0, 0, 0, 1, 0, -1, 0, 0): -3.0800479358894375, (0, 1, -1, 0, 0, 0, 0, 1, 0): -3.357266800402756, (-1, -1, 1, 1, -1, 1, 1, 0, 0): -8.332281830033342, (-1, -1, 0, 1, 0, 1, 1, 0, 0): -4.394938147606, (-1, -1, 0, 1, 0, 0, 1, 0, 0): -4.32627677699108, (0, -1, 0, 1, 0, 0, 1, 0, 0): -1.281874700223794, (-1, -1, 1, 1, 1, -1, 0, 1, -1): 9.88027484817438, (-1, 0, 1, 1, 1, -1, 0, 1, -1): 5.189488969396205, (-1, 0, 1, 1, 0, -1, 0, 1, -1): 0.8657601725119997, (0, 0, 1, 1, 0, -1, 0, 1, -1): -0.1267227485558897, (0, 0, 0, 1, 0, 0, 0, 1, -1): -2.990146904989469, (1, 0, -1, 1, 0, -1, 0, 1, 0): -3.0108281101176, (1, 1, 0, -1, 1, -1, 1, 0, -1): -1.1601924591899997, (1, 0, 0, -1, 1, -1, 1, 0, -1): 2.631270303388942, (1, 0, 0, 0, 1, -1, 1, 0, -1): -4.019152364321336, (1, 0, 0, 0, 0, -1, 1, 0, -1): 4.693531979517005, (-1, 1, 0, -1, -1, 1, 1, -1, 1): 9.618479575523054, (-1, 1, 0, -1, 0, 1, 1, -1, 1): 1.3665520594, (-1, 0, 0, -1, 0, 1, 1, -1, 1): 0.8792220199999997, (-1, 0, 0, 0, 0, 1, 0, -1, 1): 0.7875270797285123, (-1, 0, -1, -1, 1, 1, 1, 1, -1): 9.353891811077332, (-1, 0, 0, -1, 1, 1, 1, 1, -1): 5.343486065210926, (-1, 0, 0, -1, 1, 0, 1, 1, -1): 8.508872702278081, (-1, 0, 0, -1, 1, 0, 1, 1, 0): 3.7626701998988037, (0, -1, 1, 1, -1, 1, 1, 0, -1): -8.146979811148158, (0, -1, 1, 0, -1, 1, 1, 0, -1): -6.276239965282574, (0, -1, 1, 0, 0, 1, 1, 0, -1): -4.431813707032121, (0, -1, 0, 0, 0, 1, 1, 0, -1): -0.551192856525216, (0, 0, -1, 1, 0, 1, -1, 0, 0): 4.461234136453525, (1, -1, 0, 0, -1, 1, -1, 1, 1): -4.186512009209896, (1, -1, 0, 0, -1, 0, -1, 1, 1): -2.7641737590993483, (1, 1, 0, 1, 0, -1, 0, 0, -1): -0.9617846671560001, (1, -1, 1, 1, 1, -1, -1, 0, -1): -0.9903022627021246, (1, 0, 1, 1, 1, -1, -1, 0, -1): -7.298453622223485, (1, 0, 1, 1, 0, -1, -1, 0, -1): 1.9302244210000004, (1, 0, 1, 1, 0, 0, -1, 0, -1): -5.974115187792316, (1, 0, 0, 1, 0, 0, -1, 0, -1): -5.898245477339496, (1, 0, 0, 1, 0, 0, 0, 0, -1): -3.529764487219826, (0, -1, -1, 1, -1, 1, 1, 0, 1): -6.12579511, (0, -1, -1, 1, -1, 1, 1, 0, 0): 1.6720335999999998, (0, -1, 1, 1, 0, -1, 1, 1, -1): 3.675477066, (0, -1, 1, 1, 0, -1, 0, 1, -1): 0.8253319999999997, (0, -1, 1, 1, 0, -1, 0, 1, 0): -0.4757782630000001, (0, -1, 1, 0, 1, 1, -1, -1, 0): 5.088953719, (0, -1, 1, 0, 1, 1, -1, 0, 0): 2.6681828266327328, (0, -1, 0, 0, 1, 1, -1, 0, 0): 8.247088325466555, (0, 0, 0, 0, 1, 1, -1, 0, 0): -3.47458920130113, (-1, 1, -1, -1, -1, 1, 0, 1, 1): 9.353891811077332, (-1, 1, 0, -1, -1, 1, 0, 1, 1): -0.4619167125400001, (-1, 1, 0, -1, -1, 1, 0, 0, 1): 2.75317699168, (-1, 1, 0, 0, -1, 1, 0, 0, 0): -2.408562389548883, (0, 0, 1, 0, 0, -1, 0, 1, -1): 0.3300507724779519, (-1, 1, -1, -1, 1, 1, 1, -1, 0): -0.9999999999999996, (0, 1, -1, -1, 1, 1, 1, -1, 0): -1.6989348161280298, (0, 1, -1, -1, 1, 1, 0, -1, 0): -2.1899993142287464, (0, 1, 0, -1, 1, 1, 0, -1, 0): -3.399150900959472, (0, 1, 0, -1, 1, 0, 0, -1, 0): 2.3548871433278267, (0, 0, -1, 0, 1, 0, 0, -1, 1): 5.701632582438261, (1, -1, 1, 0, 0, -1, 1, -1, 1): -1.29070551, (1, -1, 0, 0, 0, -1, 1, -1, 1): 4.288072132, (1, -1, 0, 0, 0, -1, 1, 0, 1): 1.4157621432599998, (1, -1, 0, 0, 0, -1, 0, 0, 1): 3.881295286951808, (1, 0, 0, 0, 0, -1, 0, 0, 1): -2.3146933631569593, (0, 0, 0, 0, 0, -1, 0, 0, 1): -0.4497351264635826, (1, -1, 0, -1, -1, 1, 0, 1, 1): 4.305422781114, (0, -1, 0, -1, -1, 1, 0, 1, 1): 3.036952, (0, -1, 0, -1, 0, 1, 0, 1, 1): 1.24044, (0, -1, 0, -1, 0, 1, 0, 1, 0): -0.7419600480800002, (-1, 0, 0, -1, 1, 0, 0, 1, 1): -4.1078604235853415, (-1, 0, 0, -1, 1, 0, 0, 0, 1): -0.9988356186491878, (0, 0, 0, -1, 1, 0, 0, 0, 1): -0.18016496863986847, (0, 0, 0, 1, 1, 0, 0, -1, -1): 3.57142235471754, (-1, 1, 1, 0, -1, -1, -1, 1, 1): -0.9353891811077333, (-1, 1, 1, 0, 0, -1, -1, 1, 1): -7.206832247455258, (-1, 1, 0, 0, 0, -1, -1, 1, 1): 2.4125457781081003, (-1, 1, 0, 0, 0, 0, -1, 1, 1): -5.519300822025341, (-1, 1, 0, 0, 0, 0, -1, 0, 1): -3.260026667013391, (1, 1, 0, -1, -1, 0, 1, 1, -1): -8.776111426772355, (1, 1, 0, -1, -1, 0, 0, 1, -1): 3.8059841258200002, (1, 1, 0, -1, -1, 0, 0, 1, 0): -6.185649888759068, (1, 0, 0, -1, -1, 0, 0, 1, 0): -1.1409666164837162, (0, 0, 0, 1, 0, 0, 1, -1, 0): 1.5155968852914203, (-1, -1, 1, 0, 1, 1, -1, 1, -1): 9.903022627021247, (-1, -1, 1, 0, 1, 1, -1, 1, 0): -5.999571398866737, (-1, -1, 1, 0, 0, 1, -1, 1, 0): 2.80101008368, (0, -1, 0, 1, 1, -1, 0, -1, 1): 4.845584816200001, (0, -1, 0, 1, 1, 0, 0, -1, 1): 3.2617018493399303, (0, -1, 0, 0, 1, 0, 0, -1, 1): 7.558515320124231, (0, 0, 0, 0, 1, 1, -1, -1, 0): 6.114822174900855, (1, 0, 1, 1, -1, -1, -1, -1, 1): 9.576088417247838, (1, 0, 1, 1, -1, 0, -1, -1, 1): -6.062781537871892, (1, 0, 1, 1, -1, 0, -1, -1, 0): 7.979910432850921, (1, 0, 1, 1, -1, 0, 0, -1, 0): -5.185384906904379, (0, 0, 1, 1, -1, 0, 0, -1, 0): -2.4628506132871184, (1, -1, 1, 1, -1, -1, 0, 1, 0): -0.9840102926134195, (0, -1, 1, 1, -1, -1, 0, 1, 0): 1.8449107124336128, (0, -1, 1, 1, -1, 0, 0, 1, 0): -2.009567523314275, (0, -1, 0, 1, -1, 0, 0, 1, 0): -0.2190894576117005, (-1, 1, -1, -1, 1, -1, 1, 0, 1): 9.113706188034751, (-1, 1, -1, -1, 1, 0, 1, 0, 1): 0.6477354904066925, (-1, 1, -1, -1, 1, 0, 0, 0, 1): 7.487710818834977, (0, 1, -1, -1, 1, 0, 0, 0, 1): 3.237912561209461, (0, 1, -1, -1, 1, 0, 0, 0, 0): 6.533152124978841, (0, 0, 0, 1, 1, -1, -1, -1, 1): 5.439756755804222, (0, 0, 0, 1, 1, 0, -1, -1, 1): 3.560793420093747, (0, -1, 1, 0, -1, 0, 0, 0, 1): 3.6181811594793505, (1, 1, -1, 0, -1, 0, 1, -1, 1): -1.1235070856139133, (1, 0, -1, 0, -1, 0, 1, -1, 1): 7.744990348689439, (1, 0, 0, 0, -1, 0, 1, -1, 1): -6.790855433811399, (1, 0, 0, 0, -1, 0, 1, -1, 0): 7.2460708590611365, (1, 0, 0, 0, 0, 0, 1, -1, 0): -0.497018533663095, (0, 1, -1, -1, 1, -1, 1, 0, 1): 4.305422781114, (0, 1, 0, -1, 1, -1, 0, 0, 1): 3.347138774656535, (0, 0, 0, -1, 1, -1, 0, 0, 1): 6.7341917512805445, (-1, -1, 0, 1, 1, -1, 1, -1, 1): 8.332281830033342, (0, -1, 0, 1, 1, -1, 1, -1, 1): 2.811354, (0, -1, 0, 0, 1, -1, 1, -1, 1): 7.996197506110351, (0, -1, 0, 0, 1, -1, 1, 0, 1): 2.2888569014260436, (0, -1, -1, 1, 1, -1, 0, 0, 1): 5.056785377635083, (0, -1, -1, 1, 1, 0, 0, 0, 1): -3.361996647066, (-1, -1, 0, 1, 1, -1, -1, 1, 1): -0.9999998767976688, (-1, 0, 0, 1, 1, -1, -1, 0, 1): -2.1729724559766326, (0, 0, 0, 1, 1, -1, -1, 0, 1): -2.473464665672809, (0, 1, 1, -1, 0, -1, 1, 0, -1): 3.1744459000000003, (0, 1, 1, -1, 0, 0, 0, 0, 0): -1.9304290306451852, (1, -1, 1, 1, -1, -1, -1, 0, 1): -0.9999989866283822, (1, -1, 1, 1, -1, -1, 0, 0, 1): -5.492646208309667, (1, -1, 1, 1, -1, -1, 0, 0, 0): 3.9157947844331638, (1, -1, 1, 1, 0, -1, 0, 0, 0): 0.6113879422702959, (0, -1, 1, 1, 0, -1, 0, 0, 0): 0.2800827080231618, (0, -1, 1, 1, 0, 0, 0, 0, 0): -2.4474643583864757, (0, 0, 0, 1, 1, -1, -1, 1, -1): 6.629892523057691, (0, 0, 0, 1, 1, 0, -1, 1, -1): 3.520914960037196, (1, -1, 1, 0, 1, -1, 0, 1, -1): 1.4844675542979193, (1, -1, 1, 0, 1, -1, 0, 0, -1): 7.809761326272765, (1, -1, 1, 0, 1, 0, 0, 0, -1): 0.08429075525895213, (1, -1, 0, 0, 1, 0, 0, 0, -1): 2.7615786477291864, (1, 0, 1, -1, 0, 1, -1, 1, -1): 0.380976196353, (1, 0, 1, -1, 0, 0, -1, 1, -1): 2.3006346900000003, (1, 0, 1, 0, 0, 0, -1, 1, -1): -0.3185866356636256, (1, 0, 1, 0, 0, 0, -1, 0, -1): 2.4881848652793366, (-1, 1, -1, 1, 0, -1, -1, 1, 1): 8.146979811148158, (0, 1, 0, 0, 0, -1, 0, 0, 1): -2.3866216021886424, (-1, -1, 1, 1, 1, -1, 0, 0, 1): -0.6942034149431475, (-1, -1, 1, 1, 1, -1, 0, 0, 0): 6.093772509084745, (-1, 0, 0, 1, 1, -1, 0, 0, 0): -3.0086460592130075, (-1, 0, -1, 0, 1, -1, 0, 1, 1): 5.007985157397709, (-1, 0, 0, 0, 1, -1, 0, 1, 1): 4.235368650659676, (-1, 0, 0, 0, 1, -1, 0, 1, 0): 6.49318676452105, (0, -1, 1, -1, 0, -1, 1, 0, 1): 6.861400561688809, (0, 0, 1, -1, 0, -1, 1, 0, 1): 0.34633329800171087, (0, 0, 1, -1, 0, -1, 1, 0, 0): 3.5721226049298087, (0, 0, 1, -1, 0, 0, 1, 0, 0): -1.8586201651254208, (0, -1, 1, 0, 0, 1, 0, -1, 0): 2.5224898375554776, (0, 0, 1, 1, 0, 1, -1, -1, 0): 0.002225400000000377, (1, -1, 1, 0, -1, -1, 1, 1, -1): 9.774716004550609, (1, -1, 1, 0, -1, 0, 1, 1, -1): -1.6620279546540095, (1, -1, 1, 0, -1, 0, 0, 1, -1): -1.870337254953221, (1, -1, 1, 0, -1, 0, 0, 0, 0): -3.8210401440077533, (0, 0, 0, 1, 1, -1, 1, -1, 0): 2.7894355197722707, (0, 0, 0, 1, 1, -1, 0, -1, 0): -0.016925576773330397, (0, 0, 1, 1, -1, -1, 0, 1, 0): -1.4286778367252135, (0, 0, 1, 0, -1, -1, 0, 1, 0): -2.182868677938794, (-1, 1, -1, 1, 1, 0, 1, -1, -1): 9.903022627021247, (-1, 1, -1, 1, 1, 0, 1, -1, 0): -1.698786788746962, (-1, 1, -1, 0, 1, 0, 1, -1, 0): -2.1841920613285035, (-1, 1, -1, 0, 1, 0, 1, 0, 0): -1.4623769263536412, (-1, 0, 0, 0, 1, 0, 1, 0, 0): -3.2033378026140973, (-1, -1, 1, 0, 1, 0, -1, 1, 1): -7.9567998357654455, (-1, -1, 0, 0, 1, 0, -1, 1, 1): -7.166376241106075, (0, -1, 0, 0, 0, 0, 0, 1, 1): -3.0298614888669864, (0, -1, -1, 0, 0, 1, 0, 1, 1): -3.7596128016, (0, -1, -1, 0, 0, 1, 0, 1, 0): -1.4478983044566047, (-1, 0, 0, -1, 1, 1, 1, -1, 0): 5.6962612220724, (0, 0, 0, 0, 1, 0, 1, -1, 0): 0.31683066752496586, (-1, 0, 0, 0, 0, 1, 1, 1, -1): -6.608442751972066, (-1, 1, -1, 0, 0, -1, 0, 1, 1): 4.109311, (-1, 1, 0, 0, 0, -1, 0, 1, 0): 4.559518742241902, (-1, 1, 0, 0, 0, 0, 0, 1, 0): -3.2707702296310446, (-1, 1, 1, -1, 0, -1, 0, 1, 0): 2.71, (-1, 1, 0, -1, 0, 0, 0, 1, 0): 5.680077351500131, (1, 1, 0, 0, 0, 0, 0, -1, 0): -2.94808529525098, (0, 0, 1, 0, -1, 1, 1, -1, 0): -3.8453707225540112, (0, 0, 0, 0, -1, 1, 1, -1, 0): -3.8402076562176544, (-1, 0, 1, -1, 0, 0, 0, 1, 1): -1.3595817186299999, (-1, 0, 0, -1, 0, 0, 0, 1, 1): 2.5985839996520093, (0, 0, 0, -1, 0, 0, 0, 1, 1): -2.133318612150598, (-1, 1, 1, 0, -1, 1, 0, -1, 0): 3.3933227909486527, (-1, 1, 1, 0, -1, 1, 0, 0, 0): -8.535003636292327, (0, 1, 0, 0, -1, 1, 0, 0, 0): -3.5343291605142837, (-1, -1, 0, 0, 0, 1, 0, 0, 1): 2.8168294108913203, (0, 1, 0, 1, 0, 1, -1, 0, -1): -4.7482273, (0, 0, 0, 1, 0, 1, -1, 0, -1): -0.19302189641667988, (0, 0, 0, 1, 0, 1, -1, 0, 0): -3.2983012151007456, (1, -1, -1, 0, 0, 1, -1, 0, 1): -0.15670779199999985, (1, 0, -1, 0, 0, 1, -1, 0, 1): -0.6705961440276, (0, 0, -1, 0, 0, 1, 0, 0, 1): -3.253362102583414, (0, 0, 1, -1, 1, 0, 0, 0, -1): 3.4962842346058993, (-1, 1, 1, 1, 0, 1, -1, -1, 0): -1.2872837765999998, (-1, 1, 1, 0, 0, 1, -1, -1, 0): 3.1791629872000002, (0, 1, 1, 0, 0, 1, -1, -1, 0): -2.3518165485023563, (1, -1, 1, 1, 1, -1, -1, -1, 0): 9.113706188034751, (1, -1, 1, 1, 1, -1, 0, -1, 0): 4.11713642346, (0, -1, 1, 1, 1, -1, 0, -1, 0): 3.8379088, (0, -1, 1, 1, 1, -1, 0, 0, 0): 0.880944479535804, (1, -1, 1, 1, 0, -1, -1, -1, 1): 7.712320754503899, (1, -1, 1, 1, 0, -1, 0, -1, 1): -2.8198112805999997, (1, -1, 1, 0, 0, -1, 0, -1, 1): 1.0032253271488, (1, -1, 1, 0, 0, -1, 0, 0, 1): -0.7183028556831617, (1, -1, 1, 0, 0, -1, 0, 0, 0): 1.6909754949898106, (0, 0, 1, -1, 1, 0, 0, -1, 0): 3.7368332915547278, (0, 0, 1, 0, 1, 0, 0, -1, 0): -1.3728137441565307, (-1, 0, -1, 0, 0, 0, 1, 1, 0): 2.8045435676300046, (1, -1, -1, 0, 1, 1, -1, 1, -1): 9.948462247926798, (1, -1, 0, 0, 1, 1, -1, 1, -1): -1.699627268879839, (1, -1, 0, 0, 1, 0, -1, 1, -1): -1.7534076755192451, (1, -1, 0, 0, 1, 0, -1, 1, 0): -1.8180256794321488, (-1, 1, -1, 1, 0, 0, 1, -1, 1): -1.6720805544439568, (-1, 1, -1, 0, 0, 0, 1, -1, 1): -2.178713232295969, (-1, 1, 0, 1, 0, 1, 0, 0, -1): -3.1151314144, (-1, 1, 0, 1, 0, 0, 0, 0, -1): -2.2389315634106404, (0, 1, 0, 1, 0, 0, 0, 0, -1): -3.118714943723607, (0, 0, 0, 1, 0, 1, -1, -1, 0): -0.6951259194786621, (-1, 0, 1, 1, -1, -1, -1, 1, 1): -0.9999999999999996, (-1, 0, 1, 1, 0, -1, -1, 1, 1): -1.6474646375495245, (-1, 0, 1, 1, 0, -1, -1, 0, 1): -1.8941634738296147, (-1, 0, 1, 1, 0, 0, -1, 0, 1): -0.4505811950838706, (-1, 0, 1, 0, 0, 0, -1, 0, 1): 4.038787093522607, (0, 0, 1, 0, 0, 0, -1, 0, 1): -0.1875474144631024, (-1, -1, 1, 1, 1, 0, -1, -1, 1): 9.282102012308147, (0, -1, 1, 1, 1, 0, -1, -1, 1): 4.305422781114, (0, -1, 1, 1, 1, 0, -1, -1, 0): 4.060545202545043, (0, -1, 1, 1, 1, 0, -1, 0, 0): -7.524263714919766e-05, (0, -1, 0, 1, 1, 0, -1, 0, 0): 9.407303560867891, (0, -1, 0, 1, 1, 0, 0, 0, 0): 0.1140006742558648, (1, -1, 1, 1, 1, 0, 0, -1, -1): -4.7556286743439005, (0, -1, 1, 1, 1, 0, 0, -1, -1): 4.588041052, (0, -1, 1, 1, 1, 0, 0, -1, 0): 2.8051664005505406, (0, -1, 0, 1, 1, 0, 0, -1, 0): 5.93024627285231, (0, 1, 1, -1, -1, 0, -1, 0, 1): 5.652281179, (0, 1, 1, -1, 0, 0, -1, 0, 1): 0.5145330660000001, (0, 1, 1, -1, 0, 0, -1, 0, 0): 2.7432923074869127, (1, 1, -1, -1, -1, 0, 1, 1, -1): -0.9618479575523055, (1, 1, -1, 0, -1, 0, 1, 1, -1): -8.93920093694069, (1, 1, -1, 0, -1, 0, 0, 1, -1): -6.336628196009815, (1, 1, -1, 0, -1, 0, 0, 1, 0): -7.865693744571794, (1, 1, -1, -1, 0, 1, -1, -1, 1): 7.17570463519, (1, 1, -1, -1, 0, 1, 0, -1, 1): 2.4573224400000004, (1, 1, -1, -1, 0, 1, 0, -1, 0): -0.10121898000000012, (1, 1, 0, -1, 0, 1, 0, -1, 0): 1.6184593693759999, (0, 1, 0, -1, 0, 1, 0, -1, 0): 0.4931526449615273, (1, 1, 0, 0, 0, 0, -1, -1, 0): 5.434691462888636, (-1, 1, 1, 1, -1, -1, 1, -1, 0): -0.9618479575523055, (-1, 1, 1, 1, 0, -1, 1, -1, 0): -0.24011159849477, (-1, 1, 1, 0, 0, -1, 1, -1, 0): 4.90911804246529, (-1, 1, 1, 0, 0, -1, 1, 0, 0): -1.52895107253433, (-1, -1, 1, 1, -1, -1, 1, 1, 0): 9.202335569231275, (-1, -1, 1, 1, -1, 0, 1, 1, 0): -4.081450101244534, (-1, 0, 0, 1, 0, 0, 1, 0, 0): -3.418673824082701, (0, -1, 0, 1, 1, -1, -1, 0, 1): 7.793217475741213, (0, -1, 0, 1, 1, 0, -1, 0, 1): 2.41494710546527, (0, -1, 0, 1, 0, 0, -1, 0, 1): -1.4642311949481999, (0, 0, 0, 1, 0, 0, -1, 0, 1): -3.2879561630748295, (1, 1, 0, -1, -1, 1, -1, 1, -1): 9.113706188034751, (1, 1, 0, -1, 0, 1, -1, 1, -1): 3.9079293594, (-1, 1, -1, -1, 1, 1, 0, 0, 0): 7.880588619052052, (0, 1, -1, -1, 1, 1, 0, 0, 0): -2.2931992889140593, (0, 1, -1, -1, 0, 1, 0, 0, 0): -0.9170182028482635, (-1, -1, 1, 1, 0, 1, -1, 1, -1): 8.499053647030008, (-1, -1, 1, 1, 0, 1, 0, 1, -1): -3.4219414, (-1, -1, 0, 1, 0, 1, 0, 1, -1): 2.726980019632, (-1, -1, 0, 1, 0, 1, 0, 1, 0): -4.574323917964, (-1, -1, 0, 1, 0, 1, 0, 0, 0): 2.056336539466856, (-1, 0, 0, 1, 0, 1, 0, 0, 0): -1.817837536903905, (1, -1, -1, -1, -1, 1, 1, 0, 1): 9.866972053527089, (1, -1, -1, -1, 0, 1, 1, 0, 1): 5.521401341538764, (1, -1, -1, -1, 0, 1, 1, 0, 0): 1.3331004492302316, (1, 0, -1, -1, 0, 1, 1, 0, 0): -2.0389195763907626, (0, 0, -1, -1, 0, 1, 1, 0, 0): -1.8947570363083255, (0, 0, -1, 0, 0, 1, 1, 0, 0): -3.2611272764511257, (0, 1, 0, -1, 0, -1, 1, 1, -1): 1.54066069, (0, 1, 0, -1, 0, 0, 1, 1, -1): -2.9731401630192855, (0, 0, 0, -1, 0, 0, 1, 1, -1): 2.193923508723745, (0, 1, 0, 1, 0, 1, -1, -1, 0): -2.1654532, (0, 1, 0, 0, 0, 1, -1, -1, 0): -0.15352270474285834, (1, 0, 1, 1, -1, -1, -1, 0, 1): -1.5983736531194754, (1, 0, 0, 1, -1, -1, -1, 0, 1): -1.3349647660539423, (1, 0, 0, 1, -1, -1, 0, 0, 1): 0.22430646656414222, (1, 0, 0, 1, -1, -1, 0, 0, 0): 8.501962677266238, (-1, 1, 1, 0, -1, -1, 1, -1, 1): -0.9999995153074966, (-1, 1, 1, 0, -1, 0, 1, -1, 1): -1.6845407462289128, (-1, 1, 1, 0, -1, 0, 0, -1, 1): 8.016977500245599, (0, 1, 1, 0, -1, 0, 0, -1, 1): 4.600314293374895, (0, 1, 0, 0, -1, 0, 0, -1, 1): 0.0029370090442014662, (0, 0, 0, -1, 1, 0, 1, 0, -1): 5.86761406973235, (0, 0, -1, -1, 1, -1, 1, 0, 1): 7.23149474653351, (0, 0, 0, -1, 1, -1, 1, 0, 1): 4.764653207432106, (1, 1, -1, 0, 0, 1, -1, 1, -1): -6.2804739885881595, (0, 1, -1, 0, 0, 1, -1, 1, -1): 0.28, (0, 1, -1, 0, 0, 1, -1, 1, 0): -2.8536634000000003, (0, 1, -1, 0, 0, 1, -1, 0, 0): -1.8579895479742, (-1, 1, 1, 1, -1, -1, 0, -1, 1): -0.9999992612520906, (-1, 1, 1, 1, 0, -1, 0, -1, 1): -1.311094528265663, (-1, 1, 0, 1, 0, -1, 0, -1, 1): -1.688998245236354, (-1, 1, 0, 1, 0, 0, 0, -1, 1): -1.9965816991347531, (-1, 1, 0, 1, 0, 0, 0, -1, 0): -0.6915082023135841, (-1, 1, 0, 1, 0, 0, 0, 0, 0): -3.302735784776752, (-1, 0, 1, 0, 0, 1, 1, 0, -1): -3.8578210124359433, (-1, -1, 0, 1, 0, 1, 1, 1, -1): -6.12579511, (0, -1, 0, 1, 0, 1, 1, 0, -1): 1.12690978926, (1, 1, -1, 1, 0, -1, -1, 1, 0): -5.6953279000000006, (1, 1, -1, 0, 0, -1, 0, 0, 0): -3.3598814373048342, (0, 0, 1, 1, 0, -1, 0, -1, 0): 0.5176831613197027, (1, 0, -1, -1, 1, 1, -1, 1, -1): 9.962428978738636, (1, 0, -1, -1, 1, 1, -1, 1, 0): 4.4748805030026, (1, 0, -1, -1, 0, 1, -1, 1, 0): 0.7395203620227195, (1, 0, -1, -1, 0, 1, 0, 1, 0): -1.1487815488598965, (1, 0, -1, -1, 0, 1, 0, 0, 0): -1.1701109159254461, (1, 0, -1, -1, 0, -1, 1, 1, 0): 4.7691406899999995, (1, 0, -1, 0, 0, -1, 1, 1, 0): -2.2141647076674, (1, 1, -1, -1, -1, 1, 1, -1, 0): -0.999999999980378, (1, 1, -1, 0, -1, 1, 1, -1, 0): -1.531088373731401, (0, 1, -1, 0, -1, 1, 1, -1, 0): -0.08172571701343923, (0, 1, 0, 0, -1, 1, 1, -1, 0): -2.4446921282774854, (0, 0, 0, 0, 0, 1, 1, -1, 0): -2.3632136805491792, (-1, 1, -1, 0, 1, 0, 1, 0, -1): 6.907051689450768, (-1, 1, 0, 0, 1, 0, 1, 0, -1): 2.405026297867565, (-1, 0, 0, 0, 1, 0, 1, 0, -1): 8.553236909025083, (-1, 1, -1, 1, -1, 0, 0, 1, 0): -6.080642997171159, (-1, 1, -1, 1, 0, 0, 0, 1, 0): -3.316064359914881, (1, 1, -1, 1, -1, -1, 0, 1, 0): -6.5132155990000005, (1, 1, -1, 1, -1, -1, 0, 0, 0): 0.590924435384836, (1, 1, -1, 1, 0, -1, 0, 0, 0): -6.0513803790699185, (1, -1, -1, -1, 1, 0, 1, 1, -1): -0.9999999686836204, (1, -1, 0, 0, 1, 0, 1, 0, -1): 5.957664155651394, (-1, 1, 1, -1, -1, 0, 0, 1, 1): -8.146979811148158, (0, 1, 1, -1, -1, 0, 0, 1, 0): -7.592630780033327, (0, 1, 1, -1, -1, 0, 0, 0, 0): 6.552202386247414, (-1, 1, 0, 1, 1, -1, -1, -1, 1): -0.9999999999997885, (0, 1, 0, 1, 1, -1, -1, -1, 1): -1.299247450948641, (1, -1, 1, 0, 0, 1, 1, -1, -1): -5.04407114037991, (1, -1, 1, 0, 0, 1, 0, -1, -1): -5.795091560976, (1, 0, 1, 0, 0, 1, 0, -1, -1): -5.2919797186, (-1, 1, 1, 1, 0, 0, 0, 0, -1): -4.955904470495077, (-1, -1, 1, 1, -1, -1, 0, 1, 1): 9.476652366972639, (-1, 0, 1, 1, -1, -1, 0, 1, 1): -0.2178240381113227, (-1, 0, 1, 1, -1, -1, 0, 0, 1): -1.530983744244259, (0, 0, 1, 1, -1, -1, 0, 0, 1): -2.556623258929335, (0, 0, 1, 1, 0, -1, 0, 0, 0): -1.8029358793086105, (0, -1, 1, -1, -1, 0, 1, 0, 1): 5.62215425905351, (0, -1, 1, -1, 0, 0, 1, 0, 1): 0.6513149715000002, (0, -1, 1, -1, 0, 0, 1, 0, 0): 4.927921894660861, (0, -1, 1, 0, 0, 0, 1, 0, 0): -0.27971782877151835, (0, 1, 1, -1, 1, 0, -1, 0, -1): 4.04597641519, (0, 1, 1, 0, 1, 0, -1, 0, -1): -3.4006460963332605, (0, 1, 1, 0, 0, 0, -1, 0, -1): 4.356639359773378, (1, -1, 0, 0, -1, -1, 0, 1, 1): 4.1039155990000005, (0, -1, 0, 0, -1, 0, 0, 1, 1): 8.221857103836122, (0, 0, 0, 0, -1, 0, 0, 1, 1): -3.4629018584905236, (0, 1, -1, -1, 0, 1, -1, 1, 0): 1.8348309999999999, (1, 0, 1, 0, 0, 0, 1, -1, -1): 3.8722264090026, (1, -1, -1, 0, -1, 1, 1, 1, -1): 9.88027484817438, (1, -1, -1, 0, 0, 1, 1, 1, -1): 0.49490517467869577, (0, -1, -1, 0, 0, 1, 1, 1, -1): -1.431555674416969, (0, -1, 0, 0, 0, 1, 1, 1, -1): -3.1809605546341357, (1, 1, -1, 0, -1, 0, 1, 0, -1): 5.184319410604188, (1, 1, 0, 0, -1, 0, 1, 0, -1): 3.4643679747950085, (1, 0, 0, 0, -1, 0, 1, 0, -1): 7.693498199486335, (1, 0, 0, 0, -1, 0, 1, 0, 0): -3.382767267488852, (0, -1, 1, 1, 0, -1, 1, 0, -1): 4.7708829999999995, (0, -1, 1, 1, 0, 0, 1, 0, -1): 2.435970091542545, (0, -1, 1, 0, 0, 0, 1, 0, -1): 5.668187768178985, (1, -1, 0, 1, 1, -1, -1, 1, -1): -0.9999999999999792, (1, -1, 0, 1, 1, 0, -1, 1, -1): -1.6982909851968133, (1, -1, 0, 0, 1, 0, 0, 1, -1): -2.532999966111981, (0, 0, -1, -1, 1, -1, 0, 1, 1): 6.12579511, (0, 0, 0, -1, 1, -1, 0, 1, 1): 1.6942774434000005, (0, 0, 0, -1, 1, -1, 0, 1, 0): 5.3949170477437205, (1, 1, -1, 0, -1, 1, 1, -1, -1): 9.892247363356942, (0, 1, -1, 1, 1, -1, 1, -1, 0): -7.1909896777715, (0, 1, -1, 0, 1, -1, 1, -1, 0): -2.319368460530317, (0, 1, 0, 0, 1, -1, 1, -1, 0): -0.19137674243966696, (0, 0, 0, 0, 1, -1, 1, -1, 0): 5.820872850897236, (0, 0, 0, 0, 1, -1, 1, 0, 0): 0.8923051461879546, (-1, 1, 1, -1, 1, -1, 0, 0, 0): 6.617097106905513, (0, 1, 1, -1, 1, -1, 0, 0, 0): 3.9522904691762375, (0, 1, 0, -1, 1, -1, 0, 0, 0): 7.503333592591531, (0, 1, 0, 0, 1, -1, 0, 0, 0): 0.9515132138891013, (1, -1, 1, -1, 1, 1, -1, 0, 0): 0.4786514887600001, (1, -1, 0, -1, 1, 1, -1, 0, 0): 5.833625797635065, (1, -1, 0, -1, 1, 1, 0, 0, 0): 0.5374439441037643, (0, -1, 0, -1, 1, 1, 0, 0, 0): -0.7583173192268648, (0, -1, 0, 0, 1, 1, 0, 0, 0): -1.2542976190816275, (1, 1, -1, -1, 0, 0, 1, -1, 1): -0.3600243980087403, (1, 0, -1, -1, 0, 0, 1, -1, 1): 7.982228247711569, (1, 0, 0, -1, 0, 0, 1, -1, 1): -1.4242932741566998, (0, 0, 0, -1, 0, 0, 1, -1, 1): -0.20114758699543683, (-1, -1, 1, 1, -1, 0, -1, 1, 1): 9.528987130275375, (-1, -1, 1, 1, -1, 0, 0, 1, 1): 4.999369098020006, (-1, -1, 1, 0, -1, 0, 0, 1, 1): 4.85565112, (0, -1, 1, 0, -1, 0, 0, 1, 1): 3.3381323492424, (1, -1, 1, 1, -1, 0, -1, 0, 0): -2.87020238384085, (1, -1, 1, 1, -1, 0, 0, 0, 0): -5.176564654589303, (0, -1, 1, 1, -1, 0, 0, 0, 0): -4.397808350335874, (-1, 1, 1, 0, 0, 1, 1, -1, -1): -5.72893268530951, (-1, 1, 1, 0, 0, 1, 0, -1, -1): -6.136160594642415, (0, 1, 1, 0, 0, 1, 0, -1, -1): -3.8747725392596704, (0, -1, -1, 0, 1, 0, 0, 1, 0): -3.0478113141450582, (1, 1, 0, 1, -1, -1, -1, 1, -1): 8.332281830033342, (1, 1, 0, 1, -1, -1, -1, 1, 0): -5.463892242383544, (0, 1, 0, 1, -1, -1, -1, 1, 0): -3.233826763890836, (0, 1, 0, 1, -1, 0, -1, 1, 0): -7.282346658606746, (0, 1, 0, 1, -1, 0, 0, 0, 0): -3.131701745916346, (-1, 1, -1, -1, 1, 0, 1, -1, 1): -0.9999955703072454, (-1, 0, 0, -1, 1, 0, 1, 0, 1): 5.156763485858908, (-1, 1, 1, -1, -1, 0, 1, 1, 0): -7.4581341716709995, (-1, 1, 0, -1, -1, 0, 1, 1, 0): 0.7001681616950871, (-1, 1, 0, 0, -1, 0, 1, 1, 0): -6.628799452015704, (-1, 0, 0, 0, -1, 0, 1, 1, 0): 5.758565244109601, (1, -1, 1, -1, 0, -1, 1, 1, -1): 9.721871610556308, (1, -1, 1, -1, 0, -1, 1, 1, 0): 1.1319886010599998, (1, -1, 0, -1, 0, -1, 1, 1, 0): 5.084693220275921, (1, -1, 0, 0, 0, -1, 1, 1, 0): 4.663777248626086, (1, 1, 0, 1, -1, -1, -1, 0, 1): -5.38355658120166, (0, 1, 0, 1, -1, -1, -1, 0, 1): -1.066521425259, (0, 1, 0, 1, -1, -1, 0, 0, 1): -2.0843632306064155, (0, 0, 0, 1, -1, -1, 0, 0, 1): -0.4637308346837794, (0, 0, 0, 1, -1, 0, 0, 0, 1): -3.282494790614054, (1, -1, 1, 0, 0, 1, -1, -1, 0): 1.7126347609000003, (1, -1, 0, 0, 0, 1, 0, 0, 0): -2.284250283222984, (1, 0, 1, 0, -1, 0, 0, 1, -1): -1.9022602644276922, (1, 0, 1, 0, -1, 0, 0, 0, -1): 7.458835332517116, (1, 0, 0, -1, 1, -1, 1, -1, 0): 6.2545219418098, (1, 0, 0, -1, 1, -1, 1, 0, 0): 3.031820466899944, (1, 0, 0, -1, 1, -1, 0, 0, 0): 7.208400375579282, (1, 0, 0, 0, 1, -1, 0, 0, 0): -0.1966826063134928, (0, -1, 0, 0, 1, 1, 1, -1, -1): 4.6983799, (0, 0, 0, 0, 1, 1, 1, -1, -1): 1.0770367037450002, (1, 0, 1, 1, -1, 1, 0, -1, -1): -8.332281830033342, (1, 0, 1, 1, -1, 0, 0, -1, -1): 3.52219348, (-1, 0, 0, 1, 1, 0, 1, -1, -1): 8.096461369287226, (-1, 0, 0, 1, 1, 0, 1, 0, -1): 4.11027207030917, (-1, 0, 0, 1, 0, 0, 1, 0, -1): 1.343323934034128, (0, 1, 1, 0, 0, -1, 1, -1, 0): 4.0096575646557415, (0, 1, 0, 0, 0, -1, 1, -1, 0): 1.6228877041435132, (-1, 1, 1, 0, -1, -1, 1, 1, 0): -5.6953279000000006, (0, -1, -1, 1, 0, 1, 1, 1, -1): -1.6493360700000004, (0, -1, -1, 1, 0, 1, 0, 1, -1): 1.8064, (0, -1, -1, 1, 0, 1, 0, 1, 0): -3.1010538331000004, (0, -1, -1, 1, 0, 0, 0, 1, 0): -0.836509336802612, (1, 1, 0, 0, 0, -1, -1, 0, 0): 4.1929164260606795, (1, 1, 0, 0, -1, -1, 1, 1, -1): -5.6953279000000006, (1, 0, 0, 0, -1, -1, 1, 1, -1): 5.176993687864848, (1, 0, 0, 0, -1, -1, 1, 1, 0): -5.485092637427022, (0, 0, 0, 0, -1, -1, 1, 1, 0): 8.417776500765331, (0, 0, 1, -1, -1, 0, 0, 1, 1): -4.330911280830138, (0, 0, 1, -1, -1, 0, 0, 1, 0): -2.7419502124171995, (-1, -1, 1, 1, 0, 0, 1, 0, -1): 2.43029386648, (-1, -1, 1, 1, 0, 0, 1, 0, 0): -2.1252722927910206, (-1, -1, 1, 1, 0, 0, 0, 0, 0): 0.8348926743862933, (-1, 0, 1, 1, 0, 1, 0, -1, -1): 1.45612, (-1, 0, 1, 1, 0, 1, 0, -1, 0): -2.26974, (0, 0, 0, -1, 1, 1, -1, -1, 1): 8.67783529878357, (0, 0, 0, 0, 1, 1, -1, -1, 1): 4.494547624801296, (-1, 1, -1, 1, 1, -1, -1, 0, 1): 9.942735831029776, (0, 1, -1, 1, 1, -1, -1, 0, 1): 4.4748805030026, (0, 1, -1, 0, 1, -1, -1, 0, 1): 6.47818074759592, (0, -1, 1, -1, 1, 1, -1, 1, -1): -0.9999999994856849, (0, -1, 1, -1, 1, 1, -1, 1, 0): -5.48185006680877, (0, -1, 1, -1, 0, 1, -1, 1, 0): 0.6255100000000001, (0, -1, 1, 0, 0, 1, -1, 1, 0): -1.0764771818473302, (0, -1, 1, 0, 0, 1, -1, 0, 0): 4.964575547917969, (1, -1, -1, 1, 0, 0, -1, 0, 1): 3.5046100000000004, (1, 0, -1, 1, 0, 0, -1, 0, 1): -6.768355402618047, (1, 0, -1, 0, 0, 0, -1, 0, 1): 2.9337019463644287, (-1, 1, -1, 1, -1, -1, 1, 1, 0): 9.418502629969598, (-1, 1, -1, 1, -1, 0, 1, 1, 0): -5.742801086909593, (-1, 1, -1, 1, -1, 0, 1, 0, 0): -1.570258400720377, (-1, 0, -1, 1, 0, 0, 1, 0, 0): -5.351550788612798, (0, 0, -1, 1, 0, 0, 1, 0, 0): -3.6853679451409205, (-1, 0, 1, -1, 0, 1, 1, -1, 0): 6.12579511, (-1, 0, 1, 0, 0, 1, 1, -1, 0): 2.5694337016289404, (-1, 0, 1, 0, 0, 1, 0, -1, 0): 4.089083566552711, (0, 0, -1, -1, 1, 1, 1, 1, -1): -1.4475797092164169, (0, 0, -1, -1, 0, 1, 1, 1, -1): -0.5391363908483742, (0, 0, 0, -1, 0, 1, 1, 1, -1): -1.1236559509930002, (1, -1, -1, -1, 1, 1, 0, 1, -1): -0.9999999999999996, (1, -1, -1, -1, 0, 1, 0, 1, 0): 0.9464132209999997, (0, 1, -1, 1, -1, 0, 0, 0, 1): -6.853397301311704, (0, 1, -1, 1, -1, 0, 0, 0, 0): -3.3216206957430665, (0, 1, -1, 1, 0, 0, 0, 0, 0): -3.0308290684912818, (1, -1, 1, -1, 1, 0, 0, 1, -1): -0.3717370049028653, (1, -1, 1, -1, 1, 0, 0, 0, -1): 8.376075776929515, (1, 1, 0, 0, 1, -1, -1, 0, -1): 3.245194621, (1, 0, 0, 0, 1, -1, -1, 0, 0): 5.366807123756848, (-1, 1, 0, -1, -1, 0, 0, 1, 1): 3.2792790160000003, (-1, 1, 0, 0, -1, 0, 0, 1, 1): -5.549381183314713, (-1, 1, -1, 1, 0, 0, -1, 1, 1): -4.8965044553974, (-1, 0, -1, 0, 0, 0, 0, 1, 1): 6.07979409960757, (1, 0, 1, 0, 1, -1, 0, -1, -1): 6.843052919785509, (1, 0, 1, 0, 1, -1, 0, 0, -1): 3.1874139286402423, (1, 0, -1, -1, 1, 0, 0, 0, 0): 7.896557994175035, (0, 1, 1, 1, 1, -1, 0, -1, -1): -2.7614544910300003, (0, 0, 1, 1, 1, -1, 0, -1, -1): 1.8331393104449918, (-1, 1, 1, -1, 0, -1, 0, 1, 1): -6.5132155990000005, (-1, 1, 0, -1, 0, 0, 0, 1, 1): 0.12426000000000004, (-1, 1, 0, -1, 0, 0, 0, 0, 1): 0.005813364560960814, (-1, 1, -1, 0, -1, 0, 1, 1, 0): 1.8547847290000001, (-1, 1, -1, 0, 0, 0, 1, 1, 0): -1.1955763199999998, (1, 1, 0, 1, -1, 1, -1, 0, -1): -7.17570463519, (1, 1, 0, 1, -1, 0, -1, 0, -1): 4.564575520963777, (1, 1, 0, 1, -1, 0, -1, 0, 0): -6.679380617291872, (1, 1, 0, 0, -1, 0, -1, 0, 0): 4.538387240348585, (1, 0, -1, -1, 1, -1, 0, 1, 0): 5.399536004200001, (1, 0, -1, 0, 1, -1, 0, 1, 0): -1.3343134322312682, (1, 0, -1, 0, 1, -1, 0, 0, 0): 7.140936455404921, (-1, 0, 1, 0, -1, -1, 1, 1, 0): 3.0794572000000002, (-1, 0, 1, 0, 0, -1, 1, 0, 0): 5.368669004474019, (0, 0, 1, 0, 0, -1, 1, 0, 0): 0.09929162495895028, (-1, 1, -1, 1, 0, 1, 1, -1, -1): 6.8618940391, (-1, 1, -1, 1, 0, 1, 1, -1, 0): -0.66069355948433, (-1, 1, -1, 1, 0, 0, 1, -1, 0): -0.7993124288836522, (0, 1, -1, 1, 0, 0, 1, -1, 0): 2.060091871660486, (0, 1, -1, 1, 0, 0, 0, -1, 0): -0.23910106699385603, (1, -1, 0, 0, 1, 1, 1, -1, -1): 4.4748805030026, (1, -1, 0, 0, 1, 1, 0, -1, -1): 3.9440884664799998, (1, 0, 0, 0, 1, 1, 0, -1, -1): -3.2398353849760846, (0, 0, 0, 0, 1, 1, 0, -1, -1): 7.706804117938207, (0, 0, 0, 0, 1, 1, 0, 0, -1): -1.5089006987503175, (1, 0, 0, 0, 0, -1, 1, 1, -1): -3.1033797076000003, (0, 0, 0, 0, 0, -1, 1, 1, -1): -3.5443887413708723, (0, -1, 0, 1, 1, -1, 1, 1, -1): -7.550968760312303, (0, -1, 0, 0, 1, -1, 1, 1, -1): 5.6881637857824074, (0, -1, 0, 0, 1, 0, 1, 1, -1): -3.2064361735932576, (0, -1, 0, 0, 0, 0, 1, 1, -1): -2.972426968904494, (0, 1, -1, -1, -1, 1, 0, 1, 1): -0.688041795367, (0, 1, -1, -1, -1, 0, 0, 1, 1): 5.3482459086639995, (0, 1, -1, -1, 0, 0, 0, 1, 0): 3.5698824837892, (0, -1, -1, -1, 1, 1, -1, 1, 1): 8.499053647030008, (0, -1, -1, 0, 1, 1, -1, 1, 1): -5.8284886267414, (0, -1, -1, 0, 0, 1, -1, 1, 1): -4.512173532999673, (0, -1, 0, 0, 0, 1, -1, 1, 1): -2.7676727073310134, (-1, 1, -1, -1, -1, 1, 1, 0, 1): 9.618479575523054, (0, 1, -1, -1, -1, 1, 1, 0, 1): -0.11492692942905305, (0, 1, -1, -1, -1, 0, 1, 0, 1): 4.014631025958366, (0, 1, -1, -1, 0, 0, 1, 0, 1): 0.4407563139999998, (0, 1, -1, -1, 0, 0, 1, 0, 0): -1.7649722151823242, (-1, 1, 1, 0, -1, 0, -1, 1, 1): -8.80798492943082, (-1, 0, 1, 0, -1, 0, -1, 1, 1): 7.96062481558844, (0, 0, 1, 0, -1, 0, -1, 1, 1): -2.625140081972497, (0, 1, 1, -1, -1, 0, 1, -1, 1): -3.5078058631, (0, 0, 1, -1, -1, 0, 1, -1, 1): 3.7940339667200003, (0, 0, 1, 0, -1, 0, 1, -1, 1): -7.150731841514147, (0, 0, 1, 0, -1, 0, 0, -1, 1): 5.441052281038965, (0, 0, 1, 0, 0, 0, 0, -1, 1): 2.0659495285853025, (0, -1, 1, 0, 0, -1, 1, 0, 1): 3.2128984045808457, (0, -1, 0, 1, -1, 1, 1, 0, 0): -5.0058008472866975, (0, -1, 0, 1, -1, 1, 0, 0, 0): -5.004150994099684, (1, 0, 1, 1, -1, -1, 0, 1, -1): 5.270540072456584, (1, 0, 0, 1, -1, -1, 0, 1, -1): 4.2840568, (1, -1, 0, 0, 1, -1, 1, -1, 0): 4.68559, (1, -1, 0, 0, 1, 0, 1, -1, 0): 2.0912559, (1, 0, 1, -1, 0, -1, 0, 1, -1): 4.512986128, (1, 0, 1, -1, 0, -1, 0, 1, 0): -0.17348938009395642, (0, 0, 1, -1, 0, -1, 0, 1, 0): -1.8306485603720002, (0, 0, 1, -1, 0, 0, 0, 1, 0): -2.090316688035175, (0, 1, 0, -1, 0, 1, -1, 0, 1): -2.6651000000000002, (0, 0, 0, 1, 1, -1, 0, 1, -1): -3.232713766288584, (-1, -1, 1, -1, 1, -1, 0, 1, 1): 8.784233454094307, (-1, -1, 1, 0, 1, -1, 0, 1, 1): -0.7097532301159999, (-1, -1, 1, 0, 1, -1, 0, 0, 1): 5.588074062568843, (-1, 0, 1, 0, 1, -1, 0, 0, 1): -2.401629908107145, (-1, 0, 0, 0, 1, -1, 0, 0, 1): 0.8107827263064591, (-1, 0, 1, -1, 1, 1, 0, 0, -1): 7.7577057770667235, (0, 0, 1, -1, 1, 1, 0, 0, -1): -5.047133608645434, (0, 0, 1, -1, 0, 1, 0, 0, -1): -1.588761643387397, (1, 1, -1, 0, -1, 1, 0, 1, -1): -7.526930534621171, (0, 1, -1, 0, -1, 1, 0, 1, 0): -7.206145876183921, (0, 1, -1, 0, -1, 0, 0, 1, 0): -5.403718921858145, (-1, -1, 0, -1, 1, 1, 1, -1, 1): 7.941088679053509, (0, -1, 0, -1, 1, 1, 1, -1, 1): 4.11713642346, (0, -1, 0, -1, 0, 1, 1, -1, 1): 2.436372928, (0, 0, 0, -1, 0, 1, 1, -1, 1): -1.761112038922878, (0, 0, 0, -1, 0, 1, 1, -1, 0): 1.403892182903753, (0, 0, 0, -1, 0, 1, 1, 0, 0): -2.007814287755516, (1, -1, -1, 1, 0, 1, 0, 1, -1): 3.675477066, (1, -1, -1, 1, 0, 0, 0, 1, -1): 5.23027687168, (0, -1, 0, 1, 0, 0, 0, 1, -1): -0.28055013887755864, (-1, -1, 0, 0, 1, 1, -1, 0, 1): 3.1448151099999997, (-1, 0, 0, 0, 1, 1, -1, 0, 1): -4.198173387901166, (1, 0, 1, 1, 1, -1, -1, -1, 0): -4.006844735587745, (1, 0, 1, 1, 0, -1, -1, -1, 0): 4.652097407199999, (1, 0, 1, 1, 0, -1, -1, 0, 0): -0.5125742708512049, (0, 0, 1, 1, 0, -1, -1, 0, 0): 0.11376673510146873, (-1, 0, 0, -1, 1, -1, 1, 1, 0): 6.12579511, (0, 0, 0, -1, 1, -1, 1, 1, 0): 4.4748805030026, (1, -1, -1, 1, 1, 0, -1, 1, -1): 9.88027484817438, (1, -1, -1, 1, 1, 0, 0, 1, -1): -6.400750618765143, (1, -1, -1, 0, 1, 0, 0, 1, -1): -2.1899999728117607, (1, -1, -1, 0, 1, 0, 0, 1, 0): -2.3664769439638618, (0, 1, 1, -1, 1, -1, 0, 0, -1): 6.5132155990000005, (0, 1, 1, -1, 1, 0, 0, 0, -1): 3.17501543061474, (0, 1, 0, -1, 1, 0, 0, 0, -1): 5.322344305570819, (-1, 1, 0, 0, 1, 1, -1, -1, 1): -6.421006395071974, (0, 0, 1, -1, -1, 0, -1, 1, 1): 7.015448714695174, (0, -1, 0, 0, -1, 1, 0, 1, 1): 2.2009855911126, (0, -1, 0, 0, -1, 1, 0, 1, 0): 0.28334165973926845, (0, 0, -1, 0, 1, -1, 1, 1, 0): -2.334061890943457, (0, 0, -1, 0, 1, -1, 0, 1, 0): 7.329070989801357, (1, 0, 1, -1, 0, 1, 1, -1, -1): 4.11713642346, (1, 0, 0, -1, 0, 1, 1, -1, -1): 1.34132696258, (1, 0, 0, 0, 0, 0, 1, -1, -1): 6.588681584704321, (1, 1, 0, -1, -1, 1, -1, -1, 1): 7.712320754503899, (1, 1, 0, 0, -1, 1, -1, -1, 1): -4.07974726, (1, 0, 0, 0, -1, 1, -1, -1, 1): 1.3166047964800003, (1, 0, 0, 0, -1, 1, -1, 0, 1): -3.9963136239834474, (1, 1, -1, 0, 0, -1, -1, 1, 1): -5.823302081446, (1, 0, -1, 0, 0, -1, -1, 1, 1): -0.025487792000000065, (0, 0, -1, 0, 0, -1, 0, 1, 1): 3.0618715469604503, (-1, 1, 1, 1, -1, -1, 0, 0, 1): -1.6999999685635847, (-1, 1, 1, 0, -1, -1, 0, 0, 1): -3.433498151231218, (-1, 1, 1, 0, -1, 0, 0, 0, 1): -2.535805734313078, (0, 0, -1, 1, 0, 1, 1, -1, -1): 4.0951, (0, 0, 0, 1, 0, 1, 1, -1, -1): -0.4791446399999999, (0, 1, 1, 1, 0, -1, -1, -1, 0): 4.17573469, (0, 1, 1, 1, 0, 0, -1, -1, 0): -2.322634360991641, (0, 1, 1, 0, 0, 0, -1, -1, 0): 2.5883111136679626, (0, 1, 1, 0, 0, 0, 0, -1, 0): -2.621506535572685, (-1, 1, 1, 0, 1, -1, -1, 0, 0): 5.905577483151294, (-1, 0, 0, 0, 1, 1, -1, 0, 0): 6.999298616390001, (0, 0, 1, -1, -1, 0, 1, 0, 1): -2.692768689563008, (0, 0, 0, -1, -1, 0, 1, 0, 1): 2.091719569262659, (1, -1, 0, 1, -1, 0, -1, 1, 1): -7.03316410712151, (0, -1, 0, 1, -1, 0, -1, 1, 1): -1.9007204306914405, (0, -1, 0, 1, -1, 0, 0, 1, 1): -1.4027990783230315, (1, -1, 0, 1, 0, 1, -1, 1, -1): -1.6996336776726504, (1, -1, 0, 1, 0, 1, -1, 0, -1): 1.96747381, (-1, 0, 1, 1, 0, 1, -1, 1, -1): -3.7770310000000005, (-1, 0, 1, 1, 0, 0, -1, 1, -1): -0.5490688400000003, (-1, 0, 1, 1, 0, 0, 0, 1, -1): -2.3367943, (-1, 0, 0, 1, 0, 0, 0, 1, -1): -1.210420963504932, (1, 0, 0, -1, -1, 0, 1, 1, 0): -8.052791485318313, (0, 1, 0, 1, -1, -1, -1, 1, 1): -7.133460722622633, (0, 1, 0, 1, -1, -1, 0, 0, 0): -0.4946560743457408, (0, 1, 0, 1, 0, -1, 0, 0, 0): -2.5684700038651123, (1, 0, 0, 0, -1, -1, 1, 0, 1): -4.776380505320137, (1, 0, 0, 0, -1, -1, 1, 0, 0): 7.031167484326683, (1, 0, 0, 0, 0, -1, 1, 0, 0): -0.1321225042138988, (-1, 0, 1, -1, -1, 0, 0, 1, 1): 2.4160510000000004, (-1, 0, 1, -1, 0, 0, 0, 1, 0): -1.497643746765399, (-1, 0, 1, 0, 0, 0, 0, 1, 0): -3.556710577623909, (-1, 1, -1, 0, 1, 0, 1, -1, 1): -1.6988164623644775, (0, 1, -1, 0, 0, 0, 1, -1, 1): -1.4359909065763337, (0, 1, -1, 0, 0, 0, 1, -1, 0): -0.9589453965027304, (1, -1, 1, 0, 0, -1, 1, 0, -1): 7.504795870207137, (1, -1, 1, 0, 0, -1, 1, 0, 0): 1.81316162292, (-1, -1, 1, 0, 1, 0, 0, -1, 1): 7.432095596511913, (0, 0, 1, 0, 1, -1, 0, 0, 0): 1.0841613249736728, (-1, 0, 0, -1, 1, -1, 1, 0, 1): 8.146979811148158, (0, -1, 1, 1, -1, -1, 0, 1, 1): -1.6133892645693426, (-1, -1, 1, -1, 1, 1, 0, 1, 0): -4.566382883062543, (-1, 0, 0, -1, 1, 1, 0, 1, 0): -5.325377339859615, (-1, 0, 0, -1, 1, 1, 0, 0, 0): -3.5409563606781846, (0, 1, 0, -1, 0, 1, 1, 0, -1): -0.7773387038230002, (-1, 1, -1, 1, -1, 1, 0, -1, 1): -0.9999153585021713, (-1, 0, 0, 1, -1, 1, 0, -1, 1): 2.9207126617879964, (-1, 0, 0, 1, 0, 1, 0, -1, 1): 0.9333546795233629, (-1, 0, 0, 1, 0, 1, 0, -1, 0): 4.030390147739591, (0, 1, 1, 0, -1, -1, -1, 1, 1): -9.54869787157904, (0, 0, 1, 0, -1, -1, -1, 1, 1): -2.505108212466455, (0, 1, -1, -1, 0, 1, 0, 1, -1): 1.6691999999999998, (0, 1, -1, -1, 0, 1, 0, 1, 0): 0.4296062795926998, (0, 1, 0, 0, -1, 1, -1, -1, 1): 2.429874313471, (0, 1, 0, 0, -1, 1, 0, -1, 1): -1.3512630843824507, (0, 1, 0, 0, -1, 1, 0, -1, 0): 1.1990130126969876, (0, 0, 1, -1, 1, -1, -1, 0, 1): 5.4506947079179335, (0, 0, 1, 0, 0, -1, -1, 0, 1): -0.0951989228211848, (1, -1, 1, 1, 1, -1, 0, -1, -1): 7.712320754503899, (0, 0, 1, 1, 1, -1, 0, -1, 0): 0.5586839500740677, (0, 1, 1, 0, 0, 0, -1, 0, 0): -2.3113975765443042, (-1, 0, 0, 1, 1, 0, 0, -1, 0): 7.836945900784998, (0, 0, 1, 0, 0, 0, -1, -1, 1): 7.664858443495112, (0, 1, -1, -1, 1, -1, 1, 0, 0): 3.3551842966513545, (0, 1, -1, 0, 1, -1, 1, 0, 0): -5.914940259138126, (1, 0, 0, 1, 0, -1, -1, -1, 1): 5.764415229999999, (1, 0, 0, 1, 0, -1, 0, -1, 1): 3.1984561194, (1, 0, 0, 1, 0, -1, 0, -1, 0): 6.890107018443444, (-1, -1, 0, 0, 1, 1, 0, -1, 1): 6.5132155990000005, (0, -1, 0, 0, 1, 1, 0, -1, 1): 3.0701927399999995, (0, -1, 0, 0, 0, 1, 0, -1, 1): 4.16848650181948, (0, 1, 0, -1, 1, 1, -1, -1, 0): -4.195279995562808, (0, 0, 1, 1, 0, 0, -1, -1, 0): -2.104098862392416, (0, 1, 1, 1, -1, 1, 0, -1, -1): -6.12579511, (0, 1, 0, 1, -1, 1, 0, -1, -1): -1.8936400000000004, (0, 1, 0, 1, -1, 1, 0, -1, 0): -3.612591469619001, (0, 1, 0, 1, -1, 0, 0, -1, 0): -0.8151404503433848, (-1, 0, -1, 0, 1, 1, 0, 1, -1): 6.12579511, (-1, 0, -1, 0, 1, 1, 0, 1, 0): -2.0223936406, (-1, 0, 1, 0, 0, -1, 1, -1, 1): 7.874664122389908, (-1, 0, 1, 0, 0, -1, 1, 0, 1): 5.163899620459882, (-1, 0, 1, 0, 0, -1, 0, 0, 1): 2.1995995657482452, (0, 0, 1, 0, 0, -1, 0, 0, 1): -4.141216614195901, (0, 1, 1, -1, -1, 1, 1, -1, -1): 9.418502629969598, (0, 1, 1, -1, 0, 1, 1, -1, -1): 4.62739245270234, (0, 1, 1, -1, 0, 1, 0, -1, -1): 4.056372928, (0, 1, 1, -1, 0, 1, 0, 0, -1): -1.6035134996555804, (1, -1, -1, -1, 1, 1, 1, -1, 0): 9.618479575523054, (1, -1, -1, -1, 1, 1, 1, 0, 0): 0.576031024069795, (1, 0, -1, -1, 0, 0, 1, 0, 0): 2.0722011433582295, (-1, 0, -1, 0, 0, 1, -1, 1, 1): -2.7512000000000003, (-1, 0, -1, 0, 0, 1, 0, 1, 1): -5.432553183267459, (1, -1, -1, -1, 0, 1, 1, 1, -1): -0.9749684449500675, (1, 0, 0, 1, -1, 0, -1, 0, 0): -3.8810621982305813, (1, -1, 1, 0, 1, 1, -1, -1, 0): -2.53889404597126, (1, -1, 1, 0, 1, 0, -1, -1, 0): 4.613193999652725, (1, 0, 1, 0, 1, 0, -1, -1, 0): -3.9990066291188557, (1, 0, 1, 0, 0, 0, -1, -1, 0): 3.9019600069897025, (1, 0, 1, 0, 0, 0, 0, -1, 0): -1.1026799775490748, (1, -1, 1, 1, 0, -1, -1, 0, 1): -0.259427203535897, (1, -1, 1, 0, 0, -1, -1, 0, 1): 8.036198318870582, (1, -1, 1, 0, 0, 0, -1, 0, 0): 2.0246749338795578, (-1, -1, 1, 1, -1, 1, -1, 1, 0): 9.353891811077332, (0, 0, 1, 0, -1, 1, -1, 0, 0): 7.966443407448564, (0, -1, 0, 1, 0, 1, 0, -1, 1): -0.9505554544000001, (0, -1, 0, 1, 0, 0, 0, -1, 1): -1.1751830076568004, (0, -1, 0, 1, 0, 0, 0, 0, 1): -1.772072456006322, (0, -1, 1, 1, 0, -1, 1, -1, 0): 7.1474616815419, (0, -1, 1, 1, 0, -1, 1, 0, 0): 3.42195372744, (0, -1, 1, 0, 0, -1, 1, 0, 0): 4.713386836376134, (1, -1, -1, -1, 1, 0, 0, 1, 0): 6.895326884298033, (0, -1, 0, 0, 1, 0, 0, 1, 0): -3.0326870687125536, (0, -1, 1, 1, -1, 1, -1, 0, 0): 1.418, (0, -1, 1, 1, -1, 1, 0, 0, 0): -5.038878045429592, (0, -1, 1, 0, -1, 1, 0, 0, 0): 4.926413956345016, (1, 0, -1, 0, -1, 1, 1, -1, 1): -8.073408583459212, (1, 0, -1, 0, -1, 1, 1, -1, 0): 6.667322881006155, (1, 0, 0, 0, -1, 1, 1, -1, 0): -6.323581305124899, (1, -1, -1, 0, 1, 0, 1, -1, 0): 8.22550440862802, (1, 0, -1, 0, 1, 0, 1, -1, 0): 4.254495668745504, (0, 0, -1, 0, 1, 0, 1, -1, 0): 0.9676424765498444, (-1, 1, 1, 0, -1, 0, -1, 0, 1): 6.897235000348095, (-1, 1, 1, 0, 0, 0, -1, 0, 1): -3.967700887816382, (0, 1, 0, 1, 0, 0, 0, -1, -1): -0.6319229134899264, (1, -1, 0, 0, -1, -1, 1, 1, 0): 5.7564997765039, (1, -1, -1, -1, 0, 1, 1, -1, 1): 9.749684449500677, (1, 0, -1, -1, 0, 1, 1, -1, 1): -0.4194326229163782, (1, 0, -1, -1, 0, 1, 0, -1, 1): 2.3312799999999996, (1, 0, -1, 0, 0, 1, 0, -1, 1): 0.15622906186599997, (1, 0, -1, 0, 0, 0, 0, -1, 1): 0.921332063652292, (1, 0, -1, 0, 0, 0, 0, 0, 1): -0.27669116897415535, (-1, 0, -1, 1, 1, 0, -1, 1, 0): 4.298075843748306, (-1, 0, 0, 1, 1, 0, -1, 1, 0): 2.491184848372944, (1, 1, -1, 0, 1, 1, -1, 0, -1): -6.61050734317632, (1, 0, -1, 0, 1, 1, -1, 0, -1): 8.455212111200236, (1, 0, -1, 0, 1, 1, 0, 0, -1): -2.145421928658933, (1, 0, 0, 1, -1, 1, -1, -1, 1): -8.146979811148158, (1, 0, 0, 0, -1, 0, -1, 0, 1): 1.0256851369620816, (1, -1, -1, -1, 0, 1, 0, 1, 1): 3.675477066, (0, 1, 0, 0, -1, 0, -1, 0, 1): 1.0801337551117467, (0, 1, 0, 0, 0, 0, -1, 0, 1): -2.6596973590756248, (1, 0, 0, -1, -1, 1, 1, -1, 0): -1.1067108556677605, (1, 0, 0, 0, -1, 1, 0, -1, 0): -3.0371621585386586, (0, 1, 1, 1, -1, -1, -1, 1, -1): 9.113706188034751, (0, 1, 1, 1, -1, -1, -1, 1, 0): -0.3042020681066616, (0, 1, 1, 0, -1, -1, -1, 1, 0): 1.1432799999999996, (0, 1, 1, 0, 0, -1, -1, 1, 0): 1.7234715604718611, (0, 0, 1, 0, 0, -1, -1, 1, 0): -1.5238157788488258, (0, 0, 1, 0, 0, 0, -1, 1, 0): -2.817043579984481, (-1, -1, 0, 1, 1, -1, 1, 1, -1): 9.418502629969598, (-1, -1, 0, 1, 1, -1, 1, 1, 0): -5.8343943184166145, (-1, -1, 0, 0, 1, -1, 1, 1, 0): 5.8330774072, (-1, -1, 0, 0, 1, 0, 0, 1, 0): -1.9941318289616983, (-1, -1, 1, 0, 0, -1, 1, 0, 1): 8.53063650198497, (-1, 1, -1, 1, -1, 1, 1, -1, 0): -0.9988209815422262, (-1, 1, -1, 1, -1, 1, 1, 0, 0): -7.477521482768429, (-1, 1, -1, 1, -1, 1, 0, 0, 0): -4.363360961823711, (-1, 1, 0, 1, -1, 1, 0, 0, 0): -6.0453532005061685, (-1, 1, 0, 1, -1, 0, 0, 0, 0): -3.3636239254431275, (-1, -1, 0, 0, -1, 1, 1, 1, 0): 1.1938358132707707, (-1, 0, 0, 0, -1, 1, 1, 1, 0): -2.656941295883998, (-1, 0, 0, 0, -1, 1, 1, 0, 0): -1.3973893070782926, (1, 1, 0, 1, 0, 0, 0, -1, -1): -3.194131816, (0, 0, 0, -1, 1, -1, 1, -1, 1): 8.192275860208982, (0, 0, 0, 0, 1, -1, 1, -1, 1): 5.285579069366236, (1, -1, 1, -1, 1, 1, 0, -1, -1): 9.576088417247838, (1, -1, 1, -1, 1, 1, 0, 0, -1): 0.02815287542856612, (1, -1, 1, -1, 0, 1, 0, 0, -1): -1.36247743118247, (1, 0, 1, -1, 0, 1, 0, 0, -1): -0.8730959548067165, (1, 0, 0, -1, 0, 1, 0, 0, -1): -0.231043038390005, (1, 0, 1, -1, -1, 0, 1, -1, 1): -7.4581341716709995, (0, 0, 1, -1, -1, 0, 0, 0, 1): 7.3251265672226005, (0, 0, 1, -1, 0, 0, 0, 0, 1): -0.49901535185206003, (1, 0, 1, 1, -1, -1, -1, 0, 0): 8.959672889928157, (0, 0, 1, 1, 0, 0, -1, 0, 0): -3.263500694130039, (0, -1, 1, 0, -1, -1, 1, 0, 1): 1.173318937893677, (0, -1, 1, 0, -1, 0, 1, 0, 1): -6.94231587541517, (-1, 0, 1, 1, -1, 0, -1, 0, 1): 4.442172444320581, (0, 0, 1, 1, -1, 0, -1, 0, 1): -2.4485367253573807, (0, 0, 1, 1, -1, 0, -1, 0, 0): -1.527223714257464, (-1, 1, 0, 1, 0, 0, -1, -1, 1): 1.9602544351999993, (-1, 1, 0, 1, 0, 0, -1, 0, 1): -2.46808187140279, (-1, 1, 0, 1, 0, 0, -1, 0, 0): -0.9773638751343993, (1, 1, -1, -1, 1, 0, 1, 0, -1): -5.49416900323, (0, 1, -1, -1, 1, 0, 1, 0, -1): 4.511260014764212, (0, 1, -1, -1, 1, 0, 1, 0, 0): 0.0029741148578292798, (0, 0, -1, -1, 1, 0, 1, 0, 0): 0.7477161328863802, (1, 0, 1, -1, 0, 0, 1, -1, -1): 8.286815232358503, (1, 0, 1, -1, 0, 0, 1, 0, -1): 5.518428520086425, (1, 0, 0, -1, 0, 0, 1, 0, -1): 2.599513588267386, (1, 0, 0, -1, 0, 0, 1, 0, 0): -3.5820309208455288, (1, -1, 1, 0, 1, 1, 0, -1, -1): -4.285954115861033, (1, -1, 1, 0, 0, 1, 0, 0, -1): -4.31762010992392, (0, 1, 1, 1, -1, 0, -1, 1, -1): -5.443317501100535, (0, 1, 1, 0, -1, 0, -1, 1, -1): 4.6771171298488, (0, 0, 1, 0, -1, 0, 0, 1, -1): -3.4260070475020394, (1, -1, -1, 0, 1, -1, 0, 1, 0): 6.1688107307423925, (1, 0, 0, 0, 0, -1, 0, 1, 0): -2.7414338869306927, (0, 0, -1, 1, 1, 0, 1, -1, -1): 5.72426191, (0, 0, -1, 1, 1, 0, 1, 0, -1): -5.885722000537548, (0, 0, -1, 1, 0, 0, 1, 0, -1): 6.119051000014823, (1, 1, -1, 0, -1, -1, 0, 1, 1): -8.332281830033342, (1, 1, -1, 0, -1, -1, 0, 0, 1): -4.615211855240001, (1, 1, -1, 0, -1, 0, 0, 0, 1): -8.289609176386852, (0, 0, 1, -1, 1, 0, -1, -1, 1): 4.197364476671217, (0, 0, 1, 0, 1, 0, -1, -1, 1): 3.500669336154128, (1, 0, 1, -1, 0, -1, -1, 0, 1): 6.895442857176819, (1, 0, 1, -1, 0, 0, -1, 0, 1): 3.7544724284766, (1, 0, 0, -1, 0, 0, -1, 0, 1): 4.930867947320841, (-1, 1, 0, 0, 0, 1, 1, -1, -1): 1.4513371589807598, (-1, 1, 0, 0, 0, 1, 1, -1, 0): -2.4769068915544685, (-1, 1, 0, 0, 0, 0, 1, -1, 0): -3.0576433535169247, (-1, -1, 1, 0, 0, 0, 1, 0, 1): 4.144170486688895, (-1, -1, 1, 0, 0, 0, 1, 0, 0): 7.609534101182306, (-1, 0, 1, 1, 1, -1, -1, 1, -1): 9.942735831029776, (-1, 0, 1, 1, 1, -1, -1, 1, 0): -1.6807118324918533, (-1, 0, 0, 1, 1, -1, -1, 1, 0): 6.458877218008301, (0, 1, 1, -1, -1, 0, -1, 1, 0): 1.9711278999999995, (0, 1, 1, 0, -1, 0, -1, 1, 0): -3.478825202197204, (0, 1, 1, 0, -1, 0, -1, 0, 0): 7.265438524674793, (-1, 0, 0, 0, 1, 1, -1, 1, 0): -2.9619445940875, (-1, 0, 1, 0, 0, 0, 1, -1, 1): 2.1912757708011332, (-1, 0, 1, 0, 0, 0, 0, -1, 1): 8.148820865616361, (1, 1, 0, -1, -1, 1, -1, 1, 0): -3.6418210219877456, (1, 0, 0, -1, -1, 1, -1, 1, 0): 1.2262026168319997, (1, 0, 0, -1, 0, 1, -1, 1, 0): 0.3363463295642348, (0, -1, 1, 1, -1, -1, -1, 1, 1): -0.9999998891179019, (0, -1, 1, 0, 0, -1, 0, 0, 1): -0.40459581777022974, (1, -1, 0, -1, 0, 0, 1, 0, 0): 1.959393783715917, (-1, -1, 1, -1, 1, 0, 0, 0, 1): 7.221032832402999, (0, -1, 1, -1, 1, 0, 0, 0, 1): 3.85733444370234, (0, -1, 0, -1, 1, 0, 0, 0, 1): 6.871830202542013, (0, -1, 0, 1, -1, -1, 0, 1, 1): 4.3047560989, (0, 0, 0, 1, -1, -1, 0, 1, 1): 0.6971390528433002, (0, 0, 0, 1, 0, -1, 0, 0, 1): -2.0286606811483425, (1, 1, 0, -1, -1, 0, 0, 0, 0): 3.6735672843636733, (0, 1, 1, 0, -1, 0, 0, -1, 0): 7.243315002956523, (1, -1, -1, 0, 0, -1, 1, 0, 1): 5.217031, (1, -1, -1, 0, 0, 0, 1, 0, 1): 0.6583093494, (1, -1, -1, 0, 0, 0, 1, 0, 0): 9.13145755087118, (1, -1, 0, 0, -1, 0, 0, 1, 0): 1.4609800758076565, (0, 1, 0, 1, -1, 1, -1, 1, -1): -7.17570463519, (0, 1, 0, 1, -1, 0, -1, 1, -1): -4.674879951199999, (-1, 1, 1, 0, 1, 1, -1, 0, -1): -8.784233454094307, (-1, 1, 1, 0, 1, 0, -1, 0, -1): 7.286361426591197, (-1, 1, 1, 0, 1, 0, 0, 0, -1): 4.883758151615719, (-1, 1, 1, 0, 0, 0, 0, 0, -1): 1.144497661739219, (0, 1, -1, -1, -1, 1, 1, -1, 1): -0.9999885661887271, (0, 1, -1, 0, -1, 1, 1, -1, 1): -1.6999999986673742, (0, 1, -1, 0, -1, 1, 1, 0, 0): -2.5501646495428965, (0, 1, 0, -1, 0, -1, 1, 1, 0): -0.3270270000000002, (0, 0, 0, -1, 0, -1, 1, 1, 0): 4.051693315751555, (1, 0, 1, 1, 1, -1, 0, -1, -1): -2.33983, (0, 0, 1, 1, 1, 0, 0, -1, -1): -3.9662425332562976, (0, 0, 1, 0, 1, 0, 0, -1, -1): 3.2485379053835137, (1, 1, -1, 1, -1, 0, 0, 1, -1): -7.712320754503899, (1, 0, -1, 1, -1, 0, 0, 1, -1): -0.11670116119999974, (0, -1, -1, 0, 0, 1, 0, 0, 1): -1.4902411528641273, (1, 1, 0, -1, -1, 1, 1, -1, -1): 9.903022627021247, (1, 1, 0, 0, -1, 1, 1, -1, -1): 5.717392278165225, (1, 1, 0, 0, -1, 0, 1, -1, -1): 5.70190994745472, (0, -1, 0, 0, -1, 1, 0, 0, 1): 3.610352939552932, (0, -1, 0, 0, 0, 1, 0, 0, 1): -1.3025627183328008, (1, 0, 0, 0, 0, -1, 1, -1, 1): 3.648480939580602, (0, 0, 0, 0, 0, -1, 1, -1, 1): 1.3727584100486245, (1, 0, 1, 1, -1, -1, 0, -1, 0): 5.06291311, (0, -1, -1, 1, 1, 0, 0, 0, 0): 3.6162903479384383, (-1, 1, 0, 1, -1, 1, 1, -1, 0): -8.250248568572518, (-1, 1, 0, 0, -1, 1, 1, -1, 0): -2.7209854246176524, (0, 1, 0, 0, -1, 0, 1, -1, 0): 0.9140178602130122, (0, 1, 1, 1, 1, -1, -1, -1, 0): -6.693978976365767, (0, 1, 0, 1, 1, -1, -1, -1, 0): -2.5256308241519942, (0, 1, 0, 1, 1, -1, 0, -1, 0): -2.265011314567869, (1, -1, 1, -1, 0, -1, -1, 1, 1): 9.282102012308147, (1, -1, 1, 0, 0, -1, -1, 1, 1): -1.2275728632166873, (1, -1, 0, 0, 0, -1, -1, 1, 1): 1.2059494846799999, (1, 0, 0, 0, 0, -1, -1, 1, 1): -2.2191326635583577, (1, 0, 0, 0, 0, -1, -1, 0, 1): 6.188931242036098, (-1, 0, 1, 1, -1, -1, 1, -1, 1): -0.9994924712139436, (-1, 0, 1, 1, -1, -1, 1, 0, 1): -0.7527985779568216, (-1, 0, 1, 1, -1, -1, 1, 0, 0): -3.5515814648439825, (0, 0, 1, 1, -1, -1, 1, 0, 0): -0.17149943316653665, (-1, 0, -1, 0, 1, 1, 0, 0, 0): 8.752168753298703, (0, 0, -1, 1, -1, 1, 1, -1, 0): 3.0915972283719895, (0, 0, -1, 1, 0, 1, 1, -1, 0): -0.24445182999999993, (0, 0, -1, 1, 0, 0, 1, -1, 0): 3.4466289114143995, (1, -1, 0, 0, -1, 1, 1, 0, 0): -4.4803698774379255, (1, 0, -1, 0, 0, 1, -1, 1, -1): 0.3472247119999997, (1, 0, -1, 0, 0, 1, 0, 1, -1): -2.4947327321530874, (-1, 1, 1, -1, 1, 1, 0, -1, -1): 9.01522909781639, (-1, 1, 1, -1, 1, 1, 0, -1, 0): -4.76663114752312, (-1, 1, 1, -1, 1, 0, 0, -1, 0): 7.543452139311812, (-1, 1, 1, -1, 1, 0, 0, 0, 0): -4.316666862820206, (1, -1, -1, 1, -1, 1, 0, 1, -1): 9.476652366972639, (0, 0, -1, 1, -1, 1, 0, 1, -1): -4.616872103168, (0, 0, 0, 1, -1, 0, 0, 1, -1): -2.2686754580809847, (0, -1, 0, 0, 1, -1, 1, 0, 0): 5.21660697100644, (0, -1, -1, 1, 0, 1, 1, 0, -1): 1.819, (-1, 0, 1, 1, -1, 1, -1, 0, 0): 0.6244820488, (-1, 0, 1, 1, -1, 1, 0, 0, 0): -4.040696225350749, (-1, 0, 1, 1, -1, 0, 0, 0, 0): -1.9171326658568422, (1, 1, 0, 1, -1, 0, -1, -1, 0): 5.159260717156753, (-1, 0, -1, 1, 1, -1, 0, 1, 1): -6.43944142068391, (-1, -1, 0, 1, 1, -1, 0, 0, 1): -1.892556559299863, (-1, 0, 0, 1, 1, -1, 0, 0, 1): -2.8248061857725713, (1, 0, 1, 1, -1, -1, 0, -1, 1): -6.081050376044115, (1, 0, 1, 0, -1, -1, 0, -1, 1): 3.6773742520000003, (1, 0, 1, 0, 0, -1, 0, -1, 1): 0.905093123776386, (0, 0, 1, 0, 0, -1, 0, -1, 1): 2.4052450887264025, (1, 1, -1, 1, 1, -1, -1, -1, 0): 8.905810108684877, (1, 1, -1, 1, 1, 0, -1, -1, 0): -4.565500998940001, (1, 0, -1, 1, 1, 0, 0, -1, 0): 3.723517206636, (1, 0, -1, 1, 0, 0, 0, -1, 0): 6.071116223542998, (1, -1, 0, 1, -1, 1, -1, 0, 1): -6.8618940391, (0, -1, 0, 1, -1, 1, -1, 0, 1): 0.14392000000000005, (0, -1, 0, 1, -1, 1, 0, 0, 1): -4.398125526182146, (0, -1, 0, 1, -1, 0, 0, 0, 1): -2.2252146821049434, (1, 1, -1, -1, 1, 1, 0, -1, -1): -0.9999999999999996, (1, 1, 0, -1, 1, 1, 0, -1, -1): -6.196696407565302, (1, 0, 0, -1, 1, 1, 0, -1, -1): -1.2243367920348702, (1, 0, 0, -1, 1, 1, 0, -1, 0): 0.6912420422458425, (1, -1, 0, 1, 1, 0, -1, -1, 0): 4.9448151099999995, (1, -1, 0, 1, 1, 0, 0, -1, 0): 3.24342660732, (1, -1, 1, 1, -1, -1, -1, 1, 0): -0.9999999999999996, (1, -1, 1, 1, 0, -1, -1, 1, 0): -1.5325889466287863, (0, -1, 0, 1, 0, -1, 0, 1, 0): -0.43778696604900014, (1, -1, 0, 0, 1, -1, 1, 1, -1): -5.3072643627436324, (0, 0, 0, 0, 0, 0, 1, 1, -1): -3.1511430319661855, (0, 1, 1, -1, -1, 1, -1, 1, -1): 8.784233454094307, (0, 1, 1, -1, 0, 1, -1, 1, -1): -1.60534, (0, 1, 0, -1, 0, 1, -1, 1, -1): 2.9432799999999997, (-1, 1, 1, -1, 0, 1, 1, -1, -1): 9.01522909781639, (0, 1, 0, 0, 0, 1, 0, -1, -1): -0.7095882708830754, (0, 1, 0, 0, 0, 1, 0, -1, 0): -2.647276343879075, (1, -1, 1, -1, -1, 1, 0, 0, 0): 4.536662881665268, (0, 1, 1, -1, 1, -1, -1, 0, 1): -1.789272577927, (1, -1, 1, -1, 1, 0, -1, 1, -1): -0.9942735831029776, (1, -1, 0, -1, 1, 0, 0, 1, -1): -1.102311893093948, (1, -1, 0, -1, 1, 0, 0, 1, 0): 0.5340710012269226, (1, -1, -1, 1, -1, 0, 0, 1, 1): -1.7438144700000002, (1, -1, -1, 1, -1, 0, 0, 0, 1): 2.3075069408632, (1, -1, -1, 1, 0, 0, 0, 0, 1): 2.674247479920184, (1, 0, -1, 0, 0, -1, 1, -1, 1): 7.909878471880158, (1, 0, -1, 0, 0, 0, 1, -1, 1): 5.529053102560239, (0, 0, -1, 0, 0, 0, 1, -1, 1): 2.47207434193775, (1, 1, 0, 1, -1, 1, -1, -1, 0): -8.905810108684877, (-1, -1, 1, 0, 0, 1, 0, 1, -1): 1.0060249279999998, (0, 0, -1, 1, -1, 0, 1, 1, -1): 2.2489899502009103, (0, 0, 0, 1, -1, 0, 1, 1, -1): -6.725341374239177, (1, 1, 0, -1, 0, -1, 0, -1, 1): 4.2430141, (0, 1, 0, -1, 0, -1, 0, 0, 1): 0.1802262404898678, (0, 1, 1, 0, -1, 1, 1, -1, -1): -5.036562938117345, (0, 1, 1, 0, -1, 0, 1, -1, -1): 0.26825816368, (0, 0, 0, 1, -1, 1, -1, 1, 0): -6.306263608947893, (0, 0, 0, 0, -1, 1, -1, 1, 0): -2.6877819877998324, (0, 1, -1, 0, 0, 0, 0, 1, -1): 0.53048777050839, (1, -1, 0, 1, -1, -1, 0, 0, 1): 2.9110851559090003, (1, 1, -1, 1, 1, -1, -1, 0, 0): -1.8871992357497276, (0, 1, -1, 1, 1, -1, -1, 0, 0): 6.591760528692204, (0, 1, -1, 1, 0, -1, 0, 0, 0): -2.874423319455009, (1, 0, 1, 0, 0, -1, -1, 0, 0): 6.296605762244397, (-1, 1, 1, 0, 0, 1, -1, 1, -1): -5.217031, (-1, 1, 1, 0, 0, 1, -1, 0, 0): -5.197981472409141, (-1, 0, 1, 0, 0, 1, -1, 0, 0): 1.5570658042946603, (1, 1, -1, -1, 1, 0, 1, -1, -1): -0.995361602313412, (1, 1, -1, 0, 1, 0, 1, -1, -1): -8.736502940603758, (1, 0, -1, 0, 1, 0, 1, -1, -1): 8.569572300312883, (0, 1, 1, -1, 0, 1, 0, -1, 0): 3.76673439265116, (0, 0, 1, -1, 0, 1, 0, -1, 0): 4.282381633286468, (1, -1, -1, 1, 1, 0, -1, 1, 0): 5.099432188218006, (1, -1, -1, 0, 1, 0, -1, 1, 0): 9.014990312840236, (1, 0, -1, 0, 1, 0, -1, 1, 0): 4.117058859984047, (0, -1, 1, 1, -1, -1, 1, 0, 0): 6.5132155990000005, (0, -1, 1, 1, -1, 0, 1, 0, 0): -6.026698598645765, (0, -1, 0, 1, -1, 0, 1, 0, 0): 5.0131918242199145, (0, -1, 1, 1, 0, 0, -1, -1, 1): 2.4944459, (0, -1, 1, 1, 0, 0, -1, 0, 1): -0.10886518096175829, (-1, 1, 1, -1, -1, 0, 1, -1, 1): 9.528987130275375, (-1, 1, 1, -1, -1, 0, 1, 0, 1): -4.388379137291194, (1, 0, -1, -1, -1, 1, 1, -1, 1): -0.9999994614527741, (1, 0, 0, -1, -1, 1, 1, -1, 1): -8.556111100123147, (1, 0, 0, -1, -1, 0, 1, -1, 1): -5.727063542044383, (1, 0, 0, -1, 0, 0, 1, -1, 0): 0.08885616171557953, (-1, 1, 1, -1, 1, 0, 0, -1, 1): -4.85109861052087, (-1, 0, 1, -1, 1, 0, 0, 0, 1): -1.3443588883594, (-1, 0, 1, -1, 0, 0, 0, 0, 1): 2.4136508841159285, (0, 1, 1, 1, 0, -1, -1, 1, -1): 4.11713642346, (0, 1, 1, 0, 0, -1, -1, 1, -1): 4.89144178648, (0, 1, 1, 0, 0, -1, -1, 0, 0): 4.347249020676321, (-1, 1, 0, 1, 0, 1, -1, 0, -1): -0.35414900000000027, (-1, 1, 0, 1, 0, 1, -1, 0, 0): -3.7699106622859446, (-1, 1, 0, 0, 0, 1, -1, 0, 0): -4.354584840218861, (-1, 1, 1, 1, -1, -1, -1, 1, 0): -0.999140495544283, (-1, 1, 1, 1, -1, 0, -1, 1, 0): -7.587624280300476, (-1, 0, 1, 1, -1, 0, -1, 1, 0): -0.5497248637971411, (-1, 0, 1, 1, 0, 0, -1, 1, 0): -2.322486415070701, (-1, 0, 1, 0, 0, 0, -1, 1, 0): -4.2738684051158415, (1, 0, 1, -1, 1, 0, -1, 0, -1): 5.9097713329944295, (1, 0, 1, -1, 1, 0, -1, 0, 0): 5.180608232427778, (1, 0, 0, -1, 1, 0, -1, 0, 0): 7.088860218541603, (0, 1, -1, 0, -1, 0, 1, 1, 0): -4.607304488355841, (-1, -1, 1, 0, -1, 1, 1, 0, 0): 1.0943478999999998, (-1, 0, 1, 0, -1, 1, 1, 0, 0): -6.639517265019029, (-1, 0, 0, 0, -1, 0, 0, 1, 1): 8.457420896692069, (1, -1, 0, 0, 0, -1, 0, 1, 1): 2.5382657217761597, (0, -1, 0, 0, 0, -1, 0, 1, 1): 3.826753878457666, (0, 0, 0, 0, 0, -1, 0, 1, 1): 1.5816809616583576, (-1, -1, 0, 1, 0, -1, 0, 1, 1): 2.20532059, (-1, -1, 0, 1, 0, 0, 0, 1, 1): -3.2450877881497, (-1, -1, 0, 0, 0, 0, 0, 1, 1): 2.6606480563120343, (1, -1, -1, 1, 0, 1, 0, -1, 1): -0.43894, (1, -1, -1, 1, 0, 0, 0, -1, 1): 3.1030768, (1, -1, 0, 1, 0, 0, 0, -1, 1): -3.1626766210276003, (1, -1, 0, 0, 0, 0, 0, -1, 1): 2.2098767762240166, (1, 0, 1, 0, -1, -1, -1, 1, 1): -8.65931853912575, (1, 0, 0, 0, -1, -1, -1, 1, 1): -5.274330966839945, (1, -1, 1, -1, 1, -1, -1, 1, 0): 9.202335569231275, (1, -1, 1, -1, 1, -1, 0, 1, 0): 4.305422781114, (1, -1, 0, -1, 1, -1, 0, 1, 0): 6.163642386143495, (1, 0, 0, -1, 1, -1, 0, 1, 0): 4.1687222625390605, (1, -1, -1, 0, 0, 0, 1, 1, 0): 4.746606908021097, (-1, -1, 1, 1, -1, 1, 0, 0, 0): 0.9625646763010471, (-1, 0, 1, 0, -1, 1, 0, 0, 0): 6.12630403183771, (-1, -1, 0, 0, 1, 1, 1, 0, 0): -2.405159334355564, (-1, -1, 0, 0, 0, 1, 1, 0, 0): -0.6336645988089923, (0, 1, -1, 1, 0, 0, -1, 0, 1): -2.98019, (0, 0, -1, 1, 0, 0, -1, 0, 1): 0.7257751173366795, (-1, 0, -1, 1, 0, 1, -1, 0, 1): -1.0981664000000004, (-1, 0, 0, 1, 0, 1, -1, 0, 1): 0.008397542436540117, (-1, 0, 0, 1, 0, 0, -1, 0, 1): -0.8815786123826204, (-1, 1, 0, -1, -1, 1, 1, 0, 1): 4.4748805030026, (-1, 1, 0, -1, -1, 1, 1, 0, 0): 0.5574280424646627, (0, 1, 0, -1, -1, 1, 1, 0, 0): -1.4115088893373502, (0, 1, 0, -1, -1, 1, 0, 0, 0): 0.7349322254133475, (-1, -1, 1, 1, 0, -1, 1, 1, -1): 8.649148282327008, (0, -1, 1, 1, 0, 0, 0, 1, -1): -2.5153412539831064, (0, -1, 1, 0, 0, 0, 0, 1, -1): -3.0573906069693666, (-1, 1, 1, -1, -1, 0, 1, 0, 0): -5.919082863858385, (-1, 1, 1, -1, 0, 0, 1, 0, 0): -2.4777775729531193, (0, 1, -1, 0, -1, 1, 0, -1, 1): -2.6818013024935023, (0, 0, 0, 0, -1, 1, 0, -1, 1): 0.9192217216601748, (-1, 1, 0, -1, 1, -1, 1, 0, 0): 4.6371799, (0, 1, 0, -1, 1, -1, 1, 0, 0): 3.0083223486012955, (-1, -1, 0, 0, 1, -1, 1, 0, 1): 5.083459032403, (-1, 0, 0, 0, 1, -1, 1, 0, 1): 2.6840091767320122, (1, 0, 1, 0, -1, 0, -1, -1, 1): 7.901511828106427, (1, 0, 1, 0, -1, 0, -1, 0, 1): 5.4239299805678405, (-1, -1, 0, 1, 1, 0, 0, 0, 1): -4.920376345298287, (-1, 1, 1, 1, -1, 0, -1, -1, 1): 9.797244404095547, (-1, 1, 1, 1, -1, 0, -1, 0, 1): -1.6983282669812951, (-1, 1, 1, 1, 0, 0, -1, 0, 0): -3.14822962453118, (-1, 0, 1, 1, 0, 0, -1, 0, 0): 0.289992716822024, (1, -1, 0, 1, 1, -1, -1, 1, 0): -1.6609839499385242, (0, -1, 0, 1, 1, -1, -1, 1, 0): -2.0177630721278903, (0, -1, 0, 1, 1, 0, -1, 1, 0): -2.3181258609105235, (0, 1, -1, 1, 0, 0, 1, 0, -1): -3.905344216, (-1, 0, 0, 1, 1, -1, 1, -1, 0): 7.453834054991689, (-1, 0, 0, 1, 1, 0, 1, -1, 0): 5.549292815184972, (-1, 0, 0, 0, 1, 0, 1, -1, 0): 5.548274886859089, (-1, 1, 0, -1, 1, 1, 0, -1, 1): -7.252969380148609, (-1, 1, 0, -1, 1, 1, 0, -1, 0): -2.1916772773561304, (-1, 1, 0, -1, 1, 1, 0, 0, 0): -5.438055914496299, (-1, 1, -1, 0, 1, -1, 1, -1, 1): -0.992144832788721, (-1, 1, -1, 0, 1, -1, 1, 0, 1): 1.3079423160990158, (-1, 1, -1, 0, 1, -1, 1, 0, 0): 5.846953637912304, (0, 0, -1, -1, 1, 0, 1, 1, -1): 8.243283187219212, (0, 0, -1, 0, 1, 0, 1, 1, -1): -5.58484197874608, (0, 0, -1, 0, 1, 0, 1, 0, -1): -1.8629005206458091, (0, -1, -1, 1, -1, 1, 1, 1, -1): 7.17570463519, (0, -1, -1, 1, 0, 0, 1, 1, -1): 2.96554341686392, (-1, 1, -1, 0, 0, 0, 0, 1, 0): 3.94030564190181, (0, 1, 1, -1, 0, 0, 1, 0, -1): 2.712706870696, (1, 0, -1, 1, 1, 0, 0, -1, -1): 4.50616902301, (1, 0, -1, 1, 1, 0, 0, 0, -1): -7.020737821801413, (1, -1, 1, 1, -1, 1, 0, 0, -1): -8.56935239557838, (1, -1, 0, 1, -1, 1, 0, 0, -1): 2.3002290109000003, (0, -1, 0, 1, 0, 1, 0, 0, -1): 2.1712773002, (-1, 1, -1, -1, -1, 1, 1, 1, 0): 9.113706188034751, (0, 1, -1, -1, -1, 1, 1, 1, 0): -0.18070180185135887, (0, 0, -1, -1, -1, 1, 1, 1, 0): 4.2840568, (0, 0, 0, -1, -1, 1, 1, 1, 0): -0.8325312143206, (0, 0, 0, -1, -1, 1, 0, 1, 0): 0.3775261159576912, (1, 1, 0, 0, -1, 0, 0, 0, -1): 6.444963314956777, (-1, 0, 1, 0, 1, 1, 0, -1, -1): 7.822051863995631, (0, 0, 1, 0, 1, 1, 0, -1, -1): -4.230324173497348, (-1, 1, -1, 0, 1, 1, 1, -1, -1): 9.948462247926798, (-1, 1, 0, 0, 1, 1, 1, -1, -1): 5.343486065210926, (-1, 1, 0, 0, 1, 0, 1, -1, -1): 7.237588212804748, (-1, 1, 0, 0, 1, 0, 1, -1, 0): -2.528923863972565, (1, 1, -1, -1, 0, 1, 0, 1, -1): -0.5754229239650298, (0, 0, 1, 1, 0, -1, 1, -1, -1): 5.615962398999999, (0, 0, 1, 1, 0, -1, 1, -1, 0): 2.7143396962206783, (-1, -1, 1, 1, -1, 0, 0, 1, 0): 1.6370854902448757, (-1, 0, 1, 1, -1, 0, 0, 1, 0): -2.03591862384184, (0, -1, 0, 1, 1, -1, 0, 1, -1): -2.2521875581239885, (0, -1, 0, 1, 1, 0, 0, 1, -1): -1.740466027674413, (0, -1, 0, 0, 1, 0, 0, 1, -1): -2.1421072279236038, (0, -1, 0, -1, 1, 0, 1, 1, 0): 3.2478392354754244, (0, -1, 0, -1, 1, 0, 1, 0, 0): 5.079064965861779, (0, 0, 1, 0, 1, -1, -1, 1, -1): 3.846045803247019, (0, 0, 1, 0, 1, -1, 0, 1, -1): 2.1288616256094004, (1, 0, -1, 0, 0, 0, 1, -1, 0): 7.404518620946241, (1, -1, -1, 1, 0, -1, -1, 1, 1): 7.4581341716709995, (1, 0, -1, 1, 0, -1, -1, 1, 1): -4.786819668227261, (1, 0, -1, 1, 0, -1, -1, 1, 0): -3.1619500928000006, (-1, 0, 1, -1, 1, 0, 0, 0, 0): 5.0333630091261, (1, -1, -1, 0, 0, 1, 1, -1, 1): -1.230508754886, (1, -1, -1, 0, 0, 0, 1, -1, 1): 7.757940968979093, (0, -1, 0, 1, 1, 0, 0, 0, -1): 5.143280773178077, (0, 0, -1, 0, 1, 1, 0, 0, 0): -2.9706852371574204, (1, -1, 0, 0, 1, 1, -1, -1, 0): 4.005590000000001, (1, 0, 0, 0, 1, 1, -1, -1, 0): -1.3323698654891807, (1, 0, 0, 0, 0, 1, -1, 0, 0): -3.462397887955961, (1, 0, -1, -1, 0, 0, 0, 0, 1): 0.6781349286280001, (1, 0, 0, -1, -1, 0, 1, 1, -1): -4.16847630008822, (1, 0, 0, 0, -1, 0, 1, 1, -1): -2.5649030044026095, (1, -1, 1, 1, -1, 0, 0, 0, -1): 3.8046801348215227, (1, -1, 1, 1, 0, 0, 0, 0, -1): -0.6112532532819999, (-1, 0, 0, 1, 0, 1, 1, -1, -1): 0.8848511199999998, (0, -1, 0, 1, 0, 1, 1, -1, 0): -3.921031, (0, -1, 0, 1, 0, 0, 1, -1, 0): 2.9912668173032406, (1, -1, 0, 1, 0, -1, -1, 1, 1): 0.9860639404600001, (1, -1, 0, 1, 0, -1, -1, 1, 0): -1.21757457261, (1, -1, 0, 1, 0, 0, -1, 1, 0): -2.3182134388341957, (-1, 0, 0, 0, 1, 1, -1, 1, -1): 5.6953279000000006, (-1, 0, 0, 0, 1, 1, 0, 1, -1): 4.4145844245627375, (0, 0, -1, 1, -1, 0, 0, 1, 0): -0.9195036406780002, (1, 1, 0, -1, 0, 0, 0, -1, 0): 5.161015580467923, (-1, 0, 0, 1, 1, -1, 1, 0, -1): 6.200617140543566, (1, 0, 1, -1, 0, -1, 1, 1, -1): -1.2938383, (1, 0, 0, -1, 0, -1, 1, 1, -1): -1.5524000000000002, (1, 0, 0, -1, 0, 0, 1, 1, -1): -2.578833043585673, (1, 0, 0, -1, 0, 0, 0, 1, -1): 0.1261040973889997, (0, 0, 1, 1, 1, -1, -1, -1, 0): -3.2010262934492677, (0, 0, 1, 1, 1, 0, -1, -1, 0): -6.765583676461722, (-1, 0, 0, 1, 0, -1, 1, 1, -1): -4.949534422710008, (-1, 0, 0, 1, 0, 0, 1, 1, -1): -8.07014089400685, (0, 1, 1, 0, -1, 1, -1, 1, -1): -3.3372725476196647, (0, 1, 0, 0, -1, 1, -1, 1, -1): -5.250081758417728, (0, 1, 0, 0, 0, 1, -1, 1, -1): -2.670687703406514, (0, 1, 0, 0, 0, 0, -1, 1, -1): 5.43348439748037, (0, 0, 1, -1, 0, 1, 1, -1, 0): 3.97163678461116, (1, -1, 0, -1, -1, 1, 0, 1, 0): 1.1843499199999996, (1, 0, 0, -1, -1, 1, 0, 1, 0): -1.530805441702635, (1, 1, 0, 0, -1, -1, 1, 0, -1): 3.8068606900000006, (-1, 1, -1, 1, 1, 0, -1, -1, 1): 9.892247363356942, (-1, 1, 0, 1, 1, 0, -1, -1, 1): -1.2022907162764362, (-1, 0, 0, 1, 1, 0, -1, -1, 1): 4.505582390309307, (-1, 0, 0, 1, 1, 0, -1, 0, 1): -0.937485258250222, (0, 1, 0, -1, -1, 1, 1, -1, 0): 2.5086935296909294, (-1, -1, 1, 1, 0, 1, 1, -1, 0): 2.4570600000000002, (-1, -1, 1, 1, 0, 1, 0, -1, 0): 0.6079999999999999, (1, -1, -1, 0, 1, 1, 0, 1, -1): -1.699999954526246, (1, -1, 1, 1, -1, 1, -1, 0, -1): -0.9282102012308148, (1, -1, 1, 0, 0, 1, -1, 0, -1): -3.5566140586227184, (1, -1, 1, 0, 0, 1, -1, 0, 0): 0.1933460576184865, (0, 1, 0, 1, 0, 0, -1, 0, -1): -4.880974994117777, (-1, 1, 0, 1, 1, 0, -1, 0, -1): 5.513444396658099, (-1, 1, 0, 1, 1, 0, -1, 0, 0): 4.771433192204997, (-1, 0, 0, 1, 1, 0, -1, 0, 0): 9.195521497841613, (1, 1, 0, 0, -1, 0, 0, 1, -1): -4.524013282562459, (-1, 1, 1, 0, 0, 0, -1, -1, 1): 0.4246987966764948, (0, 1, -1, 1, 0, 1, -1, 1, -1): -0.3989999999999999, (0, 1, -1, 1, 0, 1, -1, 0, -1): -0.3680000000000001, (-1, 1, -1, 0, -1, 1, 1, 1, 0): -6.48493808885671, (-1, 1, 0, 0, -1, 0, 0, 1, 0): -5.539572580521889, (0, -1, 1, 1, 0, 0, 1, -1, 0): -1.9004156767710947, (0, -1, -1, 0, 1, 1, 1, 1, -1): -7.530155047936955, (0, 0, -1, 0, 0, 1, 1, 1, -1): -2.9702026147085188, (1, 0, 1, -1, -1, 0, -1, 0, 1): 7.75372774884738, (0, 0, 1, -1, 0, 0, -1, 0, 1): 5.838182683551998, (0, 0, -1, 1, 0, 1, -1, 1, 0): -2.4996910897, (0, 0, 0, -1, -1, 0, 1, 1, 0): 4.84970220650311, (-1, -1, 0, -1, 0, 1, 0, 1, 1): 3.06559, (-1, -1, 0, 0, 0, 1, 0, 1, 1): -0.9321814, (0, -1, 1, 0, 1, 0, 0, -1, 0): 3.668479743169529, (0, -1, 1, 0, 1, 0, 0, 0, 0): 0.25491699548449265, (-1, 0, -1, 1, 0, 1, 0, -1, 1): 3.9215251, (1, 1, 0, 0, -1, 1, -1, 1, -1): -5.678271853125889, (1, 0, 0, 0, -1, 1, -1, 1, -1): -2.250779162219707, (1, 0, 0, 0, -1, 1, -1, 1, 0): -6.484780867272729, (1, 0, 0, 0, -1, 0, -1, 1, 0): -2.7588400271019227, (-1, 0, 0, -1, 0, 1, 1, 0, 1): 1.5386558855999999, (-1, 0, 0, -1, 0, 0, 1, 0, 1): 2.984487818865778, (0, 1, 1, -1, -1, 0, 1, 1, -1): -6.5132155990000005, (0, 0, -1, 0, 1, 1, -1, 0, 0): 8.47968503958328, (0, -1, 1, -1, 1, 1, -1, 0, 0): 4.571537289415119, (0, -1, 1, 0, 1, 0, -1, 0, 0): 0.4875730931581729, (0, 1, 1, -1, 1, -1, 0, -1, 0): 8.335397925434028, (0, 1, 1, 0, 1, -1, 0, -1, 0): 2.271527119023128, (0, 1, 1, 0, 0, -1, 0, -1, 0): 5.045597014284328, (0, 0, 1, 1, 1, 0, -1, 0, -1): -5.406871112493142, (-1, 1, 0, 0, 0, -1, 1, 1, -1): 1.2658509999999998, (-1, 0, 1, 1, 0, -1, 0, 0, 1): -1.433499426745838, (-1, 1, -1, -1, 1, 1, 0, 0, 1): -7.696639639017283, (0, 0, 0, -1, 1, 1, 0, 0, 0): -1.1576139975469784, (1, -1, -1, 0, 0, 1, -1, 1, 0): 1.0103522541252052, (1, 0, -1, 0, 0, 1, -1, 1, 0): -2.7123559004000004, (1, 0, -1, 0, 0, 1, -1, 0, 0): 0.9792573855271697, (0, 0, -1, 1, 0, -1, 1, 1, 0): -4.73562707284, (0, 0, -1, 0, 0, -1, 1, 1, 0): 0.49338619390597804, (0, -1, -1, 0, 0, 0, 0, 1, 1): 1.8765715996821721, (1, -1, 1, 1, 1, -1, 0, 0, -1): -0.36657733013, (1, -1, 1, 0, 1, -1, 0, 0, 0): 4.838574290226831, (0, -1, 1, 0, 1, -1, 0, 0, 0): 5.448591987762342, (-1, 0, 0, 1, -1, 1, 0, 0, 0): -4.64383166760598, (1, 0, -1, 1, -1, -1, 0, 0, 1): 3.6905779, (1, 0, -1, 1, -1, 0, 0, 0, 1): -3.380147858932852, (1, 0, -1, 1, -1, 0, 0, 0, 0): 6.77367812413369, (1, -1, -1, 0, 1, 0, 0, 0, 0): 8.519216938393498, (-1, 0, 0, 0, 1, -1, 1, -1, 1): 8.137543154791645, (1, 1, 0, -1, 1, 0, -1, 0, -1): 8.170415444102659, (1, 1, 0, 0, 1, 0, -1, 0, -1): -3.3431816615545618, (-1, 0, 0, -1, -1, 1, 1, 0, 1): 5.6953279000000006, (0, 0, 0, -1, -1, 1, 1, 0, 1): 3.199824391735503, (0, 0, 0, 0, -1, 1, 0, 0, 1): -3.459741649547547, (1, 1, -1, 0, 0, 0, -1, 0, 0): 1.0575173863298797, (-1, 0, 1, 1, 1, -1, 0, -1, 1): 1.0089245182367665, (-1, 0, 1, 0, 1, -1, 0, -1, 1): 8.057867766909455, (0, 0, 1, 0, 1, -1, 0, -1, 1): 5.526764811332177, (0, 0, 0, 0, 1, -1, 0, -1, 1): 6.354259036929473, (-1, -1, 0, 0, 0, 1, -1, 1, 1): -0.5974100000000001, (-1, 0, -1, -1, 1, 1, 0, 1, 1): -7.712320754503899, (-1, 0, -1, -1, 1, 1, 0, 0, 1): -7.336980040793928, (0, 0, -1, -1, 1, 1, 0, 0, 1): -4.337805471691369, (0, 0, -1, -1, 0, 1, 0, 0, 1): -2.1384767104069593, (-1, 1, 0, 1, 0, -1, -1, 1, 0): 1.7978510899, (-1, 1, 0, 1, 0, -1, 0, 1, 0): -0.21277525386370005, (-1, 1, -1, 1, -1, 0, 1, -1, 1): -0.9999872957652524, (1, -1, 1, 1, 0, -1, 0, -1, 0): 4.71546669448, (1, -1, 0, 1, 0, -1, 0, 0, 0): 6.367819332667347, (1, 0, 0, 1, 0, -1, 0, 0, 0): -1.768977148927713, (1, -1, 1, -1, 1, 0, 0, -1, 0): 8.318642725319878, (1, 0, 1, -1, 1, 0, 0, -1, 0): 3.88946709906, (0, 1, 0, 1, -1, -1, 1, 1, -1): -6.12579511, (0, 1, 0, 1, -1, -1, 0, 1, -1): -2.6410623200000005, (0, 1, 0, 1, -1, 0, 0, 1, -1): -5.5397077467399995, (0, 0, -1, 1, 0, 1, -1, 1, -1): 0.9388899999999999, (0, 0, -1, 1, 0, 0, -1, 1, 0): -1.3182265249008043, (-1, 1, 1, 1, 0, -1, -1, 1, 0): -0.40727106133369695, (-1, 1, 1, 0, 0, -1, -1, 1, 0): 1.7141321426367608, (0, 0, 1, -1, 0, 1, -1, 1, -1): -2.1614389991652034, (0, 0, 1, -1, 0, 1, -1, 1, 0): -2.586313, (0, 0, 1, -1, 0, 0, -1, 1, 0): -1.31897843991017, (-1, 1, -1, -1, 0, 1, 1, -1, 1): -0.8784233454094308, (0, 1, -1, -1, 0, 1, 1, -1, 1): -1.2198697879823, (0, 1, -1, -1, 0, 1, 0, -1, 1): 0.5638630999999998, (0, 1, 0, -1, 0, 1, 0, -1, 1): -0.4453541300000001, (0, 0, 0, -1, 0, 1, 0, -1, 1): 1.3859771868010737, (0, 1, -1, -1, 0, 1, 1, 1, -1): 0.5470944208005625, (0, 1, -1, -1, 0, 0, 1, 1, -1): 0.952318108, (0, 1, -1, -1, 0, 0, 1, 1, 0): 1.4009574156000002, (1, 0, -1, 1, 0, 1, -1, 1, -1): -5.656271812356289, (1, 1, -1, -1, 0, 1, 1, -1, -1): -0.9797244404095546, (1, 1, -1, 0, 0, 1, 1, -1, -1): 0.388417431264337, (1, -1, 0, -1, 1, 1, 1, -1, 0): 5.189488969396205, (-1, -1, 0, -1, 1, 1, 1, 1, -1): 9.774716004550609, (0, -1, 0, -1, 1, 1, 1, 1, -1): -1.6203036188085957, (0, -1, 0, -1, 1, 0, 1, 1, -1): 8.384091954043416, (0, 0, 0, -1, 1, 0, 1, 1, -1): 5.669816079721606, (-1, 1, 0, -1, -1, 1, 1, 1, 0): -5.3625888954112595, (-1, 1, 0, -1, -1, 1, 0, 1, 0): -0.7034380928000002, (-1, 1, 0, 0, -1, 1, 0, 1, 0): -5.705897010321756, (0, -1, 0, 1, -1, 1, 1, 0, -1): 2.9395895920479997, (-1, 1, 1, -1, 0, 1, 0, 0, 0): -3.6630982753626, (0, -1, -1, 0, 1, 1, 0, -1, 1): 5.09378123719, (0, 0, -1, 0, 1, 1, 0, -1, 1): 3.34356578070315, (-1, 0, 1, 1, 0, -1, -1, 1, 0): -1.7081487754350866, (-1, 0, 1, 1, 0, -1, 0, 1, 0): -0.6051120446527962, (-1, 0, 1, 0, 0, -1, 0, 1, 0): -0.18952699034173737, (1, 1, 0, 0, 0, -1, 1, 0, -1): -1.943394564, (0, 1, 0, -1, 1, -1, 1, 0, -1): 4.67348131, (0, 1, 0, 0, 1, 0, 0, 0, -1): -1.2580278048822522, (1, 1, -1, 1, -1, 1, 0, -1, 0): -5.039734012500289, (1, 1, -1, 0, -1, 1, 0, -1, 0): -2.5103931885649935, (1, 1, -1, 0, 0, 1, 0, -1, 0): -2.4784651973531733, (0, 1, -1, 0, 0, 1, 0, -1, 0): -0.8852120114431397, (0, 1, -1, 0, 0, 1, 0, 0, 0): -3.1809654602926845, (-1, 1, 0, -1, 0, -1, 1, 1, 0): 4.220083, (-1, 1, 0, -1, 0, 0, 1, 1, 0): 3.0482952500386897, (-1, 0, 0, -1, 0, 0, 1, 1, 0): 6.055427436075151, (0, 0, -1, 1, 0, 1, 0, 0, -1): 5.627446006653864, (-1, 0, 1, -1, 0, 1, 1, 1, -1): -5.516037217927, (-1, 0, 1, -1, 0, 1, 1, 0, -1): 4.3419018003378405, (-1, 0, 1, -1, 0, 1, 1, 0, 0): 3.032682247134641, (-1, 0, 1, -1, 0, 1, 0, 0, 0): 5.065642226519685, (1, 0, 0, -1, 1, 0, -1, 1, -1): 6.925002843291512, (1, 0, 0, 0, 1, 0, -1, 1, -1): -1.1750739876807912, (1, 0, 0, 0, 0, 0, -1, 1, -1): -0.33205917595425793, (1, -1, 1, 0, 0, -1, 1, -1, 0): 2.459908, (1, -1, 1, 0, 0, 0, 1, -1, 0): -0.26469409423996215, (1, -1, 1, 0, 0, 0, 0, -1, 0): -2.4095144305383887, (1, 1, -1, 0, -1, 1, 0, -1, 1): -6.989459262756941, (1, 1, -1, 0, -1, 0, 0, -1, 1): -2.037463611526938, (1, 1, -1, 0, 0, 0, 0, -1, 1): -1.90921362760999, (0, 1, -1, 0, 0, 0, 0, -1, 1): -1.3667713053980728, (0, -1, -1, 1, 1, 0, -1, 0, 1): 4.1790120391, (1, 0, 1, -1, 1, 0, -1, -1, 0): 4.845458505849447, (1, 0, 0, -1, 1, 0, 0, -1, 0): 8.365842945666763, (-1, 1, 0, 1, 0, -1, 0, 1, -1): 1.13253148, (1, -1, -1, 1, 1, 0, -1, 0, 0): 6.773006525127345, (1, -1, 0, 1, 0, 0, -1, 0, 0): 0.880402428366342, (-1, 0, 1, -1, 0, 0, 1, 0, 0): 4.995529102094131, (1, 1, 0, -1, -1, 1, -1, 0, 0): 0.5940441279999998, (1, 0, 0, -1, 0, 1, -1, 0, 0): -0.3774682812696938, (-1, 1, 1, 1, 0, 0, -1, -1, 1): 0.058039302694692735, (-1, 1, 1, 1, 0, 0, -1, -1, 0): -1.298379704268, (0, 1, -1, -1, 0, 0, 1, -1, 1): 0.3064814276965608, (0, 1, 0, -1, 0, 0, 1, -1, 1): -0.16766966560133031, (1, 1, 0, 1, 0, -1, -1, 1, -1): -3.7800351100000005, (1, 0, 0, 1, 0, -1, -1, 1, -1): -1.40799, (1, 0, 0, 1, 0, -1, -1, 1, 0): -2.7279840544597573, (1, 0, 0, 0, 0, -1, -1, 1, 0): -0.834532795569288, (-1, -1, 0, 0, 1, 0, 0, 1, 1): -8.342372418698043, (0, -1, 1, -1, 1, 0, 0, -1, 1): 6.5132155990000005, (0, -1, 1, 0, 1, 0, 0, -1, 1): 4.693111125657366, (1, 1, -1, -1, 1, 0, 1, -1, 0): -0.282492184820838, (1, 1, -1, -1, 1, 0, 0, -1, 0): 4.078550800249752, (1, 1, -1, -1, 1, 0, 0, 0, 0): 3.5982556988513617, (1, 1, -1, 1, -1, 1, 0, -1, -1): 8.905810108684877, (1, 1, 0, 1, -1, 1, 0, -1, -1): -3.6119396012860006, (1, 1, 0, 1, -1, 0, 0, -1, -1): 3.8021803543439203, (1, 1, 0, -1, 0, -1, 1, -1, 1): -0.47919, (1, -1, 1, 0, 0, 0, 1, -1, -1): 7.57569938523037, (1, 0, 1, -1, 0, 0, 1, -1, 0): 2.5452452626026, (1, 0, 1, -1, 0, 0, 0, -1, 0): 7.670101011436323, (0, -1, 1, 1, -1, 1, 0, 0, -1): -5.206705183043, (0, 0, 1, 1, -1, 1, 0, 0, -1): -8.939032810931359, (0, 0, 0, 1, -1, 1, 0, 0, -1): -4.659388369797149, (0, 0, 0, 1, -1, 1, 0, 0, 0): -4.361218988569433, (1, 1, 0, 0, -1, -1, -1, 1, 1): -6.8618940391, (0, 1, 0, 0, -1, -1, -1, 1, 1): -5.490462259141999, (0, 1, 0, 0, -1, 0, -1, 1, 1): -8.680995641546039, (0, 1, 0, 0, -1, 0, -1, 1, 0): -4.571123943360812, (0, 1, 0, 0, 0, 0, -1, 1, 0): -2.779907455395399, (1, 0, -1, -1, -1, 1, 0, 1, 1): -7.438991725309511, (1, 0, -1, -1, -1, 1, 0, 0, 1): -2.7132231255476165, (1, 0, 0, -1, -1, 1, 0, 0, 1): -1.6983450242026328, (1, 0, 0, -1, -1, 0, 0, 0, 1): -2.5981994274620672, (0, 1, 0, -1, -1, 1, 1, -1, 1): -0.6182657638083529, (0, 0, 0, -1, -1, 1, 1, -1, 1): 4.172778612880256, (-1, 1, 0, 1, 0, 0, -1, 1, 0): -2.486307117, (0, 1, -1, 1, -1, 1, 1, -1, -1): 8.649148282327008, (0, 1, -1, 1, -1, 1, 1, 0, -1): -1.9671237765999998, (0, 1, -1, 1, -1, 0, 1, 0, -1): 0.5392, (0, 1, -1, 0, 0, 0, 1, 0, -1): -3.8473560569861216, (-1, 1, 1, 0, 0, -1, 1, -1, 1): -0.9300748173734297, (-1, 1, -1, 0, 1, 1, 0, 0, -1): 4.38764711, (-1, 1, -1, 0, 1, 1, 0, 0, 0): 3.4773771785739687, (1, 1, 0, -1, 1, 0, 1, -1, -1): -0.40601905082883505, (1, 0, 0, -1, 1, 0, 1, -1, -1): 8.495173751291894, (-1, 0, -1, 1, -1, 0, 1, 1, 0): 4.387379959441, (-1, 0, 0, 1, -1, 0, 1, 1, 0): -7.590954101358101, (-1, 0, 1, 1, 1, -1, 0, -1, 0): 6.944069079717253, (-1, 1, 1, 1, 1, -1, -1, -1, 0): -0.9999999999884135, (-1, 1, 1, 1, 1, -1, -1, 0, 0): -1.6815481982482112, (1, -1, 1, -1, 0, -1, 1, 0, 0): 4.3834242472480005, (1, 0, 1, -1, 0, -1, 1, 0, 0): -1.6939335238847741, (1, 1, 0, -1, 1, -1, 1, -1, -1): 8.905810108684877, (1, 1, 0, -1, 1, -1, 1, -1, 0): 3.41719674, (1, 0, 0, 0, 1, -1, 1, -1, 0): 1.2082331976360001, (1, 0, 0, 0, 1, -1, 0, -1, 0): 6.194440595930597, (0, -1, 0, 0, -1, 1, 1, 0, 0): -0.7741024830055128, (0, 0, -1, -1, 1, 1, 0, -1, 1): 8.532223910771334, (0, -1, 1, 1, 0, 0, -1, 1, -1): -0.7495987890000001, (0, 0, 1, 1, 0, 0, -1, 1, -1): -2.398397171395805, (0, 0, 0, 1, 0, 0, -1, 1, -1): -0.029164415576043712, (1, -1, 1, -1, -1, 0, 1, 1, 0): -8.321273991443011, (1, -1, 1, -1, -1, 0, 1, 0, 0): -5.902048917686798, (-1, 1, 1, -1, 0, 0, 1, -1, 1): 3.41719674, (-1, 1, 0, -1, 0, 0, 1, -1, 1): 0.7760744389409997, (-1, 1, 0, 0, 0, 0, 1, -1, 1): -2.481122870770013, (1, 0, 0, -1, 1, 0, 0, 1, -1): 1.4370086049243866, (1, 0, -1, -1, 1, 0, 1, 0, -1): -3.245781097157546, (1, 0, -1, 0, 1, 0, 1, 0, -1): -7.278284378333057, (-1, 1, 0, 0, -1, 1, -1, 1, 1): -8.905810108684877, (-1, 1, 0, 0, -1, 1, -1, 1, 0): -3.7484720000000005, (0, 1, 0, 0, -1, 1, -1, 1, 0): -5.7628572982683135, (-1, 1, 1, 1, -1, -1, 1, 0, 0): -6.0283379333105245, (-1, 1, 1, 1, -1, -1, 0, 0, 0): -2.525874878294049, (-1, 1, 1, 1, 0, -1, 0, 0, 0): -2.177647267414564, (0, 1, 0, 1, -1, 0, 0, 0, -1): -1.4523190614343187, (1, -1, 0, -1, -1, 1, 1, 1, -1): -0.9999999999999996, (1, -1, 0, 0, -1, 1, 1, 1, -1): -1.6999607610103626, (1, -1, 0, 0, -1, 1, 0, 1, -1): -2.189999945629291, (1, -1, 0, 0, 0, 1, 0, 1, -1): -2.5329999694134373, (0, -1, 0, 0, 0, 1, 0, 1, -1): -3.0249681160091617, (-1, -1, 0, 0, 1, 1, 1, 0, -1): 4.7142760042, (0, -1, 0, 0, 1, 1, 1, 0, -1): 3.5437659056429234, (1, 1, -1, 0, 0, -1, -1, 0, 1): 1.1141200000000002, (1, 1, 0, 0, 0, -1, -1, 0, 1): 0.9365252460000001, (0, 1, 0, 0, 0, -1, -1, 0, 1): -1.0566005453590002, (-1, 1, -1, 1, 0, -1, 1, 1, 0): -0.9340767125400002, (0, 1, 0, -1, -1, 1, 0, -1, 1): 1.925803622809, (-1, 0, -1, 1, 0, 1, -1, 1, 0): 4.0951, (-1, 0, 0, 1, 0, 1, -1, 1, 0): -0.19550122514410184, (-1, 0, 0, 1, 0, 1, -1, 0, 0): 0.8248180336168063, (0, 0, 1, 0, 1, -1, -1, 1, 0): 0.7137524036966014, (-1, 1, 1, 1, 1, 0, -1, 0, -1): -6.30400853494, (-1, 1, 1, 1, 0, 0, -1, 0, -1): -1.6163889920000003, (-1, 0, 1, 0, -1, 1, 0, 1, 0): -3.7276273, (0, -1, 1, 0, 0, 0, -1, 0, 1): 5.779391924447459, (1, 1, -1, 0, 1, 0, 0, -1, -1): -7.750567279408013, (1, 1, 0, 0, 1, 0, 0, -1, -1): -6.849960880623771, (0, 1, 0, 0, 1, 0, 0, -1, -1): -3.2836746548363864, (-1, 1, 0, 0, 0, 1, -1, 1, -1): 0.018999999999999795, (-1, 1, 0, 0, 0, 1, 0, 1, -1): 1.1657940000000004, (0, 0, 1, 1, -1, 0, 1, 0, -1): -2.155323411438915, (0, 0, 0, -1, 1, -1, 1, 0, 0): 6.862244068546457, (1, 0, 1, 1, -1, -1, 0, 0, 0): 3.5027485949672785, (0, -1, 0, 1, 0, 0, 1, 0, -1): 3.355002937641097, (1, 1, -1, 0, 1, -1, 1, -1, 0): -4.865473829437402, (1, 0, -1, 0, 1, -1, 1, -1, 0): 7.894393930148621, (0, -1, 1, 1, -1, 0, 0, 0, 1): -3.2970139947768704, (0, -1, 0, 1, 1, -1, 0, 0, 1): 0.6407646625939518, (0, -1, 0, 1, 1, -1, 0, 0, 0): 0.02160493302286881, (-1, 0, -1, 0, 1, 1, 1, -1, 0): 5.369164985100621, (-1, 0, -1, 0, 1, 1, 1, 0, 0): -7.531689279798068, (-1, 0, -1, 0, 0, 1, 1, 0, 0): -3.743602219178702, (-1, -1, 1, 1, 0, 1, -1, 1, 0): 4.4748805030026, (-1, -1, 1, 1, 0, 0, -1, 1, 0): 1.8530590218348377, (-1, -1, 1, 1, 0, 0, 0, 1, 0): 0.18639077053995678, (0, -1, -1, 0, 1, 1, 0, 1, 0): -4.230652923856139, (0, -1, -1, 0, 1, 1, 0, 0, 0): 7.387469546017876, (-1, -1, 1, -1, 0, 0, 1, 0, 1): 4.68559, (-1, 0, 1, -1, 0, 0, 1, 0, 1): 3.1302186, (-1, 1, -1, 1, 1, -1, 1, -1, 0): -0.9999999999999769, (-1, 1, 0, 1, 1, -1, 1, -1, 0): -1.6872951951336819, (-1, 1, 0, 1, 1, -1, 0, -1, 0): -2.1899469774405653, (0, 1, -1, 1, -1, 1, 0, 1, -1): -5.6953279000000006, (0, 0, 0, 1, -1, -1, -1, 1, 1): -2.4576252681, (0, 0, 0, 1, 0, -1, -1, 1, 1): -1.6701547, (0, 0, 0, 0, 0, -1, -1, 1, 1): 2.4242533276298515, (0, 0, -1, 1, 1, 0, 0, 1, -1): -5.270729191029999, (1, 0, -1, 0, -1, 1, 1, 0, -1): 7.504795870207137, (1, 0, 0, 0, -1, 1, 1, 0, -1): -0.8494815572922527, (0, 0, 1, 1, -1, 0, -1, -1, 1): 3.275841052, (0, 0, 1, 1, 0, 0, -1, -1, 1): 1.2243747450839169, (1, -1, 0, 0, -1, -1, 1, 0, 1): 4.66779511, (1, -1, 0, 0, -1, 0, 1, 0, 1): -4.885017637632746, (-1, 1, -1, 1, 0, 1, 0, -1, 1): -1.517647653967431, (-1, 1, -1, 1, 0, 1, 0, -1, 0): 2.7995941, (-1, 1, -1, 1, 0, 1, 0, 0, 0): -0.6370380982929997, (-1, 1, -1, 1, 0, 0, 0, 0, 0): -0.6743132698509311, (0, 1, 1, 1, -1, 0, -1, -1, 0): 3.883952897083, (0, 1, 1, 1, -1, 0, 0, -1, 0): -1.124156085053685, (0, 1, 0, -1, 0, 1, 1, -1, 0): -0.2885795138567002, (0, 1, -1, 0, -1, 0, 1, -1, 1): -1.0086762396582245, (1, 0, -1, 1, 0, 0, -1, -1, 1): 1.1629, (-1, 1, 1, -1, 0, -1, 1, 1, -1): 8.332281830033342, (-1, 1, 1, -1, 0, 0, 1, 1, -1): 2.0558613834600004, (-1, 1, 1, -1, 0, 0, 1, 0, -1): 2.736544208, (1, 1, -1, -1, 0, 1, -1, 0, 1): -5.36052007, (1, 1, -1, -1, 0, 0, -1, 0, 1): 1.06084, (1, 1, -1, 0, 0, 0, -1, 0, 1): -2.8970894857340026, (0, 1, -1, 0, 0, 0, -1, 0, 1): -0.05940647059002713, (-1, -1, 0, 1, 0, 0, 0, 0, 1): -1.404811022961409, (1, 1, -1, -1, 1, -1, 1, 0, 0): -3.7952623, (-1, -1, 0, 1, -1, 1, 1, 0, 1): -7.4581341716709995, (1, 1, -1, -1, 0, -1, 1, -1, 1): 9.418502629969598, (1, 1, -1, -1, 0, 0, 0, -1, 1): 3.3801644584900004, (1, 1, -1, 0, 0, 0, 0, -1, 0): -3.1882407148306835, (0, 1, 1, 0, 1, -1, -1, 0, 0): 3.545320252782957, (0, 0, 1, 0, 1, -1, -1, 0, 0): 2.790464895272301, (0, 1, 0, -1, 0, -1, 0, 1, 1): -1.88437996, (0, 1, -1, 1, -1, -1, 0, 1, 1): -4.7174993773014, (0, 1, -1, 1, -1, -1, 0, 0, 1): 0.4875716015685101, (0, 1, -1, 0, -1, 0, 0, 0, 1): -2.0194213361172118, (1, -1, -1, -1, 1, 1, 1, 0, -1): -0.9999825730661898, (1, -1, 1, 1, 0, 0, 0, -1, 0): -4.581295319711259, (1, -1, 0, 1, 0, 0, 0, -1, 0): -0.9975542205739557, (-1, 0, -1, 1, 1, 0, 0, 0, 1): -6.7326729732732975, (0, 1, 1, 0, -1, 1, -1, 0, -1): 2.6728509549672097, (0, 0, 1, 0, -1, 1, 0, 0, -1): -3.942535039189936, (1, -1, 0, 1, 0, -1, 0, -1, 1): 1.47151148, (1, 0, 0, 0, 0, 0, 0, -1, 1): -0.2206397630537847, (-1, 0, 0, 1, 0, 1, 0, 1, -1): -2.54241574354, (-1, 1, 0, -1, 1, 0, 1, -1, 0): 6.69700404735872, (0, 1, 0, -1, 1, 0, 1, -1, 0): 1.6843391650231685, (0, 1, 0, -1, 0, 0, 1, -1, 0): 0.0798925911358998, (1, -1, 0, 0, -1, 0, 1, 1, -1): 8.704563978217731, (-1, 1, 0, 0, 0, 0, -1, 1, 0): 4.666564451939078, (0, -1, 1, -1, 1, 1, 0, 1, -1): -1.6211624439868078, (0, -1, 1, -1, 1, 0, 0, 1, -1): 7.304489768877434, (0, -1, 1, 0, 1, 0, 0, 1, -1): -2.5160303764146486, (0, -1, 1, 0, 1, 0, 0, 0, -1): 6.746046698964271, (1, 1, 0, 0, -1, 0, -1, 0, 1): -7.585081952139893, (0, 0, 1, 1, -1, -1, -1, 1, 1): -1.6999999999999988, (0, 0, 1, 1, -1, -1, -1, 1, 0): -1.1297535672239392, (0, 0, 1, 1, -1, 0, -1, 1, 0): -2.8404125145615438, (0, 0, 0, 1, -1, 0, -1, 1, 0): -3.4379182367628407, (-1, 0, -1, 1, 0, 1, 0, 0, 1): -4.49597158204682, (-1, 0, -1, 1, 0, 0, 0, 0, 1): -3.269775176326617, (-1, 1, 1, 0, 0, 1, 0, 0, -1): -7.916503663927517, (1, -1, 0, 1, -1, 0, -1, 0, 1): -4.173624800000001, (1, 0, 0, 1, -1, 0, -1, 0, 1): -9.294615878511372, (0, 0, 0, 1, -1, 0, -1, 0, 1): -3.2695563482090515, (0, -1, 0, -1, 0, 1, 1, 1, -1): -0.6732337945628999, (0, -1, 0, -1, 0, 1, 1, 1, 0): -1.1219797942267, (0, -1, 0, -1, 0, 0, 1, 1, 0): 5.7497824765274865, (-1, -1, 1, 0, 1, 0, -1, 0, 1): 7.040719573780478, (-1, 0, 1, 0, 1, 0, -1, 0, 1): -6.865634585439783, (0, 0, 1, 1, -1, 0, 0, -1, 1): -6.7445927867724045, (0, 1, 1, 0, -1, -1, 1, -1, 1): -7.429580604125174, (0, 1, 0, 0, -1, -1, 1, -1, 1): -2.0086761327325973, (0, 1, 0, 0, -1, -1, 0, 0, 1): -3.3960907381286356, (0, 0, 1, 1, 0, -1, -1, 1, 0): -0.9441739523000001, (-1, 0, 1, 1, 1, 0, -1, 1, -1): 4.62739245270234, (-1, 0, 1, 0, 1, 0, -1, 1, -1): 7.343397182933039, (-1, 1, -1, 0, -1, 1, 0, 1, 0): -5.870843920510964, (0, -1, -1, -1, 1, 1, 0, 1, 1): -5.011118002651967, (0, 0, -1, -1, 1, 0, 0, 1, 1): 3.14852480474788, (0, 0, -1, -1, 1, 0, 0, 0, 1): 5.786836964388203, (1, 0, 1, -1, -1, 0, 0, 1, 0): -1.8823572303942968, (1, 0, -1, 0, 1, -1, -1, 1, 0): 6.12579511, (-1, -1, 0, 1, 1, -1, 0, 1, 0): -2.809426039322038, (-1, 0, 0, 1, 1, -1, 0, 1, 0): -2.5807348892553534, (-1, 1, -1, 1, -1, 0, 1, 0, 1): -0.3858115323890218, (0, -1, 0, 1, 0, 1, -1, 0, 1): -0.4186230599999998, (1, 0, 0, -1, -1, 1, -1, 1, 1): -4.290385192228112, (1, 0, 0, -1, -1, 0, -1, 1, 1): -4.915564155150272, (1, 0, -1, -1, 1, 1, 0, 1, -1): -1.6782726807995731, (1, 0, -1, -1, 1, 0, 0, 1, -1): 5.455537966563133, (-1, 1, -1, 1, 0, 0, -1, 0, 1): 0.44315828931199974, (-1, 1, -1, 1, 0, 0, 0, 0, 1): -1.9541586084101614, (1, -1, -1, 0, 1, 1, 0, 0, -1): 7.030796050930513, (1, 0, -1, 1, -1, -1, 0, 1, 0): 4.5961253843239, (1, -1, 1, 1, 0, -1, -1, 1, -1): -0.8905810108684877, (0, -1, 1, 1, 0, 0, -1, 0, 0): -1.3035434159625536, (0, -1, 1, 0, 1, 0, -1, -1, 1): 7.94876283315871, (1, -1, 0, -1, 1, -1, 1, 0, 0): 7.176094710381794, (1, -1, 0, 0, 0, -1, 1, 0, 0): 6.509716431085336, (0, 1, -1, -1, -1, 0, 1, 1, 0): 3.906171865009, (1, 1, -1, -1, -1, 1, 0, 1, -1): -0.9721871610556306, (1, 1, 0, -1, -1, 1, 0, 1, -1): 0.9584432480530001, (1, 0, -1, 0, 1, 1, -1, 1, -1): 5.189488969396205, (1, 1, -1, 0, 0, 1, -1, -1, 1): -1.524646, (1, 1, -1, 0, 0, 1, -1, -1, 0): -1.9347200000000002, (1, 0, -1, 0, 0, 1, 0, -1, 0): 0.5658900635537016, (-1, 0, 0, 1, 1, 0, 0, 0, -1): 7.570428640180511, (1, -1, 1, -1, 0, 0, 1, -1, 1): -4.82272953103, (1, -1, 1, -1, 0, 0, 0, -1, 1): 3.452492332, (1, -1, 1, 0, 0, 0, 0, -1, 1): -4.552433060969618, (1, 0, 1, 0, -1, -1, 1, -1, 1): -7.712320754503899, (1, 0, 1, 0, -1, -1, 1, -1, 0): 2.8577741320000003, (1, 0, 1, 0, -1, -1, 1, 0, 0): -6.372864240737646, (1, 0, 1, 0, -1, -1, 0, 0, 0): 4.34069002572185, (0, 0, 1, -1, 1, -1, 0, 0, 1): 5.057581010305068, (1, 1, -1, 1, -1, 1, 0, 0, -1): -1.438464579442234, (1, 1, -1, 0, -1, 1, 0, 0, -1): -1.259533585996927, (1, 1, 0, 0, -1, 1, 0, 0, -1): 0.06282200008372446, (1, 0, 0, 0, -1, 1, 0, 0, -1): -1.8206308384657848, (1, 1, 0, 0, -1, -1, -1, 1, 0): 2.8064836072, (1, 1, 0, 0, 0, -1, -1, 1, 0): -0.06105471600000012, (-1, -1, 0, 0, -1, 1, 1, 0, 1): 2.310508, (-1, 0, 0, 0, -1, 1, 1, 0, 1): 3.0222572257236373, (-1, 1, 0, -1, 0, 0, 1, 1, -1): 0.42167612799999976, (1, 1, 0, 0, -1, 1, -1, -1, 0): -1.2900944869568, (1, 1, 0, 0, 0, 1, -1, -1, 0): -4.0789057186, (0, -1, 1, -1, 0, -1, 0, 1, 1): 0.05606559999999994, (1, -1, 1, -1, 0, -1, 0, 1, 0): 1.3104319999999996, (1, -1, 1, 0, 0, -1, 0, 1, 0): -1.84260817088887, (1, -1, 1, -1, -1, 0, 1, 0, 1): -7.17570463519, (1, -1, 0, -1, -1, 0, 1, 0, 1): 4.338769534664213, (-1, 1, -1, 0, -1, 0, 0, 1, 1): 0.6935359385348199, (0, 1, -1, 0, -1, 0, 0, 1, 1): -5.078014023172441, (1, 0, 1, 1, 0, -1, -1, 1, -1): 1.5866767000000002, (0, 0, 1, 1, 0, -1, -1, 1, -1): 1.2110649988999997, (-1, 0, 0, 1, 1, -1, 1, 0, 0): -3.3983752505320153, (0, 1, 1, -1, 1, -1, -1, -1, 1): 9.282102012308147, (0, 1, 1, 0, 1, -1, -1, -1, 1): 0.5130596271537058, (0, 1, 1, 0, 1, -1, -1, -1, 0): 4.507562945301083, (0, 1, 1, 0, 1, -1, 0, -1, -1): 5.647529542048939, (0, 1, 1, 0, 1, 0, 0, -1, -1): -3.8819066215749713, (1, 0, 1, -1, -1, 1, -1, 1, -1): 9.65663161797075, (1, 0, 1, 0, -1, 1, -1, 1, -1): -1.6061708747721435, (1, 0, 0, 0, 0, 1, -1, 1, -1): -2.8781823223229988, (0, 1, -1, 1, 0, 0, 1, -1, -1): 3.59174723, (1, 0, -1, 1, 0, 1, -1, -1, 1): -1.414, (1, 0, -1, 1, 0, 1, -1, -1, 0): 2.61178912, (1, 0, -1, 1, 0, 1, 0, -1, 0): 1.0484439666360001, (0, 0, -1, 1, 0, 1, 0, -1, 0): 4.561460570299949, (0, -1, 1, -1, -1, 1, 0, 1, 0): 4.943453338, (0, 0, 1, -1, -1, 1, 0, 1, 0): -1.3179075793272228, (1, -1, -1, 0, 1, 1, 1, 0, -1): -0.15051468664699993, (1, -1, -1, 0, 0, 1, 1, 0, -1): 4.187489444527101, (-1, 0, 0, -1, 0, 1, 1, 0, 0): -1.0703068204921335, (0, -1, 1, 1, -1, 0, -1, 1, 1): -1.2147746717539183, (0, -1, 1, 1, -1, 0, -1, 1, 0): -0.3653674861156781, (0, 0, -1, 1, -1, 0, 1, 1, 0): 2.850663321777984, (1, 0, -1, 1, 1, 0, -1, 1, -1): -5.9785464068476495, (0, -1, -1, 1, 1, -1, -1, 1, 1): 9.01522909781639, (0, -1, 0, 1, 1, -1, -1, 1, 1): -1.4463825671971071, (0, -1, 0, 1, 0, -1, -1, 1, 1): 0.6606508999999998, (-1, 1, 1, 0, 1, -1, -1, -1, 1): -0.9985444216570694, (-1, 1, 1, 0, 1, -1, -1, 0, 1): -7.596017980074498, (-1, 1, 1, 0, 0, -1, -1, 0, 1): -3.570307759033306, (-1, 1, 1, 0, 0, -1, 0, 0, 1): -2.620526583587407, (0, 1, 0, 0, 1, 1, 0, -1, -1): -6.04252849473404, (1, -1, 1, -1, 0, 0, -1, 0, 1): 7.855444692172143, (1, -1, 1, -1, 0, 0, 0, 0, 1): 3.4768250579292004, (0, -1, 1, -1, 0, 0, 0, 0, 1): 4.5615296929509785, (0, 1, -1, -1, 1, 0, 0, -1, 1): 6.652807535009046, (0, 1, -1, 0, 1, 0, 0, -1, 1): -1.9916372607496615, (0, 1, -1, 0, 1, 0, 0, -1, 0): -3.0470959709414474, (0, 1, -1, 1, 1, 0, -1, 0, -1): 6.6108455622280005, (0, 1, -1, 1, 1, 0, -1, 0, 0): 4.142142922906386, (0, 0, -1, 1, 1, 0, -1, 0, 0): 7.729067203186178, (1, 1, -1, 0, -1, 0, 0, 0, 0): -3.818062592094572, (-1, 0, 0, 1, 0, 0, 0, 0, 1): -3.0230258563977728, (0, -1, 0, 1, 1, -1, 1, 0, -1): 5.8935310168642125, (0, -1, 0, 1, 1, -1, 1, 0, 0): 2.171467574405765, (0, -1, 1, 1, 1, -1, -1, -1, 1): 8.649148282327008, (0, -1, 1, 1, 1, -1, -1, 0, 1): 0.3133129056943601, (1, -1, 0, 1, -1, 0, -1, 1, 0): -2.3164070971457296, (1, 0, 0, 1, -1, 0, -1, 1, 0): -9.236003409244635, (0, -1, 0, 0, -1, 1, 1, 1, 0): 0.6445217057809984, (0, 0, -1, 1, 0, 1, 1, 0, -1): 0.07433579166288018, (0, 1, 0, 1, -1, 1, 1, -1, -1): -4.583116673767, (0, 1, 0, 1, -1, 0, 1, -1, -1): 2.164708, (0, 1, 1, -1, 0, 0, 0, 0, -1): 4.6338565147612485, (0, 1, 1, 0, -1, 1, -1, -1, 0): 3.2104272106069653, (0, 1, 1, 0, -1, 1, -1, 0, 0): 3.4434490967312827, (-1, 1, -1, 0, 1, 1, -1, -1, 1): 9.835767967317393, (-1, 1, -1, 0, 1, 1, -1, 0, 1): -3.042190641286, (-1, 1, -1, 0, 1, 0, -1, 0, 1): 6.3295675813286705, (0, 1, -1, 0, 0, 0, 0, 0, 1): -2.3305067622707125, (0, 1, 1, 0, -1, -1, -1, 0, 1): 5.595364815205284, (0, 1, 1, 0, -1, 0, -1, 0, 1): 4.29907643676287, (0, 1, -1, 0, 1, 1, 1, -1, -1): -1.145461421076082, (0, 1, -1, 0, 1, 0, 1, -1, -1): -2.404319747272832, (0, 1, -1, 0, 1, 0, 1, -1, 0): -2.3082684561997016, (0, -1, 0, 0, 1, 0, -1, 0, 1): 5.490031319323247, (1, 1, 0, -1, 1, -1, 0, -1, 0): 6.59844810658, (1, 1, 0, -1, 1, 0, 0, -1, 0): 2.483282402728391, (1, -1, -1, 1, 1, 0, 0, -1, 0): 5.217031, (1, -1, 1, 1, 1, -1, -1, 0, 0): -0.07233150293623425, (1, -1, 1, 0, 1, -1, -1, 0, 0): 8.41020821415537, (1, -1, 1, 0, 1, 0, -1, 1, -1): -1.699949828468768, (0, -1, 1, 0, 1, 0, -1, 1, -1): -2.189794457277987, (0, -1, 1, 0, 1, 0, -1, 1, 0): -2.074153727184217, (0, -1, 0, 0, 1, 0, -1, 1, 0): -2.4705592587645517, (0, 1, 1, 1, -1, -1, 0, -1, 1): -0.6035076760490731, (0, 1, 1, 0, -1, -1, 0, -1, 1): 5.908389460161367, (0, 1, 1, 0, 0, -1, 0, -1, 1): -1.1548520350307514, (0, 1, 0, 0, 0, -1, 0, -1, 1): 0.2532598769206048, (1, 1, -1, -1, 0, 1, 1, -1, 0): -1.3499850754390967, (-1, 1, 0, 0, 0, 0, 0, 1, -1): 5.212903974734336, (0, -1, -1, -1, 1, 1, 1, -1, 1): 9.353891811077332, (0, -1, 0, -1, 1, 0, 1, -1, 1): 5.930541797031999, (0, 0, 0, -1, 1, 0, 1, -1, 1): 3.553792037472803, (0, 0, 0, -1, 1, 0, 0, -1, 1): 6.068437932191073, (-1, 1, -1, 0, 1, 1, 1, 0, -1): 5.189488969396205, (0, 1, -1, 0, 1, 0, 1, 0, -1): -6.465616006782956, (0, 1, -1, 0, 1, 0, 0, 0, -1): 6.274465200828558, (0, 1, -1, -1, 1, 1, -1, 0, 1): -3.157875041919742, (0, 1, -1, -1, 1, 1, -1, 0, 0): 7.744449938573979, (0, 1, 0, -1, 1, 1, -1, 0, 0): -4.979158450137517, (0, 1, 0, -1, 1, 0, -1, 0, 0): 5.484772405856677, (0, 1, -1, 0, 0, 0, -1, 1, 0): -0.11644220140849515, (-1, -1, 1, 1, -1, -1, 1, 0, 1): 9.353891811077332, (-1, 0, 1, 0, -1, -1, 1, 0, 1): 7.7252933562243715, (-1, 1, 0, 1, 1, 0, 1, -1, -1): 5.793978970782449, (-1, 1, 0, 1, 1, 0, 0, -1, -1): 6.140992678177528, (-1, 1, 0, 1, 1, 0, 0, 0, -1): 2.33517234390988, (0, 0, -1, 0, 1, 1, 1, -1, -1): 4.097728985918159, (0, 0, -1, 0, 0, 1, 1, -1, 0): -0.7740697517525505, (1, 1, -1, 0, -1, -1, 1, 1, 0): -7.4581341716709995, (1, 0, -1, 0, -1, -1, 1, 1, 0): 5.37333842692, (-1, 1, 0, 1, -1, 1, -1, 0, 1): -6.652454298439703, (-1, 1, 0, 1, -1, 1, -1, 0, 0): -6.193795620454646, (0, 1, -1, 1, 0, -1, 1, -1, 1): 1.65448203, (0, 1, -1, 0, 0, -1, 1, -1, 1): 1.2993332090089997, (0, 1, 0, 1, -1, 1, -1, -1, 0): -4.418171030280264, (0, -1, 0, 1, -1, 0, 1, 1, -1): 3.245194621, (0, -1, 0, 1, 0, 0, 1, 1, -1): -4.191811207301347, (-1, 0, -1, 1, -1, 0, 0, 1, 1): 0.2953899999999997, (-1, 0, 1, 0, 0, 0, 0, 1, -1): -1.580093583598872, (0, 1, -1, 1, 1, 0, -1, -1, 0): 6.362447041500761, (0, 1, -1, 1, 0, 1, -1, 0, 0): -0.6227345999999999, (1, -1, 0, -1, 0, 1, 1, -1, 1): -4.102074999100001, (-1, 1, 0, 0, 1, -1, -1, 0, 1): 1.3192670051011, (0, -1, 1, 1, 1, 0, -1, 1, -1): -1.6845909595669712, (-1, 1, 0, 0, 1, 0, 0, 0, -1): 7.925030347198577, (1, 0, -1, 1, 0, -1, -1, 0, 1): 1.621722848329, (-1, -1, 1, -1, -1, 1, 1, 1, 0): 6.8618940391, (-1, -1, 1, 0, -1, 1, 1, 1, 0): -2.58429286, (0, -1, 1, 0, -1, 1, 0, 1, 0): -1.0259380366876338, (-1, 1, 0, -1, 0, -1, 1, 0, 1): 2.5154977999999995, (1, 1, 0, 1, -1, 0, 0, -1, 0): 1.8474191597223044, (1, 1, 0, 0, -1, 0, 0, -1, 0): 7.474529812925963, (1, 1, 0, -1, 0, 1, -1, -1, 1): 3.1302186, (1, 1, 0, -1, 0, 0, 0, -1, 1): 1.701651922036, (1, -1, 0, 1, 1, 0, 0, 0, -1): 4.050913385688256, (-1, 0, 1, -1, 1, -1, 0, 1, 0): 0.778051, (-1, 0, 1, -1, 1, 0, 0, 1, 0): -3.7275754885590096, (-1, 1, -1, 1, -1, -1, 1, 0, 1): 9.774716004550609, (-1, 0, -1, 1, 0, -1, 1, 0, 1): 6.957221484877775, (-1, 0, -1, 1, 0, 0, 1, 0, 1): -6.033984215993437, (0, -1, 0, -1, 0, 0, 1, 0, 1): 4.030015526352716, (1, -1, -1, 1, 0, -1, 0, 0, 1): 2.8030999999999997, (1, -1, -1, 0, 0, 0, 0, 0, 1): 3.474273509110009, (0, -1, 1, -1, 1, -1, -1, 1, 1): 9.202335569231275, (0, -1, 1, 0, 1, -1, -1, 1, 1): -1.2071965659431698, (0, -1, 1, 0, 0, -1, -1, 1, 1): -2.0485744548383398, (-1, 1, 1, 0, 0, 0, -1, 0, 0): -3.2181980469985736, (0, 0, -1, 1, 1, 0, -1, -1, 1): 5.278113909999999, (-1, 0, 1, 1, 1, -1, -1, -1, 1): -0.9993734212517822, (-1, 0, 1, 1, 0, -1, 0, -1, 1): -0.5934900000000001, (0, 1, -1, -1, 1, 1, 1, 0, -1): -1.2156466440617, (0, 1, -1, -1, 0, 1, 1, 0, -1): -0.8760982799910001, (0, 1, -1, 0, 0, 1, 1, 0, -1): -2.917955304745454, (1, -1, 1, -1, 0, 0, 0, 1, 0): -1.9979970983349058, (0, -1, 1, -1, 0, 0, 0, 1, 0): -1.0688123324523406, (-1, -1, 0, 1, 1, -1, 1, 0, 1): -3.1628932126300002, (-1, -1, 0, 1, 0, -1, 1, 0, 1): 4.554980934076, (-1, 0, 0, 1, 0, -1, 1, 0, 1): -0.6622105449009406, (-1, 0, 0, 1, 0, -1, 0, 0, 1): -1.9852098932579931, (0, -1, -1, 1, 0, 0, 1, 1, 0): -2.301280045372, (-1, 0, -1, 1, 1, -1, 0, 1, 0): 6.301505937766633, (0, 0, -1, 1, 1, -1, 0, 1, 0): -4.427910897740848, (0, -1, 0, 0, 1, -1, 1, 1, 0): 4.434450651040974, (0, -1, 0, 0, 1, -1, 0, 1, 0): 1.142424825923689, (-1, 1, 1, -1, -1, 1, 0, 0, 0): 2.6116793913169003, (0, 1, 1, -1, -1, 1, 0, 0, 0): 4.124496108339236, (0, 1, 0, 0, -1, 1, 1, 0, -1): -4.93001803, (0, 1, -1, 1, 0, 1, 0, -1, -1): 3.474698401, (0, 1, -1, 1, 0, 1, 0, 0, -1): 1.1529600000000002, (0, 1, -1, 0, 0, 1, 0, 0, -1): -0.9411808702502817, (0, 1, -1, 0, -1, 1, 1, 0, -1): -2.119581557670687, (-1, 1, -1, -1, 1, 1, 1, 0, -1): 9.98003321888984, (-1, 1, -1, -1, 1, 1, 1, 0, 0): -0.9213225973828402, (-1, 0, -1, -1, 1, 1, 1, 0, 0): -2.1035448957027105, (0, 0, -1, -1, 1, 1, 1, 0, 0): -2.494118296517688, (-1, -1, 1, 0, 0, 1, 1, 1, -1): -4.32684005677687, (-1, -1, 0, 0, 0, 1, 1, 1, -1): -4.364648522036, (0, 1, 1, -1, -1, 1, 0, 1, -1): -4.42673982693991, (1, -1, -1, 1, -1, -1, 0, 1, 1): 6.8618940391, (1, 0, -1, -1, 1, 0, 1, -1, 0): 8.048858454746279, (1, 1, -1, 0, -1, -1, 1, -1, 1): 9.690968456173675, (1, 0, 0, 0, -1, -1, 1, -1, 1): 3.4032608276728418, (1, 0, 0, 0, -1, 0, 0, -1, 1): -2.0949256009503046, (1, 0, 0, 0, -1, 0, -1, 1, 1): -9.238965487775793, (1, -1, 0, -1, 1, -1, 1, 1, 0): 3.675477066, (1, 0, 0, -1, 0, -1, 1, 0, 0): 0.044195201881513435, (-1, 1, 1, 0, 1, 0, -1, -1, 0): -7.1512908644787485, (-1, 1, 1, 0, 1, 0, -1, 0, 0): -5.02605860603699, (-1, -1, 1, 1, 0, 0, -1, 0, 1): 3.0258220199999997, (-1, -1, 1, 1, 0, 0, 0, 0, 1): 1.410111856133968, (1, 1, -1, 0, 0, -1, 1, -1, 0): 3.22928002, (1, 1, -1, 0, 0, 0, 1, -1, 0): -1.85810975814739, (1, -1, 0, 0, 0, 0, 1, 1, -1): -2.5329999660459865, (1, 0, 1, 0, -1, -1, 1, 1, -1): -6.401596368353967, (1, 0, 1, 0, -1, -1, 1, 0, -1): 5.315964678253382, (1, 0, 1, 0, -1, 0, 1, 0, -1): 2.2304293276020593, (0, -1, 1, 1, 1, -1, -1, 0, 0): -0.6425560011000001, (1, -1, -1, 0, -1, 1, 1, 0, 1): -2.3707319416672603, (1, -1, -1, 0, -1, 0, 1, 0, 1): 5.798166998592276, (0, 0, -1, 0, -1, 0, 1, 0, 1): 5.6508949106114805, (0, 1, -1, -1, 0, 1, 1, 0, 0): -1.1141969230300002, (1, 0, 0, 0, -1, 1, -1, 0, 0): 0.8558076910379309, (1, 0, 0, 0, -1, 1, 0, 0, 0): -3.107116609355074, (1, 0, -1, 1, 0, 1, -1, 0, 0): -7.511841147442287, (-1, -1, 1, 1, 0, -1, -1, 1, 1): -0.814697981114816, (-1, -1, 1, 1, 0, -1, 0, 1, 1): 0.03906999999999994, (-1, 0, 0, -1, 1, 1, 0, -1, 1): 8.56064770890228, (0, 0, 0, -1, 1, 1, 0, -1, 1): 5.93272936088358, (-1, 1, 1, -1, 0, -1, 1, 0, 1): -3.4219414, (-1, 1, 1, -1, 0, -1, 0, 0, 1): -2.0471220503680003, (1, -1, 0, 0, 1, 0, 0, -1, 0): 6.01092385276873, (0, -1, 1, -1, 1, 0, -1, 1, 0): -2.5699529144649764, (0, 1, -1, -1, 0, -1, 1, 1, 0): 2.7829, (1, -1, 1, -1, 0, -1, 1, -1, 1): 8.146979811148158, (1, 0, 1, -1, 0, -1, 0, 0, 1): -1.0671461210663558, (-1, -1, 0, -1, 1, 1, 1, 0, 0): 5.7953763547788615, (0, -1, 0, -1, 1, 1, 1, 0, 0): -0.29936469549999994, (0, 1, -1, 1, -1, 1, 0, 0, 0): -7.29817104487376, (0, -1, 1, 1, 0, -1, -1, 1, 1): -1.5325889466287863, (1, 0, 1, -1, 0, 0, 0, 0, -1): 6.534653556985688, (-1, 0, -1, 1, 1, -1, 1, 0, 1): -8.941944075081366, (-1, 0, -1, 0, 1, -1, 1, 0, 1): 6.382555450687543, (0, 0, -1, 0, 1, -1, 1, 0, 1): 2.4977124527596457, (0, 0, -1, 0, 1, -1, 1, 0, 0): -0.5678833315097733, (1, 0, 0, -1, 0, -1, 1, -1, 1): 5.008706128, (0, -1, -1, 1, 0, 0, 1, 0, 0): 2.4201942452688416, (0, 1, 0, 0, -1, -1, 1, 1, -1): -4.900636088000001, (0, 1, 0, 0, -1, -1, 1, 1, 0): -5.157299416643854, (0, 1, 0, 0, -1, -1, 0, 1, 0): -4.064527674069291, (1, 0, -1, -1, 0, -1, 1, 0, 1): 7.927364172378625, (1, 0, -1, 0, 0, -1, 1, 0, 1): 2.261844006, (1, 0, -1, 0, 0, -1, 1, 0, 0): 7.091147391361972, (-1, 1, 0, 1, 0, 1, -1, -1, 0): 3.60216802, (-1, 1, 0, 0, 1, 0, -1, 0, 0): 4.582162850459302, (-1, 1, 0, 1, -1, 1, -1, 1, 0): -6.8618940391, (-1, 1, 0, 1, -1, 0, -1, 1, 0): -4.4863036892, (-1, 1, 0, 1, -1, 0, 0, 1, 0): -7.146954190357071, (-1, 0, 1, -1, 0, -1, 1, 0, 1): 7.935456699553364, (1, 0, 0, 0, -1, -1, 0, 1, 1): -8.213415148686598, (1, 0, 0, 0, -1, -1, 0, 1, 0): -3.5916643709553266, (0, 1, -1, -1, 0, 1, -1, 1, 1): -4.68559, (0, 0, -1, -1, 0, 1, 0, 1, 1): -0.99241446, (1, 0, 0, -1, 0, 1, 0, -1, 1): 0.8768436999999999, (-1, 1, 1, -1, 0, -1, 1, 1, 0): -1.278406, (-1, 1, 1, -1, 0, -1, 1, 0, 0): 0.8605691200000001, (0, 0, 1, -1, 0, -1, 0, 0, 1): -1.082357678981341, (1, -1, 0, -1, 1, 1, -1, 1, -1): -0.999999999996364, (1, -1, 0, 0, 1, 1, -1, 0, -1): 3.279020221, (1, -1, 0, 0, 1, 1, 0, 0, -1): 0.28060417964243584, (-1, 1, 0, 1, 1, -1, -1, 0, 1): -1.615813464178557, (0, 1, 0, 0, 1, -1, -1, 0, 1): 1.9246034487759407, (1, 1, -1, 0, 1, -1, 0, 0, 0): -2.29686845392, (1, 1, -1, 0, -1, 1, 0, 0, 0): -8.664098189270023, (1, 0, -1, 0, -1, 1, 0, 0, 0): -2.418463574769761, (-1, 1, -1, 0, -1, 1, 1, 0, 0): -2.7056035772424183, (-1, 1, 0, 0, -1, 1, 1, 0, 0): -5.90005072656687, (-1, 0, -1, -1, 1, 1, 1, -1, 1): -0.9958254420820708, (-1, 0, 0, -1, 1, 1, 1, -1, 1): -0.43800360328865207, (1, 1, -1, 0, 0, -1, 1, 0, 0): -3.3506178158154234, (-1, -1, 1, 1, 1, 0, -1, 1, -1): 9.852191170585654, (-1, -1, 1, 1, 1, 0, -1, 1, 0): -1.3995039713207462, (1, -1, 1, 0, -1, -1, 1, 0, 1): -7.4581341716709995, (1, -1, 1, 0, -1, -1, 1, 0, 0): 1.9876411535849918, (1, -1, 0, -1, -1, 0, 0, 1, 1): 2.62519762267, (1, 0, 0, -1, -1, 0, 0, 1, 1): -7.259856781994374, (0, 0, 0, -1, -1, 0, 0, 1, 1): 4.746456225123816, (0, 1, 1, -1, 1, 1, -1, 0, -1): -8.332281830033342, (0, 0, 1, -1, 1, 1, -1, 0, -1): -7.709029432455655, (0, 0, 1, 0, 1, 1, -1, 0, -1): -5.42613228043338, (0, 0, 0, 0, 1, 1, -1, 0, -1): 7.902893660910122, (0, -1, 1, -1, 1, 0, -1, 0, 1): 7.595257673844045, (-1, -1, 0, 1, 1, 0, -1, 1, 1): -7.779223220433024, (-1, -1, 0, 1, 1, 0, -1, 0, 1): 3.0674857562614632, (0, 0, -1, -1, -1, 1, 1, 0, 1): 5.844623118661248, (0, 0, -1, -1, 0, 1, 1, 0, 1): -1.0047912203111762, (1, -1, 0, 1, 1, -1, 0, 1, -1): -5.758670462439598, (1, -1, 0, 0, 1, -1, 0, 1, -1): -1.3224411954554463, (1, 0, -1, -1, -1, 1, 0, 1, 0): -2.9339363240865213, (1, 0, 0, -1, -1, 1, 0, 0, 0): 0.03486095945841544, (1, 1, 0, -1, 1, 0, 0, -1, -1): 6.38243893012931, (0, 0, 0, 0, -1, 0, 1, -1, 1): -3.2767615837931334, (1, 0, -1, -1, 0, 0, 1, 0, 1): 5.1775592014265355, (1, 0, 0, -1, -1, 1, 1, 1, -1): -1.6999998473153508, (1, 0, 0, -1, -1, 1, 0, 1, -1): -0.5135373618110491, (1, 0, 0, 0, -1, 1, 0, 1, -1): -2.550605756749737, (1, -1, -1, 0, 1, 1, -1, 1, 0): 4.999369098020006, (-1, 1, -1, 0, 0, 1, 1, -1, 0): -1.1844806845629001, (0, 1, -1, 0, 0, 1, 1, -1, 0): -1.698723202494748, (-1, 0, 0, 1, 1, -1, 1, 1, -1): -3.5349529258117958, (-1, -1, 0, 1, 0, 0, 0, 1, 0): -1.597911781322659, (1, 0, -1, -1, 1, 1, 0, 0, 0): -2.487398711806723, (1, -1, 0, 1, 0, -1, -1, 0, 1): 3.6489519999999995, (1, 0, 0, 1, 0, -1, -1, 0, 1): -0.6294973025726228, (0, 1, -1, 0, -1, 1, 0, 0, 0): -3.849938839952903, (1, 1, -1, 0, 1, 1, -1, -1, 0): -5.11642041037687, (1, 1, -1, 0, 1, 0, -1, -1, 0): 6.688629713327901, (1, 1, -1, 0, 1, 0, 0, -1, 0): -5.625623257204561, (0, 1, 1, -1, 0, -1, -1, 1, 0): 3.992333599, (-1, 1, 1, 1, 0, -1, 1, -1, -1): 6.5132155990000005, (-1, 0, 1, 1, 0, -1, 1, -1, 0): 3.9043352026409996, (-1, 1, 1, 0, 1, 1, -1, -1, 0): -8.332281830033342, (-1, 1, 1, 0, 0, 1, 0, -1, 0): -2.7356109736934373, (-1, 1, 1, 0, 0, 0, 0, -1, 0): -2.787812631934221, (1, -1, 0, 0, 1, -1, -1, 1, 0): 7.224571146159448, (0, 1, -1, 0, 1, 1, -1, -1, 0): 4.456287400299617, (0, 1, -1, 0, 1, 1, 0, -1, 0): -2.339638236464365, (1, 1, -1, 1, 0, 1, -1, 0, -1): -6.8618940391, (1, 1, -1, 1, 0, 0, -1, 0, -1): -4.556262320000001, (1, 1, 0, 1, 0, 0, -1, 0, -1): -5.570624950485401, (1, 0, -1, -1, 0, 1, 1, 1, -1): -1.6351415278389192, (1, 0, -1, -1, 0, 1, 0, 1, -1): -0.7531410000000001, (1, 0, 0, -1, 0, 1, 0, 1, -1): -0.3468730000000001, (0, 0, -1, 0, 1, -1, -1, 1, 1): 7.264642530454424, (1, 0, -1, 0, -1, -1, 1, 0, 1): 5.5062943363, (1, 0, -1, 0, 0, -1, 0, 0, 1): 4.974788057276206, (1, 1, 0, -1, -1, 0, 1, 0, -1): 3.8106572931094314, (1, 1, 0, -1, -1, 0, 1, 0, 0): -7.89613802397888, (-1, 0, -1, 0, 1, 0, 1, -1, 1): -2.882411982845243, (0, 0, -1, 0, 1, 0, 1, -1, 1): -0.31974639693552953, (1, -1, 0, 1, 0, -1, 0, 1, -1): 4.30085420659, (0, -1, 1, 1, 0, 0, 0, 0, -1): 0.4762575943617949, (1, 0, 1, -1, -1, 0, 0, -1, 1): 0.42661000000000004, (0, 0, 1, -1, 0, 0, 0, -1, 1): 5.516387650804164, (1, 1, 0, -1, -1, 0, -1, 1, 1): -7.4581341716709995, (0, 1, 0, 1, -1, 1, 0, 0, -1): -3.6983944, (0, 1, 0, 0, -1, 1, 0, 0, -1): -2.452749278808868, (-1, 1, 1, 0, -1, 0, -1, 1, 0): -6.725061845567703, (1, 1, -1, -1, 0, -1, 1, 0, 1): -2.513273720700001, (1, 1, -1, -1, 0, -1, 1, 0, 0): -2.777444, (1, 0, 1, 1, 0, 0, 0, -1, -1): -4.270647574, (1, 0, 0, 1, 0, 0, 0, -1, -1): 3.5446414345574326, (1, 0, -1, 0, -1, 0, 1, 1, 0): 3.2295178717481368, (-1, -1, 0, 1, 0, 1, 1, -1, 1): -3.439, (-1, -1, 0, 1, 0, 0, 1, -1, 1): -1.1600000000000001, (-1, -1, 0, 1, 0, 0, 1, 0, 1): -6.001476227425245, (-1, -1, 0, 0, 0, 0, 1, 0, 1): 1.613798304737598, (1, 1, 0, 0, 1, -1, 0, -1, -1): 4.095165476503901, (1, 1, 0, 0, 1, -1, 0, 0, -1): -2.173215415907194, (0, 1, 0, 0, 1, -1, 0, 0, -1): 6.529720426459605, (1, 1, 0, -1, 0, -1, 1, 1, -1): -4.0951, (1, 0, 0, 0, 0, -1, 0, -1, 1): 5.500643184131048, (1, 0, 0, -1, 1, 0, 1, 0, -1): -1.1329723894972972, (0, -1, 1, 1, -1, 0, -1, 0, 1): 3.3022536219100003, (-1, 1, -1, -1, 0, 1, 1, 1, 0): 2.4570600000000002, (-1, 1, -1, -1, 0, 0, 1, 1, 0): 2.9432799999999997, (0, 1, 1, -1, 1, -1, -1, 0, 0): 6.017495599, (0, 1, 1, -1, 1, 0, -1, 0, 0): -3.2819174565400004, (0, 0, 1, -1, 1, 0, -1, 0, 0): 0.44206455728949745, (1, 0, 0, 0, -1, -1, 0, 0, 1): -2.546507547385874, (1, 0, 1, 0, 0, 1, -1, 0, -1): -5.428244426948197, (-1, 1, 0, 0, 0, 1, -1, -1, 1): 2.8542261269080003, (0, 0, 1, -1, 1, 1, -1, 1, -1): -8.468114245548442, (0, 0, 1, -1, 1, 1, -1, 0, 0): -5.967418423234782, (0, 0, 1, -1, 0, 1, -1, 0, 0): 1.7792776740830427, (0, 1, -1, 0, 1, 1, -1, 0, -1): 4.4184464191, (1, 1, -1, 0, 0, -1, 1, -1, 1): 4.4748805030026, (1, 1, -1, 0, 0, -1, 0, -1, 1): 2.28144992, (-1, 0, -1, -1, 0, 1, 1, 1, 0): 2.098, (-1, 0, 0, -1, 0, 1, 1, 1, 0): 1.3177037134239997, (-1, -1, 1, 1, -1, 1, 0, 1, 0): -1.3482306406000002, (1, -1, 0, 1, 0, 1, -1, -1, 1): -4.68559, (-1, 1, 0, -1, 1, -1, 1, -1, 1): 9.01522909781639, (0, 1, 0, -1, 1, -1, 1, -1, 1): 3.41719674, (0, 1, 0, -1, 0, -1, 1, -1, 1): -0.05423008000000029, (0, 0, 0, 1, 0, -1, 1, -1, 0): 5.645525597866116, (1, 0, 1, 0, 1, -1, -1, 1, -1): -0.20547165578387686, (1, 0, 0, 0, 1, -1, -1, 1, -1): 2.9621449378964706, (-1, -1, 0, 1, 1, 0, 0, 0, 0): 8.176512761178035, (0, 1, -1, 1, 0, 0, -1, 0, 0): -2.02694063586412, (1, -1, 0, 0, 0, 1, 0, -1, 1): 1.6902186000000001, (1, -1, 0, 0, 0, -1, 1, 1, -1): 4.973464733263419, (-1, 0, 0, -1, 0, 1, 1, 1, -1): -0.002628832360000277, (-1, 0, 1, -1, 1, 1, 0, 1, -1): -3.0069316567000004, (-1, 0, 1, -1, 1, 1, 0, 0, 0): -6.358860841798258, (-1, -1, 1, 0, 1, 0, -1, 1, 0): -2.0351668832539622, (0, -1, 1, 0, 0, 0, 1, 1, -1): -2.8061009363106586, (0, -1, -1, 1, 0, 0, 1, -1, 1): 3.444358667248, (0, 0, -1, 1, 0, 0, 1, -1, 1): -2.2047282289293157, (1, 0, -1, 1, 0, 1, 0, 0, -1): 4.9044085620999365, (1, 0, -1, 1, 0, 0, 0, 0, -1): 2.4486302612809996, (-1, 1, 0, 1, 1, -1, -1, 0, 0): 5.492405878165442, (0, 1, 0, 1, 1, -1, -1, 0, 0): -2.733021398299511, (0, -1, 0, 1, 0, 1, 0, 1, -1): -2.643934434385615, (1, 1, 0, 1, 1, -1, 0, -1, -1): -5.217031, (1, 1, 0, 1, 0, -1, 0, -1, -1): 3.6782849188, (0, 1, 0, 1, 0, -1, 0, 0, -1): -1.218332973274474, (0, -1, 1, 0, 1, -1, 0, -1, 1): 8.080020944896877, (0, 1, -1, 0, 0, 1, 1, -1, -1): 1.5855059927543897, (0, 1, 0, 0, 0, 1, 1, -1, -1): 0.8629082809450086, (1, 0, -1, -1, -1, 1, 1, 0, 1): -1.6679948683909878, (0, 1, -1, 1, -1, 1, 1, -1, 0): -0.42097798474705295, (0, 0, 0, 1, -1, 1, 1, -1, 0): -6.7828367557029345, (1, 1, -1, 1, 0, 1, 0, -1, -1): -3.24559, (1, 0, -1, 1, 0, 1, 0, -1, -1): 5.350954132, (0, -1, -1, 1, 1, 0, 1, -1, 1): -4.035664920309889, (0, 0, 0, 0, -1, 1, 1, -1, 1): -8.913109530484709, (-1, 0, 0, 0, 0, 0, -1, 1, 1): -4.170554851227344, (-1, 1, -1, 1, 0, 1, 1, 0, -1): -6.285125320517345, (-1, 1, -1, 1, 0, 1, 0, 0, -1): 3.153232, (-1, 0, 0, 1, 0, 1, 0, 0, -1): 1.1640061703327858, (0, 1, -1, -1, 0, 1, -1, 0, 1): -3.9934360880000006, (1, 0, -1, 1, -1, 0, 0, -1, 1): 4.3372009, (1, 0, 0, 1, -1, 0, 0, -1, 1): -4.874611178432541, (0, 0, 0, 1, -1, 0, 0, -1, 1): -3.2789810225930083, (0, 1, 0, 0, 0, -1, -1, 1, 0): 2.9265772484833263, (1, -1, 1, 0, -1, 1, -1, 1, -1): -0.9999999999999976, (1, 0, 1, 0, -1, 1, 0, 0, -1): -2.8368749833275064, (-1, 1, 1, 1, 0, -1, -1, -1, 1): -0.9797244404095546, (-1, 1, 1, 0, 1, 1, 0, -1, -1): -5.937773525420738, (1, 0, 0, -1, 0, -1, 1, 1, 0): -3.267208, (1, -1, 1, -1, -1, 1, 1, 0, -1): -0.9999924982764239, (1, -1, 1, -1, -1, 1, 1, 0, 0): -8.299591252486087, (1, 0, 1, -1, 1, 1, -1, -1, 0): -3.1102316729974, (1, 0, 1, -1, 0, 1, -1, -1, 0): 3.098152, (1, 0, 1, -1, 0, 1, 0, -1, 0): 1.6335193215724, (-1, 1, 0, 1, -1, 0, -1, 1, 1): -8.790774888108002, (-1, 1, 0, 1, -1, 0, -1, 0, 1): -2.198654395546435, (1, 0, -1, 1, 1, -1, -1, 0, 0): 6.582679942291909, (1, 0, 0, 1, 1, -1, -1, 0, 0): -4.678212262423369, (-1, 1, 1, 0, -1, -1, 1, 0, 1): -8.702769246443438, (0, 1, -1, 0, 0, 0, 1, 1, -1): -3.8668377779890633, (1, -1, 1, 0, 1, 0, 0, -1, 0): 1.2446369203950334, (1, 1, 0, 0, -1, -1, 0, 1, 0): -5.195634686697483, (1, 0, -1, 0, 1, 0, -1, 1, -1): 6.37149417257019, (0, 0, -1, 0, 0, 1, 1, 0, -1): -0.6483967081026347, (1, -1, 1, -1, 1, 1, -1, 0, -1): -0.9962428978738638, (1, 0, 1, 0, 1, 0, 0, -1, -1): -3.0703186110278535, (1, 0, 0, 0, 1, 0, 0, -1, -1): 1.3006381812323504, (0, 0, -1, -1, 0, 1, 1, -1, 1): -1.4921852535310547, (0, 1, -1, 0, 1, -1, 0, 0, 0): 9.100883572804504, (1, -1, 0, 0, 0, 1, -1, 1, -1): -1.6063480064366005, (0, 1, -1, 0, -1, 0, 1, 0, 0): -1.3505831262751107, (1, 0, 0, -1, 1, 1, 1, -1, -1): -0.06458096561308041, (1, 1, 0, 1, 0, -1, -1, -1, 0): 4.158228019999999, (1, 1, 0, 1, 0, -1, -1, 0, 0): -1.748438586267294, (0, 1, 0, 1, 0, -1, -1, 0, 0): 0.14475180485569966, (-1, 1, -1, 0, 1, 1, 0, -1, 1): -1.5545951019084006, (-1, 1, -1, 0, 0, 1, 0, -1, 1): -2.097836165337937, (0, 1, -1, 0, 0, 1, 0, -1, 1): -1.267763555528634, (0, -1, -1, -1, 1, 1, 0, 1, 0): -2.3515446893570586, (0, 1, -1, -1, 1, 1, 0, 0, -1): 7.325884550790107, (1, 0, 1, 0, -1, 1, 0, -1, -1): 5.989592806981456, (-1, -1, 1, 1, -1, 0, 1, 0, 0): -3.5977771353903205, (-1, 0, 1, 0, 1, 1, 0, -1, 0): 3.8461132074321056, (1, 1, 0, -1, 1, -1, 0, 0, -1): 8.139724466053575, (1, 1, 0, 0, -1, 0, -1, 1, 0): -4.854786531073751, (0, -1, 1, -1, 0, 0, 1, -1, 1): 0.23305409792199983, (1, 1, 0, -1, -1, 1, 1, 0, -1): -1.5214516247249716, (1, -1, -1, 1, 1, 0, 0, 0, -1): 4.8478306704400005, (0, 0, -1, 1, -1, 1, 1, 1, -1): -6.434425205404535, (-1, 0, 0, -1, 1, 0, 1, 0, 0): 5.665790369981075, (1, -1, -1, -1, 0, 0, 1, 0, 1): 7.785779566569572, (0, 1, 1, 1, -1, 1, -1, -1, 0): -6.2643049776254776, (0, 0, 1, 1, -1, 1, -1, -1, 0): -2.0081280255200005, (-1, 1, 0, -1, 1, -1, 1, 0, 1): 3.1302186, (-1, 1, 0, -1, 1, 0, 0, 0, 1): -5.879788057491534, (-1, 0, 1, -1, 0, 0, 1, 1, -1): 2.9271921364, (-1, 0, 1, -1, 0, 0, 1, 1, 0): 4.140615244109638, (0, 1, 0, 0, 0, -1, 1, -1, 1): -1.0026465751505165, (1, 0, 1, -1, 1, -1, 0, -1, 0): 6.5132155990000005, (1, 1, 0, -1, -1, 0, 1, -1, 1): -5.942680184882593, (0, 1, 0, -1, -1, 0, 1, -1, 1): -1.5175390051117459, (1, 0, -1, 0, -1, 0, 1, 1, -1): 5.423874665051917, (0, -1, 0, -1, 0, 1, 0, 0, 1): 3.55780137092, (1, 0, 1, -1, 0, -1, 0, 0, 0): 5.40112234186205, (0, -1, -1, 1, 1, 0, 0, 1, 0): -6.8211852646114775, (-1, -1, 1, 1, 0, 0, 1, 1, -1): -5.9683307014474485, (-1, -1, 1, 1, 0, 0, 0, 1, -1): 0.5401135645119998, (1, -1, 0, 0, 1, 1, -1, 0, 0): 2.4390456, (1, 0, 0, -1, 1, -1, 1, 1, -1): -3.587130207267072, (1, 1, -1, 1, 0, 0, 0, 0, -1): -7.5689238706517035, (0, 1, 0, -1, 0, -1, 1, 0, 1): -0.5182436000000001, (-1, 1, 1, 0, 0, 0, 1, -1, 0): -2.88873590599662, (1, 1, -1, 1, 0, 0, 0, -1, -1): 1.6830999999999998, (1, 1, -1, 1, 0, 0, 0, -1, 0): -1.9268776787195607, (1, 0, 1, 0, -1, 0, 0, -1, 1): -2.628071655127894, (1, 0, 1, 1, 0, -1, 0, -1, 0): 3.9511654859724, (-1, 0, 1, -1, 0, 0, 1, -1, 1): 5.6953279000000006, (0, 0, 1, -1, 0, 0, 1, -1, 1): 0.9341218619880002, (0, 1, -1, 1, 0, 1, 0, -1, 0): 0.09266694547662524, (1, -1, -1, 1, -1, 1, 0, 1, 0): -2.6984951080216, (1, -1, -1, 1, 0, 0, 0, 1, 0): 0.6674209426599998, (-1, 1, 1, 1, -1, 1, 0, -1, 0): -5.833412163835344, (-1, 1, 1, 1, -1, 0, 0, -1, 0): -2.8376427082630533, (-1, 1, 1, 1, 0, 0, 0, -1, 0): -2.0949491177696453, (-1, 0, 0, 0, 1, 1, 0, 0, -1): 8.152457889691584, (0, 0, 0, 0, -1, 0, 1, 1, -1): -3.451263839997947, (1, -1, 0, 1, -1, -1, -1, 1, 1): -0.9353891811077333, (1, 0, 0, 1, -1, -1, -1, 1, 1): -6.975670106921795, (1, 0, 0, 1, -1, -1, -1, 1, 0): -1.920352880103343, (1, 0, 0, 1, -1, -1, 0, 1, 0): -2.1361823085824367, (0, -1, -1, 1, -1, 1, 0, 1, 0): -3.596009442469961, (0, -1, 0, 1, -1, 1, 0, 1, 0): -3.2443585721593164, (-1, 1, 1, 1, 0, -1, -1, 0, 0): -0.8825489153088187, (-1, -1, 0, 1, 0, 1, -1, 1, 1): -2.33983, (-1, -1, 0, 1, 0, 1, -1, 1, 0): 1.5759999999999998, (1, 1, 0, -1, -1, 1, 0, 0, 0): 1.5679512375, (0, -1, 0, 1, 1, 0, -1, 1, -1): 8.289212662893112, (-1, -1, 1, 1, 1, 0, 0, 0, -1): 4.858685218, (-1, -1, 1, 1, 1, 0, 0, 0, 0): 3.08128629346, (1, 0, 0, -1, -1, 1, 1, 0, 0): -2.471223381665618, (1, 0, 0, -1, -1, 0, 1, 0, 0): -3.4554059506761945, (0, -1, 1, -1, 0, -1, 1, 1, 0): 4.6983799, (0, 0, 1, -1, 0, -1, 1, 1, 0): -1.01956726, (0, -1, -1, 0, 1, 1, -1, 0, 1): 6.953284671880159, (0, -1, -1, 0, 1, 1, 0, 0, 1): 0.6562006909792659, (0, 1, 1, 1, -1, -1, 1, -1, -1): 7.712320754503899, (0, 1, 1, 1, 0, -1, 1, -1, -1): 2.4570600000000002, (-1, 1, 0, 1, -1, 0, 1, -1, 1): -1.699999999623627, (-1, 1, 0, 1, -1, 0, 1, -1, 0): -2.2374629578292837, (-1, 1, 0, 1, 0, 0, 1, -1, 0): -2.4799588954335134, (-1, 0, 0, 1, 0, 0, 1, -1, 0): 2.2928938097057383, (1, -1, 0, -1, 0, 0, 0, 1, 0): 0.13036204192149703, (-1, 0, 0, -1, 1, 0, 1, -1, 1): 7.967817748101761, (-1, 1, 0, 1, -1, -1, 0, 1, 1): -1.2746315392142582, (-1, 1, 0, 0, -1, -1, 0, 1, 1): 1.8779762116037584, (0, 1, 0, 0, -1, -1, 0, 1, 1): -6.0336095213539656, (0, 0, 0, 0, -1, -1, 0, 1, 1): 5.337028519523167, (1, 0, -1, -1, 1, 1, 0, 0, -1): -2.1749731568589694, (1, 1, 0, -1, 0, -1, 1, 0, -1): 3.5984518689200002, (1, 1, 0, -1, 0, -1, 1, 0, 0): -0.31747301400000005, (1, 1, 0, -1, 0, -1, 0, 0, 0): 1.815630063646478, (0, -1, -1, 1, 1, -1, 1, -1, 1): 9.01522909781639, (0, -1, 0, -1, 1, 1, 0, 1, -1): -2.1853885882835606, (0, 0, 0, -1, 1, 1, 0, 1, -1): -1.1572325333319908, (0, -1, -1, -1, 1, 1, 1, 0, 1): -2.2871241091037433, (0, -1, -1, -1, 1, 1, 0, 0, 1): 4.1326938504449915, (-1, -1, 0, 1, 1, 0, 1, 0, -1): 7.0149638743039, (0, -1, 0, 1, 1, 0, 1, 0, -1): 3.4787367811139998, (0, 1, 1, 1, -1, 0, 1, -1, -1): -4.68559, (0, 1, 1, 1, -1, 0, 0, -1, -1): 2.03700154672, (0, 1, 1, 1, -1, 0, 0, 0, -1): -6.763899600997714, (0, 0, 1, 1, -1, 0, 0, 0, -1): -1.7175023844072475, (0, 1, 0, 0, 0, -1, 1, 1, -1): -3.838559376367, (1, -1, 1, -1, -1, 0, -1, 1, 1): 9.721871610556308, (1, 0, 1, -1, -1, 0, -1, 1, 1): -4.731031117811259, (-1, -1, 1, 0, 1, -1, -1, 1, 1): -0.9980033218889841, (-1, -1, 1, 0, 1, 0, 0, 1, 0): -1.205453842489002, (1, -1, -1, 0, 0, -1, 0, 1, 1): 5.217031, (0, 1, -1, 0, 1, 1, 0, -1, -1): 4.174842141581812, (0, 1, -1, 0, 1, 1, 0, 0, -1): 3.169360314603161, (-1, 0, 1, -1, 1, 1, 0, -1, 0): 5.350954132, (0, 0, 1, -1, 1, 1, 0, -1, 0): -0.12300816506600001, (1, 1, -1, -1, -1, 1, 0, -1, 1): -0.8332281830033343, (1, 1, 0, 0, -1, 0, 0, -1, 1): -0.857409915263682, (-1, 1, 0, 1, 0, -1, 1, -1, 0): -0.54104421, (0, 1, 0, 1, 0, -1, 1, -1, 0): -0.1992619453000001, (0, -1, 1, 1, -1, 0, 0, 1, -1): -2.3934472559311217, (0, 0, 1, 1, -1, 0, 0, 1, -1): -7.691230893726254, (1, -1, -1, 0, 0, 1, 1, 0, 0): 0.9747933052119853, (-1, -1, 0, 1, 0, 1, -1, 0, 1): 3.2021479, (-1, -1, 1, 1, 0, 0, -1, 1, 1): 0.5932969698699999, (-1, -1, 1, 0, 0, 0, 0, 1, 0): 0.513510511573781, (-1, 1, 1, 1, -1, -1, 0, 1, 0): -5.6658211147, (-1, 0, 1, 1, -1, -1, 0, 1, 0): 0.07473009786899976, (0, 0, 0, -1, 0, 1, -1, 1, 1): -3.712690594, (0, 0, 0, -1, 0, 1, -1, 1, 0): -2.032320250404341, (1, 1, 0, 0, 1, -1, 1, -1, -1): -1.58035317654, (1, 1, 0, 0, 0, -1, 1, -1, -1): 2.5257088, (1, 1, 0, 0, 0, -1, 1, -1, 0): 1.716396, (0, 0, 0, 1, 1, -1, -1, 0, 0): -3.1412268587965277, (1, 0, 1, -1, 0, -1, -1, 1, 1): -0.19950886, (1, 0, 1, 0, 0, -1, -1, 0, 1): 3.8282650057494108, (1, 0, 1, -1, 0, 0, -1, -1, 1): 5.217031, (-1, 0, 0, 0, 1, 0, 1, -1, 1): 0.2923517617774677, (0, 1, 1, 0, -1, 1, 0, -1, -1): 3.7080010000000003, (0, -1, -1, -1, 0, 1, 1, 0, 1): 4.266777896200001, (0, 0, -1, 0, 1, 0, 0, 1, -1): 7.465793278905309, (0, 0, 0, -1, 1, -1, 1, 1, -1): 8.324500169275009, (0, 1, 0, 1, -1, -1, 1, 0, -1): 0.24529779999999968, (0, -1, 0, -1, 1, 1, -1, 1, 1): -6.334070178124783, (0, -1, 0, -1, 0, 1, -1, 1, 1): -0.19808000000000003, (0, 1, 1, 0, 1, -1, -1, 0, -1): 4.1124076693381, (-1, -1, 1, -1, 1, 0, 0, 1, 0): 3.5049226333993557, (0, -1, 0, 1, -1, 0, 1, 1, 0): 3.3073673360406, (0, -1, 0, 0, -1, 0, 1, 1, 0): 6.608465937278622, (1, 0, 0, 1, -1, 1, -1, 1, -1): -7.014054387502707, (0, 0, 0, 1, -1, 1, -1, 1, -1): -2.6968620000000003, (0, 0, 0, 1, -1, 1, -1, 0, 0): -5.888468621634007, (-1, 0, 0, 1, -1, 0, 0, 0, 1): -2.1340697995215874, (-1, -1, 1, 0, 0, 0, 1, -1, 1): 5.53992923719, (-1, -1, 1, 0, 1, -1, 0, 1, 0): 8.106834249781032, (1, 0, 0, -1, 1, -1, -1, 1, 0): 5.764415229999999, (1, 0, 0, 0, 1, -1, -1, 1, 0): 3.299898885657365, (-1, 1, 1, -1, 0, 0, 0, 1, -1): 2.2325609872000003, (1, -1, 0, 0, -1, 1, 0, 1, 0): -2.18572667980726, (-1, -1, 1, 1, 0, -1, 1, 0, 1): 5.343486065210926, (-1, -1, 1, 1, 0, -1, 1, 0, 0): 5.64266645025472, (0, 0, 1, -1, 1, 1, -1, -1, 0): 1.27833148, (0, -1, 1, -1, 1, -1, 0, 1, 1): 4.11713642346, (0, -1, 1, -1, 1, -1, 0, 1, 0): 2.1793888, (0, -1, 1, 0, 1, -1, 0, 1, 0): 0.779452470955708, (0, -1, 0, 1, -1, 1, -1, 1, 0): -2.221803513827774, (1, -1, 1, 0, -1, -1, 0, 0, 1): -4.75918383359312, (1, -1, -1, -1, 1, 0, 1, 1, 0): 0.09051090386681149, (-1, 0, -1, -1, 1, 1, 1, 1, 0): -7.322330917228343, (-1, 0, -1, -1, 1, 1, 0, 1, 0): 2.23199888935888, (1, 0, 0, -1, 1, 1, -1, 1, -1): -1.4895983134343507, (1, 0, 0, -1, 0, 1, -1, 1, -1): 0.9145858099999997, (-1, -1, 1, 1, -1, 0, 0, 0, 1): 3.9708077744799994, (1, 0, 1, -1, 1, 0, -1, 1, -1): 0.811278883, (1, 0, 0, 1, -1, 1, -1, -1, 0): -4.900636088000001, (1, 0, 0, 1, 0, 1, -1, -1, 0): -2.262779769466, (1, -1, 0, 1, -1, 1, 0, 1, -1): -1.6999643248418277, (1, -1, 0, 1, -1, 1, 0, 0, 0): -6.8441768768092315, (1, -1, 0, 0, -1, 1, 0, 0, 0): -2.5623935410229364, (-1, 0, -1, 1, 0, 1, 0, 0, 0): 3.163322024786928, (-1, 1, -1, 0, 0, 1, 1, -1, 1): -1.6689783938266187, (1, 0, 0, -1, 1, 1, -1, 0, -1): -2.7370528289645044, (1, 0, 0, -1, 1, 1, -1, 0, 0): -1.641618590893591, (0, 0, 0, -1, 1, 1, -1, 0, 0): -3.933004942448161, (-1, -1, 1, 1, 1, -1, -1, 0, 1): -0.999990738612869, (-1, -1, 1, 1, 1, 0, -1, 0, 1): -0.289304456787832, (0, -1, 1, 0, 1, 0, -1, 0, 1): 2.76548687766162, (-1, 1, 0, 1, -1, 0, 1, 0, 0): -8.131882558339056, (-1, -1, 0, 1, 0, 1, 0, -1, 1): 4.7387341, (0, 1, 0, 1, 0, -1, 0, -1, 1): -0.5315287000000001, (-1, 0, 0, 0, 0, 1, -1, 1, 0): -3.484491526774326, (0, 0, -1, 1, 0, 1, -1, -1, 1): 3.5046100000000004, (1, -1, 1, 0, 1, 1, -1, 0, -1): -6.844688834026515, (0, -1, 1, 0, 1, 1, -1, 0, -1): 5.9963334746498465, (0, -1, 1, 0, 1, 1, 0, 0, -1): 4.43874472516682, (-1, 0, 1, -1, 0, -1, 1, 1, 0): 4.68559, (-1, 0, 1, 0, 1, 1, -1, 0, -1): 7.762706863078603, (1, -1, -1, 1, 0, 1, -1, 0, 0): 3.37339, (1, -1, 0, 1, 0, 1, -1, 0, 0): -1.9427901557700002, (-1, 1, 0, 1, 0, 0, 1, -1, -1): 1.5042941744520089, (-1, 1, 0, 1, -1, -1, 1, 0, 1): -1.0341557004219548, (-1, 1, 0, 1, -1, -1, 1, 0, 0): -2.6610670367730296, (1, -1, 1, 1, 0, -1, 0, 1, -1): 0.08385687639999995, (1, 0, 0, 1, 0, -1, 0, 1, -1): -4.284343679907533, (1, 0, 0, 1, 0, -1, 0, 0, -1): 1.810216089366131, (-1, -1, 1, 0, 1, 0, 0, 0, 1): 3.324082820915489, (-1, 1, -1, 1, 0, -1, 0, 1, 0): 3.008642, (1, -1, -1, 0, 1, 0, 1, 0, -1): 9.204065697483426, (0, -1, -1, 1, 1, -1, 0, 1, 1): -5.3649873630460005, (0, -1, -1, 1, 1, -1, 0, 1, 0): -3.12096900352, (0, -1, -1, 1, 0, 1, -1, 1, 0): -0.5120000000000001, (0, -1, -1, 1, 0, -1, 1, 1, 0): 2.4417280000000003, (1, -1, 1, 0, 1, 0, -1, 0, -1): -2.7285418581053777, (1, -1, 1, 0, 1, 0, -1, 0, 0): -1.5960738990419214, (1, -1, 1, 0, 0, 0, 0, 0, -1): 1.1449166444294023, (0, 1, 0, 0, -1, 1, 1, -1, -1): 1.6368322150957522, (1, -1, 0, -1, 0, 1, -1, 0, 1): 3.6886419999999998, (1, -1, 0, 0, 0, 1, -1, 0, 1): -0.7679999999999999, (0, -1, 0, 0, 0, 1, -1, 0, 1): 0.5998088617299084, (1, -1, -1, 0, 0, 1, 1, -1, 0): 3.098152, (1, 0, -1, 0, 0, 1, 1, -1, 0): 1.2980504156, (1, 0, 0, 1, -1, 0, 0, 0, -1): 4.124930760496666, (0, -1, 1, 1, -1, -1, 1, 1, 0): 4.11713642346, (0, 0, 1, 0, -1, -1, 1, 1, 0): -4.277633625534455, (-1, 0, 1, 1, -1, -1, 1, 1, 0): -3.147449155611634, (-1, 0, 0, 1, -1, -1, 1, 1, 0): 4.956908581396, (0, 0, 0, 1, -1, -1, 1, 1, 0): 2.48635081482909, (-1, 0, -1, 1, 0, 0, 1, 1, 0): -7.189236658790405, (-1, 0, 0, 0, 1, 1, 1, -1, -1): 5.692253707, (1, -1, 1, 0, 0, -1, 1, 1, -1): 4.764653207432106, (0, -1, 1, 0, 0, -1, 1, 1, -1): 5.64810807279592, (0, 0, 1, 0, 0, -1, 1, 1, -1): -2.1052794592427824, (0, -1, 0, 0, 1, 1, 0, 0, -1): 7.831984761662626, (0, -1, 0, 1, -1, 1, -1, 1, 1): -5.2463133991, (0, 0, 0, 1, -1, 0, -1, 1, 1): -8.623637682137321, (-1, -1, 0, 0, 1, 1, -1, 1, 1): -7.17570463519, (1, 1, -1, 0, -1, 1, 1, 0, -1): 0.2853691863547334, (1, -1, 1, -1, -1, 1, 0, 1, -1): -0.9999996073990722, (1, 0, 1, -1, -1, 1, 0, 1, -1): 0.8790117557918415, (1, 0, 1, -1, -1, 1, 0, 0, -1): 7.989662755235942, (1, 0, 0, -1, 0, 1, 1, 0, -1): -1.1206137563042915, (0, 0, 0, -1, 0, 1, 1, 0, -1): -0.5844740430174995, (0, -1, 0, 1, 0, -1, 0, 0, 1): -0.2629121399823436, (1, 1, 0, 0, -1, 1, -1, 0, -1): 2.8260568, (1, 1, 0, 0, 0, 1, -1, 0, -1): -5.0853449482029, (1, 0, 1, 0, -1, 1, 1, -1, -1): -5.5013324098576595, (0, 0, 1, 0, -1, 1, 1, -1, -1): -5.8851676308302725, (1, -1, -1, 1, -1, 1, 0, 0, 0): 0.9758106337193376, (1, -1, -1, 1, 0, 1, 0, 0, 0): 2.0834643187302047, (0, 0, 0, 0, 1, 1, -1, 1, -1): 4.295644989154895, (0, 0, 1, 0, 1, 0, -1, 1, -1): -0.5264552709793873, (0, 0, 1, 0, 0, 0, -1, 1, -1): -0.5130495639396522, (-1, 0, -1, 1, 0, 1, 1, 0, -1): 1.73039746153888, (0, 1, 1, -1, -1, 0, 0, 0, 1): -5.966868823204773, (0, 0, 1, 0, -1, -1, 1, 0, 0): -2.504429322695672, (0, -1, -1, 1, 0, 1, 0, -1, 1): 2.1592, (1, -1, -1, 0, 0, 1, 0, -1, 1): 2.6402459, (1, -1, -1, 0, 0, 1, 0, 0, 1): -0.6902327028107998, (0, 0, 1, 0, -1, 1, 1, 0, -1): -8.502075674684695, (1, 0, 1, 1, -1, 0, 0, 0, -1): 1.5645590713395234, (1, 1, 0, 1, 0, -1, 0, -1, 0): 1.35600374004, (0, 1, 1, 1, -1, 1, -1, 0, -1): -8.332281830033342, (0, 1, 0, 1, -1, 1, -1, 0, -1): -4.900636088000001, (0, 1, 0, 1, -1, 1, -1, 0, 0): -5.8136376118060005, (1, 0, 1, 0, -1, 0, 0, -1, 0): 5.177201159738404, (-1, 0, -1, 1, 1, 0, -1, 0, 1): 5.574729203533259, (-1, 1, -1, 1, 0, -1, 0, 1, 1): 4.305422781114, (-1, 0, -1, 1, 0, -1, 0, 1, 1): 0.7599088, (-1, 0, 0, 1, 0, -1, 0, 1, 1): -1.0146849352902887, (0, 0, 0, -1, -1, 1, -1, 1, 1): 3.7201137964001387, (1, -1, 1, -1, 0, -1, 0, 0, 1): 3.185264137528, (1, -1, -1, 0, 1, 0, 1, 0, 0): 5.200013415000059, (1, 0, -1, -1, 1, 0, 1, 0, 0): -1.0154538016940984, (0, -1, 0, -1, 0, 0, 0, 1, 1): 3.1416964838796706, (0, 1, 1, 0, -1, -1, 0, 0, 1): -6.820745454016368, (0, 1, 1, 0, -1, -1, 0, 0, 0): 7.930251539812811, (1, 1, -1, 0, 1, -1, 0, -1, 0): 4.495277641759991, (0, -1, 0, 0, 1, -1, -1, 1, 1): 7.303994456331331, (0, 0, 0, 0, 1, -1, -1, 1, 1): 5.6064822268501215, (1, 1, -1, -1, -1, 0, 1, 0, 0): -3.6432009317433387, (1, 1, -1, -1, 0, 0, 1, 0, 0): -3.3951473216180843, (1, 1, -1, -1, 0, 0, 0, 0, 0): -0.13230815583629146, (0, 0, 1, 0, -1, -1, 1, 0, 1): -8.266631911923906, (-1, -1, 1, 0, 0, 1, 1, 0, -1): 2.79593134412, (-1, 0, 1, 0, 0, 1, 0, 0, -1): 0.5010176175778563, (-1, -1, 0, 1, 1, 0, 1, -1, 1): -0.7693725339999999, (-1, -1, 0, 1, 1, 0, 1, -1, 0): 7.385179874811849, (1, -1, 1, 0, 1, -1, -1, 1, -1): -0.9999995637767469, (0, 0, 0, 1, -1, -1, 1, 0, 0): 7.245996084312974, (-1, 1, 1, -1, 0, 1, 1, 0, -1): -1.0744090230000003, (-1, 1, 1, 0, 0, 0, 1, 0, -1): -5.708809966965966, (1, -1, -1, 0, 1, 1, 0, -1, 0): 5.8591180162, (1, 0, -1, 0, 1, 1, 0, -1, 0): 4.000795786257091, (0, -1, -1, 1, -1, 1, 0, 1, 1): -6.8618940391, (0, -1, -1, 1, -1, 1, 0, 0, 1): -4.556262320000001, (1, -1, 1, 0, -1, 1, -1, 1, 0): -1.0653130397383683, (1, -1, 1, -1, 0, 1, 1, -1, -1): 9.113706188034751, (1, -1, 1, -1, -1, 1, 0, 1, 0): -0.3868657752216288, (1, 0, 1, -1, -1, 1, 0, 0, 0): 3.139623300504941, (-1, -1, 1, 1, 1, -1, 0, 1, 0): -1.5462933458868857, (-1, -1, 1, 1, 0, -1, 0, 1, 0): 1.504230818, (0, 1, 1, 1, -1, -1, -1, -1, 1): 9.912720364319123, (0, 1, 0, 1, -1, -1, 0, -1, 1): 2.234827030332821, (0, 1, 0, 1, -1, 0, 0, -1, 1): -2.410592871821417, (-1, 0, 1, 0, -1, 0, 0, 1, 1): 1.434582030588, (-1, 1, 1, -1, 1, -1, 0, -1, 1): 9.690968456173675, (0, 1, 1, -1, 1, 0, 0, -1, 0): 4.891655557725845, (1, 0, -1, -1, 1, 0, 1, 1, -1): -5.054355775475294, (1, 1, -1, -1, 0, 0, 0, 0, 1): -2.630930871334, (1, -1, 1, 0, 1, 0, 0, -1, -1): 2.0606612709496686, (0, 1, 1, -1, 1, 1, 0, -1, -1): -3.707115455614134, (0, 1, 1, -1, 1, 0, 0, -1, -1): 8.427564676151242, (0, 1, 1, -1, 0, 0, 0, -1, 0): 5.635769235045055, (-1, 1, 1, 0, 0, 0, 1, -1, -1): 1.9642817098691916, (0, 1, 1, 0, 0, 0, 1, -1, -1): -0.6502962026999999, (1, 0, 0, 1, 1, -1, -1, 1, -1): -7.56665916226516, (1, -1, 1, -1, -1, 0, 0, 0, 1): 3.1789041716710003, (1, 0, 1, -1, -1, 0, 0, 0, 1): -5.372913716602918, (-1, 0, 0, 1, -1, -1, 1, 0, 1): 7.68037991633215, (-1, 1, 0, -1, 0, 1, 0, 0, 1): -3.0096836917516003, (1, 1, 0, 0, -1, -1, -1, 0, 1): 0.04471767999999998, (1, 1, 0, 0, -1, -1, 0, 0, 1): -4.616588491001798, (1, 1, -1, 0, -1, -1, 0, 1, 0): -5.48951523128, (-1, 0, 0, 0, 0, 1, 1, -1, 0): 0.3323738659999998, (0, 1, -1, 1, 0, -1, -1, 1, 1): -0.27893999999999997, (0, 0, -1, 1, 0, -1, -1, 1, 1): -1.0275200000000002, (0, 0, -1, 1, 0, -1, 0, 1, 1): 0.9024359999999998, (0, 0, -1, 1, 0, -1, 0, 0, 1): 0.7956310335289525, (-1, 0, 1, 1, 0, 1, -1, 0, -1): -1.1926448, (-1, 0, 1, 1, 0, 1, 0, 0, -1): -4.993502506488527, (-1, -1, 0, 1, 1, 0, 0, -1, 1): 4.83822802, (0, 1, -1, 1, 0, -1, 0, 1, 0): -1.2458478160000002, (0, 0, -1, 1, 0, -1, 1, 0, 1): 4.009590045395556, (0, 1, 1, 0, 0, 0, 0, -1, -1): 4.165658328731891, (0, -1, 1, -1, 1, 1, 0, -1, 0): 4.9866219145288, (0, -1, 1, 0, 1, 1, 0, -1, 0): 4.218381606582492, (0, 0, 1, -1, 0, -1, 1, -1, 1): 2.164708, (0, 0, 1, -1, 0, 0, 1, -1, 0): 3.6279967933049133, (-1, 0, 1, 0, 0, -1, -1, 1, 1): -3.9432478624012655, (0, 0, 1, 0, 0, -1, -1, 1, 1): -4.005159900851351, (1, -1, 1, 0, 1, -1, -1, 1, 0): 0.06596195691117088, (0, -1, 1, 1, 0, 1, -1, -1, 0): 1.0170999999999997, (-1, 1, 1, 0, 0, -1, 1, 1, -1): -1.534647574, (-1, 1, 1, 0, 0, -1, 1, 0, -1): 2.628218008, (0, 0, 0, 0, 1, -1, -1, 1, 0): 5.991586270764047, (1, 0, 1, -1, -1, 1, 0, -1, 0): 5.2671713423239, (1, 0, 0, -1, 0, 1, 0, -1, 0): -0.3103423301998278, (1, 0, 0, 0, 1, 1, -1, 0, -1): -5.440807590062067, (-1, 0, 1, 0, 0, -1, 0, 1, 1): -1.2989438312889496, (0, -1, 1, 1, 0, 0, 1, -1, -1): 6.2709869323900005, (1, -1, -1, 1, 0, 1, 0, -1, 0): 4.239442, (1, 1, 0, 0, -1, 1, 0, -1, -1): 4.238244378761248, (1, 1, 0, 0, -1, 1, 0, -1, 0): -2.5711424802392155, (0, 1, 1, 1, -1, -1, 0, 1, -1): -4.5289279, (0, 1, 1, 1, -1, -1, 0, 0, -1): 1.4392072, (0, 0, 1, 1, 0, -1, 0, 0, -1): 0.36213175834321454, (-1, -1, 0, 1, 1, 0, 0, 1, -1): 5.396571077498045, (-1, -1, 0, 1, 1, 0, 0, 1, 0): -4.243585511421163, (0, 1, -1, -1, 0, 1, 1, -1, 0): -1.7390984207127185, (1, -1, -1, 0, -1, 1, 0, 0, 1): -2.8734360880000005, (-1, 1, 0, 0, -1, -1, 1, 0, 1): 2.559460321, (-1, 1, 0, 0, -1, 0, 1, 0, 1): -0.945385222402757, (-1, 0, 0, 0, -1, 0, 1, 0, 1): 6.238461427933166, (1, 0, -1, 0, -1, 1, 0, -1, 1): -5.620858912881269, (1, 0, 0, 0, -1, 1, 0, -1, 1): -5.731344435311801, (0, -1, 1, 0, 1, 1, 0, -1, -1): 6.12579511, (0, -1, 0, 0, 1, 1, 0, -1, 0): 7.012207895318538, (-1, 0, 1, 0, 0, 0, 1, 1, -1): -6.9633858233663775, (-1, 0, 0, 0, 0, 0, 1, 1, -1): 2.6095315035733715, (0, 1, 1, 1, 0, 0, 0, -1, -1): -1.1739894039999998, (0, 0, 1, 1, 0, 0, 0, -1, -1): -0.9583168016200001, (1, 0, -1, 0, 1, -1, 1, 0, 0): -5.051502181580142, (-1, 1, 1, 1, 1, 0, 0, -1, -1): 0.2665700000000002, (0, 1, -1, 1, 1, -1, -1, -1, 1): 9.852191170585654, (0, 1, -1, 1, 1, 0, -1, -1, 1): 4.11713642346, (0, 1, -1, 1, 0, 0, -1, -1, 1): 1.1004799999999997, (0, 0, 0, 0, 0, 1, 1, -1, -1): -0.22579332342680025, (0, 0, 1, 0, 1, 0, -1, 0, -1): -1.8024518128673321, (0, 1, 1, 0, 0, -1, 0, 1, -1): 2.2256233494, (0, 1, 0, -1, -1, 0, -1, 1, 1): -5.48951523128, (1, 1, -1, -1, 1, -1, 1, -1, 0): 9.01522909781639, (0, 0, 0, 0, -1, 0, -1, 1, 1): -3.6982618019123983, (-1, 0, -1, 0, -1, 1, 1, 0, 1): 4.6072246491391144, (-1, 0, -1, 0, 0, 1, 1, 0, 1): -5.819567352737599, (1, 1, 0, 1, -1, -1, 0, 1, -1): -1.9495900000000002, (1, 1, -1, 0, -1, 0, 1, -1, 0): 5.983832343420455, (1, 1, -1, 0, -1, 0, 1, 0, 0): -2.5551660217735566, (0, 1, 0, 1, -1, -1, 1, 0, 0): -2.6456408451053326, (-1, 0, -1, -1, 0, 1, 1, 0, 1): 3.2166310293361, (1, -1, 1, 0, 1, -1, 0, -1, 0): 7.588031816819608, (1, -1, -1, -1, 0, 1, 0, 0, 1): 4.790297607831999, (1, 0, 0, 1, 0, -1, -1, 0, 0): -2.137240754670707, (0, 1, 0, 0, 1, -1, -1, -1, 1): 4.87799902, (0, 1, 0, 0, 1, -1, 0, -1, 1): -0.14181829419304412, (-1, 1, 1, 1, -1, -1, -1, 0, 1): -0.9999999999999996, (-1, 0, 1, 1, -1, 0, 0, 0, 1): -0.7561184162037016, (-1, -1, 0, 0, 1, 1, -1, 1, 0): 2.2583300681439997, (0, 0, 0, -1, 1, 1, -1, 1, -1): 7.534892860507991, (0, 0, 0, -1, 1, 1, 0, 0, -1): -2.129609885947498, (0, -1, -1, -1, 0, 1, 0, 1, 1): 0.28, (0, 1, 1, 0, -1, -1, 1, -1, 0): 4.38627383389, (0, 1, 1, 0, -1, -1, 1, 0, 0): -6.033590449994619, (-1, 1, -1, 1, 1, 0, 0, 0, -1): 4.64585341947149, (-1, 1, -1, 1, 1, 0, 0, 0, 0): 3.135974477652037, (1, 1, 0, -1, 0, 1, -1, 0, -1): 3.237772208, (1, 0, -1, 1, 1, -1, -1, 1, 0): -5.5593659595574, (0, 1, -1, 1, 0, -1, -1, 1, 0): 2.1592, (0, -1, 0, -1, 1, 1, -1, 1, 0): -1.7612772849783884, (0, 0, 0, -1, 1, 1, -1, 1, 0): -4.273735846077541, (0, -1, 1, -1, 0, 0, 0, 1, 1): 0.13520356137239964, (1, -1, 0, 0, -1, 1, 1, 0, -1): 5.404434679027535, (0, 0, 1, 1, -1, 1, -1, 1, -1): -7.745120117846103, (0, 0, 1, 0, -1, 1, -1, 1, -1): -2.3198001122991205, (0, 0, 1, 0, -1, 1, 0, 1, -1): -8.861718777558536, (0, 0, -1, -1, 0, 1, 1, 1, 0): -0.35925270606913795, (1, 0, 0, 1, -1, 1, 0, -1, -1): 1.34430574672, (1, 0, 0, 1, -1, 1, 0, 0, -1): -2.8418493292141163, (0, 1, -1, -1, 0, 0, 0, 0, 1): 0.3028421747539627, (1, -1, 1, -1, 0, 0, 1, 0, 0): -2.2011837083838897, (0, 1, 1, 0, -1, 0, 1, -1, 0): -2.3070176931576585, (1, -1, 0, -1, -1, 1, 1, 1, 0): 0.33194518546021257, (1, 0, -1, 0, -1, 1, 0, 0, 1): -7.688837275233125, (0, 1, -1, 0, 1, -1, 0, -1, 1): 6.9840480982845685, (1, -1, 1, 1, 0, -1, 0, 0, -1): 3.1077487098999996, (1, 1, -1, -1, -1, 0, 1, 1, 0): -7.4483419517239815, (1, -1, 1, 1, 1, 0, -1, 0, -1): -5.087871565609097, (0, -1, 1, 1, 1, 0, -1, 0, -1): -1.13034029662471, (0, 0, 1, -1, -1, 0, 1, 1, 0): -6.832190913697009, (-1, 0, 1, 0, 0, 0, -1, 1, 1): -3.06475728843, (0, 1, -1, 0, 1, 1, -1, -1, 1): 5.270540072456584, (0, 1, -1, 0, 1, 0, -1, -1, 1): 8.32939010953927, (-1, 0, 0, 1, 0, 1, -1, 1, -1): 4.183917860799999, (1, -1, 1, 0, 0, 1, -1, 1, -1): -1.6999442538541867, (1, 1, 0, 0, 0, -1, -1, 1, -1): 2.44873369, (-1, 1, -1, 0, 0, 0, 0, 0, 1): -1.166609967292156, (-1, 0, 1, 0, 0, 1, -1, 1, -1): -1.4419448000000004, (0, 1, 0, 1, -1, 1, -1, -1, 1): -4.188876990834929, (0, 1, 0, 1, -1, 0, -1, -1, 1): 0.9722665033448092, (0, 1, 0, 1, 0, 0, -1, -1, 1): 0.10293969558177699, (0, 0, 1, -1, 1, 0, -1, 1, -1): 4.4159200800562965, (0, 0, 1, -1, 1, 0, -1, 1, 0): -3.5020750021953844, (-1, 1, 0, 0, 1, 1, -1, -1, 0): 2.946344290027877, (0, 1, 0, 0, 1, 1, -1, -1, 0): -4.444415212318942, (1, 0, 0, 0, 0, 1, -1, 0, -1): -4.600914343707434, (0, -1, -1, 1, 1, 0, 1, 1, -1): -7.941088679053509, (0, -1, -1, 1, 1, 0, 1, 0, -1): 4.394360332, (0, -1, -1, 1, 1, 0, 1, 0, 0): -4.5088185054316074, (1, 0, 1, 0, -1, -1, 0, 0, 1): -8.261316421077417, (0, 0, 1, 0, -1, -1, 0, 0, 1): -3.1690225547836213, (1, 1, 0, -1, -1, 1, -1, 0, 1): -2.1985362406, (1, 1, 0, -1, -1, 0, -1, 0, 1): -0.2190264848000003, (1, 1, -1, 1, 0, 0, -1, -1, 1): -3.7777291377670004, (1, 1, -1, 0, 0, 0, -1, -1, 1): 4.4284670344, (-1, -1, 0, 0, 0, 1, 1, -1, 1): 0.821728, (-1, -1, 0, 0, 0, 1, 1, 0, 1): -0.98900914134, (0, 0, 0, -1, 1, 0, -1, 1, 1): -4.553863239265841, (-1, 0, 1, 1, 0, 1, -1, 0, 0): 0.6255670560000001, (0, 1, 1, -1, 0, -1, -1, 1, 1): -4.68559, (0, 1, 0, -1, 0, -1, -1, 1, 1): -0.018080000000000096, (-1, 0, -1, -1, 1, 0, 1, 1, 0): 7.214231986177529, (0, 1, 1, 1, -1, -1, 1, 0, -1): -2.5125254159743005, (1, 1, -1, 0, 0, 0, 0, 1, -1): -5.334453644045796, (-1, -1, 1, 1, 1, 0, 0, 1, -1): 4.999369098020006, (1, 0, -1, 0, 0, 0, 1, 1, -1): -3.437051910151229, (1, 0, -1, 0, 0, 0, 0, 1, -1): -2.7643014995251125, (0, 1, 1, -1, 0, -1, 0, 0, 1): -2.57296600805636, (0, 1, -1, 1, 0, -1, 1, -1, 0): 2.5788529, (-1, 0, 0, 0, 1, -1, 1, 0, 0): 7.231905577420742, (0, -1, -1, 1, 0, 1, 1, 0, 0): -4.996039763206, (-1, -1, 1, -1, 0, 0, 1, 1, 0): 5.6953279000000006, (-1, -1, 1, 0, 0, 0, 1, 1, 0): 2.78594313491621, (-1, 0, 1, 1, -1, 0, 1, -1, 1): -9.180371189556762, (-1, 0, 0, 1, -1, 0, 1, -1, 1): -2.7992772033516635, (-1, 0, 0, 1, 0, 0, 1, -1, 1): -1.64591921567, (-1, 0, 1, 0, 1, -1, -1, 1, 0): 2.19763369, (-1, -1, 1, 0, 1, 1, -1, 0, 0): 3.310003967428, (-1, 0, 1, 0, 1, 1, -1, 0, 0): -3.798821518656448, (1, -1, 1, -1, -1, 1, -1, 1, 0): 9.282102012308147, (1, 1, 0, -1, 1, -1, 0, 0, 0): 3.41719674, (0, -1, 1, -1, 1, 1, 0, 0, 0): 0.7019183628564946, (0, -1, 1, -1, 1, 0, 0, 0, 0): 5.743825670454553, (1, 1, -1, 1, 0, 0, -1, -1, 0): -3.346347575168, (0, 0, 1, -1, 0, -1, 0, 1, 1): -4.639307958064, (0, 0, 0, -1, 0, -1, 0, 1, 1): 2.7080678125783, (-1, 0, -1, 1, 1, -1, 1, -1, 1): -0.9903022627021246, (-1, 0, 0, 1, 1, -1, 1, -1, 1): -0.9829748959737796, (0, 1, -1, -1, 1, 1, -1, -1, 1): 9.774716004550609, (0, -1, -1, 1, 0, 1, 1, -1, 0): 0.28, (0, 1, -1, -1, -1, 1, 1, 0, 0): -1.5364434457636964, (0, 1, 0, 1, -1, -1, 1, -1, 1): -1.1464489835886733, (-1, 1, 1, -1, 0, 1, 0, 1, -1): -6.5132155990000005, (-1, 0, 1, -1, 0, 1, 0, 1, -1): -5.2105724792000006, (0, 1, 0, 1, -1, 0, -1, 0, 1): -5.5049804427867794, (1, 1, 0, 0, -1, 0, 1, -1, 0): 3.903492193631086, (-1, 0, 1, 1, -1, 1, -1, 1, 0): -2.3156379022303, (0, -1, 1, -1, 1, -1, 0, 0, 1): 7.8638667951888745, (0, -1, 1, 0, 1, -1, 0, 0, 1): 2.30362151102975, (-1, 1, 1, 0, -1, 1, -1, 0, 0): 3.0993946210000005, (-1, 1, 0, 1, 0, 1, -1, 1, -1): -0.03269999999999995, (-1, 0, -1, 1, 1, 0, 1, -1, 1): -6.4724751416710005, (-1, 0, -1, 1, 1, 0, 1, -1, 0): 7.187009933833831, (0, 1, 1, 0, -1, 1, 0, -1, 0): 3.153995106575393, (-1, 1, -1, 0, 0, 1, 1, 0, 0): -2.970475959280393, (1, 1, 0, -1, 0, -1, -1, 1, 1): -0.6725999999999999, (1, 1, 0, -1, 0, -1, -1, 1, 0): 4.2840568, (-1, 1, 0, -1, 1, 0, 1, -1, 1): -0.7277800520410201, (1, 1, -1, -1, 0, -1, 0, 0, 1): -1.083248, (0, 1, 0, -1, -1, 0, 1, 1, 0): -6.674681817593915, (0, 1, 0, -1, -1, 0, 0, 1, 0): -4.761086823790823, (-1, 1, -1, -1, 1, 1, 0, -1, 1): -0.9999999999999996, (0, 1, -1, -1, 1, 1, 0, -1, 1): -1.6988234895863612, (-1, 0, 1, 0, 0, 1, -1, 1, 0): -6.769824442281854, (0, 1, 1, -1, 1, -1, 0, -1, 1): 5.099432188218006, (0, 1, 0, -1, 1, -1, 0, -1, 1): 5.123924995312, (-1, 1, -1, 0, 1, 0, 0, 0, 0): 9.396318667352373, (1, 0, -1, 1, 1, -1, 0, -1, 0): 4.239442, (0, 0, -1, 1, 1, 0, 0, -1, 0): 5.364727719918856, (1, 0, 1, 0, -1, 0, 1, -1, 0): -2.9750700617970756, (-1, -1, 1, 0, 1, 0, 0, 0, 0): 6.746562511362208, (0, 0, 0, 1, 1, -1, 1, 0, -1): -3.974168009743339, (1, -1, 1, 0, -1, 0, 0, 0, 1): -7.970056745403398, (0, -1, 1, 0, 0, 1, 0, 1, -1): -2.9233843444033, (1, 0, -1, -1, 1, -1, 1, 1, 0): -0.42986357399999986, (0, 0, -1, 1, 0, -1, 0, 1, 0): -1.3266550212000001, (0, -1, -1, 0, 1, 1, 1, 0, -1): 7.046141318101338, (0, 0, -1, 0, 1, 1, 1, 0, -1): -0.17368088802429227, (0, 1, -1, 0, -1, -1, 1, 1, 0): 3.5868953694968204, (-1, 1, 1, 0, 0, 0, 0, -1, 1): -1.9917266475575715, (1, 1, -1, -1, 0, 0, 1, 1, -1): -5.630941506817, (1, 1, 0, -1, 0, 0, 1, 0, -1): -1.1321477695229816, (-1, 0, 0, 1, 1, 0, -1, 1, -1): 5.4847685117800005, (-1, 0, 1, 1, 0, -1, 1, 1, -1): -5.867084316790001, (-1, 0, 1, 0, 0, -1, 1, 1, -1): 2.225586067727609, (-1, 1, 1, 0, -1, -1, 0, 1, 1): -8.382894516526216, (-1, 1, 1, 0, -1, -1, 0, 1, 0): -4.2286229140066105, (-1, 1, 1, 0, -1, 0, 0, 1, 0): -9.324687121301423, (1, 0, 0, -1, 0, 1, 1, -1, 0): -0.3160576726600002, (-1, 0, 1, -1, -1, 0, 1, 0, 1): 7.877867392171311, (0, 1, 1, -1, -1, 1, -1, 0, 0): 4.7831480200000005, (1, 1, 0, -1, -1, 0, 0, -1, 1): 1.9480770478, (-1, 0, -1, 1, -1, 1, 1, 0, 0): -6.630423281065365, (1, -1, 0, -1, 1, 1, 0, 1, -1): -1.6279350309321325, (1, -1, 0, -1, 1, 1, 0, 0, -1): -0.8745295753141397, (0, -1, -1, 1, 1, 0, 1, -1, 0): 5.0947116578488005, (0, -1, 0, 1, 1, 0, 1, -1, 0): 3.104917688375161, (0, 1, -1, 0, 1, -1, 1, -1, 1): 1.4521894153686654, (0, 0, -1, 0, 1, -1, 1, -1, 1): 8.1781815117211, (-1, -1, 1, 0, 1, 1, 0, 0, -1): 7.456835897513343, (-1, 1, 1, 0, 0, 0, 0, 1, -1): -3.7504041315174974, (1, -1, 1, 0, 0, 0, -1, -1, 1): 8.044887283922984, (0, -1, 0, 1, 0, 1, 1, -1, -1): 1.981, (1, 1, 0, 1, -1, -1, 0, 0, -1): 3.759031, (-1, 1, -1, 0, 1, 1, 1, -1, 0): -1.6916904727527173, (-1, 0, 0, 0, 1, 1, 1, -1, 0): 3.455075853848391, (-1, 0, -1, 1, 1, 0, 1, 1, -1): -8.332281830033342, (-1, 0, -1, 1, 1, 0, 1, 0, -1): 6.575273113249233, (-1, 1, 1, 1, 0, 0, 0, -1, -1): -1.634048, (0, 0, -1, -1, 1, 1, 1, 0, -1): -1.8927066383193738, (1, 1, 0, 1, -1, -1, 0, -1, 1): 5.343486065210926, (1, 1, 0, 1, 0, -1, -1, 0, -1): -0.9217628000000001, (0, 1, 0, -1, 1, 1, -1, -1, 1): -5.4671937773014, (0, 1, 0, -1, 0, 1, -1, -1, 1): 2.654055816832, (-1, -1, 1, 1, 0, -1, 1, -1, 1): 9.353891811077332, (0, -1, 1, 0, 0, -1, 1, -1, 1): 5.0110757270488, (1, 0, 0, -1, -1, 1, -1, 0, 1): 1.2050989085800001, (0, 1, 0, 1, -1, -1, 0, 1, 0): -3.6486332792927576, (0, 0, 0, 1, -1, -1, 0, 1, 0): -1.2604149692695192, (-1, 0, -1, 1, 1, -1, 1, 0, 0): -7.498703297105148, (-1, 0, -1, 1, 1, 0, 1, 0, 0): -7.6973671626086855, (-1, 1, 0, 0, 1, 1, -1, 0, 0): -5.126806135666, (-1, 1, 0, 1, 0, 0, 1, 0, -1): -4.078939285324001, (0, -1, 0, -1, 1, 1, 0, -1, 1): 8.63979876601859, (1, -1, 0, 0, 0, 1, 1, -1, -1): 1.9749088, (0, 1, -1, 1, -1, -1, 1, 0, 0): 1.0093321, (0, 0, -1, 1, 0, -1, 1, 0, 0): 6.371832975735829, (0, 0, -1, 0, -1, 1, 0, 1, 0): -2.291680447138793, (-1, 0, 0, 1, -1, 1, -1, 1, 1): -4.556544091029999, (-1, 0, 0, 0, -1, 1, -1, 1, 1): 1.5148828826632001, (0, 0, 0, 0, -1, 1, -1, 1, 1): -6.092022699881672, (0, -1, -1, 0, 1, 1, 1, -1, 1): -1.897918215127894, (0, 1, 0, -1, -1, 1, 0, 1, -1): -2.6885307000000003, (0, 1, 0, -1, 0, 1, 0, 1, -1): -1.0114960000000002, (1, 1, 0, 1, 0, 0, -1, -1, 0): -4.28043650581, (1, -1, 1, 0, 0, -1, -1, 1, 0): -0.9079256909910001, (1, 1, -1, 1, -1, 0, 0, 0, -1): 6.501878539844453, (0, 1, -1, 1, 0, 0, 0, 0, -1): -1.355269355735866, (0, 0, -1, 1, 0, 0, 0, 1, -1): -3.7895104884442343, (0, 0, 1, 1, -1, 1, 0, -1, 0): -6.930245170578857, (0, 0, 0, 1, -1, 1, 0, -1, 0): -4.83985403867853, (0, -1, 0, -1, 1, -1, 1, 0, 1): 6.12579511, (0, -1, 0, -1, 1, 0, 1, 0, 1): 3.692193456714, (0, 1, -1, 1, -1, 0, 0, 1, 0): -5.7893581716004, (0, 0, 1, 1, 1, -1, -1, 0, 0): -2.874006724564167, (0, 0, -1, -1, 1, 1, 0, 1, 0): -2.4848168480126667, (0, 0, -1, -1, 1, 1, 0, 0, 0): -2.826976171005729, (1, 0, -1, -1, 0, 1, 1, 0, -1): -2.135180894440648, (-1, 0, 1, 1, 1, -1, -1, 0, 1): -1.6993710195754406, (0, 0, 0, 1, 0, -1, -1, 0, 1): -0.8515532967121117, (0, 1, 1, -1, 0, -1, 0, 1, -1): 2.71, (1, 1, -1, 1, -1, -1, 0, -1, 1): 8.784233454094307, (0, 0, 0, -1, 1, 1, 1, 0, -1): -1.8764148874508162, (1, -1, 0, -1, 0, 0, 1, -1, 1): 1.129528, (1, 0, 1, 0, -1, 0, 1, -1, -1): 5.2357894333829, (-1, 0, -1, -1, 1, 1, 1, 0, 1): -8.085136087972167, (-1, 0, 0, -1, 1, 1, 1, 0, 0): -2.875090854951358, (-1, 0, -1, 1, 1, -1, 1, 1, 0): -7.941088679053509, (-1, 0, -1, 1, 0, -1, 1, 1, 0): 0.006399999999999739, (1, 1, -1, 1, -1, -1, 0, 0, 1): -5.1132851605999, (1, 0, 1, 0, -1, -1, 0, 1, -1): 4.43874898952272, (-1, 0, -1, 0, 0, 1, 1, 1, 0): -4.8107825848594, (0, -1, 1, 1, -1, 1, 0, 1, -1): -7.761563838607383, (0, -1, 1, 0, -1, 1, 0, 1, -1): -2.958057223183041, (1, -1, 0, 0, 0, 1, -1, -1, 1): 4.0951, (1, -1, 1, 1, -1, 1, -1, 0, 0): -8.73662397894263, (1, -1, 0, 1, -1, 1, -1, 0, 0): -4.792209056741339, (-1, 1, 0, 1, 0, 0, 0, 1, -1): -3.7938155089600007, (1, -1, 1, -1, 1, 0, -1, 1, 0): 0.74788071183604, (1, -1, 0, -1, 1, 0, -1, 1, 0): 6.745482428154869, (1, -1, 0, 1, -1, 0, 0, 0, 1): -4.998732389139574, (-1, -1, 1, -1, 0, 1, 1, 0, 0): 2.9322999999999997, (-1, -1, 1, 0, 0, 1, 1, 0, 0): 0.6399714798375001, (1, 0, 1, 0, 1, -1, -1, 0, 0): 5.918353404026039, (-1, 1, 1, 0, 0, 0, -1, 1, -1): 3.525167732203, (-1, 0, 0, 1, 0, -1, 1, 1, 0): -1.8587053817399997, (-1, 0, 0, 1, 0, -1, 0, 1, 0): -1.12934531, (-1, 1, -1, 0, 1, 1, 0, -1, 0): 4.911579749829835, (1, 0, -1, -1, 1, 1, 1, -1, -1): -0.9993734212517822, (1, 0, -1, 0, 1, 1, 1, -1, -1): 0.5982627557862021, (1, 0, -1, 0, 1, 1, 0, -1, -1): 7.663365294181847, (1, 1, -1, 1, 1, 0, 0, -1, -1): -8.649148282327008, (1, 1, -1, 0, 0, 1, -1, 0, 0): -7.009018224967593, (0, 0, -1, 1, 0, -1, 1, -1, 1): 4.481435008, (0, 1, 1, -1, -1, 0, 1, 0, -1): 2.9731690000000004, (0, 0, -1, 1, 1, -1, 1, 0, 0): -8.034941658106892, (-1, 1, 0, 0, 1, 1, 0, -1, -1): 4.744721765564696, (-1, -1, 1, 1, 0, -1, 0, 0, 1): 2.3309360732943145, (0, -1, 1, 0, 0, 0, 1, -1, 0): 2.651268150086645, (1, -1, 0, -1, -1, 1, 0, 0, 1): 4.110391795311999, (1, -1, 0, 0, -1, 1, 0, 0, 1): -4.409377650508527, (-1, 0, 1, -1, 1, -1, 0, 1, 1): -6.038338521356703, (-1, 0, 0, -1, 1, -1, 0, 1, 1): 5.441809960019178, (-1, 1, 1, 0, 1, -1, 0, -1, 1): -0.8945910949514938, (-1, 1, 1, 0, 1, -1, 0, -1, 0): 4.6460764017108716, (0, -1, 1, -1, 1, 0, -1, 1, 1): -5.63676050305351, (0, -1, 1, -1, 0, 0, -1, 1, 1): 1.41011848, (-1, 0, 1, 1, 0, 0, 0, 0, -1): -1.4853578556955855, (0, -1, 0, 1, -1, -1, 1, 1, 0): 2.827, (0, 0, 0, 1, 1, -1, -1, 1, 0): -2.4743166937780097, (1, -1, 0, 0, 1, -1, 1, 0, -1): 9.27041239360365, (0, -1, 0, -1, 1, 1, 1, -1, 0): 1.9009219999999998, (0, 1, 0, 0, 1, 0, -1, 0, -1): 3.156852690783403, (1, 0, -1, 0, -1, -1, 0, 1, 1): 0.07822089999999982, (-1, -1, 1, -1, 1, 0, 0, 1, 1): -0.9576181726299999, (-1, 1, 0, 1, 1, 0, -1, -1, 0): 4.987915834274112, (0, 1, 0, 1, 1, 0, -1, -1, 0): -5.88605572750758, (0, 0, 0, 1, -1, 1, -1, -1, 1): -0.28700198830232027, (0, 0, 0, 1, -1, 1, 0, -1, 1): -7.3189817156069665, (-1, 0, 1, 1, -1, 1, 1, -1, 0): -7.712320754503899, (-1, 0, 1, 1, -1, 0, 1, -1, 0): -5.91975515459312, (-1, 0, 1, 1, -1, 0, 1, 0, 0): -9.028460903218011, (0, -1, 0, 1, 0, 0, 1, -1, 1): -2.8919673766000003, (0, 1, 0, 1, 1, -1, 0, 0, -1): -3.886576582258069, (0, 1, 1, -1, -1, 1, 1, 0, -1): -3.9075921014045347, (0, 0, 1, -1, -1, 1, 1, 0, -1): -1.8058064044415003, (0, 0, 1, -1, 0, 1, 1, 0, -1): -0.879901536597181, (0, 1, -1, 1, -1, 0, 1, -1, 0): 4.055865219999999, (-1, 0, 1, 0, 1, -1, 0, 1, -1): 5.1063023152, (-1, 0, 1, 0, 1, 0, 0, 0, -1): 4.954480144588458, (0, 0, 0, 1, 0, -1, 0, -1, 1): 0.6961932405866917, (0, -1, 1, -1, 1, 1, 0, 0, -1): 6.068707194679263, (0, -1, 1, 0, 1, -1, 0, 1, -1): 7.415407794902709, (0, 1, 0, -1, 1, 1, 0, 0, -1): -1.7840932628143553, (-1, 1, 0, 1, 0, 0, -1, 1, -1): -1.9347200000000002, (0, 0, -1, 1, 1, -1, 0, 0, 1): -2.413354215711348, (0, 1, -1, 1, -1, 0, 0, 1, -1): -2.7512000000000003, (1, 1, 0, -1, 1, 0, 0, 0, -1): 4.182812946934645, (0, 0, 0, 1, 0, -1, 1, 0, -1): 4.6173102590620285, (-1, 0, 1, 1, 0, -1, 1, -1, 1): -0.9427282466069934, (-1, 0, 1, 0, -1, 1, -1, 1, 0): 2.8502668900000003, (0, 1, 0, 1, 0, 0, -1, -1, 0): -0.9134308164069318, (-1, 0, 0, 1, -1, 0, -1, 1, 1): -2.3909198680784813, (0, 1, 1, 0, 1, -1, 0, 0, -1): 1.9424307332352355, (0, 1, 1, -1, 0, 0, -1, -1, 1): 5.863504635190001, (-1, 0, 1, -1, -1, 1, 0, 1, 0): -0.12969403909999988, (0, 0, 1, 0, 1, -1, 0, -1, 0): 6.551821706564875, (1, -1, 1, 1, -1, 0, -1, 1, 0): -1.699999999999165, (1, 0, 0, 1, 0, 1, 0, -1, -1): -2.1831679, (0, 1, 1, 1, -1, -1, -1, 0, 0): 1.9978842365370997, (0, 1, 1, 1, 0, -1, -1, 0, 0): 1.5679319243554704, (0, -1, -1, -1, 1, 0, 1, 0, 1): 6.255338743989801, (-1, 1, 0, 1, 0, 1, 1, -1, -1): -4.492263574, (-1, 1, 1, 0, -1, 0, 0, 0, 0): -3.7740844950879113, (1, -1, 1, 0, -1, 1, 0, 0, -1): -3.4033870132667383, (1, 0, -1, -1, -1, 0, 1, 1, 0): 2.082605001950117, (0, -1, 0, 1, 0, -1, 1, -1, 1): 3.439, (1, 0, 0, 1, 1, -1, -1, -1, 0): 1.5306956108006173, (1, 0, 0, 1, 1, -1, 0, -1, 0): 2.0504957016144845, (0, 1, 0, -1, 0, 0, 0, -1, 1): -0.04335636662680031, (-1, 0, 0, -1, -1, 1, 0, 1, 1): 4.68559, (0, 0, 0, -1, -1, 1, 0, 1, 1): 3.1921252118004197, (0, 0, -1, 0, -1, 1, 1, 0, 1): -2.56294677655821, (1, 0, 1, -1, -1, 1, 1, 0, -1): -1.5503574900055033, (1, 0, 0, -1, -1, 1, 1, 0, -1): -2.115226879980041, (1, 0, -1, -1, 1, -1, 1, 0, 0): 4.0844239408, (1, 1, 0, 0, 0, 0, 0, -1, -1): 2.217787480292878, (0, -1, 1, -1, 0, 0, 1, 1, -1): 1.6691999999999998, (-1, -1, 0, 1, 0, 1, 0, 0, 1): -2.9977300000000002, (0, 1, -1, -1, -1, 1, 0, 1, 0): -0.674419027709479, (0, 1, 1, -1, 0, -1, -1, 0, 1): 0.33128920000000006, (1, 1, 0, 1, -1, 0, 0, 0, -1): 3.5683068187896505, (0, 1, -1, 1, -1, -1, 1, 1, 0): -3.2970658237967205, (-1, 1, 1, 0, 0, 0, -1, 1, 0): -4.199511303903812, (0, -1, 0, 0, 1, 1, -1, 0, 1): 2.7044968176888955, (0, 0, 1, 1, -1, -1, 0, 1, -1): 0.6389542673139197, (-1, 1, -1, 0, -1, 1, 1, 0, 1): -1.6611447193790738, (-1, 1, -1, 0, -1, 0, 1, 0, 1): 4.769037638997732, (0, 1, 0, 0, 1, 0, 1, -1, -1): -1.3290431880515692, (0, 1, 1, -1, -1, 1, 0, 0, -1): 1.8066700439200005, (0, 0, -1, -1, 1, 1, 1, -1, 0): -0.1407103711860519, (-1, 1, 0, 1, -1, 0, 0, -1, 1): -2.134558532384286, (-1, 0, 1, 0, 1, 1, 0, 0, -1): 5.047166399423965, (1, 1, -1, 0, 0, 1, -1, 0, -1): -7.133852503571184, (1, 0, 0, 0, 1, 0, 1, -1, -1): 5.63401509305172, (1, 1, -1, 1, 0, -1, -1, 0, 1): -3.51919, (1, 0, -1, 1, 0, -1, 0, 0, 1): 0.9628260999999998, (0, 0, -1, 1, 1, 0, 1, -1, 0): 1.6535210179882414, (1, 1, -1, 1, 0, 0, -1, 0, 0): -6.5901606148594, (1, 0, 0, 1, 1, 0, -1, -1, 0): -5.928312810988781, (-1, 1, -1, 0, -1, 1, 0, 1, 1): -6.667907235467975, (1, 0, -1, 0, 0, 1, 1, 0, -1): 0.5925095623576706, (1, -1, -1, 0, 1, 0, 1, 1, -1): -7.972230610347978, (1, -1, -1, 0, 0, 0, 1, 1, -1): 5.492521735080661, (0, -1, -1, 1, 1, -1, 1, 0, 0): 4.993615248876951, (1, 0, -1, 1, 0, 1, -1, 0, -1): 5.2931758664799995, (0, -1, 0, 0, 1, 1, -1, 1, -1): 4.530690403354719, (0, -1, -1, 0, 1, 0, 1, 1, -1): -6.6131981037526035, (1, -1, 1, 0, 0, 0, -1, 1, 0): -1.8560031405765622, (-1, 0, 1, -1, 1, 0, 0, 1, -1): 4.904806132000001, (-1, 1, 1, -1, 1, 0, 0, 0, -1): 7.462896964247365, (0, -1, 0, 1, 0, -1, 1, 1, 0): 0.006000000000000005, (-1, 1, 1, 1, 0, 0, 1, -1, -1): -4.270647574, (1, 0, -1, 0, 1, 0, 0, -1, 0): 8.066659482322107, (1, -1, 1, -1, 0, 1, 1, 0, -1): -0.2469768443628315, (1, 0, 0, -1, 1, 1, 0, 0, -1): -2.525679805327866, (1, 0, 0, 1, -1, 1, 0, -1, 0): -6.646886376592972, (0, -1, 0, 0, -1, 1, -1, 1, 1): 1.4752310318487996, (-1, 1, -1, 1, 0, 1, 0, 1, -1): -0.9765999999999999, (0, 0, -1, 1, 0, 1, 0, 1, -1): -2.1405959004, (0, -1, 0, 1, 1, 0, 1, -1, -1): 5.6953279000000006, (0, -1, -1, 1, -1, 0, 0, 1, 1): 5.8330774072, (-1, 1, 1, 0, -1, -1, 1, 0, 0): -3.7425776300000004, (0, 1, 1, 1, -1, 0, -1, -1, 1): 5.569261207384888, (-1, 0, 0, 0, 0, 1, -1, 0, 1): 2.252076056439252, (0, 1, 1, -1, 0, 1, -1, 0, -1): 2.8118471320000005, (-1, -1, 0, 1, 1, 0, 1, 1, -1): -5.943297006649862, (0, -1, -1, 0, 0, 1, 1, 0, 1): -2.1892087918333, (0, 1, 1, -1, 0, 0, 1, -1, -1): 4.45411792, (0, 1, 1, -1, 0, 0, 1, -1, 0): 2.73801067404, (1, 1, -1, 1, -1, 0, 0, -1, 1): -3.3393316179270003, (0, 0, -1, 1, -1, 0, 0, 0, 1): 0.6067306249750561, (-1, 1, 0, 0, 0, 1, -1, 1, 0): -5.6115108296254, (-1, -1, 0, 0, 1, 1, 0, 0, 1): 0.50944032321, (1, 0, -1, -1, 0, 0, 0, 1, 1): -0.4235070000000002, (-1, -1, 0, 0, 1, 1, 1, -1, 1): -3.439, (-1, 1, 0, 1, -1, 1, 0, -1, 0): -2.329672605114304, (-1, 0, -1, 1, 0, 1, 1, -1, 0): 0.930349, (0, 1, 1, 0, 0, 0, -1, 1, -1): 3.2904504234600003, (1, -1, 1, 1, 0, 0, 0, -1, -1): 0.28, (0, -1, 0, -1, 1, -1, 1, 1, 0): 7.17570463519, (1, -1, 1, 0, -1, 0, -1, 1, 1): -1.6391887716257538, (0, -1, 1, 0, -1, 0, -1, 1, 1): 8.641464111191759, (0, 1, -1, 1, -1, 1, 0, -1, 1): -6.966438510377937, (0, 0, -1, 1, -1, 1, 0, -1, 1): -4.900636088000001, (1, 0, 1, 0, 0, 0, -1, -1, 1): 2.0634, (1, 0, 0, 0, 0, 0, -1, -1, 1): 5.084001203423405, (0, -1, -1, 1, 1, 0, -1, 1, 1): -5.1017934614247045, (1, 0, 1, 0, 0, -1, 0, 1, -1): 0.7759368846451599, (-1, 0, 0, 0, -1, 1, 0, 1, 0): -0.8648844748015274, (1, 1, -1, 1, 0, 1, -1, -1, 0): -3.439, (1, 1, -1, 1, 1, -1, 0, -1, 0): -4.745254599817049, (0, 1, -1, 1, -1, 1, 0, -1, 0): -1.5620286259657548, (1, 1, 0, 1, -1, 0, -1, 1, -1): -4.236634190786234, (-1, 0, 0, 0, 1, -1, 1, 1, -1): 8.476142922644014, (-1, 0, 0, 0, 1, 0, 1, 1, -1): 5.785343093866549, (1, -1, 0, -1, 0, 0, 1, 1, 0): -0.9050138840376831, (-1, -1, 1, 0, -1, 0, 1, 1, 0): 5.055738081350205, (0, 1, -1, 0, -1, 0, 1, 0, 1): -0.0673200698978022, (1, 0, 1, -1, 1, -1, 0, 0, 0): 4.4748805030026, (1, 0, 1, 0, -1, -1, -1, 1, 0): 3.9411190809818564, (1, 0, 1, 0, -1, 0, -1, 1, 0): -1.1218479166330702, (1, 0, 1, 1, -1, 1, -1, -1, 0): -7.712320754503899, (0, 0, 1, 0, -1, -1, 1, 1, -1): -5.069976097211223, (0, 0, -1, 1, -1, 0, 1, -1, 1): 5.701400753420769, (0, 0, -1, 1, -1, 0, 1, 0, 1): 5.449956295137394, (-1, 1, -1, -1, 0, 1, 0, 1, 1): 1.644954, (-1, 1, -1, -1, 0, 1, 0, 1, 0): 3.7883367999999997, (-1, 1, -1, 0, 0, 0, -1, 1, 1): 5.2491799, (0, 1, 1, 1, -1, -1, -1, 0, 1): -1.598906144851394, (1, 0, -1, 1, -1, 1, 0, -1, 0): 0.2289519999999997, (1, 0, 1, 1, -1, -1, 0, 0, -1): 4.945730621122, (0, 1, 1, 0, 0, 0, -1, -1, 1): 1.5958582371353196, (-1, 0, -1, 0, 1, 0, 1, 1, -1): 8.357982175132127, (0, 0, -1, -1, 1, 1, -1, 1, 1): -3.9149208307733447, (0, 0, -1, -1, 1, 0, -1, 1, 1): 6.805939863523843, (-1, 0, -1, 0, 0, 1, 0, 0, 1): -4.345300001450269, (1, 0, 0, -1, -1, 0, 1, 0, 1): -7.267661219613726, (1, 1, -1, 1, 0, 0, -1, 1, -1): -6.5132155990000005, (0, 1, -1, 1, 0, 0, -1, 1, -1): -1.2824720000000003, (0, 1, 0, 1, 0, 0, -1, 1, -1): -3.2163387726, (0, 1, 0, -1, 0, 0, 0, 1, -1): 4.168869669196669, (1, 0, 0, 0, 0, -1, 1, -1, 0): 3.1120074443275727, (-1, -1, 1, 0, 0, 0, 0, 0, 1): 6.185270625936454, (1, -1, 1, -1, 1, 0, -1, 0, 0): 7.995088086731588, (0, -1, 0, 1, 0, 1, -1, 1, -1): 1.938349, (-1, 1, 0, 0, 0, 1, -1, 0, 1): -4.278808000000001, (1, -1, 0, -1, 1, 1, 0, -1, 0): 3.665304928, (1, -1, 0, 0, 1, 1, 0, -1, 0): 1.0185242595999997, (-1, 0, -1, 1, 0, 0, 1, -1, 1): -3.2982438741627442, (-1, 0, 1, 1, 1, 0, -1, -1, 1): 1.2251337163663703, (-1, 0, 1, 0, 1, 0, -1, -1, 1): 4.216456824017963, (1, 0, 1, -1, -1, 0, 0, 1, -1): 3.7281783622302105, (1, 0, -1, 0, 1, 0, 0, 1, -1): -7.7475728075508, (-1, 1, -1, 1, 0, -1, 0, 0, 1): 0.9224931263899998, (0, 1, -1, 1, 0, -1, 0, 0, 1): 0.36009133310474345, (1, -1, -1, 1, -1, 1, 0, 0, 1): -6.5132155990000005, (0, 0, -1, 1, -1, 1, 0, 0, 1): -7.813566134224587, (0, 1, 0, -1, 1, -1, -1, 0, 1): 4.6796378608, (0, 0, 0, -1, 1, 0, -1, 0, 1): 6.775300766487176, (-1, 0, 1, 1, -1, 0, -1, 1, 1): -0.6640354883205477, (1, 0, -1, 1, 0, 0, -1, 1, -1): -7.084609047365534, (1, 0, -1, 1, 0, 0, 0, 1, -1): -5.527056785563818, (0, 1, 0, 1, 1, 0, 0, -1, -1): -5.333449703683558, (1, -1, 1, 1, -1, 0, -1, 1, -1): -0.9999999999997389, (1, 0, 1, 1, -1, 0, -1, 0, -1): 6.944460903175647, (1, 0, 1, 1, -1, 0, -1, 0, 0): -2.733983166631939, (-1, 1, -1, 0, 1, -1, 0, 0, 1): 8.093603132775046, (0, 1, -1, 0, 0, -1, 0, 0, 1): 0.8946771601999997, (0, 1, -1, 0, -1, -1, 1, 0, 1): 5.817345712466928, (-1, -1, 1, 1, 0, -1, 1, 1, 0): 4.11713642346, (0, 1, 0, 1, -1, -1, 1, -1, 0): 5.285339660602, (0, 1, 0, 1, -1, 0, 1, -1, 0): -1.5437584352133373, (1, 1, -1, 1, -1, 0, 0, 0, 0): -6.06690674815733, (1, -1, 1, 0, -1, 1, -1, 0, 0): 6.845673397966196, (1, -1, 0, 0, 0, 1, -1, 0, 0): -1.6811831037099998, (1, 0, 1, -1, 1, 1, 0, -1, -1): -5.747940559, (0, 0, 1, -1, 1, 1, 0, -1, -1): -0.9153803200000004, (-1, 1, 0, 1, 0, -1, 0, 0, 0): -1.0242004108961, (1, -1, 1, -1, 0, 1, 1, -1, 0): -1.1344059999999998, (1, 0, 0, 1, 0, 0, -1, 1, -1): -5.039198503133601, (1, -1, 0, -1, 0, 1, 1, 1, -1): -1.6997806880867112, (1, -1, 0, -1, 0, 0, 1, 1, -1): -2.1899999768450034, (-1, -1, 1, 0, 0, 0, 1, 1, -1): 1.883061354548073, (1, 0, 1, 1, -1, 1, -1, 0, -1): -7.523224804361082, (1, 0, 0, 1, -1, 1, -1, 0, -1): -4.990346930929585, (0, 1, 1, -1, 0, 0, -1, 1, 0): -0.7656021765999999, (0, 0, 1, 0, 1, -1, -1, -1, 1): 7.9658900491038995, (1, 1, 0, -1, 1, 1, -1, -1, 0): -4.157367713767001, (1, 0, 0, -1, 1, 1, -1, -1, 0): 5.613194221640377, (0, 0, -1, 0, -1, 1, 0, 0, 1): -3.2645917597351493, (-1, 1, 1, 1, 0, -1, -1, 0, 1): -1.6279350309321325, (0, -1, -1, 0, 1, 1, 1, 0, 0): -5.4220151545038995, (0, 1, -1, 0, 0, 0, -1, 1, 1): -1.9506227433460608, (0, 1, -1, 0, 0, -1, -1, 1, 1): 0.8907176799999998, (0, 1, 0, 0, 0, -1, -1, 1, 1): -2.7480631439999996, (-1, 0, -1, 1, -1, 0, 1, 0, 1): 7.940533162249773, (-1, 0, 0, 1, -1, 0, 1, 0, 1): -2.5246988245637065, (0, 0, -1, 0, 1, 1, -1, 1, -1): 5.2491799, (1, -1, -1, 1, 0, 0, -1, 1, 1): -4.3993279, (-1, 0, -1, 0, 1, 1, -1, 0, 1): 6.901697248084337, (1, 0, 1, -1, 0, -1, 1, -1, 0): 4.8154978, (0, -1, 1, 0, 1, -1, -1, 1, 0): -1.5075024986403827, (1, 1, -1, -1, -1, 1, 0, 1, 0): -4.62137463393877, (0, 1, 0, -1, -1, 1, 0, 1, 0): -4.815048602938362, (1, 1, 0, -1, 0, -1, 1, -1, 0): 2.8643, (-1, 0, -1, 0, 1, 1, 1, 0, -1): 7.924426699733831, (1, 0, -1, -1, 0, 0, -1, 1, 1): 1.3954977999999996, (1, 0, -1, -1, 1, 1, 1, 0, -1): -1.6996285933491018, (1, -1, 0, 1, 0, 0, -1, 0, 1): -0.5481659999999999, (1, -1, 1, -1, -1, 0, 0, 1, 0): -1.5596915156187756, (1, 0, 1, 0, -1, -1, -1, 0, 1): 7.716667454527589, (1, 1, -1, 0, 0, -1, 0, 0, 1): -1.0622962999999999, (1, 1, 0, -1, -1, 0, -1, 1, 0): 2.0498510698479997, (1, -1, -1, 1, 0, -1, 0, 1, 1): 2.4570600000000002, (0, -1, -1, 1, 0, -1, 0, 1, 1): 1.9224319999999997, (0, -1, -1, 1, 0, 0, 0, 1, 1): -0.9753565844000001, (1, -1, 0, 0, 0, -1, 0, 1, 0): 1.501373812530141, (1, 1, 0, 1, 1, -1, -1, -1, 0): -7.067609876595673, (-1, -1, 0, 0, 1, 0, 1, 1, -1): 8.378907303392426, (-1, 1, -1, 1, 1, 0, 0, -1, 1): -1.6850293500685818, (-1, 0, -1, 1, 1, 0, 0, -1, 1): 3.023435008, (0, 0, -1, 1, 1, 0, 0, -1, 1): -1.677453399724, (1, 1, -1, -1, 0, 0, -1, 1, 1): -1.9819414, (1, 1, -1, -1, 0, 0, 0, 1, 0): -0.9824728926640001, (0, -1, -1, -1, 1, 1, 1, 0, 0): -1.17843793738032, (-1, 0, -1, 0, 1, -1, 1, 1, 0): 4.68559, (-1, 0, 0, 0, 1, -1, 1, 1, 0): 4.4748805030026, (-1, -1, 0, 0, 1, 1, 1, 1, -1): -4.5964943127761435, (-1, 0, 1, 0, 1, 1, -1, 1, -1): -2.388275384469889, (0, 0, 1, 1, -1, 1, -1, 0, -1): -7.291582571469988, (0, -1, 1, 1, 1, -1, 0, 1, -1): -1.5666875294844629, (0, -1, 1, 1, 1, -1, 0, 0, -1): 4.5302261761, (1, 1, 0, -1, -1, 0, 1, -1, 0): 4.315987566054449, (1, 1, 0, -1, 0, 0, 1, -1, 0): 0.606579933697673, (-1, -1, 0, 1, 0, -1, 1, 1, 0): 0.7983999999999998, (1, 1, 0, 1, 1, -1, -1, 0, -1): -7.4581341716709995, (0, 0, 1, 1, 0, -1, 1, 0, -1): 0.39257934000000017, (1, 1, -1, -1, -1, 0, 0, 0, 1): -5.335182638281744, (-1, 1, 1, 0, -1, 1, -1, 1, 0): -7.941088679053509, (0, 0, 1, 1, -1, -1, 1, -1, 1): -7.864487084909204, (0, 0, 0, 1, -1, -1, 1, -1, 1): 3.5129628489728537, (0, 0, 0, 1, -1, -1, 1, 0, 1): 4.0718760347840925, (-1, 1, 0, 1, -1, -1, 0, 1, 0): -2.0773791228, (0, -1, 0, 0, 0, 1, 1, -1, 0): -1.1399059297068002, (0, 1, 1, 1, 0, -1, -1, -1, 1): 0.18408739986999995, (0, -1, 1, -1, -1, 0, 0, 1, 1): 4.88780002, (-1, 0, 0, 1, 1, -1, 0, 1, -1): 7.537223156459576, (0, 1, 0, 1, 1, -1, 0, -1, -1): -1.6008758720000003, (-1, 1, 1, -1, 0, 0, 0, 0, 1): -4.607568172089461, (-1, -1, 1, 0, 0, -1, 0, 1, 1): 0.0736987380080999, (0, 0, 0, 1, 0, 1, -1, 1, -1): -0.7336230599999999, (0, -1, 0, 0, -1, 1, 1, 1, -1): -1.9125894959361622, (1, 1, 0, -1, -1, 1, 1, -1, 0): 0.20552719217331827, (1, 0, 0, 0, 1, -1, 1, -1, -1): 8.55701214826037, (0, 1, 1, -1, -1, 1, -1, 1, 0): -3.63543964597126, (0, 0, 1, -1, -1, 0, 1, 0, 0): -2.5365004356682643, (1, 0, -1, 1, -1, -1, 0, 1, 1): 0.4265700000000001, (-1, -1, 0, -1, 0, 1, 1, 1, 0): 2.2762000000000002, (-1, 0, 1, 0, -1, 1, 1, -1, 0): 2.711974132, (0, 0, -1, -1, 1, -1, 1, 1, 0): 6.777862535035899, (0, 0, 1, 0, -1, 0, 1, -1, 0): -3.9433739661518183, (-1, 1, 1, 1, 0, 0, -1, 1, -1): -3.4420897207000003, (0, 1, -1, 1, 1, -1, 0, -1, 0): -3.458361603171065, (-1, -1, 1, -1, 1, 1, 0, 0, 0): 3.555212439150999, (-1, 0, -1, -1, 1, 0, 0, 1, 1): 6.5132155990000005, (1, 0, 1, 1, 0, 0, -1, -1, 0): -4.70584211266, (1, -1, -1, -1, 0, 0, 0, 1, 1): 5.59567208368, (1, -1, 0, -1, 0, 0, 0, 1, 1): 3.2053508089017027, (1, 1, 0, 0, 0, 1, 0, -1, -1): -4.071562303950234, (-1, 1, 1, 0, 0, -1, 0, -1, 1): -1.658147630097516, (1, 0, 1, 1, -1, -1, -1, 1, 0): -1.156039245753699, (1, 1, -1, -1, 1, 0, -1, 0, 0): 7.895989021186971, (1, 0, -1, 0, 0, 1, 1, -1, -1): 4.569204421, (-1, 1, 1, -1, 0, 0, 1, -1, 0): 5.750302518999999, (1, -1, 1, -1, 1, 0, 0, 0, 0): 5.353882480872004, (0, -1, 0, -1, 1, 1, 1, 0, -1): 8.275216184711342, (1, -1, 0, 0, 1, -1, 0, 1, 0): -1.4617652571744393, (0, 1, 0, 0, 0, 1, -1, -1, 1): 2.3520951831909898, (1, -1, 1, 1, 0, 0, -1, 1, -1): -1.699949828468768, (0, 0, 0, 1, 0, -1, 1, -1, 1): 0.607360353, (0, 1, 1, 0, -1, 0, -1, -1, 1): 6.06457750267, (1, -1, 0, 1, 1, -1, 0, -1, 0): 3.6720568, (1, -1, 0, 1, 1, -1, 0, 0, 0): 1.4365190803793997, (-1, -1, 0, -1, 1, 1, 1, 1, 0): -4.562423681446001, (1, 1, 0, 1, -1, -1, 0, -1, 0): 3.5227899999999996, (-1, -1, 0, 0, 0, 1, 1, 1, 0): -3.3725624199599995, (0, 1, -1, 1, 0, -1, 0, -1, 1): 1.1167926799099999, (0, 0, -1, 0, 1, 1, 0, 0, -1): 7.6419199834458365, (-1, 0, 0, -1, 0, 1, 0, 1, 1): -1.5988673999999996, (-1, 1, 1, 1, -1, 0, 0, 0, 0): -8.485435264183133, (1, 1, -1, 0, 1, 0, -1, 0, -1): 8.080899967374082, (1, 0, -1, -1, 0, 1, 1, -1, 0): -0.9608301111, (1, 1, 0, -1, -1, 1, 0, -1, 1): 0.4786467, (0, -1, 1, 1, 0, -1, -1, 0, 1): -1.0661647945628998, (0, 0, -1, 1, -1, 1, 1, -1, 1): -8.800523381198, (0, 0, -1, 0, -1, 1, 1, -1, 1): -2.3358616433277235, (1, 0, -1, 0, 1, 1, -1, -1, 0): 5.9415551441200005, (1, -1, 1, 1, 1, 0, -1, -1, 0): -5.18101111, (-1, 0, 0, 0, 0, 1, -1, 1, 1): -5.829251032000001, (1, 0, 1, 0, 1, -1, 0, -1, 0): 2.8516083594, (0, -1, -1, 0, 1, 1, 0, 1, -1): 5.462131581937003, (0, -1, 0, 0, 1, 1, 1, -1, 0): 1.7742012528084, (1, 0, -1, -1, 1, 1, 0, -1, 0): 8.263178122554931, (0, 1, 0, -1, 1, -1, 1, -1, 0): 5.354405218, (-1, 0, 0, -1, 1, 1, 0, 1, -1): 4.87170419041917, (0, 1, 1, 1, -1, 0, -1, 0, -1): 2.8324459000000006, (0, 1, 1, 1, 0, 0, -1, 0, -1): -3.2350595415625003, (0, 0, -1, 1, -1, 1, 0, 1, 0): -6.2566606697304, (1, -1, 0, 1, 1, -1, -1, 0, 0): 4.92447601, (0, 0, -1, 1, 1, -1, -1, 1, 1): 4.4748805030026, (-1, 0, -1, 0, 1, 1, 0, 0, 1): -6.501554047712812, (-1, 0, -1, 0, 1, 0, 0, 0, 1): -3.2470531426711866, (0, 0, 1, -1, 0, 0, -1, 1, 1): -3.7530647129999997, (-1, -1, 0, 1, -1, 0, 1, 0, 1): 7.477610058430886, (0, 1, 0, -1, 1, 1, 0, -1, -1): -1.869987085106912, (-1, 1, -1, 0, 1, 0, 0, -1, 1): -2.089991066903951, (-1, 1, 0, -1, 1, 1, 1, 0, -1): 4.4748805030026, (1, 1, 0, 1, -1, -1, 0, 0, 0): 0.807327993596951, (1, 0, -1, -1, -1, 1, 1, 1, 0): -1.5988937345593224, (0, -1, 0, -1, 0, 1, 1, 0, 0): 0.651629922017221, (-1, 1, -1, -1, 0, 1, 0, 0, 1): -0.6783854939000004, (0, 0, -1, 1, 0, 1, -1, 0, 1): -3.354342390266356, (-1, 1, 1, -1, 0, 1, 1, -1, 0): 3.1302186, (-1, 1, 0, -1, 0, 1, 1, -1, 0): 0.6261998179999997, (0, -1, 1, 0, -1, 1, 1, 1, -1): -8.552499616775455, (1, -1, 0, 1, 1, -1, 0, 0, -1): 4.826225451274932, (-1, 1, 1, -1, 1, 1, 0, 0, -1): -4.047103969337495, (0, 0, 1, 0, -1, 1, 0, -1, 0): 7.919509037359195, (0, 1, -1, -1, 1, 0, 1, -1, 0): -1.0335192413378593, (-1, 0, -1, 0, 1, 1, 1, 1, -1): -2.6892688600000003, (-1, 0, -1, 0, 0, 1, 1, 1, -1): -3.981226132446445, (1, 1, -1, 1, 0, -1, 0, -1, 0): 3.9815947, (0, 0, 1, 1, -1, -1, -1, 0, 1): -2.133256353054139, (0, 0, 1, 1, 0, -1, -1, 0, 1): -1.257575908215496, (1, 0, -1, -1, 0, 1, 0, 0, 1): -1.232717337809566, (1, 0, 1, 0, 1, -1, -1, 0, -1): 8.497091115616268, (1, -1, 0, 1, 0, 0, -1, 1, -1): -2.1899999968909083, (0, 1, -1, 1, 1, -1, 0, -1, 1): -1.6498852203351577, (-1, 1, 0, 0, 1, -1, 0, -1, 1): -0.884683063991695, (-1, 1, 0, 1, 0, -1, 0, 0, 1): -1.3214739523, (1, -1, 0, -1, 1, 1, -1, 1, 0): -0.5142930808754649, (1, 0, 1, -1, 0, -1, -1, 1, 0): 2.01376, (1, -1, -1, -1, 0, 1, 1, 1, 0): -0.4423716049823, (0, -1, -1, -1, 0, 1, 1, 1, 0): 0.54795375991, (0, -1, 0, -1, 1, 1, 0, 1, 0): -3.2542949181977185, (1, 1, -1, -1, 0, 0, 1, -1, 0): -1.9211984470457824, (1, -1, 1, 0, 0, -1, 0, 1, -1): 0.6122649100099997, (1, -1, 1, 0, 0, 0, 0, 1, -1): -2.532999969298837, (0, -1, 0, -1, 0, 1, 1, 0, 1): 2.9437493332084, (1, -1, 1, -1, -1, 0, 1, 1, -1): -0.9999999999305238, (-1, 0, 0, 1, 1, 0, 0, 1, -1): 2.4013040436376443, (-1, 1, -1, 1, 0, 0, 0, -1, 1): -0.6244273029, (1, 1, -1, -1, -1, 1, 0, 0, 1): -8.133270743801535, (0, -1, 1, 1, -1, 0, 1, 0, -1): 0.2061269388999999, (0, 1, -1, -1, 0, -1, 0, 1, 1): 2.1592, (0, 1, -1, 0, 0, -1, 0, 1, 1): -0.009843599999999952, (1, -1, 1, 1, 0, 0, -1, 0, 0): -2.9764338772269143, (0, 1, 1, -1, 0, -1, 0, -1, 1): 2.340473707, (1, 0, 1, -1, 1, -1, -1, 1, 0): 3.675477066, (1, 0, 1, 0, -1, -1, 0, 1, 0): -5.502431397591012, (0, -1, -1, 1, 1, 0, 0, 1, -1): 5.13192273820294, (0, -1, -1, 1, -1, 1, 1, 1, 0): -3.0187951125400003, (-1, -1, 0, 0, 1, 1, 0, 1, -1): 6.573439211282701, (0, -1, 0, 1, 1, 0, -1, -1, 1): 4.3053962072, (0, 0, -1, -1, 0, 1, 0, 1, 0): -0.16727208291613116, (-1, 1, -1, -1, 0, 1, 1, 0, 0): 0.7458303289999997, (-1, -1, 0, 1, 1, 0, -1, 1, 0): 4.248420939662143, (1, -1, 0, 1, 1, 0, 0, -1, -1): 5.4751069144, (0, 1, 0, 0, -1, 1, 0, 1, -1): -7.144884094931334, (1, 0, 0, -1, 1, 0, -1, 1, 0): 4.053294568510077, (1, -1, 0, 1, -1, 0, 0, 0, 0): 6.125209425232832, (1, 1, 0, 0, -1, 1, -1, 0, 0): -3.347501727965374, (0, 1, 1, 1, 0, -1, -1, 0, -1): 2.4394419999999997, (1, -1, 1, -1, 1, -1, 0, 0, 0): 8.559731080489309, (-1, 1, -1, 0, 0, 1, 0, 0, 1): -2.8343067415248435, (1, 1, 0, -1, 0, -1, 0, 1, -1): 3.439, (-1, -1, 1, 0, 1, 1, 0, 0, 0): 2.5163236096932664, (1, -1, -1, 0, 1, 1, -1, 0, 0): 6.12579511, (1, 0, -1, 0, 1, 1, -1, 0, 0): 4.845472166498476, (0, 0, 1, -1, -1, 1, 0, 1, -1): -2.9005692425702776, (-1, 0, 1, -1, -1, 0, 1, 1, 0): 2.4408693081298, (1, 0, 0, 0, 0, -1, 0, 1, -1): -1.5225617989705205, (1, -1, -1, 0, -1, 1, 0, 1, 0): 1.0153058010475995, (0, 1, 1, -1, 0, 0, -1, 1, -1): 4.68559, (-1, 0, -1, 1, -1, 1, 1, -1, 1): -0.8649148282327008, (-1, 0, 1, -1, -1, 1, 1, 1, 0): -4.586741974000001, (-1, 1, 0, 0, 1, 1, -1, 0, -1): 4.493739799, (-1, 1, 0, 0, 1, 1, 0, 0, -1): 4.0794791519292, (-1, 0, 1, 0, 1, -1, -1, 0, 1): -3.985445510332085, (0, 1, 1, -1, 0, 0, 0, -1, 1): 3.1813837084649403, (-1, 1, 0, -1, 1, 0, 1, 0, -1): 4.57192711, (0, 1, -1, 0, 0, 1, -1, -1, 1): 1.9057056303487996, (1, 0, 0, 1, -1, -1, 0, -1, 1): 4.493854252, (0, 0, -1, -1, -1, 1, 0, 1, 1): 3.683774520039062, (1, -1, 0, 1, 0, -1, 0, 1, 0): 0.42185417000000003, (1, 1, 0, -1, 0, 1, 0, -1, -1): 2.960715331, (0, 1, -1, 0, 0, -1, 1, 1, 0): -2.76994, (-1, 1, 0, -1, 1, 0, 0, -1, 1): -3.0764993948419517, (-1, 1, 0, 0, 1, 0, 0, -1, 1): -2.8575748175727043, (1, -1, 1, 0, -1, 1, 0, 1, -1): -1.6999999685635847, (0, 1, 1, -1, 0, -1, 1, 1, -1): -2.1430000000000002, (-1, 0, 1, -1, 0, -1, 0, 1, 1): 2.26450081, (-1, 0, 1, 1, 0, -1, 1, 0, 0): -2.54687580452237, (1, -1, 1, 1, 0, 1, -1, -1, 0): -5.217031, (1, -1, 0, 1, 0, 1, -1, -1, 0): -1.1312000000000002, (1, -1, 0, 1, 0, 1, 0, -1, 0): -3.8329430140000005, (0, -1, -1, 1, -1, 0, 1, 0, 1): 6.12579511, (0, 0, 0, 1, -1, 1, -1, 0, 1): -7.93812947016696, (0, -1, 1, 0, 0, 1, 1, -1, -1): -0.07524799999999998, (0, 0, 1, 0, 0, 1, 1, -1, -1): -2.9844064387124405, (1, 1, 0, 0, -1, 0, -1, -1, 1): 1.3249, (1, 0, -1, -1, 0, 0, 1, 1, -1): -3.131447333098377, (-1, -1, 0, 0, 1, 1, 1, -1, 0): 5.217031, (-1, 1, 0, 0, -1, 1, -1, 0, 1): 0.6399999999999999, (-1, 1, 0, 0, 1, 1, 0, -1, 0): -2.5319483461987677, (0, 1, -1, 1, 1, 0, 1, -1, -1): -6.853823256731104, (0, -1, 0, 1, 1, -1, 0, 1, 0): -2.3112632246918237, (0, 0, -1, 1, -1, 0, 0, 1, 1): -1.8781743223570673, (-1, 1, 1, 1, -1, 0, 0, -1, 1): -1.337697293336481, (-1, 0, 1, 0, 1, -1, -1, 1, 1): -8.37643052067485, (0, 1, -1, -1, -1, 1, 0, 0, 1): -1.7292098676345895, (0, 1, -1, 0, -1, 1, 0, 0, 1): -8.470240269597236, (1, -1, 0, 0, 0, 1, 1, -1, 0): -3.2290060293640006, (1, 1, 0, 0, -1, 0, -1, 1, -1): 4.536036466480001, (1, 1, 0, 0, 0, 0, -1, 1, -1): 2.2375132778724005, (0, -1, -1, 0, -1, 1, 1, 0, 1): 4.68927116885547, (0, 0, -1, -1, 1, 1, 0, 1, -1): 6.880352350163358, (0, 1, 1, -1, -1, 0, 0, -1, 1): 5.92452777448, (0, -1, 0, 1, -1, 0, 1, 0, 1): -3.5381629540000006, (-1, 0, 1, 0, 0, 1, 1, -1, -1): 3.25126144648, (1, 0, 1, -1, -1, 1, -1, 0, 0): 6.8688030517039, (-1, 0, 0, 1, -1, 1, 1, -1, 0): -5.91975515459312, (-1, 0, -1, 1, -1, 1, 1, 0, 1): -8.822476996595698, (1, 0, 0, 1, 1, -1, 0, -1, -1): 4.7387341, (1, 0, 0, 1, 1, 0, 0, -1, -1): -3.4257214602914328, (-1, 1, 0, 1, 1, -1, 0, 0, 0): -2.6774637724158867, (0, -1, 1, 0, -1, 1, 1, 0, 0): -3.90621433971, (0, 0, -1, 0, 1, 1, 0, 1, -1): 3.134743010695364, (0, 1, 0, 0, -1, 0, 1, -1, 1): -2.367290920048971, (1, 0, 0, 1, 1, -1, -1, 0, -1): -7.1499251805097455, (1, 1, -1, 0, 1, -1, -1, 0, 0): 7.8922772092171805, (1, 1, -1, 0, 1, 0, -1, 0, 0): 4.73868958350241, (1, -1, 0, 1, -1, -1, 0, 1, 1): -0.23522030000000002, (-1, 0, -1, 1, 1, -1, 0, 0, 1): -2.521317003830523, (-1, 1, 0, 0, 1, -1, 1, -1, 1): 0.7159803506021829, (-1, 0, 1, 1, 1, 0, 0, 0, -1): 4.307331446297768, (0, 0, 1, 1, 0, -1, -1, -1, 1): 0.9384203706447196, (0, 0, -1, -1, 1, 1, 1, -1, 1): -0.5211672486005494, (-1, 0, 0, 1, -1, 1, -1, 0, 1): 3.322829569312, (0, 1, 1, 1, -1, -1, 1, -1, 0): 0.4252172981140002, (0, -1, 0, -1, 1, 1, -1, 0, 1): 5.2366263456961, (1, 1, 0, 1, -1, -1, -1, 0, 0): 2.2881036268000003, (1, -1, 0, 0, -1, 1, -1, 0, 1): 3.0343934800000003, (-1, 0, -1, 1, -1, 1, 0, 0, 1): -7.342671724373524, (1, 0, 1, -1, 1, -1, -1, 0, 0): 8.538332218117738, (1, -1, 1, 0, -1, 1, 0, 0, 0): -5.192886661176242, (0, 0, 1, 0, -1, -1, 1, -1, 1): -6.726137165395211, (-1, 1, 0, -1, 1, 1, 0, 0, -1): 3.9456896191019197, (-1, -1, 0, 1, -1, 1, 0, 1, 0): -2.2584248000000002, (0, 1, 0, -1, -1, 1, 1, 0, -1): -0.35440220280000023, (1, 1, -1, 1, 0, -1, 0, -1, 1): 3.9079293594, (0, -1, 1, -1, 1, 0, 0, 1, 0): -0.22050473994879627, (-1, -1, 1, 0, 0, 0, 0, 1, 1): 0.6446319115999999, (-1, 1, 0, 0, -1, 0, -1, 1, 1): -7.691446475803127, (0, 0, -1, 1, 0, 1, 0, -1, 1): -1.3472634, (1, 0, 1, -1, 0, 1, 0, -1, -1): 2.107811008, (-1, 0, -1, 0, 1, 1, 1, -1, 1): -4.51376317232, (0, 1, 1, 0, -1, -1, 0, 1, -1): 2.0165752, (1, 1, 0, -1, -1, 1, 0, -1, 0): 3.59938, (-1, 0, 0, 1, -1, 1, -1, 1, 0): -2.3142714848000003, (1, 0, 1, -1, -1, 1, -1, 1, 0): 4.305422781114, (1, 0, 1, -1, -1, 0, -1, 1, 0): 3.43366428459592, (1, 0, 1, -1, 0, 0, -1, 1, 0): 1.04263645192756, (0, -1, 0, 1, 0, 1, -1, -1, 1): -0.2950999999999999, (0, 1, -1, 1, 0, 0, -1, 1, 0): -1.422766954, (-1, 1, -1, 0, 1, 0, 0, 0, 1): -2.318938610036596, (0, 1, 0, -1, -1, 1, 1, 1, -1): -5.4968416566277405, (1, -1, 0, -1, 0, 1, -1, 1, 0): 0.8671999999999999, (0, -1, 0, -1, 1, 0, -1, 1, 1): -0.17475425530235889, (0, 1, 1, -1, 0, 0, 0, 1, -1): 2.4570600000000002, (1, -1, 1, 0, 0, 0, 1, 0, -1): 3.7410333452549915, (1, -1, -1, 0, 0, 1, 0, 1, 0): 0.45485857044164824, (-1, 1, -1, 1, 0, 0, -1, 1, 0): 0.5585751999999999, (0, 0, -1, 0, 1, 1, -1, -1, 1): 6.97336438406392, (-1, 1, 1, -1, 0, 1, 0, 0, -1): -2.5257550835200004, (-1, 0, 1, 1, 0, 0, 1, 0, -1): -3.6759297087153224, (0, 1, 1, 1, 0, -1, 0, -1, -1): 4.239442, (1, 0, 1, -1, 1, 0, 0, -1, -1): 6.0317130575168205, (-1, 0, 1, 1, -1, 0, 0, -1, 1): 2.2934558152, (0, -1, -1, 1, 1, 0, -1, 1, 0): 3.8716354945288005, (0, 0, -1, 0, 1, 1, -1, 0, 1): 5.6092994607719024, (0, 0, 1, -1, 0, -1, -1, 1, 1): -2.6223128000000004, (1, -1, -1, 0, -1, 1, 1, 0, 0): 6.01177183437682, (1, 0, 0, 1, 0, 1, -1, 0, -1): -5.7867284086663595, (0, 0, -1, 1, 1, 0, -1, 0, 1): 3.0985161881370344, (0, 0, 0, 0, 1, -1, 1, 1, -1): -4.105813718529774, (-1, 0, 0, -1, -1, 1, 1, 1, 0): 1.32066028, (1, 0, 1, -1, -1, 0, 1, 1, -1): -9.1625784722286, (1, -1, 0, 0, 1, 0, 1, -1, -1): 9.256170959010536, (1, 0, -1, 1, 0, -1, 0, -1, 1): 4.13479, (0, -1, -1, 0, -1, 1, 0, 1, 1): 1.1692112292909997, (0, 0, 0, 1, -1, 0, 1, -1, 1): -7.846901616539095, (0, -1, 1, -1, 0, 0, 1, 1, 0): 1.2609897, (-1, 1, 1, -1, 0, 0, 0, -1, 1): 1.122231907, (0, 0, -1, 1, -1, -1, 1, 0, 1): 7.244742966329801, (1, 0, 1, -1, 1, 1, -1, 0, -1): -8.682577147479048, (-1, 1, 1, -1, 0, 1, 0, -1, 0): 5.270430191679999, (-1, -1, 1, 1, 0, 0, 1, -1, 1): -1.0048059999999999, (1, 0, -1, -1, 1, 1, -1, 0, 0): 8.533057897045644, (0, 1, -1, 1, 0, 1, -1, -1, 1): 0.8970000000000001, (0, 0, 0, 1, -1, 0, 1, -1, 0): 4.918098192909056, (0, -1, 0, 1, -1, 1, 1, 1, -1): -7.17570463519, (0, 1, 0, 1, -1, 0, 1, 0, -1): -4.6779898834, (-1, 0, 0, 1, 0, -1, 1, -1, 1): -1.9539990739433581, (1, -1, 1, 1, 0, -1, -1, 0, 0): -1.0707238525091407, (-1, 1, 1, -1, -1, 0, 0, 0, 1): 4.709924067771482, (-1, 1, 0, 0, 0, 1, 0, -1, 0): -2.491792519262852, (0, 0, -1, 1, 1, -1, -1, 1, 0): 4.614436616155411, (1, 0, 1, 0, 0, -1, 1, 0, -1): 3.51963321270234, (-1, -1, 0, 1, 1, 0, 1, 0, 0): -4.1090895100000004, (1, 0, 1, -1, 0, 1, -1, 0, 0): 2.795906462803706, (0, 0, 0, 0, 1, -1, 1, 0, -1): 5.5074245656202825, (-1, 0, -1, 1, 0, 1, 1, -1, 1): -5.298341473, (-1, -1, 0, -1, 0, 1, 1, 0, 1): 2.2950999999999997, (1, 1, 0, -1, 0, 1, 1, -1, -1): 0.9350017300000001, (0, 1, 0, -1, 0, 1, 1, -1, -1): 1.1281128988999998, (-1, 1, 1, 1, 0, -1, 1, 0, -1): -2.0560869999999998, (-1, 0, 1, 1, 0, -1, 1, 0, -1): 0.42473223999999943, (0, 0, -1, 1, 1, -1, -1, 0, 1): 8.389507128934579, (0, -1, 0, -1, 1, 1, 0, 0, 1): 1.7607090817456323, (0, 1, 0, -1, -1, 0, 1, 1, -1): -4.907383419217332, (-1, 0, 0, 1, 1, 0, 0, -1, 1): 0.8392387146851855, (1, -1, 1, -1, 0, 0, 1, -1, 0): 3.5421489999999998, (-1, -1, 0, -1, 1, 0, 0, 1, 1): 3.0747900836800004, (1, -1, 1, -1, 0, 0, 1, 1, -1): -1.6997978163053418, (0, 0, 1, -1, 1, -1, 0, -1, 1): 7.875372299162438, (0, 0, 1, -1, 1, 0, 0, -1, 1): 2.6294670990599998, (1, 1, -1, 0, 0, 0, -1, 1, -1): 2.6194420000000003, (1, 0, 0, 1, -1, 1, -1, 0, 0): -7.831234235982356, (0, 0, 0, -1, -1, 1, 1, 1, -1): -2.8976039948318153, (-1, -1, 0, 1, -1, 0, 0, 1, 1): 2.7399311199999996, (1, 0, 1, 0, 0, -1, -1, 1, -1): 1.3725419999999997, (1, 0, 1, 0, 0, -1, -1, 1, 0): 0.015629360000000037, (0, -1, 1, 0, 0, 1, 1, -1, 0): -4.4767048186, (0, -1, 1, 1, 0, -1, 0, 0, 1): -0.6553769789513002, (0, 1, -1, 1, 0, 1, 1, -1, -1): 3.41719674, (-1, 1, 1, 1, -1, 0, 1, -1, 0): -8.411861876065771, (0, 0, 1, 1, -1, -1, 0, -1, 1): -2.0589991755139647, (-1, 1, -1, 0, 0, 0, 0, 1, 1): 2.7611274156000003, (1, -1, -1, -1, 1, 0, 1, 0, 0): 7.312133238099959, (0, -1, 0, 1, 0, -1, 0, 1, 1): -0.2086040000000001, (0, -1, 0, 1, -1, 1, 0, 1, -1): -3.1610192735756186, (0, -1, 0, 0, 1, 1, 0, 1, -1): -2.458343632010044, (-1, 1, 1, -1, -1, 1, 1, 0, 0): -4.772669245075264, (-1, 0, -1, 0, 0, 1, 1, -1, 1): -2.88871921029, (-1, 0, 1, 0, -1, -1, 0, 1, 1): 0.9814419999999999, (0, 0, 1, 0, -1, -1, 0, 1, 1): -8.126286604271305, (-1, -1, 1, 0, 0, 1, 1, -1, 0): 2.3312799999999996, (0, 1, -1, 1, 0, 0, 0, 1, -1): -1.77259447, (1, -1, 0, -1, -1, 0, 1, 1, 0): 6.1542896964695135, (-1, 1, 0, 1, 1, -1, 0, -1, 1): -1.6866462157408257, (1, 1, 0, -1, 0, 0, 1, -1, -1): 1.2186112109999998, (1, 1, 0, 0, 0, 0, 1, -1, -1): 1.4678920092188028, (1, 0, -1, -1, 1, 1, 1, -1, 0): 0.5124658794756503, (1, -1, 1, -1, 0, 0, 1, 0, -1): 8.201562990648434, (1, 1, -1, -1, 1, -1, 0, 0, 0): 6.5132155990000005, (-1, 1, -1, 1, 0, 1, -1, 0, 0): 0.5709519999999999, (0, -1, -1, 1, -1, 0, 1, 1, 0): 2.827, (0, -1, 1, 0, 1, 1, -1, 1, -1): -1.684377415169115, (1, -1, 1, 1, 0, 0, -1, -1, 1): -3.2755884391000003, (1, -1, 1, 1, 0, 0, -1, -1, 0): -3.4387928000000003, (1, 0, -1, 0, 0, 1, -1, -1, 1): 2.028952, (1, 0, 0, 0, 0, 1, -1, -1, 1): 2.2886080859724003, (-1, -1, 0, 1, 0, 1, 1, -1, 0): 0.31999999999999995, (1, -1, 1, 0, -1, 0, -1, 1, 0): -1.6992734973642263, (1, 1, 0, -1, 1, 0, -1, -1, 0): 5.370086008, (0, -1, 0, -1, -1, 1, 1, 1, 0): 1.8122040999999998, (0, 0, 1, 1, -1, -1, 1, -1, 0): 4.129360659910001, (-1, 0, 1, 1, 0, 0, -1, -1, 1): 3.8493971110000005, (-1, 0, 0, 1, -1, 1, 1, -1, 1): -8.539426355396085, (-1, 0, 0, 1, 0, 1, 1, -1, 0): -0.93687366, (1, 0, 1, -1, -1, 0, 1, 0, -1): 8.27108467031565, (1, 1, -1, -1, -1, 0, 0, 1, 1): -6.5132155990000005, (1, 1, -1, -1, -1, 0, 0, 1, 0): -3.6762965890999997, (0, 0, -1, 1, 1, -1, 1, -1, 0): 3.6643327664188514, (0, 1, -1, 0, -1, -1, 0, 1, 1): 2.3727667278052005, (1, 0, 1, 0, 1, 0, -1, 0, -1): -5.876157790079149, (1, -1, 0, 1, 0, -1, 0, 0, 1): 0.8073366, (0, 0, 1, 1, -1, -1, 1, 1, -1): -4.355393565913049, (0, 0, 0, 1, -1, -1, 1, 1, -1): 0.9554240079999999, (-1, -1, 1, 1, 0, 1, 0, 0, -1): 2.19241, (0, 0, 0, -1, 1, -1, -1, 1, 1): 7.191415232931656, (0, 1, 0, 1, 0, -1, -1, -1, 1): 0.7931561998999997, (1, -1, 1, -1, -1, 0, 0, 1, 1): -6.806415153900843, (-1, 1, -1, 0, 0, -1, 1, 1, 0): 0.3610000000000001, (0, -1, 0, 1, 1, -1, 1, -1, 0): 5.800553218, (0, 1, 0, 0, 1, -1, 1, -1, -1): 6.09063826155076, (0, -1, 1, -1, 0, 1, 0, 1, 0): 1.29142076, (0, 1, 1, 0, 0, -1, -1, 0, 1): -1.1071171391301644, (-1, 1, -1, -1, 0, 1, 1, 0, 1): 1.6181077443, (0, 0, 1, 1, -1, 0, -1, 1, -1): -3.058644249582355, (0, -1, 1, 1, -1, -1, 0, 0, 1): -2.2176744695273474, (1, -1, 0, 1, -1, 0, 0, 1, 0): -0.6425833582929998, (-1, 0, 1, 1, 1, -1, -1, 0, 0): -2.1864656795780233, (0, 1, -1, 1, -1, -1, 1, 0, 1): 4.62739245270234, (0, 1, -1, 0, 0, -1, 1, 0, 1): 1.5312583217207263, (-1, 1, -1, -1, 0, 0, 1, 0, 1): 1.9558900000000001, (0, 0, -1, -1, 1, 1, -1, 1, 0): 5.5060255570617995, (1, 1, -1, -1, 0, 1, 0, 0, 0): -1.1504824195216001, (0, 1, -1, -1, 0, 1, 0, 0, 1): -2.222300505063, (-1, -1, 1, 1, 1, 0, -1, 0, 0): 5.460580578588355, (0, 1, 1, 0, 0, -1, 1, -1, -1): 4.721311, (0, -1, 1, 1, 1, -1, 0, -1, 1): 2.811354, (1, 0, 1, -1, 0, 1, -1, 0, -1): 5.516210493919001, (-1, -1, 0, 1, 1, -1, 1, 0, 0): 2.3377298030638216, (0, 0, 0, 1, 0, -1, 1, 1, -1): -3.0661625794600003, (1, 1, 0, -1, 1, 0, -1, 0, 0): 3.24342660732, (1, -1, 1, 0, 0, 0, -1, 1, -1): -2.189999993246159, (-1, 0, 0, -1, 1, 1, 1, 0, -1): 7.693268998765098, (-1, 0, 0, 1, 1, -1, 0, -1, 1): -0.9938783703202088, (-1, 0, 1, 1, 0, 1, -1, -1, 0): -1.439, (0, 1, 0, -1, 1, 0, 0, -1, 1): -0.13622715132600005, (-1, -1, 0, 1, 0, 0, -1, 1, 1): -1.1241889999999999, (-1, 0, 1, -1, -1, 1, 1, 0, 0): 3.5443, (0, -1, 0, 0, 1, 1, -1, -1, 1): 5.6953279000000006, (-1, -1, 0, 0, 1, 0, 1, -1, 1): 5.441603275971124, (-1, -1, 0, 1, 0, 0, 1, 1, -1): -6.275305611114675, (0, 1, -1, 1, 0, 1, -1, -1, 0): 4.40950312, (1, 1, -1, 1, 0, -1, -1, 0, 0): -3.73978232, (1, 0, 0, -1, 0, 1, -1, -1, 1): 2.1592, (0, 1, -1, 1, 0, -1, -1, 0, 1): 0.5755999999999998, (0, 1, -1, 1, 1, 0, 0, -1, 0): -2.44665348895976, (-1, 0, 1, -1, 1, -1, 0, 0, 1): 5.47397252514721, (-1, 1, 0, -1, 0, 1, 0, -1, 1): 4.0951, (0, 0, 1, -1, 1, 0, -1, 0, 1): -1.9668252298056603, (-1, 1, 0, 1, -1, -1, 0, 0, 1): -1.9153583372799041, (0, 1, 1, -1, -1, 0, -1, 1, 1): -7.4581341716709995, (0, 1, -1, -1, 0, -1, 1, 0, 1): 1.4791999999999998, (1, -1, 0, -1, 0, 1, 1, -1, 0): 0.32263318645519956, (-1, 0, -1, 0, 1, 1, 0, -1, 1): 5.835479160462109, (-1, 0, 1, 1, -1, 1, 0, -1, 0): 0.8782371999999999, (1, 0, 1, 0, 1, -1, -1, -1, 0): 8.53119611669563, (1, -1, 0, -1, 0, 1, 0, 1, 0): -0.596047, (0, 1, -1, 1, -1, 1, 0, 0, -1): -1.3608800000000003, (1, 1, 0, -1, -1, 0, 0, 0, 1): -5.0704813126, (1, 0, 1, -1, 0, -1, 1, 0, -1): 8.23736601813771, (0, 0, 1, 1, -1, -1, 1, 0, -1): 3.7996123794688, (0, 0, 1, -1, -1, 1, -1, 1, 0): 4.952698521832, (0, 0, 0, 1, 1, -1, 0, -1, 1): 1.3730163957069998, (0, 1, 1, 0, -1, -1, 0, 1, 0): -4.7867922586, (-1, 0, 0, 0, 1, 1, 1, 0, -1): 3.32419758306, (0, -1, 0, 1, 0, 1, -1, 1, 0): -2.336228300780105, (-1, 1, -1, 0, 0, 1, -1, 1, 1): -3.439, (1, -1, 1, 1, 0, 0, -1, 0, -1): -1.02614421, (0, -1, 1, -1, 0, 1, 1, 1, -1): -0.89803958777, (0, -1, 1, -1, 0, 1, 1, 0, -1): 3.5860063564900004, (-1, -1, 1, 0, 1, 1, 0, -1, 0): 5.217031, (0, 0, 1, 1, -1, 1, -1, 0, 0): -5.551547543153787, (-1, 0, 1, 1, 1, 0, -1, 0, 0): -2.382151747078248, (-1, 0, 0, 0, -1, 1, 0, 1, 1): 2.6679544931852144, (0, -1, 1, 1, 1, 0, 0, 0, -1): 0.575773854, (-1, 1, -1, 1, 1, 0, -1, 0, 0): 5.63007511, (0, -1, -1, 1, 1, 0, 0, -1, 1): 2.5033833208000003, (0, -1, 1, 1, 0, 1, -1, 0, 0): 0.6714393000000002, (0, 1, -1, 1, -1, -1, 0, 1, 0): -3.8476299352400005, (0, 0, 1, 1, 1, -1, -1, -1, 1): -1.4593427701865858, (0, 1, 1, 0, 0, -1, -1, -1, 1): 1.794275241909, (0, 0, -1, 1, -1, -1, 1, 1, 0): 4.3197778, (1, 1, -1, -1, -1, 1, 0, 0, 0): -1.9957773090000002, (0, 1, -1, 1, -1, 0, 1, 0, 0): -2.1635428432892727, (-1, 1, 0, -1, 1, 1, 1, -1, 0): -1.6969303009675927, (-1, 1, -1, 1, 0, 0, 0, 1, -1): 2.9482372000000003, (-1, 1, -1, 1, 1, 0, -1, 0, 1): 4.11713642346, (0, 0, -1, 1, 1, -1, 1, -1, 1): 0.6722078612643372, (1, 0, -1, -1, -1, 0, 0, 1, 1): -1.52, (-1, 0, -1, 1, 0, 1, 1, 0, 0): -4.5144333531064, (0, 1, 0, -1, -1, 0, 0, 1, 1): -3.4691685146673534, (0, -1, 1, 1, -1, -1, 1, 0, 1): -4.93005286, (0, -1, 0, 1, -1, -1, 1, 0, 1): 4.85565112, (1, 1, -1, -1, 1, 1, 0, -1, 0): -1.6988908460351357, (1, 0, 1, 0, -1, 0, -1, 1, -1): 5.289785960843849, (1, -1, -1, 1, 0, -1, 0, 1, 0): 1.2520000000000002, (1, 0, 1, 0, -1, 1, 0, -1, 0): -3.444137082096839, (-1, 1, 0, 1, 1, -1, 0, 0, -1): 4.1642031090124245, (-1, 0, 1, 1, 1, 0, -1, 0, -1): 4.272190600957911, (0, 1, 1, -1, -1, 1, 0, -1, 0): 6.5366521471, (0, 0, -1, 1, 1, -1, 0, -1, 1): 2.2059840735271, (-1, 1, 0, 0, -1, 0, 1, -1, 1): -1.8393223609026046, (0, 0, 1, -1, 0, 1, 1, -1, -1): 4.78239391, (1, -1, 1, -1, 0, 0, -1, 1, 0): 0.6281391109999999, (1, 1, -1, 0, 0, 0, 1, -1, -1): 3.23285338, (1, -1, 1, -1, 0, 0, -1, 1, 1): 3.675477066, (0, 0, 1, 1, 0, -1, 0, -1, 1): -1.0792264, (-1, 0, 1, 1, 1, 0, 0, -1, -1): 5.3322355990000005, (-1, -1, 1, -1, 0, 0, 0, 1, 1): 2.6371, (-1, 0, 1, 0, 1, -1, 0, 1, 0): 0.7686600000000001, (-1, 0, 1, -1, 0, 1, 0, 1, 0): -3.8563300000000003, (1, 0, 1, 0, 0, -1, -1, -1, 1): 6.920169593712309, (0, 1, 0, 1, 0, -1, -1, 0, 1): -0.7897423, (0, -1, 0, 1, 0, -1, 1, 1, -1): 0.6079999999999999, (-1, -1, 1, 1, 0, 0, 1, -1, 0): 1.5472, (0, 0, -1, 1, -1, -1, 0, 1, 1): 2.827, (0, 0, 1, -1, 0, -1, 1, 1, -1): 2.03, (1, -1, 0, 1, -1, -1, 0, 1, 0): 2.3079241, (1, 0, 0, -1, -1, 1, 0, -1, 1): 0.04231000000000007, (-1, 1, 0, 1, 0, -1, -1, 0, 1): -0.8106868101000002, (0, 0, 1, 0, 0, -1, 1, -1, 1): -1.99866402161733, (1, -1, -1, 0, 0, -1, 1, 1, 0): 5.523141016, (0, 0, 1, 1, -1, 0, 1, -1, 0): -2.626216129, (1, 0, 1, 1, 0, -1, -1, -1, 1): 3.41719674, (-1, -1, 0, 0, -1, 1, 0, 1, 1): 4.0951, (1, 1, -1, 1, -1, 0, 0, -1, 0): 3.5686305700480005, (1, -1, 0, -1, 0, 1, 0, 1, -1): -0.7531410000000001, (1, -1, -1, 0, 0, 1, 0, 1, -1): 1.0676408179999997, (-1, 1, 0, 1, 0, 1, 0, -1, 0): -2.030896557946701, (1, 1, 0, -1, 0, 1, -1, -1, 0): 2.1592, (1, 0, -1, 1, -1, 1, 0, -1, 1): -6.8618940391, (0, -1, 0, 0, 0, 1, 1, -1, 1): -0.9946000000000002, (1, 0, -1, 1, 0, 0, 0, -1, 1): 0.3660000000000001}\n"
     ]
    }
   ],
   "source": [
    "alpha  = 0.1 ## Aproximação da média\n",
    "\n",
    "## Reiniciando os state_values, ou seja, o jogador não tem conhecimento prévio\n",
    "state_values = {}\n",
    "\n",
    "ITERACOES = 40000\n",
    "for i in range(ITERACOES) :\n",
    "  epsilon = max(0.01, (ITERACOES - i)/ITERACOES)\n",
    "\n",
    "  _, amostra = ttt.game(player_rl, player_rl, epsilon = epsilon)\n",
    "  update_state_values_monte_carlo(rewards, amostra, gamma, alpha)\n",
    "\n",
    "print(state_values)\n"
   ]
  },
  {
   "cell_type": "markdown",
   "metadata": {
    "id": "aoSs-g4nP57C"
   },
   "source": [
    "## Validando Resultados\n",
    "\n",
    "Vamos agora colocar o possante jogador contra alguém ao acaso."
   ]
  },
  {
   "cell_type": "code",
   "execution_count": 106,
   "metadata": {
    "colab": {
     "base_uri": "https://localhost:8080/"
    },
    "id": "8gI5bUdHXQld",
    "outputId": "fa106e64-43eb-41c5-ffb0-8e1c9dc6e1b0"
   },
   "outputs": [
    {
     "ename": "KeyboardInterrupt",
     "evalue": "",
     "output_type": "error",
     "traceback": [
      "\u001b[1;31m---------------------------------------------------------------------------\u001b[0m",
      "\u001b[1;31mKeyboardInterrupt\u001b[0m                         Traceback (most recent call last)",
      "Cell \u001b[1;32mIn[106], line 1\u001b[0m\n\u001b[1;32m----> 1\u001b[0m results \u001b[38;5;241m=\u001b[39m \u001b[43mcampeonato\u001b[49m(player, player_rl)\n\u001b[0;32m      2\u001b[0m \u001b[38;5;28mprint\u001b[39m(\u001b[38;5;124m\"\u001b[39m\u001b[38;5;124mDraw = \u001b[39m\u001b[38;5;132;01m%i\u001b[39;00m\u001b[38;5;124m, Acaso = \u001b[39m\u001b[38;5;132;01m%i\u001b[39;00m\u001b[38;5;124m, RL = \u001b[39m\u001b[38;5;132;01m%i\u001b[39;00m\u001b[38;5;124m\"\u001b[39m \u001b[38;5;241m%\u001b[39m results)\n\u001b[0;32m      4\u001b[0m results \u001b[38;5;241m=\u001b[39m campeonato(player_rl, player)\n",
      "Cell \u001b[1;32mIn[106], line 1\u001b[0m\n\u001b[1;32m----> 1\u001b[0m results \u001b[38;5;241m=\u001b[39m \u001b[43mcampeonato\u001b[49m(player, player_rl)\n\u001b[0;32m      2\u001b[0m \u001b[38;5;28mprint\u001b[39m(\u001b[38;5;124m\"\u001b[39m\u001b[38;5;124mDraw = \u001b[39m\u001b[38;5;132;01m%i\u001b[39;00m\u001b[38;5;124m, Acaso = \u001b[39m\u001b[38;5;132;01m%i\u001b[39;00m\u001b[38;5;124m, RL = \u001b[39m\u001b[38;5;132;01m%i\u001b[39;00m\u001b[38;5;124m\"\u001b[39m \u001b[38;5;241m%\u001b[39m results)\n\u001b[0;32m      4\u001b[0m results \u001b[38;5;241m=\u001b[39m campeonato(player_rl, player)\n",
      "File \u001b[1;32m_pydevd_bundle/pydevd_cython.pyx:1457\u001b[0m, in \u001b[0;36m_pydevd_bundle.pydevd_cython.SafeCallWrapper.__call__\u001b[1;34m()\u001b[0m\n",
      "File \u001b[1;32m_pydevd_bundle/pydevd_cython.pyx:701\u001b[0m, in \u001b[0;36m_pydevd_bundle.pydevd_cython.PyDBFrame.trace_dispatch\u001b[1;34m()\u001b[0m\n",
      "File \u001b[1;32m_pydevd_bundle/pydevd_cython.pyx:1152\u001b[0m, in \u001b[0;36m_pydevd_bundle.pydevd_cython.PyDBFrame.trace_dispatch\u001b[1;34m()\u001b[0m\n",
      "File \u001b[1;32m_pydevd_bundle/pydevd_cython.pyx:1135\u001b[0m, in \u001b[0;36m_pydevd_bundle.pydevd_cython.PyDBFrame.trace_dispatch\u001b[1;34m()\u001b[0m\n",
      "File \u001b[1;32m_pydevd_bundle/pydevd_cython.pyx:312\u001b[0m, in \u001b[0;36m_pydevd_bundle.pydevd_cython.PyDBFrame.do_wait_suspend\u001b[1;34m()\u001b[0m\n",
      "File \u001b[1;32m~\\AppData\\Roaming\\Python\\Python310\\site-packages\\debugpy\\_vendored\\pydevd\\pydevd.py:2070\u001b[0m, in \u001b[0;36mPyDB.do_wait_suspend\u001b[1;34m(self, thread, frame, event, arg, exception_type)\u001b[0m\n\u001b[0;32m   2067\u001b[0m             from_this_thread\u001b[38;5;241m.\u001b[39mappend(frame_custom_thread_id)\n\u001b[0;32m   2069\u001b[0m     \u001b[38;5;28;01mwith\u001b[39;00m \u001b[38;5;28mself\u001b[39m\u001b[38;5;241m.\u001b[39m_threads_suspended_single_notification\u001b[38;5;241m.\u001b[39mnotify_thread_suspended(thread_id, thread, stop_reason):\n\u001b[1;32m-> 2070\u001b[0m         keep_suspended \u001b[38;5;241m=\u001b[39m \u001b[38;5;28;43mself\u001b[39;49m\u001b[38;5;241;43m.\u001b[39;49m\u001b[43m_do_wait_suspend\u001b[49m\u001b[43m(\u001b[49m\u001b[43mthread\u001b[49m\u001b[43m,\u001b[49m\u001b[43m \u001b[49m\u001b[43mframe\u001b[49m\u001b[43m,\u001b[49m\u001b[43m \u001b[49m\u001b[43mevent\u001b[49m\u001b[43m,\u001b[49m\u001b[43m \u001b[49m\u001b[43marg\u001b[49m\u001b[43m,\u001b[49m\u001b[43m \u001b[49m\u001b[43msuspend_type\u001b[49m\u001b[43m,\u001b[49m\u001b[43m \u001b[49m\u001b[43mfrom_this_thread\u001b[49m\u001b[43m,\u001b[49m\u001b[43m \u001b[49m\u001b[43mframes_tracker\u001b[49m\u001b[43m)\u001b[49m\n\u001b[0;32m   2072\u001b[0m frames_list \u001b[38;5;241m=\u001b[39m \u001b[38;5;28;01mNone\u001b[39;00m\n\u001b[0;32m   2074\u001b[0m \u001b[38;5;28;01mif\u001b[39;00m keep_suspended:\n\u001b[0;32m   2075\u001b[0m     \u001b[38;5;66;03m# This means that we should pause again after a set next statement.\u001b[39;00m\n",
      "File \u001b[1;32m~\\AppData\\Roaming\\Python\\Python310\\site-packages\\debugpy\\_vendored\\pydevd\\pydevd.py:2106\u001b[0m, in \u001b[0;36mPyDB._do_wait_suspend\u001b[1;34m(self, thread, frame, event, arg, suspend_type, from_this_thread, frames_tracker)\u001b[0m\n\u001b[0;32m   2103\u001b[0m         \u001b[38;5;28mself\u001b[39m\u001b[38;5;241m.\u001b[39m_call_input_hook()\n\u001b[0;32m   2105\u001b[0m     \u001b[38;5;28mself\u001b[39m\u001b[38;5;241m.\u001b[39mprocess_internal_commands()\n\u001b[1;32m-> 2106\u001b[0m     \u001b[43mtime\u001b[49m\u001b[38;5;241;43m.\u001b[39;49m\u001b[43msleep\u001b[49m\u001b[43m(\u001b[49m\u001b[38;5;241;43m0.01\u001b[39;49m\u001b[43m)\u001b[49m\n\u001b[0;32m   2108\u001b[0m \u001b[38;5;28mself\u001b[39m\u001b[38;5;241m.\u001b[39mcancel_async_evaluation(get_current_thread_id(thread), \u001b[38;5;28mstr\u001b[39m(\u001b[38;5;28mid\u001b[39m(frame)))\n\u001b[0;32m   2110\u001b[0m \u001b[38;5;66;03m# process any stepping instructions\u001b[39;00m\n",
      "\u001b[1;31mKeyboardInterrupt\u001b[0m: "
     ]
    }
   ],
   "source": [
    "results = campeonato(player, player_rl)\n",
    "print(\"Draw = %i, Acaso = %i, RL = %i\" % results)\n",
    "\n",
    "results = campeonato(player_rl, player)\n",
    "print(\"Draw = %i, RL = %i, Acaso = %i\" % results)"
   ]
  },
  {
   "cell_type": "code",
   "execution_count": 92,
   "metadata": {
    "colab": {
     "base_uri": "https://localhost:8080/",
     "height": 216,
     "referenced_widgets": [
      "9a843f842f6641319fdfef0d5d3577c9",
      "02330825d3724ca5979155c2bbde3bce",
      "9553dbbc15504416807baab918ca92a8",
      "a1cd43cae9ba46c48e22c5a66a1bebe7",
      "4c21e254965b464299b54d3313fe88e2",
      "85f60442359a4035b42e3672216362db",
      "f5080053ba5041d98382829f642ad603"
     ]
    },
    "id": "99-SatmcYsEO",
    "outputId": "055c3457-39f5-4d69-9020-d8b5255ad340"
   },
   "outputs": [
    {
     "data": {
      "application/vnd.jupyter.widget-view+json": {
       "model_id": "3ed717c34bd34ce6838b115a206656a4",
       "version_major": 2,
       "version_minor": 0
      },
      "text/plain": [
       "interactive(children=(IntSlider(value=2, description='frame', max=5), Output()), _dom_classes=('widget-interac…"
      ]
     },
     "metadata": {},
     "output_type": "display_data"
    },
    {
     "data": {
      "text/plain": [
       "<function tic_tac_toe.display_sequence.<locals>._show(frame=(0, 5))>"
      ]
     },
     "execution_count": 92,
     "metadata": {},
     "output_type": "execute_result"
    }
   ],
   "source": [
    "result, history = ttt.game(player, player_rl)\n",
    "images = ttt.generate_image_history(history)\n",
    "ttt.display_sequence(images)"
   ]
  },
  {
   "cell_type": "markdown",
   "metadata": {
    "id": "CDtM8Z8Y3yA_"
   },
   "source": [
    "O jogador ficou melhor do que era antes? A distribuição de vitórias e derrotas é melhor do que o jogador ao acaso?"
   ]
  },
  {
   "cell_type": "markdown",
   "metadata": {
    "id": "LFi5eEGO37AK"
   },
   "source": [
    "# Desafiando Humanos"
   ]
  },
  {
   "cell_type": "markdown",
   "metadata": {
    "id": "0mxeIBzKVOW8"
   },
   "source": [
    "Que tal agora desafiar um humano? Vamos gerar um código que torne isso possível, não faremos nada muito mirabolante, apenas trocaremos as chamadas de **print** para **display(board)**.\n"
   ]
  },
  {
   "cell_type": "code",
   "execution_count": 93,
   "metadata": {
    "id": "u_exnz7y4BHu"
   },
   "outputs": [],
   "source": [
    "def human_player(tab, turn) :\n",
    "    valids  = ttt.get_valid_moves(tab)\n",
    "    print(valids)\n",
    "\n",
    "    board = ttt.draw_board( tab )\n",
    "    display(board)\n",
    "    move = int(input())\n",
    "\n",
    "    while not move in valids :\n",
    "        move = int(input())\n",
    "    return turn, move"
   ]
  },
  {
   "cell_type": "code",
   "execution_count": 94,
   "metadata": {
    "colab": {
     "base_uri": "https://localhost:8080/",
     "height": 721
    },
    "id": "Oqn8XI7cP44i",
    "outputId": "244910b8-c837-4335-e390-a6eff9dcae84"
   },
   "outputs": [],
   "source": [
    "# result, history = ttt.game(player_rl, human_player)\n",
    "# ttt.draw_board(history[-1])"
   ]
  },
  {
   "cell_type": "code",
   "execution_count": 95,
   "metadata": {
    "colab": {
     "base_uri": "https://localhost:8080/",
     "height": 216,
     "referenced_widgets": [
      "34f6353535f440a8baa16da1e9e74dfb",
      "72a4c3d6e2d8486eb6796b3d39ae8a87",
      "f06a4f113689458b8d2ef7e5a84a8b8e",
      "3abd95f29c5d4f6a956bd014746f33d7",
      "ca2f19c57e1b477abadac1111701178b",
      "ab33d08265d74bcdb1778653a069d25d",
      "f31fa37544104ab99b3a9223875c7051"
     ]
    },
    "id": "lgiYWJdX4YwL",
    "outputId": "c9cd143e-c9c6-4b77-e4a4-7d3e84f80e70"
   },
   "outputs": [
    {
     "data": {
      "application/vnd.jupyter.widget-view+json": {
       "model_id": "5ccddd1d0ef84770aa6035d19138c6a5",
       "version_major": 2,
       "version_minor": 0
      },
      "text/plain": [
       "interactive(children=(IntSlider(value=2, description='frame', max=5), Output()), _dom_classes=('widget-interac…"
      ]
     },
     "metadata": {},
     "output_type": "display_data"
    },
    {
     "data": {
      "text/plain": [
       "<function tic_tac_toe.display_sequence.<locals>._show(frame=(0, 5))>"
      ]
     },
     "execution_count": 95,
     "metadata": {},
     "output_type": "execute_result"
    }
   ],
   "source": [
    "images = ttt.generate_image_history(history)\n",
    "ttt.display_sequence(images)"
   ]
  },
  {
   "cell_type": "code",
   "execution_count": 96,
   "metadata": {
    "colab": {
     "base_uri": "https://localhost:8080/"
    },
    "id": "PSdgWd9jCI8-",
    "outputId": "599dec8c-22fc-4769-e8e7-ef30aa6c21a0"
   },
   "outputs": [
    {
     "data": {
      "text/plain": [
       "4518"
      ]
     },
     "execution_count": 96,
     "metadata": {},
     "output_type": "execute_result"
    }
   ],
   "source": [
    "len(state_values)"
   ]
  }
 ],
 "metadata": {
  "colab": {
   "provenance": []
  },
  "kernelspec": {
   "display_name": "Python 3",
   "name": "python3"
  },
  "language_info": {
   "codemirror_mode": {
    "name": "ipython",
    "version": 3
   },
   "file_extension": ".py",
   "mimetype": "text/x-python",
   "name": "python",
   "nbconvert_exporter": "python",
   "pygments_lexer": "ipython3",
   "version": "3.10.8"
  },
  "widgets": {
   "application/vnd.jupyter.widget-state+json": {
    "02330825d3724ca5979155c2bbde3bce": {
     "model_module": "@jupyter-widgets/controls",
     "model_module_version": "1.5.0",
     "model_name": "IntSliderModel",
     "state": {
      "_dom_classes": [],
      "_model_module": "@jupyter-widgets/controls",
      "_model_module_version": "1.5.0",
      "_model_name": "IntSliderModel",
      "_view_count": null,
      "_view_module": "@jupyter-widgets/controls",
      "_view_module_version": "1.5.0",
      "_view_name": "IntSliderView",
      "continuous_update": true,
      "description": "frame",
      "description_tooltip": null,
      "disabled": false,
      "layout": "IPY_MODEL_4c21e254965b464299b54d3313fe88e2",
      "max": 8,
      "min": 0,
      "orientation": "horizontal",
      "readout": true,
      "readout_format": "d",
      "step": 1,
      "style": "IPY_MODEL_85f60442359a4035b42e3672216362db",
      "value": 8
     }
    },
    "34f6353535f440a8baa16da1e9e74dfb": {
     "model_module": "@jupyter-widgets/controls",
     "model_module_version": "1.5.0",
     "model_name": "VBoxModel",
     "state": {
      "_dom_classes": [
       "widget-interact"
      ],
      "_model_module": "@jupyter-widgets/controls",
      "_model_module_version": "1.5.0",
      "_model_name": "VBoxModel",
      "_view_count": null,
      "_view_module": "@jupyter-widgets/controls",
      "_view_module_version": "1.5.0",
      "_view_name": "VBoxView",
      "box_style": "",
      "children": [
       "IPY_MODEL_72a4c3d6e2d8486eb6796b3d39ae8a87",
       "IPY_MODEL_f06a4f113689458b8d2ef7e5a84a8b8e"
      ],
      "layout": "IPY_MODEL_3abd95f29c5d4f6a956bd014746f33d7"
     }
    },
    "3abd95f29c5d4f6a956bd014746f33d7": {
     "model_module": "@jupyter-widgets/base",
     "model_module_version": "1.2.0",
     "model_name": "LayoutModel",
     "state": {
      "_model_module": "@jupyter-widgets/base",
      "_model_module_version": "1.2.0",
      "_model_name": "LayoutModel",
      "_view_count": null,
      "_view_module": "@jupyter-widgets/base",
      "_view_module_version": "1.2.0",
      "_view_name": "LayoutView",
      "align_content": null,
      "align_items": null,
      "align_self": null,
      "border": null,
      "bottom": null,
      "display": null,
      "flex": null,
      "flex_flow": null,
      "grid_area": null,
      "grid_auto_columns": null,
      "grid_auto_flow": null,
      "grid_auto_rows": null,
      "grid_column": null,
      "grid_gap": null,
      "grid_row": null,
      "grid_template_areas": null,
      "grid_template_columns": null,
      "grid_template_rows": null,
      "height": null,
      "justify_content": null,
      "justify_items": null,
      "left": null,
      "margin": null,
      "max_height": null,
      "max_width": null,
      "min_height": null,
      "min_width": null,
      "object_fit": null,
      "object_position": null,
      "order": null,
      "overflow": null,
      "overflow_x": null,
      "overflow_y": null,
      "padding": null,
      "right": null,
      "top": null,
      "visibility": null,
      "width": null
     }
    },
    "4c21e254965b464299b54d3313fe88e2": {
     "model_module": "@jupyter-widgets/base",
     "model_module_version": "1.2.0",
     "model_name": "LayoutModel",
     "state": {
      "_model_module": "@jupyter-widgets/base",
      "_model_module_version": "1.2.0",
      "_model_name": "LayoutModel",
      "_view_count": null,
      "_view_module": "@jupyter-widgets/base",
      "_view_module_version": "1.2.0",
      "_view_name": "LayoutView",
      "align_content": null,
      "align_items": null,
      "align_self": null,
      "border": null,
      "bottom": null,
      "display": null,
      "flex": null,
      "flex_flow": null,
      "grid_area": null,
      "grid_auto_columns": null,
      "grid_auto_flow": null,
      "grid_auto_rows": null,
      "grid_column": null,
      "grid_gap": null,
      "grid_row": null,
      "grid_template_areas": null,
      "grid_template_columns": null,
      "grid_template_rows": null,
      "height": null,
      "justify_content": null,
      "justify_items": null,
      "left": null,
      "margin": null,
      "max_height": null,
      "max_width": null,
      "min_height": null,
      "min_width": null,
      "object_fit": null,
      "object_position": null,
      "order": null,
      "overflow": null,
      "overflow_x": null,
      "overflow_y": null,
      "padding": null,
      "right": null,
      "top": null,
      "visibility": null,
      "width": null
     }
    },
    "72a4c3d6e2d8486eb6796b3d39ae8a87": {
     "model_module": "@jupyter-widgets/controls",
     "model_module_version": "1.5.0",
     "model_name": "IntSliderModel",
     "state": {
      "_dom_classes": [],
      "_model_module": "@jupyter-widgets/controls",
      "_model_module_version": "1.5.0",
      "_model_name": "IntSliderModel",
      "_view_count": null,
      "_view_module": "@jupyter-widgets/controls",
      "_view_module_version": "1.5.0",
      "_view_name": "IntSliderView",
      "continuous_update": true,
      "description": "frame",
      "description_tooltip": null,
      "disabled": false,
      "layout": "IPY_MODEL_ca2f19c57e1b477abadac1111701178b",
      "max": 6,
      "min": 0,
      "orientation": "horizontal",
      "readout": true,
      "readout_format": "d",
      "step": 1,
      "style": "IPY_MODEL_ab33d08265d74bcdb1778653a069d25d",
      "value": 3
     }
    },
    "79e40d6a16ff4b5688b504dea491760e": {
     "model_module": "@jupyter-widgets/output",
     "model_module_version": "1.0.0",
     "model_name": "OutputModel",
     "state": {
      "_dom_classes": [],
      "_model_module": "@jupyter-widgets/output",
      "_model_module_version": "1.0.0",
      "_model_name": "OutputModel",
      "_view_count": null,
      "_view_module": "@jupyter-widgets/output",
      "_view_module_version": "1.0.0",
      "_view_name": "OutputView",
      "layout": "IPY_MODEL_dd399764f76a476ba3e350721d784eae",
      "msg_id": "",
      "outputs": [
       {
        "data": {
         "image/png": "iVBORw0KGgoAAAANSUhEUgAAAJYAAACWCAIAAACzY+a1AAAEc0lEQVR4nO2d2ZabMBBEy5z5cD49D3Y8xAahpbvVpdR9ysygrS8CCQnywF/2fUcCjtXorlIh4XieSQL15uf9r33fp1dupAKVaU1OkVRsxx/mNmmkf/SlzXDWjrN9tGFWkyY6YBf5g682xDepo7hyko574fP3jC5fF9KJfbGj6IKG2/OvfAyxQkyyaOKvxtxpPqep6CyWhjPejbHyZ1sNkzwj2T5+DrM47s/wnv2dFZHFT4UIsWjiz7A+YUV4cKIQzo3J6S+4IEPOFcKtMZn9TSlunEuFcGjMeIZTxsnJKSmEqcW+rDJEM0MdCtwohJFFj0xcSa7tyL1CDAvoTn48Mj6mc0uvp0ohjDQ0JRSV1CoEw2Dy/6RBIRqV+A2FwqA459oUolqM+l8YzQpRoUf+IulRiKIk7wcCweQ//zoV4kKV+l88/QpxJ0z+YhhSiOrhjPBjVCH4V73ZkUJ6dCGlR8MZejSpoEdT+9Sl16AHbPToMTc9WmzKWG4TWvKlRxsv6NH2p6Sl16NNiPPLGuRGod+QpDKrDKHMUIcCJYXek/SODGOimdzZB5cKnYYh+Ye1dOOvc4Wuzchskc4f9IpocBEefCrMfL5/JzG8vJP6gz6X4JRnJL8Kp5yGVhY7euRVKi5/AB57gqXaq+IK1SjX0DVhNsevD3gdfxVfxb4+hC735QwZ2ab7GynXZERjOCwSQgjByCPhbSDVQD9VZU5p2HgxEa5BVjAcCjF71T4zqRVOnPAkmWvVkFoheB77TSS7QjA8fJ8LgULkXgKbDodCaMn3GhqFyLcdJAlMCpFpU1YeyBQi5dbIufAphGnQ2f2BVCGMQr+AP/AqxLCANfyBWiEGNCzjD+wKkXVXcST0CtGoZDF/WEMhqsWs5w/LKESFniX9YSWFKEpa1R8WU4gLVQv7w3oKcSdsMX9YUiFMN+rnZ02FYNg8aIUU0rOmQl1IudFwhhtNKrjR1J4bPWDjRo+5udFiEzda8uVW2C1jJYvECgc1LGORVaGJgDUsUio0DP0CFvkUmged3SKZQqdwU1tkUugaaF6LNAoDQkxqkUNhWHAZLRIoDA4rncXsCqcElMtiaoUTQ0lkMbXCI/FBzKztCIfCWdFksSiEEGKEtq8CD94bKpO/D0t1K8pZKzz/n4oaTOq9n+3qFIPcKyxHvPDXqz9JpC03CssaKtOeHrzvuyyaUFL4HeK+oF+5lEUTLqf2Vv688xTnCv26y3dWsjjIiUItrnLxqVCLq3T8o1CLq4w0DGc8kLZxfhVmiGaGOtBRNSJ1RdoGeSk8xnHu+riMtsKxai8KbNCJT87NvDAMnUbd6EJKjxTSs+UZDepa2od6IT1SSI8U0iOF9EghPVJIjxTSI4X0aGpPj3ohPVJIjxab6NGSLz26kNKj7U/0aBMiPdoKTI825NOj12Lo0ctp9OgVUXr0ojY9+lwCPTcfLbnqMU2hvzpY/ky4/3TQaaBrXJYNyZ8VtR/wMuxJkmdL22f0BqMveR7UKnzSLVLy/PgDtt2RYoztTvYAAAAASUVORK5CYII=\n",
         "text/plain": "<PIL.Image.Image image mode=RGB size=150x150>"
        },
        "metadata": {},
        "output_type": "display_data"
       }
      ]
     }
    },
    "7a3e15f9663347cca6f40324477a9d73": {
     "model_module": "@jupyter-widgets/controls",
     "model_module_version": "1.5.0",
     "model_name": "SliderStyleModel",
     "state": {
      "_model_module": "@jupyter-widgets/controls",
      "_model_module_version": "1.5.0",
      "_model_name": "SliderStyleModel",
      "_view_count": null,
      "_view_module": "@jupyter-widgets/base",
      "_view_module_version": "1.2.0",
      "_view_name": "StyleView",
      "description_width": "",
      "handle_color": null
     }
    },
    "85f60442359a4035b42e3672216362db": {
     "model_module": "@jupyter-widgets/controls",
     "model_module_version": "1.5.0",
     "model_name": "SliderStyleModel",
     "state": {
      "_model_module": "@jupyter-widgets/controls",
      "_model_module_version": "1.5.0",
      "_model_name": "SliderStyleModel",
      "_view_count": null,
      "_view_module": "@jupyter-widgets/base",
      "_view_module_version": "1.2.0",
      "_view_name": "StyleView",
      "description_width": "",
      "handle_color": null
     }
    },
    "9553dbbc15504416807baab918ca92a8": {
     "model_module": "@jupyter-widgets/output",
     "model_module_version": "1.0.0",
     "model_name": "OutputModel",
     "state": {
      "_dom_classes": [],
      "_model_module": "@jupyter-widgets/output",
      "_model_module_version": "1.0.0",
      "_model_name": "OutputModel",
      "_view_count": null,
      "_view_module": "@jupyter-widgets/output",
      "_view_module_version": "1.0.0",
      "_view_name": "OutputView",
      "layout": "IPY_MODEL_f5080053ba5041d98382829f642ad603",
      "msg_id": "",
      "outputs": [
       {
        "data": {
         "image/png": "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\n",
         "text/plain": "<PIL.Image.Image image mode=RGB size=150x150>"
        },
        "metadata": {},
        "output_type": "display_data"
       }
      ]
     }
    },
    "9a843f842f6641319fdfef0d5d3577c9": {
     "model_module": "@jupyter-widgets/controls",
     "model_module_version": "1.5.0",
     "model_name": "VBoxModel",
     "state": {
      "_dom_classes": [
       "widget-interact"
      ],
      "_model_module": "@jupyter-widgets/controls",
      "_model_module_version": "1.5.0",
      "_model_name": "VBoxModel",
      "_view_count": null,
      "_view_module": "@jupyter-widgets/controls",
      "_view_module_version": "1.5.0",
      "_view_name": "VBoxView",
      "box_style": "",
      "children": [
       "IPY_MODEL_02330825d3724ca5979155c2bbde3bce",
       "IPY_MODEL_9553dbbc15504416807baab918ca92a8"
      ],
      "layout": "IPY_MODEL_a1cd43cae9ba46c48e22c5a66a1bebe7"
     }
    },
    "a1cd43cae9ba46c48e22c5a66a1bebe7": {
     "model_module": "@jupyter-widgets/base",
     "model_module_version": "1.2.0",
     "model_name": "LayoutModel",
     "state": {
      "_model_module": "@jupyter-widgets/base",
      "_model_module_version": "1.2.0",
      "_model_name": "LayoutModel",
      "_view_count": null,
      "_view_module": "@jupyter-widgets/base",
      "_view_module_version": "1.2.0",
      "_view_name": "LayoutView",
      "align_content": null,
      "align_items": null,
      "align_self": null,
      "border": null,
      "bottom": null,
      "display": null,
      "flex": null,
      "flex_flow": null,
      "grid_area": null,
      "grid_auto_columns": null,
      "grid_auto_flow": null,
      "grid_auto_rows": null,
      "grid_column": null,
      "grid_gap": null,
      "grid_row": null,
      "grid_template_areas": null,
      "grid_template_columns": null,
      "grid_template_rows": null,
      "height": null,
      "justify_content": null,
      "justify_items": null,
      "left": null,
      "margin": null,
      "max_height": null,
      "max_width": null,
      "min_height": null,
      "min_width": null,
      "object_fit": null,
      "object_position": null,
      "order": null,
      "overflow": null,
      "overflow_x": null,
      "overflow_y": null,
      "padding": null,
      "right": null,
      "top": null,
      "visibility": null,
      "width": null
     }
    },
    "aa19d2ff438941aa9a44eb106d3f1886": {
     "model_module": "@jupyter-widgets/base",
     "model_module_version": "1.2.0",
     "model_name": "LayoutModel",
     "state": {
      "_model_module": "@jupyter-widgets/base",
      "_model_module_version": "1.2.0",
      "_model_name": "LayoutModel",
      "_view_count": null,
      "_view_module": "@jupyter-widgets/base",
      "_view_module_version": "1.2.0",
      "_view_name": "LayoutView",
      "align_content": null,
      "align_items": null,
      "align_self": null,
      "border": null,
      "bottom": null,
      "display": null,
      "flex": null,
      "flex_flow": null,
      "grid_area": null,
      "grid_auto_columns": null,
      "grid_auto_flow": null,
      "grid_auto_rows": null,
      "grid_column": null,
      "grid_gap": null,
      "grid_row": null,
      "grid_template_areas": null,
      "grid_template_columns": null,
      "grid_template_rows": null,
      "height": null,
      "justify_content": null,
      "justify_items": null,
      "left": null,
      "margin": null,
      "max_height": null,
      "max_width": null,
      "min_height": null,
      "min_width": null,
      "object_fit": null,
      "object_position": null,
      "order": null,
      "overflow": null,
      "overflow_x": null,
      "overflow_y": null,
      "padding": null,
      "right": null,
      "top": null,
      "visibility": null,
      "width": null
     }
    },
    "ab33d08265d74bcdb1778653a069d25d": {
     "model_module": "@jupyter-widgets/controls",
     "model_module_version": "1.5.0",
     "model_name": "SliderStyleModel",
     "state": {
      "_model_module": "@jupyter-widgets/controls",
      "_model_module_version": "1.5.0",
      "_model_name": "SliderStyleModel",
      "_view_count": null,
      "_view_module": "@jupyter-widgets/base",
      "_view_module_version": "1.2.0",
      "_view_name": "StyleView",
      "description_width": "",
      "handle_color": null
     }
    },
    "ca2f19c57e1b477abadac1111701178b": {
     "model_module": "@jupyter-widgets/base",
     "model_module_version": "1.2.0",
     "model_name": "LayoutModel",
     "state": {
      "_model_module": "@jupyter-widgets/base",
      "_model_module_version": "1.2.0",
      "_model_name": "LayoutModel",
      "_view_count": null,
      "_view_module": "@jupyter-widgets/base",
      "_view_module_version": "1.2.0",
      "_view_name": "LayoutView",
      "align_content": null,
      "align_items": null,
      "align_self": null,
      "border": null,
      "bottom": null,
      "display": null,
      "flex": null,
      "flex_flow": null,
      "grid_area": null,
      "grid_auto_columns": null,
      "grid_auto_flow": null,
      "grid_auto_rows": null,
      "grid_column": null,
      "grid_gap": null,
      "grid_row": null,
      "grid_template_areas": null,
      "grid_template_columns": null,
      "grid_template_rows": null,
      "height": null,
      "justify_content": null,
      "justify_items": null,
      "left": null,
      "margin": null,
      "max_height": null,
      "max_width": null,
      "min_height": null,
      "min_width": null,
      "object_fit": null,
      "object_position": null,
      "order": null,
      "overflow": null,
      "overflow_x": null,
      "overflow_y": null,
      "padding": null,
      "right": null,
      "top": null,
      "visibility": null,
      "width": null
     }
    },
    "dd399764f76a476ba3e350721d784eae": {
     "model_module": "@jupyter-widgets/base",
     "model_module_version": "1.2.0",
     "model_name": "LayoutModel",
     "state": {
      "_model_module": "@jupyter-widgets/base",
      "_model_module_version": "1.2.0",
      "_model_name": "LayoutModel",
      "_view_count": null,
      "_view_module": "@jupyter-widgets/base",
      "_view_module_version": "1.2.0",
      "_view_name": "LayoutView",
      "align_content": null,
      "align_items": null,
      "align_self": null,
      "border": null,
      "bottom": null,
      "display": null,
      "flex": null,
      "flex_flow": null,
      "grid_area": null,
      "grid_auto_columns": null,
      "grid_auto_flow": null,
      "grid_auto_rows": null,
      "grid_column": null,
      "grid_gap": null,
      "grid_row": null,
      "grid_template_areas": null,
      "grid_template_columns": null,
      "grid_template_rows": null,
      "height": null,
      "justify_content": null,
      "justify_items": null,
      "left": null,
      "margin": null,
      "max_height": null,
      "max_width": null,
      "min_height": null,
      "min_width": null,
      "object_fit": null,
      "object_position": null,
      "order": null,
      "overflow": null,
      "overflow_x": null,
      "overflow_y": null,
      "padding": null,
      "right": null,
      "top": null,
      "visibility": null,
      "width": null
     }
    },
    "eb38dbf437334983b48d9b3b90c45cf7": {
     "model_module": "@jupyter-widgets/controls",
     "model_module_version": "1.5.0",
     "model_name": "IntSliderModel",
     "state": {
      "_dom_classes": [],
      "_model_module": "@jupyter-widgets/controls",
      "_model_module_version": "1.5.0",
      "_model_name": "IntSliderModel",
      "_view_count": null,
      "_view_module": "@jupyter-widgets/controls",
      "_view_module_version": "1.5.0",
      "_view_name": "IntSliderView",
      "continuous_update": true,
      "description": "frame",
      "description_tooltip": null,
      "disabled": false,
      "layout": "IPY_MODEL_aa19d2ff438941aa9a44eb106d3f1886",
      "max": 7,
      "min": 0,
      "orientation": "horizontal",
      "readout": true,
      "readout_format": "d",
      "step": 1,
      "style": "IPY_MODEL_7a3e15f9663347cca6f40324477a9d73",
      "value": 3
     }
    },
    "ec577471fa2749a68875810b09a7aa6f": {
     "model_module": "@jupyter-widgets/controls",
     "model_module_version": "1.5.0",
     "model_name": "VBoxModel",
     "state": {
      "_dom_classes": [
       "widget-interact"
      ],
      "_model_module": "@jupyter-widgets/controls",
      "_model_module_version": "1.5.0",
      "_model_name": "VBoxModel",
      "_view_count": null,
      "_view_module": "@jupyter-widgets/controls",
      "_view_module_version": "1.5.0",
      "_view_name": "VBoxView",
      "box_style": "",
      "children": [
       "IPY_MODEL_eb38dbf437334983b48d9b3b90c45cf7",
       "IPY_MODEL_79e40d6a16ff4b5688b504dea491760e"
      ],
      "layout": "IPY_MODEL_f38f90cf238441059140a6b58f303ee4"
     }
    },
    "f06a4f113689458b8d2ef7e5a84a8b8e": {
     "model_module": "@jupyter-widgets/output",
     "model_module_version": "1.0.0",
     "model_name": "OutputModel",
     "state": {
      "_dom_classes": [],
      "_model_module": "@jupyter-widgets/output",
      "_model_module_version": "1.0.0",
      "_model_name": "OutputModel",
      "_view_count": null,
      "_view_module": "@jupyter-widgets/output",
      "_view_module_version": "1.0.0",
      "_view_name": "OutputView",
      "layout": "IPY_MODEL_f31fa37544104ab99b3a9223875c7051",
      "msg_id": "",
      "outputs": [
       {
        "data": {
         "image/png": "iVBORw0KGgoAAAANSUhEUgAAAJYAAACWCAIAAACzY+a1AAAEaElEQVR4nO2d3XLjIAxG28w+OI++F53pZmMbhPgQiDnnsjES5sSYH8f9LqV8DVAp7o78W3CwblreK7NJxX6q8cddsuuwTc5ZRSll+Rn9VuDVW8xX9R3OWcva03nPblUocXCYyFXn8pG33ZHWK+q4F/78/QyX8V/Kj3SllMZVWNHQrH39mLwKr424NnVN4bVyFnO3cW5LYVGS9FHhjBbH4ox09wqvBVRVvIbC4mCiG4UBNcOiMMWnwk2+WYmYeiKW4K/KEQv791xMOhFj2I7hzAzyavtAbtEe8GU5KIwd6uBGaLErlGlEOpXU2j6QWOwN8roeF9+ma7NrGbToKN63UwEW3BZ9BV9dOcCIQ4ZbfGNeGMZ5X6MuJSPdLx3pRIxiBm+fKJxLU8/4IPa1z2jwvL70h4okySSEqzCCW1WqpQAUBlEXNtIDoTAO43CmFxSG0hzOOEBhKCjMDR1pbhjO5GbupIKp/WyY2ucmYoGttwDYWbPMzWaTitDNpvOabzkOJW6LdKR63DJ8BXn8Sczgjc1RnIcQlUgmCb1B/incoSl3qIMb4YJLV6jHe2FMa6Z29o7QX2/A/xTK61EnON08Jp2IMWxjXjivWfGnCn7TkQY0Lv6EKUwj0lKKsHPAnzZRx3BGfouWxFzFPuOG2urMbYs7rsinUviTJP1upq8fUPl0vOBWjp8qE1zJq8i2wtuSwkpUDthf4ZIaWu+F12KSe+FWVgZZdS4ntSEAwA5YhzORbD6ciRkA2ot73s0NdSTfvJ8gllAoVCKfQ1tEolDGyNy/3kvXJ2Mo1KBaPnxyWbFondpDhRnLv/aYKBzFfrk4Ij8tbb+DwiEsTTw7BQr9BPizJEKhkzB/zXQoFBCzisRwRskOK3+/dUDhKJE6GZFqeG/H+Mvxmh2F6UFhbkrzn99BhU2enUFhelCYHhQ6WTs1ZHXmKFCYHhSmB4XpQWF6UJgeFKYHhelBoROm9iADhelBoR82m0AAW74ngMJuePzpNHgIMSU8CnwaPJCfEn4WcwL8OO0E+InoCfBD7RO4tuy4RXtMXlqioXLFdOl8OrgSBIUynrpQi8u65vqnKFRSqu/bcvSuliIo1FMX2RUEAAAC4K3AVmZM/tywRqqBZ2dOYO2u/RfPzvgI3mZqpkahhyUWn5Ki0AlbvifAlu8JsOV7AlMtsuUbxCSLxrAo1CC3aA+IQhlCi12hUKhEYrE3CArFDFp0FEehHrdFX0EUTsEhwy0ehbPoUjLS/aJwIkYxg7dPFM6lqWd8EIvC6VQkSSYhKIzgVpVqKQCFQdSFjSzloDAO43CmFxSG0hzOOEBhKCjMDR1pbhjO5IZJRW6Y2ueGBbbcsMydGzabcsOWb27cMnwFUShm8MbmKI5CJZJJQm8QFMoQLrh0hUKhBqG/3oAoFCD31xUWhaNM8mcPjsIhpvozpkChnwB/lkQodBLmr5kOhR6C/dWTorCbJf4qqVE4RKS/24yFF3iNEO/vNi8Knazyd83+F9relF3lMEYyAAAAAElFTkSuQmCC\n",
         "text/plain": "<PIL.Image.Image image mode=RGB size=150x150>"
        },
        "metadata": {},
        "output_type": "display_data"
       }
      ]
     }
    },
    "f31fa37544104ab99b3a9223875c7051": {
     "model_module": "@jupyter-widgets/base",
     "model_module_version": "1.2.0",
     "model_name": "LayoutModel",
     "state": {
      "_model_module": "@jupyter-widgets/base",
      "_model_module_version": "1.2.0",
      "_model_name": "LayoutModel",
      "_view_count": null,
      "_view_module": "@jupyter-widgets/base",
      "_view_module_version": "1.2.0",
      "_view_name": "LayoutView",
      "align_content": null,
      "align_items": null,
      "align_self": null,
      "border": null,
      "bottom": null,
      "display": null,
      "flex": null,
      "flex_flow": null,
      "grid_area": null,
      "grid_auto_columns": null,
      "grid_auto_flow": null,
      "grid_auto_rows": null,
      "grid_column": null,
      "grid_gap": null,
      "grid_row": null,
      "grid_template_areas": null,
      "grid_template_columns": null,
      "grid_template_rows": null,
      "height": null,
      "justify_content": null,
      "justify_items": null,
      "left": null,
      "margin": null,
      "max_height": null,
      "max_width": null,
      "min_height": null,
      "min_width": null,
      "object_fit": null,
      "object_position": null,
      "order": null,
      "overflow": null,
      "overflow_x": null,
      "overflow_y": null,
      "padding": null,
      "right": null,
      "top": null,
      "visibility": null,
      "width": null
     }
    },
    "f38f90cf238441059140a6b58f303ee4": {
     "model_module": "@jupyter-widgets/base",
     "model_module_version": "1.2.0",
     "model_name": "LayoutModel",
     "state": {
      "_model_module": "@jupyter-widgets/base",
      "_model_module_version": "1.2.0",
      "_model_name": "LayoutModel",
      "_view_count": null,
      "_view_module": "@jupyter-widgets/base",
      "_view_module_version": "1.2.0",
      "_view_name": "LayoutView",
      "align_content": null,
      "align_items": null,
      "align_self": null,
      "border": null,
      "bottom": null,
      "display": null,
      "flex": null,
      "flex_flow": null,
      "grid_area": null,
      "grid_auto_columns": null,
      "grid_auto_flow": null,
      "grid_auto_rows": null,
      "grid_column": null,
      "grid_gap": null,
      "grid_row": null,
      "grid_template_areas": null,
      "grid_template_columns": null,
      "grid_template_rows": null,
      "height": null,
      "justify_content": null,
      "justify_items": null,
      "left": null,
      "margin": null,
      "max_height": null,
      "max_width": null,
      "min_height": null,
      "min_width": null,
      "object_fit": null,
      "object_position": null,
      "order": null,
      "overflow": null,
      "overflow_x": null,
      "overflow_y": null,
      "padding": null,
      "right": null,
      "top": null,
      "visibility": null,
      "width": null
     }
    },
    "f5080053ba5041d98382829f642ad603": {
     "model_module": "@jupyter-widgets/base",
     "model_module_version": "1.2.0",
     "model_name": "LayoutModel",
     "state": {
      "_model_module": "@jupyter-widgets/base",
      "_model_module_version": "1.2.0",
      "_model_name": "LayoutModel",
      "_view_count": null,
      "_view_module": "@jupyter-widgets/base",
      "_view_module_version": "1.2.0",
      "_view_name": "LayoutView",
      "align_content": null,
      "align_items": null,
      "align_self": null,
      "border": null,
      "bottom": null,
      "display": null,
      "flex": null,
      "flex_flow": null,
      "grid_area": null,
      "grid_auto_columns": null,
      "grid_auto_flow": null,
      "grid_auto_rows": null,
      "grid_column": null,
      "grid_gap": null,
      "grid_row": null,
      "grid_template_areas": null,
      "grid_template_columns": null,
      "grid_template_rows": null,
      "height": null,
      "justify_content": null,
      "justify_items": null,
      "left": null,
      "margin": null,
      "max_height": null,
      "max_width": null,
      "min_height": null,
      "min_width": null,
      "object_fit": null,
      "object_position": null,
      "order": null,
      "overflow": null,
      "overflow_x": null,
      "overflow_y": null,
      "padding": null,
      "right": null,
      "top": null,
      "visibility": null,
      "width": null
     }
    }
   }
  }
 },
 "nbformat": 4,
 "nbformat_minor": 0
}
