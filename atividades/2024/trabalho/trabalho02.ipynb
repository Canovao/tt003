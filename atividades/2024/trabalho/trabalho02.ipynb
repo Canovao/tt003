{
 "cells": [
  {
   "cell_type": "markdown",
   "metadata": {
    "id": "hNHiTpWV3K0Z"
   },
   "source": [
    "\n",
    "Neste trabalho, vamos tentar representar outro jogo  de tabuleiro com o conhecimento que temos da linguagem Python. Este notebook oferecerá a você uma maneira de utilizar as estruturas de dados que já vêm por padrão na linguagem Python para representar o tabuleiro, as jogadas válidas e criar um jogador que faz jogadas ao acaso. A forma de representação criada neste notebook pode (e deve) ser modificada por você se concluir que outras formas são mais eficientes. Você pode optar, por exemplo, em usar algo mais próximo do que o que foi feito em sala de aula (representação do tabuleiro como tuplas de números inteiros) para o jogo da velha.\n",
    "\n",
    "\n",
    "# Breakthrough\n",
    "\n",
    "Breakthrough é um jogo de estratégia que possui algumas similaridades com xadrez e damas. O jogo precisa de dois jogadores (peças brancas e pretas), e um tabuleiro semelhante ao dos jogos de xadrez e damas.\n",
    "\n",
    "Nesse tabuleiro, o número de linhas e colunas poderá variar. Para identificar uma posição no tabuleiro usaremos o padrão (linha,coluna). A posição (1,1) será sempre a que está no canto inferior esquerdo das brancas e as outras posições serão numeradas a partir dela.\n",
    "\n",
    "## Movimentação e Captura\n",
    "\n",
    "O breakthrough possui apenas um tipo de peça que pode se mover um quadrado para frente ou para a diagonal, mas sempre em direção ao campo adversário. Em outras palavras, uma peça jamais pode retroceder ou se movimentar para outra posição na mesma linha. Isso ajuda a  garantir que o jogo não será infinito.\n",
    "\n",
    "Uma peça pode mover-se para uma posição ocupada pelo adversário se, e somente se, a posição do adversário está diagonalmente a um quadrado de distância. Neste caso, a peça do oponente será removida do tabuleiro (capturada) e o  jogador ocupará a casa com a sua peça. A figura a seguir ilustra os dois conceitos.\n",
    "\n",
    "\n",
    "![alt text](http://www.ic.unicamp.br/~udias/si202/movcapt.png)\n",
    "\n",
    "Na figura acima, a peça que está em (4,2) pode mover para as casas (5,1), (5,2) e (5,3), que estão marcadas com um \"x\". A peça que está em (4,6) pode capturar as peças pretas que estão em (5,5) e (5,7).\n",
    "\n",
    "Vale ressaltar que a captura não é obrigatória e não pode ser efetuada em cadeia (como no jogo de damas).\n",
    "\n",
    "## Fim de Jogo\n",
    "\n",
    "O jogo acaba quando um dos jogadores consegue colocar uma peça na sua última linha. Ou seja, o objetivo das brancas é colocar uma peça na linha $n$, onde $n$ é o número de linhas, e o objetivo das pretas é colocar uma peça na linha 1.\n",
    "\n",
    "Quando um dos jogadores não possuir mais nenhuma peça no tabuleiro, será considerado perdedor, pois não poderá mais atingir o objetivo do jogo e não conseguirá evitar que o adversário o atinja.\n",
    "\n",
    "Um ponto que deve ser observado é que **o jogo nunca terminará empatado**, pois uma peça nunca pode retroceder e é sempre possível encontrar pelo menos uma diagonal para onde possa se movimentar ou capturar.\n",
    "\n",
    "\n",
    "\n"
   ]
  },
  {
   "cell_type": "markdown",
   "metadata": {
    "id": "uRQi1-8jqTlZ"
   },
   "source": [
    "### Jogadores\n",
    "\n",
    "O breaktrough, assim como todos os jogos que usaremos nesta disciplina, vão ser jogados por dois jogadores. Seguiremos um padrão para nomear os jogadores:\n",
    "\n",
    "**O jogador que inicia a partida será chamado de \"1\", o outro jogador será chamado de \"-1\"**\n",
    "\n",
    "Como no breaktrough as peças **brancas** começam, então o jogador que conduz as peças brancas será o jogador **1**, enquanto que o jogador que conduz as peças pretas será chamado de **-1**.\n",
    "\n",
    "Lembre-se que todos os jogos desta disciplina são em turnos, então esse padrão poderá ser seguido por você em seu trabalho, a não ser que uma razão muito boa o faça mudar de ideia."
   ]
  },
  {
   "cell_type": "markdown",
   "metadata": {
    "id": "gVR5edFeK6RX"
   },
   "source": [
    "## Biblioteca de suporte\n",
    "\n",
    "Uma biblioteca foi criada especificamente para este jogo e está disponível para você no github. No trabalho, você deve importar esta biblioteca e entender o que ela faz."
   ]
  },
  {
   "cell_type": "code",
   "execution_count": 6,
   "metadata": {},
   "outputs": [
    {
     "data": {
      "text/plain": [
       "'breakthrough.py'"
      ]
     },
     "execution_count": 6,
     "metadata": {},
     "output_type": "execute_result"
    }
   ],
   "source": [
    "import wget\n",
    "\n",
    "wget.download('https://raw.githubusercontent.com/ulissesdias/tt003/main/libraries/breakthrough.py')\n"
   ]
  },
  {
   "cell_type": "code",
   "execution_count": 7,
   "metadata": {
    "id": "syO4WUwPWmlJ"
   },
   "outputs": [],
   "source": [
    "import breakthrough as bkt"
   ]
  },
  {
   "cell_type": "markdown",
   "metadata": {
    "id": "NOKsyXFl9FTA"
   },
   "source": [
    "# Representação Visual do Tabuleiro\n",
    "\n",
    "Vamos fazer a representação visual do tabuleiro, você notará que não difere muito do que aprendemos para o jogo da velha.\n",
    "\n",
    "Foram implementadas uma série de funções que você pode fazer uso. Uma dessas funções é a **draw_board(lines, columns, white_positions, black_positions)**, que recebe as configurações de um tabuleiro e imprime esse tabuleiro no kernel. Os parâmetros para essa função são explicados abaixo.\n",
    "\n",
    "**lines:** número de linhas no tabuleiro.\n",
    "\n",
    "**columns:** número de colunas no tabuleiro.\n",
    "\n",
    "**white_positions:** posição das peças brancas.\n",
    "\n",
    "**black_positions:** posição das peças pretas.\n",
    "\n",
    "Um exemplo da chamada da função será mostrado a seguir."
   ]
  },
  {
   "cell_type": "code",
   "execution_count": 3,
   "metadata": {
    "colab": {
     "base_uri": "https://localhost:8080/",
     "height": 217
    },
    "id": "_N_ejZR_-cTe",
    "outputId": "3a68f647-6772-45d8-c84d-b037dac2faff"
   },
   "outputs": [
    {
     "data": {
      "image/png": "[encoded data removed]",
      "text/plain": [
       "<PIL.Image.Image image mode=RGB size=200x200>"
      ]
     },
     "metadata": {},
     "output_type": "display_data"
    }
   ],
   "source": [
    "board = bkt.draw_board(4,5,((1,1),(2,2),(2,3)), ((3,3),(4,4),(2,4)))\n",
    "display(board)"
   ]
  },
  {
   "cell_type": "markdown",
   "metadata": {
    "id": "pNX1mzdhZCm6"
   },
   "source": [
    "## Sequência de Jogadas\n",
    "\n",
    "Será muito mais fácil para nós entendermos o jogo se tivermos uma maneira de visualizar uma partida inteira. Para isso, vamos usar a função **display_sequence**\n"
   ]
  },
  {
   "cell_type": "code",
   "execution_count": 4,
   "metadata": {
    "colab": {
     "base_uri": "https://localhost:8080/",
     "height": 266,
     "referenced_widgets": [
      "42cc0931a75547dabc303d4b56a918c8",
      "1b3431c6b6d5443aa90e5d820998782c",
      "e58093f6c6d242fe8c76ae3a8bf44dbb",
      "031240d152764d35a55156f3de06fc31",
      "63326557bf04412fa7d8906569bb2f24",
      "5990f08b1ae641d29429b767d577b991",
      "1378b644c7d1418ba67b2aadaedde947"
     ]
    },
    "id": "Uj1zFpS2ZKf8",
    "outputId": "5546b553-5d4c-4df3-8cc4-687c52841de0"
   },
   "outputs": [
    {
     "data": {
      "application/vnd.jupyter.widget-view+json": {
       "model_id": "42cc0931a75547dabc303d4b56a918c8",
       "version_major": 2,
       "version_minor": 0
      },
      "text/plain": [
       "interactive(children=(IntSlider(value=2, description='frame', max=5), Output()), _dom_classes=('widget-interac…"
      ]
     },
     "metadata": {},
     "output_type": "display_data"
    },
    {
     "data": {
      "text/plain": [
       "<function breakthrough.display_sequence.<locals>._show(frame=(0, 5))>"
      ]
     },
     "execution_count": 4,
     "metadata": {},
     "output_type": "execute_result"
    }
   ],
   "source": [
    "images = [\n",
    "    bkt.draw_board(4,5,((1,1),(2,2),(2,3)), ((3,3),(4,4),(2,4))),\n",
    "    bkt.draw_board(4,5,((2,1),(2,2),(2,3)), ((3,3),(4,4),(2,4))),\n",
    "    bkt.draw_board(4,5,((2,1),(2,3)), ((2,2),(4,4),(2,4))),\n",
    "    bkt.draw_board(4,5,((3,1),(2,3)), ((2,2),(4,4),(2,4))),\n",
    "    bkt.draw_board(4,5,((3,1),(2,3)), ((2,2),(3,4),(2,4))),\n",
    "    bkt.draw_board(4,5,((4,1),(2,3)), ((2,2),(3,4),(2,4))),\n",
    "]\n",
    "bkt.display_sequence(images)"
   ]
  },
  {
   "cell_type": "markdown",
   "metadata": {
    "id": "ShzcMNNUB0jW"
   },
   "source": [
    "# Implementando o Jogo\n",
    "\n",
    "Vamos começar a implementar o jogo propriamente dito para que seja possível posteriormente criar um jogador com aprendizado por reforço. Em sala de aula, aprendemos que para isso precisamos de dois itens principais:\n",
    "\n",
    "1. Identificar quando um jogo acabou e representar as condições de vitória.\n",
    "2. Identificar as jogadas válidas para cada estado (ações possíveis).\n"
   ]
  },
  {
   "cell_type": "code",
   "execution_count": 5,
   "metadata": {
    "colab": {
     "base_uri": "https://localhost:8080/"
    },
    "id": "dMK5JwcsvzBi",
    "outputId": "590a0ba8-7001-4679-b349-397bf4175507"
   },
   "outputs": [
    {
     "data": {
      "text/plain": [
       "1"
      ]
     },
     "execution_count": 5,
     "metadata": {},
     "output_type": "execute_result"
    }
   ],
   "source": [
    "## Brancas vencem a partida\n",
    "bkt.winner(4,5,((4,1),(2,3)), ((2,2),(3,4),(2,4)))"
   ]
  },
  {
   "cell_type": "code",
   "execution_count": 6,
   "metadata": {
    "colab": {
     "base_uri": "https://localhost:8080/"
    },
    "id": "4Ep-cBXKOXps",
    "outputId": "86d06524-a03d-4f1c-ce0c-2872d7d1e6c1"
   },
   "outputs": [
    {
     "data": {
      "text/plain": [
       "0"
      ]
     },
     "execution_count": 6,
     "metadata": {},
     "output_type": "execute_result"
    }
   ],
   "source": [
    "## Partida não acabou\n",
    "bkt.winner(4,5,((2,1),(2,3)), ((2,2),(4,4),(2,4)))"
   ]
  },
  {
   "cell_type": "markdown",
   "metadata": {
    "id": "6gVVVDkMzkhY"
   },
   "source": [
    "## Jogadas Válidas para cada estado\n",
    "\n",
    "A biblioteca implementa também a função **get_valid_moves**. Nesse caso, você deverá passar as configurações do tabuleiro (**linhas**, **colunas**, **posições das brancas**, e **posições das pretas**), além de quem tem a vez de jogar. A função devolverá a posição inicial e a final das peças que podem ser movidas. Vamos supor o seguinte tabuleiro e ver quais jogadas poderiam ser feitas pelas brancas e pretas:"
   ]
  },
  {
   "cell_type": "code",
   "execution_count": 18,
   "metadata": {
    "colab": {
     "base_uri": "https://localhost:8080/",
     "height": 217
    },
    "id": "92x7bIu3zxki",
    "outputId": "cc334e65-892e-4b56-8a3d-2d3c281c7b40"
   },
   "outputs": [
    {
     "data": {
      "image/png": "[encoded data removed]",
      "text/plain": [
       "<PIL.Image.Image image mode=RGB size=200x200>"
      ]
     },
     "execution_count": 18,
     "metadata": {},
     "output_type": "execute_result"
    }
   ],
   "source": [
    "## Tabuleiro\n",
    "lines = 5\n",
    "columns = 5\n",
    "white_positions = ((1,1),(2,2),(1,4),(1,5))\n",
    "black_positions = ((5,2),(5,3), (5,4),(4,5))\n",
    "bkt.draw_board(lines, columns, white_positions, black_positions)"
   ]
  },
  {
   "cell_type": "code",
   "execution_count": 8,
   "metadata": {
    "colab": {
     "base_uri": "https://localhost:8080/"
    },
    "id": "u_VsjrLFVjVZ",
    "outputId": "6496570a-9d25-4c20-a43d-176adfc29e32"
   },
   "outputs": [
    {
     "data": {
      "text/plain": [
       "(((1, 1), (2, 1)),\n",
       " ((2, 2), (3, 1)),\n",
       " ((2, 2), (3, 2)),\n",
       " ((2, 2), (3, 3)),\n",
       " ((1, 4), (2, 3)),\n",
       " ((1, 4), (2, 4)),\n",
       " ((1, 4), (2, 5)),\n",
       " ((1, 5), (2, 4)),\n",
       " ((1, 5), (2, 5)))"
      ]
     },
     "execution_count": 8,
     "metadata": {},
     "output_type": "execute_result"
    }
   ],
   "source": [
    "## Jogadas das brancas\n",
    "bkt.get_valid_moves(lines, columns, white_positions, black_positions, 1)"
   ]
  },
  {
   "cell_type": "code",
   "execution_count": 9,
   "metadata": {
    "colab": {
     "base_uri": "https://localhost:8080/"
    },
    "id": "lQBh15S8Vrmf",
    "outputId": "4613f2ae-4363-4dd5-d858-34eaa19f0597"
   },
   "outputs": [
    {
     "data": {
      "text/plain": [
       "[[(5, 2), (4, 3)],\n",
       " [(5, 2), (4, 2)],\n",
       " [(5, 2), (4, 1)],\n",
       " [(5, 3), (4, 4)],\n",
       " [(5, 3), (4, 3)],\n",
       " [(5, 3), (4, 2)],\n",
       " [(5, 4), (4, 4)],\n",
       " [(5, 4), (4, 3)],\n",
       " [(4, 5), (3, 5)],\n",
       " [(4, 5), (3, 4)]]"
      ]
     },
     "execution_count": 9,
     "metadata": {},
     "output_type": "execute_result"
    }
   ],
   "source": [
    "## Jogadas das pretas\n",
    "bkt.get_valid_moves(lines, columns, white_positions, black_positions, -1)"
   ]
  },
  {
   "cell_type": "markdown",
   "metadata": {
    "id": "ON710HTI0wFw"
   },
   "source": [
    "## Efetuando Jogadas\n",
    "\n",
    "Supondo que queremos criar um **bot** para jogar breaktrough, o que ele precisa saber? Obviamente ele precisa saber quais são as jogadas válidas e qual peças ele está conduzindo. Basta isso para criarmos um jogador sem nenhum tipo de inteligência, que escolha ao acaso uma jogada dentre todas as disponíveis.\n"
   ]
  },
  {
   "cell_type": "code",
   "execution_count": 9,
   "metadata": {
    "id": "_2-Sysd606xj"
   },
   "outputs": [],
   "source": [
    "## O jogador retornará a peça que irá mover no\n",
    "## tabuleiro, seguida da posição no tabuleiro onde\n",
    "## deverá colocar a peça.\n",
    "player = bkt.random_player"
   ]
  },
  {
   "cell_type": "code",
   "execution_count": 11,
   "metadata": {
    "colab": {
     "base_uri": "https://localhost:8080/"
    },
    "id": "L8JIbpvcYZKP",
    "outputId": "f6f0132a-e904-4aa7-a4ea-2eaf2ba87305"
   },
   "outputs": [
    {
     "data": {
      "text/plain": [
       "((1, 5), (2, 4))"
      ]
     },
     "execution_count": 11,
     "metadata": {},
     "output_type": "execute_result"
    }
   ],
   "source": [
    "## Retorna uma jogada se for a vez das brancas\n",
    "player(lines, columns, white_positions, black_positions, 1)"
   ]
  },
  {
   "cell_type": "code",
   "execution_count": 12,
   "metadata": {
    "colab": {
     "base_uri": "https://localhost:8080/"
    },
    "id": "bLMRpsFZYoYP",
    "outputId": "d7aa2df7-1f2b-493c-b631-d818fd932064"
   },
   "outputs": [
    {
     "data": {
      "text/plain": [
       "[(5, 2), (4, 1)]"
      ]
     },
     "execution_count": 12,
     "metadata": {},
     "output_type": "execute_result"
    }
   ],
   "source": [
    "## Retorna uma jogada se for a vez das pretas\n",
    "player(lines, columns, white_positions, black_positions, -1)"
   ]
  },
  {
   "cell_type": "markdown",
   "metadata": {
    "id": "IBHr_4213ZRH"
   },
   "source": [
    "## Gerenciador de Jogo\n",
    "\n",
    "Temos um tabuleiro e um jogador que pode conduzir as peças (brancas e pretas). O que devemos fazer agora é criar um gerenciador de jogo para que uma partida possa ser iniciada. O gerenciador irá:\n",
    "\n",
    "1.   Garantir que pedirá para o jogador certo jogar (alternância entre jogadores).\n",
    "2.   Gerenciar o tabuleiro de modo a fazer com que as jogadas sejam concretizadas.\n",
    "3.   Verificar se as condições de vitória, derrota ou empates já foram satisfeitas.\n",
    "4.   Armazenar um histórico de jogadas, para que os jogadores posteriormente possam analisar.\n",
    "\n",
    "A função que faz tudo isso é a função game da nossa biblioteca. Essa função devolverá o vencedor e um histórico das jogadas. Note que o histórico das jogadas é devolvido como uma sequência da seguinte forma:\n",
    "\n",
    "[ (turn_0, white_positions_0, black_positions_0), (turn_1, white_positions_1, black_positions_1), ..., (turn_n, white_positions_n, black_positions_n) ]"
   ]
  },
  {
   "cell_type": "code",
   "execution_count": 14,
   "metadata": {
    "id": "8mhIVgVX59b5"
   },
   "outputs": [],
   "source": [
    "## Agora vamos colocar o jogador para jogar contra si mesmo.\n",
    "winner, history = bkt.game(player, player)"
   ]
  },
  {
   "cell_type": "code",
   "execution_count": 15,
   "metadata": {
    "colab": {
     "base_uri": "https://localhost:8080/"
    },
    "id": "100gNC5YZUuN",
    "outputId": "640b2915-c793-402e-a34f-4248a04f8193"
   },
   "outputs": [
    {
     "data": {
      "text/plain": [
       "1"
      ]
     },
     "execution_count": 15,
     "metadata": {},
     "output_type": "execute_result"
    }
   ],
   "source": [
    "## Veja quem é o vencedor\n",
    "winner"
   ]
  },
  {
   "cell_type": "code",
   "execution_count": 16,
   "metadata": {
    "colab": {
     "base_uri": "https://localhost:8080/"
    },
    "id": "Yub4PHzLZXlS",
    "outputId": "03c8ffd9-58c4-4801-aae8-bb6f358eafdf"
   },
   "outputs": [
    {
     "data": {
      "text/plain": [
       "[(1,\n",
       "  ((1, 1), (1, 2), (1, 3), (1, 4), (1, 5)),\n",
       "  ((5, 1), (5, 2), (5, 3), (5, 4), (5, 5))),\n",
       " (-1,\n",
       "  ((1, 1), (1, 3), (1, 4), (1, 5), (2, 1)),\n",
       "  ((5, 1), (5, 2), (5, 3), (5, 4), (5, 5))),\n",
       " (1,\n",
       "  ((1, 1), (1, 3), (1, 4), (1, 5), (2, 1)),\n",
       "  ((5, 1), (5, 2), (5, 3), (5, 4), (4, 5))),\n",
       " (-1,\n",
       "  ((1, 1), (1, 3), (1, 5), (2, 1), (2, 3)),\n",
       "  ((5, 1), (5, 2), (5, 3), (5, 4), (4, 5))),\n",
       " (1,\n",
       "  ((1, 1), (1, 3), (1, 5), (2, 1), (2, 3)),\n",
       "  ((5, 1), (5, 3), (5, 4), (4, 5), (4, 1))),\n",
       " (-1,\n",
       "  ((1, 1), (1, 3), (1, 5), (2, 1), (3, 2)),\n",
       "  ((5, 1), (5, 3), (5, 4), (4, 5), (4, 1))),\n",
       " (1,\n",
       "  ((1, 1), (1, 3), (1, 5), (2, 1), (3, 2)),\n",
       "  ((5, 1), (5, 3), (5, 4), (4, 1), (3, 4))),\n",
       " (-1,\n",
       "  ((1, 1), (1, 5), (2, 1), (3, 2), (2, 3)),\n",
       "  ((5, 1), (5, 3), (5, 4), (4, 1), (3, 4))),\n",
       " (1,\n",
       "  ((1, 1), (1, 5), (2, 1), (3, 2), (2, 3)),\n",
       "  ((5, 1), (5, 3), (5, 4), (4, 1), (2, 5))),\n",
       " (-1,\n",
       "  ((1, 1), (1, 5), (2, 1), (3, 2), (3, 3)),\n",
       "  ((5, 1), (5, 3), (5, 4), (4, 1), (2, 5))),\n",
       " (1,\n",
       "  ((1, 1), (1, 5), (2, 1), (3, 2), (3, 3)),\n",
       "  ((5, 3), (5, 4), (4, 1), (2, 5), (4, 2))),\n",
       " (-1,\n",
       "  ((1, 1), (1, 5), (2, 1), (3, 2), (4, 4)),\n",
       "  ((5, 3), (5, 4), (4, 1), (2, 5), (4, 2))),\n",
       " (1,\n",
       "  ((1, 1), (1, 5), (2, 1), (3, 2), (4, 4)),\n",
       "  ((5, 3), (5, 4), (4, 1), (2, 5), (3, 3))),\n",
       " (-1,\n",
       "  ((1, 1), (1, 5), (2, 1), (3, 2), (5, 3)),\n",
       "  ((5, 4), (4, 1), (2, 5), (3, 3)))]"
      ]
     },
     "execution_count": 16,
     "metadata": {},
     "output_type": "execute_result"
    }
   ],
   "source": [
    "## Veja o histórico de partidas.\n",
    "history"
   ]
  },
  {
   "cell_type": "markdown",
   "metadata": {
    "id": "IOyJhhl08fVY"
   },
   "source": [
    "## Desenhando Histórico\n",
    "\n",
    "Criamos anteriormente uma função que mostra uma sequência de **Images** na tela. Agora precisamos de uma função que cria esses objetos **Image**. A função que faz isso deverá percorrer o histórico e fazer as chamadas a **draw_board** de maneira adequada, nada muito complicado comparado com o que já conseguimos evoluir."
   ]
  },
  {
   "cell_type": "code",
   "execution_count": null,
   "metadata": {
    "colab": {
     "base_uri": "https://localhost:8080/",
     "height": 266,
     "referenced_widgets": [
      "2512fcafd0594b50a7252fa807d5a909",
      "6e3a999e991242da89ba71d0b8970488",
      "b07874fe0d7347cdbd8689544ddd830f",
      "d3a8729f2460438a9e92848d8a0bbd80",
      "155e57f271854494ad1162e8b41c778e",
      "dcdcb41a0850408c9c8dddd2017927fe",
      "cd33d62c517f449c9ddcccadfe5b74ac"
     ]
    },
    "id": "HhDYGfdY8aoO",
    "outputId": "20bd6bd1-ae42-4842-83f6-9f4e37932af1"
   },
   "outputs": [],
   "source": [
    "images = bkt.generate_image_history(lines, columns, history)\n",
    "bkt.display_sequence(images)"
   ]
  },
  {
   "cell_type": "markdown",
   "metadata": {
    "id": "_dJFZoOZcBvw"
   },
   "source": [
    "## Jogando contra humanos\n",
    "\n",
    "Você pode pegar um jogador qualquer e fazê-lo jogar contra um humano"
   ]
  },
  {
   "cell_type": "code",
   "execution_count": 18,
   "metadata": {
    "id": "Bm6_Yti1cGyW"
   },
   "outputs": [],
   "source": [
    "# winner, history = bkt.game(player, bkt.human_player)"
   ]
  },
  {
   "cell_type": "markdown",
   "metadata": {
    "id": "nUcxm9WCCxat"
   },
   "source": [
    "## Criando um novo Jogador\n",
    "\n",
    "O seu trabalho agora será criar um jogador inteligente para este jogo de tabuleiro com o conhecimento que vimos em sala de aula. O seu jogador pode usar qualquer variável global (como o state_values) que vimos em sala de aula.\n",
    "\n",
    "As únicas restrições do seu jogador é que:\n",
    "\n",
    "1. Ele deverá receber todos os parâmetros que representam um tabuleiro: **linhas**, **colunas**, **posição das brancas** e **posição das pretas**.\n",
    "2. Ele deverá receber de quem é a vez de jogar.\n",
    "3. Ele deverá receber um **epsilon**.\n",
    "\n",
    "Nesse caso, a assinatura do seu jogador deve ser:\n",
    "\n",
    "```\n",
    "def novo_player(lines, columns, white_positions, black_positions, turn, epsilon)\n",
    "```\n",
    "\n",
    "Por exemplo, o jogador a seguir tem a assinatura correta."
   ]
  },
  {
   "cell_type": "code",
   "execution_count": 19,
   "metadata": {
    "id": "wM0GsH71kKoc"
   },
   "outputs": [],
   "source": [
    "def novo_player(lines, columns, white_positions, black_positions, turn, epsilon) :\n",
    "    valid_moves = bkt.get_valid_moves(lines, columns, white_positions, black_positions, turn)\n",
    "    print(epsilon)\n",
    "    if epsilon < 0.5 :\n",
    "        return valid_moves[0]\n",
    "    else :\n",
    "        return valid_moves[-1]"
   ]
  },
  {
   "cell_type": "markdown",
   "metadata": {
    "id": "Fhn-gYx1lIu5"
   },
   "source": [
    "Note que se você quiser passar para o seu player um **epsilon** na chamada da função **game**, você deverá passar o epsilon para o próprio **game**."
   ]
  },
  {
   "cell_type": "code",
   "execution_count": 20,
   "metadata": {
    "colab": {
     "base_uri": "https://localhost:8080/"
    },
    "id": "fGoJCLEglIBZ",
    "outputId": "c598f04d-3088-4ca7-b94a-fddbf59fc213"
   },
   "outputs": [
    {
     "name": "stdout",
     "output_type": "stream",
     "text": [
      "0.7\n",
      "0.7\n",
      "0.7\n",
      "0.7\n",
      "0.7\n",
      "0.7\n"
     ]
    },
    {
     "data": {
      "text/plain": [
       "(-1,\n",
       " [(1, ((1, 1), (2, 2), (1, 4), (1, 5)), ((5, 2), (5, 3), (5, 4), (4, 5))),\n",
       "  (-1, ((1, 1), (2, 2), (1, 4), (2, 5)), ((5, 2), (5, 3), (5, 4), (4, 5))),\n",
       "  (1, ((1, 1), (2, 2), (1, 4), (2, 5)), ((5, 2), (5, 3), (5, 4), (3, 4))),\n",
       "  (-1, ((1, 1), (2, 2), (1, 4), (3, 5)), ((5, 2), (5, 3), (5, 4), (3, 4))),\n",
       "  (1, ((1, 1), (2, 2), (1, 4), (3, 5)), ((5, 2), (5, 3), (5, 4), (2, 3))),\n",
       "  (-1, ((1, 1), (2, 2), (1, 4), (4, 5)), ((5, 2), (5, 3), (5, 4), (2, 3))),\n",
       "  (1, ((1, 1), (2, 2), (1, 4), (4, 5)), ((5, 2), (5, 3), (5, 4), (1, 2)))])"
      ]
     },
     "execution_count": 20,
     "metadata": {},
     "output_type": "execute_result"
    }
   ],
   "source": [
    "bkt.game(novo_player, novo_player, lines, columns, white_positions, black_positions, epsilon = 0.7)"
   ]
  },
  {
   "cell_type": "markdown",
   "metadata": {
    "id": "-gVnAONdmPO4"
   },
   "source": [
    "# Crie um Jogador Inteligente com Monte Carlo\n",
    "\n",
    "Agora é sua vez, crie um jogador inteligente usando a abordagem de Monte Carlo. Nós configuraremos o ambiente da seguinte forma:\n",
    "\n",
    "1. Número de Linhas: 4\n",
    "2. Número de Colunas: 4\n",
    "3. Peças brancas: 4 peças iniciadas na linha 1\n",
    "4. Peças pretas: 4 peças iniciadas na linha 4.\n",
    "\n",
    "Em outras palavras, o tabuleiro será:"
   ]
  },
  {
   "cell_type": "code",
   "execution_count": null,
   "metadata": {
    "colab": {
     "base_uri": "https://localhost:8080/",
     "height": 217
    },
    "id": "2yBuq-bZmq7N",
    "outputId": "98376287-e55d-4dc7-a451-ed4b29a9f00d"
   },
   "outputs": [
    {
     "name": "stdout",
     "output_type": "stream",
     "text": [
      "Draw = 0, Acaso = 550, Acaso = 450\n",
      "Draw = 0, Acaso = 305, RL = 695\n",
      "Draw = 0, RL = 552, Acaso = 448\n",
      "Draw = 0, RL = 286, RL = 714\n"
     ]
    }
   ],
   "source": [
    "import breakthrough as bkt\n",
    "\n",
    "## Tabuleiro\n",
    "lines = 4\n",
    "columns = 4\n",
    "white_positions = ((1,1),(1,2),(1,3),(1,4))\n",
    "black_positions = ((4,1),(4,2), (4,3),(4,4))\n",
    "bkt.draw_board(lines, columns, white_positions, black_positions)\n",
    "player = bkt.random_player\n",
    "\n",
    "######\n",
    "def campeonato(player1, player2, num_games = 1000) :\n",
    "    results = [0,0,0]\n",
    "    for i in range(num_games) :\n",
    "        result, x = bkt.game(player1, player2)\n",
    "        results[result] += 1\n",
    "    return tuple(results)\n",
    "######\n",
    "\n",
    "def rewards(lines, columns, white_positions, black_positions) :\n",
    "    lwinner = bkt.winner(lines, columns, white_positions, black_positions)\n",
    "    if lwinner == 0 :\n",
    "        return -1\n",
    "    elif lwinner == 1 :\n",
    "        return 100\n",
    "    else :\n",
    "        return -100\n",
    "\n",
    "\n",
    "\n",
    "#######\n",
    "import random\n",
    "\n",
    "## Para computação dos state_values, usaremos gamma = 0.7 para\n",
    "## descontos futuros\n",
    "gamma = 0.7\n",
    "\n",
    "## Os state_values serão uma variável global neste notebook. Nele\n",
    "## estará contido tudo aquilo que o agente precisa para fazer uma boa\n",
    "## jogada\n",
    "state_values = {}\n",
    "\n",
    "\n",
    "def player_rl(lines, columns, white_positions, black_positions, turn, epsilon = 0): \n",
    "    valid_moves = bkt.get_valid_moves(lines, columns, white_positions, black_positions, turn)\n",
    "    \n",
    "    epsilon_random = random.random()\n",
    "    if epsilon_random < epsilon :\n",
    "        return random.choice(valid_moves)\n",
    "    else :\n",
    "        scores = []\n",
    "        for move in valid_moves :\n",
    "            next_state = list(black_positions)\n",
    "            if turn == 1:\n",
    "                next_state = list(white_positions)\n",
    "            next_state[next_state.index(move[0])] = move[1]\n",
    "            val = (tuple(white_positions), tuple(next_state))\n",
    "            if turn == 1:\n",
    "                val = (tuple(next_state), tuple(black_positions))\n",
    "            scores.append(rewards(tuple(next_state), columns, *val) + gamma*state_values.get(val, 0))\n",
    "        \n",
    "        best_score = None\n",
    "        if (turn == 1) :\n",
    "            best_score = max(scores)\n",
    "        else :\n",
    "            best_score = min(scores)\n",
    "          \n",
    "        best_moves = []\n",
    "        for i in range(len(scores)) :\n",
    "            if scores[i] == best_score :\n",
    "                best_moves.append(valid_moves[i])\n",
    "        \n",
    "        # if len(best_moves) == 1 :\n",
    "        #     print((best_score, scores, best_moves))\n",
    "        \n",
    "        return tuple(random.choice(best_moves))\n",
    "#########\n",
    "\n",
    "## O código a seguir atualiza os state_values. Note que esses state_values\n",
    "## são uma variável global.\n",
    "\n",
    "def update_state_values_monte_carlo(rewards, amostra, columns, gamma = 0.7, alpha = 0.1) :\n",
    "    ## Definiremos o último state_value como zero para iniciar o processo iterativo.\n",
    "    discounted_return = 0\n",
    "    next_state        = amostra[-1]\n",
    "\n",
    "    ## Observe o uso de \"reversed\" estamos iterando de trás pra frente.\n",
    "    for state in reversed(amostra[:-1]) :\n",
    "        ## Abaixo simplesmente computamos o retorno a longo prazo e somamos com a recompensa imediata\n",
    "        reward = rewards(lines, columns, next_state[1], next_state[-1])\n",
    "        discounted_return = gamma*discounted_return + reward\n",
    "        ## Abaixo a fórmula para atualização dos state-values. Isso substitui o valor esperado (média).\n",
    "        ## Note que estamos inicializando os state_values com zero\n",
    "        real_state = (state[1], state[2])\n",
    "        state_values[real_state] = state_values.get(real_state,0) + alpha*(discounted_return - state_values.get(real_state, 0))\n",
    "        next_state = state\n",
    "\n",
    "#######\n",
    "alpha  = 0.1 ## Aproximação da média\n",
    "\n",
    "ITERACOES = 160000\n",
    "for i in range(ITERACOES) :\n",
    "    epsilon = max(0.01, (ITERACOES - i)/ITERACOES)\n",
    "    \n",
    "    _, amostra = bkt.game(player_rl, player_rl, lines, columns, white_positions, black_positions, epsilon = epsilon)\n",
    "    # if i % 20000 == 0 :\n",
    "    #     images = bkt.generate_image_history(lines, columns, amostra)\n",
    "    #     bkt.display_sequence(images)\n",
    "    update_state_values_monte_carlo(rewards, amostra, columns, gamma, alpha)\n",
    "#######\n",
    "\n",
    "results = campeonato(player, player)\n",
    "print(\"Draw = %i, Acaso = %i, Acaso = %i\" % results)\n",
    "\n",
    "results = campeonato(player, player_rl)\n",
    "print(\"Draw = %i, Acaso = %i, RL = %i\" % results)\n",
    "\n",
    "results = campeonato(player_rl, player)\n",
    "print(\"Draw = %i, RL = %i, Acaso = %i\" % results)\n",
    "\n",
    "results = campeonato(player_rl, player_rl)\n",
    "print(\"Draw = %i, RL = %i, RL = %i\" % results)\n",
    "#######\n",
    "def human_player(tab, turn) :\n",
    "    valids  = bkt.get_valid_moves(tab)\n",
    "    print(valids)\n",
    "    board = bkt.draw_board( tab )\n",
    "    display(board)\n",
    "    move = int(input())\n",
    "\n",
    "    while not move in valids :\n",
    "        move = int(input())\n",
    "    return turn, move"
   ]
  },
  {
   "cell_type": "markdown",
   "metadata": {
    "id": "qmm0tmMVnT3g"
   },
   "source": [
    "# Forma de Avaliação\n",
    "\n",
    "Você será avaliado por conseguir realizar seguintes itens:\n",
    "\n",
    "1. Consegue responder qual a distribuição de vitórias e derrotas quando jogadores sem nenhum tipo de conhecimento são colocados para competir entre si.\n",
    "2. Consegue representar os tabuleiros como estados em alguma estrutura de dados para depois computar state-values.\n",
    "3. Consegue usar uma partida entre dois jogadores como entrada para computar o valor acumulado descontado seguindo a lógica de Monte Carlo.\n",
    "4. Consegue atualizar os state-values de forma satisfatória.\n",
    "5. Consegue gerar uma política a partir dos state-values. Essa política não precisa estar explícita em uma variável, mas deve ser usada pelo seu jogador inteligente.\n",
    "6. Consegue fazer com que o jogador inteligente mude a distribuição de vitórias e derrotas obtidas no item 1.\n",
    "7. Consegue realizar uma partida contra o seu próprio jogador inteligente e mostrar que o seu jogador inteligente faz jogadas decentes."
   ]
  }
 ],
 "metadata": {
  "colab": {
   "provenance": []
  },
  "kernelspec": {
   "display_name": "Python 3",
   "name": "python3"
  },
  "language_info": {
   "codemirror_mode": {
    "name": "ipython",
    "version": 3
   },
   "file_extension": ".py",
   "mimetype": "text/x-python",
   "name": "python",
   "nbconvert_exporter": "python",
   "pygments_lexer": "ipython3",
   "version": "3.10.8"
  },
  "widgets": {
   "application/vnd.jupyter.widget-state+json": {
    "031240d152764d35a55156f3de06fc31": {
     "model_module": "@jupyter-widgets/base",
     "model_module_version": "1.2.0",
     "model_name": "LayoutModel",
     "state": {
      "_model_module": "@jupyter-widgets/base",
      "_model_module_version": "1.2.0",
      "_model_name": "LayoutModel",
      "_view_count": null,
      "_view_module": "@jupyter-widgets/base",
      "_view_module_version": "1.2.0",
      "_view_name": "LayoutView",
      "align_content": null,
      "align_items": null,
      "align_self": null,
      "border": null,
      "bottom": null,
      "display": null,
      "flex": null,
      "flex_flow": null,
      "grid_area": null,
      "grid_auto_columns": null,
      "grid_auto_flow": null,
      "grid_auto_rows": null,
      "grid_column": null,
      "grid_gap": null,
      "grid_row": null,
      "grid_template_areas": null,
      "grid_template_columns": null,
      "grid_template_rows": null,
      "height": null,
      "justify_content": null,
      "justify_items": null,
      "left": null,
      "margin": null,
      "max_height": null,
      "max_width": null,
      "min_height": null,
      "min_width": null,
      "object_fit": null,
      "object_position": null,
      "order": null,
      "overflow": null,
      "overflow_x": null,
      "overflow_y": null,
      "padding": null,
      "right": null,
      "top": null,
      "visibility": null,
      "width": null
     }
    },
    "1378b644c7d1418ba67b2aadaedde947": {
     "model_module": "@jupyter-widgets/base",
     "model_module_version": "1.2.0",
     "model_name": "LayoutModel",
     "state": {
      "_model_module": "@jupyter-widgets/base",
      "_model_module_version": "1.2.0",
      "_model_name": "LayoutModel",
      "_view_count": null,
      "_view_module": "@jupyter-widgets/base",
      "_view_module_version": "1.2.0",
      "_view_name": "LayoutView",
      "align_content": null,
      "align_items": null,
      "align_self": null,
      "border": null,
      "bottom": null,
      "display": null,
      "flex": null,
      "flex_flow": null,
      "grid_area": null,
      "grid_auto_columns": null,
      "grid_auto_flow": null,
      "grid_auto_rows": null,
      "grid_column": null,
      "grid_gap": null,
      "grid_row": null,
      "grid_template_areas": null,
      "grid_template_columns": null,
      "grid_template_rows": null,
      "height": null,
      "justify_content": null,
      "justify_items": null,
      "left": null,
      "margin": null,
      "max_height": null,
      "max_width": null,
      "min_height": null,
      "min_width": null,
      "object_fit": null,
      "object_position": null,
      "order": null,
      "overflow": null,
      "overflow_x": null,
      "overflow_y": null,
      "padding": null,
      "right": null,
      "top": null,
      "visibility": null,
      "width": null
     }
    },
    "155e57f271854494ad1162e8b41c778e": {
     "model_module": "@jupyter-widgets/base",
     "model_module_version": "1.2.0",
     "model_name": "LayoutModel",
     "state": {
      "_model_module": "@jupyter-widgets/base",
      "_model_module_version": "1.2.0",
      "_model_name": "LayoutModel",
      "_view_count": null,
      "_view_module": "@jupyter-widgets/base",
      "_view_module_version": "1.2.0",
      "_view_name": "LayoutView",
      "align_content": null,
      "align_items": null,
      "align_self": null,
      "border": null,
      "bottom": null,
      "display": null,
      "flex": null,
      "flex_flow": null,
      "grid_area": null,
      "grid_auto_columns": null,
      "grid_auto_flow": null,
      "grid_auto_rows": null,
      "grid_column": null,
      "grid_gap": null,
      "grid_row": null,
      "grid_template_areas": null,
      "grid_template_columns": null,
      "grid_template_rows": null,
      "height": null,
      "justify_content": null,
      "justify_items": null,
      "left": null,
      "margin": null,
      "max_height": null,
      "max_width": null,
      "min_height": null,
      "min_width": null,
      "object_fit": null,
      "object_position": null,
      "order": null,
      "overflow": null,
      "overflow_x": null,
      "overflow_y": null,
      "padding": null,
      "right": null,
      "top": null,
      "visibility": null,
      "width": null
     }
    },
    "1b3431c6b6d5443aa90e5d820998782c": {
     "model_module": "@jupyter-widgets/controls",
     "model_module_version": "1.5.0",
     "model_name": "IntSliderModel",
     "state": {
      "_dom_classes": [],
      "_model_module": "@jupyter-widgets/controls",
      "_model_module_version": "1.5.0",
      "_model_name": "IntSliderModel",
      "_view_count": null,
      "_view_module": "@jupyter-widgets/controls",
      "_view_module_version": "1.5.0",
      "_view_name": "IntSliderView",
      "continuous_update": true,
      "description": "frame",
      "description_tooltip": null,
      "disabled": false,
      "layout": "IPY_MODEL_63326557bf04412fa7d8906569bb2f24",
      "max": 5,
      "min": 0,
      "orientation": "horizontal",
      "readout": true,
      "readout_format": "d",
      "step": 1,
      "style": "IPY_MODEL_5990f08b1ae641d29429b767d577b991",
      "value": 2
     }
    },
    "2512fcafd0594b50a7252fa807d5a909": {
     "model_module": "@jupyter-widgets/controls",
     "model_module_version": "1.5.0",
     "model_name": "VBoxModel",
     "state": {
      "_dom_classes": [
       "widget-interact"
      ],
      "_model_module": "@jupyter-widgets/controls",
      "_model_module_version": "1.5.0",
      "_model_name": "VBoxModel",
      "_view_count": null,
      "_view_module": "@jupyter-widgets/controls",
      "_view_module_version": "1.5.0",
      "_view_name": "VBoxView",
      "box_style": "",
      "children": [
       "IPY_MODEL_6e3a999e991242da89ba71d0b8970488",
       "IPY_MODEL_b07874fe0d7347cdbd8689544ddd830f"
      ],
      "layout": "IPY_MODEL_d3a8729f2460438a9e92848d8a0bbd80"
     }
    },
    "42cc0931a75547dabc303d4b56a918c8": {
     "model_module": "@jupyter-widgets/controls",
     "model_module_version": "1.5.0",
     "model_name": "VBoxModel",
     "state": {
      "_dom_classes": [
       "widget-interact"
      ],
      "_model_module": "@jupyter-widgets/controls",
      "_model_module_version": "1.5.0",
      "_model_name": "VBoxModel",
      "_view_count": null,
      "_view_module": "@jupyter-widgets/controls",
      "_view_module_version": "1.5.0",
      "_view_name": "VBoxView",
      "box_style": "",
      "children": [
       "IPY_MODEL_1b3431c6b6d5443aa90e5d820998782c",
       "IPY_MODEL_e58093f6c6d242fe8c76ae3a8bf44dbb"
      ],
      "layout": "IPY_MODEL_031240d152764d35a55156f3de06fc31"
     }
    },
    "5990f08b1ae641d29429b767d577b991": {
     "model_module": "@jupyter-widgets/controls",
     "model_module_version": "1.5.0",
     "model_name": "SliderStyleModel",
     "state": {
      "_model_module": "@jupyter-widgets/controls",
      "_model_module_version": "1.5.0",
      "_model_name": "SliderStyleModel",
      "_view_count": null,
      "_view_module": "@jupyter-widgets/base",
      "_view_module_version": "1.2.0",
      "_view_name": "StyleView",
      "description_width": "",
      "handle_color": null
     }
    },
    "63326557bf04412fa7d8906569bb2f24": {
     "model_module": "@jupyter-widgets/base",
     "model_module_version": "1.2.0",
     "model_name": "LayoutModel",
     "state": {
      "_model_module": "@jupyter-widgets/base",
      "_model_module_version": "1.2.0",
      "_model_name": "LayoutModel",
      "_view_count": null,
      "_view_module": "@jupyter-widgets/base",
      "_view_module_version": "1.2.0",
      "_view_name": "LayoutView",
      "align_content": null,
      "align_items": null,
      "align_self": null,
      "border": null,
      "bottom": null,
      "display": null,
      "flex": null,
      "flex_flow": null,
      "grid_area": null,
      "grid_auto_columns": null,
      "grid_auto_flow": null,
      "grid_auto_rows": null,
      "grid_column": null,
      "grid_gap": null,
      "grid_row": null,
      "grid_template_areas": null,
      "grid_template_columns": null,
      "grid_template_rows": null,
      "height": null,
      "justify_content": null,
      "justify_items": null,
      "left": null,
      "margin": null,
      "max_height": null,
      "max_width": null,
      "min_height": null,
      "min_width": null,
      "object_fit": null,
      "object_position": null,
      "order": null,
      "overflow": null,
      "overflow_x": null,
      "overflow_y": null,
      "padding": null,
      "right": null,
      "top": null,
      "visibility": null,
      "width": null
     }
    },
    "6e3a999e991242da89ba71d0b8970488": {
     "model_module": "@jupyter-widgets/controls",
     "model_module_version": "1.5.0",
     "model_name": "IntSliderModel",
     "state": {
      "_dom_classes": [],
      "_model_module": "@jupyter-widgets/controls",
      "_model_module_version": "1.5.0",
      "_model_name": "IntSliderModel",
      "_view_count": null,
      "_view_module": "@jupyter-widgets/controls",
      "_view_module_version": "1.5.0",
      "_view_name": "IntSliderView",
      "continuous_update": true,
      "description": "frame",
      "description_tooltip": null,
      "disabled": false,
      "layout": "IPY_MODEL_155e57f271854494ad1162e8b41c778e",
      "max": 19,
      "min": 0,
      "orientation": "horizontal",
      "readout": true,
      "readout_format": "d",
      "step": 1,
      "style": "IPY_MODEL_dcdcb41a0850408c9c8dddd2017927fe",
      "value": 9
     }
    },
    "b07874fe0d7347cdbd8689544ddd830f": {
     "model_module": "@jupyter-widgets/output",
     "model_module_version": "1.0.0",
     "model_name": "OutputModel",
     "state": {
      "_dom_classes": [],
      "_model_module": "@jupyter-widgets/output",
      "_model_module_version": "1.0.0",
      "_model_name": "OutputModel",
      "_view_count": null,
      "_view_module": "@jupyter-widgets/output",
      "_view_module_version": "1.0.0",
      "_view_name": "OutputView",
      "layout": "IPY_MODEL_cd33d62c517f449c9ddcccadfe5b74ac",
      "msg_id": "",
      "outputs": [
       {
        "data": {
         "image/png": "iVBORw0KGgoAAAANSUhEUgAAAMgAAADICAIAAAAiOjnJAAAFSklEQVR4nO3cy1YbMRREUZPFf9P8eQZkxYBf3S2VbpV09iiDBFlK3WpiHL1t23apsG1bydKsO8af8UtiBQQLEu//fzWmMKuevHcNeDFW+x3p2lgLnrL69bjtdyQehZD4ESzphHmOr+5Vee53GBoLEr+DJZoz5/FVvDbn/Y5BY0HiTrC6T5v/+PZ9hf77HYDGgsT9YHWcuZTx7fU6U/arRmNB4mGwukxe1vi2v9qs/Uo9ayyOCacJH4WJuWx5zYn71XkRLA4L56gaKzeR51557n5FXgeLI8MJksZKz+LR15++X4VdweLgcFT/xpojhft3Mcd+u9sbLI4PhxxorD3Zmil/q+23L35WCIljwXo+oPON72r77YjGgsThYD0a01nHd7X99kJjQeJMsG6Hde7xXW2/XdBYkDgZrO8ju8L4rrbfdjQWJM4H62tw1xnf1fbbqKmxVjvl1fbbgkchJAgWJAgWJAgWgBxvVf/S2batZGnWHYNHISQIFiTeX/8WvQFdzXubl7HnbNFY6g2Tqi8jz9kiWJiPS7B0w0RdfTfsnF2ChckYBUsxTNTVrTHnbBQszMQrWH2Hibp6ZMA5ewUL07ALVq9hoq6eU5+zXbAwB8dgtQ8TdbWH9Jwdg4UJmAarZZioq/1052waLKTzDda5YaKujhKds2+wLty3PorinK2DhVzuwdo/TNRVi+7n7B4shAoI1p4Roa7a9T3ngGAhUUawng8KddVLx3POCBbixATr0bhQV331OueYYCFLUrBuh4a6UuhyzknBQpCwYH0fHepKp/2cw4KFFHnB2rhvfYjGc84L1oVUjdJyzpHBgj+CBQmCBQmCBSAH97yzrgSPQkgQLEhwzzskLBpL/bdOqsZrCtbHx0ev14HJnA/WV6p6ZUtXKtRVCYtHIeZzMljfi8q5tKirKjQWJM4E67aiPEuLuipEY0HicLAelZNbaVFXtY4FizeusFPPR6FPaVFX5Q4Ei7rCfp2/eXcoLerKwd5gUVc4pP/bDbWlRV2Z2BWsqrrinvdckjdIeW7idbDOpWT8A5G6svIiWHQPzhH+rHBkaVFXbp4Fi7rCadpPN4wpLerK0MNgUVdoIf88lrq0qCtP94NFXaHRnWB1T5WutKgrW3w0GRK/gyV6CCpKi7pyRmNB4kewpN+z9y0t6spcZGORKn/XYA14i4F3MdZxvXjt8/Oz8HVgMpGPQvgjWABycM8760rwKIQEwYIEwYIEwYJEZLBWewe/ar8t6+YFq+/98v6q9tu4bl6wECEsWIr75Z1V7bd93bBgIUVSsHT3y3uq2m+XdZOChSAxwVLfL++mar+91o0JFrJkBOv5uMxXWlX77bhuRrAQJyBYewZlptKq2m/fdQOChUTuwdo/InOUVtV+u6/rHiyEsg7W0aFML62q/SrW9Q1W7f3y41XtV7Sub7AQzTRYLYOYWFpV+9X9WdNgIZ1jsKq+b6hi+31Sy1dwDBYmYBesqn9CV3F+y6Dl69gFC3PwClbVjymqmP9YpuWreQUL0zAKVtVHQar4f/SlZV2jYGEmLsGq+rhtlYiPF7es6xIsTMYiWFX/palKyn/haln3/cnvG2a1K+ar9jtyXYvGwnwIFoAc3PPOuhI8CiFBsCBBsCBBsCBBsPDQWve8YwzueYcjgoU7uOcdpggWfuOed/giWPiBe95hjWDhinve4Y5g4R/ueUcAgoXLhXvekYJgYbF73jEG97wjCcFaGve8IwzBWhf3vCMPwVoU97wjEsFaEfe8IxXBWg73vCMYwVoL97wjG8FayHL3vGMM7nlHPIIFib9aV0vLU4+ZxwAAAABJRU5ErkJggg==\n",
         "text/plain": "<PIL.Image.Image image mode=RGB size=200x200>"
        },
        "metadata": {},
        "output_type": "display_data"
       }
      ]
     }
    },
    "cd33d62c517f449c9ddcccadfe5b74ac": {
     "model_module": "@jupyter-widgets/base",
     "model_module_version": "1.2.0",
     "model_name": "LayoutModel",
     "state": {
      "_model_module": "@jupyter-widgets/base",
      "_model_module_version": "1.2.0",
      "_model_name": "LayoutModel",
      "_view_count": null,
      "_view_module": "@jupyter-widgets/base",
      "_view_module_version": "1.2.0",
      "_view_name": "LayoutView",
      "align_content": null,
      "align_items": null,
      "align_self": null,
      "border": null,
      "bottom": null,
      "display": null,
      "flex": null,
      "flex_flow": null,
      "grid_area": null,
      "grid_auto_columns": null,
      "grid_auto_flow": null,
      "grid_auto_rows": null,
      "grid_column": null,
      "grid_gap": null,
      "grid_row": null,
      "grid_template_areas": null,
      "grid_template_columns": null,
      "grid_template_rows": null,
      "height": null,
      "justify_content": null,
      "justify_items": null,
      "left": null,
      "margin": null,
      "max_height": null,
      "max_width": null,
      "min_height": null,
      "min_width": null,
      "object_fit": null,
      "object_position": null,
      "order": null,
      "overflow": null,
      "overflow_x": null,
      "overflow_y": null,
      "padding": null,
      "right": null,
      "top": null,
      "visibility": null,
      "width": null
     }
    },
    "d3a8729f2460438a9e92848d8a0bbd80": {
     "model_module": "@jupyter-widgets/base",
     "model_module_version": "1.2.0",
     "model_name": "LayoutModel",
     "state": {
      "_model_module": "@jupyter-widgets/base",
      "_model_module_version": "1.2.0",
      "_model_name": "LayoutModel",
      "_view_count": null,
      "_view_module": "@jupyter-widgets/base",
      "_view_module_version": "1.2.0",
      "_view_name": "LayoutView",
      "align_content": null,
      "align_items": null,
      "align_self": null,
      "border": null,
      "bottom": null,
      "display": null,
      "flex": null,
      "flex_flow": null,
      "grid_area": null,
      "grid_auto_columns": null,
      "grid_auto_flow": null,
      "grid_auto_rows": null,
      "grid_column": null,
      "grid_gap": null,
      "grid_row": null,
      "grid_template_areas": null,
      "grid_template_columns": null,
      "grid_template_rows": null,
      "height": null,
      "justify_content": null,
      "justify_items": null,
      "left": null,
      "margin": null,
      "max_height": null,
      "max_width": null,
      "min_height": null,
      "min_width": null,
      "object_fit": null,
      "object_position": null,
      "order": null,
      "overflow": null,
      "overflow_x": null,
      "overflow_y": null,
      "padding": null,
      "right": null,
      "top": null,
      "visibility": null,
      "width": null
     }
    },
    "dcdcb41a0850408c9c8dddd2017927fe": {
     "model_module": "@jupyter-widgets/controls",
     "model_module_version": "1.5.0",
     "model_name": "SliderStyleModel",
     "state": {
      "_model_module": "@jupyter-widgets/controls",
      "_model_module_version": "1.5.0",
      "_model_name": "SliderStyleModel",
      "_view_count": null,
      "_view_module": "@jupyter-widgets/base",
      "_view_module_version": "1.2.0",
      "_view_name": "StyleView",
      "description_width": "",
      "handle_color": null
     }
    },
    "e58093f6c6d242fe8c76ae3a8bf44dbb": {
     "model_module": "@jupyter-widgets/output",
     "model_module_version": "1.0.0",
     "model_name": "OutputModel",
     "state": {
      "_dom_classes": [],
      "_model_module": "@jupyter-widgets/output",
      "_model_module_version": "1.0.0",
      "_model_name": "OutputModel",
      "_view_count": null,
      "_view_module": "@jupyter-widgets/output",
      "_view_module_version": "1.0.0",
      "_view_name": "OutputView",
      "layout": "IPY_MODEL_1378b644c7d1418ba67b2aadaedde947",
      "msg_id": "",
      "outputs": [
       {
        "data": {
         "image/png": "iVBORw0KGgoAAAANSUhEUgAAAMgAAADICAIAAAAiOjnJAAAD80lEQVR4nO3dYXLTOhhAUcGw76Y7fz86Dwq0JYl9bSk5ZwGJxVx9UkM7+Xa5XMYZLpfLKW/tfY/x/fi35BkIi4SwSPw4+wGe0QGXnrOuzj+ZWCSEdYJ6nJw+roawiAjrHN1QmWFcDWEREdZpitEyybgawiIiLBLCOtO+J9c85+AQFhFhnWyvMTPVuBrCIiIsEsI63/ZTbLZzcAiLiLCmsGXkTDiuhrCICGsW9w2eOcfVEBYRYZEQ1kRuPdemPQeHsIgIay7XD6GZx9UQFhFhTeeaUTT5uBrCIiIsEsKa0dcn3fzn4BAWEWFN6rOxtMS4GsIiIiwSwprX36feKufgEBYRYU3t/YhaaFwNYRER1uzeBtVa42oIi4iwFrDcuBrCIiIsEsIiISwSwiIhLGAd33x1r/ctOApJCIuEsEgIi4SwSAiLhLBICIuEsEgIi4SwSAiLhLBICIuEsEgIi4SwSAiLhLBICIuEsEgIi4SwSAiLhLBICIuEsEgIi4SwSAiLhLBICIuEsEgIi4SwSAiLhLBICIuEsEgIi4SwSAiLhLBICIuEsEgIi4SwSAgLWIdvWPW+CUchCWGREBaJH2c/wBhjHHAJOOsq+aFnWK+JRWJTWC8vL7s8RL299nr9Z1vvFiYWifvDetu+82/ifcfV86x3IxOLxJ1hvd+4M2/i4nb1DOvdzsQicU9Yf2/ZvTbxnJ5tvbuYa2LtO8nnORc+88DrvTksm5Vr7DaxZrvS1h+KPup69zLXUcjDuC2sr7fpPJv4mP/Debz17sjEInFDWK7tXG/niTXD6XDk7zI80nr3dW1YxhU32f+Ode4mPv5Xrx5jvbu7KizjilslPxWetYnP+k3R1ddb8HEDiX+Hde45eP2mnHn7Xu9h1ltNrHWvZfc9+brrjfwjLP9e3Ce8Yx15pZ3hD7xWXG/nq7CMK+7W/lR4zCaeYVzt9Qpvjllv6tOwjCu2WOZzrM+26RLb9w6rr/fjsHYcV6tMvr2ec5X11paZWKzliLC6K+081/bi1br1HuCDsAxztlvsKHy/ZRfavndbd71/hhWNq5mnYPFsM6/3GItNrPH/xl1r+26x6Hp/CyvdZ3Nu4u6p5lzvYdabWGPB7bvRiuv9FdYBO2y2TVw/z2zrPdKSE4v5/foCgdfX1xOf4xRPuOTDmFgkhEVCWMA6fMOq9004CkkIi4SwSAiLhLBICIuEsEgIi4SwSAiLhLBICIuEsEgIi4SwSAiLhLBICIuEsEgIi4SwSAiLhLBICIuEsEgIi4SwSAiLhLBICIuEsEgIi4SwSAiLhLBICIuEsEgIi4SwSAiLhLBICIuEsEgIi4SwSAiLhLBICIvEfxhLO9mW5UxRAAAAAElFTkSuQmCC\n",
         "text/plain": "<PIL.Image.Image image mode=RGB size=200x200>"
        },
        "metadata": {},
        "output_type": "display_data"
       }
      ]
     }
    }
   }
  }
 },
 "nbformat": 4,
 "nbformat_minor": 0
}
