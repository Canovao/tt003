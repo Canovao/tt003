{
 "cells": [
  {
   "cell_type": "markdown",
   "id": "e1d38d39",
   "metadata": {},
   "source": [
    "**Universidade Estadual de Campinas - Unicamp**\n",
    "\n",
    "**Faculdade de Tecnologia - FT**\n",
    "\n",
    "**Autor:** Ulisses Martins Dias\n",
    "\n",
    "**Disciplina:** TT003 - Tópicos em Computação e Informática III\n",
    "\n",
    "**Atividade 04:** Rede Neural\n",
    "\n",
    "[![Open In Colab](https://colab.research.google.com/assets/colab-badge.svg)](https://colab.research.google.com/github/ulissesdias/tt003/blob/main/atividades/atividade04.ipynb)\n",
    "\n",
    "## Operadores Binários\n",
    "\n",
    "Vamos agora realizar um experimento similar a um dos exemplos em sala de aula, fazer uma rede neural básica aprender a função ((A and B) or (C and D)) que aprendemos logo no início dos nossos cursos de computação. Entretanto, esta função que iremos aprender contém 4 entradas. Nesse caso, temos $2^4 = 16$ possibilidades na tabela verdade.\n",
    "\n",
    "\n",
    "**Input 1** | **Input 2** | **Input 3** | **Input 4** | **Target**\n",
    "------------|-------------|-------------|-------------|-------\n",
    "0 | 0 | 0 | 0 | 0\n",
    "0 | 0 | 0 | 1 | 0\n",
    "0 | 0 | 1 | 0 | 0\n",
    "0 | 0 | 1 | 1 | 1\n",
    "0 | 1 | 0 | 0 | 0\n",
    "0 | 1 | 0 | 1 | 0\n",
    "0 | 1 | 1 | 0 | 0\n",
    "0 | 1 | 1 | 1 | 1\n",
    "1 | 0 | 0 | 0 | 0\n",
    "1 | 0 | 0 | 1 | 0\n",
    "1 | 0 | 1 | 0 | 0\n",
    "1 | 0 | 1 | 1 | 1\n",
    "1 | 1 | 0 | 0 | 1\n",
    "1 | 1 | 0 | 1 | 1\n",
    "1 | 1 | 1 | 0 | 1\n",
    "1 | 1 | 1 | 1 | 1\n",
    "\n",
    "\n",
    "A dificuldade agora é que você terá muito menos suporte do que nas aulas anteriores deste notebook, dado que é necessário que você tenha mais autonomia para prosseguir na disciplina. Por exemplo, não serão fornecidas a você as entradas e as saídas, é esperado que você consiga criar manualmente usando *torch.tensor*. Apenas para lhe ajudar com um $\\epsilon$, abaixo eu lhe mostro como eu começaria em Python convencional. Talvez seja mais interessante criar os vetores em Python convencional e depois gerar os tensores. "
   ]
  },
  {
   "cell_type": "code",
   "execution_count": 1,
   "id": "0bd694e6",
   "metadata": {},
   "outputs": [
    {
     "data": {
      "text/plain": [
       "1"
      ]
     },
     "execution_count": 1,
     "metadata": {},
     "output_type": "execute_result"
    }
   ],
   "source": [
    "def logical_operator(a,b,c,d) :\n",
    "    if (a and b) or (c and d) : \n",
    "        return 1\n",
    "    return 0\n",
    "logical_operator(1,0,1,1)"
   ]
  },
  {
   "cell_type": "code",
   "execution_count": 2,
   "id": "cc36eec1",
   "metadata": {},
   "outputs": [
    {
     "name": "stdout",
     "output_type": "stream",
     "text": [
      "0 | 0 | 0 | 0 | 0\n",
      "0 | 0 | 0 | 1 | 0\n",
      "0 | 0 | 1 | 0 | 0\n",
      "0 | 0 | 1 | 1 | 1\n",
      "0 | 1 | 0 | 0 | 0\n",
      "0 | 1 | 0 | 1 | 0\n",
      "0 | 1 | 1 | 0 | 0\n",
      "0 | 1 | 1 | 1 | 1\n",
      "1 | 0 | 0 | 0 | 0\n",
      "1 | 0 | 0 | 1 | 0\n",
      "1 | 0 | 1 | 0 | 0\n",
      "1 | 0 | 1 | 1 | 1\n",
      "1 | 1 | 0 | 0 | 1\n",
      "1 | 1 | 0 | 1 | 1\n",
      "1 | 1 | 1 | 0 | 1\n",
      "1 | 1 | 1 | 1 | 1\n"
     ]
    }
   ],
   "source": [
    "As = [0]*8 + [1]*8\n",
    "Bs = ([0]*4 + [1]*4)*2 \n",
    "Cs = ([0]*2 + [1]*2)*4\n",
    "Ds = ([0]*1 + [1]*1)*8\n",
    "\n",
    "for a,b,c,d in zip(As,Bs,Cs,Ds) :\n",
    "    print(\"%i | %i | %i | %i | %i\" % (a,b,c,d,logical_operator(a,b,c,d)))"
   ]
  },
  {
   "cell_type": "markdown",
   "id": "1f0328b2",
   "metadata": {},
   "source": [
    "Nesta atividade, você será avaliado por cumprir os seguintes itens.\n",
    "\n",
    "1. Consegue gerar a entrada: as *features* em uma variável $x$ e o *target* em uma variável $y$.\n",
    "2. Consegue criar uma rede usando o *Sequential*.\n",
    "3. Consegue usar camadas *Linear* e *Sigmoid* com as funções do Pytorch.\n",
    "4. Consegue usar uma função de custo. Escolha entre MSELoss ou BCELoss e explique no vídeo o motivo da escolha (na dúvida, teste as duas e explique a que se saiu melhor, ou se as duas foram igualmente bem).\n",
    "5. Consegue executar um treinamento e convergir para uma loss baixa.\n",
    "\n",
    "A sua resposta será, como sempre, um vídeo mostrando as suas análises.\n"
   ]
  }
 ],
 "metadata": {
  "kernelspec": {
   "display_name": "torch",
   "language": "python",
   "name": "python3"
  },
  "language_info": {
   "codemirror_mode": {
    "name": "ipython",
    "version": 3
   },
   "file_extension": ".py",
   "mimetype": "text/x-python",
   "name": "python",
   "nbconvert_exporter": "python",
   "pygments_lexer": "ipython3",
   "version": "3.9.16"
  }
 },
 "nbformat": 4,
 "nbformat_minor": 5
}
