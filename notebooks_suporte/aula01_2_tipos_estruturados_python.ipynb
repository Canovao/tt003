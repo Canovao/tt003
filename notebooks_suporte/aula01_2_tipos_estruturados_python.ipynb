{
 "cells": [
  {
   "cell_type": "markdown",
   "metadata": {
    "id": "9rvMiKFleHAz"
   },
   "source": [
    "**Universidade Estadual de Campinas - Unicamp**\n",
    "\n",
    "**Faculdade de Tecnologia - FT**\n",
    "\n",
    "**Autor:** Ulisses Martins Dias\n",
    "\n",
    "**Disciplina:** TT003 - Tópicos em Computação e Informática III\n",
    "\n",
    "**Material de Apoio da Aula 01:** Tipos Estruturados da Linguagem Python\n",
    "\n",
    "[![Open In Colab](https://colab.research.google.com/assets/colab-badge.svg)](https://colab.research.google.com/github/ulissesdias/tt003/blob/main/notebooks_suporte/aula01_2_tipos_estruturados_python.ipynb)"
   ]
  },
  {
   "cell_type": "markdown",
   "metadata": {
    "id": "SLReDImqH-jF"
   },
   "source": [
    "# Tipos Estruturados da Linguagem Python\n",
    "\n",
    "No material de apoio anterior, nos ambientamos com a sintaxe do Python. Neste material de apoio, olharemos com mais profundidade alguns tipos estruturados pré-definidos: **listas**, **tuplas**, **strings** e **dicionários**.\n",
    "\n",
    "Este material de apoio deve ser usado apenas se você estiver com dificuldades para entender o material principal e precisa de mais suporte."
   ]
  },
  {
   "cell_type": "markdown",
   "metadata": {
    "id": "iUEk4W_meHA1"
   },
   "source": [
    "## Um exemplo do uso de Listas\n",
    "\n",
    "Abaixo vemos um exemplo de código que você provavelmente verá muitas vezes, um comando de repetição **for** iterando sobre uma Lista."
   ]
  },
  {
   "cell_type": "code",
   "execution_count": 1,
   "metadata": {
    "id": "z7ihdUXweHA2"
   },
   "outputs": [
    {
     "name": "stdout",
     "output_type": "stream",
     "text": [
      "1 é ímpar\n",
      "2 é par\n",
      "3 é ímpar\n",
      "4 é par\n",
      "5 é ímpar\n",
      "6 é par\n"
     ]
    }
   ],
   "source": [
    "numeros = [1, 2, 3, 4, 5, 6]\n",
    "\n",
    "for numero in numeros:\n",
    "    if (numero % 2 == 0):\n",
    "        print(numero, \"é par\")\n",
    "    else:\n",
    "        print(numero, \"é ímpar\")\n",
    "\n"
   ]
  },
  {
   "cell_type": "markdown",
   "metadata": {
    "id": "1Pt1ScLUzz61"
   },
   "source": [
    "## Listas\n",
    "\n",
    "São uma sequência heterogênea de elementos. Existe o conceito de ordem.\n",
    "\n",
    "Uma lista pode ser inicializada de várias maneiras:"
   ]
  },
  {
   "cell_type": "code",
   "execution_count": 2,
   "metadata": {
    "id": "fG-AxQKrz-Qf"
   },
   "outputs": [],
   "source": [
    "# cria lista vazia (2 formas)\n",
    "empty_list = []\n",
    "empty_list = list()"
   ]
  },
  {
   "cell_type": "code",
   "execution_count": 3,
   "metadata": {
    "id": "LPRnJ9f00Bxx"
   },
   "outputs": [],
   "source": [
    "# cria uma lista\n",
    "simpsons = ['homer', 'marge', 'bart']"
   ]
  },
  {
   "cell_type": "markdown",
   "metadata": {
    "id": "8uZlQGHWeHA-"
   },
   "source": [
    "## Operações\n",
    "\n",
    "Quanto mais cedo você se habituar com as operações disponíveis sobre listas, mais rápido desenvolverá os seus programas. Existem vários métodos e construções que você precisará memorizar. Entretanto, não se preocupe no momento, dado que você irá memorizá-los depois de usar repetidas vezes."
   ]
  },
  {
   "cell_type": "code",
   "execution_count": 4,
   "metadata": {
    "id": "6MfxKskKeHA_"
   },
   "outputs": [
    {
     "name": "stdout",
     "output_type": "stream",
     "text": [
      "6\n"
     ]
    }
   ],
   "source": [
    "## Descobrindo o número de elementos em uma lista.\n",
    "x = [1, 2, 3, 4, 5, 6]\n",
    "print(len(x))"
   ]
  },
  {
   "cell_type": "markdown",
   "metadata": {
    "id": "yBoWehXAg2qU"
   },
   "source": [
    "### Índices\n",
    "\n",
    "Para acessar os elementos em uma lista, usamos o operador colchetes: [i]. Nesse caso, i é o índice do elemento que queremos acessar.\n",
    "\n",
    "O índice em python pode ser passado de duas formas:\n",
    "\n",
    "**Números Positivos**: O número 0 (zero) representa o primeiro elemento do array, o número 1 (um) representa o segundo e assim por diante. Nesse caso, você poderá passar um valor que vai de 0 até len(array)-1.\n",
    "\n",
    "**Números Negativos**: O número -1 (menos um) representa o último elemento do array, o -2 (menos dois) representa o penúltimo e assim por diante. Nesse caso, você poderá passar um valor que vai de -len(array) até -1."
   ]
  },
  {
   "cell_type": "code",
   "execution_count": 5,
   "metadata": {
    "id": "wMZrIzqQhxqG"
   },
   "outputs": [
    {
     "name": "stdout",
     "output_type": "stream",
     "text": [
      "1\n",
      "2\n",
      "3\n",
      "6\n",
      "---\n",
      "6\n",
      "5\n",
      "1\n"
     ]
    }
   ],
   "source": [
    "print(x[0])\n",
    "print(x[1])\n",
    "print(x[2])\n",
    "print(x[len(x)-1])\n",
    "print(\"---\")\n",
    "print(x[-1])\n",
    "print(x[-2])\n",
    "print(x[-len(x)])"
   ]
  },
  {
   "cell_type": "markdown",
   "metadata": {
    "id": "8zsr3Hm3iCnK"
   },
   "source": [
    "### Slices\n",
    "\n",
    "Podemos obter uma sub-lista da lista original também com o operador colchetes. Nesse caso, usamos um dois pontos \":\" para identificar o início e o fim da sub-lista, algo como:\n",
    "\n",
    "**x[início:fim]**\n",
    "\n",
    "Essa construção é chamada de *slice*. Quando o nosso slice começa no início da lista original, não precisamos fornecer o índice de início. O mesmo ocorre quando o nosso slice termina no final da lista original, daí não precisamos colocar o índice de fim.\n",
    "\n",
    "Note que o índice de fim é \"não inclusivo\", ou seja, se colocarmos *x[início:fim]*, então o que será retornado será a lista que começa no índice *início* e termina no índice *fim-1*.\n",
    "\n",
    "Veja abaixo alguns exemplos mais comuns e garanta que entendeu tudo o que está acontecendo."
   ]
  },
  {
   "cell_type": "code",
   "execution_count": 6,
   "metadata": {
    "id": "lUUkGoXbeHBC"
   },
   "outputs": [
    {
     "data": {
      "text/plain": [
       "[1, 2, 3]"
      ]
     },
     "execution_count": 6,
     "metadata": {},
     "output_type": "execute_result"
    }
   ],
   "source": [
    "## No slice abaixo, obtemos os elementos no início da lista. Em\n",
    "## outras palavras, da posição 0 até a posição 3-1 = 2. Não esqueça\n",
    "## que o índice de fim é não inclusivo.\n",
    "\n",
    "x[:3]"
   ]
  },
  {
   "cell_type": "code",
   "execution_count": 7,
   "metadata": {
    "id": "IiMmGcnPeHBF"
   },
   "outputs": [
    {
     "data": {
      "text/plain": [
       "[4, 5, 6]"
      ]
     },
     "execution_count": 7,
     "metadata": {},
     "output_type": "execute_result"
    }
   ],
   "source": [
    "## No slice abaixo, obtemos os elementos no final da lista. Em\n",
    "## outras palavras, da posição 3 (não esqueça que python começa\n",
    "## a indexar arrays na posição '0') até a posição len(x)-1.\n",
    "\n",
    "x[3:]"
   ]
  },
  {
   "cell_type": "code",
   "execution_count": 8,
   "metadata": {
    "id": "7TwrbBhNeHBH"
   },
   "outputs": [
    {
     "data": {
      "text/plain": [
       "[5, 6]"
      ]
     },
     "execution_count": 8,
     "metadata": {},
     "output_type": "execute_result"
    }
   ],
   "source": [
    "## No slice abaixo, usamos índices com números negativos.\n",
    "\n",
    "x[-2:]"
   ]
  },
  {
   "cell_type": "markdown",
   "metadata": {
    "id": "i6dXRioA1nZs"
   },
   "source": [
    "Menos comum é obter um **slice** com um **passo**, a notação seria *[Início:Fim:Passo]*, a mesma do anterior, apenas omitimos o passo da explicação acima porque não é a forma mais comum."
   ]
  },
  {
   "cell_type": "code",
   "execution_count": 9,
   "metadata": {
    "id": "xj7-BKKq14XZ"
   },
   "outputs": [
    {
     "data": {
      "text/plain": [
       "[2, 4, 6]"
      ]
     },
     "execution_count": 9,
     "metadata": {},
     "output_type": "execute_result"
    }
   ],
   "source": [
    "## Neste exemplo, começamos no segundo elemento (índice 1) e\n",
    "## caminhamos pelo array de dois em dois até o final do array.\n",
    "x[1::2]"
   ]
  },
  {
   "cell_type": "code",
   "execution_count": 10,
   "metadata": {
    "id": "VJg_cy6c2RpH"
   },
   "outputs": [],
   "source": [
    "## Neste exemplo, colocamos o passo como -1, o que quer dizer que\n",
    "## vamos percorrer de trás pra frente"
   ]
  },
  {
   "cell_type": "code",
   "execution_count": 11,
   "metadata": {
    "id": "_HklWl7e2Zci"
   },
   "outputs": [
    {
     "data": {
      "text/plain": [
       "[6, 5, 4]"
      ]
     },
     "execution_count": 11,
     "metadata": {},
     "output_type": "execute_result"
    }
   ],
   "source": [
    "x[6:2:-1]"
   ]
  },
  {
   "cell_type": "markdown",
   "metadata": {
    "id": "xk5Z4g9dpDJC"
   },
   "source": [
    "### Adicionando novos elementos\n",
    "\n",
    "O elemento lista que estamos vendo é dito mutável. Isso quer dizer que podemos adicionar ou remover elementos. Vamos aprender a adicionar elementos, o que pode ser feito de duas formas:\n",
    "\n",
    "**Adicionar um único elemento:** para adicionar um novo elemento uma única vez, podemos usar o método *append*.\n",
    "\n",
    "**Adicionar elementos de outro iterável:** para adicionar elemento de um outro iterável (que pode ser outra lista, tupla, dicionários, ...), podemos usar o método *extend*.\n",
    "\n"
   ]
  },
  {
   "cell_type": "code",
   "execution_count": 12,
   "metadata": {
    "id": "888sPZa1p50r"
   },
   "outputs": [
    {
     "name": "stdout",
     "output_type": "stream",
     "text": [
      "Help on built-in function extend:\n",
      "\n",
      "extend(iterable, /) method of builtins.list instance\n",
      "    Extend list by appending elements from the iterable.\n",
      "\n",
      "\n",
      "----------\n",
      "\n",
      "Help on built-in function append:\n",
      "\n",
      "append(object, /) method of builtins.list instance\n",
      "    Append object to the end of the list.\n",
      "\n"
     ]
    }
   ],
   "source": [
    "help(x.extend)\n",
    "print(\"\\n----------\\n\")\n",
    "help(x.append)"
   ]
  },
  {
   "cell_type": "code",
   "execution_count": 13,
   "metadata": {
    "id": "TqJg22d4eHBK"
   },
   "outputs": [
    {
     "data": {
      "text/plain": [
       "[1, 2, 3, 4, 5, 6, 7, 8]"
      ]
     },
     "execution_count": 13,
     "metadata": {},
     "output_type": "execute_result"
    }
   ],
   "source": [
    "x.extend([7,8])\n",
    "x"
   ]
  },
  {
   "cell_type": "code",
   "execution_count": 14,
   "metadata": {
    "id": "3AxoakJMeHBN"
   },
   "outputs": [
    {
     "data": {
      "text/plain": [
       "[1, 2, 3, 4, 5, 6, 7, 8, 9]"
      ]
     },
     "execution_count": 14,
     "metadata": {},
     "output_type": "execute_result"
    }
   ],
   "source": [
    "x.append(9)\n",
    "x"
   ]
  },
  {
   "cell_type": "code",
   "execution_count": 15,
   "metadata": {
    "id": "6Mn2Mq120SPy"
   },
   "outputs": [
    {
     "data": {
      "text/plain": [
       "[1, 2, 3, 9, 4, 5, 6, 7, 8, 9]"
      ]
     },
     "execution_count": 15,
     "metadata": {},
     "output_type": "execute_result"
    }
   ],
   "source": [
    "x.insert(3,9)\n",
    "x"
   ]
  },
  {
   "cell_type": "markdown",
   "metadata": {
    "id": "h34gPy_O0oED"
   },
   "source": [
    "### Encontrando elemento em uma lista"
   ]
  },
  {
   "cell_type": "code",
   "execution_count": 16,
   "metadata": {
    "id": "WPJNZPJN0mvY"
   },
   "outputs": [
    {
     "data": {
      "text/plain": [
       "2"
      ]
     },
     "execution_count": 16,
     "metadata": {},
     "output_type": "execute_result"
    }
   ],
   "source": [
    "# conta número de ocorrecias\n",
    "x.count(9)"
   ]
  },
  {
   "cell_type": "code",
   "execution_count": 17,
   "metadata": {
    "id": "kS80wURQ0x1B"
   },
   "outputs": [
    {
     "data": {
      "text/plain": [
       "3"
      ]
     },
     "execution_count": 17,
     "metadata": {},
     "output_type": "execute_result"
    }
   ],
   "source": [
    "# retorna índice da primeira ocorrência\n",
    "x.index(9)"
   ]
  },
  {
   "cell_type": "markdown",
   "metadata": {
    "id": "hn9Gou5mqRLJ"
   },
   "source": [
    "### Lista de Listas\n",
    "\n",
    "Em Python, podemos gerar listas de listas, o que nos permitirá depois construir matrizes para resolver problemas. Abaixo a estrutura básica de listas de listas."
   ]
  },
  {
   "cell_type": "code",
   "execution_count": 18,
   "metadata": {
    "id": "QGEFOsvheHBQ"
   },
   "outputs": [
    {
     "data": {
      "text/plain": [
       "[[1, 2, 3, 9, 4, 5, 6, 7, 8, 9], [10, 11, 12]]"
      ]
     },
     "execution_count": 18,
     "metadata": {},
     "output_type": "execute_result"
    }
   ],
   "source": [
    "y = [10, 11, 12]\n",
    "lista_de_listas = [x, y]\n",
    "lista_de_listas"
   ]
  },
  {
   "cell_type": "code",
   "execution_count": 19,
   "metadata": {
    "id": "oKLlWbAJeHBT"
   },
   "outputs": [
    {
     "data": {
      "text/plain": [
       "11"
      ]
     },
     "execution_count": 19,
     "metadata": {},
     "output_type": "execute_result"
    }
   ],
   "source": [
    "y[1]"
   ]
  },
  {
   "cell_type": "markdown",
   "metadata": {
    "id": "4Pj11z1o6OAK"
   },
   "source": [
    "### Ordenação de Listas\n",
    "\n",
    "Em muitos casos, ordenar a lista pode servir para otimizar ou simplificar algoritmos. O comando *sort*, em sua forma padrão, pode ser usado das formas a seguir."
   ]
  },
  {
   "cell_type": "code",
   "execution_count": 20,
   "metadata": {
    "id": "7qkyW5DCeHBW"
   },
   "outputs": [
    {
     "data": {
      "text/plain": [
       "[1, 2, 3]"
      ]
     },
     "execution_count": 20,
     "metadata": {},
     "output_type": "execute_result"
    }
   ],
   "source": [
    "z = [3, 2, 1]\n",
    "z.sort()\n",
    "z"
   ]
  },
  {
   "cell_type": "code",
   "execution_count": 21,
   "metadata": {
    "id": "BZTPYlVceHBZ"
   },
   "outputs": [
    {
     "data": {
      "text/plain": [
       "[3, 2, 1]"
      ]
     },
     "execution_count": 21,
     "metadata": {},
     "output_type": "execute_result"
    }
   ],
   "source": [
    "z.sort(reverse=True)\n",
    "z"
   ]
  },
  {
   "cell_type": "markdown",
   "metadata": {
    "id": "ToOhYgqf3j1z"
   },
   "source": [
    "No caso de querermos ordenar uma lista mais complexa, podemos criar uma função\n",
    "para comparar os elementos. Por exemplo, vamos usar a lista de lista\n",
    "vista anteriormente com uma função um pouco mais exótica."
   ]
  },
  {
   "cell_type": "code",
   "execution_count": 22,
   "metadata": {
    "id": "uRRC7gIK3iy8"
   },
   "outputs": [
    {
     "data": {
      "text/plain": [
       "[[1, 2, 3, 9, 4, 5, 6, 7, 8, 9],\n",
       " [10, 11, 12],\n",
       " ['U', 'l', 'i', 's', 's', 'e', 's']]"
      ]
     },
     "execution_count": 22,
     "metadata": {},
     "output_type": "execute_result"
    }
   ],
   "source": [
    "## Vamos primeiro aumentar a lista com um novo elemento.\n",
    "lista_de_listas.append(list(\"Ulisses\"))\n",
    "lista_de_listas"
   ]
  },
  {
   "cell_type": "code",
   "execution_count": 23,
   "metadata": {
    "id": "ux2toWkE38_s"
   },
   "outputs": [
    {
     "data": {
      "text/plain": [
       "57"
      ]
     },
     "execution_count": 23,
     "metadata": {},
     "output_type": "execute_result"
    }
   ],
   "source": [
    "## Para comparar duas listas, usamos o código Ascii do primeiro elemento do\n",
    "## primeiro elemento e o código ascii do último elemento do último elemento.\n",
    "## Além disso computamos o resto da diferença por 111.\n",
    "def listToInt(lista) :\n",
    "    return (ord(str(lista[0])[0] ) * ord(str(lista[-1])[-1])) % 111\n",
    "listToInt([1,2,3])"
   ]
  },
  {
   "cell_type": "code",
   "execution_count": 24,
   "metadata": {
    "id": "-hNcQDBF4rT-"
   },
   "outputs": [
    {
     "data": {
      "text/plain": [
       "[['U', 'l', 'i', 's', 's', 'e', 's'],\n",
       " [10, 11, 12],\n",
       " [1, 2, 3, 9, 4, 5, 6, 7, 8, 9]]"
      ]
     },
     "execution_count": 24,
     "metadata": {},
     "output_type": "execute_result"
    }
   ],
   "source": [
    "## Podemos agora aplicar a função para comparar as listas\n",
    "lista_de_listas.sort(key=listToInt)\n",
    "lista_de_listas"
   ]
  },
  {
   "cell_type": "markdown",
   "metadata": {
    "id": "sT5hoTZr6ZAq"
   },
   "source": [
    "Em vários casos, queremos obter uma lista ordenada, mas mantendo a lista desordenada original de backup."
   ]
  },
  {
   "cell_type": "code",
   "execution_count": 25,
   "metadata": {
    "id": "2-8L0qGZ6gXo"
   },
   "outputs": [
    {
     "data": {
      "text/plain": [
       "[[10, 11, 12],\n",
       " ['U', 'l', 'i', 's', 's', 'e', 's'],\n",
       " [1, 2, 3, 9, 4, 5, 6, 7, 8, 9]]"
      ]
     },
     "execution_count": 25,
     "metadata": {},
     "output_type": "execute_result"
    }
   ],
   "source": [
    "## Note que \"reverse = False\" é o padrão, só coloquei aqui\n",
    "## para evidenciar esse parâmetro importante\n",
    "sorted(lista_de_listas, key = len, reverse = False)"
   ]
  },
  {
   "cell_type": "code",
   "execution_count": 26,
   "metadata": {
    "id": "acL1HT9p6p7_"
   },
   "outputs": [
    {
     "data": {
      "text/plain": [
       "[['U', 'l', 'i', 's', 's', 'e', 's'],\n",
       " [10, 11, 12],\n",
       " [1, 2, 3, 9, 4, 5, 6, 7, 8, 9]]"
      ]
     },
     "execution_count": 26,
     "metadata": {},
     "output_type": "execute_result"
    }
   ],
   "source": [
    "lista_de_listas"
   ]
  },
  {
   "cell_type": "markdown",
   "metadata": {
    "id": "nI4ySZr87Ie5"
   },
   "source": [
    "## Referência e Cópia\n",
    "\n",
    "Em alguns casos, temos que tomar cuidado ao alterar uma lista, podemos estar achando que temos uma cópia armazenada na memória quando na verdade não temos.\n",
    "Em python, a atribuição de listas é feita por referência, o que difere da atribuição de tipos básicos."
   ]
  },
  {
   "cell_type": "code",
   "execution_count": 27,
   "metadata": {
    "id": "eHhMdD1P9nYo"
   },
   "outputs": [
    {
     "name": "stdout",
     "output_type": "stream",
     "text": [
      "1 3\n"
     ]
    }
   ],
   "source": [
    "## Atribuição com tipos básicos\n",
    "int1 = 1\n",
    "int2 = int1\n",
    "int2 += 2\n",
    "print(int1, int2)"
   ]
  },
  {
   "cell_type": "code",
   "execution_count": 28,
   "metadata": {
    "id": "WxgY5nLh-Eux"
   },
   "outputs": [
    {
     "name": "stdout",
     "output_type": "stream",
     "text": [
      "1 12\n"
     ]
    }
   ],
   "source": [
    "## Atribuição com Strings\n",
    "string1 = \"1\"\n",
    "string2 = string1\n",
    "string2 += \"2\"\n",
    "print(string1, string2)"
   ]
  },
  {
   "cell_type": "code",
   "execution_count": 29,
   "metadata": {
    "id": "uTuUKYMX9xK2"
   },
   "outputs": [
    {
     "name": "stdout",
     "output_type": "stream",
     "text": [
      "[1, 2] [1, 2]\n"
     ]
    }
   ],
   "source": [
    "## Atribuição com listas\n",
    "lista1 = [1]\n",
    "lista2 = lista1\n",
    "lista2 += [2]\n",
    "print(lista1, lista2)"
   ]
  },
  {
   "cell_type": "markdown",
   "metadata": {
    "id": "4ljnQ0X7-Puc"
   },
   "source": [
    "Essa situação fica evidente com o operador **is**, que verifica se duas  variáveis possuem referência para a mesma região de memória."
   ]
  },
  {
   "cell_type": "code",
   "execution_count": 30,
   "metadata": {
    "id": "4M0c4WVQ-O6n"
   },
   "outputs": [
    {
     "data": {
      "text/plain": [
       "False"
      ]
     },
     "execution_count": 30,
     "metadata": {},
     "output_type": "execute_result"
    }
   ],
   "source": [
    "int1 = 1\n",
    "int2 = int1\n",
    "int2 += 2\n",
    "int2 is int1"
   ]
  },
  {
   "cell_type": "code",
   "execution_count": 31,
   "metadata": {
    "id": "g-miXxmK_Ogs"
   },
   "outputs": [
    {
     "data": {
      "text/plain": [
       "True"
      ]
     },
     "execution_count": 31,
     "metadata": {},
     "output_type": "execute_result"
    }
   ],
   "source": [
    "list1 = [1]\n",
    "list2 = list1\n",
    "list2 += [2]\n",
    "list2 is list1"
   ]
  },
  {
   "cell_type": "markdown",
   "metadata": {
    "id": "PugR5m3M_Wvk"
   },
   "source": [
    "Podemos criar uma nova referência de duas formas:"
   ]
  },
  {
   "cell_type": "code",
   "execution_count": 32,
   "metadata": {
    "id": "nQX5BstP_a2H"
   },
   "outputs": [
    {
     "name": "stdout",
     "output_type": "stream",
     "text": [
      "False\n",
      "False\n",
      "False\n"
     ]
    }
   ],
   "source": [
    "list1 = [1]\n",
    "list2 = list(list1)\n",
    "list3 = list1[:]\n",
    "\n",
    "print(list1 is list2)\n",
    "print(list1 is list3)\n",
    "print(list2 is list3)\n",
    "\n",
    "## Entender essas noções de cópia e referência podem lhe\n",
    "## salvar bastante tempo de depuração."
   ]
  },
  {
   "cell_type": "markdown",
   "metadata": {
    "id": "dy_raP_YeHBp"
   },
   "source": [
    "## Tuplas\n",
    "\n",
    "Tuplas são lista imutáveis, o quer dizer que uma vez criadas não podem ter conteúdo alterado. As tuplas podem aparecer naturalmente, como ao atribuir o retorno de uma função que devolve vários valores para uma variável, ou podem ser uma necessidade, como na formatação de *strings* ou na utilização de índices compostos em dicionários.\n",
    "\n",
    "Em todo caso, a sintaxe das tuplas será sempre semelhante a de uma lista, mas use **()** ao invés de **[]**."
   ]
  },
  {
   "cell_type": "code",
   "execution_count": 33,
   "metadata": {
    "id": "eq-90Dw5eHBq"
   },
   "outputs": [
    {
     "data": {
      "text/plain": [
       "4"
      ]
     },
     "execution_count": 33,
     "metadata": {},
     "output_type": "execute_result"
    }
   ],
   "source": [
    "x = (1, 2, 3, \"4\")\n",
    "len(x)"
   ]
  },
  {
   "cell_type": "code",
   "execution_count": 34,
   "metadata": {
    "id": "0Kwu_GlVeHBt"
   },
   "outputs": [
    {
     "data": {
      "text/plain": [
       "6"
      ]
     },
     "execution_count": 34,
     "metadata": {},
     "output_type": "execute_result"
    }
   ],
   "source": [
    "y = (4, 5, 6)\n",
    "y[2]"
   ]
  },
  {
   "cell_type": "code",
   "execution_count": 35,
   "metadata": {
    "id": "D0HGJKQ3eHBw"
   },
   "outputs": [
    {
     "data": {
      "text/plain": [
       "[(1, 2, 3, '4'), (4, 5, 6)]"
      ]
     },
     "execution_count": 35,
     "metadata": {},
     "output_type": "execute_result"
    }
   ],
   "source": [
    "lista_de_tuplas = [x, y]\n",
    "lista_de_tuplas"
   ]
  },
  {
   "cell_type": "code",
   "execution_count": 36,
   "metadata": {
    "id": "fPb6ygpLeHBy"
   },
   "outputs": [
    {
     "name": "stdout",
     "output_type": "stream",
     "text": [
      "32\n",
      "120000\n"
     ]
    }
   ],
   "source": [
    "## Tupla como retorno de uma função.\n",
    "\n",
    "(age, income) = \"32,120000\".split(',', 1)\n",
    "print(age)\n",
    "print(income)"
   ]
  },
  {
   "cell_type": "code",
   "execution_count": 37,
   "metadata": {
    "id": "H3q1XYbQADHu"
   },
   "outputs": [
    {
     "name": "stdout",
     "output_type": "stream",
     "text": [
      "Help on built-in function split:\n",
      "\n",
      "split(sep=None, maxsplit=-1) method of builtins.str instance\n",
      "    Return a list of the words in the string, using sep as the delimiter string.\n",
      "    \n",
      "    sep\n",
      "      The delimiter according which to split the string.\n",
      "      None (the default value) means split according to any whitespace,\n",
      "      and discard empty strings from the result.\n",
      "    maxsplit\n",
      "      Maximum number of splits to do.\n",
      "      -1 (the default value) means no limit.\n",
      "\n"
     ]
    }
   ],
   "source": [
    "\n",
    "## Como a função split não foi formalmente apresentada,\n",
    "## use a função help para saber o que ela faz.\n",
    "help(\"\".split)"
   ]
  },
  {
   "cell_type": "markdown",
   "metadata": {
    "id": "rGzqhc_wAdAF"
   },
   "source": [
    "Fora esses detalhes, uma tupla funciona quase que da mesma forma que uma lista"
   ]
  },
  {
   "cell_type": "code",
   "execution_count": 38,
   "metadata": {
    "id": "G58pw778AcIZ"
   },
   "outputs": [
    {
     "data": {
      "text/plain": [
       "3"
      ]
     },
     "execution_count": 38,
     "metadata": {},
     "output_type": "execute_result"
    }
   ],
   "source": [
    "## Obtendo valor\n",
    "x[2]"
   ]
  },
  {
   "cell_type": "code",
   "execution_count": 39,
   "metadata": {
    "id": "qAnjM1IkAvIR"
   },
   "outputs": [
    {
     "data": {
      "text/plain": [
       "4"
      ]
     },
     "execution_count": 39,
     "metadata": {},
     "output_type": "execute_result"
    }
   ],
   "source": [
    "## Obtendo tamanho\n",
    "len(x)"
   ]
  },
  {
   "cell_type": "code",
   "execution_count": 40,
   "metadata": {
    "id": "jxsKqsseAz0e"
   },
   "outputs": [
    {
     "data": {
      "text/plain": [
       "1"
      ]
     },
     "execution_count": 40,
     "metadata": {},
     "output_type": "execute_result"
    }
   ],
   "source": [
    "## Obtendo a quantidade de um dado elemento\n",
    "x.count(2)"
   ]
  },
  {
   "cell_type": "code",
   "execution_count": 41,
   "metadata": {
    "id": "vv1gSEByA9kh"
   },
   "outputs": [
    {
     "data": {
      "text/plain": [
       "1"
      ]
     },
     "execution_count": 41,
     "metadata": {},
     "output_type": "execute_result"
    }
   ],
   "source": [
    "## Obtendo a primeira posição de um dado elemento\n",
    "x.index(2)"
   ]
  },
  {
   "cell_type": "markdown",
   "metadata": {
    "id": "TBosgyCTBGBB"
   },
   "source": [
    "Lembre-se sempre que alterar uma tupla não é possível"
   ]
  },
  {
   "cell_type": "code",
   "execution_count": 42,
   "metadata": {
    "id": "ehY9d2jOBLWP"
   },
   "outputs": [],
   "source": [
    "## Abaixo vai dar um erro\n",
    "# x[2] = 3"
   ]
  },
  {
   "cell_type": "markdown",
   "metadata": {
    "id": "Kt5HzpJaBesr"
   },
   "source": [
    "Outras operações úteis"
   ]
  },
  {
   "cell_type": "code",
   "execution_count": 43,
   "metadata": {
    "id": "bVhQ7N_jBeCw"
   },
   "outputs": [
    {
     "data": {
      "text/plain": [
       "(3, 4, 3, 4)"
      ]
     },
     "execution_count": 43,
     "metadata": {},
     "output_type": "execute_result"
    }
   ],
   "source": [
    "# cria uma tupla com elementos repetidos\n",
    "(3, 4) * 2"
   ]
  },
  {
   "cell_type": "code",
   "execution_count": 44,
   "metadata": {
    "id": "YA9bUumXBmwf"
   },
   "outputs": [
    {
     "data": {
      "text/plain": [
       "[(10, 40), (20, 30), (20, 60)]"
      ]
     },
     "execution_count": 44,
     "metadata": {},
     "output_type": "execute_result"
    }
   ],
   "source": [
    "# ordena uma lista de tuplas\n",
    "tens = [(20, 60), (10, 40), (20, 30)]\n",
    "sorted(tens)    # ordena pelo primeiro elemento, em caso de empate pelo segundo e assim por diante"
   ]
  },
  {
   "cell_type": "code",
   "execution_count": 45,
   "metadata": {
    "id": "rwtIjP-hBxeB"
   },
   "outputs": [
    {
     "name": "stdout",
     "output_type": "stream",
     "text": [
      "male\n",
      "10\n",
      "simpson\n"
     ]
    }
   ],
   "source": [
    "## Atribuições\n",
    "\n",
    "bart = ('male', 10, 'simpson')    # cria uma tupla\n",
    "(sex, age, surname) = bart        # 3 atribuições combinadas\n",
    "print(sex)\n",
    "print(age)\n",
    "print(surname)"
   ]
  },
  {
   "cell_type": "markdown",
   "metadata": {
    "id": "9S304m62eHB0"
   },
   "source": [
    "## Dicionários\n",
    "\n",
    "Esta é uma estrutura de dados com muitos nomes, alguns chamam de *tabela hash*, outros de *arrays associativos*, outros de *dicionários*. Utilizaremos este último nome na grande maioria dos casos.\n",
    "\n",
    "Um dicionário é um tipo de mapeamento nativo do Python.  A associação, ou mapeamento, é feita a partir de uma chave, que pode ser qualquer tipo imutável, para um valor, que pode ser qualquer objeto de dados do Python.\n",
    "\n",
    "**mapa[chave] => valor**\n",
    "\n",
    "Na grande maioria dos casos, você verá as chaves serem utilizadas com valores numéricos, strings ou tuplas. Os exemplos abaixo darão uma noção dessa estrutura de dados."
   ]
  },
  {
   "cell_type": "code",
   "execution_count": 46,
   "metadata": {
    "id": "J1FnG3zVeHB1"
   },
   "outputs": [],
   "source": [
    "professores = {}\n",
    "professores[\"ulisses\"] = \"Solução de Problemas I\"\n",
    "professores[\"borges\"] = \"Gerenciamento de Projetos\"\n",
    "professores[\"guilherme\"] = \"Programação I\"\n",
    "professores[\"meira\"] = \"Programação II\"\n",
    "professores[\"ana\"] = \"Inteligência Artificial\"\n",
    "\n"
   ]
  },
  {
   "cell_type": "code",
   "execution_count": 47,
   "metadata": {
    "id": "EGuNF24mCIzF"
   },
   "outputs": [
    {
     "name": "stdout",
     "output_type": "stream",
     "text": [
      "Solução de Problemas I\n"
     ]
    }
   ],
   "source": [
    "print(professores[\"ulisses\"])"
   ]
  },
  {
   "cell_type": "code",
   "execution_count": 48,
   "metadata": {
    "id": "-HyDk6TAeHB3"
   },
   "outputs": [
    {
     "name": "stdout",
     "output_type": "stream",
     "text": [
      "Programação I\n"
     ]
    }
   ],
   "source": [
    "print(professores.get(\"guilherme\"))"
   ]
  },
  {
   "cell_type": "code",
   "execution_count": 49,
   "metadata": {
    "id": "9lwJZHUzCMC_"
   },
   "outputs": [],
   "source": [
    "# Abaixo temos um erro. Veja a seguir o que pode ser feito.\n",
    "# print(professores[\"bertini\"])"
   ]
  },
  {
   "cell_type": "code",
   "execution_count": 50,
   "metadata": {
    "id": "kY4aez0neHB9"
   },
   "outputs": [
    {
     "name": "stdout",
     "output_type": "stream",
     "text": [
      "None\n"
     ]
    }
   ],
   "source": [
    "# Retorna none se a chave não existir, mas pelo menos não dá erro.\n",
    "print(professores.get(\"bertini\"))"
   ]
  },
  {
   "cell_type": "code",
   "execution_count": 51,
   "metadata": {
    "id": "lJODs7H1eHCB"
   },
   "outputs": [
    {
     "name": "stdout",
     "output_type": "stream",
     "text": [
      "ulisses: Solução de Problemas I\n",
      "borges: Gerenciamento de Projetos\n",
      "guilherme: Programação I\n",
      "meira: Programação II\n",
      "ana: Inteligência Artificial\n"
     ]
    }
   ],
   "source": [
    "for professor in professores:\n",
    "    print(professor + \": \" + professores[professor])"
   ]
  },
  {
   "cell_type": "markdown",
   "metadata": {
    "id": "XMiVRlUbC0lj"
   },
   "source": [
    "Agora que você já entendeu o que a estrutura pode fazer por você, vamos ver um pouco mais de detalhes que você pode adicionar nos seus códigos ou encontrar\n",
    "no código de outras pessoas."
   ]
  },
  {
   "cell_type": "code",
   "execution_count": 52,
   "metadata": {
    "id": "yhif8t9cC9lC"
   },
   "outputs": [],
   "source": [
    "# dic. vazio\n",
    "empty_dict = {}\n",
    "empty_dict = dict()"
   ]
  },
  {
   "cell_type": "code",
   "execution_count": 53,
   "metadata": {
    "id": "ujW9DvS7C_vN"
   },
   "outputs": [
    {
     "name": "stdout",
     "output_type": "stream",
     "text": [
      "{'dad': 'homer', 'mom': 'marge', 'size': 6}\n",
      "{'dad': 'homer', 'mom': 'marge', 'size': 6}\n"
     ]
    }
   ],
   "source": [
    "# 2 formas de criar um dicionário\n",
    "simpsons1 = {'dad':'homer', 'mom':'marge', 'size':6}\n",
    "simpsons2 = dict(dad='homer', mom='marge', size=6)\n",
    "print(simpsons1)\n",
    "print(simpsons2)"
   ]
  },
  {
   "cell_type": "code",
   "execution_count": 54,
   "metadata": {
    "id": "93zDu5c2DMuG"
   },
   "outputs": [
    {
     "data": {
      "text/plain": [
       "{'dad': 'homer', 'mom': 'marge', 'size': 6}"
      ]
     },
     "execution_count": 54,
     "metadata": {},
     "output_type": "execute_result"
    }
   ],
   "source": [
    "# converte uma lista de tuplas em um dic.\n",
    "list_of_tuples = [('dad', 'homer'), ('mom', 'marge'), ('size', 6)]\n",
    "simpsons = dict(list_of_tuples)\n",
    "simpsons"
   ]
  },
  {
   "cell_type": "code",
   "execution_count": 55,
   "metadata": {
    "id": "fh4apR6pDWS_"
   },
   "outputs": [
    {
     "data": {
      "text/plain": [
       "'homer'"
      ]
     },
     "execution_count": 55,
     "metadata": {},
     "output_type": "execute_result"
    }
   ],
   "source": [
    "# passa a chave e retorna o valor\n",
    "simpsons['dad']"
   ]
  },
  {
   "cell_type": "code",
   "execution_count": 56,
   "metadata": {
    "id": "O3cGqrn5DZ2G"
   },
   "outputs": [
    {
     "data": {
      "text/plain": [
       "3"
      ]
     },
     "execution_count": 56,
     "metadata": {},
     "output_type": "execute_result"
    }
   ],
   "source": [
    "# retorna o número de pares key-value\n",
    "len(simpsons)"
   ]
  },
  {
   "cell_type": "code",
   "execution_count": 57,
   "metadata": {
    "id": "IUJOhnESDdj6"
   },
   "outputs": [
    {
     "data": {
      "text/plain": [
       "True"
      ]
     },
     "execution_count": 57,
     "metadata": {},
     "output_type": "execute_result"
    }
   ],
   "source": [
    "# checa se uma chave existe\n",
    "'dad' in simpsons"
   ]
  },
  {
   "cell_type": "code",
   "execution_count": 58,
   "metadata": {
    "id": "9A_7bToNDjr-"
   },
   "outputs": [
    {
     "data": {
      "text/plain": [
       "False"
      ]
     },
     "execution_count": 58,
     "metadata": {},
     "output_type": "execute_result"
    }
   ],
   "source": [
    "# Lembre-se que valores não são checados de forma eficiente\n",
    "'homer' in simpsons"
   ]
  },
  {
   "cell_type": "code",
   "execution_count": 59,
   "metadata": {
    "id": "6YqBkvXKDrwt"
   },
   "outputs": [
    {
     "data": {
      "text/plain": [
       "dict_values(['homer', 'marge', 6])"
      ]
     },
     "execution_count": 59,
     "metadata": {},
     "output_type": "execute_result"
    }
   ],
   "source": [
    "# retorna os valores em um iterable\n",
    "simpsons.values()"
   ]
  },
  {
   "cell_type": "code",
   "execution_count": 60,
   "metadata": {
    "id": "Ioe8ssjVD1Pv"
   },
   "outputs": [
    {
     "data": {
      "text/plain": [
       "dict_items([('dad', 'homer'), ('mom', 'marge'), ('size', 6)])"
      ]
     },
     "execution_count": 60,
     "metadata": {},
     "output_type": "execute_result"
    }
   ],
   "source": [
    "# retorna os pares chave-valor em um iterable\n",
    "simpsons.items()"
   ]
  },
  {
   "cell_type": "code",
   "execution_count": 61,
   "metadata": {
    "id": "e768fbGLD9Vc"
   },
   "outputs": [
    {
     "data": {
      "text/plain": [
       "{'dad': 'homer', 'mom': 'marge', 'size': 6, 'cat': 'snowball'}"
      ]
     },
     "execution_count": 61,
     "metadata": {},
     "output_type": "execute_result"
    }
   ],
   "source": [
    "# adicionando nova entrada\n",
    "simpsons['cat'] = 'snowball'\n",
    "simpsons"
   ]
  },
  {
   "cell_type": "code",
   "execution_count": 62,
   "metadata": {
    "id": "5r407Fg9EB7a"
   },
   "outputs": [
    {
     "data": {
      "text/plain": [
       "{'dad': 'homer', 'mom': 'marge', 'size': 6, 'cat': 'snowball ii'}"
      ]
     },
     "execution_count": 62,
     "metadata": {},
     "output_type": "execute_result"
    }
   ],
   "source": [
    "# editando um item\n",
    "simpsons['cat'] = 'snowball ii'\n",
    "simpsons"
   ]
  },
  {
   "cell_type": "code",
   "execution_count": 63,
   "metadata": {
    "id": "5zF4d0WrEJyj"
   },
   "outputs": [
    {
     "data": {
      "text/plain": [
       "{'dad': 'homer', 'mom': 'marge', 'size': 6}"
      ]
     },
     "execution_count": 63,
     "metadata": {},
     "output_type": "execute_result"
    }
   ],
   "source": [
    "# deletando um item\n",
    "del simpsons['cat']\n",
    "simpsons"
   ]
  },
  {
   "cell_type": "code",
   "execution_count": 64,
   "metadata": {
    "id": "kLpGPxLSEO3m"
   },
   "outputs": [
    {
     "data": {
      "text/plain": [
       "{'dad': 'homer', 'mom': 'marge', 'size': 6, 'kids': ['bart', 'lisa']}"
      ]
     },
     "execution_count": 64,
     "metadata": {},
     "output_type": "execute_result"
    }
   ],
   "source": [
    "# valores podem ser listas\n",
    "simpsons['kids'] = ['bart', 'lisa']\n",
    "simpsons"
   ]
  },
  {
   "cell_type": "code",
   "execution_count": 65,
   "metadata": {
    "id": "hyLpPPrHEU77"
   },
   "outputs": [
    {
     "data": {
      "text/plain": [
       "{'dad': 'homer',\n",
       " 'mom': 'marge',\n",
       " 'size': 6,\n",
       " 'kids': ['bart', 'lisa'],\n",
       " 'baby': 'maggie',\n",
       " 'grandpa': 'abe'}"
      ]
     },
     "execution_count": 65,
     "metadata": {},
     "output_type": "execute_result"
    }
   ],
   "source": [
    "# podemos adicionar entradas multiplas\n",
    "simpsons.update({'baby':'maggie', 'grandpa':'abe'})\n",
    "simpsons"
   ]
  },
  {
   "cell_type": "markdown",
   "metadata": {
    "id": "bZM659LjfH3C"
   },
   "source": [
    "### Strings\n",
    "\n",
    "Strings são um tipo básico do Python. Em vários casos, você precisará trabalhar com elas para tratar arquivos ou a própria entrada do usuário. As construções mais comuns em strings no python são vistas abaixo.\n",
    "\n",
    "Note inicialmente que podemos indexar as strings como se fossem uma lista de caracteres. Isso faz com que um elemento específico possa ser acessado usando a sintaxe de colchetes, além de permitir o *slice* como vimos para arrays."
   ]
  },
  {
   "cell_type": "code",
   "execution_count": 66,
   "metadata": {
    "id": "8qnO4XLOfu4O"
   },
   "outputs": [
    {
     "data": {
      "text/plain": [
       "'o'"
      ]
     },
     "execution_count": 66,
     "metadata": {},
     "output_type": "execute_result"
    }
   ],
   "source": [
    "my_string = \"Hello World!\"\n",
    "my_string[4]"
   ]
  },
  {
   "cell_type": "code",
   "execution_count": 67,
   "metadata": {
    "id": "uBl2u8BlguP-"
   },
   "outputs": [
    {
     "name": "stdout",
     "output_type": "stream",
     "text": [
      "ell\n"
     ]
    }
   ],
   "source": [
    "my_string = \"Hello World\"\n",
    "print(my_string[1:4]) # ell"
   ]
  },
  {
   "cell_type": "markdown",
   "metadata": {
    "id": "YQqhhg_2HRJ8"
   },
   "source": [
    "Note que é possível iterar sobre strings, caracter a caracter."
   ]
  },
  {
   "cell_type": "code",
   "execution_count": 68,
   "metadata": {
    "id": "K2f6GwgzfvIS"
   },
   "outputs": [
    {
     "name": "stdout",
     "output_type": "stream",
     "text": [
      "H\n",
      "e\n",
      "l\n",
      "l\n",
      "o\n",
      " \n",
      "W\n",
      "o\n",
      "r\n",
      "l\n",
      "d\n"
     ]
    }
   ],
   "source": [
    "for el in my_string :\n",
    "    print(el)"
   ]
  },
  {
   "cell_type": "markdown",
   "metadata": {
    "id": "TMhT8VkdHcGR"
   },
   "source": [
    "Podemos transformar uma string em uma lista de caracteres também."
   ]
  },
  {
   "cell_type": "code",
   "execution_count": 69,
   "metadata": {
    "id": "TodUJhsEfvYk"
   },
   "outputs": [
    {
     "name": "stdout",
     "output_type": "stream",
     "text": [
      "['H', 'e', 'l', 'l', 'o', ' ', 'W', 'o', 'r', 'l', 'd']\n"
     ]
    }
   ],
   "source": [
    "x = list(my_string)\n",
    "print(x)"
   ]
  },
  {
   "cell_type": "markdown",
   "metadata": {
    "id": "lQb6iZk9Hh0l"
   },
   "source": [
    "Já usamos neste notebook o comando split, mas vale a pena relembrar."
   ]
  },
  {
   "cell_type": "code",
   "execution_count": 70,
   "metadata": {
    "id": "byXv2A0EgJ7S"
   },
   "outputs": [
    {
     "name": "stdout",
     "output_type": "stream",
     "text": [
      "['Hello', 'World']\n"
     ]
    }
   ],
   "source": [
    "x = my_string.split(\" \")\n",
    "print(x)"
   ]
  },
  {
   "cell_type": "code",
   "execution_count": 71,
   "metadata": {
    "id": "bEFyySREgKGo"
   },
   "outputs": [
    {
     "name": "stdout",
     "output_type": "stream",
     "text": [
      "['Hello Wo', 'ld']\n"
     ]
    }
   ],
   "source": [
    "x = my_string.split(\"r\")\n",
    "print(x)"
   ]
  },
  {
   "cell_type": "markdown",
   "metadata": {
    "id": "z06krBV-HmrI"
   },
   "source": [
    "O comando join permite que unamos uma lista de strings em uma única string.\n",
    "É muito comum o uso deste comando para gerar uma string que será impressa\n",
    "na tela."
   ]
  },
  {
   "cell_type": "code",
   "execution_count": 72,
   "metadata": {
    "id": "dWeOVDosgSy4"
   },
   "outputs": [
    {
     "name": "stdout",
     "output_type": "stream",
     "text": [
      "Hello World!\n",
      "Hello-World!\n"
     ]
    }
   ],
   "source": [
    "x =  [\"Hello\", \"World!\"]\n",
    "\n",
    "## Cria string unindo a lista\n",
    "## com espaços.\n",
    "x1 = \" \".join(x) ## Hello World!\n",
    "\n",
    "## Este caso une a lista\n",
    "## com o character \"-\".\n",
    "x2 = \"-\".join(x) ## Hello-World!\n",
    "\n",
    "print(x1)\n",
    "print(x2)"
   ]
  },
  {
   "cell_type": "markdown",
   "metadata": {
    "id": "oYqh8do7H0F0"
   },
   "source": [
    "Abaixo temos uma maneira de formatar uma string interpolando valores armazenados\n",
    "em variáveis."
   ]
  },
  {
   "cell_type": "code",
   "execution_count": 73,
   "metadata": {
    "id": "QdsWWFM2gS6u"
   },
   "outputs": [
    {
     "name": "stdout",
     "output_type": "stream",
     "text": [
      "Hello Ulisses!\n",
      "Welcome to Tecnologia em Foco\n",
      "Faculdade de Tecnologia\n",
      "\n"
     ]
    }
   ],
   "source": [
    "str1 = \"Ulisses\"\n",
    "str2 = \"Tecnologia\"\n",
    "str3 = \"Foco\"\n",
    "str4 = \"Faculdade de Tecnologia\"\n",
    "\n",
    "my_string = \"\"\"Hello %s!\n",
    "Welcome to %s em %s\n",
    "%s\n",
    "\"\"\" % (str1, str2, str3, str4)\n",
    "\n",
    "print(my_string)"
   ]
  },
  {
   "cell_type": "markdown",
   "metadata": {
    "id": "w9rcbBDdH7qq"
   },
   "source": [
    "É possível usar **in** para verificar se dado caracter existe em uma string."
   ]
  },
  {
   "cell_type": "code",
   "execution_count": 74,
   "metadata": {
    "id": "XPhvJzq5gTDD"
   },
   "outputs": [
    {
     "name": "stdout",
     "output_type": "stream",
     "text": [
      "True\n",
      "False\n",
      "False\n",
      "True\n"
     ]
    }
   ],
   "source": [
    "my_string = \"Hello World\"\n",
    "print(\"o\" in my_string) # True\n",
    "print(\"b\" in my_string) # False\n",
    "print(\"o\" not in my_string) # False\n",
    "print(\"b\" not in my_string) # True"
   ]
  },
  {
   "cell_type": "markdown",
   "metadata": {
    "id": "ivn8TwtzICc2"
   },
   "source": [
    "Algumas operações básicas são úteis:"
   ]
  },
  {
   "cell_type": "code",
   "execution_count": 75,
   "metadata": {
    "id": "nc06W4CZIFye"
   },
   "outputs": [
    {
     "name": "stdout",
     "output_type": "stream",
     "text": [
      "i like you\n",
      "I LIKE YOU\n",
      "True\n",
      "True\n",
      "False\n",
      "2\n",
      "-1\n",
      "I love you\n"
     ]
    }
   ],
   "source": [
    "s = 'I like you'\n",
    "print(s.lower())\n",
    "print(s.upper())\n",
    "print(s.startswith('I'))\n",
    "print(s.endswith('you'))\n",
    "print(s.isdigit()) # checa se os caracteres são digitos\n",
    "print(s.find('like')) # retorna índice da ocorrência\n",
    "print(s.find('hate')) # retorna -1 quando não encontra\n",
    "print(s.replace('like', 'love')) # substitui TODAS as ocorrencias de 'like' por 'love'"
   ]
  },
  {
   "cell_type": "markdown",
   "metadata": {
    "id": "sKhLKOBKI0lP"
   },
   "source": [
    "Em alguns casos como, por exemplo, entrada do teclado, a sua string pode ter caracteres em branco no início ou no fim. É de suma importância que você remova\n",
    "esses caracteres."
   ]
  },
  {
   "cell_type": "code",
   "execution_count": 76,
   "metadata": {
    "id": "2qSw1tq_I-S3"
   },
   "outputs": [
    {
     "name": "stdout",
     "output_type": "stream",
     "text": [
      "ham and cheese\n",
      "  ham and cheese\n",
      "ham and cheese  \n"
     ]
    }
   ],
   "source": [
    "s5 = '  ham and cheese  '\n",
    "print(s5.strip()) ## Remove início e fim\n",
    "print(s5.rstrip()) ## Remove do fim\n",
    "print(s5.lstrip()) ## Remove do início"
   ]
  },
  {
   "cell_type": "markdown",
   "metadata": {
    "id": "DwBufOBEJSTn"
   },
   "source": [
    "O professor particulamente não usa as seguintes construções, mas é importante que você as conheça caso leia código de outras pessoas."
   ]
  },
  {
   "cell_type": "code",
   "execution_count": 77,
   "metadata": {
    "id": "sbR0EFd9Jbtz"
   },
   "outputs": [
    {
     "data": {
      "text/plain": [
       "'raining cats and dogs'"
      ]
     },
     "execution_count": 77,
     "metadata": {},
     "output_type": "execute_result"
    }
   ],
   "source": [
    "# substituições\n",
    "'raining {} and {}'.format('cats', 'dogs')"
   ]
  },
  {
   "cell_type": "code",
   "execution_count": 78,
   "metadata": {
    "id": "8S8_IzhOJdST"
   },
   "outputs": [
    {
     "data": {
      "text/plain": [
       "'raining cats and dogs'"
      ]
     },
     "execution_count": 78,
     "metadata": {},
     "output_type": "execute_result"
    }
   ],
   "source": [
    "# substituições 2\n",
    "'raining {arg1} and {arg2}'.format(arg1='cats', arg2='dogs')"
   ]
  },
  {
   "cell_type": "code",
   "execution_count": 79,
   "metadata": {
    "id": "vWShGcMUJdWp"
   },
   "outputs": [
    {
     "data": {
      "text/plain": [
       "'pi is 3.14'"
      ]
     },
     "execution_count": 79,
     "metadata": {},
     "output_type": "execute_result"
    }
   ],
   "source": [
    "# formatação decimal\n",
    "'pi is {:.2f}'.format(3.14159)"
   ]
  },
  {
   "cell_type": "markdown",
   "metadata": {
    "id": "3JoMxY2GeHCu"
   },
   "source": [
    "## Exercícios\n",
    "\n",
    "Escreva alguns códigos para as funções abaixo. Os exercícios são na maioria triviais, tente resolver no menor tempo possível."
   ]
  },
  {
   "cell_type": "code",
   "execution_count": 80,
   "metadata": {
    "id": "PYNssvVEeHCw"
   },
   "outputs": [
    {
     "name": "stdout",
     "output_type": "stream",
     "text": [
      "##########\n",
      "## less_than_or_equal_to_zero\n",
      "## -   Incorreto\n",
      "##########\n",
      "##########\n",
      "## is_even_or_odd\n",
      "## -   Incorreto\n",
      "##########\n",
      "##########\n",
      "## find_smallest_numbers\n",
      "## -   Incorreto\n",
      "##########\n",
      "##########\n",
      "## get_last_item\n",
      "## -   Incorreto\n",
      "##########\n",
      "##########\n",
      "## find_largest_num\n",
      "## -   Incorreto\n",
      "##########\n",
      "##########\n",
      "## compute_abs_sum\n",
      "## -   Incorreto\n",
      "##########\n",
      "##########\n",
      "## find_largest_nums\n",
      "## -   Incorreto\n",
      "##########\n",
      "##########\n",
      "## get_word_count\n",
      "## -   Incorreto\n",
      "##########\n",
      "##########\n",
      "## get_five_letters\n",
      "## -   Incorreto\n",
      "##########\n",
      "##########\n",
      "## x_o\n",
      "## -   Incorreto\n",
      "##########\n",
      "##########\n",
      "## composicao_dna\n",
      "## -   Incorreto\n",
      "##########\n"
     ]
    }
   ],
   "source": [
    "## Complete as funções abaixo, uma por uma. O seu trabalho é substituir a\n",
    "## palavra reservada \"pass\" por código.\n",
    "\n",
    "\n",
    "##################################################\n",
    "## Crie uma função que, dado um número, retorna true se ele ele é\n",
    "## menor ou igual a zero.\n",
    "##\n",
    "## Exemplo:\n",
    "## 5  --> False\n",
    "## 0  --> True\n",
    "## -3 --> True\n",
    "##\n",
    "## Você pode assumir que a função receberá um número. Este exercício\n",
    "## não está tentando pregar uma peça, ele é realmente fácil.\n",
    "##################################################\n",
    "def less_than_or_equal_to_zero(num):\n",
    "    pass\n",
    "\n",
    "##################################################\n",
    "## Crie uma função que recebe um número inteiro como parâmetro e\n",
    "## retorna \"even\" para cada número par e \"odd\" para cada número ímpar.\n",
    "##\n",
    "## Exemplo:\n",
    "## 3   --> \"odd\"\n",
    "##\n",
    "## 146 --> \"even\"\n",
    "##\n",
    "## 19  --> \"odd\"\n",
    "##\n",
    "## Retorne \"even\" ou \"odd\" com letras minúsculas.\n",
    "##################################################\n",
    "def is_even_or_odd(num):\n",
    "    pass\n",
    "\n",
    "##################################################\n",
    "## Crie uma função que recebe uma lista de números inteiros e retorna\n",
    "## os dois menores números da lista.\n",
    "##\n",
    "## Exemplo:\n",
    "## [34, 15, 88, 2] --> 15, 2\n",
    "## [34, -345, -1, 100] --> -345, -1\n",
    "## [7, 7, 7] --> 7, 7\n",
    "##################################################\n",
    "def find_smallest_numbers(lst):\n",
    "    pass\n",
    "\n",
    "##################################################\n",
    "## Crie uma função que aceita uma lista e retorna o último elemento\n",
    "## dessa lista.\n",
    "##\n",
    "## Exemplo\n",
    "## [1, 2, 3] --> 3\n",
    "##\n",
    "## ['a', 'b', 'c'] --> 'c'\n",
    "##\n",
    "## [True, False, True] --> True\n",
    "##\n",
    "## [7, 'String', False] --> False\n",
    "##################################################\n",
    "def get_last_item(lst):\n",
    "    pass\n",
    "\n",
    "##################################################\n",
    "## Crie uma função que recebe uma lista de números e retorna o maior\n",
    "## número na lista.\n",
    "##\n",
    "## Exemplo:\n",
    "##\n",
    "## [4, 5, 1, 3] --> 5\n",
    "##\n",
    "##\n",
    "## [1000, 1001, -857, 1] --> 1001\n",
    "##################################################\n",
    "def find_largest_num(nums):\n",
    "    pass\n",
    "\n",
    "##################################################\n",
    "## Escreva uma função que recebe uma lista de inteiros e retorna a\n",
    "## soma dos valores absolutos de cada elemento da lista.\n",
    "##\n",
    "## Exemplo:\n",
    "##\n",
    "## [2, -1, 4, 8, 10] --> 25\n",
    "##\n",
    "## [-3, -4, -10, -2, -3] --> 22\n",
    "##\n",
    "## [2, 4, 6, 8, 10] --> 30\n",
    "##\n",
    "## [-1] --> 1\n",
    "##################################################\n",
    "def compute_abs_sum(nums):\n",
    "    pass\n",
    "\n",
    "##################################################\n",
    "## Crie uma função que recebe uma lista de listas com números\n",
    "## (inteiros e reais) e retorne uma nova lista com os maiores números\n",
    "## de cada uma.\n",
    "##\n",
    "## Exemplo:\n",
    "##\n",
    "## [[4, 2, 7, 1], [20, 70, 40, 90], [1, 2, 0]] --> [7, 90, 2]\n",
    "##\n",
    "## [[-34, -54, -74], [-32, -2, -65], [-54, 7, -43]] --> [-34, -2, 7]\n",
    "##\n",
    "## [[0.4321, 0.7634, 0.652], [1.324, 9.32, 2.5423, 6.4314], [9, 3, 6, 3]] --> [0.7634, 9.32, 9]\n",
    "##################################################\n",
    "def find_largest_nums(num_list):\n",
    "    pass\n",
    "\n",
    "##################################################\n",
    "## Crie uma função que recebe uma string e devolve o número de\n",
    "## palavras.\n",
    "##\n",
    "## Exemplo:\n",
    "##\n",
    "## \"Apenas um exemplo de teste\" --> 5\n",
    "## \"Isso é um teste\" --> 4\n",
    "## \"Teste fácil\" --> 2\n",
    "##\n",
    "## A maneira mais fácil de resolver esse problema é usando um método\n",
    "## listado na Seção 6 da Cheat Sheet\n",
    "##################################################\n",
    "def get_word_count(txt) :\n",
    "    pass\n",
    "\n",
    "##################################################\n",
    "## Crie uma função que recebe uma string e devolve todas as palavras\n",
    "## que tenham exatamente 5 letras em um conjunto.\n",
    "##\n",
    "## Exemplo:\n",
    "## \"vozes veladas, veludosas vozes\" --> vozes\n",
    "## \"eu, filho do carbono e do amoníaco\" --> filho\n",
    "## \"joão amava teresa que amava raimundo que amava maria\" --> João, Maria.\n",
    "##################################################\n",
    "def get_five_letters(txt) :\n",
    "    pass\n",
    "\n",
    "##################################################\n",
    "## Crie uma função que recebe uma string e verifica se tem o número de\n",
    "## 'x's igual ao número de 'o's. A sua função retornará \"True\" ou\n",
    "## \"False\".\n",
    "##\n",
    "## Exemplo:\n",
    "##\n",
    "## \"ooxx\" --> True\n",
    "##\n",
    "## \"xooxx\" --> False\n",
    "##\n",
    "## \"ooxXm\" --> True\n",
    "##\n",
    "## \"zpzpzpp\" --> True\n",
    "##\n",
    "## \"zzoo\" --> False\n",
    "##################################################\n",
    "def x_o(text):\n",
    "    pass\n",
    "\n",
    "\n",
    "##################################################\n",
    "## Crie uma função que recebe uma cadeia de DNA (string)\n",
    "## e devolve a quantidade de A,C,G e T.\n",
    "##\n",
    "## Exemplo:\n",
    "##\n",
    "## \"ACGTACGT\" --> (2,2,2,2)\n",
    "##\n",
    "## \"AAAAAA\" --> (6,0,0,0)\n",
    "##\n",
    "## \"AT\" --> (1,0,0,1)\n",
    "##\n",
    "## \"ACACTGACGTAGCTGGCTAGCGTAGCTA\" --> (7,7,8,6)\n",
    "##################################################\n",
    "def composicao_dna(text):\n",
    "    pass\n",
    "\n",
    "\n",
    "##################################################\n",
    "##### Função Principal\n",
    "##################################################\n",
    "test_cases = [\n",
    "    [less_than_or_equal_to_zero,10,False],\n",
    "    [is_even_or_odd,10,\"even\"],\n",
    "    [find_smallest_numbers,[5,2,9],2],\n",
    "    [get_last_item,[\"a\",1,True], True],\n",
    "    [find_largest_num,[5,2,9],9],\n",
    "    [compute_abs_sum,[5,-2,9],16],\n",
    "    [find_largest_nums,[[5,2,9],[4,0],[7,10,3]],[9,4,10]],\n",
    "    [get_word_count,\"eu sou a luz das estrelas\",6],\n",
    "    [get_five_letters,\"Amo-te tanto, meu amor... não cante\",[\"tanto\",\"cante\"]],\n",
    "    [x_o,\"xingxaoxango\",False],\n",
    "    [composicao_dna,\"ACACTGACGTAGCTGGCTAGCGTAGCTA\",(7,7,8,6)],\n",
    "]\n",
    "\n",
    "for func, entrada, saida in test_cases :\n",
    "    print(\"##########\\n## %s\" % func.__name__)\n",
    "    if func(entrada) == saida :\n",
    "        print(\"## -   Correto\")\n",
    "        print(\"##########\")\n",
    "    else :\n",
    "        print(\"## -   Incorreto\")\n",
    "        print(\"##########\")\n"
   ]
  }
 ],
 "metadata": {
  "colab": {
   "provenance": []
  },
  "kernelspec": {
   "display_name": "Python 3 (ipykernel)",
   "language": "python",
   "name": "python3"
  },
  "language_info": {
   "codemirror_mode": {
    "name": "ipython",
    "version": 3
   },
   "file_extension": ".py",
   "mimetype": "text/x-python",
   "name": "python",
   "nbconvert_exporter": "python",
   "pygments_lexer": "ipython3",
   "version": "3.9.16"
  }
 },
 "nbformat": 4,
 "nbformat_minor": 1
}
