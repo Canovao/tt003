{
 "cells": [
  {
   "cell_type": "markdown",
   "metadata": {
    "id": "6bq9DZkPHqh2"
   },
   "source": [
    "**Universidade Estadual de Campinas - Unicamp**\n",
    "\n",
    "**Faculdade de Tecnologia - FT**\n",
    "\n",
    "**Autor:** Ulisses Martins Dias\n",
    "\n",
    "**Disciplina:** TT003 - Tópicos em Computação e Informática III\n",
    "\n",
    "**Material de Apoio da Aula 01:** Sintaxe da Linguagem Python\n",
    "\n",
    "[![Open In Colab](https://colab.research.google.com/assets/colab-badge.svg)](https://colab.research.google.com/github/ulissesdias/tt003/blob/main/notebooks_suporte/aula01_1_sintaxe_python.ipynb)"
   ]
  },
  {
   "cell_type": "markdown",
   "metadata": {
    "id": "g9xkb-iBFz6K"
   },
   "source": [
    "# Introdução ao Python\n",
    "\n",
    "Caro aluno, este material de suporte está aqui para lhe ajudar com os conceitos da linguagem python, assumindo que você não possui nenhum conhecimento da lingugagem. Caso você já tenha utilizado python anteriormente, é recomendável que você não utilize este material e se atenha ao que está sendo passado no material da aula de hoje, disponível na pasta **notebooks**.\n",
    "\n",
    "\n",
    "Está sendo assumido aqui que você irá utilizar o ambiente de desenvolvimento do Google Colab. Nesse caso, o seu primeiro trabalho é se adaptar ao ambiente de desenvolvimento. Feito isso, podemos passar para a linguagem Python propriamente dita.\n",
    "\n",
    "Kernels (também conhecidos como notebooks) são compostos de blocos (chamados de células) de texto e de código. Cada uma dessas células é editável, mas você passará grande parte do tempo editando as células de código para executar alguma tarefa pedida pelo professor.\n",
    "\n",
    "Para começar, execute a célula de código abaixo pressionando o botão  ►, ou clicando na célula e depois digitando <ctrl+enter> no seu teclado.\n",
    "\n"
   ]
  },
  {
   "cell_type": "code",
   "execution_count": 1,
   "metadata": {
    "id": "ZkbI3x8DHUUb"
   },
   "outputs": [
    {
     "name": "stdout",
     "output_type": "stream",
     "text": [
      "Hello World!\n",
      "Parabéns, você executou um código em Python!\n"
     ]
    }
   ],
   "source": [
    "print(\"Hello World!\")\n",
    "print(\"Parabéns, você executou um código em Python!\")"
   ]
  },
  {
   "cell_type": "markdown",
   "metadata": {
    "id": "2CHO_8sUHjJL"
   },
   "source": [
    "Tente adicionar uma nova linha de código à célula acima e depois executar novamente. Imprima o seu nome, por exemplo.\n",
    "\n",
    "Excelente, agora você sabe tudo o que precisa saber de Kernels para continuar no curso. Vamos passar para a linguagem Python."
   ]
  },
  {
   "cell_type": "markdown",
   "metadata": {
    "id": "1tt3KVPxIMVd"
   },
   "source": [
    "## Antes de Começar\n",
    "\n",
    "*   Indentação faz parte do seu código.\n",
    "*   O dois-pontos \":'' é usado para iniciar um escopo. Assim, uma\n",
    "  indentação com mais espaços começa na linha seguinte ao dois pontos."
   ]
  },
  {
   "cell_type": "code",
   "execution_count": 2,
   "metadata": {
    "id": "QMfF8P_GIrmb"
   },
   "outputs": [
    {
     "name": "stdout",
     "output_type": "stream",
     "text": [
      "Estou dentro do escopo\n",
      "Estou fora do escopo\n",
      "Estou fora do escopo\n"
     ]
    }
   ],
   "source": [
    "x = True\n",
    "y = False\n",
    "\n",
    "if x :\n",
    "  print(\"Estou dentro do escopo\")\n",
    "print(\"Estou fora do escopo\")\n",
    "\n",
    "if y:\n",
    "  print(\"Estou dentro do escopo, então não serei impresso na saída padrão\")\n",
    "print(\"Estou fora do escopo\")"
   ]
  },
  {
   "cell_type": "markdown",
   "metadata": {
    "id": "c6vRxYpQJEaJ"
   },
   "source": [
    "* Utilize \\# para comentar linhas do código. Por exemplo, adicione comentários na célula de código acima para informar onde estão os comandos de atribuição e onde estão os comandos condicionais.\n",
    "* Você já deve ter notado que aspas duplas delimitam cadeias de caracteres (strings). Saiba também que aspas simples produzem o mesmo efeito."
   ]
  },
  {
   "cell_type": "code",
   "execution_count": 3,
   "metadata": {
    "id": "zqdNY1CjJtLk"
   },
   "outputs": [
    {
     "name": "stdout",
     "output_type": "stream",
     "text": [
      "Hello World com aspas simples!\n"
     ]
    }
   ],
   "source": [
    "print('Hello World com aspas simples!')"
   ]
  },
  {
   "cell_type": "markdown",
   "metadata": {
    "id": "3USFfGLGJ3T-"
   },
   "source": [
    "* Em geral, você pode usar tanto aspas simples quanto aspas duplas indistintamente. Caso a sua cadeia de caracteres já possua aspas simples, você poderá usar aspas duplas e vice-versa."
   ]
  },
  {
   "cell_type": "code",
   "execution_count": 4,
   "metadata": {
    "id": "E-I_qw-LKFaA"
   },
   "outputs": [
    {
     "name": "stdout",
     "output_type": "stream",
     "text": [
      "Usei aspas duplas porque minha string contém aspas simples: '\n",
      "Usei aspas simples porque minha string contém aspas duplas: \"\n"
     ]
    }
   ],
   "source": [
    "print(\"Usei aspas duplas porque minha string contém aspas simples: '\")\n",
    "print('Usei aspas simples porque minha string contém aspas duplas: \"')\n"
   ]
  },
  {
   "cell_type": "markdown",
   "metadata": {
    "id": "_PD91X_nKT3M"
   },
   "source": [
    "* Use três aspas simples ou três aspas duplas para strings com  quebra de linha."
   ]
  },
  {
   "cell_type": "code",
   "execution_count": 5,
   "metadata": {
    "id": "dhblFKf8KZf3"
   },
   "outputs": [
    {
     "name": "stdout",
     "output_type": "stream",
     "text": [
      "Hello World! com quebra\n",
      "de linha e aspas simples '  no\n",
      "meio da frase.   \n",
      "\n",
      "Hello World! com quebra\n",
      "de linha e outra aspas simples '  no\n",
      "meio da frase.   \n"
     ]
    }
   ],
   "source": [
    "msg1 = \"\"\"Hello World! com quebra\n",
    "de linha e aspas simples '  no\n",
    "meio da frase.   \"\"\"\n",
    "\n",
    "msg2 = '''Hello World! com quebra\n",
    "de linha e outra aspas simples '  no\n",
    "meio da frase.   '''\n",
    "\n",
    "\n",
    "print(msg1)\n",
    "print()\n",
    "print(msg2)"
   ]
  },
  {
   "cell_type": "markdown",
   "metadata": {
    "id": "AGCRAgoRLHn5"
   },
   "source": [
    "* Em muitos códigos, você verá que o programador usou três aspas para comentário."
   ]
  },
  {
   "cell_type": "code",
   "execution_count": 6,
   "metadata": {
    "id": "LEu921BGLOx_"
   },
   "outputs": [
    {
     "name": "stdout",
     "output_type": "stream",
     "text": [
      "continuação do código\n"
     ]
    }
   ],
   "source": [
    "\"\"\"Isso aqui é um código\n",
    "reconhecido pelo python,\n",
    "mas eu preferi usar como\n",
    "comentário\"\"\"\n",
    "print(\"continuação do código\")"
   ]
  },
  {
   "cell_type": "markdown",
   "metadata": {
    "id": "L9sIabsz_V7_"
   },
   "source": [
    "## Tipos\n",
    "\n",
    "Em python, não precisamos declarar o tipo, apenas atribuir. Note que as variáveis possuem tipos, então python é uma linguagem tipada, você só não precisa declarar esses tipos e deixar para que a inferência seja feita pelo próprio interpretador."
   ]
  },
  {
   "cell_type": "code",
   "execution_count": 7,
   "metadata": {
    "id": "RjibU2fS_8q6"
   },
   "outputs": [
    {
     "name": "stdout",
     "output_type": "stream",
     "text": [
      "<class 'bytes'>\n"
     ]
    }
   ],
   "source": [
    "a = 10      #  int\n",
    "b = 9.3     #  float\n",
    "c = True    #  bool\n",
    "d = False   #  bool\n",
    "e = \"asdf\"  #  str\n",
    "f = b\"\\xfe\" #  bytes\n",
    "\n",
    "print(type(f))"
   ]
  },
  {
   "cell_type": "markdown",
   "metadata": {
    "id": "2eLN1jQ3hq9G"
   },
   "source": [
    "Para obter o tipo da variável, usamos o comando **type**. Para saber se a variável é de um dado tipo, usamos o comando\n",
    "  **isinstance**."
   ]
  },
  {
   "cell_type": "code",
   "execution_count": 8,
   "metadata": {
    "id": "B-_u5Zngh7x6"
   },
   "outputs": [
    {
     "name": "stdout",
     "output_type": "stream",
     "text": [
      "True\n"
     ]
    }
   ],
   "source": [
    "x = \"asdf\"\n",
    "y =  isinstance(x, str)\n",
    "print(y) ## True"
   ]
  },
  {
   "cell_type": "markdown",
   "metadata": {
    "id": "H4g2KXx12yPf"
   },
   "source": [
    "Em python, a tipagem é dinâmica, ou seja, os tipos das variáveis podem mudar em tempo de execução."
   ]
  },
  {
   "cell_type": "code",
   "execution_count": 9,
   "metadata": {
    "id": "t5LZa4E_280g"
   },
   "outputs": [
    {
     "name": "stdout",
     "output_type": "stream",
     "text": [
      "<class 'int'>\n",
      "<class 'float'>\n",
      "<class 'bool'>\n"
     ]
    }
   ],
   "source": [
    "a = 10\n",
    "print(type(a))\n",
    "a = 9.1\n",
    "print(type(a))\n",
    "a = True\n",
    "print(type(a))"
   ]
  },
  {
   "cell_type": "markdown",
   "metadata": {
    "id": "BQxXD4uxLj3p"
   },
   "source": [
    "## Operadores Aritméticos\n",
    "\n",
    "Como toda linguagem de programação, Python possui diversos operadores: aritméticos, lógicos e de comparação. Vamos aprender os principais operadores aritméticos e praticar um pouco com eles.\n",
    "\n",
    "\n",
    "\n",
    "| Operator     | Name           | Description                                            |\n",
    "|--------------|----------------|--------------------------------------------------------|\n",
    "| ``a + b``    | Adição       | Soma de ``a`` e ``b``                                 |\n",
    "| ``a - b``    | Subtração    | Subtração de ``a`` e ``b``                          |\n",
    "| ``a * b``    | Multiplicação | Produto de ``a`` e ``b``                             |\n",
    "| ``a / b``    | Divisão Real  | Divisão de ``a`` e ``b``                            |\n",
    "| ``a // b``   | Divisão Inteira | Divisão Inteira de ``a`` e ``b``, remove a parte fracionada|\n",
    "| ``a % b``    | Módulo        | Resto da divisão inteira de ``a`` por ``b``     |\n",
    "| ``a ** b``   | Exponenciação | ``a`` elevado à potência ``b``                     |\n",
    "| ``-a``       | Negação       | Negativo de ``a``                                  |\n",
    "\n",
    "<span style=\"display:none\"></span>\n",
    "\n",
    "Vamos agora resolver alguns pequenos problemas com esses conceitos. Os problemas que você deverá responder estão em comentários no código abaixo. Tente gerar o código e executar para ver se está funcionando corretamente."
   ]
  },
  {
   "cell_type": "code",
   "execution_count": 10,
   "metadata": {
    "id": "cbhdOCD0Mx0t"
   },
   "outputs": [],
   "source": [
    "pi = 3.14159 # Aproximadamente\n",
    "diameter = 3\n",
    "\n",
    "# Crie uma variável chamada de raio que tem a metade do diâmetro\n",
    "\n",
    "# Crie uma variável chamada de área que computa a área do círculo. Confira o resultado com os colegas."
   ]
  },
  {
   "cell_type": "code",
   "execution_count": 11,
   "metadata": {
    "id": "mJSOhgDgyH7n"
   },
   "outputs": [
    {
     "name": "stdout",
     "output_type": "stream",
     "text": [
      "10 20\n"
     ]
    }
   ],
   "source": [
    "a = 10\n",
    "b = 20\n",
    "\n",
    "## Troque os valores de a e b. De modo que a contenha o valor de b e b contenha o valor de a.\n",
    "\n",
    "\n",
    "print(a,b)"
   ]
  },
  {
   "cell_type": "code",
   "execution_count": 12,
   "metadata": {
    "id": "oueeoJZzyTbs"
   },
   "outputs": [
    {
     "data": {
      "text/plain": [
       "4"
      ]
     },
     "execution_count": 12,
     "metadata": {},
     "output_type": "execute_result"
    }
   ],
   "source": [
    "## Adicione parênteses na equação abaixo de modo que o valor obtido seja 1.\n",
    "5 - 3 // 2"
   ]
  },
  {
   "cell_type": "code",
   "execution_count": 13,
   "metadata": {
    "id": "dyhf3IKnyjey"
   },
   "outputs": [
    {
     "data": {
      "text/plain": [
       "2"
      ]
     },
     "execution_count": 13,
     "metadata": {},
     "output_type": "execute_result"
    }
   ],
   "source": [
    "## Adicione parênteses na equação abaixo de modo que o valor obtido seja 0.\n",
    "8 - 3 * 2 - 1 + 1"
   ]
  },
  {
   "cell_type": "code",
   "execution_count": 14,
   "metadata": {
    "id": "jkSZOztyy3Jl"
   },
   "outputs": [
    {
     "name": "stdout",
     "output_type": "stream",
     "text": [
      "-1\n"
     ]
    }
   ],
   "source": [
    "## Zezinho, Pedrinho e Luizinho concordaram em unir suas petecas e dividir\n",
    "## igualmente entre eles. Para não forçar a amizade, todas as petecas que\n",
    "## restarem serão destruídas imediatamente. Por exemplo, se eles tiverem em\n",
    "## conjunto 91 petecas, cada um ficará com 30 e destruirão 1.\n",
    "\n",
    "## Escreva uma expressão aritmética para computar quantas petecas eles\n",
    "## deverão destruir\n",
    "\n",
    "\n",
    "# Variáveis representando as petecas.\n",
    "zez = 121\n",
    "ped = 77\n",
    "lui = 109\n",
    "\n",
    "# O seu código deve vir aqui. Substitua o lado direito da atribuição pela\n",
    "# expressão aritmética que usa as variáveis zez, ped e lui.\n",
    "destruir = -1\n",
    "\n",
    "print(destruir)"
   ]
  },
  {
   "cell_type": "markdown",
   "metadata": {
    "id": "gJ4skQUyxM0a"
   },
   "source": [
    "## Operadores de Comparação\n",
    "\n",
    "Em python, temos os operadores comuns a todas as linguagens de programação:"
   ]
  },
  {
   "cell_type": "code",
   "execution_count": 15,
   "metadata": {
    "id": "M7JOLJ-rxjfq"
   },
   "outputs": [
    {
     "name": "stdout",
     "output_type": "stream",
     "text": [
      "False\n",
      "False\n",
      "False\n",
      "True\n",
      "True\n",
      "True\n"
     ]
    }
   ],
   "source": [
    "a = 23.0\n",
    "b = 7.0\n",
    "\n",
    "print(a  <  b) # Menor que:      False\n",
    "print(a <=  b) # Menor ou igual: False\n",
    "print(a ==  b) # igual:          False\n",
    "print(a  >  b) # Maior que       True\n",
    "print(a >=  b) # Maior ou igual  True\n",
    "print(a !=  b) # Diferente       True"
   ]
  },
  {
   "cell_type": "markdown",
   "metadata": {
    "id": "Gvz2qIlnxrB4"
   },
   "source": [
    "## Operadores Lógicos\n",
    "\n",
    "Pelo menos três operadores principais serão utilizados com grande frequência. O **and**, o **or** e o **not**. Esses operadores podem ser aplicados diretamente a variáveis booleanas, mas vale ressaltar que variáveis de outros tipos também possuem o que chamamos de **contexto booleano**. Em outras palavras, valores específicos podem ser entendidos como verdadeiro ou falso.\n",
    "\n",
    "Por exemplo, o valor numérico 0 (zero, inteiro ou real) pode ser entendido como falso, todos os outros valores são entendidos como verdadeiros. Além disso, a string vazia também pode ser entendida como falso, qualquer outra string será verdadeira.\n"
   ]
  },
  {
   "cell_type": "code",
   "execution_count": 16,
   "metadata": {
    "colab": {
     "base_uri": "https://localhost:8080/",
     "height": 34
    },
    "id": "4F52ydTtxwmK",
    "outputId": "8dbafb97-05a6-4397-daf5-dbde9b66714f"
   },
   "outputs": [
    {
     "name": "stdout",
     "output_type": "stream",
     "text": [
      "False\n",
      "True\n",
      "False\n"
     ]
    }
   ],
   "source": [
    "## Redefinindo variáveis, mas poderíamos\n",
    "## continuar usando valores inteiros.\n",
    "a = True\n",
    "b = False\n",
    "\n",
    "## Operadores Lógicos\n",
    "print(a  and   b ) # False\n",
    "print(a   or   b ) # True\n",
    "print(not  a     ) # False"
   ]
  },
  {
   "cell_type": "code",
   "execution_count": 17,
   "metadata": {
    "colab": {
     "base_uri": "https://localhost:8080/",
     "height": 34
    },
    "id": "vzXbw36uyenS",
    "outputId": "e3eb9583-1b73-4a9f-a33c-1a6ff1ed35d2"
   },
   "outputs": [
    {
     "name": "stdout",
     "output_type": "stream",
     "text": [
      "True\n"
     ]
    }
   ],
   "source": [
    "a = 0\n",
    "print(not a)"
   ]
  },
  {
   "cell_type": "code",
   "execution_count": 18,
   "metadata": {
    "id": "tPCZCTBI4Ivn"
   },
   "outputs": [
    {
     "name": "stdout",
     "output_type": "stream",
     "text": [
      "False\n"
     ]
    }
   ],
   "source": [
    "print(1 == 3)"
   ]
  },
  {
   "cell_type": "code",
   "execution_count": 19,
   "metadata": {
    "id": "0MI6uYwe4Kl_"
   },
   "outputs": [
    {
     "name": "stdout",
     "output_type": "stream",
     "text": [
      "True\n"
     ]
    }
   ],
   "source": [
    "print(True or False)"
   ]
  },
  {
   "cell_type": "markdown",
   "metadata": {
    "id": "eQLXgJBr0ADG"
   },
   "source": [
    "## Comandos Condicionais"
   ]
  },
  {
   "cell_type": "code",
   "execution_count": 20,
   "metadata": {
    "id": "Ng9CYp3h0Al2"
   },
   "outputs": [
    {
     "name": "stdout",
     "output_type": "stream",
     "text": [
      "Usuário escreveu cmd1\n"
     ]
    }
   ],
   "source": [
    "flag = \"cmd1\"\n",
    "if flag == \"cmd1\" :\n",
    "    print(\"Usuário escreveu cmd1\")\n",
    "elif flag == \"cmd2\" :\n",
    "    print(\"Usuário escreveu cmd2\")\n",
    "else :\n",
    "    print(\"Outros inputs\")"
   ]
  },
  {
   "cell_type": "markdown",
   "metadata": {
    "id": "eRc6NywC0LEq"
   },
   "source": [
    "## Comandos de Repetição\n",
    "\n",
    "Em python, temos os comandos de repetição **for** e **while**."
   ]
  },
  {
   "cell_type": "code",
   "execution_count": 21,
   "metadata": {
    "id": "mDK0w33l0AsT"
   },
   "outputs": [
    {
     "name": "stdout",
     "output_type": "stream",
     "text": [
      "a\n",
      "e\n",
      "i\n",
      "o\n",
      "u\n"
     ]
    }
   ],
   "source": [
    "seq = [\"a\", \"e\", \"i\", \"o\", \"u\"]\n",
    "for el in seq :\n",
    "    # Faça algo com cada elemento\n",
    "    # da sequência.\n",
    "    print(el)"
   ]
  },
  {
   "cell_type": "code",
   "execution_count": 22,
   "metadata": {
    "id": "7DdbCLeA0eDm"
   },
   "outputs": [
    {
     "name": "stdout",
     "output_type": "stream",
     "text": [
      "0\n",
      "1\n",
      "2\n",
      "3\n",
      "4\n",
      "5\n",
      "6\n",
      "7\n",
      "8\n",
      "9\n"
     ]
    }
   ],
   "source": [
    "for el in range(10) :\n",
    "    # Faça algo 10 vezes\n",
    "    # el varia de 0 a 9\n",
    "    print(el)"
   ]
  },
  {
   "cell_type": "code",
   "execution_count": 23,
   "metadata": {
    "id": "ZhBhpzqe0eKv"
   },
   "outputs": [
    {
     "name": "stdout",
     "output_type": "stream",
     "text": [
      "5\n",
      "6\n",
      "7\n",
      "8\n",
      "9\n"
     ]
    }
   ],
   "source": [
    "for el in range(5,10) :\n",
    "    # Faça algo 5 vezes\n",
    "    # el varia de 5 a 9\n",
    "    print(el)"
   ]
  },
  {
   "cell_type": "markdown",
   "metadata": {
    "id": "cAIgUxHi0iPS"
   },
   "source": [
    "Algunos exemplos de **while** abaixo."
   ]
  },
  {
   "cell_type": "code",
   "execution_count": 24,
   "metadata": {
    "id": "-zX8namA0kjQ"
   },
   "outputs": [
    {
     "name": "stdout",
     "output_type": "stream",
     "text": [
      "Count = 0\n",
      "Count = 1\n",
      "Count = 2\n",
      "Count = 3\n",
      "Count = 4\n",
      "Count = 5\n",
      "Count = 6\n",
      "Count = 7\n",
      "Count = 8\n",
      "Count = 9\n"
     ]
    }
   ],
   "source": [
    "count  = 0\n",
    "while count < 10 :\n",
    "    print(\"Count = %i\" % count)\n",
    "    count = count + 1"
   ]
  },
  {
   "cell_type": "markdown",
   "metadata": {
    "id": "iokSbJoZ89as"
   },
   "source": [
    "## Definindo Funções\n",
    "\n",
    "Para modularizar o nosso código, podemos criar funções em Python. Para tanto, usamos a palavra reservada **def**. Abaixo alguns exemplos:"
   ]
  },
  {
   "cell_type": "code",
   "execution_count": 25,
   "metadata": {
    "id": "YebS7BYW9V_y"
   },
   "outputs": [
    {
     "name": "stdout",
     "output_type": "stream",
     "text": [
      "Hello World!\n"
     ]
    }
   ],
   "source": [
    "## Criando funções\n",
    "def hello_world() :\n",
    "    print(\"Hello World!\")\n",
    "\n",
    "hello_world() ## Invocando função"
   ]
  },
  {
   "cell_type": "code",
   "execution_count": 26,
   "metadata": {
    "id": "wt8CcBRq9c3m"
   },
   "outputs": [
    {
     "name": "stdout",
     "output_type": "stream",
     "text": [
      "Hello Ulisses!\n"
     ]
    }
   ],
   "source": [
    "## Passando argumentos\n",
    "def hello_world(user) :\n",
    "    print(\"Hello %s!\" % user)\n",
    "\n",
    "hello_world(\"Ulisses\")"
   ]
  },
  {
   "cell_type": "code",
   "execution_count": 27,
   "metadata": {
    "id": "KIrxCLXQ9g6b"
   },
   "outputs": [
    {
     "name": "stdout",
     "output_type": "stream",
     "text": [
      "Hello World!\n",
      "Hello Ulisses!\n"
     ]
    }
   ],
   "source": [
    "## Passando argumentos e atribuindo um valor padrão.\n",
    "def hello_world(user = \"World\") :\n",
    "    print(\"Hello %s!\" % user)\n",
    "\n",
    "hello_world()\n",
    "hello_world(\"Ulisses\")"
   ]
  },
  {
   "cell_type": "code",
   "execution_count": 28,
   "metadata": {
    "id": "KfO4U-aI9l8e"
   },
   "outputs": [
    {
     "name": "stdout",
     "output_type": "stream",
     "text": [
      "S = 15, M = 7.5\n"
     ]
    }
   ],
   "source": [
    "## Retornando valores\n",
    "def soma_media(a, b) :\n",
    "    soma  = a + b\n",
    "    media = float(soma) / 2\n",
    "    return soma, media\n",
    "\n",
    "s, m = soma_media(5,10)\n",
    "print(\"S = %s, M = %s\" % (s,m))"
   ]
  },
  {
   "cell_type": "markdown",
   "metadata": {
    "id": "wicEuZvc-rG1"
   },
   "source": [
    "# Exercício\n",
    "\n",
    "Vamos agora criar algumas funções.\n",
    "\n",
    "1 - **least_difference(a,b,c)**: receberá três argumentos numéricos e computará a menor diferença entre qualquer par desses argumentos.\n",
    "\n",
    "2 - **round_to_two_places(num)**: receberá um número como parâmetro e retornará esse número arredondado para duas casas decimais.\n",
    "\n",
    "3 - **destruir_petecas(num_petecas, num_amigos)**: receberá o número de petecas que um grupo de amigos possuem em conjunto e o número de amigos. Nesse caso, você deverá retornar quantas petecas deverão ser destruídas para que não exista brigas entre os amigos. Este exercício é semelhante ao caso de Pedrinho, Zezinho e Luizinho, mas permitimos um grupo indefinido de amigos.\n",
    "\n",
    "4 - **celsius_to_farenheits(num_celsius)**: computará o valor na escala farenheits de uma temperatura recebida na escala celsius.\n",
    "\n",
    "Note que a assinatura de cada função possui um comentário após o nome. Esse comentário serve para que você possa explicar para outras pessoas o propósito dessa função e como usar. Isso é chamado de **Docstrings**. Para visualizar esses comentários, podemos usar o comando **help()** e passar o nome da função.   \n",
    "\n"
   ]
  },
  {
   "cell_type": "code",
   "execution_count": 29,
   "metadata": {
    "id": "uQkmRTcB_keb"
   },
   "outputs": [
    {
     "name": "stdout",
     "output_type": "stream",
     "text": [
      "0 0 0\n",
      "-----------------------\n",
      "Help on function least_difference in module __main__:\n",
      "\n",
      "least_difference(a, b, c)\n",
      "    Return the smallest difference between any two numbers\n",
      "    among a, b and c.\n",
      "    \n",
      "    >>> least_difference(1, 5, -5)\n",
      "    4\n",
      "\n"
     ]
    }
   ],
   "source": [
    "def least_difference(a, b, c):\n",
    "    \"\"\"Return the smallest difference between any two numbers\n",
    "    among a, b and c.\n",
    "\n",
    "    >>> least_difference(1, 5, -5)\n",
    "    4\n",
    "    \"\"\"\n",
    "    return 0\n",
    "\n",
    "print(\n",
    "    least_difference(1, 10, 100),\n",
    "    least_difference(1, 10, 10),\n",
    "    least_difference(5, 6, 7)\n",
    ")\n",
    "\n",
    "print(\"-----------------------\")\n",
    "\n",
    "help(least_difference)"
   ]
  },
  {
   "cell_type": "code",
   "execution_count": 30,
   "metadata": {
    "id": "lqjlUnVIBOBe"
   },
   "outputs": [
    {
     "name": "stdout",
     "output_type": "stream",
     "text": [
      "None None\n"
     ]
    }
   ],
   "source": [
    "def round_to_two_places(num):\n",
    "    \"\"\"Return the given number rounded to two decimal places.\n",
    "\n",
    "    >>> round_to_two_places(3.14159)\n",
    "    3.14\n",
    "    \"\"\"\n",
    "    # Substitua o corpo deste método pelo seu código.\n",
    "    # (\"pass\" é uma palavra reservada que faz literalmente nada. Costuma ser\n",
    "    # usada como placeholder porque, após o início de um bloco com \":\", o python\n",
    "    # exige no mínimo uma linha de código).\n",
    "    pass\n",
    "\n",
    "print(\n",
    "    round_to_two_places(1.123345),\n",
    "    round_to_two_places(5.54321),\n",
    "\n",
    "\n",
    "     )"
   ]
  },
  {
   "cell_type": "code",
   "execution_count": 31,
   "metadata": {
    "id": "pK37353q1NlO"
   },
   "outputs": [
    {
     "name": "stdout",
     "output_type": "stream",
     "text": [
      "None None None\n"
     ]
    }
   ],
   "source": [
    "def destruir_petecas(num_petecas, num_amigos = 3):\n",
    "    \"\"\"Escreva a instrução\n",
    "\n",
    "    >>> destruir_petecas(91)\n",
    "    1\n",
    "    \"\"\"\n",
    "    pass\n",
    "\n",
    "print(\n",
    "    destruir_petecas(91),\n",
    "    destruir_petecas(91,7),\n",
    "    destruir_petecas(91,7),\n",
    "\n",
    "\n",
    ")"
   ]
  },
  {
   "cell_type": "code",
   "execution_count": 32,
   "metadata": {
    "id": "ycKmA7Ba2cPJ"
   },
   "outputs": [
    {
     "name": "stdout",
     "output_type": "stream",
     "text": [
      "None None None\n"
     ]
    }
   ],
   "source": [
    "def celsius_to_farenheits(num_celsius) :\n",
    "    \"\"\"Escreva a instrução\n",
    "\n",
    "    >>> celsius_to_farenheits(35)\n",
    "    95\n",
    "    \"\"\"\n",
    "    pass\n",
    "\n",
    "\n",
    "print(\n",
    "    celsius_to_farenheits(21),\n",
    "    celsius_to_farenheits(31),\n",
    "    celsius_to_farenheits(47),\n",
    ")"
   ]
  },
  {
   "cell_type": "code",
   "execution_count": 33,
   "metadata": {
    "id": "sMCwA69J06iv"
   },
   "outputs": [],
   "source": [
    "def multiplos_3(x, y) :\n",
    "    \"\"\"Escreva quantos múltiplos\n",
    "    de 3 existem entre x e y-1\n",
    "\n",
    "\n",
    "    \"\"\"\n",
    "    pass"
   ]
  }
 ],
 "metadata": {
  "colab": {
   "provenance": []
  },
  "kernelspec": {
   "display_name": "Python 3 (ipykernel)",
   "language": "python",
   "name": "python3"
  },
  "language_info": {
   "codemirror_mode": {
    "name": "ipython",
    "version": 3
   },
   "file_extension": ".py",
   "mimetype": "text/x-python",
   "name": "python",
   "nbconvert_exporter": "python",
   "pygments_lexer": "ipython3",
   "version": "3.9.16"
  }
 },
 "nbformat": 4,
 "nbformat_minor": 1
}
