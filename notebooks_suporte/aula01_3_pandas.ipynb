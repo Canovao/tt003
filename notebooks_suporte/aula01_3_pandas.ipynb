{
 "cells": [
  {
   "cell_type": "markdown",
   "metadata": {
    "id": "x1PLuxWO8GVJ"
   },
   "source": [
    "**Universidade Estadual de Campinas - Unicamp**\n",
    "\n",
    "**Faculdade de Tecnologia - FT**\n",
    "\n",
    "**Autor:** Ulisses Martins Dias\n",
    "\n",
    "**Disciplina:** TT003 - Tópicos em Computação e Informática III\n",
    "\n",
    "**Material de Apoio da Aula 01:** A biblioteca Pandas\n",
    "\n",
    "[![Open In Colab](https://colab.research.google.com/assets/colab-badge.svg)](https://colab.research.google.com/github/ulissesdias/tt003/blob/main/notebooks_suporte/aula01_3_pandas.ipynb)"
   ]
  },
  {
   "cell_type": "markdown",
   "metadata": {
    "id": "D4KGvSbHcwoe"
   },
   "source": [
    "# Pandas - Conceitos Básicos\n",
    "\n",
    "O primeiro passo em qualquer projeto de analise de dados é ler os dados de algum arquivo armazenado em algum lugar. Assumimos que o processo de coleta de dados já foi feito. Por exemplo, você já guardou os dados que leu da internet, ou de planilhas do excel ou de qualquer outro lugar em  arquivos texto ou planilhas.\n",
    "\n",
    "Pandas é uma biblioteca do python que facilita o manuseio de **tabelas**, um padrão muito usado no contexto de **Data Science**. Tipicamente, **Pandas** é usado como entrada dos dados para fazer a limpeza e manipulação.\n",
    "\n",
    "Resumindo o que vimos informalmente em aulas anteriores, o primeiro passo para utilizar o pandas é importar a biblioteca. O código de import a seguir é um padrão amplamente aceito, costumamos renomear o nome da biblioteca para **pd**."
   ]
  },
  {
   "cell_type": "code",
   "execution_count": 1,
   "metadata": {
    "id": "5IUsbGAfd3in"
   },
   "outputs": [],
   "source": [
    "import pandas as pd"
   ]
  },
  {
   "cell_type": "markdown",
   "metadata": {
    "id": "y-iFDOsXd5vT"
   },
   "source": [
    "Existem dois objetos principais no pandas: **DataFrame** e **Series**.\n",
    "\n",
    "\n",
    "**DataFrame** é uma tabela (bidimensional) de dados potencialmente heterogêneos. Você pode imaginá-los como uma planilha com rótulos nas linhas e nas colunas. Por exemplo, considere o DataFrame a seguir. Ele possui duas linhas e duas colunas. As linhas são rotuladas como **0** e **1** enquanto que as colunas são rotuladas como **Yes** e **No**."
   ]
  },
  {
   "cell_type": "code",
   "execution_count": 2,
   "metadata": {
    "colab": {
     "base_uri": "https://localhost:8080/",
     "height": 106
    },
    "id": "xVLQYQQletVK",
    "outputId": "933b15ac-37ea-4460-a7b3-2153b24ba2ee"
   },
   "outputs": [
    {
     "data": {
      "text/html": [
       "<div>\n",
       "<style scoped>\n",
       "    .dataframe tbody tr th:only-of-type {\n",
       "        vertical-align: middle;\n",
       "    }\n",
       "\n",
       "    .dataframe tbody tr th {\n",
       "        vertical-align: top;\n",
       "    }\n",
       "\n",
       "    .dataframe thead th {\n",
       "        text-align: right;\n",
       "    }\n",
       "</style>\n",
       "<table border=\"1\" class=\"dataframe\">\n",
       "  <thead>\n",
       "    <tr style=\"text-align: right;\">\n",
       "      <th></th>\n",
       "      <th>Yes</th>\n",
       "      <th>No</th>\n",
       "    </tr>\n",
       "  </thead>\n",
       "  <tbody>\n",
       "    <tr>\n",
       "      <th>0</th>\n",
       "      <td>50</td>\n",
       "      <td>131</td>\n",
       "    </tr>\n",
       "    <tr>\n",
       "      <th>1</th>\n",
       "      <td>21</td>\n",
       "      <td>2</td>\n",
       "    </tr>\n",
       "  </tbody>\n",
       "</table>\n",
       "</div>"
      ],
      "text/plain": [
       "   Yes   No\n",
       "0   50  131\n",
       "1   21    2"
      ]
     },
     "execution_count": 2,
     "metadata": {},
     "output_type": "execute_result"
    }
   ],
   "source": [
    "workbook = pd.DataFrame({'Yes': [50, 21], 'No': [131, 2]})\n",
    "workbook"
   ]
  },
  {
   "cell_type": "markdown",
   "metadata": {
    "id": "dXSLFI5ZRNVu"
   },
   "source": [
    "Um DataFrame pode receber diversos valores, não apenas inteiros."
   ]
  },
  {
   "cell_type": "code",
   "execution_count": 3,
   "metadata": {
    "colab": {
     "base_uri": "https://localhost:8080/",
     "height": 106
    },
    "id": "UFw5NHoVROl5",
    "outputId": "88982fa3-d54e-4dfb-88c1-3892a7a2b5e6"
   },
   "outputs": [
    {
     "data": {
      "text/html": [
       "<div>\n",
       "<style scoped>\n",
       "    .dataframe tbody tr th:only-of-type {\n",
       "        vertical-align: middle;\n",
       "    }\n",
       "\n",
       "    .dataframe tbody tr th {\n",
       "        vertical-align: top;\n",
       "    }\n",
       "\n",
       "    .dataframe thead th {\n",
       "        text-align: right;\n",
       "    }\n",
       "</style>\n",
       "<table border=\"1\" class=\"dataframe\">\n",
       "  <thead>\n",
       "    <tr style=\"text-align: right;\">\n",
       "      <th></th>\n",
       "      <th>Bob</th>\n",
       "      <th>Sue</th>\n",
       "    </tr>\n",
       "  </thead>\n",
       "  <tbody>\n",
       "    <tr>\n",
       "      <th>0</th>\n",
       "      <td>I liked it.</td>\n",
       "      <td>Pretty good.</td>\n",
       "    </tr>\n",
       "    <tr>\n",
       "      <th>1</th>\n",
       "      <td>It was awful.</td>\n",
       "      <td>Bland.</td>\n",
       "    </tr>\n",
       "  </tbody>\n",
       "</table>\n",
       "</div>"
      ],
      "text/plain": [
       "             Bob           Sue\n",
       "0    I liked it.  Pretty good.\n",
       "1  It was awful.        Bland."
      ]
     },
     "execution_count": 3,
     "metadata": {},
     "output_type": "execute_result"
    }
   ],
   "source": [
    "workbook = pd.DataFrame({'Bob': ['I liked it.', 'It was awful.'],\n",
    "                         'Sue': ['Pretty good.', 'Bland.']})\n",
    "workbook"
   ]
  },
  {
   "cell_type": "markdown",
   "metadata": {
    "id": "bhIbEdheRZBH"
   },
   "source": [
    "Note que estamos usando **pd.Dataframe** para gerar os objetos. A entrada é um dicionário cujas chaves se tornam os nomes das colunas do DataFrame\n",
    " (Bob e Sue no exemplo) e cujos valores são uma lista de\n",
    " entradas. Esse é o método padrão de construir um novo DataFrame.\n",
    "\n",
    " Observe que o método de inicialização acima está dando nomes para\n",
    " as colunas, mas não está atribuindo nomes para as linhas e deixando\n",
    " ser criada uma série (0, 1, 2, 3, ....). Entretanto, talvez você\n",
    " queira mudar esse comportamente para renomear as linhas.\n",
    "\n",
    " **A lista de rótulos para as linhas em um DataFrame é chamado de\n",
    " Índices. Você pode atribuir valores aos índices usando o parâmetro\n",
    " \"index\" do construtor.**"
   ]
  },
  {
   "cell_type": "code",
   "execution_count": 4,
   "metadata": {
    "colab": {
     "base_uri": "https://localhost:8080/",
     "height": 108
    },
    "id": "VzA_q5xaRrcQ",
    "outputId": "6ad0db08-40dd-4096-8cd9-1f7c9530b973"
   },
   "outputs": [
    {
     "data": {
      "text/html": [
       "<div>\n",
       "<style scoped>\n",
       "    .dataframe tbody tr th:only-of-type {\n",
       "        vertical-align: middle;\n",
       "    }\n",
       "\n",
       "    .dataframe tbody tr th {\n",
       "        vertical-align: top;\n",
       "    }\n",
       "\n",
       "    .dataframe thead th {\n",
       "        text-align: right;\n",
       "    }\n",
       "</style>\n",
       "<table border=\"1\" class=\"dataframe\">\n",
       "  <thead>\n",
       "    <tr style=\"text-align: right;\">\n",
       "      <th></th>\n",
       "      <th>Bob</th>\n",
       "      <th>Sue</th>\n",
       "    </tr>\n",
       "  </thead>\n",
       "  <tbody>\n",
       "    <tr>\n",
       "      <th>Product A</th>\n",
       "      <td>I liked it.</td>\n",
       "      <td>Pretty good.</td>\n",
       "    </tr>\n",
       "    <tr>\n",
       "      <th>Product B</th>\n",
       "      <td>It was awful.</td>\n",
       "      <td>Bland.</td>\n",
       "    </tr>\n",
       "  </tbody>\n",
       "</table>\n",
       "</div>"
      ],
      "text/plain": [
       "                     Bob           Sue\n",
       "Product A    I liked it.  Pretty good.\n",
       "Product B  It was awful.        Bland."
      ]
     },
     "execution_count": 4,
     "metadata": {},
     "output_type": "execute_result"
    }
   ],
   "source": [
    "workbook = pd.DataFrame({'Bob': ['I liked it.', 'It was awful.'],\n",
    "                         'Sue': ['Pretty good.', 'Bland.']},\n",
    "                        index=['Product A', 'Product B'])\n",
    "workbook"
   ]
  },
  {
   "cell_type": "markdown",
   "metadata": {
    "id": "4b0yOW2kRv4p"
   },
   "source": [
    "## Séries\n",
    "\n",
    "Uma série é uma sequência de valores de dados. **Séries** podem ser vistas como **unidimensionais**, ao contrário dos **DataFrames**, que são bidimensionais."
   ]
  },
  {
   "cell_type": "code",
   "execution_count": 5,
   "metadata": {
    "colab": {
     "base_uri": "https://localhost:8080/"
    },
    "id": "PYtwK_pJR4qn",
    "outputId": "08536e26-4898-477e-d9f1-c6393c1b342e"
   },
   "outputs": [
    {
     "data": {
      "text/plain": [
       "0    1\n",
       "1    2\n",
       "2    3\n",
       "3    4\n",
       "4    5\n",
       "dtype: int64"
      ]
     },
     "execution_count": 5,
     "metadata": {},
     "output_type": "execute_result"
    }
   ],
   "source": [
    "serie = pd.Series([1, 2, 3, 4, 5])\n",
    "serie"
   ]
  },
  {
   "cell_type": "markdown",
   "metadata": {
    "id": "hDHelO2xR_2P"
   },
   "source": [
    "Em essência, uma série é uma coluna de um DataFrame. Assim, você\n",
    "pode atribuir índices para cada linha da série da mesma maneira que\n",
    "fez com o DataFrame. Como uma série só possui uma coluna, você vai\n",
    "usar apenas o parâmetro \"name\" para informar o nome dela.\n"
   ]
  },
  {
   "cell_type": "code",
   "execution_count": 6,
   "metadata": {
    "colab": {
     "base_uri": "https://localhost:8080/"
    },
    "id": "HgvSWvMPSG21",
    "outputId": "762f8685-b634-4973-b01b-c520c37806d4"
   },
   "outputs": [
    {
     "data": {
      "text/plain": [
       "2015 Sales    30\n",
       "2016 Sales    35\n",
       "2017 Sales    40\n",
       "Name: Product A, dtype: int64"
      ]
     },
     "execution_count": 6,
     "metadata": {},
     "output_type": "execute_result"
    }
   ],
   "source": [
    "serie = pd.Series([30, 35, 40],\n",
    "                  index=['2015 Sales', '2016 Sales', '2017 Sales'],\n",
    "                  name='Product A')\n",
    "serie"
   ]
  },
  {
   "cell_type": "markdown",
   "metadata": {
    "id": "5STd_iXGSNsp"
   },
   "source": [
    "**Moral da história:** séries e dataframes estão intimamente\n",
    "relacionados. É muito útil imaginar um DataFrame como um conjunto de séries."
   ]
  },
  {
   "cell_type": "markdown",
   "metadata": {
    "id": "qTV0W57xS0af"
   },
   "source": [
    "# Visualizando Bases de Dados\n",
    "\n",
    "Ser capaz de criar um DataFrame manualmente é útil. Entretanto, na\n",
    "maioria das vezes você irá trabalhar com dados que já existem. Esses dados\n",
    "podem estar armazenados em diferentes formatos, mas os mais comuns é\n",
    " o arquivo CSV. Quando abrimos um arquivo CSV ele se parece com\n",
    " isso:\n",
    "\n",
    "\n",
    "------------------\n",
    "\n",
    "Product A,Product B,Product C,\n",
    "\n",
    "30,21,9,\n",
    "\n",
    "35,34,1,\n",
    "\n",
    "41,11,11\n",
    "\n",
    "------------------\n",
    "\n",
    "Assim, o CSV é só uma tabela com os valores separados por vírgulas,\n",
    "daí o nome CSV, do inglês \"*comma-seperated values*\". Vamos ler um\n",
    "arquivo CSV usando o pandas. Caso você nunca tenha visto um arquivo csv (espero que não seja o caso), visualize o arquivo lido no código abaixo também no navegador.\n",
    "\n",
    "Note a seguir que estamos utilizando o arquivo **winemag-data-130k-v2.csv**. Você deverá adicionar este arquivo ao seu Colab antes de prosseguir. Obtenha esse arquivo no Google Classroom da disciplina."
   ]
  },
  {
   "cell_type": "code",
   "execution_count": 7,
   "metadata": {
    "id": "KeIpkaM0TP3m"
   },
   "outputs": [],
   "source": [
    "wine_reviews = pd.read_csv(\"data/winemag-data-130k-v2.csv\")"
   ]
  },
  {
   "cell_type": "markdown",
   "metadata": {
    "id": "NUXeIjaQTXG2"
   },
   "source": [
    "## Shape\n",
    "\n",
    "Nós podemos usar o atributo **shape** para saber quão grande é o nosso DataFrame."
   ]
  },
  {
   "cell_type": "code",
   "execution_count": 8,
   "metadata": {
    "colab": {
     "base_uri": "https://localhost:8080/"
    },
    "id": "8S4H6z-ZTc_X",
    "outputId": "27c19439-47ce-4e79-8464-a0a015ff523b"
   },
   "outputs": [
    {
     "name": "stdout",
     "output_type": "stream",
     "text": [
      "wine_reviews.shape: (129971, 14)\n"
     ]
    }
   ],
   "source": [
    "print(\"wine_reviews.shape: \" + str(wine_reviews.shape))"
   ]
  },
  {
   "cell_type": "markdown",
   "metadata": {
    "id": "etUuqnjeAhpX"
   },
   "source": [
    "ou simplesmente"
   ]
  },
  {
   "cell_type": "code",
   "execution_count": 9,
   "metadata": {
    "colab": {
     "base_uri": "https://localhost:8080/"
    },
    "id": "odmbd7jMAjya",
    "outputId": "e170bcc5-8842-4055-8d6c-9ce6d0a656b2"
   },
   "outputs": [
    {
     "data": {
      "text/plain": [
       "(129971, 14)"
      ]
     },
     "execution_count": 9,
     "metadata": {},
     "output_type": "execute_result"
    }
   ],
   "source": [
    "wine_reviews.shape"
   ]
  },
  {
   "cell_type": "markdown",
   "metadata": {
    "id": "W-4dpTBZTgo_"
   },
   "source": [
    "## Head\n",
    "\n",
    "O nosso DataFrame possui 130.000 linhas armazenadas em 14\n",
    "colunas. Isso gera ao redor de 2 milhões de entradas. Não vamos\n",
    "printar o DataFrame inteiro, é interessante usar o comando \"**head**\"\n",
    "para dar uma espiada nas primeiras linhas apenas."
   ]
  },
  {
   "cell_type": "code",
   "execution_count": 10,
   "metadata": {
    "id": "WEltGBSZTn3S"
   },
   "outputs": [
    {
     "data": {
      "text/html": [
       "<div>\n",
       "<style scoped>\n",
       "    .dataframe tbody tr th:only-of-type {\n",
       "        vertical-align: middle;\n",
       "    }\n",
       "\n",
       "    .dataframe tbody tr th {\n",
       "        vertical-align: top;\n",
       "    }\n",
       "\n",
       "    .dataframe thead th {\n",
       "        text-align: right;\n",
       "    }\n",
       "</style>\n",
       "<table border=\"1\" class=\"dataframe\">\n",
       "  <thead>\n",
       "    <tr style=\"text-align: right;\">\n",
       "      <th></th>\n",
       "      <th>Unnamed: 0</th>\n",
       "      <th>country</th>\n",
       "      <th>description</th>\n",
       "      <th>designation</th>\n",
       "      <th>points</th>\n",
       "      <th>price</th>\n",
       "      <th>province</th>\n",
       "      <th>region_1</th>\n",
       "      <th>region_2</th>\n",
       "      <th>taster_name</th>\n",
       "      <th>taster_twitter_handle</th>\n",
       "      <th>title</th>\n",
       "      <th>variety</th>\n",
       "      <th>winery</th>\n",
       "    </tr>\n",
       "  </thead>\n",
       "  <tbody>\n",
       "    <tr>\n",
       "      <th>0</th>\n",
       "      <td>0</td>\n",
       "      <td>Italy</td>\n",
       "      <td>Aromas include tropical fruit, broom, brimston...</td>\n",
       "      <td>Vulkà Bianco</td>\n",
       "      <td>87</td>\n",
       "      <td>NaN</td>\n",
       "      <td>Sicily &amp; Sardinia</td>\n",
       "      <td>Etna</td>\n",
       "      <td>NaN</td>\n",
       "      <td>Kerin O’Keefe</td>\n",
       "      <td>@kerinokeefe</td>\n",
       "      <td>Nicosia 2013 Vulkà Bianco  (Etna)</td>\n",
       "      <td>White Blend</td>\n",
       "      <td>Nicosia</td>\n",
       "    </tr>\n",
       "    <tr>\n",
       "      <th>1</th>\n",
       "      <td>1</td>\n",
       "      <td>Portugal</td>\n",
       "      <td>This is ripe and fruity, a wine that is smooth...</td>\n",
       "      <td>Avidagos</td>\n",
       "      <td>87</td>\n",
       "      <td>15.0</td>\n",
       "      <td>Douro</td>\n",
       "      <td>NaN</td>\n",
       "      <td>NaN</td>\n",
       "      <td>Roger Voss</td>\n",
       "      <td>@vossroger</td>\n",
       "      <td>Quinta dos Avidagos 2011 Avidagos Red (Douro)</td>\n",
       "      <td>Portuguese Red</td>\n",
       "      <td>Quinta dos Avidagos</td>\n",
       "    </tr>\n",
       "    <tr>\n",
       "      <th>2</th>\n",
       "      <td>2</td>\n",
       "      <td>US</td>\n",
       "      <td>Tart and snappy, the flavors of lime flesh and...</td>\n",
       "      <td>NaN</td>\n",
       "      <td>87</td>\n",
       "      <td>14.0</td>\n",
       "      <td>Oregon</td>\n",
       "      <td>Willamette Valley</td>\n",
       "      <td>Willamette Valley</td>\n",
       "      <td>Paul Gregutt</td>\n",
       "      <td>@paulgwine</td>\n",
       "      <td>Rainstorm 2013 Pinot Gris (Willamette Valley)</td>\n",
       "      <td>Pinot Gris</td>\n",
       "      <td>Rainstorm</td>\n",
       "    </tr>\n",
       "    <tr>\n",
       "      <th>3</th>\n",
       "      <td>3</td>\n",
       "      <td>US</td>\n",
       "      <td>Pineapple rind, lemon pith and orange blossom ...</td>\n",
       "      <td>Reserve Late Harvest</td>\n",
       "      <td>87</td>\n",
       "      <td>13.0</td>\n",
       "      <td>Michigan</td>\n",
       "      <td>Lake Michigan Shore</td>\n",
       "      <td>NaN</td>\n",
       "      <td>Alexander Peartree</td>\n",
       "      <td>NaN</td>\n",
       "      <td>St. Julian 2013 Reserve Late Harvest Riesling ...</td>\n",
       "      <td>Riesling</td>\n",
       "      <td>St. Julian</td>\n",
       "    </tr>\n",
       "    <tr>\n",
       "      <th>4</th>\n",
       "      <td>4</td>\n",
       "      <td>US</td>\n",
       "      <td>Much like the regular bottling from 2012, this...</td>\n",
       "      <td>Vintner's Reserve Wild Child Block</td>\n",
       "      <td>87</td>\n",
       "      <td>65.0</td>\n",
       "      <td>Oregon</td>\n",
       "      <td>Willamette Valley</td>\n",
       "      <td>Willamette Valley</td>\n",
       "      <td>Paul Gregutt</td>\n",
       "      <td>@paulgwine</td>\n",
       "      <td>Sweet Cheeks 2012 Vintner's Reserve Wild Child...</td>\n",
       "      <td>Pinot Noir</td>\n",
       "      <td>Sweet Cheeks</td>\n",
       "    </tr>\n",
       "  </tbody>\n",
       "</table>\n",
       "</div>"
      ],
      "text/plain": [
       "   Unnamed: 0   country                                        description  \\\n",
       "0           0     Italy  Aromas include tropical fruit, broom, brimston...   \n",
       "1           1  Portugal  This is ripe and fruity, a wine that is smooth...   \n",
       "2           2        US  Tart and snappy, the flavors of lime flesh and...   \n",
       "3           3        US  Pineapple rind, lemon pith and orange blossom ...   \n",
       "4           4        US  Much like the regular bottling from 2012, this...   \n",
       "\n",
       "                          designation  points  price           province  \\\n",
       "0                        Vulkà Bianco      87    NaN  Sicily & Sardinia   \n",
       "1                            Avidagos      87   15.0              Douro   \n",
       "2                                 NaN      87   14.0             Oregon   \n",
       "3                Reserve Late Harvest      87   13.0           Michigan   \n",
       "4  Vintner's Reserve Wild Child Block      87   65.0             Oregon   \n",
       "\n",
       "              region_1           region_2         taster_name  \\\n",
       "0                 Etna                NaN       Kerin O’Keefe   \n",
       "1                  NaN                NaN          Roger Voss   \n",
       "2    Willamette Valley  Willamette Valley        Paul Gregutt   \n",
       "3  Lake Michigan Shore                NaN  Alexander Peartree   \n",
       "4    Willamette Valley  Willamette Valley        Paul Gregutt   \n",
       "\n",
       "  taster_twitter_handle                                              title  \\\n",
       "0          @kerinokeefe                  Nicosia 2013 Vulkà Bianco  (Etna)   \n",
       "1            @vossroger      Quinta dos Avidagos 2011 Avidagos Red (Douro)   \n",
       "2           @paulgwine       Rainstorm 2013 Pinot Gris (Willamette Valley)   \n",
       "3                   NaN  St. Julian 2013 Reserve Late Harvest Riesling ...   \n",
       "4           @paulgwine   Sweet Cheeks 2012 Vintner's Reserve Wild Child...   \n",
       "\n",
       "          variety               winery  \n",
       "0     White Blend              Nicosia  \n",
       "1  Portuguese Red  Quinta dos Avidagos  \n",
       "2      Pinot Gris            Rainstorm  \n",
       "3        Riesling           St. Julian  \n",
       "4      Pinot Noir         Sweet Cheeks  "
      ]
     },
     "execution_count": 10,
     "metadata": {},
     "output_type": "execute_result"
    }
   ],
   "source": [
    "wine_reviews.head()"
   ]
  },
  {
   "cell_type": "markdown",
   "metadata": {
    "id": "o8OTz1RlSvQB"
   },
   "source": [
    "## Tail\n",
    "\n",
    "No caso de estarmos interessados em visualizar  as últimas linhas, podemos usar o método**tail**."
   ]
  },
  {
   "cell_type": "code",
   "execution_count": 11,
   "metadata": {
    "id": "BraQmFVyS23J"
   },
   "outputs": [
    {
     "data": {
      "text/html": [
       "<div>\n",
       "<style scoped>\n",
       "    .dataframe tbody tr th:only-of-type {\n",
       "        vertical-align: middle;\n",
       "    }\n",
       "\n",
       "    .dataframe tbody tr th {\n",
       "        vertical-align: top;\n",
       "    }\n",
       "\n",
       "    .dataframe thead th {\n",
       "        text-align: right;\n",
       "    }\n",
       "</style>\n",
       "<table border=\"1\" class=\"dataframe\">\n",
       "  <thead>\n",
       "    <tr style=\"text-align: right;\">\n",
       "      <th></th>\n",
       "      <th>Unnamed: 0</th>\n",
       "      <th>country</th>\n",
       "      <th>description</th>\n",
       "      <th>designation</th>\n",
       "      <th>points</th>\n",
       "      <th>price</th>\n",
       "      <th>province</th>\n",
       "      <th>region_1</th>\n",
       "      <th>region_2</th>\n",
       "      <th>taster_name</th>\n",
       "      <th>taster_twitter_handle</th>\n",
       "      <th>title</th>\n",
       "      <th>variety</th>\n",
       "      <th>winery</th>\n",
       "    </tr>\n",
       "  </thead>\n",
       "  <tbody>\n",
       "    <tr>\n",
       "      <th>129966</th>\n",
       "      <td>129966</td>\n",
       "      <td>Germany</td>\n",
       "      <td>Notes of honeysuckle and cantaloupe sweeten th...</td>\n",
       "      <td>Brauneberger Juffer-Sonnenuhr Spätlese</td>\n",
       "      <td>90</td>\n",
       "      <td>28.0</td>\n",
       "      <td>Mosel</td>\n",
       "      <td>NaN</td>\n",
       "      <td>NaN</td>\n",
       "      <td>Anna Lee C. Iijima</td>\n",
       "      <td>NaN</td>\n",
       "      <td>Dr. H. Thanisch (Erben Müller-Burggraef) 2013 ...</td>\n",
       "      <td>Riesling</td>\n",
       "      <td>Dr. H. Thanisch (Erben Müller-Burggraef)</td>\n",
       "    </tr>\n",
       "    <tr>\n",
       "      <th>129967</th>\n",
       "      <td>129967</td>\n",
       "      <td>US</td>\n",
       "      <td>Citation is given as much as a decade of bottl...</td>\n",
       "      <td>NaN</td>\n",
       "      <td>90</td>\n",
       "      <td>75.0</td>\n",
       "      <td>Oregon</td>\n",
       "      <td>Oregon</td>\n",
       "      <td>Oregon Other</td>\n",
       "      <td>Paul Gregutt</td>\n",
       "      <td>@paulgwine</td>\n",
       "      <td>Citation 2004 Pinot Noir (Oregon)</td>\n",
       "      <td>Pinot Noir</td>\n",
       "      <td>Citation</td>\n",
       "    </tr>\n",
       "    <tr>\n",
       "      <th>129968</th>\n",
       "      <td>129968</td>\n",
       "      <td>France</td>\n",
       "      <td>Well-drained gravel soil gives this wine its c...</td>\n",
       "      <td>Kritt</td>\n",
       "      <td>90</td>\n",
       "      <td>30.0</td>\n",
       "      <td>Alsace</td>\n",
       "      <td>Alsace</td>\n",
       "      <td>NaN</td>\n",
       "      <td>Roger Voss</td>\n",
       "      <td>@vossroger</td>\n",
       "      <td>Domaine Gresser 2013 Kritt Gewurztraminer (Als...</td>\n",
       "      <td>Gewürztraminer</td>\n",
       "      <td>Domaine Gresser</td>\n",
       "    </tr>\n",
       "    <tr>\n",
       "      <th>129969</th>\n",
       "      <td>129969</td>\n",
       "      <td>France</td>\n",
       "      <td>A dry style of Pinot Gris, this is crisp with ...</td>\n",
       "      <td>NaN</td>\n",
       "      <td>90</td>\n",
       "      <td>32.0</td>\n",
       "      <td>Alsace</td>\n",
       "      <td>Alsace</td>\n",
       "      <td>NaN</td>\n",
       "      <td>Roger Voss</td>\n",
       "      <td>@vossroger</td>\n",
       "      <td>Domaine Marcel Deiss 2012 Pinot Gris (Alsace)</td>\n",
       "      <td>Pinot Gris</td>\n",
       "      <td>Domaine Marcel Deiss</td>\n",
       "    </tr>\n",
       "    <tr>\n",
       "      <th>129970</th>\n",
       "      <td>129970</td>\n",
       "      <td>France</td>\n",
       "      <td>Big, rich and off-dry, this is powered by inte...</td>\n",
       "      <td>Lieu-dit Harth Cuvée Caroline</td>\n",
       "      <td>90</td>\n",
       "      <td>21.0</td>\n",
       "      <td>Alsace</td>\n",
       "      <td>Alsace</td>\n",
       "      <td>NaN</td>\n",
       "      <td>Roger Voss</td>\n",
       "      <td>@vossroger</td>\n",
       "      <td>Domaine Schoffit 2012 Lieu-dit Harth Cuvée Car...</td>\n",
       "      <td>Gewürztraminer</td>\n",
       "      <td>Domaine Schoffit</td>\n",
       "    </tr>\n",
       "  </tbody>\n",
       "</table>\n",
       "</div>"
      ],
      "text/plain": [
       "        Unnamed: 0  country  \\\n",
       "129966      129966  Germany   \n",
       "129967      129967       US   \n",
       "129968      129968   France   \n",
       "129969      129969   France   \n",
       "129970      129970   France   \n",
       "\n",
       "                                              description  \\\n",
       "129966  Notes of honeysuckle and cantaloupe sweeten th...   \n",
       "129967  Citation is given as much as a decade of bottl...   \n",
       "129968  Well-drained gravel soil gives this wine its c...   \n",
       "129969  A dry style of Pinot Gris, this is crisp with ...   \n",
       "129970  Big, rich and off-dry, this is powered by inte...   \n",
       "\n",
       "                                   designation  points  price province  \\\n",
       "129966  Brauneberger Juffer-Sonnenuhr Spätlese      90   28.0    Mosel   \n",
       "129967                                     NaN      90   75.0   Oregon   \n",
       "129968                                   Kritt      90   30.0   Alsace   \n",
       "129969                                     NaN      90   32.0   Alsace   \n",
       "129970           Lieu-dit Harth Cuvée Caroline      90   21.0   Alsace   \n",
       "\n",
       "       region_1      region_2         taster_name taster_twitter_handle  \\\n",
       "129966      NaN           NaN  Anna Lee C. Iijima                   NaN   \n",
       "129967   Oregon  Oregon Other        Paul Gregutt           @paulgwine    \n",
       "129968   Alsace           NaN          Roger Voss            @vossroger   \n",
       "129969   Alsace           NaN          Roger Voss            @vossroger   \n",
       "129970   Alsace           NaN          Roger Voss            @vossroger   \n",
       "\n",
       "                                                    title         variety  \\\n",
       "129966  Dr. H. Thanisch (Erben Müller-Burggraef) 2013 ...        Riesling   \n",
       "129967                  Citation 2004 Pinot Noir (Oregon)      Pinot Noir   \n",
       "129968  Domaine Gresser 2013 Kritt Gewurztraminer (Als...  Gewürztraminer   \n",
       "129969      Domaine Marcel Deiss 2012 Pinot Gris (Alsace)      Pinot Gris   \n",
       "129970  Domaine Schoffit 2012 Lieu-dit Harth Cuvée Car...  Gewürztraminer   \n",
       "\n",
       "                                          winery  \n",
       "129966  Dr. H. Thanisch (Erben Müller-Burggraef)  \n",
       "129967                                  Citation  \n",
       "129968                           Domaine Gresser  \n",
       "129969                      Domaine Marcel Deiss  \n",
       "129970                          Domaine Schoffit  "
      ]
     },
     "execution_count": 11,
     "metadata": {},
     "output_type": "execute_result"
    }
   ],
   "source": [
    "wine_reviews.tail()"
   ]
  },
  {
   "cell_type": "markdown",
   "metadata": {
    "id": "ROLWe44qS8K4"
   },
   "source": [
    "Tanto **head** quanto **tail** aceitam como parâmetro o número de linhas que gostaríamos de visualizar."
   ]
  },
  {
   "cell_type": "code",
   "execution_count": 12,
   "metadata": {
    "id": "gxL7g42-TB5Z"
   },
   "outputs": [
    {
     "data": {
      "text/html": [
       "<div>\n",
       "<style scoped>\n",
       "    .dataframe tbody tr th:only-of-type {\n",
       "        vertical-align: middle;\n",
       "    }\n",
       "\n",
       "    .dataframe tbody tr th {\n",
       "        vertical-align: top;\n",
       "    }\n",
       "\n",
       "    .dataframe thead th {\n",
       "        text-align: right;\n",
       "    }\n",
       "</style>\n",
       "<table border=\"1\" class=\"dataframe\">\n",
       "  <thead>\n",
       "    <tr style=\"text-align: right;\">\n",
       "      <th></th>\n",
       "      <th>Unnamed: 0</th>\n",
       "      <th>country</th>\n",
       "      <th>description</th>\n",
       "      <th>designation</th>\n",
       "      <th>points</th>\n",
       "      <th>price</th>\n",
       "      <th>province</th>\n",
       "      <th>region_1</th>\n",
       "      <th>region_2</th>\n",
       "      <th>taster_name</th>\n",
       "      <th>taster_twitter_handle</th>\n",
       "      <th>title</th>\n",
       "      <th>variety</th>\n",
       "      <th>winery</th>\n",
       "    </tr>\n",
       "  </thead>\n",
       "  <tbody>\n",
       "    <tr>\n",
       "      <th>0</th>\n",
       "      <td>0</td>\n",
       "      <td>Italy</td>\n",
       "      <td>Aromas include tropical fruit, broom, brimston...</td>\n",
       "      <td>Vulkà Bianco</td>\n",
       "      <td>87</td>\n",
       "      <td>NaN</td>\n",
       "      <td>Sicily &amp; Sardinia</td>\n",
       "      <td>Etna</td>\n",
       "      <td>NaN</td>\n",
       "      <td>Kerin O’Keefe</td>\n",
       "      <td>@kerinokeefe</td>\n",
       "      <td>Nicosia 2013 Vulkà Bianco  (Etna)</td>\n",
       "      <td>White Blend</td>\n",
       "      <td>Nicosia</td>\n",
       "    </tr>\n",
       "    <tr>\n",
       "      <th>1</th>\n",
       "      <td>1</td>\n",
       "      <td>Portugal</td>\n",
       "      <td>This is ripe and fruity, a wine that is smooth...</td>\n",
       "      <td>Avidagos</td>\n",
       "      <td>87</td>\n",
       "      <td>15.0</td>\n",
       "      <td>Douro</td>\n",
       "      <td>NaN</td>\n",
       "      <td>NaN</td>\n",
       "      <td>Roger Voss</td>\n",
       "      <td>@vossroger</td>\n",
       "      <td>Quinta dos Avidagos 2011 Avidagos Red (Douro)</td>\n",
       "      <td>Portuguese Red</td>\n",
       "      <td>Quinta dos Avidagos</td>\n",
       "    </tr>\n",
       "    <tr>\n",
       "      <th>2</th>\n",
       "      <td>2</td>\n",
       "      <td>US</td>\n",
       "      <td>Tart and snappy, the flavors of lime flesh and...</td>\n",
       "      <td>NaN</td>\n",
       "      <td>87</td>\n",
       "      <td>14.0</td>\n",
       "      <td>Oregon</td>\n",
       "      <td>Willamette Valley</td>\n",
       "      <td>Willamette Valley</td>\n",
       "      <td>Paul Gregutt</td>\n",
       "      <td>@paulgwine</td>\n",
       "      <td>Rainstorm 2013 Pinot Gris (Willamette Valley)</td>\n",
       "      <td>Pinot Gris</td>\n",
       "      <td>Rainstorm</td>\n",
       "    </tr>\n",
       "    <tr>\n",
       "      <th>3</th>\n",
       "      <td>3</td>\n",
       "      <td>US</td>\n",
       "      <td>Pineapple rind, lemon pith and orange blossom ...</td>\n",
       "      <td>Reserve Late Harvest</td>\n",
       "      <td>87</td>\n",
       "      <td>13.0</td>\n",
       "      <td>Michigan</td>\n",
       "      <td>Lake Michigan Shore</td>\n",
       "      <td>NaN</td>\n",
       "      <td>Alexander Peartree</td>\n",
       "      <td>NaN</td>\n",
       "      <td>St. Julian 2013 Reserve Late Harvest Riesling ...</td>\n",
       "      <td>Riesling</td>\n",
       "      <td>St. Julian</td>\n",
       "    </tr>\n",
       "    <tr>\n",
       "      <th>4</th>\n",
       "      <td>4</td>\n",
       "      <td>US</td>\n",
       "      <td>Much like the regular bottling from 2012, this...</td>\n",
       "      <td>Vintner's Reserve Wild Child Block</td>\n",
       "      <td>87</td>\n",
       "      <td>65.0</td>\n",
       "      <td>Oregon</td>\n",
       "      <td>Willamette Valley</td>\n",
       "      <td>Willamette Valley</td>\n",
       "      <td>Paul Gregutt</td>\n",
       "      <td>@paulgwine</td>\n",
       "      <td>Sweet Cheeks 2012 Vintner's Reserve Wild Child...</td>\n",
       "      <td>Pinot Noir</td>\n",
       "      <td>Sweet Cheeks</td>\n",
       "    </tr>\n",
       "    <tr>\n",
       "      <th>5</th>\n",
       "      <td>5</td>\n",
       "      <td>Spain</td>\n",
       "      <td>Blackberry and raspberry aromas show a typical...</td>\n",
       "      <td>Ars In Vitro</td>\n",
       "      <td>87</td>\n",
       "      <td>15.0</td>\n",
       "      <td>Northern Spain</td>\n",
       "      <td>Navarra</td>\n",
       "      <td>NaN</td>\n",
       "      <td>Michael Schachner</td>\n",
       "      <td>@wineschach</td>\n",
       "      <td>Tandem 2011 Ars In Vitro Tempranillo-Merlot (N...</td>\n",
       "      <td>Tempranillo-Merlot</td>\n",
       "      <td>Tandem</td>\n",
       "    </tr>\n",
       "    <tr>\n",
       "      <th>6</th>\n",
       "      <td>6</td>\n",
       "      <td>Italy</td>\n",
       "      <td>Here's a bright, informal red that opens with ...</td>\n",
       "      <td>Belsito</td>\n",
       "      <td>87</td>\n",
       "      <td>16.0</td>\n",
       "      <td>Sicily &amp; Sardinia</td>\n",
       "      <td>Vittoria</td>\n",
       "      <td>NaN</td>\n",
       "      <td>Kerin O’Keefe</td>\n",
       "      <td>@kerinokeefe</td>\n",
       "      <td>Terre di Giurfo 2013 Belsito Frappato (Vittoria)</td>\n",
       "      <td>Frappato</td>\n",
       "      <td>Terre di Giurfo</td>\n",
       "    </tr>\n",
       "    <tr>\n",
       "      <th>7</th>\n",
       "      <td>7</td>\n",
       "      <td>France</td>\n",
       "      <td>This dry and restrained wine offers spice in p...</td>\n",
       "      <td>NaN</td>\n",
       "      <td>87</td>\n",
       "      <td>24.0</td>\n",
       "      <td>Alsace</td>\n",
       "      <td>Alsace</td>\n",
       "      <td>NaN</td>\n",
       "      <td>Roger Voss</td>\n",
       "      <td>@vossroger</td>\n",
       "      <td>Trimbach 2012 Gewurztraminer (Alsace)</td>\n",
       "      <td>Gewürztraminer</td>\n",
       "      <td>Trimbach</td>\n",
       "    </tr>\n",
       "    <tr>\n",
       "      <th>8</th>\n",
       "      <td>8</td>\n",
       "      <td>Germany</td>\n",
       "      <td>Savory dried thyme notes accent sunnier flavor...</td>\n",
       "      <td>Shine</td>\n",
       "      <td>87</td>\n",
       "      <td>12.0</td>\n",
       "      <td>Rheinhessen</td>\n",
       "      <td>NaN</td>\n",
       "      <td>NaN</td>\n",
       "      <td>Anna Lee C. Iijima</td>\n",
       "      <td>NaN</td>\n",
       "      <td>Heinz Eifel 2013 Shine Gewürztraminer (Rheinhe...</td>\n",
       "      <td>Gewürztraminer</td>\n",
       "      <td>Heinz Eifel</td>\n",
       "    </tr>\n",
       "    <tr>\n",
       "      <th>9</th>\n",
       "      <td>9</td>\n",
       "      <td>France</td>\n",
       "      <td>This has great depth of flavor with its fresh ...</td>\n",
       "      <td>Les Natures</td>\n",
       "      <td>87</td>\n",
       "      <td>27.0</td>\n",
       "      <td>Alsace</td>\n",
       "      <td>Alsace</td>\n",
       "      <td>NaN</td>\n",
       "      <td>Roger Voss</td>\n",
       "      <td>@vossroger</td>\n",
       "      <td>Jean-Baptiste Adam 2012 Les Natures Pinot Gris...</td>\n",
       "      <td>Pinot Gris</td>\n",
       "      <td>Jean-Baptiste Adam</td>\n",
       "    </tr>\n",
       "    <tr>\n",
       "      <th>10</th>\n",
       "      <td>10</td>\n",
       "      <td>US</td>\n",
       "      <td>Soft, supple plum envelopes an oaky structure ...</td>\n",
       "      <td>Mountain Cuvée</td>\n",
       "      <td>87</td>\n",
       "      <td>19.0</td>\n",
       "      <td>California</td>\n",
       "      <td>Napa Valley</td>\n",
       "      <td>Napa</td>\n",
       "      <td>Virginie Boone</td>\n",
       "      <td>@vboone</td>\n",
       "      <td>Kirkland Signature 2011 Mountain Cuvée Caberne...</td>\n",
       "      <td>Cabernet Sauvignon</td>\n",
       "      <td>Kirkland Signature</td>\n",
       "    </tr>\n",
       "    <tr>\n",
       "      <th>11</th>\n",
       "      <td>11</td>\n",
       "      <td>France</td>\n",
       "      <td>This is a dry wine, very spicy, with a tight, ...</td>\n",
       "      <td>NaN</td>\n",
       "      <td>87</td>\n",
       "      <td>30.0</td>\n",
       "      <td>Alsace</td>\n",
       "      <td>Alsace</td>\n",
       "      <td>NaN</td>\n",
       "      <td>Roger Voss</td>\n",
       "      <td>@vossroger</td>\n",
       "      <td>Leon Beyer 2012 Gewurztraminer (Alsace)</td>\n",
       "      <td>Gewürztraminer</td>\n",
       "      <td>Leon Beyer</td>\n",
       "    </tr>\n",
       "    <tr>\n",
       "      <th>12</th>\n",
       "      <td>12</td>\n",
       "      <td>US</td>\n",
       "      <td>Slightly reduced, this wine offers a chalky, t...</td>\n",
       "      <td>NaN</td>\n",
       "      <td>87</td>\n",
       "      <td>34.0</td>\n",
       "      <td>California</td>\n",
       "      <td>Alexander Valley</td>\n",
       "      <td>Sonoma</td>\n",
       "      <td>Virginie Boone</td>\n",
       "      <td>@vboone</td>\n",
       "      <td>Louis M. Martini 2012 Cabernet Sauvignon (Alex...</td>\n",
       "      <td>Cabernet Sauvignon</td>\n",
       "      <td>Louis M. Martini</td>\n",
       "    </tr>\n",
       "    <tr>\n",
       "      <th>13</th>\n",
       "      <td>13</td>\n",
       "      <td>Italy</td>\n",
       "      <td>This is dominated by oak and oak-driven aromas...</td>\n",
       "      <td>Rosso</td>\n",
       "      <td>87</td>\n",
       "      <td>NaN</td>\n",
       "      <td>Sicily &amp; Sardinia</td>\n",
       "      <td>Etna</td>\n",
       "      <td>NaN</td>\n",
       "      <td>Kerin O’Keefe</td>\n",
       "      <td>@kerinokeefe</td>\n",
       "      <td>Masseria Setteporte 2012 Rosso  (Etna)</td>\n",
       "      <td>Nerello Mascalese</td>\n",
       "      <td>Masseria Setteporte</td>\n",
       "    </tr>\n",
       "    <tr>\n",
       "      <th>14</th>\n",
       "      <td>14</td>\n",
       "      <td>US</td>\n",
       "      <td>Building on 150 years and six generations of w...</td>\n",
       "      <td>NaN</td>\n",
       "      <td>87</td>\n",
       "      <td>12.0</td>\n",
       "      <td>California</td>\n",
       "      <td>Central Coast</td>\n",
       "      <td>Central Coast</td>\n",
       "      <td>Matt Kettmann</td>\n",
       "      <td>@mattkettmann</td>\n",
       "      <td>Mirassou 2012 Chardonnay (Central Coast)</td>\n",
       "      <td>Chardonnay</td>\n",
       "      <td>Mirassou</td>\n",
       "    </tr>\n",
       "    <tr>\n",
       "      <th>15</th>\n",
       "      <td>15</td>\n",
       "      <td>Germany</td>\n",
       "      <td>Zesty orange peels and apple notes abound in t...</td>\n",
       "      <td>Devon</td>\n",
       "      <td>87</td>\n",
       "      <td>24.0</td>\n",
       "      <td>Mosel</td>\n",
       "      <td>NaN</td>\n",
       "      <td>NaN</td>\n",
       "      <td>Anna Lee C. Iijima</td>\n",
       "      <td>NaN</td>\n",
       "      <td>Richard Böcking 2013 Devon Riesling (Mosel)</td>\n",
       "      <td>Riesling</td>\n",
       "      <td>Richard Böcking</td>\n",
       "    </tr>\n",
       "    <tr>\n",
       "      <th>16</th>\n",
       "      <td>16</td>\n",
       "      <td>Argentina</td>\n",
       "      <td>Baked plum, molasses, balsamic vinegar and che...</td>\n",
       "      <td>Felix</td>\n",
       "      <td>87</td>\n",
       "      <td>30.0</td>\n",
       "      <td>Other</td>\n",
       "      <td>Cafayate</td>\n",
       "      <td>NaN</td>\n",
       "      <td>Michael Schachner</td>\n",
       "      <td>@wineschach</td>\n",
       "      <td>Felix Lavaque 2010 Felix Malbec (Cafayate)</td>\n",
       "      <td>Malbec</td>\n",
       "      <td>Felix Lavaque</td>\n",
       "    </tr>\n",
       "    <tr>\n",
       "      <th>17</th>\n",
       "      <td>17</td>\n",
       "      <td>Argentina</td>\n",
       "      <td>Raw black-cherry aromas are direct and simple ...</td>\n",
       "      <td>Winemaker Selection</td>\n",
       "      <td>87</td>\n",
       "      <td>13.0</td>\n",
       "      <td>Mendoza Province</td>\n",
       "      <td>Mendoza</td>\n",
       "      <td>NaN</td>\n",
       "      <td>Michael Schachner</td>\n",
       "      <td>@wineschach</td>\n",
       "      <td>Gaucho Andino 2011 Winemaker Selection Malbec ...</td>\n",
       "      <td>Malbec</td>\n",
       "      <td>Gaucho Andino</td>\n",
       "    </tr>\n",
       "    <tr>\n",
       "      <th>18</th>\n",
       "      <td>18</td>\n",
       "      <td>Spain</td>\n",
       "      <td>Desiccated blackberry, leather, charred wood a...</td>\n",
       "      <td>Vendimia Seleccionada Finca Valdelayegua Singl...</td>\n",
       "      <td>87</td>\n",
       "      <td>28.0</td>\n",
       "      <td>Northern Spain</td>\n",
       "      <td>Ribera del Duero</td>\n",
       "      <td>NaN</td>\n",
       "      <td>Michael Schachner</td>\n",
       "      <td>@wineschach</td>\n",
       "      <td>Pradorey 2010 Vendimia Seleccionada Finca Vald...</td>\n",
       "      <td>Tempranillo Blend</td>\n",
       "      <td>Pradorey</td>\n",
       "    </tr>\n",
       "    <tr>\n",
       "      <th>19</th>\n",
       "      <td>19</td>\n",
       "      <td>US</td>\n",
       "      <td>Red fruit aromas pervade on the nose, with cig...</td>\n",
       "      <td>NaN</td>\n",
       "      <td>87</td>\n",
       "      <td>32.0</td>\n",
       "      <td>Virginia</td>\n",
       "      <td>Virginia</td>\n",
       "      <td>NaN</td>\n",
       "      <td>Alexander Peartree</td>\n",
       "      <td>NaN</td>\n",
       "      <td>Quiévremont 2012 Meritage (Virginia)</td>\n",
       "      <td>Meritage</td>\n",
       "      <td>Quiévremont</td>\n",
       "    </tr>\n",
       "  </tbody>\n",
       "</table>\n",
       "</div>"
      ],
      "text/plain": [
       "    Unnamed: 0    country                                        description  \\\n",
       "0            0      Italy  Aromas include tropical fruit, broom, brimston...   \n",
       "1            1   Portugal  This is ripe and fruity, a wine that is smooth...   \n",
       "2            2         US  Tart and snappy, the flavors of lime flesh and...   \n",
       "3            3         US  Pineapple rind, lemon pith and orange blossom ...   \n",
       "4            4         US  Much like the regular bottling from 2012, this...   \n",
       "5            5      Spain  Blackberry and raspberry aromas show a typical...   \n",
       "6            6      Italy  Here's a bright, informal red that opens with ...   \n",
       "7            7     France  This dry and restrained wine offers spice in p...   \n",
       "8            8    Germany  Savory dried thyme notes accent sunnier flavor...   \n",
       "9            9     France  This has great depth of flavor with its fresh ...   \n",
       "10          10         US  Soft, supple plum envelopes an oaky structure ...   \n",
       "11          11     France  This is a dry wine, very spicy, with a tight, ...   \n",
       "12          12         US  Slightly reduced, this wine offers a chalky, t...   \n",
       "13          13      Italy  This is dominated by oak and oak-driven aromas...   \n",
       "14          14         US  Building on 150 years and six generations of w...   \n",
       "15          15    Germany  Zesty orange peels and apple notes abound in t...   \n",
       "16          16  Argentina  Baked plum, molasses, balsamic vinegar and che...   \n",
       "17          17  Argentina  Raw black-cherry aromas are direct and simple ...   \n",
       "18          18      Spain  Desiccated blackberry, leather, charred wood a...   \n",
       "19          19         US  Red fruit aromas pervade on the nose, with cig...   \n",
       "\n",
       "                                          designation  points  price  \\\n",
       "0                                        Vulkà Bianco      87    NaN   \n",
       "1                                            Avidagos      87   15.0   \n",
       "2                                                 NaN      87   14.0   \n",
       "3                                Reserve Late Harvest      87   13.0   \n",
       "4                  Vintner's Reserve Wild Child Block      87   65.0   \n",
       "5                                        Ars In Vitro      87   15.0   \n",
       "6                                             Belsito      87   16.0   \n",
       "7                                                 NaN      87   24.0   \n",
       "8                                               Shine      87   12.0   \n",
       "9                                         Les Natures      87   27.0   \n",
       "10                                     Mountain Cuvée      87   19.0   \n",
       "11                                                NaN      87   30.0   \n",
       "12                                                NaN      87   34.0   \n",
       "13                                              Rosso      87    NaN   \n",
       "14                                                NaN      87   12.0   \n",
       "15                                              Devon      87   24.0   \n",
       "16                                              Felix      87   30.0   \n",
       "17                                Winemaker Selection      87   13.0   \n",
       "18  Vendimia Seleccionada Finca Valdelayegua Singl...      87   28.0   \n",
       "19                                                NaN      87   32.0   \n",
       "\n",
       "             province             region_1           region_2  \\\n",
       "0   Sicily & Sardinia                 Etna                NaN   \n",
       "1               Douro                  NaN                NaN   \n",
       "2              Oregon    Willamette Valley  Willamette Valley   \n",
       "3            Michigan  Lake Michigan Shore                NaN   \n",
       "4              Oregon    Willamette Valley  Willamette Valley   \n",
       "5      Northern Spain              Navarra                NaN   \n",
       "6   Sicily & Sardinia             Vittoria                NaN   \n",
       "7              Alsace               Alsace                NaN   \n",
       "8         Rheinhessen                  NaN                NaN   \n",
       "9              Alsace               Alsace                NaN   \n",
       "10         California          Napa Valley               Napa   \n",
       "11             Alsace               Alsace                NaN   \n",
       "12         California     Alexander Valley             Sonoma   \n",
       "13  Sicily & Sardinia                 Etna                NaN   \n",
       "14         California        Central Coast      Central Coast   \n",
       "15              Mosel                  NaN                NaN   \n",
       "16              Other             Cafayate                NaN   \n",
       "17   Mendoza Province              Mendoza                NaN   \n",
       "18     Northern Spain     Ribera del Duero                NaN   \n",
       "19           Virginia             Virginia                NaN   \n",
       "\n",
       "           taster_name taster_twitter_handle  \\\n",
       "0        Kerin O’Keefe          @kerinokeefe   \n",
       "1           Roger Voss            @vossroger   \n",
       "2         Paul Gregutt           @paulgwine    \n",
       "3   Alexander Peartree                   NaN   \n",
       "4         Paul Gregutt           @paulgwine    \n",
       "5    Michael Schachner           @wineschach   \n",
       "6        Kerin O’Keefe          @kerinokeefe   \n",
       "7           Roger Voss            @vossroger   \n",
       "8   Anna Lee C. Iijima                   NaN   \n",
       "9           Roger Voss            @vossroger   \n",
       "10      Virginie Boone               @vboone   \n",
       "11          Roger Voss            @vossroger   \n",
       "12      Virginie Boone               @vboone   \n",
       "13       Kerin O’Keefe          @kerinokeefe   \n",
       "14       Matt Kettmann         @mattkettmann   \n",
       "15  Anna Lee C. Iijima                   NaN   \n",
       "16   Michael Schachner           @wineschach   \n",
       "17   Michael Schachner           @wineschach   \n",
       "18   Michael Schachner           @wineschach   \n",
       "19  Alexander Peartree                   NaN   \n",
       "\n",
       "                                                title             variety  \\\n",
       "0                   Nicosia 2013 Vulkà Bianco  (Etna)         White Blend   \n",
       "1       Quinta dos Avidagos 2011 Avidagos Red (Douro)      Portuguese Red   \n",
       "2       Rainstorm 2013 Pinot Gris (Willamette Valley)          Pinot Gris   \n",
       "3   St. Julian 2013 Reserve Late Harvest Riesling ...            Riesling   \n",
       "4   Sweet Cheeks 2012 Vintner's Reserve Wild Child...          Pinot Noir   \n",
       "5   Tandem 2011 Ars In Vitro Tempranillo-Merlot (N...  Tempranillo-Merlot   \n",
       "6    Terre di Giurfo 2013 Belsito Frappato (Vittoria)            Frappato   \n",
       "7               Trimbach 2012 Gewurztraminer (Alsace)      Gewürztraminer   \n",
       "8   Heinz Eifel 2013 Shine Gewürztraminer (Rheinhe...      Gewürztraminer   \n",
       "9   Jean-Baptiste Adam 2012 Les Natures Pinot Gris...          Pinot Gris   \n",
       "10  Kirkland Signature 2011 Mountain Cuvée Caberne...  Cabernet Sauvignon   \n",
       "11            Leon Beyer 2012 Gewurztraminer (Alsace)      Gewürztraminer   \n",
       "12  Louis M. Martini 2012 Cabernet Sauvignon (Alex...  Cabernet Sauvignon   \n",
       "13             Masseria Setteporte 2012 Rosso  (Etna)   Nerello Mascalese   \n",
       "14           Mirassou 2012 Chardonnay (Central Coast)          Chardonnay   \n",
       "15        Richard Böcking 2013 Devon Riesling (Mosel)            Riesling   \n",
       "16         Felix Lavaque 2010 Felix Malbec (Cafayate)              Malbec   \n",
       "17  Gaucho Andino 2011 Winemaker Selection Malbec ...              Malbec   \n",
       "18  Pradorey 2010 Vendimia Seleccionada Finca Vald...   Tempranillo Blend   \n",
       "19               Quiévremont 2012 Meritage (Virginia)            Meritage   \n",
       "\n",
       "                 winery  \n",
       "0               Nicosia  \n",
       "1   Quinta dos Avidagos  \n",
       "2             Rainstorm  \n",
       "3            St. Julian  \n",
       "4          Sweet Cheeks  \n",
       "5                Tandem  \n",
       "6       Terre di Giurfo  \n",
       "7              Trimbach  \n",
       "8           Heinz Eifel  \n",
       "9    Jean-Baptiste Adam  \n",
       "10   Kirkland Signature  \n",
       "11           Leon Beyer  \n",
       "12     Louis M. Martini  \n",
       "13  Masseria Setteporte  \n",
       "14             Mirassou  \n",
       "15      Richard Böcking  \n",
       "16        Felix Lavaque  \n",
       "17        Gaucho Andino  \n",
       "18             Pradorey  \n",
       "19          Quiévremont  "
      ]
     },
     "execution_count": 12,
     "metadata": {},
     "output_type": "execute_result"
    }
   ],
   "source": [
    "wine_reviews.head(20)\n",
    "## wine_reviews.tail(20)"
   ]
  },
  {
   "cell_type": "markdown",
   "metadata": {
    "id": "RkLnmLA6TMr6"
   },
   "source": [
    "## Tamanho\n",
    "\n",
    "*    Dizemos que o tamanho de um DataFrame é o número de linhas multiplicado pelo número de colunas. Nesse caso, podemos usar o atributo **size** para conhecer esse valor.\n",
    "\n",
    "*    Também é possível usar o comando **len** padrão do python em um DataFrame, mas ele vai retornar apenas o número de linhas.\n",
    "\n",
    "*   É muito útil conhecer esses métodos, mas o mais comum será usar o atributo **shape** visto acima para obter esses valores."
   ]
  },
  {
   "cell_type": "code",
   "execution_count": 13,
   "metadata": {
    "colab": {
     "base_uri": "https://localhost:8080/"
    },
    "id": "KnhmFaoGTVrt",
    "outputId": "cbb9bf88-d5c3-45f2-8cf9-7e8e99c71baf"
   },
   "outputs": [
    {
     "data": {
      "text/plain": [
       "1819594"
      ]
     },
     "execution_count": 13,
     "metadata": {},
     "output_type": "execute_result"
    }
   ],
   "source": [
    "wine_reviews.size"
   ]
  },
  {
   "cell_type": "code",
   "execution_count": 14,
   "metadata": {
    "colab": {
     "base_uri": "https://localhost:8080/"
    },
    "id": "PBn1Vb5QTjmd",
    "outputId": "36a27062-c658-43c3-8c33-057193c3edbc"
   },
   "outputs": [
    {
     "data": {
      "text/plain": [
       "129971"
      ]
     },
     "execution_count": 14,
     "metadata": {},
     "output_type": "execute_result"
    }
   ],
   "source": [
    "len(wine_reviews)"
   ]
  },
  {
   "cell_type": "markdown",
   "metadata": {
    "id": "hJtKiPYuT44I"
   },
   "source": [
    "## Nomes das Colunas\n",
    "\n",
    "Se o seu DataFrame possui nomes para as colunas (no nosso caso, extraídas diretamente da primeira linha do arquivo .csv), você pode obtê-las em um array acessando o atributo **columns**."
   ]
  },
  {
   "cell_type": "code",
   "execution_count": 15,
   "metadata": {
    "colab": {
     "base_uri": "https://localhost:8080/"
    },
    "id": "u4yPJmOPUHv-",
    "outputId": "6be4fcc0-0011-4407-ab5e-038599eb1312"
   },
   "outputs": [
    {
     "data": {
      "text/plain": [
       "Index(['Unnamed: 0', 'country', 'description', 'designation', 'points',\n",
       "       'price', 'province', 'region_1', 'region_2', 'taster_name',\n",
       "       'taster_twitter_handle', 'title', 'variety', 'winery'],\n",
       "      dtype='object')"
      ]
     },
     "execution_count": 15,
     "metadata": {},
     "output_type": "execute_result"
    }
   ],
   "source": [
    "wine_reviews.columns"
   ]
  },
  {
   "cell_type": "markdown",
   "metadata": {
    "id": "_nybYfQQTu4G"
   },
   "source": [
    "## Read CSV\n",
    "\n",
    "O comando read_csv possui mais de 30 parâmetros opcionais. Por\n",
    "exemplo, você pode ver que a primeira coluna não foi\n",
    "reconhecida como um índice, mas como uma série, podemos mudar isso\n",
    "usando o parâmetro index_col da forma abaixo."
   ]
  },
  {
   "cell_type": "code",
   "execution_count": 16,
   "metadata": {
    "colab": {
     "base_uri": "https://localhost:8080/",
     "height": 618
    },
    "id": "fbBriY2hT8L8",
    "outputId": "2841f176-b7b3-43f6-8771-46c4ddecccfd"
   },
   "outputs": [
    {
     "data": {
      "text/html": [
       "<div>\n",
       "<style scoped>\n",
       "    .dataframe tbody tr th:only-of-type {\n",
       "        vertical-align: middle;\n",
       "    }\n",
       "\n",
       "    .dataframe tbody tr th {\n",
       "        vertical-align: top;\n",
       "    }\n",
       "\n",
       "    .dataframe thead th {\n",
       "        text-align: right;\n",
       "    }\n",
       "</style>\n",
       "<table border=\"1\" class=\"dataframe\">\n",
       "  <thead>\n",
       "    <tr style=\"text-align: right;\">\n",
       "      <th></th>\n",
       "      <th>country</th>\n",
       "      <th>description</th>\n",
       "      <th>designation</th>\n",
       "      <th>points</th>\n",
       "      <th>price</th>\n",
       "      <th>province</th>\n",
       "      <th>region_1</th>\n",
       "      <th>region_2</th>\n",
       "      <th>taster_name</th>\n",
       "      <th>taster_twitter_handle</th>\n",
       "      <th>title</th>\n",
       "      <th>variety</th>\n",
       "      <th>winery</th>\n",
       "    </tr>\n",
       "  </thead>\n",
       "  <tbody>\n",
       "    <tr>\n",
       "      <th>0</th>\n",
       "      <td>Italy</td>\n",
       "      <td>Aromas include tropical fruit, broom, brimston...</td>\n",
       "      <td>Vulkà Bianco</td>\n",
       "      <td>87</td>\n",
       "      <td>NaN</td>\n",
       "      <td>Sicily &amp; Sardinia</td>\n",
       "      <td>Etna</td>\n",
       "      <td>NaN</td>\n",
       "      <td>Kerin O’Keefe</td>\n",
       "      <td>@kerinokeefe</td>\n",
       "      <td>Nicosia 2013 Vulkà Bianco  (Etna)</td>\n",
       "      <td>White Blend</td>\n",
       "      <td>Nicosia</td>\n",
       "    </tr>\n",
       "    <tr>\n",
       "      <th>1</th>\n",
       "      <td>Portugal</td>\n",
       "      <td>This is ripe and fruity, a wine that is smooth...</td>\n",
       "      <td>Avidagos</td>\n",
       "      <td>87</td>\n",
       "      <td>15.0</td>\n",
       "      <td>Douro</td>\n",
       "      <td>NaN</td>\n",
       "      <td>NaN</td>\n",
       "      <td>Roger Voss</td>\n",
       "      <td>@vossroger</td>\n",
       "      <td>Quinta dos Avidagos 2011 Avidagos Red (Douro)</td>\n",
       "      <td>Portuguese Red</td>\n",
       "      <td>Quinta dos Avidagos</td>\n",
       "    </tr>\n",
       "    <tr>\n",
       "      <th>2</th>\n",
       "      <td>US</td>\n",
       "      <td>Tart and snappy, the flavors of lime flesh and...</td>\n",
       "      <td>NaN</td>\n",
       "      <td>87</td>\n",
       "      <td>14.0</td>\n",
       "      <td>Oregon</td>\n",
       "      <td>Willamette Valley</td>\n",
       "      <td>Willamette Valley</td>\n",
       "      <td>Paul Gregutt</td>\n",
       "      <td>@paulgwine</td>\n",
       "      <td>Rainstorm 2013 Pinot Gris (Willamette Valley)</td>\n",
       "      <td>Pinot Gris</td>\n",
       "      <td>Rainstorm</td>\n",
       "    </tr>\n",
       "    <tr>\n",
       "      <th>3</th>\n",
       "      <td>US</td>\n",
       "      <td>Pineapple rind, lemon pith and orange blossom ...</td>\n",
       "      <td>Reserve Late Harvest</td>\n",
       "      <td>87</td>\n",
       "      <td>13.0</td>\n",
       "      <td>Michigan</td>\n",
       "      <td>Lake Michigan Shore</td>\n",
       "      <td>NaN</td>\n",
       "      <td>Alexander Peartree</td>\n",
       "      <td>NaN</td>\n",
       "      <td>St. Julian 2013 Reserve Late Harvest Riesling ...</td>\n",
       "      <td>Riesling</td>\n",
       "      <td>St. Julian</td>\n",
       "    </tr>\n",
       "    <tr>\n",
       "      <th>4</th>\n",
       "      <td>US</td>\n",
       "      <td>Much like the regular bottling from 2012, this...</td>\n",
       "      <td>Vintner's Reserve Wild Child Block</td>\n",
       "      <td>87</td>\n",
       "      <td>65.0</td>\n",
       "      <td>Oregon</td>\n",
       "      <td>Willamette Valley</td>\n",
       "      <td>Willamette Valley</td>\n",
       "      <td>Paul Gregutt</td>\n",
       "      <td>@paulgwine</td>\n",
       "      <td>Sweet Cheeks 2012 Vintner's Reserve Wild Child...</td>\n",
       "      <td>Pinot Noir</td>\n",
       "      <td>Sweet Cheeks</td>\n",
       "    </tr>\n",
       "  </tbody>\n",
       "</table>\n",
       "</div>"
      ],
      "text/plain": [
       "    country                                        description  \\\n",
       "0     Italy  Aromas include tropical fruit, broom, brimston...   \n",
       "1  Portugal  This is ripe and fruity, a wine that is smooth...   \n",
       "2        US  Tart and snappy, the flavors of lime flesh and...   \n",
       "3        US  Pineapple rind, lemon pith and orange blossom ...   \n",
       "4        US  Much like the regular bottling from 2012, this...   \n",
       "\n",
       "                          designation  points  price           province  \\\n",
       "0                        Vulkà Bianco      87    NaN  Sicily & Sardinia   \n",
       "1                            Avidagos      87   15.0              Douro   \n",
       "2                                 NaN      87   14.0             Oregon   \n",
       "3                Reserve Late Harvest      87   13.0           Michigan   \n",
       "4  Vintner's Reserve Wild Child Block      87   65.0             Oregon   \n",
       "\n",
       "              region_1           region_2         taster_name  \\\n",
       "0                 Etna                NaN       Kerin O’Keefe   \n",
       "1                  NaN                NaN          Roger Voss   \n",
       "2    Willamette Valley  Willamette Valley        Paul Gregutt   \n",
       "3  Lake Michigan Shore                NaN  Alexander Peartree   \n",
       "4    Willamette Valley  Willamette Valley        Paul Gregutt   \n",
       "\n",
       "  taster_twitter_handle                                              title  \\\n",
       "0          @kerinokeefe                  Nicosia 2013 Vulkà Bianco  (Etna)   \n",
       "1            @vossroger      Quinta dos Avidagos 2011 Avidagos Red (Douro)   \n",
       "2           @paulgwine       Rainstorm 2013 Pinot Gris (Willamette Valley)   \n",
       "3                   NaN  St. Julian 2013 Reserve Late Harvest Riesling ...   \n",
       "4           @paulgwine   Sweet Cheeks 2012 Vintner's Reserve Wild Child...   \n",
       "\n",
       "          variety               winery  \n",
       "0     White Blend              Nicosia  \n",
       "1  Portuguese Red  Quinta dos Avidagos  \n",
       "2      Pinot Gris            Rainstorm  \n",
       "3        Riesling           St. Julian  \n",
       "4      Pinot Noir         Sweet Cheeks  "
      ]
     },
     "execution_count": 16,
     "metadata": {},
     "output_type": "execute_result"
    }
   ],
   "source": [
    "wine_reviews = pd.read_csv(\"data/winemag-data-130k-v2.csv\", index_col=0)\n",
    "wine_reviews.head()"
   ]
  },
  {
   "cell_type": "markdown",
   "metadata": {
    "id": "oUCeTe5fUSWI"
   },
   "source": [
    "## Save CSV\n",
    "\n",
    "Escrever em arquivos costuma ser mais fácil do que ler. Por\n",
    "exemplo, para escrever um arquivo CSV você irá apenas usar o método\n",
    "\"**to_csv**\".\n",
    "\n",
    "Se você estivesse executando no seu computador, um arquivo chamado \"wine_reviews.csv\" teria sido gerado. Como você está usando um ambiente na nuvem, o arquivo foi salvo no servidor e está acessível para Download em algum lugar. Nem sempre esse arquivo ficará disponível eternamente, depende muito do seu servidor na Núvem."
   ]
  },
  {
   "cell_type": "code",
   "execution_count": 17,
   "metadata": {
    "id": "BLW1SKT9UXVQ"
   },
   "outputs": [],
   "source": [
    "wine_reviews.head().to_csv(\"wine_reviews.csv\")"
   ]
  },
  {
   "cell_type": "markdown",
   "metadata": {
    "id": "2LZ4MPXUUqDy"
   },
   "source": [
    "# Seleção, Slice e Atribuição\n",
    "\n",
    "Selecionar regiões específicas de um **DataFrame** ou **Series** é uma\n",
    "passo em quase todos os projetos de análise de dados. Dado que a maioria dos algoritmos usará como entrada todos os dados que você passar a eles, você deverá fornecer apenas a entrada relevante.\n",
    "Assim, um\n",
    "entendimento sólido de como proceder para selecionar apenas o necessário é vital.\n",
    "\n",
    "Em python, nós podemos acessar os atributos de um **objeto** com a sintaxe de ponto. Por exemplo, um objeto **book** pode ter um atributo\n",
    "**title** que será acessado invocando **book.title**. Colunas em Pandas\n",
    "funcionam de maneira parecida. Observe o DataFrame **wine_reviews** abaixo, podemos selecionar as suas colunas usando a sintaxe de atributo ou usando a sintaxe de coluna parecida com o python convencional.\n"
   ]
  },
  {
   "cell_type": "code",
   "execution_count": 18,
   "metadata": {
    "id": "aODbbdfiVpzn"
   },
   "outputs": [
    {
     "name": "stdout",
     "output_type": "stream",
     "text": [
      "0            Italy\n",
      "1         Portugal\n",
      "2               US\n",
      "3               US\n",
      "4               US\n",
      "            ...   \n",
      "129966     Germany\n",
      "129967          US\n",
      "129968      France\n",
      "129969      France\n",
      "129970      France\n",
      "Name: country, Length: 129971, dtype: object\n"
     ]
    }
   ],
   "source": [
    "print(wine_reviews.country)"
   ]
  },
  {
   "cell_type": "code",
   "execution_count": 19,
   "metadata": {
    "id": "rKEOJNyjU_Pz"
   },
   "outputs": [
    {
     "name": "stdout",
     "output_type": "stream",
     "text": [
      "0            Italy\n",
      "1         Portugal\n",
      "2               US\n",
      "3               US\n",
      "4               US\n",
      "            ...   \n",
      "129966     Germany\n",
      "129967          US\n",
      "129968      France\n",
      "129969      France\n",
      "129970      France\n",
      "Name: country, Length: 129971, dtype: object\n"
     ]
    }
   ],
   "source": [
    "print(wine_reviews['country'])"
   ]
  },
  {
   "cell_type": "markdown",
   "metadata": {
    "id": "5LMtyTmpVzBb"
   },
   "source": [
    "As duas maneiras estão corretas e são válidas. A segunda tem a\n",
    "vantagem de poder lidar com colunas com caracteres especiais no\n",
    "nome. Por exemplo, se tivermos uma coluna de nome **country\n",
    "providence**, então o comando **reviews.country providence** não funcionaria.\n",
    "\n",
    "Para selecionar um valor específico de uma série, você pode indexar com **[]** novamente. Também é possível usar a ideia de **slices**, do modo como fazemos em python."
   ]
  },
  {
   "cell_type": "code",
   "execution_count": 20,
   "metadata": {
    "colab": {
     "base_uri": "https://localhost:8080/"
    },
    "id": "6Y_05tFUWAYd",
    "outputId": "cd86357e-1d86-434b-eb8a-fe396082c5e4"
   },
   "outputs": [
    {
     "name": "stdout",
     "output_type": "stream",
     "text": [
      "Italy\n",
      "Italy\n"
     ]
    }
   ],
   "source": [
    "print(wine_reviews['country'][0])\n",
    "print(wine_reviews.country[0])"
   ]
  },
  {
   "cell_type": "code",
   "execution_count": 21,
   "metadata": {
    "colab": {
     "base_uri": "https://localhost:8080/"
    },
    "id": "-yB6SuxEWc-p",
    "outputId": "21377f6f-c8ec-47a3-b50f-4f0716b012ee"
   },
   "outputs": [
    {
     "name": "stdout",
     "output_type": "stream",
     "text": [
      "3       US\n",
      "4       US\n",
      "5    Spain\n",
      "6    Italy\n",
      "Name: country, dtype: object\n",
      "\n",
      " --- \n",
      "\n",
      "3       US\n",
      "4       US\n",
      "5    Spain\n",
      "6    Italy\n",
      "Name: country, dtype: object\n"
     ]
    }
   ],
   "source": [
    "print(wine_reviews['country'][3:7])\n",
    "print(\"\\n --- \\n\")\n",
    "print(wine_reviews.country[3:7])\n"
   ]
  },
  {
   "cell_type": "markdown",
   "metadata": {
    "id": "UW8c88vAWEqq"
   },
   "source": [
    "## Seleção: iloc e loc\n",
    "\n",
    "O operador **[]** e a seleção de atributos são interessantes porque você os usa como se fosse Python convencional, o que facilita bastante quando estamos começando. Entretanto, Pandas tem operadores próprios, **loc** e **iloc**. Para operações mais avançadas, são esses operadores que você irá utilizar com mais frequência quando estiver mais familiarizado com Pandas..\n",
    "\n",
    "### iloc\n",
    "\n",
    "Vamos começar com o \"**iloc**\", que seleciona dados usando o índice como referência. Por exemplo, para selecionar a primeira linha no DataFrame reviews nós usamos:"
   ]
  },
  {
   "cell_type": "code",
   "execution_count": 22,
   "metadata": {
    "colab": {
     "base_uri": "https://localhost:8080/",
     "height": 279
    },
    "id": "N57dWNJvWXTH",
    "outputId": "06eb1e17-696c-434b-efc9-f14a81c5c3d3"
   },
   "outputs": [
    {
     "name": "stdout",
     "output_type": "stream",
     "text": [
      "country                                                              Italy\n",
      "description              Aromas include tropical fruit, broom, brimston...\n",
      "designation                                                   Vulkà Bianco\n",
      "points                                                                  87\n",
      "price                                                                  NaN\n",
      "province                                                 Sicily & Sardinia\n",
      "region_1                                                              Etna\n",
      "region_2                                                               NaN\n",
      "taster_name                                                  Kerin O’Keefe\n",
      "taster_twitter_handle                                         @kerinokeefe\n",
      "title                                    Nicosia 2013 Vulkà Bianco  (Etna)\n",
      "variety                                                        White Blend\n",
      "winery                                                             Nicosia\n",
      "Name: 0, dtype: object\n"
     ]
    }
   ],
   "source": [
    "print(wine_reviews.iloc[0])"
   ]
  },
  {
   "cell_type": "markdown",
   "metadata": {
    "id": "uYOlWjKwWedX"
   },
   "source": [
    "Tanto **loc** quando **iloc** usam o paradigma de \"**linha-primeiro**\",\n",
    "\"**coluna-segundo**\". Isso é o oposto do que estamos acostumado no\n",
    "python (veja todos os exemplos que estávamos fazendo até o\n",
    "momento), **acostume-se com isso**.\n",
    "\n",
    "O que isso gera é uma facilidade para obter linhas e uma certa\n",
    "dificuldade para obter colunas. Por exemplo, para obter uma coluna\n",
    "com **iloc** você deverá fazer:"
   ]
  },
  {
   "cell_type": "code",
   "execution_count": 23,
   "metadata": {
    "id": "qRZF_8q6Wsgu"
   },
   "outputs": [
    {
     "name": "stdout",
     "output_type": "stream",
     "text": [
      "0            Italy\n",
      "1         Portugal\n",
      "2               US\n",
      "3               US\n",
      "4               US\n",
      "            ...   \n",
      "129966     Germany\n",
      "129967          US\n",
      "129968      France\n",
      "129969      France\n",
      "129970      France\n",
      "Name: country, Length: 129971, dtype: object\n"
     ]
    }
   ],
   "source": [
    "print(wine_reviews.iloc[:, 0])"
   ]
  },
  {
   "cell_type": "markdown",
   "metadata": {
    "id": "dtt8ecvfWw_h"
   },
   "source": [
    "O operador \"**:**\" tem o mesmo significado do Python convencional,\n",
    "significa \"todo o intervalo\". Quando adicionamos números podemos\n",
    "indicar intervalos. Por exemplo, para selecionar as três primeiras linhas da coluna \"country\" podemos fazer:"
   ]
  },
  {
   "cell_type": "code",
   "execution_count": 24,
   "metadata": {
    "id": "HTtmUE1bW33B"
   },
   "outputs": [
    {
     "name": "stdout",
     "output_type": "stream",
     "text": [
      "0       Italy\n",
      "1    Portugal\n",
      "2          US\n",
      "Name: country, dtype: object\n"
     ]
    }
   ],
   "source": [
    "print(wine_reviews.iloc[:3, 0])"
   ]
  },
  {
   "cell_type": "markdown",
   "metadata": {
    "id": "raJOqx80W87z"
   },
   "source": [
    "Ou para selecionar apenas a segunda e a terceira linha podemos:"
   ]
  },
  {
   "cell_type": "code",
   "execution_count": 25,
   "metadata": {
    "id": "kH8P3JTjW-5Q"
   },
   "outputs": [
    {
     "name": "stdout",
     "output_type": "stream",
     "text": [
      "1    Portugal\n",
      "2          US\n",
      "Name: country, dtype: object\n"
     ]
    }
   ],
   "source": [
    "print(wine_reviews.iloc[1:3, 0])"
   ]
  },
  {
   "cell_type": "markdown",
   "metadata": {
    "id": "GHkhcYMZXCVJ"
   },
   "source": [
    "Também é possível passar uma lista para o iloc:"
   ]
  },
  {
   "cell_type": "code",
   "execution_count": 26,
   "metadata": {
    "id": "nKf9z9KrXDvg"
   },
   "outputs": [
    {
     "name": "stdout",
     "output_type": "stream",
     "text": [
      "0       Italy\n",
      "1    Portugal\n",
      "2          US\n",
      "Name: country, dtype: object\n"
     ]
    }
   ],
   "source": [
    "print(wine_reviews.iloc[[0, 1, 2], 0])"
   ]
  },
  {
   "cell_type": "markdown",
   "metadata": {
    "id": "Ws0HKu8tXJn2"
   },
   "source": [
    "Vale mencionar que é possível usar números negativos na\n",
    "seleção. Isso fará com que a contagem comece de trás para\n",
    "frente. Por exemplo, abaixo estão os últimos cinco elementos do\n",
    "DataFrame."
   ]
  },
  {
   "cell_type": "code",
   "execution_count": 27,
   "metadata": {
    "id": "Gsg5N6W-XM0Q"
   },
   "outputs": [
    {
     "name": "stdout",
     "output_type": "stream",
     "text": [
      "        country                                        description  \\\n",
      "129966  Germany  Notes of honeysuckle and cantaloupe sweeten th...   \n",
      "129967       US  Citation is given as much as a decade of bottl...   \n",
      "129968   France  Well-drained gravel soil gives this wine its c...   \n",
      "129969   France  A dry style of Pinot Gris, this is crisp with ...   \n",
      "129970   France  Big, rich and off-dry, this is powered by inte...   \n",
      "\n",
      "                                   designation  points  price province  \\\n",
      "129966  Brauneberger Juffer-Sonnenuhr Spätlese      90   28.0    Mosel   \n",
      "129967                                     NaN      90   75.0   Oregon   \n",
      "129968                                   Kritt      90   30.0   Alsace   \n",
      "129969                                     NaN      90   32.0   Alsace   \n",
      "129970           Lieu-dit Harth Cuvée Caroline      90   21.0   Alsace   \n",
      "\n",
      "       region_1      region_2         taster_name taster_twitter_handle  \\\n",
      "129966      NaN           NaN  Anna Lee C. Iijima                   NaN   \n",
      "129967   Oregon  Oregon Other        Paul Gregutt           @paulgwine    \n",
      "129968   Alsace           NaN          Roger Voss            @vossroger   \n",
      "129969   Alsace           NaN          Roger Voss            @vossroger   \n",
      "129970   Alsace           NaN          Roger Voss            @vossroger   \n",
      "\n",
      "                                                    title         variety  \\\n",
      "129966  Dr. H. Thanisch (Erben Müller-Burggraef) 2013 ...        Riesling   \n",
      "129967                  Citation 2004 Pinot Noir (Oregon)      Pinot Noir   \n",
      "129968  Domaine Gresser 2013 Kritt Gewurztraminer (Als...  Gewürztraminer   \n",
      "129969      Domaine Marcel Deiss 2012 Pinot Gris (Alsace)      Pinot Gris   \n",
      "129970  Domaine Schoffit 2012 Lieu-dit Harth Cuvée Car...  Gewürztraminer   \n",
      "\n",
      "                                          winery  \n",
      "129966  Dr. H. Thanisch (Erben Müller-Burggraef)  \n",
      "129967                                  Citation  \n",
      "129968                           Domaine Gresser  \n",
      "129969                      Domaine Marcel Deiss  \n",
      "129970                          Domaine Schoffit  \n"
     ]
    }
   ],
   "source": [
    "print(wine_reviews.iloc[-5:])"
   ]
  },
  {
   "cell_type": "markdown",
   "metadata": {
    "id": "k7AIWhjUXZj_"
   },
   "source": [
    "### loc\n",
    "\n",
    "Vamos agora aprender a usar o \"loc\", que usa um paradigma baseado\n",
    "nos rótulos (labels). Nesse paradigma, o índice dos dados, não a\n",
    "posição, que importam. Por exemplo, para obter a primeira entrada\n",
    "da coluna \"reviews\" nós faríamos:"
   ]
  },
  {
   "cell_type": "code",
   "execution_count": 28,
   "metadata": {
    "id": "9y3JhtwMXe8x"
   },
   "outputs": [
    {
     "name": "stdout",
     "output_type": "stream",
     "text": [
      "Italy\n"
     ]
    }
   ],
   "source": [
    "print(wine_reviews.loc[0, 'country'])"
   ]
  },
  {
   "cell_type": "markdown",
   "metadata": {
    "id": "qbiOV1AqXifg"
   },
   "source": [
    "Observe que o \"**iloc**\" é conceitualmente mais simples que o \"loc\", dado que ignora os índices do banco de dados. Quando usamos o \"**iloc**\", o DataFrame é uma grande matriz. O \"**loc**\", por outro lado, usa as informações dos índices para fazer o trabalho. Dado que o seu DataFrame normalmente possui índices com alguma semântica, é mais mnemônico usar o \"**loc**\". Por exemplo, observe agora uma operações que é muito mais fácil usando o \"**loc**\"."
   ]
  },
  {
   "cell_type": "code",
   "execution_count": 29,
   "metadata": {
    "id": "OESVIK1GXuOH"
   },
   "outputs": [
    {
     "name": "stdout",
     "output_type": "stream",
     "text": [
      "               taster_name taster_twitter_handle  points\n",
      "0            Kerin O’Keefe          @kerinokeefe      87\n",
      "1               Roger Voss            @vossroger      87\n",
      "2             Paul Gregutt           @paulgwine       87\n",
      "3       Alexander Peartree                   NaN      87\n",
      "4             Paul Gregutt           @paulgwine       87\n",
      "...                    ...                   ...     ...\n",
      "129966  Anna Lee C. Iijima                   NaN      90\n",
      "129967        Paul Gregutt           @paulgwine       90\n",
      "129968          Roger Voss            @vossroger      90\n",
      "129969          Roger Voss            @vossroger      90\n",
      "129970          Roger Voss            @vossroger      90\n",
      "\n",
      "[129971 rows x 3 columns]\n"
     ]
    }
   ],
   "source": [
    "print(wine_reviews.loc[:, ['taster_name', 'taster_twitter_handle', 'points']])"
   ]
  },
  {
   "cell_type": "markdown",
   "metadata": {
    "id": "qLZhOJNbZz1l"
   },
   "source": [
    "Sempre leve em conta que \"**loc**\" e \"**iloc**\" usam esquemas de indexação\n",
    "diferentes. O **iloc** usa o padrão do Python de intervalos. Assim, no comando 0:10 o **iloc** selecionará os elementos 0,...,9. O **loc**, por outro lado, irá selecionar 0,...,10! Isso ocorre porque o **loc** foi feito para ser usado com vários tipos de dados, como strings, por exemplo. Nesse caso, se temos um DataFrame com índices **\"Apples, ... Potatoes, ...\"**, podemos selecionar com **df.loc['Apples':'Potatoes']**, o que faz com que a inclusão do último elemento faça sentido.\n",
    "\n",
    "O problema é que isso é confuso quando os índices são numéricos. Nesses casos, **df.iloc[0:1000]** retornará 1000 entradas enquanto que **df.loc[0:1000]** retornará 1001.\n",
    "\n",
    "\n",
    "Finalmente, o **loc** trabalha manipulando os índices. Assim, é\n",
    " importante poder converter alguma coluna qualquer em índice em algum momento. O método \"**set_index**\" realiza o trabalho, veja o que acontece quando usamos o set_index para o campo title."
   ]
  },
  {
   "cell_type": "code",
   "execution_count": 30,
   "metadata": {
    "id": "7nW4oK0KaLnj"
   },
   "outputs": [
    {
     "data": {
      "text/html": [
       "<div>\n",
       "<style scoped>\n",
       "    .dataframe tbody tr th:only-of-type {\n",
       "        vertical-align: middle;\n",
       "    }\n",
       "\n",
       "    .dataframe tbody tr th {\n",
       "        vertical-align: top;\n",
       "    }\n",
       "\n",
       "    .dataframe thead th {\n",
       "        text-align: right;\n",
       "    }\n",
       "</style>\n",
       "<table border=\"1\" class=\"dataframe\">\n",
       "  <thead>\n",
       "    <tr style=\"text-align: right;\">\n",
       "      <th></th>\n",
       "      <th>country</th>\n",
       "      <th>description</th>\n",
       "      <th>designation</th>\n",
       "      <th>points</th>\n",
       "      <th>price</th>\n",
       "      <th>province</th>\n",
       "      <th>region_1</th>\n",
       "      <th>region_2</th>\n",
       "      <th>taster_name</th>\n",
       "      <th>taster_twitter_handle</th>\n",
       "      <th>variety</th>\n",
       "      <th>winery</th>\n",
       "    </tr>\n",
       "    <tr>\n",
       "      <th>title</th>\n",
       "      <th></th>\n",
       "      <th></th>\n",
       "      <th></th>\n",
       "      <th></th>\n",
       "      <th></th>\n",
       "      <th></th>\n",
       "      <th></th>\n",
       "      <th></th>\n",
       "      <th></th>\n",
       "      <th></th>\n",
       "      <th></th>\n",
       "      <th></th>\n",
       "    </tr>\n",
       "  </thead>\n",
       "  <tbody>\n",
       "    <tr>\n",
       "      <th>Nicosia 2013 Vulkà Bianco  (Etna)</th>\n",
       "      <td>Italy</td>\n",
       "      <td>Aromas include tropical fruit, broom, brimston...</td>\n",
       "      <td>Vulkà Bianco</td>\n",
       "      <td>87</td>\n",
       "      <td>NaN</td>\n",
       "      <td>Sicily &amp; Sardinia</td>\n",
       "      <td>Etna</td>\n",
       "      <td>NaN</td>\n",
       "      <td>Kerin O’Keefe</td>\n",
       "      <td>@kerinokeefe</td>\n",
       "      <td>White Blend</td>\n",
       "      <td>Nicosia</td>\n",
       "    </tr>\n",
       "    <tr>\n",
       "      <th>Quinta dos Avidagos 2011 Avidagos Red (Douro)</th>\n",
       "      <td>Portugal</td>\n",
       "      <td>This is ripe and fruity, a wine that is smooth...</td>\n",
       "      <td>Avidagos</td>\n",
       "      <td>87</td>\n",
       "      <td>15.0</td>\n",
       "      <td>Douro</td>\n",
       "      <td>NaN</td>\n",
       "      <td>NaN</td>\n",
       "      <td>Roger Voss</td>\n",
       "      <td>@vossroger</td>\n",
       "      <td>Portuguese Red</td>\n",
       "      <td>Quinta dos Avidagos</td>\n",
       "    </tr>\n",
       "    <tr>\n",
       "      <th>Rainstorm 2013 Pinot Gris (Willamette Valley)</th>\n",
       "      <td>US</td>\n",
       "      <td>Tart and snappy, the flavors of lime flesh and...</td>\n",
       "      <td>NaN</td>\n",
       "      <td>87</td>\n",
       "      <td>14.0</td>\n",
       "      <td>Oregon</td>\n",
       "      <td>Willamette Valley</td>\n",
       "      <td>Willamette Valley</td>\n",
       "      <td>Paul Gregutt</td>\n",
       "      <td>@paulgwine</td>\n",
       "      <td>Pinot Gris</td>\n",
       "      <td>Rainstorm</td>\n",
       "    </tr>\n",
       "    <tr>\n",
       "      <th>St. Julian 2013 Reserve Late Harvest Riesling (Lake Michigan Shore)</th>\n",
       "      <td>US</td>\n",
       "      <td>Pineapple rind, lemon pith and orange blossom ...</td>\n",
       "      <td>Reserve Late Harvest</td>\n",
       "      <td>87</td>\n",
       "      <td>13.0</td>\n",
       "      <td>Michigan</td>\n",
       "      <td>Lake Michigan Shore</td>\n",
       "      <td>NaN</td>\n",
       "      <td>Alexander Peartree</td>\n",
       "      <td>NaN</td>\n",
       "      <td>Riesling</td>\n",
       "      <td>St. Julian</td>\n",
       "    </tr>\n",
       "    <tr>\n",
       "      <th>Sweet Cheeks 2012 Vintner's Reserve Wild Child Block Pinot Noir (Willamette Valley)</th>\n",
       "      <td>US</td>\n",
       "      <td>Much like the regular bottling from 2012, this...</td>\n",
       "      <td>Vintner's Reserve Wild Child Block</td>\n",
       "      <td>87</td>\n",
       "      <td>65.0</td>\n",
       "      <td>Oregon</td>\n",
       "      <td>Willamette Valley</td>\n",
       "      <td>Willamette Valley</td>\n",
       "      <td>Paul Gregutt</td>\n",
       "      <td>@paulgwine</td>\n",
       "      <td>Pinot Noir</td>\n",
       "      <td>Sweet Cheeks</td>\n",
       "    </tr>\n",
       "  </tbody>\n",
       "</table>\n",
       "</div>"
      ],
      "text/plain": [
       "                                                     country  \\\n",
       "title                                                          \n",
       "Nicosia 2013 Vulkà Bianco  (Etna)                      Italy   \n",
       "Quinta dos Avidagos 2011 Avidagos Red (Douro)       Portugal   \n",
       "Rainstorm 2013 Pinot Gris (Willamette Valley)             US   \n",
       "St. Julian 2013 Reserve Late Harvest Riesling (...        US   \n",
       "Sweet Cheeks 2012 Vintner's Reserve Wild Child ...        US   \n",
       "\n",
       "                                                                                          description  \\\n",
       "title                                                                                                   \n",
       "Nicosia 2013 Vulkà Bianco  (Etna)                   Aromas include tropical fruit, broom, brimston...   \n",
       "Quinta dos Avidagos 2011 Avidagos Red (Douro)       This is ripe and fruity, a wine that is smooth...   \n",
       "Rainstorm 2013 Pinot Gris (Willamette Valley)       Tart and snappy, the flavors of lime flesh and...   \n",
       "St. Julian 2013 Reserve Late Harvest Riesling (...  Pineapple rind, lemon pith and orange blossom ...   \n",
       "Sweet Cheeks 2012 Vintner's Reserve Wild Child ...  Much like the regular bottling from 2012, this...   \n",
       "\n",
       "                                                                           designation  \\\n",
       "title                                                                                    \n",
       "Nicosia 2013 Vulkà Bianco  (Etna)                                         Vulkà Bianco   \n",
       "Quinta dos Avidagos 2011 Avidagos Red (Douro)                                 Avidagos   \n",
       "Rainstorm 2013 Pinot Gris (Willamette Valley)                                      NaN   \n",
       "St. Julian 2013 Reserve Late Harvest Riesling (...                Reserve Late Harvest   \n",
       "Sweet Cheeks 2012 Vintner's Reserve Wild Child ...  Vintner's Reserve Wild Child Block   \n",
       "\n",
       "                                                    points  price  \\\n",
       "title                                                               \n",
       "Nicosia 2013 Vulkà Bianco  (Etna)                       87    NaN   \n",
       "Quinta dos Avidagos 2011 Avidagos Red (Douro)           87   15.0   \n",
       "Rainstorm 2013 Pinot Gris (Willamette Valley)           87   14.0   \n",
       "St. Julian 2013 Reserve Late Harvest Riesling (...      87   13.0   \n",
       "Sweet Cheeks 2012 Vintner's Reserve Wild Child ...      87   65.0   \n",
       "\n",
       "                                                             province  \\\n",
       "title                                                                   \n",
       "Nicosia 2013 Vulkà Bianco  (Etna)                   Sicily & Sardinia   \n",
       "Quinta dos Avidagos 2011 Avidagos Red (Douro)                   Douro   \n",
       "Rainstorm 2013 Pinot Gris (Willamette Valley)                  Oregon   \n",
       "St. Julian 2013 Reserve Late Harvest Riesling (...           Michigan   \n",
       "Sweet Cheeks 2012 Vintner's Reserve Wild Child ...             Oregon   \n",
       "\n",
       "                                                               region_1  \\\n",
       "title                                                                     \n",
       "Nicosia 2013 Vulkà Bianco  (Etna)                                  Etna   \n",
       "Quinta dos Avidagos 2011 Avidagos Red (Douro)                       NaN   \n",
       "Rainstorm 2013 Pinot Gris (Willamette Valley)         Willamette Valley   \n",
       "St. Julian 2013 Reserve Late Harvest Riesling (...  Lake Michigan Shore   \n",
       "Sweet Cheeks 2012 Vintner's Reserve Wild Child ...    Willamette Valley   \n",
       "\n",
       "                                                             region_2  \\\n",
       "title                                                                   \n",
       "Nicosia 2013 Vulkà Bianco  (Etna)                                 NaN   \n",
       "Quinta dos Avidagos 2011 Avidagos Red (Douro)                     NaN   \n",
       "Rainstorm 2013 Pinot Gris (Willamette Valley)       Willamette Valley   \n",
       "St. Julian 2013 Reserve Late Harvest Riesling (...                NaN   \n",
       "Sweet Cheeks 2012 Vintner's Reserve Wild Child ...  Willamette Valley   \n",
       "\n",
       "                                                           taster_name  \\\n",
       "title                                                                    \n",
       "Nicosia 2013 Vulkà Bianco  (Etna)                        Kerin O’Keefe   \n",
       "Quinta dos Avidagos 2011 Avidagos Red (Douro)               Roger Voss   \n",
       "Rainstorm 2013 Pinot Gris (Willamette Valley)             Paul Gregutt   \n",
       "St. Julian 2013 Reserve Late Harvest Riesling (...  Alexander Peartree   \n",
       "Sweet Cheeks 2012 Vintner's Reserve Wild Child ...        Paul Gregutt   \n",
       "\n",
       "                                                   taster_twitter_handle  \\\n",
       "title                                                                      \n",
       "Nicosia 2013 Vulkà Bianco  (Etna)                           @kerinokeefe   \n",
       "Quinta dos Avidagos 2011 Avidagos Red (Douro)                 @vossroger   \n",
       "Rainstorm 2013 Pinot Gris (Willamette Valley)                @paulgwine    \n",
       "St. Julian 2013 Reserve Late Harvest Riesling (...                   NaN   \n",
       "Sweet Cheeks 2012 Vintner's Reserve Wild Child ...           @paulgwine    \n",
       "\n",
       "                                                           variety  \\\n",
       "title                                                                \n",
       "Nicosia 2013 Vulkà Bianco  (Etna)                      White Blend   \n",
       "Quinta dos Avidagos 2011 Avidagos Red (Douro)       Portuguese Red   \n",
       "Rainstorm 2013 Pinot Gris (Willamette Valley)           Pinot Gris   \n",
       "St. Julian 2013 Reserve Late Harvest Riesling (...        Riesling   \n",
       "Sweet Cheeks 2012 Vintner's Reserve Wild Child ...      Pinot Noir   \n",
       "\n",
       "                                                                 winery  \n",
       "title                                                                    \n",
       "Nicosia 2013 Vulkà Bianco  (Etna)                               Nicosia  \n",
       "Quinta dos Avidagos 2011 Avidagos Red (Douro)       Quinta dos Avidagos  \n",
       "Rainstorm 2013 Pinot Gris (Willamette Valley)                 Rainstorm  \n",
       "St. Julian 2013 Reserve Late Harvest Riesling (...           St. Julian  \n",
       "Sweet Cheeks 2012 Vintner's Reserve Wild Child ...         Sweet Cheeks  "
      ]
     },
     "execution_count": 30,
     "metadata": {},
     "output_type": "execute_result"
    }
   ],
   "source": [
    "wine_reviews.set_index(\"title\").head()"
   ]
  }
 ],
 "metadata": {
  "colab": {
   "provenance": []
  },
  "kernelspec": {
   "display_name": "Python 3.9 (pytorch)",
   "language": "python",
   "name": "pytorch"
  },
  "language_info": {
   "codemirror_mode": {
    "name": "ipython",
    "version": 3
   },
   "file_extension": ".py",
   "mimetype": "text/x-python",
   "name": "python",
   "nbconvert_exporter": "python",
   "pygments_lexer": "ipython3",
   "version": "3.9.16"
  }
 },
 "nbformat": 4,
 "nbformat_minor": 1
}
