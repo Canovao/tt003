{
  "cells": [
    {
      "cell_type": "markdown",
      "metadata": {
        "id": "Gk1ylK1JWxMo"
      },
      "source": [
        "# Validação de Modelos\n",
        "\n",
        "Em aulas anteriores, aprendemos a receita básica para criar modelos de aprendizado de máquina. Também aprendemos que é possível ter uma noção do desempenho de um modelo usando o que é conhecido como **conjunto de validação**, dada uma métrica apropriada (**recall**, **precision**, **accuracy**, **specificit**). O problema agora é entender como podemos aplicar estas métricas para termos um bom indicativo de que os valores de desempenho que calculamos durante esta fase são realmente próximos do desempenho a ser obtido quando o modelo entrar em produção. Para que isso seja possível, precisamos separar os nossos dados em vários subconjuntos.\n",
        "\n",
        "## Separação em Treino e Teste\n",
        "\n",
        "A primeira separação seria em um subconjuntos de treino e teste, o mais importante é internalizar os motivos de fazermos isso.\n",
        "Imagine que você esteja treinando para correr uma corrida muito importante. Para isso, você precisa de um treinamento adequado para melhorar sua performance.\n",
        "\n",
        "Agora, imagine que seu treinador decidiu que você só irá treinar em uma pista muito fácil, sem obstáculos ou desafios, todos os dias. Você pode até ficar bom correndo naquela pista, mas será que estará realmente pronto para a corrida importante?\n",
        "\n",
        "Por isso, é importante separar os dados em treino e teste ao analisar dados. Os dados de treino são como a pista de treino que você usa para melhorar a performance. Já os dados de teste são uma simulação da corrida importante que você precisa estar preparado. É esperado que o seu desempenho na corrida seja mais próximo da pista de teste do que da pista de treino.\n",
        "\n",
        "Se usarmos todos os dados para treinar nosso modelo, ele pode ficar muito bom em prever coisas que já vimos antes, mas pode não ser tão bom quando enfrentar novos desafios. Ao separar os dados em treino e teste, podemos ter indícios de que nosso modelo é bom em prever coisas que nunca vimos antes, assim como um corredor que treinou em pistas diferentes pode estar mais preparado para enfrentar obstáculos na corrida importante.\n",
        "\n",
        "\n",
        "Em outras palavras, retemos um subconjunto de dados do treinamento do modelo e, em seguida, usamos esse conjunto para verificar o desempenho do modelo. Essa divisão pode ser feita usando a função  **train_test_split** no Scikit-Learn:"
      ]
    },
    {
      "cell_type": "code",
      "execution_count": null,
      "metadata": {
        "colab": {
          "base_uri": "https://localhost:8080/"
        },
        "id": "bdRSmMCcXcgh",
        "outputId": "a480a33c-f2da-4b5a-a200-0e306e4c4095"
      },
      "outputs": [
        {
          "output_type": "stream",
          "name": "stdout",
          "text": [
            "Features de Treino (105, 4)\n",
            "Target de Treino (105,)\n",
            "Features de Teste (45, 4)\n",
            "Target de Teste (45,)\n"
          ]
        }
      ],
      "source": [
        "# Importação das features e do array de target\n",
        "from sklearn.datasets import load_iris\n",
        "iris = load_iris()\n",
        "X = iris.data\n",
        "y = iris.target\n",
        "\n",
        "# Configuração da metodologia de validação\n",
        "from sklearn.model_selection import train_test_split\n",
        "X1, X2, y1, y2 = train_test_split(X, y, random_state=2023,\n",
        "                                  train_size=0.7, stratify = y)\n",
        "print(\"Features de Treino\", X1.shape)\n",
        "print(\"Target de Treino\", y1.shape)\n",
        "print(\"Features de Teste\", X2.shape)\n",
        "print(\"Target de Teste\", y2.shape)\n"
      ]
    },
    {
      "cell_type": "code",
      "source": [
        "# Instanciação de um modelo\n",
        "from sklearn.neighbors import KNeighborsClassifier\n",
        "model = KNeighborsClassifier(n_neighbors=1)\n",
        "\n",
        "# Ajuste do modelo aos dados de treinamento\n",
        "model.fit(X1, y1)\n",
        "\n",
        "# Avaliação do modelo usando dados de validação\n",
        "from sklearn.metrics import accuracy_score\n",
        "y2_model = model.predict(X2)\n",
        "accuracy_score(y2, y2_model)"
      ],
      "metadata": {
        "colab": {
          "base_uri": "https://localhost:8080/"
        },
        "id": "MxQBxJZ6ERbq",
        "outputId": "69e4113a-7c5a-4674-fb9b-281bdd5273f0"
      },
      "execution_count": null,
      "outputs": [
        {
          "output_type": "execute_result",
          "data": {
            "text/plain": [
              "0.9777777777777777"
            ]
          },
          "metadata": {},
          "execution_count": 2
        }
      ]
    },
    {
      "cell_type": "markdown",
      "source": [
        "Note que a acurácia esperada, obtida no banco de dados de teste, é inferior à acurácia obtida no banco de dados de treino, um comportamento que está dentro do esperado."
      ],
      "metadata": {
        "id": "VYQYn-K6E5Dy"
      }
    },
    {
      "cell_type": "code",
      "source": [
        "accuracy_score(y1, model.predict(X1))"
      ],
      "metadata": {
        "colab": {
          "base_uri": "https://localhost:8080/"
        },
        "id": "pX37UdsMGNwS",
        "outputId": "06908c72-e2f6-43ae-cb3c-d7ddca10c78a"
      },
      "execution_count": null,
      "outputs": [
        {
          "output_type": "execute_result",
          "data": {
            "text/plain": [
              "1.0"
            ]
          },
          "metadata": {},
          "execution_count": 3
        }
      ]
    },
    {
      "cell_type": "markdown",
      "source": [
        "## Separação em Treino, Validação e Teste\n",
        "\n",
        "Continuando com a nossa metáfora de preparação para uma corrida muito importante. Vamos supor que você tem um ano para se preparar para a corrida e que o seu treinador, a cada 15 dias, lhe leva para a pista de teste para analisar o seu desempenho.\n",
        "\n",
        "Neste cenário, você depois de um tempo notará que já conhece com perfeição tanto a pista de treino quanto a pista de teste. Todos os obstáculos que antes serviam para medir a sua reação em situações desconhecidas pararam de cumprir o seu propósito, porque você já sabe onde os obstáculos estão. Em outras palavras, **usar com frequência a pista de teste faz com que ela não ofereça mais um bom indicativo do seu desempenho quando estiver na corrida**.\n",
        "\n",
        "Para impedir que isso aconteça, o treinador deverá mudar a metodologia de treino para o seguinte:\n",
        "\n",
        "* **Pista de Treino:** local onde os exercícios serão conduzidos diariamente.\n",
        "\n",
        "* **Pista de Validação:** local onde periodicamente o treino será relizado. Neste momento, o treinador medirá o seu desempenho e poderá fazer ajustes como: troca de sapato, ajuste de equipamentos e outras mudanças.\n",
        "\n",
        "* **Pista de Teste:** local onde o treino será realizado uma única vez pouco antes da corrida, com o propósito de saber o seu desempenho antes da corrida.\n",
        "\n",
        "Trazendo a metáfora para o nosso contexto, temos os seguintes subconjuntos de dados:\n",
        "\n",
        "\n",
        "* **Dados de treinamento:** usado para treinar o modelo.\n",
        "\n",
        "* **Dados de validação:**  usado para comparação de diferentes modelos e hiperparâmetros.\n",
        "\n",
        "* **Dados de teste:** usado para comprovar que aquele modelo realmente funciona. São dados ignorados no treinamento e no processo de escolha de hiperparâmetros.\n",
        "\n",
        "Anteriormente, nós já dividimos os dados do conjunto de dados **Iris** em treino e teste. Vamos a seguir analisar como a divisão poderia ser feita em treino, teste e validação. O segredo aqui será usar a função **train_test_split** duas vezes:"
      ],
      "metadata": {
        "id": "3C6Oc7dwILSf"
      }
    },
    {
      "cell_type": "code",
      "source": [
        "X_train, X_test, y_train, y_test = train_test_split(X, y, train_size=0.8,\n",
        "                                                    random_state=2023)\n",
        "\n",
        "## Tamanho da validação: # 0.25 x 0.8 = 0.2\n",
        "X_train, X_valid, y_train, y_valid = train_test_split(X_train, y_train, train_size=0.75,\n",
        "                                                      random_state=2023)"
      ],
      "metadata": {
        "id": "vcgqBLDHLAGt"
      },
      "execution_count": null,
      "outputs": []
    },
    {
      "cell_type": "code",
      "source": [
        "print(\"Features de Treino\", X_train.shape)\n",
        "print(\"Target de Treino\", y_train.shape)\n",
        "print(\"Features de Validação\", X_valid.shape)\n",
        "print(\"Target de Valicação\", y_valid.shape)\n",
        "print(\"Features de Teste\", X_test.shape)\n",
        "print(\"Target de Teste\", y_test.shape)"
      ],
      "metadata": {
        "colab": {
          "base_uri": "https://localhost:8080/"
        },
        "id": "1ZEKc8dgMO1r",
        "outputId": "827d3b39-30d9-4fdd-efae-29ef06c789b2"
      },
      "execution_count": null,
      "outputs": [
        {
          "output_type": "stream",
          "name": "stdout",
          "text": [
            "Features de Treino (90, 4)\n",
            "Target de Treino (90,)\n",
            "Features de Validação (30, 4)\n",
            "Target de Valicação (30,)\n",
            "Features de Teste (30, 4)\n",
            "Target de Teste (30,)\n"
          ]
        }
      ]
    },
    {
      "cell_type": "code",
      "source": [
        "# Instanciação de um modelo\n",
        "model = KNeighborsClassifier(n_neighbors=1)\n",
        "\n",
        "# Ajuste do modelo aos dados de treinamento\n",
        "model.fit(X_train, y_train)\n"
      ],
      "metadata": {
        "colab": {
          "base_uri": "https://localhost:8080/",
          "height": 74
        },
        "id": "eTTfOLbVMsFS",
        "outputId": "e7aa0f99-123e-43dc-c3a7-00f303426450"
      },
      "execution_count": null,
      "outputs": [
        {
          "output_type": "execute_result",
          "data": {
            "text/plain": [
              "KNeighborsClassifier(n_neighbors=1)"
            ],
            "text/html": [
              "<style>#sk-container-id-1 {color: black;background-color: white;}#sk-container-id-1 pre{padding: 0;}#sk-container-id-1 div.sk-toggleable {background-color: white;}#sk-container-id-1 label.sk-toggleable__label {cursor: pointer;display: block;width: 100%;margin-bottom: 0;padding: 0.3em;box-sizing: border-box;text-align: center;}#sk-container-id-1 label.sk-toggleable__label-arrow:before {content: \"▸\";float: left;margin-right: 0.25em;color: #696969;}#sk-container-id-1 label.sk-toggleable__label-arrow:hover:before {color: black;}#sk-container-id-1 div.sk-estimator:hover label.sk-toggleable__label-arrow:before {color: black;}#sk-container-id-1 div.sk-toggleable__content {max-height: 0;max-width: 0;overflow: hidden;text-align: left;background-color: #f0f8ff;}#sk-container-id-1 div.sk-toggleable__content pre {margin: 0.2em;color: black;border-radius: 0.25em;background-color: #f0f8ff;}#sk-container-id-1 input.sk-toggleable__control:checked~div.sk-toggleable__content {max-height: 200px;max-width: 100%;overflow: auto;}#sk-container-id-1 input.sk-toggleable__control:checked~label.sk-toggleable__label-arrow:before {content: \"▾\";}#sk-container-id-1 div.sk-estimator input.sk-toggleable__control:checked~label.sk-toggleable__label {background-color: #d4ebff;}#sk-container-id-1 div.sk-label input.sk-toggleable__control:checked~label.sk-toggleable__label {background-color: #d4ebff;}#sk-container-id-1 input.sk-hidden--visually {border: 0;clip: rect(1px 1px 1px 1px);clip: rect(1px, 1px, 1px, 1px);height: 1px;margin: -1px;overflow: hidden;padding: 0;position: absolute;width: 1px;}#sk-container-id-1 div.sk-estimator {font-family: monospace;background-color: #f0f8ff;border: 1px dotted black;border-radius: 0.25em;box-sizing: border-box;margin-bottom: 0.5em;}#sk-container-id-1 div.sk-estimator:hover {background-color: #d4ebff;}#sk-container-id-1 div.sk-parallel-item::after {content: \"\";width: 100%;border-bottom: 1px solid gray;flex-grow: 1;}#sk-container-id-1 div.sk-label:hover label.sk-toggleable__label {background-color: #d4ebff;}#sk-container-id-1 div.sk-serial::before {content: \"\";position: absolute;border-left: 1px solid gray;box-sizing: border-box;top: 0;bottom: 0;left: 50%;z-index: 0;}#sk-container-id-1 div.sk-serial {display: flex;flex-direction: column;align-items: center;background-color: white;padding-right: 0.2em;padding-left: 0.2em;position: relative;}#sk-container-id-1 div.sk-item {position: relative;z-index: 1;}#sk-container-id-1 div.sk-parallel {display: flex;align-items: stretch;justify-content: center;background-color: white;position: relative;}#sk-container-id-1 div.sk-item::before, #sk-container-id-1 div.sk-parallel-item::before {content: \"\";position: absolute;border-left: 1px solid gray;box-sizing: border-box;top: 0;bottom: 0;left: 50%;z-index: -1;}#sk-container-id-1 div.sk-parallel-item {display: flex;flex-direction: column;z-index: 1;position: relative;background-color: white;}#sk-container-id-1 div.sk-parallel-item:first-child::after {align-self: flex-end;width: 50%;}#sk-container-id-1 div.sk-parallel-item:last-child::after {align-self: flex-start;width: 50%;}#sk-container-id-1 div.sk-parallel-item:only-child::after {width: 0;}#sk-container-id-1 div.sk-dashed-wrapped {border: 1px dashed gray;margin: 0 0.4em 0.5em 0.4em;box-sizing: border-box;padding-bottom: 0.4em;background-color: white;}#sk-container-id-1 div.sk-label label {font-family: monospace;font-weight: bold;display: inline-block;line-height: 1.2em;}#sk-container-id-1 div.sk-label-container {text-align: center;}#sk-container-id-1 div.sk-container {/* jupyter's `normalize.less` sets `[hidden] { display: none; }` but bootstrap.min.css set `[hidden] { display: none !important; }` so we also need the `!important` here to be able to override the default hidden behavior on the sphinx rendered scikit-learn.org. See: https://github.com/scikit-learn/scikit-learn/issues/21755 */display: inline-block !important;position: relative;}#sk-container-id-1 div.sk-text-repr-fallback {display: none;}</style><div id=\"sk-container-id-1\" class=\"sk-top-container\"><div class=\"sk-text-repr-fallback\"><pre>KNeighborsClassifier(n_neighbors=1)</pre><b>In a Jupyter environment, please rerun this cell to show the HTML representation or trust the notebook. <br />On GitHub, the HTML representation is unable to render, please try loading this page with nbviewer.org.</b></div><div class=\"sk-container\" hidden><div class=\"sk-item\"><div class=\"sk-estimator sk-toggleable\"><input class=\"sk-toggleable__control sk-hidden--visually\" id=\"sk-estimator-id-1\" type=\"checkbox\" checked><label for=\"sk-estimator-id-1\" class=\"sk-toggleable__label sk-toggleable__label-arrow\">KNeighborsClassifier</label><div class=\"sk-toggleable__content\"><pre>KNeighborsClassifier(n_neighbors=1)</pre></div></div></div></div></div>"
            ]
          },
          "metadata": {},
          "execution_count": 6
        }
      ]
    },
    {
      "cell_type": "code",
      "source": [
        "tre_acc = accuracy_score(y_train, model.predict(X_train))\n",
        "val_acc = accuracy_score(y_valid, model.predict(X_valid))\n",
        "tes_acc = accuracy_score(y_test, model.predict(X_test))\n",
        "\n",
        "print(\"Treino\", tre_acc)\n",
        "print(\"Validação\", val_acc)\n",
        "print(\"Teste\", tes_acc)"
      ],
      "metadata": {
        "colab": {
          "base_uri": "https://localhost:8080/"
        },
        "id": "NCn-EM2mMxKb",
        "outputId": "34162e6b-96b2-4cd4-ac53-764734125826"
      },
      "execution_count": null,
      "outputs": [
        {
          "output_type": "stream",
          "name": "stdout",
          "text": [
            "Treino 1.0\n",
            "Validação 0.9333333333333333\n",
            "Teste 1.0\n"
          ]
        }
      ]
    },
    {
      "cell_type": "markdown",
      "metadata": {
        "id": "4hcEwRNXZVGT"
      },
      "source": [
        "## Cross-Validation (Validação Cruzada)\n",
        "\n",
        "Uma desvantagem da simples divisão em dados de treino, dados de validação e em dados de teste é que o modo como a divisão foi feita tem muito impacto nos resultados do modelo. Além disso, perdemos uma parte de nossos dados que poderiam ser usados no treinamento do modelo.\n",
        "\n",
        "Uma maneira de resolver isso é usar a validação cruzada. Nesse caso, dividimos os dados de treinamento em **folds** e uma sequência de treinamentos é feita com cada **fold** sendo usado como um conjunto de  validação uma vez. Visualmente, pode ser algo como isto:\n",
        "\n",
        "![alt text](http://www.ic.unicamp.br/~udias/si202/cross_validation.png)\n",
        "\n",
        "O método de validação cruzada já vem implementado por padrão no Scikit. Por exemplo, a sequência de treino e validação mostrada acima pode ser implementada da seguinte forma:"
      ]
    },
    {
      "cell_type": "code",
      "execution_count": null,
      "metadata": {
        "id": "boQbzC2lcIdX",
        "colab": {
          "base_uri": "https://localhost:8080/"
        },
        "outputId": "7d74276c-5a16-4883-8840-14c6528f1909"
      },
      "outputs": [
        {
          "output_type": "execute_result",
          "data": {
            "text/plain": [
              "array([0.91666667, 1.        , 0.91666667, 0.95833333, 0.91666667])"
            ]
          },
          "metadata": {},
          "execution_count": 8
        }
      ],
      "source": [
        "from sklearn.model_selection import cross_val_score\n",
        "X_train, X_test, y_train, y_test = train_test_split(X, y, train_size=0.8,\n",
        "                                                    random_state=2023)\n",
        "model = KNeighborsClassifier(n_neighbors=1)\n",
        "\n",
        "cross_val_score(model, X_train, y_train, cv=5) ## Usa o score próprio do classificador\n",
        "\n",
        "## Outras opções de score seriam:\n",
        "# cross_val_score(... , scoring=\"recall_micro\")\n",
        "# cross_val_score(... , scoring=\"recall_macro\")\n",
        "# cross_val_score(... , scoring=\"precision_micro\")\n",
        "# cross_val_score(... , cv=5, scoring=\"precision_macro\")"
      ]
    },
    {
      "cell_type": "code",
      "execution_count": null,
      "metadata": {
        "id": "i7HV2i7hxkaZ",
        "colab": {
          "base_uri": "https://localhost:8080/"
        },
        "outputId": "1e058c43-b207-4d8b-8f90-2af93a063bbf"
      },
      "outputs": [
        {
          "output_type": "execute_result",
          "data": {
            "text/plain": [
              "array([0.875     , 1.        , 0.83333333, 0.95833333, 0.83333333])"
            ]
          },
          "metadata": {},
          "execution_count": 9
        }
      ],
      "source": [
        "## Esses valores poderiam nos ajudar a escolher melhor os\n",
        "## classificadores. Por exemplo, comparar com DecisionTree, sem\n",
        "## que isso necessite usar os dados de teste.\n",
        "from sklearn.tree import DecisionTreeClassifier\n",
        "model = DecisionTreeClassifier()\n",
        "\n",
        "cross_val_score(model, X_train, y_train, cv=5)"
      ]
    },
    {
      "cell_type": "code",
      "execution_count": null,
      "metadata": {
        "id": "cTpzBtq16-GO",
        "colab": {
          "base_uri": "https://localhost:8080/"
        },
        "outputId": "4ffeeac7-5442-4580-e9b8-ee22935d1afe"
      },
      "outputs": [
        {
          "output_type": "execute_result",
          "data": {
            "text/plain": [
              "array([0.875     , 1.        , 0.83333333, 0.91666667, 0.875     ])"
            ]
          },
          "metadata": {},
          "execution_count": 10
        }
      ],
      "source": [
        "## Esses valores poderiam nos ajudar também a escolher melhor os\n",
        "## hiperparâmetros. Por exemplo, max_depth = 5, sem\n",
        "## que isso necessite usar os dados de teste.\n",
        "from sklearn.tree import DecisionTreeClassifier\n",
        "model = DecisionTreeClassifier(max_depth = 15)\n",
        "\n",
        "## cv o número de folds\n",
        "cross_val_score(model, X_train, y_train, cv=5)"
      ]
    },
    {
      "cell_type": "markdown",
      "metadata": {
        "id": "XVu-oPg6dEIn"
      },
      "source": [
        "Em resumo, repetir a validação em diferentes subconjuntos de dados nos fornece uma ideia ainda melhor do desempenho do algoritmo.\n",
        "\n",
        "**Ao final, feita a escolha do melhor classificador e dos melhores hiperparâmetros nos permitirá treinar novamente com essas configurações e todo o banco de dados treino, para posteriormente verificar o resultado com o banco de dados de teste**\n"
      ]
    },
    {
      "cell_type": "markdown",
      "metadata": {
        "id": "4MnnG8SsdK8a"
      },
      "source": [
        "## Leave One Out\n",
        "\n",
        "O Scikit-Learn implementa vários esquemas de validação cruzada que são úteis em situações particulares. Por exemplo, podemos recorrer ao caso extremo em que nosso número de **folds** é igual ao número amostras. Em outras palavras, treinamos em todos as instâncias, exceto uma em cada tentativa. Esse tipo de validação cruzada é conhecido como validação cruzada **leave one out** e pode ser usado da seguinte maneira:"
      ]
    },
    {
      "cell_type": "code",
      "execution_count": null,
      "metadata": {
        "id": "im1_IZIno8ej",
        "colab": {
          "base_uri": "https://localhost:8080/"
        },
        "outputId": "b6459deb-081f-41be-84b4-e3f147a525ea"
      },
      "outputs": [
        {
          "output_type": "execute_result",
          "data": {
            "text/plain": [
              "array([1., 1., 1., 0., 1., 1., 1., 1., 1., 1., 1., 1., 1., 1., 1., 1., 1.,\n",
              "       1., 1., 1., 1., 0., 1., 1., 1., 1., 1., 1., 1., 1., 1., 0., 1., 1.,\n",
              "       1., 1., 1., 1., 1., 1., 1., 1., 1., 1., 1., 1., 1., 1., 1., 1., 1.,\n",
              "       1., 1., 1., 0., 1., 1., 1., 1., 1., 0., 1., 1., 1., 1., 1., 1., 1.,\n",
              "       1., 1., 1., 1., 1., 1., 1., 1., 1., 1., 0., 1., 1., 1., 1., 1., 1.,\n",
              "       1., 1., 1., 1., 1., 1., 1., 1., 1., 1., 0., 1., 1., 1., 1., 1., 1.,\n",
              "       1., 1., 1., 1., 1., 1., 1., 1., 1., 1., 0., 1., 1., 1., 1., 1., 1.,\n",
              "       1.])"
            ]
          },
          "metadata": {},
          "execution_count": 11
        }
      ],
      "source": [
        "from sklearn.model_selection import LeaveOneOut\n",
        "X_train, X_test, y_train, y_test = train_test_split(X, y, train_size=0.8,\n",
        "                                                    random_state=2023)\n",
        "scores = cross_val_score(model, X_train, y_train, cv=LeaveOneOut())\n",
        "scores"
      ]
    },
    {
      "cell_type": "markdown",
      "metadata": {
        "id": "PL_cl-Zcpf2W"
      },
      "source": [
        "Como temos 150 amostras, a validação cruzada gera pontuações para 150 tentativas. O resultado indica uma previsão bem-sucedida (1) ou mal sucedida (0). A média é uma estimativa da taxa de erro:"
      ]
    },
    {
      "cell_type": "code",
      "execution_count": null,
      "metadata": {
        "id": "YoZxcqS2pqN9",
        "colab": {
          "base_uri": "https://localhost:8080/"
        },
        "outputId": "0ce7c96a-5f4d-49a1-d13d-c3ae47f892e1"
      },
      "outputs": [
        {
          "output_type": "execute_result",
          "data": {
            "text/plain": [
              "0.9333333333333333"
            ]
          },
          "metadata": {},
          "execution_count": 12
        }
      ],
      "source": [
        "scores.mean()"
      ]
    },
    {
      "cell_type": "markdown",
      "metadata": {
        "id": "FH381U1vpv8F"
      },
      "source": [
        "Outros esquemas de validação podem ser usados de maneira similar."
      ]
    },
    {
      "cell_type": "markdown",
      "metadata": {
        "id": "1ljuj28ZpzVb"
      },
      "source": [
        "# Seleção de Modelos\n",
        "\n",
        "Conhecendo os conceitos básicos de validação e validação cruzada, podemos agora aprofundar a respeito da seleção de modelos e de hiperparâmetros. Essas questões são aspectos importantes do aprendizado de máquina. A pergunta que nos guiará é: **se o nosso estimador estiver com baixo desempenho, como devemos proceder?**\n",
        "\n",
        "*   Usar um modelo mais sofisticado?\n",
        "*   Usar um modelo menos sofisticado?\n",
        "*   Reunir mais amostras de treinamento?\n",
        "*   Adicionar features a cada amostra?\n",
        "\n",
        "Não existe uma resposta única para todos os problemas. Em particular:\n",
        "\n",
        "* O uso de um modelo mais sofisticados pode gerar resultados piores;\n",
        "\n",
        "* Adicionar mais amostras de treinamento pode não surtir efeito.\n",
        "\n",
        "A capacidade de determinar quais etapas melhorarão o modelo requer algum tempo de experiência, mas todas elas passam pela identificação do que pode estar causando o resultado ruim do ponto de vista de viés e variância.\n",
        "\n",
        "## Viés e Variância (Bias-Variance Tradeoff)\n",
        "\n",
        "De modo geral, a escolha de um modelo consiste em encontrar um bom compromisso entre viés e variância. Antes de mais nada, vamos tentar compreender os conceitos.\n",
        "\n",
        "Imagine que você está jogando dardos em um alvo. Se você acertar sempre no mesmo lugar, mas longe do centro do alvo, dizemos que você tem um viés, ou seja, está inclinado a errar sempre na mesma direção. Se você jogar vários dardos e eles se espalharem muito longe um do outro, significa que você tem uma grande variação, ou seja, está tendo muita dificuldade em acertar o alvo.\n",
        "\n",
        "Da mesma forma, em ciência de dados, o viés e a variação são conceitos importantes a serem considerados ao desenvolver modelos. O viés se refere a um modelo que faz suposições incorretas sobre os dados e, portanto, é impreciso, mesmo quando aplicado a novos dados. A variação se refere a um modelo que é muito sensível às flutuações nos dados de treinamento, o que significa que ele não consegue generalizar bem para novos dados.\n",
        "\n",
        "Portanto, é importante encontrar um equilíbrio entre o viés e a variação, de modo a gerar modelos mais precisos e generalizáveis. Por exemplo, um modelo com baixo viés e alta variação pode ser melhorado através da adição de mais dados de treinamento ou do uso de técnicas de regularização para reduzir a variação. Já um modelo com alto viés e baixa variação pode ser melhorado através da seleção de recursos mais relevantes ou do ajuste dos hiperparâmetros do modelo para reduzir o viés.\n",
        "\n",
        "\n",
        "Vamos fabricar um conjunto de dados e ver o comportamento de dois modelos nele de modo a facilitar a compreensão dos conceitos."
      ]
    },
    {
      "cell_type": "code",
      "execution_count": null,
      "metadata": {
        "id": "P7aOu5IcuZGe",
        "colab": {
          "base_uri": "https://localhost:8080/",
          "height": 449
        },
        "outputId": "6a101c73-ff0b-4005-b75a-afb7f3e9c6eb"
      },
      "outputs": [
        {
          "output_type": "execute_result",
          "data": {
            "text/plain": [
              "<matplotlib.collections.PathCollection at 0x7fb369afad40>"
            ]
          },
          "metadata": {},
          "execution_count": 13
        },
        {
          "output_type": "display_data",
          "data": {
            "text/plain": [
              "<Figure size 640x480 with 1 Axes>"
            ],
            "image/png": "[encoded data removed]"
          },
          "metadata": {}
        }
      ],
      "source": [
        "import matplotlib.pyplot as plt\n",
        "from sklearn.model_selection import train_test_split\n",
        "import numpy as np\n",
        "\n",
        "rng = np.random.RandomState(2020)\n",
        "x   =  12*rng.rand(50) - 5\n",
        "y   =  x**3  + 15*rng.randn(50)\n",
        "plt.scatter(x, y)"
      ]
    },
    {
      "cell_type": "markdown",
      "metadata": {
        "id": "qLjgt_V8w8yS"
      },
      "source": [
        "Antes de mais nada, vamos dividir os nossos dados em treino e validação."
      ]
    },
    {
      "cell_type": "code",
      "execution_count": null,
      "metadata": {
        "id": "Hnchv-LyxI2Z",
        "colab": {
          "base_uri": "https://localhost:8080/",
          "height": 449
        },
        "outputId": "5f94599c-55ce-4783-d53a-755d0e213020"
      },
      "outputs": [
        {
          "output_type": "execute_result",
          "data": {
            "text/plain": [
              "<matplotlib.collections.PathCollection at 0x7fb367a20fd0>"
            ]
          },
          "metadata": {},
          "execution_count": 14
        },
        {
          "output_type": "display_data",
          "data": {
            "text/plain": [
              "<Figure size 640x480 with 1 Axes>"
            ],
            "image/png": "[encoded data removed]"
          },
          "metadata": {}
        }
      ],
      "source": [
        "# Configuração da metodologia de validação\n",
        "X = x[:, np.newaxis]\n",
        "X1, X2, y1, y2 = train_test_split(X, y, random_state=2020,\n",
        "                                  train_size=0.7)\n",
        "plt.scatter(X1, y1, color = \"blue\")\n",
        "plt.scatter(X2, y2, color = \"orange\")"
      ]
    },
    {
      "cell_type": "markdown",
      "metadata": {
        "id": "zlnsmnCNxWk7"
      },
      "source": [
        "Vamos agora criar um modelo de regressão linear simples no Scikit e plotar os resultados em um gráfico."
      ]
    },
    {
      "cell_type": "code",
      "execution_count": null,
      "metadata": {
        "id": "MXXA75TIxbbi",
        "colab": {
          "base_uri": "https://localhost:8080/",
          "height": 449
        },
        "outputId": "caa11b7d-a121-4b45-bebe-92556a00d196"
      },
      "outputs": [
        {
          "output_type": "execute_result",
          "data": {
            "text/plain": [
              "[<matplotlib.lines.Line2D at 0x7fb3678dc3d0>]"
            ]
          },
          "metadata": {},
          "execution_count": 15
        },
        {
          "output_type": "display_data",
          "data": {
            "text/plain": [
              "<Figure size 640x480 with 1 Axes>"
            ],
            "image/png": "[encoded data removed]"
          },
          "metadata": {}
        }
      ],
      "source": [
        "from sklearn.linear_model import LinearRegression\n",
        "model = LinearRegression(fit_intercept=True)\n",
        "model.fit(X1, y1)\n",
        "\n",
        "## Plotando os resultados\n",
        "plt.scatter(X1, y1, color = \"blue\")\n",
        "plt.scatter(X2, y2, color = \"orange\")\n",
        "\n",
        "\n",
        "plt.plot(X, model.predict(X))"
      ]
    },
    {
      "cell_type": "markdown",
      "metadata": {
        "id": "1gmw7ePmzCWd"
      },
      "source": [
        "Note que o modelo acima erra sistematicamente tanto em instâncias de treino quanto em instâncias de teste.\n",
        "\n",
        "Vamos agora criar um modelo de regressão polinomial com um polinômio de grau muito alto. Esse modelo é muito mais complexo do que o que seria necessário.\n",
        "\n",
        "No Scikit-learn, criar um polígono com grau mais alto implica em simplesmente aumentar o número de features para contabilizar pelos novos coeficientes."
      ]
    },
    {
      "cell_type": "code",
      "execution_count": null,
      "metadata": {
        "id": "dkBF2ve78OZ3",
        "colab": {
          "base_uri": "https://localhost:8080/"
        },
        "outputId": "88e03db2-04e2-4bb2-a3c5-205780cddfba"
      },
      "outputs": [
        {
          "output_type": "execute_result",
          "data": {
            "text/plain": [
              "(35, 11)"
            ]
          },
          "metadata": {},
          "execution_count": 16
        }
      ],
      "source": [
        "from sklearn.preprocessing import PolynomialFeatures\n",
        "poly   = PolynomialFeatures(degree=10)\n",
        "polyX1 = poly.fit_transform(X1)\n",
        "polyX1.shape"
      ]
    },
    {
      "cell_type": "code",
      "source": [
        "import pandas as pd\n",
        "## Visualizando dados originais como DataFrame\n",
        "pd.DataFrame(X1[:10],\n",
        "             columns = [\"X\"] )"
      ],
      "metadata": {
        "colab": {
          "base_uri": "https://localhost:8080/",
          "height": 363
        },
        "id": "pPTjmsWuVKwI",
        "outputId": "9108e8dc-92b0-4e78-aaf6-9b47c9cb0cb0"
      },
      "execution_count": null,
      "outputs": [
        {
          "output_type": "execute_result",
          "data": {
            "text/plain": [
              "          X\n",
              "0  2.001540\n",
              "1  1.116946\n",
              "2 -2.963571\n",
              "3 -0.906884\n",
              "4  6.707986\n",
              "5 -0.956975\n",
              "6  1.832957\n",
              "7  5.755100\n",
              "8 -3.351719\n",
              "9 -2.866489"
            ],
            "text/html": [
              "\n",
              "  <div id=\"df-6b7a4223-5fbe-4089-8d06-af1561edb51d\">\n",
              "    <div class=\"colab-df-container\">\n",
              "      <div>\n",
              "<style scoped>\n",
              "    .dataframe tbody tr th:only-of-type {\n",
              "        vertical-align: middle;\n",
              "    }\n",
              "\n",
              "    .dataframe tbody tr th {\n",
              "        vertical-align: top;\n",
              "    }\n",
              "\n",
              "    .dataframe thead th {\n",
              "        text-align: right;\n",
              "    }\n",
              "</style>\n",
              "<table border=\"1\" class=\"dataframe\">\n",
              "  <thead>\n",
              "    <tr style=\"text-align: right;\">\n",
              "      <th></th>\n",
              "      <th>X</th>\n",
              "    </tr>\n",
              "  </thead>\n",
              "  <tbody>\n",
              "    <tr>\n",
              "      <th>0</th>\n",
              "      <td>2.001540</td>\n",
              "    </tr>\n",
              "    <tr>\n",
              "      <th>1</th>\n",
              "      <td>1.116946</td>\n",
              "    </tr>\n",
              "    <tr>\n",
              "      <th>2</th>\n",
              "      <td>-2.963571</td>\n",
              "    </tr>\n",
              "    <tr>\n",
              "      <th>3</th>\n",
              "      <td>-0.906884</td>\n",
              "    </tr>\n",
              "    <tr>\n",
              "      <th>4</th>\n",
              "      <td>6.707986</td>\n",
              "    </tr>\n",
              "    <tr>\n",
              "      <th>5</th>\n",
              "      <td>-0.956975</td>\n",
              "    </tr>\n",
              "    <tr>\n",
              "      <th>6</th>\n",
              "      <td>1.832957</td>\n",
              "    </tr>\n",
              "    <tr>\n",
              "      <th>7</th>\n",
              "      <td>5.755100</td>\n",
              "    </tr>\n",
              "    <tr>\n",
              "      <th>8</th>\n",
              "      <td>-3.351719</td>\n",
              "    </tr>\n",
              "    <tr>\n",
              "      <th>9</th>\n",
              "      <td>-2.866489</td>\n",
              "    </tr>\n",
              "  </tbody>\n",
              "</table>\n",
              "</div>\n",
              "      <button class=\"colab-df-convert\" onclick=\"convertToInteractive('df-6b7a4223-5fbe-4089-8d06-af1561edb51d')\"\n",
              "              title=\"Convert this dataframe to an interactive table.\"\n",
              "              style=\"display:none;\">\n",
              "        \n",
              "  <svg xmlns=\"http://www.w3.org/2000/svg\" height=\"24px\"viewBox=\"0 0 24 24\"\n",
              "       width=\"24px\">\n",
              "    <path d=\"M0 0h24v24H0V0z\" fill=\"none\"/>\n",
              "    <path d=\"M18.56 5.44l.94 2.06.94-2.06 2.06-.94-2.06-.94-.94-2.06-.94 2.06-2.06.94zm-11 1L8.5 8.5l.94-2.06 2.06-.94-2.06-.94L8.5 2.5l-.94 2.06-2.06.94zm10 10l.94 2.06.94-2.06 2.06-.94-2.06-.94-.94-2.06-.94 2.06-2.06.94z\"/><path d=\"M17.41 7.96l-1.37-1.37c-.4-.4-.92-.59-1.43-.59-.52 0-1.04.2-1.43.59L10.3 9.45l-7.72 7.72c-.78.78-.78 2.05 0 2.83L4 21.41c.39.39.9.59 1.41.59.51 0 1.02-.2 1.41-.59l7.78-7.78 2.81-2.81c.8-.78.8-2.07 0-2.86zM5.41 20L4 18.59l7.72-7.72 1.47 1.35L5.41 20z\"/>\n",
              "  </svg>\n",
              "      </button>\n",
              "      \n",
              "  <style>\n",
              "    .colab-df-container {\n",
              "      display:flex;\n",
              "      flex-wrap:wrap;\n",
              "      gap: 12px;\n",
              "    }\n",
              "\n",
              "    .colab-df-convert {\n",
              "      background-color: #E8F0FE;\n",
              "      border: none;\n",
              "      border-radius: 50%;\n",
              "      cursor: pointer;\n",
              "      display: none;\n",
              "      fill: #1967D2;\n",
              "      height: 32px;\n",
              "      padding: 0 0 0 0;\n",
              "      width: 32px;\n",
              "    }\n",
              "\n",
              "    .colab-df-convert:hover {\n",
              "      background-color: #E2EBFA;\n",
              "      box-shadow: 0px 1px 2px rgba(60, 64, 67, 0.3), 0px 1px 3px 1px rgba(60, 64, 67, 0.15);\n",
              "      fill: #174EA6;\n",
              "    }\n",
              "\n",
              "    [theme=dark] .colab-df-convert {\n",
              "      background-color: #3B4455;\n",
              "      fill: #D2E3FC;\n",
              "    }\n",
              "\n",
              "    [theme=dark] .colab-df-convert:hover {\n",
              "      background-color: #434B5C;\n",
              "      box-shadow: 0px 1px 3px 1px rgba(0, 0, 0, 0.15);\n",
              "      filter: drop-shadow(0px 1px 2px rgba(0, 0, 0, 0.3));\n",
              "      fill: #FFFFFF;\n",
              "    }\n",
              "  </style>\n",
              "\n",
              "      <script>\n",
              "        const buttonEl =\n",
              "          document.querySelector('#df-6b7a4223-5fbe-4089-8d06-af1561edb51d button.colab-df-convert');\n",
              "        buttonEl.style.display =\n",
              "          google.colab.kernel.accessAllowed ? 'block' : 'none';\n",
              "\n",
              "        async function convertToInteractive(key) {\n",
              "          const element = document.querySelector('#df-6b7a4223-5fbe-4089-8d06-af1561edb51d');\n",
              "          const dataTable =\n",
              "            await google.colab.kernel.invokeFunction('convertToInteractive',\n",
              "                                                     [key], {});\n",
              "          if (!dataTable) return;\n",
              "\n",
              "          const docLinkHtml = 'Like what you see? Visit the ' +\n",
              "            '<a target=\"_blank\" href=https://colab.research.google.com/notebooks/data_table.ipynb>data table notebook</a>'\n",
              "            + ' to learn more about interactive tables.';\n",
              "          element.innerHTML = '';\n",
              "          dataTable['output_type'] = 'display_data';\n",
              "          await google.colab.output.renderOutput(dataTable, element);\n",
              "          const docLink = document.createElement('div');\n",
              "          docLink.innerHTML = docLinkHtml;\n",
              "          element.appendChild(docLink);\n",
              "        }\n",
              "      </script>\n",
              "    </div>\n",
              "  </div>\n",
              "  "
            ]
          },
          "metadata": {},
          "execution_count": 17
        }
      ]
    },
    {
      "cell_type": "code",
      "source": [
        "## Visualizando dados transformados como DataFrame\n",
        "pd.DataFrame(polyX1[:10],\n",
        "             columns = [\"x^0\", \"x^1\", \"x^2\", \"x^3\",\n",
        "                        \"x^4\", \"x^5\", \"x^6\", \"x^7\",\n",
        "                        \"x^8\", \"x^9\", \"x^10\"] )"
      ],
      "metadata": {
        "colab": {
          "base_uri": "https://localhost:8080/",
          "height": 427
        },
        "id": "Gk8k761TU9G9",
        "outputId": "91c53d89-d5fc-491e-9d52-f39b95839dfd"
      },
      "execution_count": null,
      "outputs": [
        {
          "output_type": "execute_result",
          "data": {
            "text/plain": [
              "   x^0       x^1        x^2         x^3          x^4           x^5  \\\n",
              "0  1.0  2.001540   4.006164    8.018499    16.049349     32.123420   \n",
              "1  1.0  1.116946   1.247569    1.393468     1.556429      1.738447   \n",
              "2  1.0 -2.963571   8.782752  -26.028305    77.136724   -228.600139   \n",
              "3  1.0 -0.906884   0.822438   -0.745856     0.676405     -0.613420   \n",
              "4  1.0  6.707986  44.997073  301.839729  2024.736617  13581.904466   \n",
              "5  1.0 -0.956975   0.915802   -0.876400     0.838693     -0.802608   \n",
              "6  1.0  1.832957   3.359732    6.158245    11.287799     20.690052   \n",
              "7  1.0  5.755100  33.121177  190.615685  1097.012336   6313.415747   \n",
              "8  1.0 -3.351719  11.234017  -37.653263   126.203137   -422.997392   \n",
              "9  1.0 -2.866489   8.216757  -23.553239    67.515090   -193.531233   \n",
              "\n",
              "            x^6            x^7           x^8           x^9          x^10  \n",
              "0     64.296322     128.691684  2.575816e+02  5.155600e+02  1.031914e+03  \n",
              "1      1.941752       2.168833  2.422470e+00  2.705769e+00  3.022198e+00  \n",
              "2    677.472684   -2007.738222  5.950074e+03 -1.763347e+04  5.225802e+04  \n",
              "3      0.556301      -0.504500  4.575232e-01 -4.149204e-01  3.762846e-01  \n",
              "4  91107.222225  611145.952515  4.099558e+06  2.749978e+07  1.844681e+08  \n",
              "5      0.768076      -0.735030  7.034054e-01 -6.731416e-01  6.441799e-01  \n",
              "6     37.923979      69.513028  1.274144e+02  2.335451e+02  4.280782e+02  \n",
              "7  36334.339259  209107.757572  1.203436e+06  6.925895e+06  3.985922e+07  \n",
              "8   1417.768187   -4751.959876  1.592723e+04 -5.338360e+04  1.789268e+05  \n",
              "9    554.755064   -1590.199043  4.558287e+03 -1.306628e+04  3.745434e+04  "
            ],
            "text/html": [
              "\n",
              "  <div id=\"df-0cce3573-5131-4fa7-b087-801389f63acf\">\n",
              "    <div class=\"colab-df-container\">\n",
              "      <div>\n",
              "<style scoped>\n",
              "    .dataframe tbody tr th:only-of-type {\n",
              "        vertical-align: middle;\n",
              "    }\n",
              "\n",
              "    .dataframe tbody tr th {\n",
              "        vertical-align: top;\n",
              "    }\n",
              "\n",
              "    .dataframe thead th {\n",
              "        text-align: right;\n",
              "    }\n",
              "</style>\n",
              "<table border=\"1\" class=\"dataframe\">\n",
              "  <thead>\n",
              "    <tr style=\"text-align: right;\">\n",
              "      <th></th>\n",
              "      <th>x^0</th>\n",
              "      <th>x^1</th>\n",
              "      <th>x^2</th>\n",
              "      <th>x^3</th>\n",
              "      <th>x^4</th>\n",
              "      <th>x^5</th>\n",
              "      <th>x^6</th>\n",
              "      <th>x^7</th>\n",
              "      <th>x^8</th>\n",
              "      <th>x^9</th>\n",
              "      <th>x^10</th>\n",
              "    </tr>\n",
              "  </thead>\n",
              "  <tbody>\n",
              "    <tr>\n",
              "      <th>0</th>\n",
              "      <td>1.0</td>\n",
              "      <td>2.001540</td>\n",
              "      <td>4.006164</td>\n",
              "      <td>8.018499</td>\n",
              "      <td>16.049349</td>\n",
              "      <td>32.123420</td>\n",
              "      <td>64.296322</td>\n",
              "      <td>128.691684</td>\n",
              "      <td>2.575816e+02</td>\n",
              "      <td>5.155600e+02</td>\n",
              "      <td>1.031914e+03</td>\n",
              "    </tr>\n",
              "    <tr>\n",
              "      <th>1</th>\n",
              "      <td>1.0</td>\n",
              "      <td>1.116946</td>\n",
              "      <td>1.247569</td>\n",
              "      <td>1.393468</td>\n",
              "      <td>1.556429</td>\n",
              "      <td>1.738447</td>\n",
              "      <td>1.941752</td>\n",
              "      <td>2.168833</td>\n",
              "      <td>2.422470e+00</td>\n",
              "      <td>2.705769e+00</td>\n",
              "      <td>3.022198e+00</td>\n",
              "    </tr>\n",
              "    <tr>\n",
              "      <th>2</th>\n",
              "      <td>1.0</td>\n",
              "      <td>-2.963571</td>\n",
              "      <td>8.782752</td>\n",
              "      <td>-26.028305</td>\n",
              "      <td>77.136724</td>\n",
              "      <td>-228.600139</td>\n",
              "      <td>677.472684</td>\n",
              "      <td>-2007.738222</td>\n",
              "      <td>5.950074e+03</td>\n",
              "      <td>-1.763347e+04</td>\n",
              "      <td>5.225802e+04</td>\n",
              "    </tr>\n",
              "    <tr>\n",
              "      <th>3</th>\n",
              "      <td>1.0</td>\n",
              "      <td>-0.906884</td>\n",
              "      <td>0.822438</td>\n",
              "      <td>-0.745856</td>\n",
              "      <td>0.676405</td>\n",
              "      <td>-0.613420</td>\n",
              "      <td>0.556301</td>\n",
              "      <td>-0.504500</td>\n",
              "      <td>4.575232e-01</td>\n",
              "      <td>-4.149204e-01</td>\n",
              "      <td>3.762846e-01</td>\n",
              "    </tr>\n",
              "    <tr>\n",
              "      <th>4</th>\n",
              "      <td>1.0</td>\n",
              "      <td>6.707986</td>\n",
              "      <td>44.997073</td>\n",
              "      <td>301.839729</td>\n",
              "      <td>2024.736617</td>\n",
              "      <td>13581.904466</td>\n",
              "      <td>91107.222225</td>\n",
              "      <td>611145.952515</td>\n",
              "      <td>4.099558e+06</td>\n",
              "      <td>2.749978e+07</td>\n",
              "      <td>1.844681e+08</td>\n",
              "    </tr>\n",
              "    <tr>\n",
              "      <th>5</th>\n",
              "      <td>1.0</td>\n",
              "      <td>-0.956975</td>\n",
              "      <td>0.915802</td>\n",
              "      <td>-0.876400</td>\n",
              "      <td>0.838693</td>\n",
              "      <td>-0.802608</td>\n",
              "      <td>0.768076</td>\n",
              "      <td>-0.735030</td>\n",
              "      <td>7.034054e-01</td>\n",
              "      <td>-6.731416e-01</td>\n",
              "      <td>6.441799e-01</td>\n",
              "    </tr>\n",
              "    <tr>\n",
              "      <th>6</th>\n",
              "      <td>1.0</td>\n",
              "      <td>1.832957</td>\n",
              "      <td>3.359732</td>\n",
              "      <td>6.158245</td>\n",
              "      <td>11.287799</td>\n",
              "      <td>20.690052</td>\n",
              "      <td>37.923979</td>\n",
              "      <td>69.513028</td>\n",
              "      <td>1.274144e+02</td>\n",
              "      <td>2.335451e+02</td>\n",
              "      <td>4.280782e+02</td>\n",
              "    </tr>\n",
              "    <tr>\n",
              "      <th>7</th>\n",
              "      <td>1.0</td>\n",
              "      <td>5.755100</td>\n",
              "      <td>33.121177</td>\n",
              "      <td>190.615685</td>\n",
              "      <td>1097.012336</td>\n",
              "      <td>6313.415747</td>\n",
              "      <td>36334.339259</td>\n",
              "      <td>209107.757572</td>\n",
              "      <td>1.203436e+06</td>\n",
              "      <td>6.925895e+06</td>\n",
              "      <td>3.985922e+07</td>\n",
              "    </tr>\n",
              "    <tr>\n",
              "      <th>8</th>\n",
              "      <td>1.0</td>\n",
              "      <td>-3.351719</td>\n",
              "      <td>11.234017</td>\n",
              "      <td>-37.653263</td>\n",
              "      <td>126.203137</td>\n",
              "      <td>-422.997392</td>\n",
              "      <td>1417.768187</td>\n",
              "      <td>-4751.959876</td>\n",
              "      <td>1.592723e+04</td>\n",
              "      <td>-5.338360e+04</td>\n",
              "      <td>1.789268e+05</td>\n",
              "    </tr>\n",
              "    <tr>\n",
              "      <th>9</th>\n",
              "      <td>1.0</td>\n",
              "      <td>-2.866489</td>\n",
              "      <td>8.216757</td>\n",
              "      <td>-23.553239</td>\n",
              "      <td>67.515090</td>\n",
              "      <td>-193.531233</td>\n",
              "      <td>554.755064</td>\n",
              "      <td>-1590.199043</td>\n",
              "      <td>4.558287e+03</td>\n",
              "      <td>-1.306628e+04</td>\n",
              "      <td>3.745434e+04</td>\n",
              "    </tr>\n",
              "  </tbody>\n",
              "</table>\n",
              "</div>\n",
              "      <button class=\"colab-df-convert\" onclick=\"convertToInteractive('df-0cce3573-5131-4fa7-b087-801389f63acf')\"\n",
              "              title=\"Convert this dataframe to an interactive table.\"\n",
              "              style=\"display:none;\">\n",
              "        \n",
              "  <svg xmlns=\"http://www.w3.org/2000/svg\" height=\"24px\"viewBox=\"0 0 24 24\"\n",
              "       width=\"24px\">\n",
              "    <path d=\"M0 0h24v24H0V0z\" fill=\"none\"/>\n",
              "    <path d=\"M18.56 5.44l.94 2.06.94-2.06 2.06-.94-2.06-.94-.94-2.06-.94 2.06-2.06.94zm-11 1L8.5 8.5l.94-2.06 2.06-.94-2.06-.94L8.5 2.5l-.94 2.06-2.06.94zm10 10l.94 2.06.94-2.06 2.06-.94-2.06-.94-.94-2.06-.94 2.06-2.06.94z\"/><path d=\"M17.41 7.96l-1.37-1.37c-.4-.4-.92-.59-1.43-.59-.52 0-1.04.2-1.43.59L10.3 9.45l-7.72 7.72c-.78.78-.78 2.05 0 2.83L4 21.41c.39.39.9.59 1.41.59.51 0 1.02-.2 1.41-.59l7.78-7.78 2.81-2.81c.8-.78.8-2.07 0-2.86zM5.41 20L4 18.59l7.72-7.72 1.47 1.35L5.41 20z\"/>\n",
              "  </svg>\n",
              "      </button>\n",
              "      \n",
              "  <style>\n",
              "    .colab-df-container {\n",
              "      display:flex;\n",
              "      flex-wrap:wrap;\n",
              "      gap: 12px;\n",
              "    }\n",
              "\n",
              "    .colab-df-convert {\n",
              "      background-color: #E8F0FE;\n",
              "      border: none;\n",
              "      border-radius: 50%;\n",
              "      cursor: pointer;\n",
              "      display: none;\n",
              "      fill: #1967D2;\n",
              "      height: 32px;\n",
              "      padding: 0 0 0 0;\n",
              "      width: 32px;\n",
              "    }\n",
              "\n",
              "    .colab-df-convert:hover {\n",
              "      background-color: #E2EBFA;\n",
              "      box-shadow: 0px 1px 2px rgba(60, 64, 67, 0.3), 0px 1px 3px 1px rgba(60, 64, 67, 0.15);\n",
              "      fill: #174EA6;\n",
              "    }\n",
              "\n",
              "    [theme=dark] .colab-df-convert {\n",
              "      background-color: #3B4455;\n",
              "      fill: #D2E3FC;\n",
              "    }\n",
              "\n",
              "    [theme=dark] .colab-df-convert:hover {\n",
              "      background-color: #434B5C;\n",
              "      box-shadow: 0px 1px 3px 1px rgba(0, 0, 0, 0.15);\n",
              "      filter: drop-shadow(0px 1px 2px rgba(0, 0, 0, 0.3));\n",
              "      fill: #FFFFFF;\n",
              "    }\n",
              "  </style>\n",
              "\n",
              "      <script>\n",
              "        const buttonEl =\n",
              "          document.querySelector('#df-0cce3573-5131-4fa7-b087-801389f63acf button.colab-df-convert');\n",
              "        buttonEl.style.display =\n",
              "          google.colab.kernel.accessAllowed ? 'block' : 'none';\n",
              "\n",
              "        async function convertToInteractive(key) {\n",
              "          const element = document.querySelector('#df-0cce3573-5131-4fa7-b087-801389f63acf');\n",
              "          const dataTable =\n",
              "            await google.colab.kernel.invokeFunction('convertToInteractive',\n",
              "                                                     [key], {});\n",
              "          if (!dataTable) return;\n",
              "\n",
              "          const docLinkHtml = 'Like what you see? Visit the ' +\n",
              "            '<a target=\"_blank\" href=https://colab.research.google.com/notebooks/data_table.ipynb>data table notebook</a>'\n",
              "            + ' to learn more about interactive tables.';\n",
              "          element.innerHTML = '';\n",
              "          dataTable['output_type'] = 'display_data';\n",
              "          await google.colab.output.renderOutput(dataTable, element);\n",
              "          const docLink = document.createElement('div');\n",
              "          docLink.innerHTML = docLinkHtml;\n",
              "          element.appendChild(docLink);\n",
              "        }\n",
              "      </script>\n",
              "    </div>\n",
              "  </div>\n",
              "  "
            ]
          },
          "metadata": {},
          "execution_count": 18
        }
      ]
    },
    {
      "cell_type": "code",
      "execution_count": null,
      "metadata": {
        "id": "EqQpyPYQz1LF",
        "colab": {
          "base_uri": "https://localhost:8080/",
          "height": 430
        },
        "outputId": "4698f97c-c63f-4a11-df7a-1779e52fbc45"
      },
      "outputs": [
        {
          "output_type": "display_data",
          "data": {
            "text/plain": [
              "<Figure size 640x480 with 1 Axes>"
            ],
            "image/png": "[encoded data removed]"
          },
          "metadata": {}
        }
      ],
      "source": [
        "modelPoly = LinearRegression(fit_intercept=True)\n",
        "modelPoly.fit(polyX1, y1)\n",
        "\n",
        "## Plotando os resultados\n",
        "plt.scatter(X1, y1, color = \"blue\")\n",
        "plt.scatter(X2, y2, color = \"orange\")\n",
        "\n",
        "X_test = np.linspace(-4.5, 8, 500).reshape(-1,1)\n",
        "y_test = modelPoly.predict(poly.fit_transform(X_test))\n",
        "plt.plot(X_test, y_test);"
      ]
    },
    {
      "cell_type": "markdown",
      "source": [
        "Este modelo é visualmente superior ao anterior. Entretanto, se procurarmos bem, existem pontos em que ele se afasta demais daquilo que tínhamos no banco de dados de teste. Observe, por exemplo, o primeiro ponto do banco de dados de teste veja o que foi predito pelo modelo, o gráfico a seguir ilustra o que está acontecendo.\n"
      ],
      "metadata": {
        "id": "H4Vxf19KbO1B"
      }
    },
    {
      "cell_type": "code",
      "source": [
        "plt.scatter(X2, y2, color = \"orange\")\n",
        "\n",
        "polyX2  = poly.fit_transform(X2)\n",
        "predY2 = modelPoly.predict(polyX2)\n",
        "plt.scatter(X2, predY2, color = \"red\")\n",
        "\n",
        "for i in range(len(X2)) :\n",
        "    plt.plot((X2[i], X2[i]), (y2[i], predY2[i]),\n",
        "             '-', c = \"black\")\n"
      ],
      "metadata": {
        "colab": {
          "base_uri": "https://localhost:8080/",
          "height": 430
        },
        "id": "_ziNUWBWXWda",
        "outputId": "58a2846f-4f1d-4209-ae28-4a89c249c4fe"
      },
      "execution_count": null,
      "outputs": [
        {
          "output_type": "display_data",
          "data": {
            "text/plain": [
              "<Figure size 640x480 with 1 Axes>"
            ],
            "image/png": "[encoded data removed]"
          },
          "metadata": {}
        }
      ]
    },
    {
      "cell_type": "markdown",
      "metadata": {
        "id": "IWb7P6EB44p7"
      },
      "source": [
        "Em outras palavras, nenhum desses modelos é particularmente adequado aos dados, mas eles falham de maneiras diferentes.\n",
        "\n",
        "O primeiro modelo tenta encontrar um ajuste em linha reta pelos dados. Como os dados são intrinsecamente mais complicados do que uma linha reta, o modelo linear nunca será capaz de descrever bem esse conjunto de dados. Diz-se que esse modelo resultou em **underfitting**, ou seja, ele não possui flexibilidade suficiente para explicar adequadamente todos os recursos dos dados. Outra maneira de dizer isso é que o modelo tem um alto viés.\n",
        "\n",
        "O segundo modelo tenta ajustar um polinômio de alta ordem através dos dados. Aqui, o ajuste do modelo tem flexibilidade suficiente para explicar quase que perfeitamente os dados de treinamento, mas, embora descreva com precisão os dados de treinamento, sua forma precisa parece refletir mais as propriedades específicas de ruído dos dados do que as  propriedades intrínsecas que geraram esses dados. Diz-se que esse modelo resultou em **overfitting**. Em outras palavras, tem tanta flexibilidade que o modelo acaba contabilizando ruídos aleatórios, bem como a distribuição de dados subjacente. Outra maneira de dizer isso é que o modelo tem alta variância.\n",
        "\n",
        "Se imaginarmos que temos alguma capacidade de ajustar a complexidade do modelo, esperamos que o erro associado ao treinamento e a validação se comportem conforme ilustrado na figura a seguir:\n",
        "\n",
        "![alt text](http://www.ic.unicamp.br/~udias/si202/bias_variance6.png)\n",
        "\n",
        "Esse diagrama é freqüentemente chamado de curva de validação e vemos os seguintes recursos essenciais:\n",
        "\n",
        "1.   O erro do treinamento é geralmente menor que o erro da validação. O modelo se ajustará melhor aos dados que ele viu do que aos dados que não viu.\n",
        "\n",
        "2.   Para uma complexidade muito baixa do modelo (um modelo com alto viés), os dados de treinamento não são adequados, o que significa que o modelo é um mau preditor para os dados de treinamento e para quaisquer dados não vistos anteriormente.\n",
        "\n",
        "3.   Para uma complexidade de modelo muito alta (um modelo de alta variação), os dados de treinamento resultam em **overfitting**, o que significa que o modelo prevê muito bem os dados de treinamento, mas falha com os dados não vistos anteriormente.\n",
        "\n",
        "4.    Para algum valor intermediário, a curva de validação tem um mínimo. Esse nível de complexidade indica um compromisso adequado entre viés e variância.\n",
        "\n",
        "Os meios de ajustar a complexidade variam de modelo para modelo, mas cada modelo permite esse ajuste. Na regressão, o grau do polinômio é o parâmetro que geralmente precisa ser configurado para se escolher o melhor modelo. Por exemplo, vamos analisar vários modelos. Primeiramente, vamos plotar um gráfico com a nossa expectativa em cada um deles."
      ]
    },
    {
      "cell_type": "code",
      "execution_count": null,
      "metadata": {
        "id": "sEQFiEhKlGWD",
        "colab": {
          "base_uri": "https://localhost:8080/",
          "height": 449
        },
        "outputId": "30d5ad16-8713-4418-c783-ad9f42bc8fd5"
      },
      "outputs": [
        {
          "output_type": "execute_result",
          "data": {
            "text/plain": [
              "<matplotlib.legend.Legend at 0x7fb35e83bb80>"
            ]
          },
          "metadata": {},
          "execution_count": 21
        },
        {
          "output_type": "display_data",
          "data": {
            "text/plain": [
              "<Figure size 640x480 with 1 Axes>"
            ],
            "image/png": "[encoded data removed]"
          },
          "metadata": {}
        }
      ],
      "source": [
        "## Não precisa entender o código a seguir, apenas o gráfico\n",
        "## que ele gera.\n",
        "\n",
        "plt.scatter(X, y)\n",
        "\n",
        "X_test = np.linspace(-4.0, 6, 500)[:, None]\n",
        "\n",
        "\n",
        "for degree in range(1, 30, 6) :\n",
        "  poly   = PolynomialFeatures(degree=degree)\n",
        "  poly_X = poly.fit_transform(X)\n",
        "\n",
        "  modelPoly = LinearRegression(fit_intercept=True)\n",
        "  modelPoly.fit(poly_X, y)\n",
        "\n",
        "  poly_X_test = poly.fit_transform(X_test)\n",
        "  outcome = modelPoly.predict(poly_X_test)\n",
        "\n",
        "  ## Plotando os resultados\n",
        "\n",
        "  plt.plot(X_test, outcome, label='degree={%i}'%degree)\n",
        "plt.legend(loc='best')"
      ]
    },
    {
      "cell_type": "markdown",
      "metadata": {
        "id": "wIBalPxam6OS"
      },
      "source": [
        "Qual grau de polinômio fornece um custo-benefício adequado entre viés e variância?\n",
        "\n",
        "Podemos visualizar a curva de validação para esses dados e modelos específicos. Isso pode ser feito diretamente, usando a rotina de  **validation_curve** fornecida pelo Scikit-Learn. Dados um modelo, nome de um parâmetro e um intervalo a explorar, essa função calculará automaticamente a pontuação do treinamento e a validação no intervalo. O gráfico resultante mostra a variação de um score."
      ]
    },
    {
      "cell_type": "code",
      "execution_count": null,
      "metadata": {
        "id": "s3UKrKxrnjRT",
        "colab": {
          "base_uri": "https://localhost:8080/",
          "height": 474
        },
        "outputId": "c0cfcd0b-4cd1-4994-a48f-2d169fffd109"
      },
      "outputs": [
        {
          "output_type": "stream",
          "name": "stdout",
          "text": [
            "[ 0  1  2  3  4  5  6  7  8  9 10 11 12 13 14 15 16 17 18 19]\n"
          ]
        },
        {
          "output_type": "display_data",
          "data": {
            "text/plain": [
              "<Figure size 640x480 with 1 Axes>"
            ],
            "image/png": "[encoded data removed]"
          },
          "metadata": {}
        }
      ],
      "source": [
        "# Vamos criar um modelo para regressão polinomial.\n",
        "from sklearn.pipeline import make_pipeline\n",
        "\n",
        "def PolynomialRegression(degree=2, **kwargs):\n",
        "    return make_pipeline(PolynomialFeatures(degree),\n",
        "                         LinearRegression(**kwargs))\n",
        "\n",
        "#\n",
        "from sklearn.model_selection import validation_curve\n",
        "degree = np.arange(0, 20)\n",
        "print(degree)\n",
        "train_score, val_score = validation_curve(PolynomialRegression(), X, y,\n",
        "                                          param_name = 'polynomialfeatures__degree',\n",
        "                                          param_range = degree, cv=5)\n",
        "\n",
        "plt.plot(degree, np.mean(train_score, 1), color='blue', label='training score')\n",
        "plt.plot(degree, np.mean(val_score, 1), color='red', label='validation score')\n",
        "plt.legend(loc='best')\n",
        "plt.ylim(-1, 1)\n",
        "plt.xlabel('degree')\n",
        "plt.ylabel('score');"
      ]
    },
    {
      "cell_type": "markdown",
      "metadata": {
        "id": "LICuIt8bomrp"
      },
      "source": [
        "O gráfico mostra precisamente o comportamento qualitativo que esperamos:\n",
        "\n",
        "1.   A pontuação do treinamento é geralmente superior à pontuação da validação;\n",
        "2.   A pontuação do treinamento está melhorando monotonicamente com o aumento da complexidade do modelo;\n",
        "3.   A pontuação de validação atinge o máximo antes de cair, à medida que o modelo se ajusta demais (**overfitting**).\n",
        "\n",
        "A partir da curva de validação, podemos ler que o custo-benefício ideal entre viés e variância é encontrado para um polinômio de terceira ordem."
      ]
    },
    {
      "cell_type": "markdown",
      "metadata": {
        "id": "aJqbSJD_p8xZ"
      },
      "source": [
        "# Grid-Search\n",
        "\n",
        "A discussão anterior fornece uma intuição sobre o custo-benefício entre viés e variância, além da dependência em relação à complexidade do modelo. Na prática, os modelos geralmente têm mais de um parâmetro para configurar. Portanto, várias curvas de validação geram superfícies multidimensionais. Nesses casos, a interpretação dessas visualizações exige experiência.\n",
        "\n",
        "Grid-search é uma técnica amplamente utilizada em aprendizado de máquina para encontrar a melhor combinação de hiperparâmetros para um modelo.\n",
        "\n",
        "Hiperparâmetros são valores que definem o comportamento de um modelo de aprendizado de máquina, como o número de camadas em uma rede neural ou a taxa de aprendizado usada em um algoritmo de otimização. A escolha adequada dos hiperparâmetros é crucial para obter um modelo preciso e bem ajustado.\n",
        "\n",
        "O grid-search envolve a definição de uma grade (ou \"grid\") de valores possíveis para cada hiperparâmetro que se deseja ajustar. Em seguida, o modelo é treinado e avaliado para cada combinação possível de valores de hiperparâmetros na grade. Isso permite que sejam testadas várias combinações de hiperparâmetros para determinar qual combinação produz o melhor desempenho do modelo.\n",
        "\n",
        "Embora o grid-search seja uma técnica simples e fácil de implementar, ela pode ser intensiva em termos computacionais, especialmente para modelos mais complexos ou grandes grades de hiperparâmetros. Outras técnicas, como a busca aleatória, a busca em grades adaptativas e a busca bayesiana, podem ser usadas para reduzir o tempo de execução e melhorar a eficiência da busca de hiperparâmetros.\n",
        "\n",
        "O Scikit-Learn fornece ferramentas automatizadas para escolher um conjunto de bons parâmetros usando Grid-Search. Vamos explorar uma busca em grid tridimensional de recursos de um modelo.  Isso pode ser feito usando o algoritmo GridSearchCV do Scikit-Learn:"
      ]
    },
    {
      "cell_type": "code",
      "execution_count": null,
      "metadata": {
        "id": "4cl7X8PgvIS5"
      },
      "outputs": [],
      "source": [
        "from sklearn.model_selection import GridSearchCV\n",
        "\n",
        "## Conjunto de parâmetros que queremos otimizar\n",
        "param_grid = {'polynomialfeatures__degree': np.arange(21),\n",
        "              'linearregression__fit_intercept': [True, False]}\n",
        "\n",
        "grid = GridSearchCV(PolynomialRegression(), param_grid, cv=7)\n",
        "\n",
        "grid.fit(X, y);"
      ]
    },
    {
      "cell_type": "markdown",
      "metadata": {
        "id": "Lw-DNjS6vfUn"
      },
      "source": [
        "Agora que o modelo foi treinado, podemos ver os melhores parâmetros escolhidos pelo GridSearchCV."
      ]
    },
    {
      "cell_type": "code",
      "execution_count": null,
      "metadata": {
        "id": "q8YEZx3OvkKP",
        "colab": {
          "base_uri": "https://localhost:8080/"
        },
        "outputId": "62eb8759-650e-4e57-d4d4-cd8700340c1a"
      },
      "outputs": [
        {
          "output_type": "execute_result",
          "data": {
            "text/plain": [
              "{'linearregression__fit_intercept': False, 'polynomialfeatures__degree': 5}"
            ]
          },
          "metadata": {},
          "execution_count": 24
        }
      ],
      "source": [
        "grid.best_params_"
      ]
    },
    {
      "cell_type": "markdown",
      "metadata": {
        "id": "BLr7A_dwvqtp"
      },
      "source": [
        "Vamos usar o melhor modelo obtido e plotar um resultado."
      ]
    },
    {
      "cell_type": "code",
      "execution_count": null,
      "metadata": {
        "id": "VuFsMI4jvucu",
        "colab": {
          "base_uri": "https://localhost:8080/",
          "height": 430
        },
        "outputId": "145c3820-48b3-4040-afdb-82654ae746d9"
      },
      "outputs": [
        {
          "output_type": "display_data",
          "data": {
            "text/plain": [
              "<Figure size 640x480 with 1 Axes>"
            ],
            "image/png": "[encoded data removed]"
          },
          "metadata": {}
        }
      ],
      "source": [
        "model = grid.best_estimator_\n",
        "\n",
        "plt.scatter(X, y)\n",
        "\n",
        "X_test = np.linspace(-4.5, 8, 500)[:, None]\n",
        "y_test = model.fit(X, y).predict(X_test)\n",
        "plt.plot(X_test, y_test);"
      ]
    },
    {
      "cell_type": "code",
      "source": [
        "from sklearn.model_selection import RandomizedSearchCV\n"
      ],
      "metadata": {
        "id": "Fjyg3Q67Kfo-"
      },
      "execution_count": null,
      "outputs": []
    },
    {
      "cell_type": "code",
      "source": [
        "rand = RandomizedSearchCV(PolynomialRegression(),\n",
        "                          param_grid, cv=7,\n",
        "                          n_iter = 10)\n",
        "rand.fit(X, y);"
      ],
      "metadata": {
        "id": "oHBWmrcuK-fc"
      },
      "execution_count": null,
      "outputs": []
    },
    {
      "cell_type": "code",
      "source": [
        "rand.best_params_"
      ],
      "metadata": {
        "colab": {
          "base_uri": "https://localhost:8080/"
        },
        "id": "1GUWLbo9K-qF",
        "outputId": "7c45fa7a-c31a-4d7b-837d-4d71035f1996"
      },
      "execution_count": null,
      "outputs": [
        {
          "output_type": "execute_result",
          "data": {
            "text/plain": [
              "{'polynomialfeatures__degree': 4, 'linearregression__fit_intercept': False}"
            ]
          },
          "metadata": {},
          "execution_count": 31
        }
      ]
    },
    {
      "cell_type": "code",
      "source": [
        "model = rand.best_estimator_\n",
        "\n",
        "plt.scatter(X, y)\n",
        "\n",
        "X_test = np.linspace(-4.5, 8, 500)[:, None]\n",
        "y_test = model.fit(X, y).predict(X_test)\n",
        "plt.plot(X_test, y_test);"
      ],
      "metadata": {
        "id": "ErWLsz45LrQf",
        "outputId": "2b7123c5-7017-4b29-8fcc-815dd148e355",
        "colab": {
          "base_uri": "https://localhost:8080/",
          "height": 430
        }
      },
      "execution_count": null,
      "outputs": [
        {
          "output_type": "display_data",
          "data": {
            "text/plain": [
              "<Figure size 640x480 with 1 Axes>"
            ],
            "image/png": "[encoded data removed]"
          },
          "metadata": {}
        }
      ]
    }
  ],
  "metadata": {
    "colab": {
      "provenance": []
    },
    "kernelspec": {
      "display_name": "Python 3",
      "name": "python3"
    }
  },
  "nbformat": 4,
  "nbformat_minor": 0
}